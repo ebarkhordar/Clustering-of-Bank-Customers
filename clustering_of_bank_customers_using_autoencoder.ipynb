{
  "nbformat": 4,
  "nbformat_minor": 0,
  "metadata": {
    "accelerator": "TPU",
    "colab": {
      "name": "clustering_of_bank_customers_using_autoencoder.ipynb",
      "provenance": [],
      "collapsed_sections": [],
      "toc_visible": true,
      "include_colab_link": true
    },
    "kernelspec": {
      "display_name": "Python 3",
      "name": "python3"
    }
  },
  "cells": [
    {
      "cell_type": "markdown",
      "metadata": {
        "id": "view-in-github",
        "colab_type": "text"
      },
      "source": [
        "<a href=\"https://colab.research.google.com/github/ehsanbarkhordar/Clustering-of-Bank-Customers/blob/main/clustering_of_bank_customers_using_autoencoder.ipynb\" target=\"_parent\"><img src=\"https://colab.research.google.com/assets/colab-badge.svg\" alt=\"Open In Colab\"/></a>"
      ]
    },
    {
      "cell_type": "code",
      "metadata": {
        "colab": {
          "base_uri": "https://localhost:8080/"
        },
        "id": "HhWqg8jzLY7P",
        "outputId": "37ef2e6b-401b-45e6-ace4-84c170f12300"
      },
      "source": [
        "from google.colab import drive\n",
        "drive.mount('/content/gdrive', force_remount=False)"
      ],
      "execution_count": 1,
      "outputs": [
        {
          "output_type": "stream",
          "name": "stdout",
          "text": [
            "Mounted at /content/gdrive\n"
          ]
        }
      ]
    },
    {
      "cell_type": "code",
      "metadata": {
        "colab": {
          "base_uri": "https://localhost:8080/"
        },
        "id": "3q9vPBDV7mtJ",
        "outputId": "8f32aa88-afbd-4d1e-d8be-1d476173a83d"
      },
      "source": [
        "!pip install scikit-learn-extra\n",
        "!pip install kneed\n",
        "!pip install fuzzy-c-means\n",
        "!pip install dtaidistance\n",
        "!pip install pyclustering"
      ],
      "execution_count": 3,
      "outputs": [
        {
          "output_type": "stream",
          "name": "stdout",
          "text": [
            "Requirement already satisfied: scikit-learn-extra in /usr/local/lib/python3.7/dist-packages (0.2.0)\n",
            "Requirement already satisfied: numpy>=1.13.3 in /usr/local/lib/python3.7/dist-packages (from scikit-learn-extra) (1.21.2)\n",
            "Requirement already satisfied: scikit-learn>=0.23.0 in /usr/local/lib/python3.7/dist-packages (from scikit-learn-extra) (0.24.2)\n",
            "Requirement already satisfied: scipy>=0.19.1 in /usr/local/lib/python3.7/dist-packages (from scikit-learn-extra) (1.4.1)\n",
            "Requirement already satisfied: joblib>=0.11 in /usr/local/lib/python3.7/dist-packages (from scikit-learn>=0.23.0->scikit-learn-extra) (1.0.1)\n",
            "Requirement already satisfied: threadpoolctl>=2.0.0 in /usr/local/lib/python3.7/dist-packages (from scikit-learn>=0.23.0->scikit-learn-extra) (2.2.0)\n",
            "Requirement already satisfied: kneed in /usr/local/lib/python3.7/dist-packages (0.7.0)\n",
            "Requirement already satisfied: matplotlib in /usr/local/lib/python3.7/dist-packages (from kneed) (3.2.2)\n",
            "Requirement already satisfied: numpy>=1.14.2 in /usr/local/lib/python3.7/dist-packages (from kneed) (1.21.2)\n",
            "Requirement already satisfied: scipy in /usr/local/lib/python3.7/dist-packages (from kneed) (1.4.1)\n",
            "Requirement already satisfied: cycler>=0.10 in /usr/local/lib/python3.7/dist-packages (from matplotlib->kneed) (0.10.0)\n",
            "Requirement already satisfied: kiwisolver>=1.0.1 in /usr/local/lib/python3.7/dist-packages (from matplotlib->kneed) (1.3.2)\n",
            "Requirement already satisfied: pyparsing!=2.0.4,!=2.1.2,!=2.1.6,>=2.0.1 in /usr/local/lib/python3.7/dist-packages (from matplotlib->kneed) (2.4.7)\n",
            "Requirement already satisfied: python-dateutil>=2.1 in /usr/local/lib/python3.7/dist-packages (from matplotlib->kneed) (2.8.2)\n",
            "Requirement already satisfied: six in /usr/local/lib/python3.7/dist-packages (from cycler>=0.10->matplotlib->kneed) (1.15.0)\n",
            "Requirement already satisfied: fuzzy-c-means in /usr/local/lib/python3.7/dist-packages (1.6.3)\n",
            "Requirement already satisfied: numpy<2.0.0,>=1.21.1 in /usr/local/lib/python3.7/dist-packages (from fuzzy-c-means) (1.21.2)\n",
            "Requirement already satisfied: tabulate<0.9.0,>=0.8.9 in /usr/local/lib/python3.7/dist-packages (from fuzzy-c-means) (0.8.9)\n",
            "Requirement already satisfied: typer<0.4.0,>=0.3.2 in /usr/local/lib/python3.7/dist-packages (from fuzzy-c-means) (0.3.2)\n",
            "Requirement already satisfied: pydantic<2.0.0,>=1.8.2 in /usr/local/lib/python3.7/dist-packages (from fuzzy-c-means) (1.8.2)\n",
            "Requirement already satisfied: typing-extensions>=3.7.4.3 in /usr/local/lib/python3.7/dist-packages (from pydantic<2.0.0,>=1.8.2->fuzzy-c-means) (3.7.4.3)\n",
            "Requirement already satisfied: click<7.2.0,>=7.1.1 in /usr/local/lib/python3.7/dist-packages (from typer<0.4.0,>=0.3.2->fuzzy-c-means) (7.1.2)\n",
            "Requirement already satisfied: dtaidistance in /usr/local/lib/python3.7/dist-packages (2.3.2)\n",
            "Requirement already satisfied: numpy in /usr/local/lib/python3.7/dist-packages (from dtaidistance) (1.21.2)\n",
            "Requirement already satisfied: cython>=0.29.6 in /usr/local/lib/python3.7/dist-packages (from dtaidistance) (0.29.24)\n",
            "Requirement already satisfied: pyclustering in /usr/local/lib/python3.7/dist-packages (0.10.1.2)\n",
            "Requirement already satisfied: Pillow>=5.2.0 in /usr/local/lib/python3.7/dist-packages (from pyclustering) (7.1.2)\n",
            "Requirement already satisfied: numpy>=1.15.2 in /usr/local/lib/python3.7/dist-packages (from pyclustering) (1.21.2)\n",
            "Requirement already satisfied: scipy>=1.1.0 in /usr/local/lib/python3.7/dist-packages (from pyclustering) (1.4.1)\n",
            "Requirement already satisfied: matplotlib>=3.0.0 in /usr/local/lib/python3.7/dist-packages (from pyclustering) (3.2.2)\n",
            "Requirement already satisfied: cycler>=0.10 in /usr/local/lib/python3.7/dist-packages (from matplotlib>=3.0.0->pyclustering) (0.10.0)\n",
            "Requirement already satisfied: pyparsing!=2.0.4,!=2.1.2,!=2.1.6,>=2.0.1 in /usr/local/lib/python3.7/dist-packages (from matplotlib>=3.0.0->pyclustering) (2.4.7)\n",
            "Requirement already satisfied: python-dateutil>=2.1 in /usr/local/lib/python3.7/dist-packages (from matplotlib>=3.0.0->pyclustering) (2.8.2)\n",
            "Requirement already satisfied: kiwisolver>=1.0.1 in /usr/local/lib/python3.7/dist-packages (from matplotlib>=3.0.0->pyclustering) (1.3.2)\n",
            "Requirement already satisfied: six in /usr/local/lib/python3.7/dist-packages (from cycler>=0.10->matplotlib>=3.0.0->pyclustering) (1.15.0)\n"
          ]
        }
      ]
    },
    {
      "cell_type": "code",
      "metadata": {
        "id": "y4HcraYVIh7j"
      },
      "source": [
        "from keras.preprocessing.text import one_hot,Tokenizer\n",
        "from keras.preprocessing.sequence import pad_sequences\n",
        "from keras.models import Sequential, Model\n",
        "from keras.layers.core import Activation, Dropout, Dense\n",
        "from keras.layers.advanced_activations import PReLU, LeakyReLU\n",
        "\n",
        "from tensorflow import feature_column, keras\n",
        "from tensorflow.keras.utils import plot_model\n",
        "from tensorflow.keras import layers\n",
        "\n",
        "from keras.layers import Dense, LSTM, GRU, dot, Input, Embedding, \\\n",
        " TimeDistributed, Dropout, Bidirectional, Concatenate, GlobalMaxPooling1D\n",
        "\n",
        "from sklearn.datasets import make_blobs\n",
        "from sklearn.cluster import KMeans, DBSCAN, OPTICS, AffinityPropagation\n",
        "from sklearn.metrics import silhouette_samples, silhouette_score\n",
        "from sklearn.decomposition import PCA,TruncatedSVD,KernelPCA\n",
        "from sklearn.manifold import TSNE,MDS,Isomap\n",
        "from sklearn.model_selection import train_test_split\n",
        "from sklearn.preprocessing import LabelEncoder, OneHotEncoder, StandardScaler\n",
        "from sklearn.metrics.pairwise import pairwise_distances, euclidean_distances\n",
        "from sklearn.metrics import davies_bouldin_score \n",
        "from sklearn_extra.cluster import KMedoids\n",
        "from sklearn.discriminant_analysis import LinearDiscriminantAnalysis as LDA\n",
        "from sklearn.manifold import LocallyLinearEmbedding\n",
        "from dtaidistance import dtw, clustering\n",
        "from mpl_toolkits.mplot3d import Axes3D\n",
        "from numpy import unique\n",
        "from numpy import where\n",
        "from kneed import KneeLocator\n",
        "from os import listdir\n",
        "from os.path import isfile, join\n",
        "from random import randrange\n",
        "from tqdm import tqdm\n",
        "\n",
        "import pandas as pd\n",
        "import numpy as np\n",
        "import tensorflow as tf\n",
        "import matplotlib.pyplot as plt\n",
        "import matplotlib.cm as cm\n",
        "import pickle\n",
        "import datetime\n",
        "import plotly.express as px\n",
        "import plotly.graph_objects as go"
      ],
      "execution_count": 4,
      "outputs": []
    },
    {
      "cell_type": "code",
      "metadata": {
        "colab": {
          "base_uri": "https://localhost:8080/"
        },
        "id": "BpBu0uxjL_kg",
        "outputId": "e13a8747-8f94-4950-c7a8-379b44cd77c0"
      },
      "source": [
        "my_drive_path = '/content/gdrive/MyDrive/'\n",
        "dataset_path = my_drive_path + '/lpetrocelli-retail-banking-demo-data/'\n",
        "onlyfiles = [f for f in listdir(dataset_path) if isfile(join(dataset_path, f))]\n",
        "onlyfiles"
      ],
      "execution_count": 5,
      "outputs": [
        {
          "output_type": "execute_result",
          "data": {
            "text/plain": [
              "['CRM Call Center Logs.csv',\n",
              " 'CRM Events.csv',\n",
              " 'completedcard.csv',\n",
              " 'LuxuryLoanPortfolio.csv',\n",
              " 'completedorder.csv',\n",
              " 'completedloan.csv',\n",
              " 'completedclient.csv',\n",
              " 'completedacct.csv',\n",
              " 'completedtrans.csv',\n",
              " 'completeddistrict.csv',\n",
              " 'CRM Reviews.csv',\n",
              " 'completeddisposition.csv',\n",
              " 'completedclient_edited.csv']"
            ]
          },
          "metadata": {},
          "execution_count": 5
        }
      ]
    },
    {
      "cell_type": "code",
      "metadata": {
        "id": "tNZMfeKELyuW"
      },
      "source": [
        "# Import Clients\n",
        "df_clients_origin = pd.read_csv(dataset_path+'completedclient_edited.csv', index_col=[0], low_memory=False)\n",
        "# Import Transactions\n",
        "df_transactions_origin = pd.read_csv(dataset_path+'completedtrans.csv', index_col=[0], low_memory=False)\n",
        "# Import Positions\n",
        "df_positions_origin = pd.read_csv(dataset_path+'completeddisposition.csv', index_col=[0], low_memory=False)"
      ],
      "execution_count": 6,
      "outputs": []
    },
    {
      "cell_type": "code",
      "metadata": {
        "id": "sn2g7c3Gsc3I"
      },
      "source": [
        "# Convert city to latitude and longitude\n",
        "\n",
        "# from geopy import geocoders\n",
        "# cities_list = list(df_clients_origin['city'].unique())\n",
        "# cities_dict = {}\n",
        "# for c in tqdm(cities_list):\n",
        "#   gn = geocoders.GeoNames(username='barkhordar',timeout=10)\n",
        "#   location = gn.geocode(c)\n",
        "#   cities_dict[c] = [location.latitude , location.longitude]"
      ],
      "execution_count": 7,
      "outputs": []
    },
    {
      "cell_type": "code",
      "metadata": {
        "colab": {
          "base_uri": "https://localhost:8080/",
          "height": 736
        },
        "id": "qzilNdSENJ2n",
        "outputId": "ccb3771b-aaa0-4871-ec4e-94961f050c34"
      },
      "source": [
        "df_clients = df_clients_origin.join(df_positions_origin.set_index('client_id'), on='client_id')\n",
        "df_clients"
      ],
      "execution_count": 8,
      "outputs": [
        {
          "output_type": "execute_result",
          "data": {
            "text/html": [
              "<div>\n",
              "<style scoped>\n",
              "    .dataframe tbody tr th:only-of-type {\n",
              "        vertical-align: middle;\n",
              "    }\n",
              "\n",
              "    .dataframe tbody tr th {\n",
              "        vertical-align: top;\n",
              "    }\n",
              "\n",
              "    .dataframe thead th {\n",
              "        text-align: right;\n",
              "    }\n",
              "</style>\n",
              "<table border=\"1\" class=\"dataframe\">\n",
              "  <thead>\n",
              "    <tr style=\"text-align: right;\">\n",
              "      <th></th>\n",
              "      <th>sex</th>\n",
              "      <th>fulldate</th>\n",
              "      <th>day</th>\n",
              "      <th>month</th>\n",
              "      <th>year</th>\n",
              "      <th>age</th>\n",
              "      <th>social</th>\n",
              "      <th>first</th>\n",
              "      <th>middle</th>\n",
              "      <th>last</th>\n",
              "      <th>phone</th>\n",
              "      <th>email</th>\n",
              "      <th>address_1</th>\n",
              "      <th>address_2</th>\n",
              "      <th>city</th>\n",
              "      <th>state</th>\n",
              "      <th>zipcode</th>\n",
              "      <th>district_id</th>\n",
              "      <th>latitude</th>\n",
              "      <th>longitude</th>\n",
              "      <th>account_id</th>\n",
              "      <th>type</th>\n",
              "    </tr>\n",
              "    <tr>\n",
              "      <th>client_id</th>\n",
              "      <th></th>\n",
              "      <th></th>\n",
              "      <th></th>\n",
              "      <th></th>\n",
              "      <th></th>\n",
              "      <th></th>\n",
              "      <th></th>\n",
              "      <th></th>\n",
              "      <th></th>\n",
              "      <th></th>\n",
              "      <th></th>\n",
              "      <th></th>\n",
              "      <th></th>\n",
              "      <th></th>\n",
              "      <th></th>\n",
              "      <th></th>\n",
              "      <th></th>\n",
              "      <th></th>\n",
              "      <th></th>\n",
              "      <th></th>\n",
              "      <th></th>\n",
              "      <th></th>\n",
              "    </tr>\n",
              "  </thead>\n",
              "  <tbody>\n",
              "    <tr>\n",
              "      <th>C00000001</th>\n",
              "      <td>Female</td>\n",
              "      <td>1990-12-13</td>\n",
              "      <td>13</td>\n",
              "      <td>12</td>\n",
              "      <td>1990</td>\n",
              "      <td>29</td>\n",
              "      <td>926-93-2157</td>\n",
              "      <td>Emma</td>\n",
              "      <td>Avaya</td>\n",
              "      <td>Smith</td>\n",
              "      <td>367-171-6840</td>\n",
              "      <td>emma.smith@gmail.com</td>\n",
              "      <td>387 Wellington Ave.</td>\n",
              "      <td>Unit 1</td>\n",
              "      <td>Albuquerque</td>\n",
              "      <td>NM</td>\n",
              "      <td>47246</td>\n",
              "      <td>18</td>\n",
              "      <td>35.08449</td>\n",
              "      <td>-106.65114</td>\n",
              "      <td>A00000001</td>\n",
              "      <td>Owner</td>\n",
              "    </tr>\n",
              "    <tr>\n",
              "      <th>C00000002</th>\n",
              "      <td>Male</td>\n",
              "      <td>1965-02-04</td>\n",
              "      <td>4</td>\n",
              "      <td>2</td>\n",
              "      <td>1965</td>\n",
              "      <td>54</td>\n",
              "      <td>806-94-5725</td>\n",
              "      <td>Noah</td>\n",
              "      <td>Everest</td>\n",
              "      <td>Thompson</td>\n",
              "      <td>212-423-7734</td>\n",
              "      <td>noah.thompson@gmail.com</td>\n",
              "      <td>75 W. Berkshire St.</td>\n",
              "      <td>NaN</td>\n",
              "      <td>New York City</td>\n",
              "      <td>NY</td>\n",
              "      <td>10040</td>\n",
              "      <td>1</td>\n",
              "      <td>40.71427</td>\n",
              "      <td>-74.00597</td>\n",
              "      <td>A00000002</td>\n",
              "      <td>Owner</td>\n",
              "    </tr>\n",
              "    <tr>\n",
              "      <th>C00000003</th>\n",
              "      <td>Female</td>\n",
              "      <td>1960-10-09</td>\n",
              "      <td>9</td>\n",
              "      <td>10</td>\n",
              "      <td>1960</td>\n",
              "      <td>59</td>\n",
              "      <td>614-70-9100</td>\n",
              "      <td>Olivia</td>\n",
              "      <td>Brooklynne</td>\n",
              "      <td>Johnson</td>\n",
              "      <td>212-425-6932</td>\n",
              "      <td>olivia.johnson@outlook.com</td>\n",
              "      <td>36 Second St.</td>\n",
              "      <td>NaN</td>\n",
              "      <td>New York City</td>\n",
              "      <td>NY</td>\n",
              "      <td>10162</td>\n",
              "      <td>1</td>\n",
              "      <td>40.71427</td>\n",
              "      <td>-74.00597</td>\n",
              "      <td>A00000002</td>\n",
              "      <td>User</td>\n",
              "    </tr>\n",
              "    <tr>\n",
              "      <th>C00000004</th>\n",
              "      <td>Male</td>\n",
              "      <td>1976-12-01</td>\n",
              "      <td>1</td>\n",
              "      <td>12</td>\n",
              "      <td>1976</td>\n",
              "      <td>43</td>\n",
              "      <td>580-20-3414</td>\n",
              "      <td>Liam</td>\n",
              "      <td>Irvin</td>\n",
              "      <td>White</td>\n",
              "      <td>951-567-8925</td>\n",
              "      <td>liam.white@gmail.com</td>\n",
              "      <td>7607 Sunnyslope Street</td>\n",
              "      <td>NaN</td>\n",
              "      <td>Indianapolis</td>\n",
              "      <td>IN</td>\n",
              "      <td>49047</td>\n",
              "      <td>5</td>\n",
              "      <td>39.76838</td>\n",
              "      <td>-86.15804</td>\n",
              "      <td>A00000003</td>\n",
              "      <td>Owner</td>\n",
              "    </tr>\n",
              "    <tr>\n",
              "      <th>C00000005</th>\n",
              "      <td>Female</td>\n",
              "      <td>1980-07-03</td>\n",
              "      <td>3</td>\n",
              "      <td>7</td>\n",
              "      <td>1980</td>\n",
              "      <td>39</td>\n",
              "      <td>536-14-5809</td>\n",
              "      <td>Sophia</td>\n",
              "      <td>Danae</td>\n",
              "      <td>Williams</td>\n",
              "      <td>428-265-1568</td>\n",
              "      <td>sophia.williams@gmail.com</td>\n",
              "      <td>755 Galvin Street</td>\n",
              "      <td>NaN</td>\n",
              "      <td>Indianapolis</td>\n",
              "      <td>IN</td>\n",
              "      <td>40852</td>\n",
              "      <td>5</td>\n",
              "      <td>39.76838</td>\n",
              "      <td>-86.15804</td>\n",
              "      <td>A00000003</td>\n",
              "      <td>User</td>\n",
              "    </tr>\n",
              "    <tr>\n",
              "      <th>...</th>\n",
              "      <td>...</td>\n",
              "      <td>...</td>\n",
              "      <td>...</td>\n",
              "      <td>...</td>\n",
              "      <td>...</td>\n",
              "      <td>...</td>\n",
              "      <td>...</td>\n",
              "      <td>...</td>\n",
              "      <td>...</td>\n",
              "      <td>...</td>\n",
              "      <td>...</td>\n",
              "      <td>...</td>\n",
              "      <td>...</td>\n",
              "      <td>...</td>\n",
              "      <td>...</td>\n",
              "      <td>...</td>\n",
              "      <td>...</td>\n",
              "      <td>...</td>\n",
              "      <td>...</td>\n",
              "      <td>...</td>\n",
              "      <td>...</td>\n",
              "      <td>...</td>\n",
              "    </tr>\n",
              "    <tr>\n",
              "      <th>C00013955</th>\n",
              "      <td>Female</td>\n",
              "      <td>1965-10-30</td>\n",
              "      <td>30</td>\n",
              "      <td>10</td>\n",
              "      <td>1965</td>\n",
              "      <td>54</td>\n",
              "      <td>830-38-3530</td>\n",
              "      <td>Adrianna</td>\n",
              "      <td>Jillian</td>\n",
              "      <td>Moore</td>\n",
              "      <td>212-205-7422</td>\n",
              "      <td>adrianna.moore@outlook.com</td>\n",
              "      <td>9405 SW. Leeton Ridge Drive</td>\n",
              "      <td>NaN</td>\n",
              "      <td>New York City</td>\n",
              "      <td>NY</td>\n",
              "      <td>10121</td>\n",
              "      <td>1</td>\n",
              "      <td>40.71427</td>\n",
              "      <td>-74.00597</td>\n",
              "      <td>A00011349</td>\n",
              "      <td>Owner</td>\n",
              "    </tr>\n",
              "    <tr>\n",
              "      <th>C00013956</th>\n",
              "      <td>Male</td>\n",
              "      <td>1963-04-06</td>\n",
              "      <td>6</td>\n",
              "      <td>4</td>\n",
              "      <td>1963</td>\n",
              "      <td>56</td>\n",
              "      <td>773-25-4409</td>\n",
              "      <td>Aaron</td>\n",
              "      <td>Roman</td>\n",
              "      <td>Park</td>\n",
              "      <td>212-645-8820</td>\n",
              "      <td>aaron.park@gmail.com</td>\n",
              "      <td>7021 Chapel Ave.</td>\n",
              "      <td>NaN</td>\n",
              "      <td>New York City</td>\n",
              "      <td>NY</td>\n",
              "      <td>10118</td>\n",
              "      <td>1</td>\n",
              "      <td>40.71427</td>\n",
              "      <td>-74.00597</td>\n",
              "      <td>A00011349</td>\n",
              "      <td>User</td>\n",
              "    </tr>\n",
              "    <tr>\n",
              "      <th>C00013968</th>\n",
              "      <td>Male</td>\n",
              "      <td>1988-04-13</td>\n",
              "      <td>13</td>\n",
              "      <td>4</td>\n",
              "      <td>1988</td>\n",
              "      <td>31</td>\n",
              "      <td>227-17-0778</td>\n",
              "      <td>Eli</td>\n",
              "      <td>Leonardo</td>\n",
              "      <td>Warner</td>\n",
              "      <td>508-465-5164</td>\n",
              "      <td>eli.warner@hotmail.com</td>\n",
              "      <td>43 Edgemont Dr.</td>\n",
              "      <td>NaN</td>\n",
              "      <td>Fall River</td>\n",
              "      <td>MA</td>\n",
              "      <td>2721</td>\n",
              "      <td>61</td>\n",
              "      <td>41.70149</td>\n",
              "      <td>-71.15505</td>\n",
              "      <td>A00011359</td>\n",
              "      <td>Owner</td>\n",
              "    </tr>\n",
              "    <tr>\n",
              "      <th>C00013971</th>\n",
              "      <td>Female</td>\n",
              "      <td>1982-10-19</td>\n",
              "      <td>19</td>\n",
              "      <td>10</td>\n",
              "      <td>1982</td>\n",
              "      <td>37</td>\n",
              "      <td>278-77-3298</td>\n",
              "      <td>Ruth</td>\n",
              "      <td>Joy</td>\n",
              "      <td>Martin</td>\n",
              "      <td>856-636-3840</td>\n",
              "      <td>ruth.martin@gmail.com</td>\n",
              "      <td>7087 E. Pennsylvania Street</td>\n",
              "      <td>Unit 8</td>\n",
              "      <td>Danbury</td>\n",
              "      <td>CT</td>\n",
              "      <td>48475</td>\n",
              "      <td>67</td>\n",
              "      <td>41.39482</td>\n",
              "      <td>-73.45401</td>\n",
              "      <td>A00011362</td>\n",
              "      <td>Owner</td>\n",
              "    </tr>\n",
              "    <tr>\n",
              "      <th>C00013998</th>\n",
              "      <td>Female</td>\n",
              "      <td>1973-08-12</td>\n",
              "      <td>12</td>\n",
              "      <td>8</td>\n",
              "      <td>1973</td>\n",
              "      <td>46</td>\n",
              "      <td>266-21-2541</td>\n",
              "      <td>Miriam</td>\n",
              "      <td>Abby</td>\n",
              "      <td>Jackson</td>\n",
              "      <td>431-633-5403</td>\n",
              "      <td>miriam.jackson@gmail.com</td>\n",
              "      <td>29 Buckingham Rd.</td>\n",
              "      <td>NaN</td>\n",
              "      <td>Chicago</td>\n",
              "      <td>IL</td>\n",
              "      <td>44244</td>\n",
              "      <td>74</td>\n",
              "      <td>41.85003</td>\n",
              "      <td>-87.65005</td>\n",
              "      <td>A00011382</td>\n",
              "      <td>Owner</td>\n",
              "    </tr>\n",
              "  </tbody>\n",
              "</table>\n",
              "<p>5369 rows × 22 columns</p>\n",
              "</div>"
            ],
            "text/plain": [
              "              sex    fulldate  day  ...  longitude  account_id   type\n",
              "client_id                           ...                              \n",
              "C00000001  Female  1990-12-13   13  ... -106.65114   A00000001  Owner\n",
              "C00000002    Male  1965-02-04    4  ...  -74.00597   A00000002  Owner\n",
              "C00000003  Female  1960-10-09    9  ...  -74.00597   A00000002   User\n",
              "C00000004    Male  1976-12-01    1  ...  -86.15804   A00000003  Owner\n",
              "C00000005  Female  1980-07-03    3  ...  -86.15804   A00000003   User\n",
              "...           ...         ...  ...  ...        ...         ...    ...\n",
              "C00013955  Female  1965-10-30   30  ...  -74.00597   A00011349  Owner\n",
              "C00013956    Male  1963-04-06    6  ...  -74.00597   A00011349   User\n",
              "C00013968    Male  1988-04-13   13  ...  -71.15505   A00011359  Owner\n",
              "C00013971  Female  1982-10-19   19  ...  -73.45401   A00011362  Owner\n",
              "C00013998  Female  1973-08-12   12  ...  -87.65005   A00011382  Owner\n",
              "\n",
              "[5369 rows x 22 columns]"
            ]
          },
          "metadata": {},
          "execution_count": 8
        }
      ]
    },
    {
      "cell_type": "code",
      "metadata": {
        "colab": {
          "base_uri": "https://localhost:8080/",
          "height": 455
        },
        "id": "3-8u8oUzP3_c",
        "outputId": "4d7bc46b-9cb5-49e5-d5f3-364b8fbbc816"
      },
      "source": [
        "df_clients[['account_id','sex','age','city']]"
      ],
      "execution_count": 9,
      "outputs": [
        {
          "output_type": "execute_result",
          "data": {
            "text/html": [
              "<div>\n",
              "<style scoped>\n",
              "    .dataframe tbody tr th:only-of-type {\n",
              "        vertical-align: middle;\n",
              "    }\n",
              "\n",
              "    .dataframe tbody tr th {\n",
              "        vertical-align: top;\n",
              "    }\n",
              "\n",
              "    .dataframe thead th {\n",
              "        text-align: right;\n",
              "    }\n",
              "</style>\n",
              "<table border=\"1\" class=\"dataframe\">\n",
              "  <thead>\n",
              "    <tr style=\"text-align: right;\">\n",
              "      <th></th>\n",
              "      <th>account_id</th>\n",
              "      <th>sex</th>\n",
              "      <th>age</th>\n",
              "      <th>city</th>\n",
              "    </tr>\n",
              "    <tr>\n",
              "      <th>client_id</th>\n",
              "      <th></th>\n",
              "      <th></th>\n",
              "      <th></th>\n",
              "      <th></th>\n",
              "    </tr>\n",
              "  </thead>\n",
              "  <tbody>\n",
              "    <tr>\n",
              "      <th>C00000001</th>\n",
              "      <td>A00000001</td>\n",
              "      <td>Female</td>\n",
              "      <td>29</td>\n",
              "      <td>Albuquerque</td>\n",
              "    </tr>\n",
              "    <tr>\n",
              "      <th>C00000002</th>\n",
              "      <td>A00000002</td>\n",
              "      <td>Male</td>\n",
              "      <td>54</td>\n",
              "      <td>New York City</td>\n",
              "    </tr>\n",
              "    <tr>\n",
              "      <th>C00000003</th>\n",
              "      <td>A00000002</td>\n",
              "      <td>Female</td>\n",
              "      <td>59</td>\n",
              "      <td>New York City</td>\n",
              "    </tr>\n",
              "    <tr>\n",
              "      <th>C00000004</th>\n",
              "      <td>A00000003</td>\n",
              "      <td>Male</td>\n",
              "      <td>43</td>\n",
              "      <td>Indianapolis</td>\n",
              "    </tr>\n",
              "    <tr>\n",
              "      <th>C00000005</th>\n",
              "      <td>A00000003</td>\n",
              "      <td>Female</td>\n",
              "      <td>39</td>\n",
              "      <td>Indianapolis</td>\n",
              "    </tr>\n",
              "    <tr>\n",
              "      <th>...</th>\n",
              "      <td>...</td>\n",
              "      <td>...</td>\n",
              "      <td>...</td>\n",
              "      <td>...</td>\n",
              "    </tr>\n",
              "    <tr>\n",
              "      <th>C00013955</th>\n",
              "      <td>A00011349</td>\n",
              "      <td>Female</td>\n",
              "      <td>54</td>\n",
              "      <td>New York City</td>\n",
              "    </tr>\n",
              "    <tr>\n",
              "      <th>C00013956</th>\n",
              "      <td>A00011349</td>\n",
              "      <td>Male</td>\n",
              "      <td>56</td>\n",
              "      <td>New York City</td>\n",
              "    </tr>\n",
              "    <tr>\n",
              "      <th>C00013968</th>\n",
              "      <td>A00011359</td>\n",
              "      <td>Male</td>\n",
              "      <td>31</td>\n",
              "      <td>Fall River</td>\n",
              "    </tr>\n",
              "    <tr>\n",
              "      <th>C00013971</th>\n",
              "      <td>A00011362</td>\n",
              "      <td>Female</td>\n",
              "      <td>37</td>\n",
              "      <td>Danbury</td>\n",
              "    </tr>\n",
              "    <tr>\n",
              "      <th>C00013998</th>\n",
              "      <td>A00011382</td>\n",
              "      <td>Female</td>\n",
              "      <td>46</td>\n",
              "      <td>Chicago</td>\n",
              "    </tr>\n",
              "  </tbody>\n",
              "</table>\n",
              "<p>5369 rows × 4 columns</p>\n",
              "</div>"
            ],
            "text/plain": [
              "          account_id     sex  age           city\n",
              "client_id                                       \n",
              "C00000001  A00000001  Female   29    Albuquerque\n",
              "C00000002  A00000002    Male   54  New York City\n",
              "C00000003  A00000002  Female   59  New York City\n",
              "C00000004  A00000003    Male   43   Indianapolis\n",
              "C00000005  A00000003  Female   39   Indianapolis\n",
              "...              ...     ...  ...            ...\n",
              "C00013955  A00011349  Female   54  New York City\n",
              "C00013956  A00011349    Male   56  New York City\n",
              "C00013968  A00011359    Male   31     Fall River\n",
              "C00013971  A00011362  Female   37        Danbury\n",
              "C00013998  A00011382  Female   46        Chicago\n",
              "\n",
              "[5369 rows x 4 columns]"
            ]
          },
          "metadata": {},
          "execution_count": 9
        }
      ]
    },
    {
      "cell_type": "code",
      "metadata": {
        "id": "6HnrmkE5KmJj"
      },
      "source": [
        "df_clients_onehot = pd.DataFrame()\n",
        "df_clients_onehot['account_id']=df_clients['account_id']"
      ],
      "execution_count": 10,
      "outputs": []
    },
    {
      "cell_type": "code",
      "metadata": {
        "id": "EZt602FzLXqh"
      },
      "source": [
        "sex_dict = {'Male':1.0,'Female':0.0}\n",
        "df_clients_onehot['sex'] = df_clients['sex'].apply(lambda x: sex_dict.get(x))\n",
        "df_clients_onehot[\"age\"] = df_clients['age']"
      ],
      "execution_count": 11,
      "outputs": []
    },
    {
      "cell_type": "code",
      "metadata": {
        "id": "vV7in1BZz27y"
      },
      "source": [
        "df_clients_onehot[\"latitude\"] = df_clients[\"latitude\"]\n",
        "df_clients_onehot[\"longitude\"] = df_clients[\"longitude\"]"
      ],
      "execution_count": 12,
      "outputs": []
    },
    {
      "cell_type": "code",
      "metadata": {
        "colab": {
          "base_uri": "https://localhost:8080/",
          "height": 455
        },
        "id": "bOWOgjmueqPq",
        "outputId": "4c419dc6-d159-489d-9831-4d4b80f33b41"
      },
      "source": [
        "df_clients_onehot"
      ],
      "execution_count": 13,
      "outputs": [
        {
          "output_type": "execute_result",
          "data": {
            "text/html": [
              "<div>\n",
              "<style scoped>\n",
              "    .dataframe tbody tr th:only-of-type {\n",
              "        vertical-align: middle;\n",
              "    }\n",
              "\n",
              "    .dataframe tbody tr th {\n",
              "        vertical-align: top;\n",
              "    }\n",
              "\n",
              "    .dataframe thead th {\n",
              "        text-align: right;\n",
              "    }\n",
              "</style>\n",
              "<table border=\"1\" class=\"dataframe\">\n",
              "  <thead>\n",
              "    <tr style=\"text-align: right;\">\n",
              "      <th></th>\n",
              "      <th>account_id</th>\n",
              "      <th>sex</th>\n",
              "      <th>age</th>\n",
              "      <th>latitude</th>\n",
              "      <th>longitude</th>\n",
              "    </tr>\n",
              "    <tr>\n",
              "      <th>client_id</th>\n",
              "      <th></th>\n",
              "      <th></th>\n",
              "      <th></th>\n",
              "      <th></th>\n",
              "      <th></th>\n",
              "    </tr>\n",
              "  </thead>\n",
              "  <tbody>\n",
              "    <tr>\n",
              "      <th>C00000001</th>\n",
              "      <td>A00000001</td>\n",
              "      <td>0.0</td>\n",
              "      <td>29</td>\n",
              "      <td>35.08449</td>\n",
              "      <td>-106.65114</td>\n",
              "    </tr>\n",
              "    <tr>\n",
              "      <th>C00000002</th>\n",
              "      <td>A00000002</td>\n",
              "      <td>1.0</td>\n",
              "      <td>54</td>\n",
              "      <td>40.71427</td>\n",
              "      <td>-74.00597</td>\n",
              "    </tr>\n",
              "    <tr>\n",
              "      <th>C00000003</th>\n",
              "      <td>A00000002</td>\n",
              "      <td>0.0</td>\n",
              "      <td>59</td>\n",
              "      <td>40.71427</td>\n",
              "      <td>-74.00597</td>\n",
              "    </tr>\n",
              "    <tr>\n",
              "      <th>C00000004</th>\n",
              "      <td>A00000003</td>\n",
              "      <td>1.0</td>\n",
              "      <td>43</td>\n",
              "      <td>39.76838</td>\n",
              "      <td>-86.15804</td>\n",
              "    </tr>\n",
              "    <tr>\n",
              "      <th>C00000005</th>\n",
              "      <td>A00000003</td>\n",
              "      <td>0.0</td>\n",
              "      <td>39</td>\n",
              "      <td>39.76838</td>\n",
              "      <td>-86.15804</td>\n",
              "    </tr>\n",
              "    <tr>\n",
              "      <th>...</th>\n",
              "      <td>...</td>\n",
              "      <td>...</td>\n",
              "      <td>...</td>\n",
              "      <td>...</td>\n",
              "      <td>...</td>\n",
              "    </tr>\n",
              "    <tr>\n",
              "      <th>C00013955</th>\n",
              "      <td>A00011349</td>\n",
              "      <td>0.0</td>\n",
              "      <td>54</td>\n",
              "      <td>40.71427</td>\n",
              "      <td>-74.00597</td>\n",
              "    </tr>\n",
              "    <tr>\n",
              "      <th>C00013956</th>\n",
              "      <td>A00011349</td>\n",
              "      <td>1.0</td>\n",
              "      <td>56</td>\n",
              "      <td>40.71427</td>\n",
              "      <td>-74.00597</td>\n",
              "    </tr>\n",
              "    <tr>\n",
              "      <th>C00013968</th>\n",
              "      <td>A00011359</td>\n",
              "      <td>1.0</td>\n",
              "      <td>31</td>\n",
              "      <td>41.70149</td>\n",
              "      <td>-71.15505</td>\n",
              "    </tr>\n",
              "    <tr>\n",
              "      <th>C00013971</th>\n",
              "      <td>A00011362</td>\n",
              "      <td>0.0</td>\n",
              "      <td>37</td>\n",
              "      <td>41.39482</td>\n",
              "      <td>-73.45401</td>\n",
              "    </tr>\n",
              "    <tr>\n",
              "      <th>C00013998</th>\n",
              "      <td>A00011382</td>\n",
              "      <td>0.0</td>\n",
              "      <td>46</td>\n",
              "      <td>41.85003</td>\n",
              "      <td>-87.65005</td>\n",
              "    </tr>\n",
              "  </tbody>\n",
              "</table>\n",
              "<p>5369 rows × 5 columns</p>\n",
              "</div>"
            ],
            "text/plain": [
              "          account_id  sex  age  latitude  longitude\n",
              "client_id                                          \n",
              "C00000001  A00000001  0.0   29  35.08449 -106.65114\n",
              "C00000002  A00000002  1.0   54  40.71427  -74.00597\n",
              "C00000003  A00000002  0.0   59  40.71427  -74.00597\n",
              "C00000004  A00000003  1.0   43  39.76838  -86.15804\n",
              "C00000005  A00000003  0.0   39  39.76838  -86.15804\n",
              "...              ...  ...  ...       ...        ...\n",
              "C00013955  A00011349  0.0   54  40.71427  -74.00597\n",
              "C00013956  A00011349  1.0   56  40.71427  -74.00597\n",
              "C00013968  A00011359  1.0   31  41.70149  -71.15505\n",
              "C00013971  A00011362  0.0   37  41.39482  -73.45401\n",
              "C00013998  A00011382  0.0   46  41.85003  -87.65005\n",
              "\n",
              "[5369 rows x 5 columns]"
            ]
          },
          "metadata": {},
          "execution_count": 13
        }
      ]
    },
    {
      "cell_type": "code",
      "metadata": {
        "colab": {
          "base_uri": "https://localhost:8080/",
          "height": 455
        },
        "id": "t9CwFX9PU4XH",
        "outputId": "f53cb906-4ca3-423e-e8c4-22d7c2c27ca2"
      },
      "source": [
        "df = df_clients_onehot\n",
        "df = df [['sex','latitude','longitude','age']]\n",
        "df_clients_normalized=(df-df.mean())/df.std()\n",
        "df_clients_normalized['account_id']=df_clients_onehot['account_id']\n",
        "df_clients_normalized"
      ],
      "execution_count": 14,
      "outputs": [
        {
          "output_type": "execute_result",
          "data": {
            "text/html": [
              "<div>\n",
              "<style scoped>\n",
              "    .dataframe tbody tr th:only-of-type {\n",
              "        vertical-align: middle;\n",
              "    }\n",
              "\n",
              "    .dataframe tbody tr th {\n",
              "        vertical-align: top;\n",
              "    }\n",
              "\n",
              "    .dataframe thead th {\n",
              "        text-align: right;\n",
              "    }\n",
              "</style>\n",
              "<table border=\"1\" class=\"dataframe\">\n",
              "  <thead>\n",
              "    <tr style=\"text-align: right;\">\n",
              "      <th></th>\n",
              "      <th>sex</th>\n",
              "      <th>latitude</th>\n",
              "      <th>longitude</th>\n",
              "      <th>age</th>\n",
              "      <th>account_id</th>\n",
              "    </tr>\n",
              "    <tr>\n",
              "      <th>client_id</th>\n",
              "      <th></th>\n",
              "      <th></th>\n",
              "      <th></th>\n",
              "      <th></th>\n",
              "      <th></th>\n",
              "    </tr>\n",
              "  </thead>\n",
              "  <tbody>\n",
              "    <tr>\n",
              "      <th>C00000001</th>\n",
              "      <td>-1.014729</td>\n",
              "      <td>-0.163898</td>\n",
              "      <td>-0.646533</td>\n",
              "      <td>-0.977190</td>\n",
              "      <td>A00000001</td>\n",
              "    </tr>\n",
              "    <tr>\n",
              "      <th>C00000002</th>\n",
              "      <td>0.985301</td>\n",
              "      <td>0.249069</td>\n",
              "      <td>0.091451</td>\n",
              "      <td>0.468980</td>\n",
              "      <td>A00000002</td>\n",
              "    </tr>\n",
              "    <tr>\n",
              "      <th>C00000003</th>\n",
              "      <td>-1.014729</td>\n",
              "      <td>0.249069</td>\n",
              "      <td>0.091451</td>\n",
              "      <td>0.758214</td>\n",
              "      <td>A00000002</td>\n",
              "    </tr>\n",
              "    <tr>\n",
              "      <th>C00000004</th>\n",
              "      <td>0.985301</td>\n",
              "      <td>0.179684</td>\n",
              "      <td>-0.183262</td>\n",
              "      <td>-0.167334</td>\n",
              "      <td>A00000003</td>\n",
              "    </tr>\n",
              "    <tr>\n",
              "      <th>C00000005</th>\n",
              "      <td>-1.014729</td>\n",
              "      <td>0.179684</td>\n",
              "      <td>-0.183262</td>\n",
              "      <td>-0.398722</td>\n",
              "      <td>A00000003</td>\n",
              "    </tr>\n",
              "    <tr>\n",
              "      <th>...</th>\n",
              "      <td>...</td>\n",
              "      <td>...</td>\n",
              "      <td>...</td>\n",
              "      <td>...</td>\n",
              "      <td>...</td>\n",
              "    </tr>\n",
              "    <tr>\n",
              "      <th>C00013955</th>\n",
              "      <td>-1.014729</td>\n",
              "      <td>0.249069</td>\n",
              "      <td>0.091451</td>\n",
              "      <td>0.468980</td>\n",
              "      <td>A00011349</td>\n",
              "    </tr>\n",
              "    <tr>\n",
              "      <th>C00013956</th>\n",
              "      <td>0.985301</td>\n",
              "      <td>0.249069</td>\n",
              "      <td>0.091451</td>\n",
              "      <td>0.584674</td>\n",
              "      <td>A00011349</td>\n",
              "    </tr>\n",
              "    <tr>\n",
              "      <th>C00013968</th>\n",
              "      <td>0.985301</td>\n",
              "      <td>0.321486</td>\n",
              "      <td>0.155899</td>\n",
              "      <td>-0.861496</td>\n",
              "      <td>A00011359</td>\n",
              "    </tr>\n",
              "    <tr>\n",
              "      <th>C00013971</th>\n",
              "      <td>-1.014729</td>\n",
              "      <td>0.298990</td>\n",
              "      <td>0.103928</td>\n",
              "      <td>-0.514415</td>\n",
              "      <td>A00011362</td>\n",
              "    </tr>\n",
              "    <tr>\n",
              "      <th>C00013998</th>\n",
              "      <td>-1.014729</td>\n",
              "      <td>0.332382</td>\n",
              "      <td>-0.216990</td>\n",
              "      <td>0.006206</td>\n",
              "      <td>A00011382</td>\n",
              "    </tr>\n",
              "  </tbody>\n",
              "</table>\n",
              "<p>5369 rows × 5 columns</p>\n",
              "</div>"
            ],
            "text/plain": [
              "                sex  latitude  longitude       age account_id\n",
              "client_id                                                    \n",
              "C00000001 -1.014729 -0.163898  -0.646533 -0.977190  A00000001\n",
              "C00000002  0.985301  0.249069   0.091451  0.468980  A00000002\n",
              "C00000003 -1.014729  0.249069   0.091451  0.758214  A00000002\n",
              "C00000004  0.985301  0.179684  -0.183262 -0.167334  A00000003\n",
              "C00000005 -1.014729  0.179684  -0.183262 -0.398722  A00000003\n",
              "...             ...       ...        ...       ...        ...\n",
              "C00013955 -1.014729  0.249069   0.091451  0.468980  A00011349\n",
              "C00013956  0.985301  0.249069   0.091451  0.584674  A00011349\n",
              "C00013968  0.985301  0.321486   0.155899 -0.861496  A00011359\n",
              "C00013971 -1.014729  0.298990   0.103928 -0.514415  A00011362\n",
              "C00013998 -1.014729  0.332382  -0.216990  0.006206  A00011382\n",
              "\n",
              "[5369 rows x 5 columns]"
            ]
          },
          "metadata": {},
          "execution_count": 14
        }
      ]
    },
    {
      "cell_type": "code",
      "metadata": {
        "colab": {
          "base_uri": "https://localhost:8080/",
          "height": 617
        },
        "id": "b8-Ka2QtqI7c",
        "outputId": "60a6237e-b43b-4d42-d9a5-7a67b6b29ab6"
      },
      "source": [
        "# Convert date to python datetime\n",
        "df_transactions = df_transactions_origin\n",
        "df_transactions['fulldate'] = pd.to_datetime(df_transactions['fulldate'],format=\"%Y-%m-%d\")\n",
        "df_transactions['timestamp'] = df_transactions.fulldate.values.astype(np.int64) // 10 ** 9\n",
        "df_transactions"
      ],
      "execution_count": 15,
      "outputs": [
        {
          "output_type": "execute_result",
          "data": {
            "text/html": [
              "<div>\n",
              "<style scoped>\n",
              "    .dataframe tbody tr th:only-of-type {\n",
              "        vertical-align: middle;\n",
              "    }\n",
              "\n",
              "    .dataframe tbody tr th {\n",
              "        vertical-align: top;\n",
              "    }\n",
              "\n",
              "    .dataframe thead th {\n",
              "        text-align: right;\n",
              "    }\n",
              "</style>\n",
              "<table border=\"1\" class=\"dataframe\">\n",
              "  <thead>\n",
              "    <tr style=\"text-align: right;\">\n",
              "      <th></th>\n",
              "      <th>trans_id</th>\n",
              "      <th>account_id</th>\n",
              "      <th>type</th>\n",
              "      <th>operation</th>\n",
              "      <th>amount</th>\n",
              "      <th>balance</th>\n",
              "      <th>k_symbol</th>\n",
              "      <th>bank</th>\n",
              "      <th>account</th>\n",
              "      <th>year</th>\n",
              "      <th>month</th>\n",
              "      <th>day</th>\n",
              "      <th>fulldate</th>\n",
              "      <th>fulltime</th>\n",
              "      <th>fulldatewithtime</th>\n",
              "      <th>timestamp</th>\n",
              "    </tr>\n",
              "  </thead>\n",
              "  <tbody>\n",
              "    <tr>\n",
              "      <th>1</th>\n",
              "      <td>T00695247</td>\n",
              "      <td>A00002378</td>\n",
              "      <td>Credit</td>\n",
              "      <td>Credit in Cash</td>\n",
              "      <td>700.0</td>\n",
              "      <td>700.0</td>\n",
              "      <td>NaN</td>\n",
              "      <td>NaN</td>\n",
              "      <td>NaN</td>\n",
              "      <td>2013</td>\n",
              "      <td>1</td>\n",
              "      <td>1</td>\n",
              "      <td>2013-01-01</td>\n",
              "      <td>11:02:40</td>\n",
              "      <td>2013-01-01T11:02:40</td>\n",
              "      <td>1356998400</td>\n",
              "    </tr>\n",
              "    <tr>\n",
              "      <th>2</th>\n",
              "      <td>T00171812</td>\n",
              "      <td>A00000576</td>\n",
              "      <td>Credit</td>\n",
              "      <td>Credit in Cash</td>\n",
              "      <td>900.0</td>\n",
              "      <td>900.0</td>\n",
              "      <td>NaN</td>\n",
              "      <td>NaN</td>\n",
              "      <td>NaN</td>\n",
              "      <td>2013</td>\n",
              "      <td>1</td>\n",
              "      <td>1</td>\n",
              "      <td>2013-01-01</td>\n",
              "      <td>08:23:33</td>\n",
              "      <td>2013-01-01T08:23:33</td>\n",
              "      <td>1356998400</td>\n",
              "    </tr>\n",
              "    <tr>\n",
              "      <th>3</th>\n",
              "      <td>T00207264</td>\n",
              "      <td>A00000704</td>\n",
              "      <td>Credit</td>\n",
              "      <td>Credit in Cash</td>\n",
              "      <td>1000.0</td>\n",
              "      <td>1000.0</td>\n",
              "      <td>NaN</td>\n",
              "      <td>NaN</td>\n",
              "      <td>NaN</td>\n",
              "      <td>2013</td>\n",
              "      <td>1</td>\n",
              "      <td>1</td>\n",
              "      <td>2013-01-01</td>\n",
              "      <td>15:19:21</td>\n",
              "      <td>2013-01-01T15:19:21</td>\n",
              "      <td>1356998400</td>\n",
              "    </tr>\n",
              "    <tr>\n",
              "      <th>4</th>\n",
              "      <td>T01117247</td>\n",
              "      <td>A00003818</td>\n",
              "      <td>Credit</td>\n",
              "      <td>Credit in Cash</td>\n",
              "      <td>600.0</td>\n",
              "      <td>600.0</td>\n",
              "      <td>NaN</td>\n",
              "      <td>NaN</td>\n",
              "      <td>NaN</td>\n",
              "      <td>2013</td>\n",
              "      <td>1</td>\n",
              "      <td>1</td>\n",
              "      <td>2013-01-01</td>\n",
              "      <td>10:42:35</td>\n",
              "      <td>2013-01-01T10:42:35</td>\n",
              "      <td>1356998400</td>\n",
              "    </tr>\n",
              "    <tr>\n",
              "      <th>5</th>\n",
              "      <td>T00579373</td>\n",
              "      <td>A00001972</td>\n",
              "      <td>Credit</td>\n",
              "      <td>Credit in Cash</td>\n",
              "      <td>400.0</td>\n",
              "      <td>400.0</td>\n",
              "      <td>NaN</td>\n",
              "      <td>NaN</td>\n",
              "      <td>NaN</td>\n",
              "      <td>2013</td>\n",
              "      <td>1</td>\n",
              "      <td>2</td>\n",
              "      <td>2013-01-02</td>\n",
              "      <td>11:39:25</td>\n",
              "      <td>2013-01-02T11:39:25</td>\n",
              "      <td>1357084800</td>\n",
              "    </tr>\n",
              "    <tr>\n",
              "      <th>...</th>\n",
              "      <td>...</td>\n",
              "      <td>...</td>\n",
              "      <td>...</td>\n",
              "      <td>...</td>\n",
              "      <td>...</td>\n",
              "      <td>...</td>\n",
              "      <td>...</td>\n",
              "      <td>...</td>\n",
              "      <td>...</td>\n",
              "      <td>...</td>\n",
              "      <td>...</td>\n",
              "      <td>...</td>\n",
              "      <td>...</td>\n",
              "      <td>...</td>\n",
              "      <td>...</td>\n",
              "      <td>...</td>\n",
              "    </tr>\n",
              "    <tr>\n",
              "      <th>1056316</th>\n",
              "      <td>T03626622</td>\n",
              "      <td>A00002906</td>\n",
              "      <td>Credit</td>\n",
              "      <td>NaN</td>\n",
              "      <td>62.3</td>\n",
              "      <td>13729.4</td>\n",
              "      <td>Interest Credited</td>\n",
              "      <td>NaN</td>\n",
              "      <td>NaN</td>\n",
              "      <td>2018</td>\n",
              "      <td>12</td>\n",
              "      <td>31</td>\n",
              "      <td>2018-12-31</td>\n",
              "      <td>15:18:14</td>\n",
              "      <td>2018-12-31T15:18:14</td>\n",
              "      <td>1546214400</td>\n",
              "    </tr>\n",
              "    <tr>\n",
              "      <th>1056317</th>\n",
              "      <td>T03627616</td>\n",
              "      <td>A00002935</td>\n",
              "      <td>Credit</td>\n",
              "      <td>NaN</td>\n",
              "      <td>81.3</td>\n",
              "      <td>19544.9</td>\n",
              "      <td>Interest Credited</td>\n",
              "      <td>NaN</td>\n",
              "      <td>NaN</td>\n",
              "      <td>2018</td>\n",
              "      <td>12</td>\n",
              "      <td>31</td>\n",
              "      <td>2018-12-31</td>\n",
              "      <td>13:04:60</td>\n",
              "      <td>2018-12-31T13:04:60</td>\n",
              "      <td>1546214400</td>\n",
              "    </tr>\n",
              "    <tr>\n",
              "      <th>1056318</th>\n",
              "      <td>T03625403</td>\n",
              "      <td>A00002869</td>\n",
              "      <td>Credit</td>\n",
              "      <td>NaN</td>\n",
              "      <td>60.2</td>\n",
              "      <td>14638.2</td>\n",
              "      <td>Interest Credited</td>\n",
              "      <td>NaN</td>\n",
              "      <td>NaN</td>\n",
              "      <td>2018</td>\n",
              "      <td>12</td>\n",
              "      <td>31</td>\n",
              "      <td>2018-12-31</td>\n",
              "      <td>08:30:13</td>\n",
              "      <td>2018-12-31T08:30:13</td>\n",
              "      <td>1546214400</td>\n",
              "    </tr>\n",
              "    <tr>\n",
              "      <th>1056319</th>\n",
              "      <td>T03626683</td>\n",
              "      <td>A00002907</td>\n",
              "      <td>Credit</td>\n",
              "      <td>NaN</td>\n",
              "      <td>107.5</td>\n",
              "      <td>23453.0</td>\n",
              "      <td>Interest Credited</td>\n",
              "      <td>NaN</td>\n",
              "      <td>NaN</td>\n",
              "      <td>2018</td>\n",
              "      <td>12</td>\n",
              "      <td>31</td>\n",
              "      <td>2018-12-31</td>\n",
              "      <td>14:45:19</td>\n",
              "      <td>2018-12-31T14:45:19</td>\n",
              "      <td>1546214400</td>\n",
              "    </tr>\n",
              "    <tr>\n",
              "      <th>1056320</th>\n",
              "      <td>T03626540</td>\n",
              "      <td>A00002902</td>\n",
              "      <td>Credit</td>\n",
              "      <td>NaN</td>\n",
              "      <td>164.1</td>\n",
              "      <td>41642.9</td>\n",
              "      <td>Interest Credited</td>\n",
              "      <td>NaN</td>\n",
              "      <td>NaN</td>\n",
              "      <td>2018</td>\n",
              "      <td>12</td>\n",
              "      <td>31</td>\n",
              "      <td>2018-12-31</td>\n",
              "      <td>10:44:40</td>\n",
              "      <td>2018-12-31T10:44:40</td>\n",
              "      <td>1546214400</td>\n",
              "    </tr>\n",
              "  </tbody>\n",
              "</table>\n",
              "<p>1056320 rows × 16 columns</p>\n",
              "</div>"
            ],
            "text/plain": [
              "          trans_id account_id  ...     fulldatewithtime   timestamp\n",
              "1        T00695247  A00002378  ...  2013-01-01T11:02:40  1356998400\n",
              "2        T00171812  A00000576  ...  2013-01-01T08:23:33  1356998400\n",
              "3        T00207264  A00000704  ...  2013-01-01T15:19:21  1356998400\n",
              "4        T01117247  A00003818  ...  2013-01-01T10:42:35  1356998400\n",
              "5        T00579373  A00001972  ...  2013-01-02T11:39:25  1357084800\n",
              "...            ...        ...  ...                  ...         ...\n",
              "1056316  T03626622  A00002906  ...  2018-12-31T15:18:14  1546214400\n",
              "1056317  T03627616  A00002935  ...  2018-12-31T13:04:60  1546214400\n",
              "1056318  T03625403  A00002869  ...  2018-12-31T08:30:13  1546214400\n",
              "1056319  T03626683  A00002907  ...  2018-12-31T14:45:19  1546214400\n",
              "1056320  T03626540  A00002902  ...  2018-12-31T10:44:40  1546214400\n",
              "\n",
              "[1056320 rows x 16 columns]"
            ]
          },
          "metadata": {},
          "execution_count": 15
        }
      ]
    },
    {
      "cell_type": "code",
      "metadata": {
        "colab": {
          "base_uri": "https://localhost:8080/",
          "height": 455
        },
        "id": "DArSfThJXeRn",
        "outputId": "a4f0f5e7-793a-46aa-fe7d-ea06c4ad22b6"
      },
      "source": [
        "df_transactions = df_transactions.set_index('trans_id')\n",
        "df_transactions = df_transactions [['account_id','type','amount','balance','timestamp']]\n",
        "df_transactions = df_transactions.sort_values('timestamp')\n",
        "df_transactions"
      ],
      "execution_count": 16,
      "outputs": [
        {
          "output_type": "execute_result",
          "data": {
            "text/html": [
              "<div>\n",
              "<style scoped>\n",
              "    .dataframe tbody tr th:only-of-type {\n",
              "        vertical-align: middle;\n",
              "    }\n",
              "\n",
              "    .dataframe tbody tr th {\n",
              "        vertical-align: top;\n",
              "    }\n",
              "\n",
              "    .dataframe thead th {\n",
              "        text-align: right;\n",
              "    }\n",
              "</style>\n",
              "<table border=\"1\" class=\"dataframe\">\n",
              "  <thead>\n",
              "    <tr style=\"text-align: right;\">\n",
              "      <th></th>\n",
              "      <th>account_id</th>\n",
              "      <th>type</th>\n",
              "      <th>amount</th>\n",
              "      <th>balance</th>\n",
              "      <th>timestamp</th>\n",
              "    </tr>\n",
              "    <tr>\n",
              "      <th>trans_id</th>\n",
              "      <th></th>\n",
              "      <th></th>\n",
              "      <th></th>\n",
              "      <th></th>\n",
              "      <th></th>\n",
              "    </tr>\n",
              "  </thead>\n",
              "  <tbody>\n",
              "    <tr>\n",
              "      <th>T00695247</th>\n",
              "      <td>A00002378</td>\n",
              "      <td>Credit</td>\n",
              "      <td>700.0</td>\n",
              "      <td>700.0</td>\n",
              "      <td>1356998400</td>\n",
              "    </tr>\n",
              "    <tr>\n",
              "      <th>T00171812</th>\n",
              "      <td>A00000576</td>\n",
              "      <td>Credit</td>\n",
              "      <td>900.0</td>\n",
              "      <td>900.0</td>\n",
              "      <td>1356998400</td>\n",
              "    </tr>\n",
              "    <tr>\n",
              "      <th>T00207264</th>\n",
              "      <td>A00000704</td>\n",
              "      <td>Credit</td>\n",
              "      <td>1000.0</td>\n",
              "      <td>1000.0</td>\n",
              "      <td>1356998400</td>\n",
              "    </tr>\n",
              "    <tr>\n",
              "      <th>T01117247</th>\n",
              "      <td>A00003818</td>\n",
              "      <td>Credit</td>\n",
              "      <td>600.0</td>\n",
              "      <td>600.0</td>\n",
              "      <td>1356998400</td>\n",
              "    </tr>\n",
              "    <tr>\n",
              "      <th>T00579373</th>\n",
              "      <td>A00001972</td>\n",
              "      <td>Credit</td>\n",
              "      <td>400.0</td>\n",
              "      <td>400.0</td>\n",
              "      <td>1357084800</td>\n",
              "    </tr>\n",
              "    <tr>\n",
              "      <th>...</th>\n",
              "      <td>...</td>\n",
              "      <td>...</td>\n",
              "      <td>...</td>\n",
              "      <td>...</td>\n",
              "      <td>...</td>\n",
              "    </tr>\n",
              "    <tr>\n",
              "      <th>T03629556</th>\n",
              "      <td>A00002990</td>\n",
              "      <td>Credit</td>\n",
              "      <td>175.0</td>\n",
              "      <td>42712.1</td>\n",
              "      <td>1546214400</td>\n",
              "    </tr>\n",
              "    <tr>\n",
              "      <th>T03630422</th>\n",
              "      <td>A00003025</td>\n",
              "      <td>Credit</td>\n",
              "      <td>73.9</td>\n",
              "      <td>15933.6</td>\n",
              "      <td>1546214400</td>\n",
              "    </tr>\n",
              "    <tr>\n",
              "      <th>T03631495</th>\n",
              "      <td>A00003053</td>\n",
              "      <td>Credit</td>\n",
              "      <td>349.8</td>\n",
              "      <td>86982.1</td>\n",
              "      <td>1546214400</td>\n",
              "    </tr>\n",
              "    <tr>\n",
              "      <th>T03632209</th>\n",
              "      <td>A00003077</td>\n",
              "      <td>Credit</td>\n",
              "      <td>267.9</td>\n",
              "      <td>68530.7</td>\n",
              "      <td>1546214400</td>\n",
              "    </tr>\n",
              "    <tr>\n",
              "      <th>T03626540</th>\n",
              "      <td>A00002902</td>\n",
              "      <td>Credit</td>\n",
              "      <td>164.1</td>\n",
              "      <td>41642.9</td>\n",
              "      <td>1546214400</td>\n",
              "    </tr>\n",
              "  </tbody>\n",
              "</table>\n",
              "<p>1056320 rows × 5 columns</p>\n",
              "</div>"
            ],
            "text/plain": [
              "          account_id    type  amount  balance   timestamp\n",
              "trans_id                                                 \n",
              "T00695247  A00002378  Credit   700.0    700.0  1356998400\n",
              "T00171812  A00000576  Credit   900.0    900.0  1356998400\n",
              "T00207264  A00000704  Credit  1000.0   1000.0  1356998400\n",
              "T01117247  A00003818  Credit   600.0    600.0  1356998400\n",
              "T00579373  A00001972  Credit   400.0    400.0  1357084800\n",
              "...              ...     ...     ...      ...         ...\n",
              "T03629556  A00002990  Credit   175.0  42712.1  1546214400\n",
              "T03630422  A00003025  Credit    73.9  15933.6  1546214400\n",
              "T03631495  A00003053  Credit   349.8  86982.1  1546214400\n",
              "T03632209  A00003077  Credit   267.9  68530.7  1546214400\n",
              "T03626540  A00002902  Credit   164.1  41642.9  1546214400\n",
              "\n",
              "[1056320 rows x 5 columns]"
            ]
          },
          "metadata": {},
          "execution_count": 16
        }
      ]
    },
    {
      "cell_type": "code",
      "metadata": {
        "colab": {
          "base_uri": "https://localhost:8080/",
          "height": 455
        },
        "id": "QAPUT1WCcGyM",
        "outputId": "5707d88c-da2a-40e6-8108-9bee1a3008ad"
      },
      "source": [
        "transaction_type_dict = {'Debit':1.0,'Credit':0.0}\n",
        "df_transactions['type'] = df_transactions['type'].apply(lambda x: transaction_type_dict.get(x))\n",
        "df_transactions"
      ],
      "execution_count": 17,
      "outputs": [
        {
          "output_type": "execute_result",
          "data": {
            "text/html": [
              "<div>\n",
              "<style scoped>\n",
              "    .dataframe tbody tr th:only-of-type {\n",
              "        vertical-align: middle;\n",
              "    }\n",
              "\n",
              "    .dataframe tbody tr th {\n",
              "        vertical-align: top;\n",
              "    }\n",
              "\n",
              "    .dataframe thead th {\n",
              "        text-align: right;\n",
              "    }\n",
              "</style>\n",
              "<table border=\"1\" class=\"dataframe\">\n",
              "  <thead>\n",
              "    <tr style=\"text-align: right;\">\n",
              "      <th></th>\n",
              "      <th>account_id</th>\n",
              "      <th>type</th>\n",
              "      <th>amount</th>\n",
              "      <th>balance</th>\n",
              "      <th>timestamp</th>\n",
              "    </tr>\n",
              "    <tr>\n",
              "      <th>trans_id</th>\n",
              "      <th></th>\n",
              "      <th></th>\n",
              "      <th></th>\n",
              "      <th></th>\n",
              "      <th></th>\n",
              "    </tr>\n",
              "  </thead>\n",
              "  <tbody>\n",
              "    <tr>\n",
              "      <th>T00695247</th>\n",
              "      <td>A00002378</td>\n",
              "      <td>0.0</td>\n",
              "      <td>700.0</td>\n",
              "      <td>700.0</td>\n",
              "      <td>1356998400</td>\n",
              "    </tr>\n",
              "    <tr>\n",
              "      <th>T00171812</th>\n",
              "      <td>A00000576</td>\n",
              "      <td>0.0</td>\n",
              "      <td>900.0</td>\n",
              "      <td>900.0</td>\n",
              "      <td>1356998400</td>\n",
              "    </tr>\n",
              "    <tr>\n",
              "      <th>T00207264</th>\n",
              "      <td>A00000704</td>\n",
              "      <td>0.0</td>\n",
              "      <td>1000.0</td>\n",
              "      <td>1000.0</td>\n",
              "      <td>1356998400</td>\n",
              "    </tr>\n",
              "    <tr>\n",
              "      <th>T01117247</th>\n",
              "      <td>A00003818</td>\n",
              "      <td>0.0</td>\n",
              "      <td>600.0</td>\n",
              "      <td>600.0</td>\n",
              "      <td>1356998400</td>\n",
              "    </tr>\n",
              "    <tr>\n",
              "      <th>T00579373</th>\n",
              "      <td>A00001972</td>\n",
              "      <td>0.0</td>\n",
              "      <td>400.0</td>\n",
              "      <td>400.0</td>\n",
              "      <td>1357084800</td>\n",
              "    </tr>\n",
              "    <tr>\n",
              "      <th>...</th>\n",
              "      <td>...</td>\n",
              "      <td>...</td>\n",
              "      <td>...</td>\n",
              "      <td>...</td>\n",
              "      <td>...</td>\n",
              "    </tr>\n",
              "    <tr>\n",
              "      <th>T03629556</th>\n",
              "      <td>A00002990</td>\n",
              "      <td>0.0</td>\n",
              "      <td>175.0</td>\n",
              "      <td>42712.1</td>\n",
              "      <td>1546214400</td>\n",
              "    </tr>\n",
              "    <tr>\n",
              "      <th>T03630422</th>\n",
              "      <td>A00003025</td>\n",
              "      <td>0.0</td>\n",
              "      <td>73.9</td>\n",
              "      <td>15933.6</td>\n",
              "      <td>1546214400</td>\n",
              "    </tr>\n",
              "    <tr>\n",
              "      <th>T03631495</th>\n",
              "      <td>A00003053</td>\n",
              "      <td>0.0</td>\n",
              "      <td>349.8</td>\n",
              "      <td>86982.1</td>\n",
              "      <td>1546214400</td>\n",
              "    </tr>\n",
              "    <tr>\n",
              "      <th>T03632209</th>\n",
              "      <td>A00003077</td>\n",
              "      <td>0.0</td>\n",
              "      <td>267.9</td>\n",
              "      <td>68530.7</td>\n",
              "      <td>1546214400</td>\n",
              "    </tr>\n",
              "    <tr>\n",
              "      <th>T03626540</th>\n",
              "      <td>A00002902</td>\n",
              "      <td>0.0</td>\n",
              "      <td>164.1</td>\n",
              "      <td>41642.9</td>\n",
              "      <td>1546214400</td>\n",
              "    </tr>\n",
              "  </tbody>\n",
              "</table>\n",
              "<p>1056320 rows × 5 columns</p>\n",
              "</div>"
            ],
            "text/plain": [
              "          account_id  type  amount  balance   timestamp\n",
              "trans_id                                               \n",
              "T00695247  A00002378   0.0   700.0    700.0  1356998400\n",
              "T00171812  A00000576   0.0   900.0    900.0  1356998400\n",
              "T00207264  A00000704   0.0  1000.0   1000.0  1356998400\n",
              "T01117247  A00003818   0.0   600.0    600.0  1356998400\n",
              "T00579373  A00001972   0.0   400.0    400.0  1357084800\n",
              "...              ...   ...     ...      ...         ...\n",
              "T03629556  A00002990   0.0   175.0  42712.1  1546214400\n",
              "T03630422  A00003025   0.0    73.9  15933.6  1546214400\n",
              "T03631495  A00003053   0.0   349.8  86982.1  1546214400\n",
              "T03632209  A00003077   0.0   267.9  68530.7  1546214400\n",
              "T03626540  A00002902   0.0   164.1  41642.9  1546214400\n",
              "\n",
              "[1056320 rows x 5 columns]"
            ]
          },
          "metadata": {},
          "execution_count": 17
        }
      ]
    },
    {
      "cell_type": "code",
      "metadata": {
        "colab": {
          "base_uri": "https://localhost:8080/",
          "height": 455
        },
        "id": "EOvptEUTqKVU",
        "outputId": "6dd14d78-1b08-44cd-e203-d78947eb6d2a"
      },
      "source": [
        "df = df_transactions\n",
        "df = df [['type','amount','balance','timestamp']]\n",
        "df_transactions_normalized=(df-df.mean())/df.std()\n",
        "df_transactions_normalized['account_id']=df_transactions['account_id']\n",
        "df_transactions_normalized"
      ],
      "execution_count": 18,
      "outputs": [
        {
          "output_type": "execute_result",
          "data": {
            "text/html": [
              "<div>\n",
              "<style scoped>\n",
              "    .dataframe tbody tr th:only-of-type {\n",
              "        vertical-align: middle;\n",
              "    }\n",
              "\n",
              "    .dataframe tbody tr th {\n",
              "        vertical-align: top;\n",
              "    }\n",
              "\n",
              "    .dataframe thead th {\n",
              "        text-align: right;\n",
              "    }\n",
              "</style>\n",
              "<table border=\"1\" class=\"dataframe\">\n",
              "  <thead>\n",
              "    <tr style=\"text-align: right;\">\n",
              "      <th></th>\n",
              "      <th>type</th>\n",
              "      <th>amount</th>\n",
              "      <th>balance</th>\n",
              "      <th>timestamp</th>\n",
              "      <th>account_id</th>\n",
              "    </tr>\n",
              "    <tr>\n",
              "      <th>trans_id</th>\n",
              "      <th></th>\n",
              "      <th></th>\n",
              "      <th></th>\n",
              "      <th></th>\n",
              "      <th></th>\n",
              "    </tr>\n",
              "  </thead>\n",
              "  <tbody>\n",
              "    <tr>\n",
              "      <th>T00695247</th>\n",
              "      <td>-1.267936</td>\n",
              "      <td>-0.548597</td>\n",
              "      <td>-1.709854</td>\n",
              "      <td>-2.860870</td>\n",
              "      <td>A00002378</td>\n",
              "    </tr>\n",
              "    <tr>\n",
              "      <th>T00171812</th>\n",
              "      <td>-1.267936</td>\n",
              "      <td>-0.527595</td>\n",
              "      <td>-1.700812</td>\n",
              "      <td>-2.860870</td>\n",
              "      <td>A00000576</td>\n",
              "    </tr>\n",
              "    <tr>\n",
              "      <th>T00207264</th>\n",
              "      <td>-1.267936</td>\n",
              "      <td>-0.517094</td>\n",
              "      <td>-1.696291</td>\n",
              "      <td>-2.860870</td>\n",
              "      <td>A00000704</td>\n",
              "    </tr>\n",
              "    <tr>\n",
              "      <th>T01117247</th>\n",
              "      <td>-1.267936</td>\n",
              "      <td>-0.559098</td>\n",
              "      <td>-1.714375</td>\n",
              "      <td>-2.860870</td>\n",
              "      <td>A00003818</td>\n",
              "    </tr>\n",
              "    <tr>\n",
              "      <th>T00579373</th>\n",
              "      <td>-1.267936</td>\n",
              "      <td>-0.580101</td>\n",
              "      <td>-1.723418</td>\n",
              "      <td>-2.858917</td>\n",
              "      <td>A00001972</td>\n",
              "    </tr>\n",
              "    <tr>\n",
              "      <th>...</th>\n",
              "      <td>...</td>\n",
              "      <td>...</td>\n",
              "      <td>...</td>\n",
              "      <td>...</td>\n",
              "      <td>...</td>\n",
              "    </tr>\n",
              "    <tr>\n",
              "      <th>T03629556</th>\n",
              "      <td>-1.267936</td>\n",
              "      <td>-0.603728</td>\n",
              "      <td>0.189610</td>\n",
              "      <td>1.417798</td>\n",
              "      <td>A00002990</td>\n",
              "    </tr>\n",
              "    <tr>\n",
              "      <th>T03630422</th>\n",
              "      <td>-1.267936</td>\n",
              "      <td>-0.614345</td>\n",
              "      <td>-1.021108</td>\n",
              "      <td>1.417798</td>\n",
              "      <td>A00003025</td>\n",
              "    </tr>\n",
              "    <tr>\n",
              "      <th>T03631495</th>\n",
              "      <td>-1.267936</td>\n",
              "      <td>-0.585372</td>\n",
              "      <td>2.191159</td>\n",
              "      <td>1.417798</td>\n",
              "      <td>A00003053</td>\n",
              "    </tr>\n",
              "    <tr>\n",
              "      <th>T03632209</th>\n",
              "      <td>-1.267936</td>\n",
              "      <td>-0.593973</td>\n",
              "      <td>1.356929</td>\n",
              "      <td>1.417798</td>\n",
              "      <td>A00003077</td>\n",
              "    </tr>\n",
              "    <tr>\n",
              "      <th>T03626540</th>\n",
              "      <td>-1.267936</td>\n",
              "      <td>-0.604873</td>\n",
              "      <td>0.141269</td>\n",
              "      <td>1.417798</td>\n",
              "      <td>A00002902</td>\n",
              "    </tr>\n",
              "  </tbody>\n",
              "</table>\n",
              "<p>1056320 rows × 5 columns</p>\n",
              "</div>"
            ],
            "text/plain": [
              "               type    amount   balance  timestamp account_id\n",
              "trans_id                                                     \n",
              "T00695247 -1.267936 -0.548597 -1.709854  -2.860870  A00002378\n",
              "T00171812 -1.267936 -0.527595 -1.700812  -2.860870  A00000576\n",
              "T00207264 -1.267936 -0.517094 -1.696291  -2.860870  A00000704\n",
              "T01117247 -1.267936 -0.559098 -1.714375  -2.860870  A00003818\n",
              "T00579373 -1.267936 -0.580101 -1.723418  -2.858917  A00001972\n",
              "...             ...       ...       ...        ...        ...\n",
              "T03629556 -1.267936 -0.603728  0.189610   1.417798  A00002990\n",
              "T03630422 -1.267936 -0.614345 -1.021108   1.417798  A00003025\n",
              "T03631495 -1.267936 -0.585372  2.191159   1.417798  A00003053\n",
              "T03632209 -1.267936 -0.593973  1.356929   1.417798  A00003077\n",
              "T03626540 -1.267936 -0.604873  0.141269   1.417798  A00002902\n",
              "\n",
              "[1056320 rows x 5 columns]"
            ]
          },
          "metadata": {},
          "execution_count": 18
        }
      ]
    },
    {
      "cell_type": "code",
      "metadata": {
        "colab": {
          "base_uri": "https://localhost:8080/"
        },
        "id": "paM4Di2ffxGk",
        "outputId": "dde2fe37-6749-42c8-8936-70b1446d09bc"
      },
      "source": [
        "df_account_grouped = df_transactions_normalized.groupby(['account_id'])\n",
        "df_account_grouped.size()"
      ],
      "execution_count": 19,
      "outputs": [
        {
          "output_type": "execute_result",
          "data": {
            "text/plain": [
              "account_id\n",
              "A00000001    239\n",
              "A00000002    478\n",
              "A00000003    117\n",
              "A00000004    186\n",
              "A00000005     84\n",
              "            ... \n",
              "A00011333    368\n",
              "A00011349    304\n",
              "A00011359    378\n",
              "A00011362    344\n",
              "A00011382    253\n",
              "Length: 4500, dtype: int64"
            ]
          },
          "metadata": {},
          "execution_count": 19
        }
      ]
    },
    {
      "cell_type": "code",
      "metadata": {
        "colab": {
          "base_uri": "https://localhost:8080/"
        },
        "id": "vfGhl1DpX-9Y",
        "outputId": "84304d04-ab88-4402-b9e4-cfc934f76767"
      },
      "source": [
        "max_length_of_transaction = df_account_grouped['amount'].count().max()\n",
        "print(\"max trans lenght is: \", max_length_of_transaction)"
      ],
      "execution_count": 20,
      "outputs": [
        {
          "output_type": "stream",
          "name": "stdout",
          "text": [
            "max trans lenght is:  675\n"
          ]
        }
      ]
    },
    {
      "cell_type": "code",
      "metadata": {
        "colab": {
          "base_uri": "https://localhost:8080/",
          "height": 455
        },
        "id": "LVvZpWlDQ_Au",
        "outputId": "88ce3d33-7195-45af-cd98-cd3cbb1d7be2"
      },
      "source": [
        "df_account_grouped.get_group('A00000001')"
      ],
      "execution_count": 21,
      "outputs": [
        {
          "output_type": "execute_result",
          "data": {
            "text/html": [
              "<div>\n",
              "<style scoped>\n",
              "    .dataframe tbody tr th:only-of-type {\n",
              "        vertical-align: middle;\n",
              "    }\n",
              "\n",
              "    .dataframe tbody tr th {\n",
              "        vertical-align: top;\n",
              "    }\n",
              "\n",
              "    .dataframe thead th {\n",
              "        text-align: right;\n",
              "    }\n",
              "</style>\n",
              "<table border=\"1\" class=\"dataframe\">\n",
              "  <thead>\n",
              "    <tr style=\"text-align: right;\">\n",
              "      <th></th>\n",
              "      <th>type</th>\n",
              "      <th>amount</th>\n",
              "      <th>balance</th>\n",
              "      <th>timestamp</th>\n",
              "      <th>account_id</th>\n",
              "    </tr>\n",
              "    <tr>\n",
              "      <th>trans_id</th>\n",
              "      <th></th>\n",
              "      <th></th>\n",
              "      <th></th>\n",
              "      <th></th>\n",
              "      <th></th>\n",
              "    </tr>\n",
              "  </thead>\n",
              "  <tbody>\n",
              "    <tr>\n",
              "      <th>T00000001</th>\n",
              "      <td>-1.267936</td>\n",
              "      <td>-0.517094</td>\n",
              "      <td>-1.696291</td>\n",
              "      <td>-1.274442</td>\n",
              "      <td>A00000001</td>\n",
              "    </tr>\n",
              "    <tr>\n",
              "      <th>T00000005</th>\n",
              "      <td>-1.267936</td>\n",
              "      <td>-0.235767</td>\n",
              "      <td>-1.529954</td>\n",
              "      <td>-1.235367</td>\n",
              "      <td>A00000001</td>\n",
              "    </tr>\n",
              "    <tr>\n",
              "      <th>T00000199</th>\n",
              "      <td>-1.267936</td>\n",
              "      <td>0.701044</td>\n",
              "      <td>-0.960279</td>\n",
              "      <td>-1.215830</td>\n",
              "      <td>A00000001</td>\n",
              "    </tr>\n",
              "    <tr>\n",
              "      <th>T03530438</th>\n",
              "      <td>-1.267936</td>\n",
              "      <td>-0.620089</td>\n",
              "      <td>-0.959411</td>\n",
              "      <td>-1.202154</td>\n",
              "      <td>A00000001</td>\n",
              "    </tr>\n",
              "    <tr>\n",
              "      <th>T00000006</th>\n",
              "      <td>-1.267936</td>\n",
              "      <td>-0.235767</td>\n",
              "      <td>-0.793075</td>\n",
              "      <td>-1.176755</td>\n",
              "      <td>A00000001</td>\n",
              "    </tr>\n",
              "    <tr>\n",
              "      <th>...</th>\n",
              "      <td>...</td>\n",
              "      <td>...</td>\n",
              "      <td>...</td>\n",
              "      <td>...</td>\n",
              "      <td>...</td>\n",
              "    </tr>\n",
              "    <tr>\n",
              "      <th>T03530481</th>\n",
              "      <td>-1.267936</td>\n",
              "      <td>-0.615059</td>\n",
              "      <td>-0.986389</td>\n",
              "      <td>1.357232</td>\n",
              "      <td>A00000001</td>\n",
              "    </tr>\n",
              "    <tr>\n",
              "      <th>T00000230</th>\n",
              "      <td>0.788683</td>\n",
              "      <td>-0.149552</td>\n",
              "      <td>-1.190505</td>\n",
              "      <td>1.363094</td>\n",
              "      <td>A00000001</td>\n",
              "    </tr>\n",
              "    <tr>\n",
              "      <th>T00000097</th>\n",
              "      <td>0.788683</td>\n",
              "      <td>-0.364616</td>\n",
              "      <td>-1.301366</td>\n",
              "      <td>1.367001</td>\n",
              "      <td>A00000001</td>\n",
              "    </tr>\n",
              "    <tr>\n",
              "      <th>T00000049</th>\n",
              "      <td>-1.267936</td>\n",
              "      <td>-0.235767</td>\n",
              "      <td>-1.135029</td>\n",
              "      <td>1.382631</td>\n",
              "      <td>A00000001</td>\n",
              "    </tr>\n",
              "    <tr>\n",
              "      <th>T03530482</th>\n",
              "      <td>-1.267936</td>\n",
              "      <td>-0.616582</td>\n",
              "      <td>-1.132651</td>\n",
              "      <td>1.417798</td>\n",
              "      <td>A00000001</td>\n",
              "    </tr>\n",
              "  </tbody>\n",
              "</table>\n",
              "<p>239 rows × 5 columns</p>\n",
              "</div>"
            ],
            "text/plain": [
              "               type    amount   balance  timestamp account_id\n",
              "trans_id                                                     \n",
              "T00000001 -1.267936 -0.517094 -1.696291  -1.274442  A00000001\n",
              "T00000005 -1.267936 -0.235767 -1.529954  -1.235367  A00000001\n",
              "T00000199 -1.267936  0.701044 -0.960279  -1.215830  A00000001\n",
              "T03530438 -1.267936 -0.620089 -0.959411  -1.202154  A00000001\n",
              "T00000006 -1.267936 -0.235767 -0.793075  -1.176755  A00000001\n",
              "...             ...       ...       ...        ...        ...\n",
              "T03530481 -1.267936 -0.615059 -0.986389   1.357232  A00000001\n",
              "T00000230  0.788683 -0.149552 -1.190505   1.363094  A00000001\n",
              "T00000097  0.788683 -0.364616 -1.301366   1.367001  A00000001\n",
              "T00000049 -1.267936 -0.235767 -1.135029   1.382631  A00000001\n",
              "T03530482 -1.267936 -0.616582 -1.132651   1.417798  A00000001\n",
              "\n",
              "[239 rows x 5 columns]"
            ]
          },
          "metadata": {},
          "execution_count": 21
        }
      ]
    },
    {
      "cell_type": "code",
      "metadata": {
        "id": "3wHV4YGGRcxf"
      },
      "source": [
        "sequence_input_list = []\n",
        "sequence_output_list = []\n",
        "for k, v in df_account_grouped:\n",
        "  user_trans_array = pd.concat([v.type,v.amount,v.balance, v.timestamp], axis=1).values\n",
        "  array = user_trans_array.copy()\n",
        "  # add start and end to sequence of transations\n",
        "  add_start_to_array = np.insert(array, 0, [-1, -1,-1, -1], axis=0)\n",
        "  input_array = np.append(add_start_to_array, [[-2, -2,-2, -2]], axis=0)\n",
        "  output_array = np.append(array, [[-2, -2,-2, -2]], axis=0)\n",
        "  # resize array to max_lenght\n",
        "  input_array.resize((max_length_of_transaction,4), refcheck=False)\n",
        "  output_array.resize((max_length_of_transaction,4), refcheck=False)\n",
        "  # append them to list\n",
        "  sequence_input_list.append(input_array)\n",
        "  sequence_output_list.append(output_array)"
      ],
      "execution_count": 22,
      "outputs": []
    },
    {
      "cell_type": "code",
      "metadata": {
        "colab": {
          "base_uri": "https://localhost:8080/"
        },
        "id": "_Ynxrg3AfR_r",
        "outputId": "5dbfd54a-f7fd-4a84-e691-03145e39ec7e"
      },
      "source": [
        "sequence_input_array = np.array(sequence_input_list)\n",
        "sequence_output_input_array = sequence_input_array\n",
        "sequence_output_array = np.array(sequence_output_list)\n",
        "sequence_output_array.shape"
      ],
      "execution_count": 23,
      "outputs": [
        {
          "output_type": "execute_result",
          "data": {
            "text/plain": [
              "(4500, 675, 4)"
            ]
          },
          "metadata": {},
          "execution_count": 23
        }
      ]
    },
    {
      "cell_type": "code",
      "metadata": {
        "colab": {
          "base_uri": "https://localhost:8080/"
        },
        "id": "vEpx6CaS5JF9",
        "outputId": "6888bbe5-0a02-4e5a-f934-36974ad3892c"
      },
      "source": [
        "(sequence_output_input_array == sequence_output_array).all()"
      ],
      "execution_count": 24,
      "outputs": [
        {
          "output_type": "execute_result",
          "data": {
            "text/plain": [
              "False"
            ]
          },
          "metadata": {},
          "execution_count": 24
        }
      ]
    },
    {
      "cell_type": "code",
      "metadata": {
        "colab": {
          "base_uri": "https://localhost:8080/"
        },
        "id": "aBusjYuLeQEF",
        "outputId": "b9afe191-347e-4ce1-cc97-938b1c3df1f7"
      },
      "source": [
        "# Build static input array\n",
        "list_of_account_ids = list(df_account_grouped.groups.keys())\n",
        "static_input_list = []\n",
        "for account_id in list_of_account_ids:\n",
        "  sub_df = df_clients_normalized.loc[df_clients_normalized['account_id'] == account_id]\n",
        "  sub_df = sub_df.iloc[0]\n",
        "  account_static_vector = sub_df[['sex','age','latitude','longitude']].values.tolist()\n",
        "  static_input_list.append(account_static_vector)\n",
        "static_input_array = np.array(static_input_list)\n",
        "print(static_input_array.shape)\n",
        "static_output_array = static_input_array\n",
        "static_input_array"
      ],
      "execution_count": 25,
      "outputs": [
        {
          "output_type": "stream",
          "name": "stdout",
          "text": [
            "(4500, 4)\n"
          ]
        },
        {
          "output_type": "execute_result",
          "data": {
            "text/plain": [
              "array([[-1.01472945, -0.9771898 , -0.1638979 , -0.6465329 ],\n",
              "       [ 0.98530081,  0.46898042,  0.24906924,  0.0914507 ],\n",
              "       [ 0.98530081, -0.16733447,  0.17968438, -0.18326156],\n",
              "       ...,\n",
              "       [ 0.98530081, -0.86149618,  0.32148583,  0.1558992 ],\n",
              "       [-1.01472945, -0.51441533,  0.29899034,  0.10392843],\n",
              "       [-1.01472945,  0.00620595,  0.33238184, -0.21699025]])"
            ]
          },
          "metadata": {},
          "execution_count": 25
        }
      ]
    },
    {
      "cell_type": "code",
      "metadata": {
        "colab": {
          "base_uri": "https://localhost:8080/"
        },
        "id": "S9na2-pTAIrv",
        "outputId": "e9bbf09a-4b41-4565-93f3-7792a5b7fec9"
      },
      "source": [
        "resolver = tf.distribute.cluster_resolver.TPUClusterResolver(tpu='')\n",
        "tf.config.experimental_connect_to_cluster(resolver)\n",
        "# This is the TPU initialization code that has to be at the beginning.\n",
        "tf.tpu.experimental.initialize_tpu_system(resolver)\n",
        "# print(\"All devices: \", tf.config.list_logical_devices('TPU'))\n",
        "strategy = tf.distribute.TPUStrategy(resolver)"
      ],
      "execution_count": 26,
      "outputs": [
        {
          "output_type": "stream",
          "name": "stdout",
          "text": [
            "INFO:tensorflow:Clearing out eager caches\n"
          ]
        },
        {
          "output_type": "stream",
          "name": "stderr",
          "text": [
            "INFO:tensorflow:Clearing out eager caches\n"
          ]
        },
        {
          "output_type": "stream",
          "name": "stdout",
          "text": [
            "INFO:tensorflow:Initializing the TPU system: grpc://10.67.84.242:8470\n"
          ]
        },
        {
          "output_type": "stream",
          "name": "stderr",
          "text": [
            "INFO:tensorflow:Initializing the TPU system: grpc://10.67.84.242:8470\n"
          ]
        },
        {
          "output_type": "stream",
          "name": "stdout",
          "text": [
            "INFO:tensorflow:Finished initializing TPU system.\n"
          ]
        },
        {
          "output_type": "stream",
          "name": "stderr",
          "text": [
            "INFO:tensorflow:Finished initializing TPU system.\n"
          ]
        },
        {
          "output_type": "stream",
          "name": "stdout",
          "text": [
            "INFO:tensorflow:Found TPU system:\n"
          ]
        },
        {
          "output_type": "stream",
          "name": "stderr",
          "text": [
            "INFO:tensorflow:Found TPU system:\n"
          ]
        },
        {
          "output_type": "stream",
          "name": "stdout",
          "text": [
            "INFO:tensorflow:*** Num TPU Cores: 8\n"
          ]
        },
        {
          "output_type": "stream",
          "name": "stderr",
          "text": [
            "INFO:tensorflow:*** Num TPU Cores: 8\n"
          ]
        },
        {
          "output_type": "stream",
          "name": "stdout",
          "text": [
            "INFO:tensorflow:*** Num TPU Workers: 1\n"
          ]
        },
        {
          "output_type": "stream",
          "name": "stderr",
          "text": [
            "INFO:tensorflow:*** Num TPU Workers: 1\n"
          ]
        },
        {
          "output_type": "stream",
          "name": "stdout",
          "text": [
            "INFO:tensorflow:*** Num TPU Cores Per Worker: 8\n"
          ]
        },
        {
          "output_type": "stream",
          "name": "stderr",
          "text": [
            "INFO:tensorflow:*** Num TPU Cores Per Worker: 8\n"
          ]
        },
        {
          "output_type": "stream",
          "name": "stdout",
          "text": [
            "INFO:tensorflow:*** Available Device: _DeviceAttributes(/job:localhost/replica:0/task:0/device:CPU:0, CPU, 0, 0)\n"
          ]
        },
        {
          "output_type": "stream",
          "name": "stderr",
          "text": [
            "INFO:tensorflow:*** Available Device: _DeviceAttributes(/job:localhost/replica:0/task:0/device:CPU:0, CPU, 0, 0)\n"
          ]
        },
        {
          "output_type": "stream",
          "name": "stdout",
          "text": [
            "INFO:tensorflow:*** Available Device: _DeviceAttributes(/job:worker/replica:0/task:0/device:CPU:0, CPU, 0, 0)\n"
          ]
        },
        {
          "output_type": "stream",
          "name": "stderr",
          "text": [
            "INFO:tensorflow:*** Available Device: _DeviceAttributes(/job:worker/replica:0/task:0/device:CPU:0, CPU, 0, 0)\n"
          ]
        },
        {
          "output_type": "stream",
          "name": "stdout",
          "text": [
            "INFO:tensorflow:*** Available Device: _DeviceAttributes(/job:worker/replica:0/task:0/device:TPU:0, TPU, 0, 0)\n"
          ]
        },
        {
          "output_type": "stream",
          "name": "stderr",
          "text": [
            "INFO:tensorflow:*** Available Device: _DeviceAttributes(/job:worker/replica:0/task:0/device:TPU:0, TPU, 0, 0)\n"
          ]
        },
        {
          "output_type": "stream",
          "name": "stdout",
          "text": [
            "INFO:tensorflow:*** Available Device: _DeviceAttributes(/job:worker/replica:0/task:0/device:TPU:1, TPU, 0, 0)\n"
          ]
        },
        {
          "output_type": "stream",
          "name": "stderr",
          "text": [
            "INFO:tensorflow:*** Available Device: _DeviceAttributes(/job:worker/replica:0/task:0/device:TPU:1, TPU, 0, 0)\n"
          ]
        },
        {
          "output_type": "stream",
          "name": "stdout",
          "text": [
            "INFO:tensorflow:*** Available Device: _DeviceAttributes(/job:worker/replica:0/task:0/device:TPU:2, TPU, 0, 0)\n"
          ]
        },
        {
          "output_type": "stream",
          "name": "stderr",
          "text": [
            "INFO:tensorflow:*** Available Device: _DeviceAttributes(/job:worker/replica:0/task:0/device:TPU:2, TPU, 0, 0)\n"
          ]
        },
        {
          "output_type": "stream",
          "name": "stdout",
          "text": [
            "INFO:tensorflow:*** Available Device: _DeviceAttributes(/job:worker/replica:0/task:0/device:TPU:3, TPU, 0, 0)\n"
          ]
        },
        {
          "output_type": "stream",
          "name": "stderr",
          "text": [
            "INFO:tensorflow:*** Available Device: _DeviceAttributes(/job:worker/replica:0/task:0/device:TPU:3, TPU, 0, 0)\n"
          ]
        },
        {
          "output_type": "stream",
          "name": "stdout",
          "text": [
            "INFO:tensorflow:*** Available Device: _DeviceAttributes(/job:worker/replica:0/task:0/device:TPU:4, TPU, 0, 0)\n"
          ]
        },
        {
          "output_type": "stream",
          "name": "stderr",
          "text": [
            "INFO:tensorflow:*** Available Device: _DeviceAttributes(/job:worker/replica:0/task:0/device:TPU:4, TPU, 0, 0)\n"
          ]
        },
        {
          "output_type": "stream",
          "name": "stdout",
          "text": [
            "INFO:tensorflow:*** Available Device: _DeviceAttributes(/job:worker/replica:0/task:0/device:TPU:5, TPU, 0, 0)\n"
          ]
        },
        {
          "output_type": "stream",
          "name": "stderr",
          "text": [
            "INFO:tensorflow:*** Available Device: _DeviceAttributes(/job:worker/replica:0/task:0/device:TPU:5, TPU, 0, 0)\n"
          ]
        },
        {
          "output_type": "stream",
          "name": "stdout",
          "text": [
            "INFO:tensorflow:*** Available Device: _DeviceAttributes(/job:worker/replica:0/task:0/device:TPU:6, TPU, 0, 0)\n"
          ]
        },
        {
          "output_type": "stream",
          "name": "stderr",
          "text": [
            "INFO:tensorflow:*** Available Device: _DeviceAttributes(/job:worker/replica:0/task:0/device:TPU:6, TPU, 0, 0)\n"
          ]
        },
        {
          "output_type": "stream",
          "name": "stdout",
          "text": [
            "INFO:tensorflow:*** Available Device: _DeviceAttributes(/job:worker/replica:0/task:0/device:TPU:7, TPU, 0, 0)\n"
          ]
        },
        {
          "output_type": "stream",
          "name": "stderr",
          "text": [
            "INFO:tensorflow:*** Available Device: _DeviceAttributes(/job:worker/replica:0/task:0/device:TPU:7, TPU, 0, 0)\n"
          ]
        },
        {
          "output_type": "stream",
          "name": "stdout",
          "text": [
            "INFO:tensorflow:*** Available Device: _DeviceAttributes(/job:worker/replica:0/task:0/device:TPU_SYSTEM:0, TPU_SYSTEM, 0, 0)\n"
          ]
        },
        {
          "output_type": "stream",
          "name": "stderr",
          "text": [
            "INFO:tensorflow:*** Available Device: _DeviceAttributes(/job:worker/replica:0/task:0/device:TPU_SYSTEM:0, TPU_SYSTEM, 0, 0)\n"
          ]
        },
        {
          "output_type": "stream",
          "name": "stdout",
          "text": [
            "INFO:tensorflow:*** Available Device: _DeviceAttributes(/job:worker/replica:0/task:0/device:XLA_CPU:0, XLA_CPU, 0, 0)\n"
          ]
        },
        {
          "output_type": "stream",
          "name": "stderr",
          "text": [
            "INFO:tensorflow:*** Available Device: _DeviceAttributes(/job:worker/replica:0/task:0/device:XLA_CPU:0, XLA_CPU, 0, 0)\n"
          ]
        }
      ]
    },
    {
      "cell_type": "code",
      "metadata": {
        "id": "t686yWjJ1NUe"
      },
      "source": [
        "kmeans_kwargs = {\n",
        "  \"init\": \"random\",\n",
        "  \"n_init\": 10,\n",
        "  \"max_iter\": 300,\n",
        "  }\n",
        "\n",
        "def elbow_method(X):\n",
        "  # A list holds the SSE values for each k\n",
        "  sse = []\n",
        "  for k in range(1, 11):\n",
        "      kmeans = KMeans(n_clusters = k, **kmeans_kwargs)\n",
        "      kmeans.fit(X)\n",
        "      sse.append(kmeans.inertia_)\n",
        "  plt.style.use(\"fivethirtyeight\")\n",
        "  plt.plot(range(1, 11), sse)\n",
        "  plt.xticks(range(1, 11))\n",
        "  plt.xlabel(\"Number of Clusters\")\n",
        "  plt.ylabel(\"SSE\")\n",
        "  plt.show()\n",
        "  kl = KneeLocator(range(1, 11), sse, curve=\"convex\", direction=\"decreasing\")\n",
        "  print(\"Optimum number of clusters is: \", kl.elbow)\n",
        "  return int(kl.elbow)\n",
        "\n",
        "def plot_clustering(X, labels, centers):\n",
        "  if X.shape[1] == 3:\n",
        "    df = pd.DataFrame({'feature1':X[:, 0],'feature2':X[:, 1],'feature3':X[:, 2],'labels':labels})\n",
        "    fig = go.Figure(data=go.Scatter3d(\n",
        "        x = df['feature1'],\n",
        "        y = df['feature2'],\n",
        "        z = df['feature3'],\n",
        "        mode='markers',\n",
        "        marker=dict(\n",
        "            color=df['labels'],\n",
        "            colorscale='Viridis',\n",
        "            line_width=1\n",
        "        )\n",
        "    ))\n",
        "    fig.update_layout(\n",
        "        xaxis_title=\"1st principal component\",\n",
        "        yaxis_title=\"2nd principal component\",\n",
        "        font=dict(\n",
        "            family=\"Courier New, monospace\",\n",
        "            size=18,\n",
        "            color=\"RebeccaPurple\",\n",
        "        ),\n",
        "        title={\n",
        "          'text': \"Plot Customer Clustering\",\n",
        "          'y':0.9,\n",
        "          'x':0.5,\n",
        "          'xanchor': 'center',\n",
        "          'yanchor': 'top'}\n",
        "        \n",
        "    )\n",
        "    fig.show()\n",
        "  else:\n",
        "    df = pd.DataFrame({'feature1':X[:, 0],'feature2':X[:, 1],'labels':labels})\n",
        "    fig = go.Figure(data=go.Scattergl(\n",
        "        x = df['feature1'],\n",
        "        y = df['feature2'],\n",
        "        mode='markers',\n",
        "        marker=dict(\n",
        "            color=df['labels'],\n",
        "            colorscale='Viridis',\n",
        "            line_width=1\n",
        "        )\n",
        "    ))\n",
        "    fig.update_layout(\n",
        "        xaxis_title=\"1st principal component\",\n",
        "        yaxis_title=\"2nd principal component\",\n",
        "        font=dict(\n",
        "            family=\"Courier New, monospace\",\n",
        "            size=18,\n",
        "            color=\"RebeccaPurple\",\n",
        "        ),\n",
        "        title={\n",
        "          'text': \"Plot Customer Clustering\",\n",
        "          'y':0.9,\n",
        "          'x':0.5,\n",
        "          'xanchor': 'center',\n",
        "          'yanchor': 'top'}\n",
        "        \n",
        "    )\n",
        "    fig.show()\n",
        "\n",
        "def do_kmeans(X, n_clusters,):\n",
        "  kmeans = KMeans(n_clusters = n_clusters, **kmeans_kwargs)\n",
        "  kmeans.fit(X)\n",
        "  print(set(kmeans.labels_))\n",
        "\n",
        "  silhouette_avg = silhouette_score(X, kmeans.labels_)\n",
        "  print(\"Silhouette: \", silhouette_avg , \" The best value is 1 and the worst value is -1.\")\n",
        "\n",
        "  print(\"Davies–Bouldin index: \", davies_bouldin_score(X, kmeans.labels_), \" lower values indicating better clustering.\")\n",
        "\n",
        "  plot_clustering(X, kmeans.labels_, kmeans.cluster_centers_)"
      ],
      "execution_count": 58,
      "outputs": []
    },
    {
      "cell_type": "code",
      "metadata": {
        "id": "J56P11U9cE_d"
      },
      "source": [
        "def create_model():\n",
        "  latent_dim = 16\n",
        "  decoder_dim = 4\n",
        "  num_dynamic_features = 4\n",
        "  ###########################################  encoder  ###########################################\n",
        "\n",
        "  # Sequence input shape is N*2 which N is sequence length and 2 is price and time\n",
        "  sequence_input = Input(name='sequence_input', shape=(None, num_dynamic_features))\n",
        "\n",
        "  # Many_to_one_lstm\n",
        "  outputs  = LSTM(64, return_sequences=True)(sequence_input)\n",
        "  # outputs = GRU(2048, return_sequences=True)(outputs)\n",
        "  # outputs = Dropout(0.2, input_shape=(2,))(outputs)\n",
        "  encoder_out , hidden_state, cell_state = LSTM(latent_dim, return_state=True, return_sequences=True)(outputs)\n",
        "\n",
        "  latent_space = Concatenate()([hidden_state, cell_state])\n",
        "  #Layer below output can be used for clustering purposes\n",
        "  latent_space = Dense(latent_dim, activation = 'relu', name='latent_space')(latent_space)\n",
        "\n",
        "  ###########################################  /encoder  ###########################################\n",
        "\n",
        "  ###########################################  decoder  ###########################################\n",
        "\n",
        "  # Temporary input with a time step delay for producing sequence output\n",
        "  # This input is exacly similar to sequence_input with only this diffrence that has a time step delay\n",
        "  sequence_output_input = Input(name='sequence_output_input', shape=(None, num_dynamic_features))\n",
        "\n",
        "  # One to many GRU (because of its simplicity, we used GRU instead of LSTM)\n",
        "  decoder_out = GRU(latent_dim, return_sequences=True)(sequence_output_input, initial_state = latent_space)\n",
        "  ###########################################  attention  ###########################################\n",
        "  # attention = dot([decoder_out, encoder_out], axes=[2, 2])\n",
        "  # attention = Activation('softmax')(attention)\n",
        "  # context = dot([attention, encoder_out], axes=[2,1])\n",
        "  # decoder_combined_context = Concatenate()([context, decoder_out])\n",
        "  ###########################################  /attention  ###########################################\n",
        "\n",
        "  decoder_outputs = TimeDistributed(Dense(decoder_dim, activation='sigmoid'),name='decoder_outputs')(decoder_out)\n",
        "\n",
        "  ###########################################  /decoder  ###########################################\n",
        "\n",
        "  # Model has three inputs and 2 outputs (last input is temorary)\n",
        "  model = Model(inputs = [sequence_input, sequence_output_input],\n",
        "              outputs = [decoder_outputs])\n",
        "\n",
        "  return model"
      ],
      "execution_count": 28,
      "outputs": []
    },
    {
      "cell_type": "code",
      "metadata": {
        "colab": {
          "base_uri": "https://localhost:8080/"
        },
        "id": "j231INRoveJc",
        "outputId": "3b05488f-2932-48a8-f7f5-f1cda18fcd40"
      },
      "source": [
        "with strategy.scope():\n",
        "  model = create_model()\n",
        "  model.compile(optimizer=tf.keras.optimizers.Adam(),\n",
        "        loss=tf.keras.losses.MSE)\n",
        "  model.summary()"
      ],
      "execution_count": 29,
      "outputs": [
        {
          "output_type": "stream",
          "name": "stdout",
          "text": [
            "Model: \"model\"\n",
            "__________________________________________________________________________________________________\n",
            "Layer (type)                    Output Shape         Param #     Connected to                     \n",
            "==================================================================================================\n",
            "sequence_input (InputLayer)     [(None, None, 4)]    0                                            \n",
            "__________________________________________________________________________________________________\n",
            "lstm (LSTM)                     (None, None, 64)     17664       sequence_input[0][0]             \n",
            "__________________________________________________________________________________________________\n",
            "lstm_1 (LSTM)                   [(None, None, 16), ( 5184        lstm[0][0]                       \n",
            "__________________________________________________________________________________________________\n",
            "concatenate (Concatenate)       (None, 32)           0           lstm_1[0][1]                     \n",
            "                                                                 lstm_1[0][2]                     \n",
            "__________________________________________________________________________________________________\n",
            "sequence_output_input (InputLay [(None, None, 4)]    0                                            \n",
            "__________________________________________________________________________________________________\n",
            "latent_space (Dense)            (None, 16)           528         concatenate[0][0]                \n",
            "__________________________________________________________________________________________________\n",
            "gru (GRU)                       (None, None, 16)     1056        sequence_output_input[0][0]      \n",
            "                                                                 latent_space[0][0]               \n",
            "__________________________________________________________________________________________________\n",
            "decoder_outputs (TimeDistribute (None, None, 4)      68          gru[0][0]                        \n",
            "==================================================================================================\n",
            "Total params: 24,500\n",
            "Trainable params: 24,500\n",
            "Non-trainable params: 0\n",
            "__________________________________________________________________________________________________\n"
          ]
        }
      ]
    },
    {
      "cell_type": "code",
      "metadata": {
        "colab": {
          "base_uri": "https://localhost:8080/"
        },
        "id": "9sMN2lmrwfgm",
        "outputId": "68ee08af-9674-43a6-f79c-fec5968e4042"
      },
      "source": [
        "batch_size = 512\n",
        "inputs = [sequence_input_array, sequence_output_input_array]\n",
        "outputs = [sequence_output_array]\n",
        "\n",
        "training_history = model.fit(inputs, outputs,\n",
        "                             epochs=20,\n",
        "                             batch_size = batch_size,\n",
        "                             validation_split=0.1)"
      ],
      "execution_count": 30,
      "outputs": [
        {
          "output_type": "stream",
          "name": "stdout",
          "text": [
            "Epoch 1/20\n",
            "8/8 [==============================] - 20s 1s/step - loss: 0.5766 - val_loss: 0.7126\n",
            "Epoch 2/20\n",
            "8/8 [==============================] - 3s 379ms/step - loss: 0.5640 - val_loss: 0.6993\n",
            "Epoch 3/20\n",
            "8/8 [==============================] - 3s 384ms/step - loss: 0.5511 - val_loss: 0.6855\n",
            "Epoch 4/20\n",
            "8/8 [==============================] - 3s 380ms/step - loss: 0.5365 - val_loss: 0.6685\n",
            "Epoch 5/20\n",
            "8/8 [==============================] - 3s 381ms/step - loss: 0.5088 - val_loss: 0.6162\n",
            "Epoch 6/20\n",
            "8/8 [==============================] - 3s 387ms/step - loss: 0.3526 - val_loss: 0.5521\n",
            "Epoch 7/20\n",
            "8/8 [==============================] - 3s 383ms/step - loss: 0.3354 - val_loss: 0.5521\n",
            "Epoch 8/20\n",
            "8/8 [==============================] - 3s 380ms/step - loss: 0.3317 - val_loss: 0.5511\n",
            "Epoch 9/20\n",
            "8/8 [==============================] - 3s 376ms/step - loss: 0.3317 - val_loss: 0.5511\n",
            "Epoch 10/20\n",
            "8/8 [==============================] - 3s 380ms/step - loss: 0.3317 - val_loss: 0.5511\n",
            "Epoch 11/20\n",
            "8/8 [==============================] - 3s 380ms/step - loss: 0.3317 - val_loss: 0.5511\n",
            "Epoch 12/20\n",
            "8/8 [==============================] - 3s 381ms/step - loss: 0.3317 - val_loss: 0.5511\n",
            "Epoch 13/20\n",
            "8/8 [==============================] - 3s 382ms/step - loss: 0.3317 - val_loss: 0.5511\n",
            "Epoch 14/20\n",
            "8/8 [==============================] - 3s 380ms/step - loss: 0.3317 - val_loss: 0.5511\n",
            "Epoch 15/20\n",
            "8/8 [==============================] - 3s 381ms/step - loss: 0.3317 - val_loss: 0.5511\n",
            "Epoch 16/20\n",
            "8/8 [==============================] - 3s 386ms/step - loss: 0.3317 - val_loss: 0.5511\n",
            "Epoch 17/20\n",
            "8/8 [==============================] - 3s 382ms/step - loss: 0.3317 - val_loss: 0.5511\n",
            "Epoch 18/20\n",
            "8/8 [==============================] - 3s 387ms/step - loss: 0.3317 - val_loss: 0.5511\n",
            "Epoch 19/20\n",
            "8/8 [==============================] - 3s 385ms/step - loss: 0.3317 - val_loss: 0.5511\n",
            "Epoch 20/20\n",
            "8/8 [==============================] - 3s 377ms/step - loss: 0.3317 - val_loss: 0.5511\n"
          ]
        }
      ]
    },
    {
      "cell_type": "code",
      "metadata": {
        "colab": {
          "base_uri": "https://localhost:8080/",
          "height": 772
        },
        "id": "gvyGg512YpN3",
        "outputId": "daaeec54-156d-4011-d59b-2c1f837bce31"
      },
      "source": [
        "average_loss = np.average(training_history.history['loss'])\n",
        "print(\"Average test loss: \", round(average_loss , 4))\n",
        "plot_model(model, show_shapes=True, show_layer_names=True)"
      ],
      "execution_count": 31,
      "outputs": [
        {
          "output_type": "stream",
          "name": "stdout",
          "text": [
            "Average test loss:  0.3869\n"
          ]
        },
        {
          "output_type": "execute_result",
          "data": {
            "image/png": "[encoded data removed]",
            "text/plain": [
              "<IPython.core.display.Image object>"
            ]
          },
          "metadata": {},
          "execution_count": 31
        }
      ]
    },
    {
      "cell_type": "code",
      "metadata": {
        "id": "AuOs3OWArKsa"
      },
      "source": [
        "# plot_model(model, show_shapes=True, show_layer_names=True)\n",
        "# %load_ext tensorboard\n",
        "# %tensorboard --logdir logs/fit\n",
        "# save the model to disk\n",
        "# model.save(my_drive_path)\n",
        "# load model\n",
        "# model = keras.models.load_model(my_drive_path)"
      ],
      "execution_count": 32,
      "outputs": []
    },
    {
      "cell_type": "code",
      "metadata": {
        "colab": {
          "base_uri": "https://localhost:8080/"
        },
        "id": "LHkYB0m2Bd2b",
        "outputId": "00af6477-9c8b-48c7-ab17-2f3e90aa987f"
      },
      "source": [
        "encoder = Model(model.input, model.get_layer(\"latent_space\").output)\n",
        "predictions = encoder.predict(inputs, batch_size = batch_size,verbose=1)"
      ],
      "execution_count": 34,
      "outputs": [
        {
          "output_type": "stream",
          "name": "stdout",
          "text": [
            "9/9 [==============================] - 8s 839ms/step\n"
          ]
        }
      ]
    },
    {
      "cell_type": "code",
      "metadata": {
        "id": "QXHbq4FoUrAi"
      },
      "source": [
        "# opt_cluster_numbers = elbow_method(predictions)\n",
        "opt_cluster_numbers = 3\n",
        "n_components = 2"
      ],
      "execution_count": 73,
      "outputs": []
    },
    {
      "cell_type": "code",
      "metadata": {
        "colab": {
          "base_uri": "https://localhost:8080/",
          "height": 597
        },
        "id": "vDI6AQWAUC5x",
        "outputId": "7e23c8d2-d25f-4f00-d631-2c15f64aef0f"
      },
      "source": [
        "# Dynamic time warping\n",
        "distance_matrix = np.load(my_drive_path + 'distance_matrix3.npy')\n",
        "\n",
        "sc = StandardScaler()\n",
        "standard_distance_matrix = sc.fit_transform(distance_matrix)\n",
        "pca = PCA(n_components=n_components)\n",
        "X_distance_matrix_pca = pca.fit_transform(standard_distance_matrix)\n",
        "\n",
        "\n",
        "do_kmeans(X_distance_matrix_pca, opt_cluster_numbers)"
      ],
      "execution_count": 62,
      "outputs": [
        {
          "output_type": "stream",
          "name": "stdout",
          "text": [
            "{0, 1, 2}\n",
            "Silhouette:  0.5594483165413539  The best value is 1 and the worst value is -1.\n",
            "Davies–Bouldin index:  0.6012193839401972  lower values indicating better clustering.\n"
          ]
        },
        {
          "output_type": "display_data",
          "data": {
            "text/html": [
              "<html>\n",
              "<head><meta charset=\"utf-8\" /></head>\n",
              "<body>\n",
              "    <div>\n",
              "            <script src=\"https://cdnjs.cloudflare.com/ajax/libs/mathjax/2.7.5/MathJax.js?config=TeX-AMS-MML_SVG\"></script><script type=\"text/javascript\">if (window.MathJax) {MathJax.Hub.Config({SVG: {font: \"STIX-Web\"}});}</script>\n",
              "                <script type=\"text/javascript\">window.PlotlyConfig = {MathJaxConfig: 'local'};</script>\n",
              "        <script src=\"https://cdn.plot.ly/plotly-latest.min.js\"></script>    \n",
              "            <div id=\"710cc6ee-69b5-4717-940c-cbad6c5d82dd\" class=\"plotly-graph-div\" style=\"height:525px; width:100%;\"></div>\n",
              "            <script type=\"text/javascript\">\n",
              "                \n",
              "                    window.PLOTLYENV=window.PLOTLYENV || {};\n",
              "                    \n",
              "                if (document.getElementById(\"710cc6ee-69b5-4717-940c-cbad6c5d82dd\")) {\n",
              "                    Plotly.newPlot(\n",
              "                        '710cc6ee-69b5-4717-940c-cbad6c5d82dd',\n",
              "                        [{\"marker\": {\"color\": [0, 2, 0, 0, 0, 0, 2, 2, 2, 2, 0, 0, 0, 2, 2, 2, 2, 1, 2, 0, 0, 2, 2, 2, 1, 2, 0, 2, 1, 1, 2, 1, 1, 0, 2, 2, 0, 0, 0, 0, 0, 2, 0, 0, 1, 2, 0, 2, 2, 2, 0, 0, 0, 2, 2, 0, 2, 0, 0, 0, 0, 2, 1, 1, 1, 0, 0, 2, 1, 2, 2, 0, 2, 2, 0, 0, 0, 1, 0, 2, 0, 0, 0, 0, 2, 0, 0, 2, 1, 2, 0, 1, 2, 2, 2, 2, 0, 2, 2, 0, 2, 0, 2, 0, 0, 0, 0, 2, 0, 0, 2, 2, 0, 2, 0, 0, 2, 1, 0, 2, 0, 0, 0, 2, 2, 0, 0, 0, 2, 0, 2, 0, 2, 0, 0, 2, 0, 0, 0, 0, 0, 0, 0, 2, 2, 0, 0, 0, 2, 2, 2, 0, 0, 0, 0, 0, 0, 1, 0, 2, 2, 0, 2, 2, 0, 1, 2, 0, 2, 2, 0, 0, 2, 2, 2, 1, 0, 2, 2, 2, 1, 0, 0, 0, 0, 2, 2, 0, 0, 0, 2, 0, 0, 0, 0, 2, 0, 2, 2, 1, 2, 0, 0, 0, 2, 1, 2, 0, 2, 1, 2, 0, 0, 2, 1, 1, 0, 2, 0, 2, 0, 0, 0, 0, 0, 1, 2, 0, 2, 1, 0, 1, 0, 2, 2, 0, 0, 0, 2, 1, 2, 2, 0, 0, 0, 0, 0, 2, 0, 0, 1, 0, 2, 0, 2, 0, 2, 2, 2, 0, 2, 1, 2, 0, 2, 0, 2, 0, 2, 2, 2, 0, 0, 2, 1, 1, 0, 0, 2, 2, 0, 0, 0, 1, 0, 0, 0, 2, 2, 0, 0, 2, 0, 2, 0, 0, 0, 1, 0, 0, 0, 0, 1, 0, 0, 2, 0, 0, 0, 0, 2, 0, 2, 2, 0, 0, 0, 2, 0, 2, 2, 0, 1, 0, 2, 0, 0, 2, 2, 2, 1, 2, 0, 0, 0, 0, 0, 2, 2, 2, 0, 0, 0, 2, 1, 0, 1, 0, 2, 2, 0, 0, 0, 0, 2, 0, 1, 0, 2, 1, 1, 0, 0, 0, 0, 2, 0, 2, 2, 0, 0, 1, 2, 2, 2, 2, 1, 1, 0, 2, 2, 2, 2, 0, 1, 2, 0, 2, 2, 0, 0, 2, 2, 0, 2, 2, 0, 1, 2, 0, 0, 0, 2, 0, 2, 0, 2, 2, 0, 2, 0, 2, 0, 2, 0, 0, 0, 2, 0, 0, 2, 1, 2, 0, 0, 2, 2, 2, 0, 0, 0, 1, 2, 0, 2, 1, 2, 0, 0, 0, 2, 2, 0, 2, 0, 0, 2, 0, 0, 0, 1, 0, 0, 0, 0, 2, 2, 0, 2, 0, 0, 0, 1, 0, 2, 0, 2, 0, 2, 0, 2, 1, 0, 2, 2, 2, 2, 0, 2, 0, 0, 2, 0, 0, 0, 1, 2, 2, 0, 0, 0, 0, 2, 0, 0, 0, 1, 0, 2, 2, 2, 2, 0, 0, 2, 0, 1, 0, 0, 2, 0, 0, 0, 1, 2, 2, 0, 0, 2, 2, 0, 0, 0, 2, 0, 2, 0, 0, 0, 1, 2, 0, 0, 0, 0, 0, 2, 0, 0, 0, 2, 0, 2, 0, 0, 0, 2, 2, 1, 0, 0, 2, 2, 0, 0, 0, 0, 0, 0, 2, 0, 0, 2, 2, 0, 0, 2, 0, 2, 2, 2, 0, 0, 2, 0, 0, 2, 0, 0, 2, 0, 0, 0, 2, 0, 0, 2, 0, 0, 0, 2, 2, 2, 0, 2, 2, 0, 1, 1, 0, 2, 0, 0, 0, 0, 0, 0, 1, 0, 0, 2, 0, 0, 2, 0, 0, 2, 0, 0, 2, 1, 0, 2, 2, 0, 0, 1, 2, 0, 0, 0, 2, 0, 0, 0, 2, 0, 0, 0, 0, 0, 0, 0, 2, 0, 2, 0, 0, 2, 0, 1, 2, 0, 0, 1, 2, 0, 2, 2, 0, 2, 0, 2, 2, 1, 0, 2, 0, 0, 2, 0, 2, 0, 1, 0, 2, 2, 0, 0, 2, 2, 2, 1, 0, 0, 0, 2, 0, 0, 0, 0, 0, 1, 0, 2, 1, 0, 0, 0, 0, 1, 2, 0, 2, 0, 0, 0, 0, 0, 0, 2, 0, 2, 0, 0, 0, 0, 2, 0, 0, 0, 0, 0, 0, 0, 2, 0, 0, 2, 2, 0, 0, 2, 1, 2, 2, 2, 2, 2, 0, 2, 2, 0, 2, 0, 2, 2, 2, 0, 0, 0, 1, 0, 0, 0, 0, 0, 0, 2, 0, 0, 0, 0, 0, 1, 0, 2, 0, 2, 2, 2, 0, 2, 2, 2, 0, 0, 1, 2, 2, 2, 0, 0, 0, 0, 2, 0, 0, 0, 0, 2, 0, 0, 0, 0, 0, 2, 0, 2, 2, 0, 0, 0, 1, 2, 1, 0, 0, 2, 2, 1, 0, 2, 2, 2, 2, 0, 2, 0, 2, 2, 1, 1, 0, 0, 2, 2, 0, 0, 0, 2, 0, 0, 2, 0, 0, 0, 2, 0, 2, 2, 2, 0, 2, 2, 0, 0, 0, 0, 0, 0, 2, 0, 0, 0, 1, 2, 2, 0, 0, 0, 0, 2, 0, 0, 0, 2, 0, 0, 2, 0, 2, 0, 1, 2, 0, 2, 0, 0, 0, 0, 0, 0, 2, 0, 0, 0, 0, 2, 0, 0, 0, 0, 0, 0, 0, 0, 0, 1, 0, 2, 0, 2, 2, 2, 0, 2, 2, 0, 0, 0, 0, 2, 2, 0, 0, 0, 1, 0, 0, 2, 2, 0, 0, 2, 0, 2, 2, 0, 0, 0, 1, 0, 2, 2, 0, 2, 0, 2, 0, 0, 0, 0, 0, 0, 0, 2, 2, 0, 2, 2, 0, 0, 0, 1, 1, 0, 2, 1, 1, 0, 2, 0, 1, 1, 2, 2, 0, 0, 0, 2, 2, 0, 2, 0, 0, 1, 2, 0, 2, 0, 0, 1, 0, 2, 1, 0, 0, 2, 2, 2, 0, 1, 2, 2, 2, 2, 0, 0, 0, 0, 0, 1, 2, 2, 0, 0, 0, 2, 0, 2, 0, 0, 0, 2, 0, 0, 2, 1, 1, 2, 0, 2, 1, 0, 0, 2, 0, 2, 2, 0, 1, 2, 0, 0, 0, 0, 0, 2, 0, 2, 0, 0, 2, 1, 0, 2, 0, 2, 0, 0, 2, 0, 2, 2, 0, 1, 0, 0, 2, 0, 2, 2, 0, 1, 0, 2, 0, 0, 0, 2, 0, 2, 1, 2, 0, 1, 0, 2, 0, 1, 0, 2, 0, 1, 0, 0, 1, 0, 0, 0, 0, 0, 2, 1, 0, 0, 2, 0, 2, 2, 0, 0, 0, 0, 2, 2, 0, 2, 0, 2, 0, 1, 2, 0, 0, 0, 2, 0, 2, 2, 0, 2, 0, 2, 0, 1, 0, 0, 0, 0, 0, 0, 0, 2, 2, 0, 2, 0, 2, 0, 1, 2, 2, 2, 0, 0, 2, 0, 0, 2, 0, 0, 0, 2, 0, 0, 0, 2, 0, 0, 2, 0, 0, 2, 0, 2, 0, 0, 2, 2, 0, 0, 0, 0, 2, 1, 0, 0, 0, 0, 2, 0, 0, 0, 0, 1, 0, 0, 2, 2, 2, 2, 1, 2, 2, 2, 0, 2, 0, 2, 0, 2, 2, 0, 2, 2, 0, 2, 0, 0, 2, 2, 2, 0, 0, 0, 0, 0, 0, 2, 2, 1, 2, 0, 2, 0, 2, 2, 2, 0, 0, 2, 2, 0, 2, 0, 0, 2, 2, 2, 0, 0, 1, 0, 2, 0, 2, 2, 0, 0, 0, 0, 2, 0, 0, 0, 2, 2, 0, 0, 2, 2, 0, 1, 2, 2, 0, 0, 2, 2, 0, 1, 2, 0, 0, 2, 1, 2, 0, 0, 0, 0, 2, 0, 2, 2, 0, 2, 0, 0, 0, 0, 2, 2, 2, 2, 0, 0, 0, 2, 0, 0, 0, 2, 0, 1, 2, 0, 0, 1, 0, 2, 0, 0, 0, 2, 2, 0, 2, 2, 0, 2, 1, 0, 0, 0, 2, 2, 0, 0, 0, 0, 2, 1, 0, 0, 1, 1, 2, 2, 2, 2, 2, 1, 2, 0, 0, 0, 2, 0, 0, 2, 0, 0, 2, 0, 0, 0, 2, 0, 2, 0, 0, 2, 0, 0, 0, 2, 2, 0, 0, 2, 0, 0, 0, 0, 0, 2, 1, 0, 0, 1, 2, 0, 0, 1, 0, 1, 0, 0, 2, 0, 0, 2, 2, 0, 0, 0, 2, 0, 0, 2, 0, 2, 0, 2, 0, 0, 1, 2, 0, 0, 2, 0, 0, 0, 2, 1, 2, 0, 2, 0, 2, 0, 2, 0, 2, 2, 0, 2, 2, 2, 2, 1, 2, 2, 0, 1, 0, 0, 2, 2, 0, 0, 0, 2, 0, 0, 0, 1, 2, 0, 0, 2, 2, 0, 1, 0, 1, 1, 2, 0, 0, 0, 2, 1, 0, 1, 0, 2, 0, 0, 2, 0, 2, 0, 0, 0, 0, 2, 0, 0, 0, 0, 0, 0, 2, 2, 2, 0, 2, 0, 0, 0, 0, 2, 0, 0, 2, 2, 0, 0, 1, 0, 0, 2, 2, 0, 0, 2, 2, 0, 0, 2, 0, 0, 2, 2, 0, 0, 0, 0, 2, 1, 0, 2, 0, 0, 1, 0, 2, 0, 2, 0, 0, 0, 0, 0, 0, 2, 0, 2, 0, 2, 2, 0, 0, 0, 0, 0, 1, 0, 2, 2, 2, 0, 2, 2, 1, 0, 2, 0, 1, 0, 0, 2, 0, 2, 0, 2, 2, 2, 2, 0, 0, 0, 1, 2, 0, 2, 0, 0, 0, 0, 0, 0, 0, 2, 0, 0, 0, 0, 1, 2, 2, 2, 0, 0, 1, 2, 0, 0, 0, 0, 0, 0, 2, 2, 1, 1, 0, 0, 2, 0, 2, 1, 0, 0, 0, 2, 0, 0, 2, 2, 0, 0, 0, 2, 0, 2, 2, 0, 2, 0, 0, 0, 2, 2, 0, 1, 2, 2, 0, 0, 0, 0, 2, 2, 2, 0, 0, 2, 0, 2, 0, 0, 2, 0, 0, 2, 2, 0, 1, 1, 0, 2, 0, 2, 2, 1, 2, 0, 0, 2, 2, 2, 0, 0, 2, 2, 2, 0, 2, 0, 1, 0, 0, 0, 0, 2, 2, 1, 1, 0, 0, 0, 0, 0, 2, 1, 0, 0, 0, 2, 0, 2, 0, 2, 2, 2, 2, 0, 2, 1, 0, 0, 1, 1, 0, 2, 2, 2, 2, 2, 0, 1, 0, 2, 0, 2, 2, 2, 2, 2, 0, 0, 2, 0, 2, 0, 1, 0, 2, 0, 2, 0, 2, 2, 2, 2, 2, 0, 0, 0, 2, 0, 2, 0, 0, 0, 0, 0, 0, 2, 0, 0, 0, 0, 0, 0, 2, 1, 0, 0, 0, 2, 0, 2, 2, 2, 0, 0, 0, 2, 0, 2, 0, 2, 0, 0, 0, 0, 2, 0, 2, 0, 2, 0, 0, 1, 2, 2, 1, 1, 2, 0, 2, 2, 2, 0, 0, 2, 2, 2, 0, 0, 2, 2, 0, 0, 0, 0, 0, 0, 0, 2, 0, 0, 2, 0, 0, 0, 0, 2, 0, 0, 0, 2, 0, 2, 1, 0, 0, 2, 1, 0, 2, 2, 2, 2, 2, 0, 1, 2, 0, 2, 2, 2, 0, 0, 0, 0, 0, 0, 0, 0, 1, 2, 0, 1, 2, 1, 0, 0, 2, 0, 0, 0, 0, 2, 0, 0, 1, 0, 0, 0, 2, 2, 2, 0, 2, 2, 0, 0, 0, 2, 0, 2, 1, 0, 2, 0, 1, 1, 2, 1, 0, 1, 2, 0, 0, 2, 2, 2, 0, 0, 0, 2, 0, 0, 0, 0, 0, 0, 0, 0, 1, 0, 2, 2, 0, 1, 0, 2, 0, 0, 2, 2, 0, 2, 0, 2, 0, 0, 0, 0, 2, 0, 0, 0, 2, 0, 2, 1, 2, 0, 2, 0, 1, 2, 0, 2, 2, 0, 1, 0, 2, 2, 0, 2, 0, 0, 2, 2, 2, 2, 2, 0, 0, 0, 2, 0, 1, 0, 1, 2, 2, 0, 1, 1, 0, 2, 0, 0, 1, 0, 0, 2, 2, 0, 1, 0, 0, 0, 0, 0, 0, 0, 2, 0, 0, 1, 0, 0, 0, 0, 2, 0, 2, 0, 2, 1, 0, 2, 2, 1, 0, 0, 2, 0, 2, 0, 0, 0, 0, 2, 2, 2, 0, 2, 2, 2, 1, 2, 0, 0, 0, 0, 0, 0, 2, 0, 0, 2, 2, 0, 2, 0, 2, 2, 2, 2, 2, 0, 2, 2, 1, 0, 0, 0, 1, 1, 0, 2, 1, 0, 0, 2, 2, 0, 0, 1, 2, 2, 0, 2, 0, 2, 2, 0, 0, 0, 0, 0, 0, 0, 0, 0, 2, 0, 1, 0, 1, 0, 0, 2, 0, 1, 0, 1, 1, 0, 0, 1, 0, 2, 0, 2, 1, 1, 2, 0, 0, 0, 0, 0, 0, 2, 2, 2, 2, 2, 1, 2, 0, 1, 2, 2, 2, 0, 0, 1, 0, 0, 0, 0, 0, 0, 2, 1, 2, 0, 1, 2, 1, 2, 0, 0, 0, 0, 0, 0, 0, 2, 1, 2, 2, 1, 0, 0, 2, 2, 2, 0, 0, 0, 0, 2, 2, 2, 0, 2, 0, 0, 2, 2, 2, 2, 0, 2, 0, 2, 0, 2, 0, 2, 0, 0, 0, 0, 2, 2, 1, 1, 2, 0, 2, 2, 2, 0, 0, 0, 0, 0, 2, 2, 2, 0, 2, 2, 0, 0, 0, 0, 2, 0, 2, 2, 0, 2, 0, 2, 2, 2, 2, 2, 1, 2, 0, 0, 0, 2, 0, 0, 0, 0, 0, 0, 2, 0, 0, 2, 0, 0, 0, 2, 2, 0, 1, 0, 0, 2, 0, 0, 1, 2, 2, 0, 0, 2, 1, 0, 0, 2, 2, 0, 0, 0, 0, 2, 0, 0, 0, 0, 0, 0, 0, 0, 2, 0, 0, 2, 0, 0, 2, 2, 0, 1, 1, 0, 0, 0, 0, 1, 0, 2, 2, 2, 0, 0, 0, 0, 0, 1, 2, 0, 0, 0, 2, 2, 0, 2, 2, 1, 2, 0, 0, 0, 2, 2, 0, 0, 2, 0, 2, 0, 1, 0, 0, 0, 2, 1, 0, 2, 2, 0, 0, 2, 1, 2, 0, 0, 0, 0, 0, 0, 2, 0, 2, 2, 2, 0, 1, 0, 0, 0, 2, 0, 0, 0, 1, 0, 0, 0, 0, 0, 0, 2, 0, 0, 1, 0, 2, 0, 0, 2, 2, 2, 0, 2, 2, 2, 2, 0, 0, 2, 2, 0, 0, 0, 0, 1, 0, 2, 0, 1, 0, 0, 2, 0, 1, 0, 0, 2, 2, 0, 0, 0, 0, 2, 2, 0, 0, 2, 1, 2, 2, 1, 2, 0, 0, 0, 2, 0, 2, 0, 0, 2, 0, 0, 0, 2, 0, 0, 1, 1, 0, 2, 0, 1, 0, 0, 0, 2, 2, 2, 0, 0, 2, 2, 0, 2, 0, 0, 0, 2, 2, 2, 0, 0, 2, 1, 2, 1, 0, 0, 0, 0, 0, 0, 0, 0, 1, 0, 2, 2, 0, 0, 2, 2, 0, 0, 0, 0, 0, 0, 0, 2, 1, 0, 1, 2, 2, 0, 2, 1, 2, 2, 0, 2, 2, 1, 2, 2, 2, 0, 2, 2, 2, 2, 2, 2, 1, 2, 2, 0, 2, 0, 0, 0, 0, 1, 0, 0, 0, 2, 2, 0, 0, 0, 1, 0, 0, 2, 2, 2, 2, 2, 2, 0, 2, 2, 0, 0, 0, 0, 0, 2, 0, 0, 0, 0, 2, 2, 0, 0, 0, 1, 1, 0, 2, 0, 2, 0, 1, 2, 0, 1, 2, 0, 0, 2, 0, 2, 0, 0, 0, 2, 0, 0, 0, 2, 2, 2, 2, 2, 2, 0, 2, 1, 0, 0, 0, 2, 2, 0, 2, 1, 2, 2, 2, 2, 0, 0, 1, 0, 0, 2, 2, 1, 0, 2, 0, 0, 2, 0, 2, 1, 1, 2, 0, 0, 2, 0, 0, 2, 0, 2, 0, 2, 0, 0, 2, 2, 2, 2, 2, 2, 0, 2, 2, 2, 2, 0, 0, 0, 2, 2, 2, 2, 2, 1, 2, 0, 0, 1, 0, 0, 0, 2, 2, 2, 2, 1, 2, 2, 0, 2, 2, 1, 2, 0, 0, 0, 2, 2, 2, 2, 0, 2, 2, 0, 0, 2, 0, 2, 2, 1, 2, 1, 0, 0, 2, 2, 2, 0, 0, 0, 0, 2, 0, 0, 2, 0, 2, 2, 0, 1, 2, 0, 1, 0, 2, 2, 2, 2, 0, 0, 0, 0, 0, 2, 0, 2, 2, 1, 0, 0, 2, 0, 2, 0, 0, 2, 0, 2, 0, 1, 2, 2, 0, 0, 1, 2, 0, 2, 2, 2, 0, 0, 2, 2, 2, 2, 2, 0, 2, 0, 2, 2, 1, 0, 0, 1, 0, 2, 2, 2, 2, 2, 1, 0, 2, 0, 2, 2, 0, 1, 2, 0, 1, 1, 2, 0, 0, 0, 1, 0, 1, 0, 0, 0, 0, 0, 0, 2, 2, 0, 0, 2, 0, 0, 2, 0, 1, 2, 0, 1, 2, 0, 0, 2, 0, 1, 0, 2, 1, 1, 2, 0, 2, 1, 0, 0, 0, 0, 1, 0, 0, 2, 2, 2, 0, 0, 1, 0, 2, 2, 0, 2, 0, 2, 0, 0, 2, 2, 0, 2, 0, 1, 0, 0, 0, 0, 0, 0, 1, 0, 2, 2, 2, 2, 0, 2, 0, 0, 0, 0, 2, 0, 0, 0, 0, 0, 0, 0, 1, 2, 2, 1, 0, 0, 0, 2, 0, 0, 0, 0, 0, 0, 0, 1, 1, 0, 2, 0, 0, 2, 2, 2, 2, 0, 0, 0, 0, 2, 0, 0, 2, 2, 2, 1, 1, 0, 0, 0, 0, 0, 0, 0, 2, 2, 0, 2, 0, 2, 2, 2, 2, 0, 2, 2, 2, 0, 0, 0, 2, 0, 0, 0, 0, 0, 2, 0, 0, 2, 0, 2, 1, 1, 0, 2, 2, 0, 2, 0, 0, 0, 0, 2, 0, 0, 1, 0, 0, 0, 2, 0, 2, 2, 2, 2, 2, 0, 0, 0, 2, 0, 0, 0, 0, 0, 2, 0, 0, 0, 2, 1, 2, 2, 2, 0, 0, 2, 2, 2, 2, 0, 1, 2, 0, 0, 0, 0, 0, 0, 0, 0, 0, 0, 0, 2, 2, 2, 2, 0, 0, 0, 2, 0, 2, 2, 0, 0, 0, 2, 0, 0, 0, 0, 2, 2, 0, 0, 0, 0, 0, 2, 2, 0, 1, 0, 0, 0, 0, 1, 2, 0, 2, 2, 0, 0, 1, 0, 2, 0, 2, 2, 2, 1, 0, 0, 1, 0, 2, 0, 2, 2, 2, 2, 0, 0, 0, 0, 0, 0, 0, 0, 2, 0, 0, 0, 1, 0, 0, 0, 1, 0, 1, 0, 2, 0, 0, 1, 0, 2, 0, 1, 2, 0, 2, 1, 2, 0, 0, 2, 2, 1, 2, 0, 0, 2, 0, 0, 1, 2, 0, 2, 1, 0, 0, 1, 0, 1, 2, 0, 2, 1, 2, 0, 2, 0, 0, 2, 2, 2, 2, 0, 2, 0, 0, 2, 2, 0, 0, 0, 0, 2, 2, 2, 0, 2, 1, 2, 0, 2, 1, 0, 0, 0, 0, 0, 0, 1, 2, 0, 0, 2, 2, 0, 2, 0, 2, 2, 0, 0, 0, 2, 2, 0, 0, 0, 0, 0, 0, 0, 0, 1, 0, 2, 1, 2, 0, 2, 1, 2, 2, 1, 0, 2, 2, 2, 2, 0, 2, 2, 0, 0, 0, 1, 2, 1, 2, 2, 0, 0, 0, 2, 0, 2, 0, 2, 2, 1, 2, 2, 2, 0, 1, 2, 0, 2, 0, 0, 2, 0, 0, 2, 2, 2, 2, 0, 1, 0, 2, 2, 0, 0, 0, 2, 0, 0, 0, 0, 0, 1, 0, 2, 2, 0, 0, 2, 2, 2, 2, 0, 2, 2, 0, 2, 0, 2, 0, 0, 0, 2, 2, 0, 0, 0, 0, 2, 2, 2, 0, 0, 0, 2, 2, 0, 2, 0, 0, 2, 2, 0, 0, 2, 2, 0, 2, 2, 0, 2, 2, 0, 0, 2, 2, 2, 0, 1, 0, 2, 2, 0, 2, 0, 1, 2, 0, 1, 0, 0, 2, 0, 0, 2, 0, 2, 0, 2, 1, 0, 0, 0, 0, 1, 2, 2, 2, 0, 0, 2, 0, 2, 0, 0, 0, 1, 2, 0, 0, 0, 0, 2, 2, 2, 0, 0, 0, 2, 0, 2, 2, 2, 2, 2, 0, 1, 2, 0, 0, 1, 2, 0, 0, 0, 1, 0, 0, 0, 0, 0, 0, 0, 0, 0, 0, 2, 2, 2, 0, 0, 0, 2, 0, 2, 0, 0, 2, 2, 2, 0, 2, 1, 2, 2, 1, 0, 0, 0, 0, 2, 2, 0, 2, 0, 2, 2, 0, 2, 0, 2, 0, 0, 2, 2, 0, 0, 2, 0, 2, 0, 0, 2, 2, 0, 2, 0, 1, 0, 2, 2, 1, 0, 0, 0, 0, 0, 2, 1, 0, 0, 2, 2, 0, 0, 2, 2, 2, 0, 0, 0, 0, 2, 0, 2, 2, 2, 2, 0, 0, 0, 0, 0, 2, 0, 1, 1, 0, 0, 0, 2, 0, 2, 0, 1, 0, 0, 2, 2, 2, 2, 0, 0, 2, 0, 0, 2, 2, 0, 2, 2, 0, 2, 0, 0, 2, 0, 0, 0, 2, 2, 0, 1, 1, 0, 0, 2, 0, 0, 0, 0, 0, 2, 0, 2, 2, 2, 2, 0, 0, 0, 0, 1, 0, 1, 0, 0, 2, 2, 0, 0, 2, 1, 2, 0, 0, 2, 2, 2, 2, 0, 2, 1, 1, 2, 0, 0, 1, 0, 0, 0, 2, 2, 2, 0, 2, 1, 2, 0, 0, 0, 2, 0, 1, 2, 0, 1, 2, 0, 0, 1, 1, 2, 2, 2, 2, 2, 0, 0, 2, 2, 2, 0, 0, 2, 0, 2, 0, 0, 1, 2, 2, 2, 2, 0, 0, 0, 0, 0, 0, 2, 0, 0, 2, 0, 2, 2, 2, 0, 0, 2, 0, 0, 0, 2, 0, 2, 2, 2, 2, 2, 2, 1, 0, 0, 0, 0, 0, 2, 0, 2, 0, 2, 2, 2, 0, 0, 2, 0, 0, 0, 2, 2, 2, 1, 2, 2, 2, 0, 0, 0, 1, 0, 0, 0, 0, 2, 1, 2, 0, 0, 0, 0, 2, 0, 0, 1, 0, 0, 0, 0, 2, 0, 0, 0, 0, 1, 2, 0, 2, 0, 0, 2, 0, 2, 2, 2, 0, 1, 0, 0, 0, 2, 2, 2, 0, 2, 0, 2, 1, 1, 0, 2, 0, 1, 0, 0, 0, 2, 2, 0, 2, 0, 2, 0, 0, 2, 0, 2, 0, 2, 0, 2, 0, 2, 2, 2, 0, 2, 0, 0, 2, 0, 0, 0, 2, 2, 2, 0, 0, 0, 0, 0, 2, 0, 1, 2, 2, 1, 2, 2, 0, 2, 0, 0, 0, 2, 0, 0, 0, 0, 2, 0, 0, 0, 0, 0, 0, 2, 0, 2, 2, 1, 0, 0, 0, 2, 2, 2, 0, 2, 0, 1, 2, 2, 1, 2, 0, 0, 1, 2, 2, 2, 0, 1, 0, 2, 1, 1, 2, 2, 1, 2, 0, 0, 0, 2, 2, 0, 1, 0, 0, 2, 0, 2, 2, 2, 2, 1, 0, 1, 2, 2, 2, 2, 2, 2, 2, 2, 1, 0, 2, 0, 1, 0, 0, 1, 1, 1, 1, 2, 1, 2, 1, 1, 1, 2, 2, 2, 2, 0, 1, 2, 1, 2, 2, 0, 1, 2, 0, 0, 1, 1, 1, 0, 2, 1, 2, 2, 1, 2, 2, 1, 2, 2, 1, 1, 2, 2, 0, 2, 1, 2, 1, 1, 0, 2, 2, 2, 2, 2, 1, 1, 2, 2, 2, 2, 2, 0, 0, 1, 2, 0, 0, 0, 0, 2, 1, 0, 2, 0, 2, 0, 2, 1, 2, 2, 2, 2, 1, 0, 1, 0, 2, 1, 0, 1, 0, 2, 2, 2, 0, 2, 0, 0, 0, 2, 1, 2, 0, 0, 1, 2, 2, 1, 2, 0, 1, 2, 2, 1, 2, 1, 0, 1, 1, 0, 1, 2, 2, 2, 0, 2, 1, 0, 2, 1, 1, 2, 1, 2, 2, 1, 2, 2, 1, 2, 1, 1, 0, 0, 2, 1, 1, 2, 0, 0, 1, 2, 0, 1, 2, 0, 2, 2, 1, 2, 1, 2, 1, 2, 1, 0, 1, 2, 1, 2, 2, 2, 1, 2, 2, 2, 2, 2, 1, 0, 1, 2, 2, 2, 1, 1, 1, 0, 1, 0, 0, 1, 1, 2, 1, 0, 1, 2, 1, 2, 1, 2, 1, 2, 1, 1, 2, 1, 2, 2, 2, 2, 2, 2, 1, 1, 2, 2, 0, 2, 2, 1, 2, 1, 2, 0, 1, 2, 2, 2, 1, 2, 2, 2, 1, 2, 0, 2, 1, 0, 0, 1, 0, 1, 2, 2, 1, 2, 1, 2, 1, 2, 1, 0, 2, 1, 1, 2, 2, 2, 2, 1, 2, 0, 2, 2, 1, 1, 2, 0, 2, 1, 0, 1, 1, 0, 1, 1, 2, 1, 2, 0, 2, 1, 0, 2, 2, 0, 2, 2, 2, 2, 1, 0, 1, 2, 2, 2, 1, 2, 1, 1, 0, 2, 1, 0, 0, 2, 2, 1, 0, 1, 2, 2, 2, 2, 2, 0, 2, 1, 2, 2, 2, 2, 2, 1, 0, 1, 0, 0, 2, 2, 2, 2, 2, 0, 2, 0, 1, 2, 2, 1, 2, 1, 2, 2, 2, 2, 1, 2, 2, 1, 2, 1, 1, 1, 1, 1, 1, 0, 1, 0, 1, 1, 1, 2, 0, 1, 2, 1, 2, 1, 2, 2, 1, 1, 2, 1, 2, 2, 1, 1, 1, 2, 0, 1, 2, 1, 2, 1, 2, 2, 1, 2, 0, 1, 1, 2, 1, 2, 2, 1, 2, 2, 2, 1, 2, 2, 1, 2, 2, 0, 2, 2, 2, 1, 1, 1, 1, 2, 1, 1, 1, 2, 2, 2, 2, 2, 2, 2, 1, 0, 2, 2, 1, 1, 1, 0, 2, 1, 2, 1, 2, 1, 2, 1, 2, 2, 2, 2, 2, 0, 1, 2, 1, 2, 1, 2, 0, 0, 2, 2, 2, 2, 2, 2, 2, 1, 1, 2, 1, 0, 2, 2, 2, 0, 2, 1, 1, 2, 1, 2, 2, 2, 1, 2, 2, 2, 1, 0, 1, 2, 0, 1, 2, 2, 2, 2, 2, 2, 1, 1, 1, 2, 2, 0, 2, 1, 2, 1, 2, 2, 1, 1, 0, 2, 1, 1, 1, 2, 1, 1, 2, 2, 1, 2, 2, 2, 2, 2, 2, 2, 1, 0, 1, 1, 2, 1, 1, 1, 2, 2, 0, 2, 2, 2, 2, 1, 2, 1, 2, 1, 2, 2, 1, 0, 0, 0, 1, 2, 1, 2, 2, 0, 1, 0, 2, 2, 2, 2, 2, 2, 1, 2, 2, 2, 2, 1, 1, 2, 2, 1, 1, 1, 2, 2, 2, 2, 1, 2, 0, 2, 1, 0, 2, 2, 2, 2, 0, 0, 1, 2, 2, 2, 1, 2, 1, 1, 1, 1, 0, 1, 2, 2, 2, 2, 1, 2, 1, 2, 2, 1, 2, 1, 1, 2, 0, 0, 2, 1, 2, 2, 2, 2, 1, 1, 2, 2, 1], \"colorscale\": [[0.0, \"#440154\"], [0.1111111111111111, \"#482878\"], [0.2222222222222222, \"#3e4989\"], [0.3333333333333333, \"#31688e\"], [0.4444444444444444, \"#26828e\"], [0.5555555555555556, \"#1f9e89\"], [0.6666666666666666, \"#35b779\"], [0.7777777777777778, \"#6ece58\"], [0.8888888888888888, \"#b5de2b\"], [1.0, \"#fde725\"]], \"line\": {\"width\": 1}}, \"mode\": \"markers\", \"type\": \"scattergl\", \"x\": [-39.51353489767781, 39.098539147733845, -43.05496217325608, -44.11505073059038, -41.7960207684722, -41.7632596731007, -5.000759667437531, 2.832112309256071, -23.131877011836007, -22.424652771989155, -40.39953983657688, -42.12864376428216, -42.17174751290797, -30.74955171273479, 16.316195901567788, -15.729580721049178, -15.297203915670183, 106.17222041622404, -8.436417525265258, -39.50394461561324, -38.64455986986873, 2.4878944210497917, 54.203003492575725, -35.004680775554206, 101.46999615770893, 62.41258724701297, -35.50716508032949, 4.072526696786216, 144.06778884320744, 150.013613120318, -11.366544914549278, 69.97763155518122, 124.63761756133832, -39.63097235495402, 37.124988448704414, 7.045024691380873, -37.114635459115306, -40.13779832934872, -36.873507402520424, -27.878144483833594, -43.21928135480846, 50.838623006973094, -38.70229898502055, -37.506590716089676, 165.11409732425233, -5.393623435430326, -42.20485163222406, -2.2265504405402696, -4.00690080285664, 10.223861453825112, -42.117134748370354, -39.1686903593632, -42.402996726579964, -10.857630507613745, 16.861184675038523, -42.05843270954308, -10.514521717360424, -40.52186880845168, -40.456060542795775, -40.57549386389521, -29.2301897714819, 10.316841513205318, 217.9478447406427, 158.38471213570858, 130.8425893870409, -25.547967035551434, -38.85887506561752, 50.19453594456564, 103.35926637285466, 23.73982070879632, -28.281920693459845, -41.47389538339813, -16.72160909167638, 13.31932392912059, -41.57729258320999, -40.08304865170205, -39.17054034334282, 140.18833410820739, -31.569672550455838, 50.50531272210604, -42.80926090343787, -38.68090168439456, -40.63145827510908, -40.26495903744241, 51.68709354668252, -18.38157985488464, -40.814855708974534, 41.83369934571608, 250.43578075837365, -17.318558749801504, -41.35674046201891, 69.50392157474224, -17.210091477877214, -13.005836574291488, 14.146045086792121, 36.953073210174544, -38.75007095414816, -16.45945569983749, 2.7712988511966907, -39.064049988436004, -13.211262005217966, -39.79874080541461, 7.249317759385527, -35.09508844707013, -44.04173100883702, -40.87189090381326, -35.568729265097076, 12.779318503719612, -39.75960000698186, -38.54876814320663, 44.04872422273618, 49.34590011188351, -37.9857214163323, 5.361871356836989, -40.79839555634541, -37.90008127303601, 50.21020156948327, 80.68959534252578, -39.71084713494605, -24.76401575822284, -42.61892527273228, -43.27550830696621, -32.03535508435786, 64.06028874189329, 32.98590613523006, -39.05067634188185, -38.946451658698734, -43.602939703126005, 12.483495157075364, -36.820015251015434, 25.957529397541418, -21.525146110196467, 54.84047588553133, -40.301950456763734, -42.933907077978795, 35.654205260583474, -40.86037657598571, -39.75198591740037, -39.54730938805232, -36.38001518391897, -26.419717153278867, -39.991197096593005, -43.179328200586234, -10.768057617752806, -17.383527125066504, -41.67734895927737, -37.641185216923205, -43.129313186908064, 48.29051528073565, -12.732116258079573, -8.033776138249156, -40.566214581834345, -39.868290433664114, -38.80679070667226, -27.23648098338462, -39.16913678896405, -42.38311605814153, 79.71998251226462, -37.490357173829544, -32.18622727625871, -18.24744655216879, -44.03142180754266, 56.34073204601192, 13.422461169896028, -40.51080537177508, 102.1531431943951, -21.21847981128189, -38.8445532335405, 17.950388308598836, 54.582600221321115, -40.05074946920444, -36.378092353798245, -4.851732907429364, -1.4944079947950615, -26.215117096579416, 130.4717383366194, -40.369253408013705, 29.558090716390605, -17.73684404793249, -5.70334721367732, 82.05109153864292, -38.92673709485989, -40.01175584254769, -40.26614606733379, -35.205573259220856, -15.558110055480721, 50.6107345046533, -39.3098395805324, -39.143352272612, -26.959967189435417, -10.561260275088205, -39.289886446255245, -41.748771913301326, -41.49004069442373, -39.17222802293841, -27.140792092272235, -39.13223954786271, -20.479671739863978, 31.745252680151847, 253.24809903037033, 30.414941009895443, -39.26039122537716, -38.7913232161576, -42.10097420071861, -31.611374740187085, 111.03823198364961, -8.504490669976267, -40.17228952902427, -8.154670249229097, 161.11636326772177, -10.503238675094638, -42.005668466877786, -34.24122497471061, -22.517659848481006, 167.89404344466604, 69.23603603451772, -43.16555577405625, -15.302639873873648, -39.829360581488196, -18.54471996357195, -40.056286837827, -39.90264978622088, -36.8129740875547, -38.69057093747899, -39.61290153245334, 135.04172652784564, -10.777592606989266, -40.51487664959941, 11.796335633906292, 162.64544549453632, -37.8520671539375, 81.06011819868573, -39.16192415429545, 44.66370085781899, -23.904262604950205, -41.34968755474974, -42.04558030731268, -43.30779680507534, 19.87961395858456, 69.94820110007265, 13.463608767312815, 29.67840146736875, -43.05528095073698, -39.269688555816636, -40.25945214213021, -40.885049152451444, -36.579199359245614, 22.37365433841272, -41.56425585166244, -43.6735102751355, 233.20257166018678, -42.74853896663953, 31.56234990984464, -39.31516636776556, 37.273953400128974, -43.63171072233922, -10.612173000882432, -7.159319317959243, 30.86183506515198, -40.567042253598046, -9.032684281861137, 84.5350416831469, 0.7220031458028336, -39.09073574656925, -19.086326464382743, -36.671831942646044, -19.47010346848623, -41.98730086100099, -24.69537342053292, 14.96518705488354, 9.775719612601838, -41.30335967280754, -42.92370872684176, 4.695605244249668, 100.34437759631851, 77.82399778137938, -40.00679812269369, -41.585127040165105, -33.06415400226488, -23.30688943924701, -40.47798274707642, -25.467250384677236, -32.83793860942163, 155.10443963906835, -39.803029296757764, -39.39917420870655, -44.27591194703407, -27.188144428875916, 30.08838688882054, -41.860139798474194, -40.45272488503272, -12.662380792447399, -37.657620038110935, -20.090524236639897, -34.426500014753, -35.485574570371625, -40.71282860976527, 89.37481319141625, -35.96916923122477, -28.81323094773012, -39.1233458179138, -39.93416412144308, 98.7818408888035, -37.79454131043971, -41.451213692172516, 11.874076026661838, -43.204870893547415, -43.418219479607494, -42.37009953908561, -42.370789889867176, 4.640845470860557, -42.841941303649364, 4.832190653097866, -3.9416224945098133, -43.7240207641826, -39.824241968132235, -39.37232870487999, 28.50277614895016, -44.00065687061456, -8.002751933166518, 55.369411656693266, -40.79683741178172, 117.2789392428655, -40.508052933593866, -23.186659173860377, -39.41785514689599, -38.287346002532686, -10.707022371394304, 3.9593266099629782, 38.440632080338496, 91.44207694898276, -3.994803479885933, -42.722689430185426, -42.65207937354868, -31.763554489926875, -40.07674835589785, -43.077777513541626, -24.385347021761284, -32.559565665865726, -13.499190207159401, -39.999281276393624, -37.69547759549759, -40.98662300555505, 18.06728569273332, 90.6468968148696, -21.6915440725822, 134.53372901302444, -39.67262177500635, 21.384319107075903, -6.8795266611172705, -36.150830149980656, -31.047951467397457, -39.201442222383484, -32.13486297382811, 16.731318859496223, -37.17856482943897, 68.94104652729648, -42.31815595799936, 37.3169595024107, 116.14613882627476, 126.37056795078693, -40.87849530618217, -33.6583776516599, -39.357882053343744, -39.0500268156417, 48.62102263373948, -38.25523968408971, -31.004491840487496, -1.016405494443791, -34.3344248972451, -39.880374898580534, 145.21726256313826, -20.118267542864675, -31.01338184582641, 48.22888553840664, 56.276113638700686, 79.84501792226472, 115.26517127396984, -39.826839281007125, 37.31781860651029, -11.085962212029383, 2.572397784799399, -25.330663818086805, -40.525242661573685, 85.94692176840991, 28.834999914201337, -39.85186176583698, -13.739050023164848, -13.97632286439172, -40.30149308983193, -42.59197195906639, 26.04173556934574, 34.867891645417785, -41.07185089685832, -15.098962492417925, -9.844320568327028, -43.19926383767238, 73.72708850484639, 6.014635754726577, -40.414043335098064, -34.74778997336805, -40.54843572145766, 61.2679682447262, -38.99575970557022, -5.1261198476281935, -37.67968368109031, 59.8135517358014, 37.94776597139691, -38.26972238216552, -7.127221405156072, -37.993013062859156, -20.895363358989105, -35.03535789387427, -18.018806261354747, -42.5078795328643, -38.86297364023561, -43.14390747295255, 65.22462467109429, -28.396124357394704, -29.014532175837065, -30.51376688480469, 225.46588781372137, -0.056203141678622275, -38.062501991105236, -42.83248746560753, 20.296514111394977, 65.40821966633673, -10.133459201602001, -40.32639702134464, -41.626089811990745, -38.5956342287931, 78.94842944921113, -8.130976477947936, -39.5880970721343, -27.92018117775866, 268.10574608410246, -13.770592198141903, -36.562077405798924, -42.05392173849997, -39.72451621426972, 33.95673677533503, 26.345388779008747, -42.03675004560845, -7.045211550981612, -37.24149994185912, -29.36362201934786, 11.179764247836593, -39.69153498214347, -37.59420748681054, -36.225234236547564, 128.72322030366357, -39.96038124154166, -40.25604227791398, -40.399526966589285, -37.106345930060115, 25.402125041476886, 42.4725009821253, -39.46657471773921, 5.166904976640253, -44.24489107394746, -38.86789277332586, -37.8651194616767, 141.8982474658028, -24.16652734721964, 43.05839053614864, -37.51418978274408, 9.615968146826443, -39.56110454000667, -9.484289882558096, -40.59820679720334, 12.991470104523293, 112.88843084344194, -38.322312445348444, 59.23350525219918, 55.05035784620687, 52.274228256895356, 67.52762393071487, -38.64053684055875, -31.624162342972408, -39.65487925118278, -39.9277420769703, -20.973277545754648, -43.03937945482959, -40.84139075819485, -33.9701835667355, 104.7145307475489, 3.243309141206741, -11.453329414050618, -36.434426961149, -35.43986889874623, -40.95883475523706, -44.278655585961936, 56.857761189679444, -42.671175048526, -39.964718580565936, -39.53185518270175, 146.24706765228868, -37.78490734703933, -16.382861378014077, 28.52561154347966, 36.469168497196414, -24.455357032735353, -41.712654418062264, -41.7174359779761, 5.2286773249641785, -40.18887368560947, 105.61300018345273, -41.12659434246195, -31.95522196991777, 31.053851388900444, -43.23381960114857, -42.31036082805727, -40.63112999001332, 110.2314988684504, 12.828968580967816, 37.576454012777546, -39.31248385069811, -38.995262316708356, 28.42842034393951, -23.40068076518887, -40.99100228455985, -39.36140508399365, -40.900786253612104, -35.197217009633526, -41.51452349225012, -16.493309430042242, -41.17971748398026, -29.950229171416773, -32.703346971306644, 74.6540621845052, -25.954143221929684, -38.94578706258088, -43.627202291144634, -39.12145048430522, -38.78884499569557, -43.27599113225781, -6.273046232050603, -31.680946245855466, -29.47533125458808, -43.3083428533204, 36.350564102144986, -25.696157213237687, -25.56480022854384, -39.7438435288939, -41.30925909488646, -42.66628282178745, 24.1371954351761, 5.460496598971264, 193.42667730901744, -33.567108058239455, -38.596132824993056, -30.161827467463826, -24.019997692367998, -40.755390842266806, -43.057921083430166, -41.134034227182234, -40.296392520437735, -39.55484508415614, -36.25909169050501, -15.167222867200802, -36.759749246272015, -36.0113399016196, -19.462289193504013, -32.08567965184351, -40.3305280732776, -42.39849233585118, -29.846986543718657, -39.346877094437666, 49.50866875288118, 34.18967072991212, 28.054329568472035, -38.93287627167431, -39.098514363292544, -28.748271544764613, -39.05003643698962, -42.87307934545121, -35.23256985798367, -33.36506145692916, -40.790351593919844, -19.398601119476282, -39.08711104612126, -41.778892423164095, -39.27270460811005, 66.89240636266385, -39.272107735557654, -39.39046275034183, -31.907945001350967, -43.19365456192941, -40.24593513827969, -40.48024279296222, 12.587673218833535, 23.32013441868751, 43.97606284741748, -36.854623154650355, 36.88157061933438, -11.628358580161139, -38.8862081682457, 160.15311282153817, 99.55206696545797, -36.763849513116845, 53.03625050986839, -41.462812480309296, -40.599847003538606, -37.7478977926846, -40.19109396050398, -39.843988057170996, -41.11905859601483, 114.77053875696677, -41.45891531185689, -39.895767758726585, -7.439256450727965, -40.6333635705911, -40.74710149017826, -7.873418517583849, -41.366986072353136, -38.47215235057286, 43.45680568371413, -41.00234473659435, -37.61026442506836, 28.72294324446412, 120.05462533420703, -42.90779614871702, 35.25694754349188, -2.2259367120566544, -33.5475978118726, -41.9599929290521, 83.72893757260063, -35.018641578009664, -39.25495023058328, -42.84519273084412, -39.38740857329346, -19.050605693671947, -41.384572689108374, -43.7322518903518, -39.39322660494783, -28.453357465168143, -39.37607779360399, -32.80090799874471, -36.414700375116844, -34.140307033468076, -42.225515574910304, -38.149987398170325, -42.57457200372437, -13.719245024054157, -38.49146307857617, -33.22506020467686, -34.97253775154564, -39.10276753184878, 3.343826311218421, -39.22444080631708, 81.53312224837862, -25.04764260078091, -35.438756752746116, -38.73356667298272, 71.20807225407133, -8.83559296901253, -42.628086040988556, -15.661429435532828, 7.013356650958664, -44.360500675103914, 8.051376280577076, -39.98346602259102, 56.638238145798645, -29.879818382276387, 145.8417664470818, -41.39133250871585, -9.439785657722954, -40.54404190154556, -38.09872705359949, 31.811694439828578, -42.685855348374254, -4.304078179243704, -37.51494268678399, 76.94299335919162, -42.091421667304274, -30.891993188495448, 64.2213833864366, -43.27187698113698, -43.60756844818003, -27.60262475368188, 21.383508499145165, 39.4801331158894, 73.32001216812671, -38.794647662006604, -42.88470654861463, -39.246266800524765, 10.167233461591273, -39.47477865868351, -41.692162368791145, -35.78959353925319, -43.05221713434783, -39.112872085011844, 150.80871619578417, -40.95867922734729, -21.01586977989754, 121.93681817358785, -40.43136548929122, -41.47031581247622, -38.276110141175444, -39.887997749868376, 75.30673858943192, 16.2553420231119, -38.37273151100904, -6.836429570881345, -41.06451381189947, -41.33387821282615, -39.65979515045249, -41.724059338941274, -43.08562970268083, -39.77981002513059, -22.178618480112632, -43.56142768716606, 7.788890941306133, -40.60101363937544, -39.34185044001047, -43.15741252784946, -43.92656323878898, -13.408048134388176, -38.31594952529141, -37.13188339991725, -35.99430878144513, -40.02597774714168, -42.25043353259462, -38.16712900564016, -43.386253418773386, -31.225713615123006, -38.82526612857017, -33.49544460378309, -8.044893072808517, 11.684891839326664, -40.91104447016556, -39.38444125673035, 4.145015616049413, 81.22357675523206, -11.528350335884172, -9.776212850528454, 20.172498525669507, -6.814601274141246, 25.49335421907731, -36.97695685918333, -22.212154090208024, -7.267872813600333, -39.59896439934353, -13.717424950158984, -38.83653769880959, 59.68024230948224, -8.414865556590604, -7.2472939857779854, -38.53270098650999, -43.64261587803371, -43.47649259360922, 92.793252406172, -42.05845330252062, -39.68738896974457, -38.910062828341765, -39.1238117512822, -40.15798401317577, -19.635577029592113, 50.864018134929054, -39.35509535958065, -36.745591316251975, -39.04254889399215, -43.124296217171064, -41.864976695220555, 71.01968986417067, -42.50452015327147, -25.783578578926605, -38.677458309779524, 7.08835090195023, -18.15153295933617, -6.378339120735168, -41.75353003776616, 12.80063503703364, -15.530869678695149, -9.405922846587764, -43.56386869716064, -38.714994056138316, 148.5952049344557, 27.882713582317546, 10.99203242239351, -29.099098466465865, -40.02199242828756, -43.07431846985313, -38.74707439512419, -42.95296323576685, -23.79570267867774, -43.254411690683284, -40.18396839026024, -36.27961481434243, -39.930140503537935, 24.051668253448785, -40.3108540171535, -39.76265517242888, -43.30307413215539, -40.64089663025117, -42.56813952665606, 38.170463886183235, -38.331956638241465, 46.28761900894158, 24.627426587969275, -41.227666533501726, -41.85627121281584, -39.03747611251643, 208.875261267041, -18.182149103950543, 73.74554766327982, -26.40239872856963, -43.44088745361995, 5.798883714970587, 13.90151167749954, 98.88271633855213, -38.5458625391124, -17.839233112312996, -27.538146869425326, -12.365481406780347, -33.67603283106381, -40.71917595501851, 5.8198759147344425, -41.704589596589756, -10.817554197106755, 19.43542167406724, 237.97296774167043, 151.55405164781362, -42.18297854653312, -40.8374252127962, -6.532088435482114, -7.932593071216331, -41.75745249488934, -36.08860155368382, -42.39039451378741, 18.308433725533103, -41.513735117000664, -43.828109748381216, -22.3972161160737, -43.63777349034742, -40.99443599823592, -43.16335135969616, 4.7132539047236754, -39.43144196364966, -25.567838866134693, -12.276564753700493, 4.3085860914493725, -39.589527475191026, 55.61714807441595, 25.195948536478983, -39.12597216336405, -43.21057121682269, -40.33865427833614, -36.51688078603031, -43.86705911326391, -38.91914960361042, 29.352125624797644, -42.05368523451132, -39.75221881043592, -31.205476594251042, 119.66547467225587, -14.146008560391355, 12.10816040012989, -36.03067722492372, -42.42848466915829, -34.453062047148464, -39.83070992684639, 22.35418826042312, -42.502234901238225, -38.475351384673495, -37.67755260615246, -13.63397327895446, -38.66887043168526, -42.156491873331035, 1.1057763541923775, -39.769061508449205, -33.70391014565559, -39.722865064450566, 120.59627867449193, -29.614028002149848, -41.18085838548456, -12.461301188752818, -41.571420529033574, -43.49504335676309, -43.9000851018118, -40.76030168904745, -42.91899408002055, -39.8768797006614, 28.64337119998139, -42.04215073330566, -39.625544834240095, -32.152393487794136, -32.94453175898441, -5.950509294273506, -40.79396953338555, -41.3221295121753, -43.266400421238224, -38.88053641640472, -39.53432861687935, -42.72919950512186, -41.919544569551974, -40.01872932236736, -38.983331813970715, 143.04998439164723, -41.56594816083995, -17.049424164071798, -37.41509430897139, 14.284405234835397, -22.370319646866076, -7.786314586284178, -35.052391291065675, -27.589216175387012, 47.919507260280234, -42.618490633443855, -39.74275587055016, -39.9012732445073, -43.371042827585185, -32.75947308617499, -23.924764782931085, -39.40001431664422, -43.87807970639943, -42.81903099610069, 147.0994725523995, -36.033656983775025, -34.874588517519314, -17.391999533128413, -21.94671236939441, -40.047223120664086, -38.44983142893003, 8.78376031059889, -37.07866085545347, -19.05400665280571, -32.26646780406456, -41.746065851571444, -40.00009521786973, -41.626117468370275, 72.58346138534067, -42.753707560020274, 2.8987373468516378, -0.09505973553309849, -40.48263155533091, 22.77517179522763, -40.42858894088976, 35.32737464434461, -36.41761333213139, -39.56003643787906, -39.579173689572194, -43.305176862811216, -35.69271630182053, -42.69132289467476, -42.29556072200299, -5.793107818149745, 53.7634500822439, -37.249394319169845, 21.492798137872782, -16.097322422759213, -40.14898533747622, -42.97783215821564, -38.1850947909774, 83.0195500607383, 129.87971783722125, -42.22742957215793, -7.23517367891766, 95.65281327182683, 154.0763307898296, -37.03087809862299, -13.59766739192166, -43.25399581049085, 148.97909587588882, 102.63593974086264, 12.136935770094432, 55.09496945696251, -39.71529609235953, -26.406321263263806, -42.02376097762608, 42.77447232686249, 33.97714567355917, -38.32074254289016, 39.92174733335917, -39.34236949066653, -39.94849735575679, 97.39660933739121, 35.20377320568954, -39.45291244581439, -32.62335409257304, -38.80486842698987, -36.664842088662446, 100.84397813384665, -43.46980426411332, -7.308583885765129, 266.98694500397943, -37.69655476115442, -42.745682747558966, -25.9923400186519, 20.070821153977665, -23.40686252854437, -39.89937015152557, 163.20732851264242, 47.417126579364165, -18.924248406511268, -13.49402820548666, -19.242288198834792, -43.59354724391395, -33.538682608898576, -41.01488380895176, -40.0802401427653, -39.0676164890785, 77.2062451745457, -9.651070229426674, -2.954991269086558, -31.951195367857068, -28.346302295262515, -39.53198325767515, -7.072967444081638, -39.855946834820855, 11.706877579809607, -38.76292940096024, -25.466903475641633, -41.606794836677786, 54.93491696174056, -42.98433979939259, -41.44126122470567, -20.789463317772988, 81.1481894529428, 87.74500204942119, -14.980512699251394, -40.94621807582676, -22.128379694387235, 111.96910976039928, -37.97012814710008, -31.52401529651671, 6.546212115655111, -40.62292767964691, -29.23711981942253, -11.092692110439565, -42.87270045519475, 77.12993744823758, 60.96384076096426, -41.565504052274925, -41.85306484603936, -39.68347060760968, -37.14197884122005, -39.153192548933355, -12.982868946811948, -41.0255721145815, -26.18675102830618, -43.8661652607665, -39.068504967005076, -32.718297609971806, 140.97358384523366, -42.29783107050401, -22.08496875911515, -43.94847875889709, -11.516048104039156, -40.72678172223166, -40.04680880114935, -19.234154044796878, -43.69522725078331, 21.50241602822705, -21.949258469722537, -38.506385077395585, 78.80019362658511, -39.86177405256054, -41.37158067468211, 9.083242332266343, -35.808716265820046, 3.4018829243879294, 17.32907492745702, -42.40136245523532, 90.98046396557244, -37.26954174762375, -17.216982479069245, -41.85184599070413, -37.23746475508229, -40.75571103589094, -12.553525071231252, -33.070557925904275, 0.46486669488172183, 102.65393230418248, 26.34929006175979, -37.4981510860711, 71.70433819089504, -41.228547825153015, 43.80754932353707, -42.86265103001174, 259.2599564396348, -40.42265711927343, -17.38136303297627, -43.51807784960878, 113.95375532577742, -39.92914559783861, -36.614245352335914, 88.89678346976436, -40.462297766332846, -40.08716651461441, -40.043306530707646, -38.86864964822442, -38.67546938030114, 61.232141071027925, 70.3199541800986, -30.55223792812203, -32.54116491632707, 31.849231439801855, -39.14629012059919, -17.64741841799244, 51.093746383963634, -42.597913435029646, -21.69273588603807, -39.16045001820943, -41.86328684972806, -28.39306281645831, 36.3044248593687, -40.42029366419805, -18.851060825202765, -35.49383662459666, 24.85571336412186, -33.365296548504794, 111.06498204505566, 8.303451516139827, -33.27569518169183, -26.414131699042894, -40.29901926597536, 27.908190890254378, -39.78107663330232, -28.27585832919864, -19.536454920932954, -40.13822938502688, 10.863081095676858, -42.037634431589524, -25.521072472729365, -41.577542833513014, 148.05794473645727, -41.11001711156066, -33.46378960095716, -43.26068707625946, -42.83920253120836, -38.76335758377144, -35.71451890629557, -34.40358584225616, -11.109904198800166, 43.97557637439191, -42.185203278818655, 53.9183418806579, -37.979341107594394, -22.2067565224407, -42.32063501237739, 71.2679369846101, -2.062036938631757, 17.222879095332342, 63.09038933067477, -42.51839336105845, -43.234655329883076, 25.33395144330314, -32.779282932429446, -41.403710318647036, -0.8481945957601759, -43.48534995893475, -42.79883044882353, -43.18118523200338, -29.15138013279136, -43.300325636065786, -40.30773191231248, -39.0141902809597, 45.241671863579946, -42.385005941693514, -43.931287438897414, 35.73724558333132, -38.493594665082306, -37.398424016933575, 29.042671691288724, -43.592680651982455, -29.785189099844683, -41.212727875633334, -33.43142818259728, 39.42570237661153, 18.179143049900247, -29.190984988901327, -40.624520863366904, -39.837638360447166, -40.67502115841002, -24.49866789766208, 129.105148631959, -42.76422202857654, -38.946588873451304, -39.696287789578186, -42.86371966470389, 40.242446484085754, -20.244960910970544, -43.80421430379845, -39.18411082207267, -41.75289790487914, 142.82316088493715, -42.96043781370323, -40.49247551975208, 7.3179691326160174, 33.56848442423305, 31.991208027301166, -27.8429582524228, 96.34938170767249, 35.93926391522174, -6.192835414622509, -5.668762823016711, -39.59323979522092, -34.949910179734424, -34.54812391405135, 24.566160235663485, -42.308076070080986, 64.18909790044258, -28.674705826595055, -43.256207088419856, -7.574732448974535, -9.996372473865653, -38.760785208333566, -23.318072803732882, -36.75522049642597, -43.319402126715616, 16.48216194851021, 32.68583767267442, 60.23532565279105, -42.03641092264969, -35.15232939055812, -40.058785864398835, -39.34068606573258, -42.11306799617407, -34.471149394344366, 9.796280916431108, 27.379424281596343, 186.68755550483831, 19.317854542130917, -41.25488680966691, 7.99468902809098, -40.217461313174326, -23.50187697815072, 6.1162227365127935, -9.481949095007996, -42.27920331466377, -42.9316989076967, 39.09884990958411, -34.35199589012044, -39.24478188637987, -20.94696437403047, -39.95323453297743, -41.42002816812683, 32.28712802526252, -22.759252113142008, -8.128406112115982, -40.72447824328598, -41.10756661377736, 135.26709966451213, -41.70070475015665, -26.141961354840547, -41.84844702076737, 45.57069072208295, 3.8321506648907038, -38.65990694854791, -39.055081982916604, -40.45208723647619, -32.67991527527083, -4.616453251695128, -34.3759098482889, -41.42224203278895, -40.39211155130317, -5.609145333898036, -17.93586647194702, -40.332491823975985, -42.17313327367484, -16.780457836787527, 59.8626888351298, -39.7584251625786, 65.45661169134921, -28.41903418781855, 59.67029179577353, -35.12786788732604, -39.03799913574276, -22.776269274494787, -27.025403849774882, -38.950139979243566, 136.0352016510657, -2.061156107452777, -39.57847945251333, -39.69699790282324, -8.244597452446339, 106.60507131480394, 59.66243972052201, -38.34887683790589, -39.50509848654613, -40.70655642740525, -44.511936931136965, 14.595699042943554, -40.079677815720224, 59.09323492558857, 0.050438123660503806, -41.019565606520274, -28.43536185539613, -40.856158952070324, -39.81754276949144, -41.86414077926787, -38.25611856370774, -15.388653087461835, -14.085432611039263, -2.3691932884599396, -1.7528524216797061, -39.853197366022656, -31.785206088291492, -38.48168741089804, -13.037267992612474, -37.14687891871277, -42.28558044113424, -40.564831197374815, 1.7394389228740257, -39.206238426205196, 128.61197833620807, 24.551581798610105, -40.42940668478456, -40.2199543312555, 88.47314094509191, -40.220205020802695, 13.855945257273815, -40.443302118662004, -38.84231623212925, -44.264120097394624, 59.80446862526401, -29.800166221763458, -37.096197162346705, 49.918373787549044, 15.788352058587407, -40.58621098141073, -30.172157062483095, 71.63083678438323, -42.11539199387365, -42.534773819629294, -41.58701458840739, 51.727399016139444, 16.448125917784292, -37.78026864354602, -41.296309296628095, -39.71467249451398, -30.334476291526087, -21.224009266182, 113.3510131488696, -40.39019648263272, -39.15661150017106, 74.36063627064496, 72.10195605910899, 42.38524718843736, -11.893246396482962, 2.569113494795767, -22.206746001764497, -15.118866268845869, 133.02243135036682, 36.64239750283123, -41.41120438386077, -41.404386783750766, -42.10314354259102, -19.271618842145163, -39.88224055896316, -44.01998585782917, -27.782296436285385, -33.610163846777176, -41.6934972654841, -32.70398226901621, -39.36690827980571, -36.12329001394512, -28.001371036298853, 16.49244847658489, -41.79533549763783, -4.132880552488339, -41.804636380183084, -39.87703602215435, -16.817744110232415, -39.972990701275364, -36.8444408113984, -43.373645266405376, 27.134313462968194, -25.140786892366965, -38.55639008414138, -44.14367977989833, -3.218853147875873, -38.232202613316915, -38.25508956311046, -36.31840931403813, -43.937972367741835, -39.83949143366059, 7.164007342019825, 161.9641465756464, -35.97874126378616, -39.849942758031474, 127.2245479560615, 6.637624909576032, -39.62240270084322, -42.87060738862713, 113.6336165381457, -41.77144131245504, 78.26693692823392, -40.3040308503341, -35.63901982323911, 19.195527232038426, -39.238719392825026, -44.02716629915921, -20.441255205908558, -11.01138331341266, -41.37469807334897, -39.230813326557666, -41.39584206392045, 45.41069954261405, -39.441081682539625, -37.95259934256718, 23.832733603676502, -38.88929196258688, 63.44338424944706, -38.65280715155475, -4.706175396132004, -40.42425561330291, -44.60752991175237, 82.59800243907112, 15.336844252288842, -39.557546263775755, -40.69127103462531, 49.475149887421374, -34.34070463727667, -40.89951509382302, -38.05184488683713, -10.922404197609762, 83.52557294351926, -13.288325271600668, -31.966101646593916, 20.42739210555735, -38.44420294866829, -1.4546291707031966, -42.290756274052, 16.972312815669568, -42.74400880239232, 16.554720234182593, -24.787915116321415, -40.377717221202374, 47.56219767552241, 60.16279025368312, -15.280799047970891, 0.0279867065994429, 138.6142812130089, -12.144045244318514, -1.40587039581973, -43.00437624107167, 95.15185698472035, -39.08376909029591, -42.3875081745265, 22.44763491116273, 11.98185583653844, -43.982512996201216, -42.679818135051796, -36.58803784800789, 17.98809770348034, -41.29527963771753, -42.67467490884493, -42.12822435058323, 90.9095381798015, -17.985171881098154, -41.002871167910364, -42.008843644754286, -29.79323877901661, -1.5133155578098927, -38.71994175690327, 86.53239387802091, -36.572760456634654, 106.10810179613036, 81.05161921234505, 29.581973971483382, -18.231181709763533, -42.183143528269426, -28.01305302198275, 26.758209171858503, 93.02712388364944, -43.05658273475877, 79.47204859385995, -39.811094905954214, -33.16629189012593, -43.400031393003815, -42.684279170975714, 65.07834878031973, -24.118218950660978, 0.3260950202977796, -43.501417440073205, -42.17714575351739, -42.692603810066636, -43.515573944509114, 37.966878039813004, -43.59902288540034, -42.001315690294774, -38.68686486417012, -35.51409918005198, -38.52377288737627, -38.65901334338221, 0.9039908629201168, -24.877960627951104, -25.584923668352914, -41.48586287626748, -27.93415687623243, -35.35986557714795, -39.40389664461182, -40.68977366853247, -39.83099255271975, 10.922620445675761, -40.55450476569439, -42.06481465255769, -24.17481881363152, 59.158603041875715, -33.08440898414025, -44.367763819000636, 95.85606207237521, -38.87266287310575, -31.51876795142954, -22.170418819540604, -26.652255445135054, -40.40119960602044, -36.935302043811454, -30.341691868417644, 41.2495858141965, -42.49190153135715, -39.55441555914088, -26.715493289918005, -41.869998027804925, -43.45691183465321, 40.15186743307604, 30.973627611260497, -42.86561928424954, -40.30497172760995, -40.104385799310094, -31.495102828588475, 9.758312271303145, 169.29861606586513, -27.978331056033454, 7.663178375270853, -41.58121717978816, -39.659281092496435, 99.18948907599908, -35.97284201686749, 8.128429321897519, -42.74678366758847, 16.618834051340315, -41.779286431183095, -40.83918939538745, -39.239373715233064, -39.54908887283468, -42.39366778213558, -43.08804984968489, -0.5715088497706581, -42.65977530917998, 21.11274318867783, -43.10216172474909, -24.675707003772683, 44.5464376817211, -36.482650216292676, -38.11516520217983, -41.75229629471696, -40.67849932323577, -41.48852891051599, 108.9538206351975, -42.14196844919659, -6.212384109047592, 17.979320020374264, -9.240947675306336, -38.92383219156171, -17.953862149411037, 7.075629557315274, 119.7740709298515, -43.274180955175915, 11.641843655208145, -34.28526713598358, 95.79662010316221, -43.03171428309765, -31.964304217526653, 3.437582447726238, -33.40602431359651, 18.976245039554296, -39.05362439204272, 48.69752279981733, -6.2176416519641515, -22.99501979121946, -7.380331820409157, -38.933228315694365, -38.65798548583576, -41.59980274942601, 74.31033075408793, -18.78239859423789, -43.8348764759241, 61.85437862160946, -41.57643081848501, -40.86566310036049, -42.76969699751534, -40.72409717647837, -42.88448863915812, -40.031424025949036, -38.54820846544017, -9.937584929548002, -41.23469645106731, -40.29264221979867, -38.59543683655828, -42.02994508334048, 70.46844328774631, -34.64836084095491, 22.976841210192422, -17.7995768480245, -30.127665415834773, -39.91422625957514, 92.4974006388868, 14.45488230190417, -39.942347363582876, -39.1774260043458, -40.59232426400083, -40.63506364359613, -43.180997810451295, -39.555275994916656, 24.594229085690774, 15.253030544098005, 147.81635502286832, 157.58733699006348, -39.94268408453844, -39.45321202159328, -12.761477967885899, -38.744435245167736, 13.611865238989076, 105.67071142238797, -40.489861807442075, -41.37293458915965, -43.97957461442009, 4.486303996137323, -38.67557065592233, -37.78023505724478, -15.671623750065896, -13.30358789621735, -43.31422566424281, -41.067928692611794, -42.62129522680267, -1.6137827140665122, -42.59617754100193, 35.62515679868521, -25.048302740628447, -40.82098716053775, 49.53969805771584, -39.7437625457647, -36.154685346716555, -38.95906433436663, 5.129158222491226, -22.485943880644985, -42.369495678124345, 175.22867770172004, 2.200248424123034, -12.015084773958694, -40.380799825298865, -40.97755460238688, -38.68783665837344, -39.570914183314684, 7.574691107738442, 50.13733105439986, -8.85706572791453, -35.48343305006467, -41.101405056595304, -35.858648602384704, -39.63338138507934, -4.713762367896965, -40.9214852535768, -41.080165032552365, 29.10090231014457, -40.545521208571955, -42.40020614898807, 57.599134675556975, -13.324284113598129, -38.35795689030443, 147.885971931465, 88.82883200114766, -37.9539587448324, -15.602555128920095, -23.65816715327201, 66.44836022629656, -9.304788229918632, 167.03965855900444, 7.907745625120992, -38.907364333450744, -41.31062795056386, -21.17943432357663, 20.55373528205417, 9.839121089166394, -39.96504587451324, -43.02767778303738, 18.03987665550006, 38.04414274271478, -18.559710639679185, -40.69407304931968, 29.51495469474222, -39.13413462437865, 183.43152132050176, -40.463874467070475, -40.264745463865005, -38.169622054981645, -39.67670691269596, -2.8630706517509377, -14.638846446675938, 79.88551355102359, 86.8266504667759, -31.48500969702522, -40.48327625016951, -41.92644788202362, -37.642990972960966, -42.0711687414736, 20.693235661336853, 111.71778930986937, -28.28602251329349, -38.52432534545098, -40.41185588097434, -33.06620875589014, -40.985133578932206, -30.642500720122122, -43.525850046796506, -27.85035483043386, 4.066163009073431, -6.117442808838715, -22.716104267299464, -41.78042017249914, -10.632005331972312, 110.86562897999298, -41.210051685267686, -41.71959722707222, 103.97940671075516, 94.97789775892069, -39.651740060207544, -22.18841195203447, 18.566345656149434, 30.29207688659375, -9.687520048443131, 55.273808022135285, -39.82298604037734, 173.53426030726555, -41.40466337411841, 17.030264635537133, -40.812425684724815, -17.84497025283555, -24.202543866398706, 26.689906388699843, -0.02959152885910018, 10.27967244930152, -40.195151090211915, -40.967079915962294, 57.6119586195206, -41.796044447359925, 16.58459955330793, -39.302703339972325, 145.38235807790184, -35.30303341695293, -16.869348099975422, -40.34258223526984, -4.720133655122314, -39.862157786105136, 18.809811468380822, -9.90794015034491, -16.302917908301417, 50.2867419749741, 57.78794404452732, -38.30313367002481, -40.38631071343395, -40.72035729968586, 18.6145535037058, -38.67828479851241, 2.7669282429695485, -38.77643081085005, -42.56134772277031, -42.52028742430795, -37.333554519493845, -36.73681792073345, -35.73316592541531, -23.745423967627605, -40.92377770263865, -40.1295215916998, -42.69954034875857, -41.98736653906573, -43.16527819742856, -39.93111701280342, 10.28804238308674, 131.8491083099459, -43.97410626295611, -41.44566160680759, -37.15343267468082, 32.56610373029089, -32.96107631096896, 17.580027413526732, 42.47693842907381, 46.193500096111684, -38.81148010007785, -39.04160789314631, -41.0060000828615, -27.29912214239777, -40.36648616666296, 51.57072708938165, -39.48084097048969, -16.82732417810591, -42.25629438736364, -40.05145705152477, -39.5074162461786, -21.33940266468292, 31.155797449568162, -33.879953812541736, 26.216852250780594, -42.36218233453518, 25.17012391167213, -37.32384997203666, -39.94233124169148, 80.11294040308516, 12.695738112177004, -19.959235862104112, 99.56502887245107, 113.62141010946341, -20.24924751009213, -42.488770384807594, 10.92388428066077, -10.865502474329764, -15.992633478989395, -40.25753769501799, -42.934342305955006, -28.739272296242287, 29.611392209692816, -26.76710334608399, -41.25640588340324, -38.81770778523496, -7.08049728661421, 5.864502738931855, -40.658683110831035, -41.38830556445927, -38.89476064667998, -42.32949369734966, -43.139565785545294, -42.3393484902011, -41.065553731396285, 61.46263636989763, -39.302468880052444, -40.2755668033152, 12.346552311174, -41.562230212125044, -39.69900590734665, -38.98920923278249, -38.929115405848975, -32.502606072729954, -39.57725231902592, -40.48911217609344, -29.712118474889188, -28.52298630920979, -43.08506019692679, -25.202023384127692, 145.24719791098423, -39.86266083427091, -41.07906172377923, 47.75371678651454, 155.28406727166495, -41.299309962347785, 36.656085105102335, -28.786467109772747, 21.195902645398682, -8.129295661112172, -27.601846060074447, -40.35131160934882, 87.48065923130302, -21.477195784334988, -39.19595073910668, -24.721517979735726, 6.4233809350411875, 58.239222297180206, -39.948410379952925, -39.311388550491856, -42.48066668696192, -40.125423677856965, -41.57355231750733, -39.154273456165335, -39.2162137521472, -42.82351031226768, 148.28605510512344, 17.85642962452561, -43.279107908202775, 114.6474660765603, 46.07402787272642, 102.56649485016794, -28.957749129747505, -30.03374947065388, 56.94064155733443, -35.803160680452024, -40.46635703158818, -39.56571500463613, -36.64699894803127, -14.306496137060217, -34.8956132108031, -39.00813979889641, 134.19465281439972, -38.42888052004692, -39.77086505079426, -38.559774791881, -32.909209552225335, -18.506895447913042, -9.90039314442138, -30.904106027968787, -30.628083544045438, 27.38590793053484, -41.08436435736562, -40.36735299034619, -39.22385414051957, -9.721739997282572, -41.310906629689036, 52.13802986606025, 91.17786017481701, -41.73723399800284, 13.702040231394275, -45.242222253366656, 71.34907566440658, 69.8420806933894, -29.562178833736063, 145.0739209184153, -39.35775696502733, 159.92248979773524, 8.574186159337648, -40.29506168198185, -41.89530411905789, 35.062359429583495, -10.26856491055997, 52.63097138418554, -39.90135833333947, -38.25360012376491, -43.16103802645645, 12.18093511293435, -42.7112822345769, -39.399593885462295, -42.05615588307928, -42.20617411264832, -39.00096808237485, -36.823561663594894, -36.90407532742529, -39.41828257521321, 74.91897583724656, -40.747545103569124, -11.804499283370344, -34.625671396496976, -40.66792819575101, 67.7044603392654, -36.14878469980203, 38.773711262437004, -44.00561618157237, -38.94806805800449, -2.20516771404393, 36.98031847150924, -32.74787811309941, 11.651650717349318, -40.05008508242063, -5.642152900857781, -40.70445111734395, -42.91967704583459, -39.636532626850226, -43.22047018643888, 3.870642345648206, -43.685300875994656, -39.952841495720186, -42.708323266890666, -36.017185304524574, -41.29561294677247, 5.5850127893386885, 91.23992733036158, -27.220465787526425, -41.30277504605274, 12.584375928835, -40.78221691351315, 87.50993880012304, -18.03106320724616, -42.1120558710873, -25.249489712180768, -28.84625851472486, -39.41315056753616, 122.84439206487474, -41.331861348917265, -35.57680858487779, -15.338666613226522, -39.98267163607898, -28.157779497589118, -37.80554232094902, -31.262600495224362, -13.939198583946258, -31.511021347448715, 64.88069303368826, -26.527148341734364, 25.34109735571834, -40.56832224520978, -43.378377500156745, -41.24960530811508, -2.759517817747158, -27.99676708118173, 93.12635912540462, -39.05721833239761, 70.10178991007749, 5.662733748478917, -7.33267845165162, -42.72090018600019, 122.60853604086483, 102.19552932054819, -40.880523862479336, 23.968942389700615, -40.75499699720867, -41.21121586222837, 73.81944102332554, -27.195487587531893, -40.04129397550383, 5.734589567364154, -22.846456842388832, -36.858236559034836, 132.47070186345798, -40.504239802085884, -39.95048725761608, -43.85209334861478, -36.93946208170123, -41.249395253540044, -34.63192485600377, -40.886924392800196, -27.897047703628264, -33.536428582442646, -39.01086641070877, 112.23457323994566, -39.691223192890114, -38.36409944570737, -41.3528404001196, -39.38900228900031, 16.086575217554422, -37.77324347593979, -14.467682131405324, -41.049410279758, 36.852439815267445, 147.28119103054715, -39.15952315535576, 55.87780920564545, 8.421365664122002, 79.31754445163664, -38.22743287238004, -39.663313842830505, 27.70012161608225, -44.73694621984589, 53.072153309837624, -40.678852277221125, -36.74796395871188, -41.65980303640546, -39.807122222368676, 37.877477689477324, -10.027069278997462, 53.86716137283922, -39.30433987531591, -7.664500752684575, -25.112128566778892, 8.725396880053994, 75.91494927499605, 41.138882194782695, -42.79091191907404, -38.64168533954096, -43.31381438254027, -38.90518456390243, -35.81685479993618, -40.36386884929231, 56.184601462333134, -38.25475507117164, -39.73070165837312, 3.750615259911008, -27.21756888381918, -25.751623198956327, 15.66882823562831, -41.662625696495354, 27.26461118913526, 7.839426238267264, 10.152947933432733, -8.166770885715666, -21.523340640132076, -38.83875872139187, 57.294195827926245, -14.209198568021685, 237.01674923304475, -42.08852735771158, -43.626657140391515, -22.677694659313257, 129.8509109104126, 108.03432200208105, -39.71274478539758, 20.893296777638895, 78.66060250986456, -35.15238753613217, -40.87865396349713, -29.097471951143493, 0.40202704904980124, -41.70814539846807, -40.086800715050494, 90.01402515581111, 57.68844219957575, 63.98086071644742, -34.92001004571325, 3.688137193161988, -43.17343004882318, -20.693723568435843, 5.274672335852801, -41.262842366853285, -37.283827266275125, -39.72914209069055, -37.90466120277287, -39.19377452606223, -42.6365757584385, -42.64251547483477, -42.918084256187576, -40.792136806742604, 13.722361610111761, -39.51534884386608, 104.3936720512931, -44.01152483648119, 66.38605273045778, -42.61382139463702, -29.96174923968312, -28.61162515853685, -41.82585090509776, 152.3023621207351, -37.61992140806479, 166.3911897504047, 193.1723758010087, -38.955451539368994, -38.617815064594936, 106.77688172503905, -42.42160849272773, -6.376490682182382, -39.99718360442735, -7.501709518891843, 136.44700733545972, 84.16254092959649, -31.535173891834106, -41.96809800731987, -41.61868179668799, -36.79711068039573, -43.21146242330456, -39.65687880599399, -39.55235759944142, 11.646810440974969, -9.983585385256399, -14.218528055974867, 54.17672452544868, -15.43968048400901, 222.10325076849918, -28.42138979820288, -43.93036132328038, 127.79845801764039, 68.33006760196368, 37.877868689669455, 45.92943582505281, -40.190453549662735, -40.229566123929715, 76.07034095195122, -39.62304383322611, -37.63156184663681, -38.148789782652564, -43.49637965739794, -41.885128996152204, -36.93679469050888, 4.054506074379856, 85.99132816369637, -17.03753310992486, -42.69290696560538, 102.52087652231411, -18.31038052508699, 70.92107161357613, 39.474970593276645, -30.952106913793386, -42.29252379608594, -39.042895363129006, -41.38389060932392, -31.89391273811426, -34.64518969712809, -40.05580817580397, -33.33550640200268, 76.75527158113405, -11.505668513492623, -23.340360114903348, 229.2885036555731, -28.655137170211777, -41.321899906766085, 12.926687898232714, 0.7677116679769835, -22.77842021093253, -41.895024299239, -43.11795486731379, -39.43159660727024, -33.67115083538928, -32.60659818102126, 61.34397173604985, -18.7712148983578, -42.402403208346186, 50.41071292607771, -41.42886759458349, -36.6724568218606, 5.77988330034274, -16.66018463246738, -16.48920902300347, 41.440128836752365, -40.87714101095452, -14.877739957783204, -40.85876435506299, -17.635197970750685, -41.86620841743662, -25.300857774538397, -41.02873759823422, -16.390744302025322, -34.04265422247714, -40.53031486547059, -38.15203261543618, -39.80368751610089, 59.173500821029016, 31.62616260774937, 166.51457339406193, 91.82587816023994, 22.051172032906216, -34.93633127657157, -28.76971580417, 40.39303152380344, 8.247923805630686, -42.9315189024481, -43.613881119307266, -39.818679832796825, -39.794733503408125, -42.19752641514731, -14.873998535980181, -31.536856927200486, -29.07325990096354, -40.16693691145443, -19.244994235618414, 22.652335269854095, -43.417880120825416, -42.25562730352976, -39.93606219691729, -39.007340382011, -31.38334174671367, -43.69252101074614, 29.63116508541703, -1.7603606175122453, -42.73941239208156, -22.63385174520647, -42.40270191751073, 58.40004007971027, -24.967100309978466, 22.410195742478436, -21.647380071974396, -24.03735677937775, 167.02020857652582, -0.8475798002352686, -38.0255676818898, -39.37234758548161, -43.19895617633781, -13.678486367057818, -38.21874313372719, -39.94295247903806, -41.1392188366459, -43.52500524208779, -42.76433607239666, -40.83129770342501, 6.681004245547631, -35.57053434776492, -30.415471274213917, -23.742354698352138, -40.24656072168882, -41.836128421817286, -40.537427621803786, 51.069060938772026, -3.8141788649919612, -41.07637140946895, 144.2473771611556, -36.94560377673347, -43.24591787254429, -27.06989051003179, -40.99844285072357, -35.152378246482535, 215.32920036118588, -12.86492560935406, -24.157978310457505, -42.86279642218648, -39.503248246403324, 3.5042413424679855, 72.70361147676473, -41.13978235122029, -21.710191334185797, -22.71571200543553, -22.477454143986588, -40.988674190562584, -38.903109858804044, -42.03540489133622, -33.639848597053025, -21.63934560772061, -42.37660313015376, -42.168250972070645, -42.02233768389177, -42.77947541573929, -38.17232229459557, -37.343512675535585, -40.42189893365337, -39.96517822188067, -29.147066123291072, -40.61932295417498, -39.807642357454085, 64.5103701908873, -34.99953052620296, -39.46449441035643, -32.42583965301433, -17.57445989015753, -40.247421900686895, 94.51491816283195, 162.7785251483953, -39.95182051303774, -40.33484105038897, -41.92317773369322, -40.645835493900066, 112.70410688303822, -30.59675888568912, 17.569318779439406, 9.712640643426996, 2.8587929520378066, -30.8555435556752, -41.54224406246648, -44.21499852022459, -39.37678709540759, -39.279819778792586, 140.2531479122923, -26.505551585198198, -39.65081271250126, -40.77609059790239, -43.718348567257266, -21.778030063241662, -22.576127193371814, -38.7074594104677, -8.761676470144423, 3.265919781479112, 78.55393952737624, -31.483669946227543, -38.506894254741674, -39.62114082357359, -29.029407461062295, 17.859411571804806, -32.41095753945873, -41.7048696143782, -39.17392921169637, -1.0838577950796735, -43.47273501548241, 32.46041300848924, -41.04375969565926, 113.29266222568427, -41.405719955817446, -36.13941180667353, -39.80728412100937, -8.881736469534708, 111.20684724867999, -44.057686915206695, -16.356752808222712, 55.93295048070831, -39.70892859628996, -40.279434056481094, 14.3061379033224, 209.32270488127082, 2.3042408080209906, -39.431656404034044, -39.90316402529658, -36.17998465616851, -40.32348784177083, -42.46780688196549, -40.12260575319787, 35.25629834139383, -37.16086853166644, -19.798696120473505, -1.0221226678335162, 10.939364920028488, -40.25426740961182, 180.50555459189255, -42.429096401801495, -38.09118294696002, -39.054345573029146, -17.999425157285557, -43.659031298224434, -44.09921509106237, -26.96487414448175, 176.1569952161149, -36.45817829321932, -39.532815641631956, -39.660310157541524, -41.45835726456732, -41.93872123773447, -38.70302607507929, 19.474067790110276, -43.31594033604332, -28.585741621490428, 70.61314106001227, -41.49254777401687, 46.44355748709125, -42.9958425082179, -38.16057623769676, 34.30809006214689, 34.95535954398839, -18.360814317726785, -39.190661689962454, -16.876047633400727, 14.389509897658598, -16.317339842570398, 34.4400641774413, -39.893213814964014, -39.31511881625503, 32.81574038240502, 13.295051606489963, -35.875799365206916, -42.20228770096552, -40.888170459929384, -43.97226035687851, 145.6501586521092, -40.57056017068558, 13.037371065727674, -44.01336920162588, 115.25511704485606, -35.35353446217385, -39.734114673747094, -33.40860043004948, -41.838466746927914, 75.068066663735, -41.37925284140799, -42.873852322899765, -19.38784630216804, -19.277883166983866, -39.32674025554989, -39.37375264431891, -39.58768459444117, -40.80505322683206, 35.13726766981325, 37.58473451806762, -39.43590437053822, -40.96340535122729, -20.83904878308965, 82.31326695211862, 16.193515085330596, -11.037552561022366, 70.14668385781418, 33.41707927821045, -38.202904674641395, -40.316363052263604, -38.804154542551494, -29.666345289306175, -42.41896300766112, -10.624688243945515, -39.74083448872374, -40.48877268314353, -22.645525079778842, -27.088307215452605, -38.181325539284096, -40.68903970403035, 55.16213357889676, -41.009669345382164, -39.537451556361184, 105.93757004667518, 207.74999401097102, -26.881436591097227, 11.030454760442154, -42.74449072931145, 101.72175485858612, -42.16634396969817, -41.20643942206015, -39.96837127776206, -33.12320953234783, 37.182576809383185, 56.105750818930495, -37.863175741395885, -39.92114341955732, 11.54291965488625, 29.89672401390319, -40.64317043413545, 10.140505956664633, -43.97242368223702, -39.670721986572964, -44.029934747342814, -17.52040606909826, -14.047236687344034, 31.200355296250148, -41.142416490464726, -40.088393588480365, -17.730725124207154, 85.69134138622549, 54.52579771879231, 120.37930302670163, -37.001940440086244, -38.55423993930467, -43.11548930193402, -43.15049780943393, -43.50185619853513, -41.63035825594337, -42.34701663547821, -41.27823698054224, 143.81391249563492, -44.23191533888461, -18.744862814836345, -9.285903078615434, -39.903110146832034, -40.3242855845517, -15.11847391188326, 31.85035266990637, -38.702417938760476, -38.398513277257976, -38.25069493882964, -39.82519995914632, -41.3363809354602, -39.111944100035004, -39.731889860423664, 27.309134804387913, 95.21132605689583, -40.858267526218455, 129.83802765418733, -13.827415887309106, 2.1971276536018944, -40.609897147746715, 1.6347657245325362, 146.1780193047424, -21.85562955609786, 58.32743171500287, -42.33089201075196, -24.074574150998753, 23.33619835347345, 66.95416849764194, -27.14727855277824, 48.09420206031179, -24.63861811262193, -42.143065194657, -17.732222647771984, 34.77210742800122, -2.448293037895939, -15.305220328573991, -18.031864098249216, -19.238767871488697, 150.97073300703258, -7.0524957980377305, -8.298707859421237, -41.612991171742514, 2.2173998321407717, -42.651264029365194, -40.29958854232998, -38.76092810584677, -42.714781575693955, 149.4574850304096, -42.6243990864831, -41.40931447541039, -41.92167814108873, -1.887729578917061, -19.266997977332537, -38.956580213915466, -39.53639768338642, -34.16313122576829, 86.40614822154387, -38.199070181911345, -40.137395153084896, -21.225896390997168, -22.1844494857739, -11.691833492323253, 7.5681497987192605, -8.679339647401683, 35.30730915666159, -41.89639105550172, 1.322093921118693, 38.68227667423371, -33.97664297383216, -40.381560673373, -43.52024722652079, -39.41845059508862, -41.42693585842255, -15.747965161507643, -43.464515825121296, -37.74712716788943, -42.10337232627391, -33.703904411787335, 21.307141204426777, 40.93791498654185, -41.653875911850136, -35.414919868796254, -28.41766140377111, 92.27507486899619, 110.92547058629248, -27.53534517086619, 40.80712452036494, -38.34979178414773, 9.650652699335863, -37.5453662810424, 96.91415170215976, 10.050635010153112, -39.480115971971664, 76.20000802732629, 32.2562937165582, -36.555720296150966, -41.01601409989382, -7.414792757209504, -39.367299171721285, 0.8653674528164537, -40.306584863387506, -24.643445388148233, -42.673470997866104, 53.867211588372776, -32.20209905863894, -41.34262039360245, -39.16106480575866, -29.13083264415531, -16.032776288072867, 25.235950181229555, -22.64867722026048, 4.292633956518317, -23.206410986289793, -40.71837605586146, 20.20142066291071, 145.51186096535602, -38.96986660461831, -44.12868502930322, -31.08787479660282, -13.83607661451058, -8.995867739959369, -37.928947495253944, 54.3502399556588, 98.47061834811758, -6.9464259157582005, -21.89184458665191, -27.010107021069082, -26.59745587600474, -43.96935907613467, -42.396422202404395, 109.61684872646723, -42.390806076770886, -43.04053440053346, -11.532074475575373, 2.7154204070502503, 132.664718814005, -42.846936488265484, -22.40179965378143, -39.544014024807844, -34.347290884279786, 32.52415414163163, -35.63065287448777, -21.904921883089692, 195.49686303766387, 168.49556966403836, -26.28424970180002, -40.85641751251339, -41.662748507242725, -7.891987524648829, -39.6005884314105, -39.86612254546598, 26.648756825503078, -35.297479520278, -20.086500800282316, -42.52263479954096, 7.424586648872315, -39.97771152825229, -37.94313993713681, -14.175368318761286, 22.078080135534485, -25.579889888524548, -19.62322949816367, 14.76574611493472, -22.869577484296457, -41.45410690713395, -24.686048258374427, -11.873680854525603, -13.203741607051638, -2.9426231262956577, -38.87264875864016, -39.56947140754072, -39.6160641635199, -31.09150003500371, -17.22749761670613, 36.45625414522068, -16.756925368511556, 14.680068171052284, 135.90278511575463, -23.506613419159592, -43.599495751581884, -38.97214696572865, 78.18256710161091, -41.25781447050567, -39.601383696124785, -42.20948271869563, 0.07136041868017542, -19.725387923755644, -16.904164224918066, -32.061937658537616, 83.02547852791893, 15.783178954699943, -2.3818975699815463, -38.68980945860936, -28.848777370217967, -3.1739554141758544, 183.22305925651168, 7.676622850329236, -41.15812402584104, -43.49134219432527, -38.54020393560984, -0.9917516912963262, 12.244873794899796, -33.05042410904688, -5.169531496751929, -36.503806362788275, -27.042421693259556, -17.597818468314365, -38.439946433571805, -41.99944143320416, -2.290047058036501, -32.136568380503995, -3.992432170478616, 5.684851822796421, 212.98638789292687, 12.731544866811207, 71.3556792109765, -33.34553275581972, -39.633997438210216, -26.129074064898113, 8.48404284408399, -20.89695008554147, -40.71695272042662, -38.296103703006835, -40.119168804016056, -38.10875059369296, -12.704953225978826, -37.40032353016195, -40.12812602512744, -15.937543219761723, -40.3207496432586, -21.23702299970948, 42.63223782675131, -39.330059750613785, 117.45051162951313, 35.65968594528102, -39.419206788238455, 75.31222238419454, -39.965667826631744, -28.009485312984193, -20.09512482096349, -12.415176792699885, 61.72542190034775, -41.13197119668747, -43.181952283756765, -41.823906551032536, -43.2748426480515, -38.624505026342504, -31.1049595753114, -39.400670419254894, -23.05026092767484, 18.60508154670685, 166.0184071675586, -42.61431197409006, -39.451622458793146, 11.745640576034896, -29.603199138537097, 4.603374504205974, -41.31784386174631, -36.291577307643486, -15.239047519230294, -40.68351347897071, -3.008254286444556, -40.48412780639832, 89.42670926241968, 22.712529752509642, -26.914568899826087, -36.14613985840995, -40.21091685032065, 167.8604625560378, 23.61376093963707, -38.17903876187364, 51.32800699296696, -26.721379017345228, -8.063626508766204, -28.461803429672063, -42.49671831073501, 47.52626305400417, 34.953009505886264, -16.52712360907709, -17.996597249414943, -27.397498478773393, -39.47750877976974, -29.282085924741413, -37.80681661369942, 50.847148475379115, -32.63559542550667, 163.5426562144495, -41.033639646679056, -43.94679351569523, 247.32853765638112, -38.45540951839494, -19.445790745928107, 4.549876085290423, -23.643870792431322, -19.93533928885915, -33.701159743116946, 97.40616466613677, -41.852191008403565, -28.32399765630834, -37.69857479395197, -18.177246279399046, -11.104987970936454, -40.39593132442091, 77.08381442207467, 64.09142531060981, -42.20101146822741, 173.86342769745363, 134.36725002812872, 47.68349823246116, -39.69764126075049, -40.071770109459585, -41.79103480174653, 173.36244932899936, -42.0369128314262, 70.23138505229034, -41.49341395738809, -37.329992706163594, -43.44113270111245, -41.645429638098506, -43.6806388633473, -41.797889721964005, -9.03731294965394, -17.005922178217954, -41.894769705091626, -43.014249003456236, -6.97479811011866, -42.768483775205965, -35.39740922954829, 14.918700755435932, -39.543969963510065, 137.41625609809566, -19.964602117916577, -41.83849281653262, 140.21621950282568, -31.31734157052735, -40.45380019561144, -42.38434115726609, 37.28346504458518, -35.78186905951986, 129.05870139672777, -37.13559780458108, -20.951199080322187, 76.28175218890541, 140.7781073075616, -25.140310693793083, -39.723074278279626, -25.787884425327785, 88.9932648825227, -41.35316877331823, -40.44770451264361, -41.650321664025256, -39.42077769517924, 147.28351013766903, -41.17339756217688, -40.50560986427887, 15.95774561707226, 59.546734562050496, 52.008506794751035, -39.57908437695993, -40.640832230391275, 77.71460735156825, -41.082407570158516, 66.27840885119038, -8.77079127300015, -16.87940486275603, -10.28969343159016, -36.65374128081141, -15.360013676502305, -41.57416590225731, -30.654073302832774, -14.069326193757156, -21.851513861811995, -41.69228266573561, 11.281556410840581, -41.8655062877133, 72.09191768855706, -38.7074222174257, -40.48271494768706, -31.87237366001913, -39.008310362910215, -38.98205563344403, -41.06347901776478, 94.29313309837265, -40.262684907357645, -24.517056304296467, 19.97503567795971, 17.749002621057002, -13.725689304425002, -33.5541741817003, -8.141741656591043, -42.279004297665594, -40.39207804821134, -43.52154871843281, -41.25368953457823, 56.39457125159696, -42.400788050085175, -40.30844717714886, -42.39881228195478, -39.496331987481284, -41.40062584486658, -39.783247961828636, -37.61868492460222, 221.29114823860982, 39.56007326399259, 51.335700377375936, 106.81946595112693, -32.06916191844408, -38.79632473947506, -42.544796857567256, 8.249560754431934, -40.81626971559723, -41.397139963938365, -43.999383622489226, -39.64779397114997, -38.34632073609498, -25.790877636479454, -39.94204690130587, 199.26228170924264, 118.59883155966887, -32.959352249592804, -17.66279533091384, -43.22688921010054, -40.97233315544775, -27.4973072881372, 20.094708556046445, -6.558706731272619, -21.28109559188063, -39.48922056659062, -38.169211689448716, -39.87723153290119, -30.043027542911553, -34.71245337519389, -43.53216388415281, -39.29183948251409, 61.489514216797566, -29.703933938371538, 3.7163694236859937, 75.94827942285443, 109.03852711394813, -41.02377959911034, -40.016192228434164, -36.74021978960502, -39.4425977162537, -40.278331446241744, -43.442971032612995, -37.7464006541833, -3.206382974266424, 11.639255952290817, -39.90608238291745, 37.486118110621426, -39.08342578977678, 9.300756645248866, 60.96842786327188, 37.70801854137142, -0.6289694101047424, -42.81754685386846, -6.618319829861713, 5.584837407358626, 49.95047764553498, -40.128108382474004, -40.59385779704508, -40.819641123061544, -20.478857964446032, -39.177025493640286, -32.32061765121285, -31.31481214789529, -39.36568188481457, -38.38561954858412, 5.712587900321599, -41.171914425045685, -38.89047569913005, -3.4097946705133677, -14.473846258529147, -1.8527668536865227, 149.4346532475659, 143.63451298505686, -17.88443386695128, 53.039906182475086, -16.50259824240361, -40.42776843789455, -21.639597794168825, -39.50898421364356, -42.05915376957954, -42.38206076634814, -42.007317866969345, -20.226037372690598, -43.24669470313175, -43.67153884709122, 115.77802359658011, -41.87509685201475, -40.18907008895879, -44.7044518412551, 4.307319386868892, -43.151790104131244, 29.8375009681205, 28.422143584155847, 25.929106786202254, -22.80143922922321, 3.5801262355603365, -31.488898453237553, -16.680474234902373, -43.67977644985591, -21.773888153826675, -43.14735802313978, -42.295017099240376, -43.7765079607826, -40.48081355595539, -40.12653555165886, -24.74072869097091, -40.09580342120378, -38.46142334816335, -36.64481551488125, -15.518910840271674, 112.41667988658084, -16.74484487067465, -16.158447516391046, 3.889023120332647, -39.86110978554621, -39.88911030422344, 36.53012429606762, 34.48403556129575, 12.303860343538911, 41.22017682055358, -40.02566902139811, 104.92192706553998, 34.9680251704187, -39.499867588420365, -31.216085350767038, -41.015945849039774, -40.6396564541043, -38.47583469820112, -38.65010135329245, -39.74528411063733, -40.868874655107106, -41.96737144404001, -30.043308476100826, -39.36661022974132, -29.68903783251445, -19.56849897576888, -20.830201236157816, -26.079389948081726, -40.535146283089006, -40.6452241441372, -40.33660698054613, 9.615509833516214, -38.03346163639062, -30.875649094078323, 10.633947399846928, -40.889702751737005, -42.76810932100473, -42.12873438308449, -11.673801135639062, -36.20413248874575, -39.55857722038217, -40.98663154986443, -39.095040821555, -9.07903266363212, 49.08048643597606, -35.69926742627241, -42.670628180703304, -39.938533802269916, -34.323770526051455, -41.85824119510643, -11.532520985206094, 19.112804919222242, -32.919258610308404, 76.0144951978231, -39.09294824924808, -37.1578748881615, -39.10335115270865, -40.159927659208684, 85.87225904585844, 28.52842868967976, -39.42966484298106, -5.739034009929217, 46.90156249053427, -39.60944538482063, -39.40880754921817, 104.99376151177104, -43.32811487024317, 29.431147262314674, -41.13406002649588, 10.376756046631765, 61.484129058596174, 59.72594839840217, 99.41129374935174, -42.24534045547415, -42.860263154340984, 84.42013011887786, -40.46441159053702, 3.6367006547667318, -41.380162106736776, 12.193602948808525, 8.774167757585342, -8.602044871634074, 47.56213728665333, -41.09437620524362, -42.828808412284836, -39.684207344635645, -39.29121271439394, -42.36557083993325, -37.762824044596975, -43.32528298682343, -43.40200157399569, -15.006996337789014, -43.033433653131446, -39.74956843735503, -39.90618315817208, 120.52958235144128, -42.15226221776729, -39.32184802354246, -40.90557625407171, 104.37089171434032, -39.05357354050882, 162.07653107172695, -34.07156226186014, -10.98061560491654, -38.75449676660205, -40.420838143318974, 68.91052069534788, -39.99802846382336, -19.727206303411837, -39.86069534392111, 79.63787737570588, -3.126223721969001, -39.986735074774494, 2.3989077053075825, 179.3548107357219, -16.080842673275722, -40.02433695646089, -39.82014099668397, 16.975826960026872, 13.48077676596449, 81.21425580001109, -28.08570039284778, -42.55362324398247, -37.84661790269897, 26.422152355871372, -36.963953865210534, -40.039007745559616, 71.21369082825359, 45.95332776845568, -42.58101252682082, -24.411566087179715, 74.64395719439467, -40.950943773754766, -41.46224112313275, 66.03145176734364, -34.2653831259136, 132.61725002194953, -8.371712032022817, -35.47077405491493, 2.0126811960618354, 61.506392419634246, -19.851769697389216, -38.827567675172226, 7.2461949651957, -40.344816546600725, -42.96378338769756, -15.590131357318038, -13.367750250474854, -16.379387366679605, 2.0479579196632627, -39.985734653214415, 69.5408612766441, -38.89404438692425, -21.68005132129668, -31.713550061923495, 1.7604633533180039, -39.46986661938786, -39.786786884761945, -38.85161300569065, -39.9780502215018, -20.27516475166392, 21.86386202790025, 47.968876181944196, -41.5051768527055, 29.519581796133465, 128.19702278249267, -24.020772695272655, -41.95154751877766, -18.201081501269197, 110.75063040318962, -37.39841435291007, -41.95257083115944, -32.91041292489731, -23.93887724760603, -38.81268897606883, -41.19045561038119, 71.50620924167343, -28.113223845807738, -43.879854437609616, -33.491999442101935, -18.259882392042364, 41.5086731916771, -40.69226956836899, -14.41972233550883, -42.433707868249925, 1.5267152405621216, -15.002393550204577, -42.494214553496356, -43.776695681071025, -40.359998188150286, 37.84830474993273, -25.829667938366267, -41.17922155208214, -43.662033972446196, -40.46525328923955, -40.765878374797865, -35.65905031490517, -25.69273978764886, -32.57153591856967, -39.84108725650082, 116.35936292274701, -42.81804482593116, -31.700968810601932, 88.03798444941576, -19.34498661252267, -41.35977926777281, 60.9320876847643, 104.60541392032566, 45.90247707993215, 1.6494034355286717, 112.05412463593505, -36.78052345532886, -16.86103912257047, -8.447067964976567, -22.47952227279524, -31.290689454829394, -39.16213784960066, -26.38843114303335, -11.601496610027793, -40.26251784582255, -43.03666522852351, -39.97600104768698, 82.46898036999634, 44.41998734396583, 85.36505538357099, -17.715402062099727, 18.57738534506884, -38.39767628234379, -36.765158192703765, -44.29310097074498, -15.89593413887194, -30.85555251513785, -13.264426325191158, -41.06744555495427, -26.074435817812333, -3.9693936163950196, 125.11298417636438, 19.217924644409965, -26.63329881624904, 26.93290947871888, -40.60187294740561, 71.04701741542944, 52.121265145103436, -41.7081849095892, -19.634438569349715, -34.38240996555822, -42.38164984720328, -15.731549235763193, -39.73968310166237, -26.58033816856192, 58.40805225113081, -29.54416195653815, 1.2109589288047253, 12.198170159347093, -41.468703403271334, 117.67064506715096, -40.66973531894145, 12.548175027110572, 2.3618870674707235, -34.44351831487031, -40.06806299618509, -40.40391406894038, -9.241531252348212, -40.70044953151254, -41.208246135113235, -39.46710246808972, -40.954075727060236, -38.94326629492498, 101.0279523641062, -43.060304302055535, -16.94211337231907, -13.226057631643432, -40.37305591481583, -41.39160328126471, -22.90271691808089, -12.725775773175336, 64.36991713060608, 22.849435803430726, -30.35929644634843, 65.26824312235937, -9.79227073289334, -42.474448533290655, 18.61787601751292, -42.25508874663834, 67.75628764430766, -34.31903581350754, -41.71812923080779, -42.44404849260156, -6.952177286594588, 5.56817175588319, -37.02647974554916, -41.97267664718827, -40.72187762409351, -42.63415155677718, -27.540011295240774, 48.04100694388164, 35.44238513776377, -38.58105569819959, -39.95107004793062, -42.85249473872869, -13.209907217159891, -8.340484641589, -38.75928309011794, -34.50098461510958, -39.4943802152778, -39.94879581532212, -15.837243566204362, -7.674246047716002, -40.276284339871346, -39.41456629763783, 59.24086051313139, -33.023224018353396, -42.60132820848461, 11.637455261539102, -7.537819460896446, -37.56617926344545, -14.346597654430262, 7.139848216338501, -39.86016426814218, -42.086697094667414, 23.90928437261542, 15.219173702226385, 20.153821085028518, -44.14782318813599, 95.93091754022642, -30.683512379039573, 11.339301492619096, 28.3791345866896, -42.71524439744149, 65.55558379415187, -40.83116641889014, 102.0386240940768, -7.332014941865647, -40.62209171704537, 159.26677740397784, -41.58712971522102, -36.3584184267906, 30.843113484356905, -37.43534677493521, -39.46522068434982, 52.18232130171766, -35.28615191286857, 3.1319394792708084, -38.207783790799716, -6.647917943088558, 201.75284642113522, -43.902255110849815, -36.762862952858924, -41.44077502176155, -42.8403166432827, 109.21304439323876, 7.32396326983496, 37.129447714684154, -20.561365931479795, -43.60471148288245, -44.1564764627078, -28.780355209398476, -39.297284394139574, -35.12023135568608, -39.53913163077316, -42.45409086932243, -43.54033153972426, 72.61392148571392, -19.64424953696502, -40.427804492205, -42.419948737582374, -39.233100144697396, -39.61219143061423, -24.831550056526712, 37.66587946721609, -11.382003337699679, -40.63202159134398, -40.85485122883627, -42.53660119327263, -34.55138769460609, -39.31901030391329, -31.268031937046732, -14.626866569732721, 1.5781180390701468, 19.195446782692848, -32.57579008347968, -40.302705068747954, 222.13631182004315, -28.742168758294444, -41.62345439671848, -38.837258466851075, 72.42131578338068, -12.057957662573955, -41.704001163335334, -39.544436400935076, -39.33479635887701, 75.85911553473463, -42.30786749022336, -29.252600073801897, -38.55092885950159, -39.22386426388091, -42.761972364977424, -38.18570301129963, -39.483766134046654, -37.12222312721637, -41.923124894186095, -38.8757269629237, -28.85144128019538, 52.90936714547499, 1.6704609729124293, -41.8254892239663, -39.05753434069356, -41.33775465169244, 55.651740285928966, -44.062088996868866, -5.316097944751272, -39.12526553866747, -43.789860297630845, 49.31827880953164, 0.771835633390152, 29.76202590744342, -38.46906620688895, 8.578347032362494, 100.0463056638609, -24.86417016531969, -10.891382424118769, 75.29547660053373, -34.686883588748174, -40.67886039175915, -39.724621037637654, -42.33418902745088, 55.609990984279555, -28.11267488681925, -40.320952566723996, 23.743203610726123, -43.06680252599325, 53.91107332708517, 46.46788845527709, -39.81107639503095, -17.493587137718915, -32.80270311255603, 46.791179873835354, -42.03698687789244, -36.12233516539145, 18.187082462914884, 12.538536106297434, -35.762962927788905, -39.29166195689633, 54.254446918622996, -39.48495572921819, 48.800218502093614, -40.340879110528455, -38.79381145064753, -17.043726730598774, 5.694483315959336, -43.2966496102934, 2.706731425106725, -39.53892791563407, 96.05762357697289, -39.52262880060079, -20.627277484546955, -18.60090168361412, 69.70731919605231, -42.53383052382368, -37.1371508346398, -39.14075737645742, -37.46664126156456, -38.45288452881327, -29.70867865210802, 124.06441023673331, -42.68253415742261, -41.862635122664024, 28.035945203528797, -22.619253935629168, -39.47098417279615, -43.82060395418018, 43.57340784622603, 42.531994023286636, -25.73045022916849, -19.625716935804228, -40.66253387837827, -36.98457556760756, -36.050431381512794, -4.903675374661005, -42.9536374323435, -20.003699471018987, 45.97690006996649, 59.819499997249956, -9.658734856197087, -41.47617972960956, -36.65812268455941, -37.56113935241673, -40.543237646831514, -40.43515606912513, -7.164026119906441, -39.9191400856943, 180.22367184720818, 241.60699431992776, -42.56823380570982, -40.40752695937487, -29.929050834601455, -13.343965067120545, -44.155125154229154, -16.496830062181516, -37.57311777465645, 71.4942880953266, -40.257282449912765, -39.11328239778426, -22.351917301873836, 3.412948182510732, 51.042548973847175, 28.983928569725226, -39.168966124726914, -41.68545943030143, 21.110298412341976, -36.746683406326596, -37.35119891025787, 3.0723979349505717, -7.3088993325218246, -37.58528305132892, 35.42921622821543, -19.9692762620294, -40.65333941429625, -10.312597372160877, -38.993883949543275, -39.18393769568306, 41.17217930166509, -43.337961997191265, -34.870261636299276, -37.92715961956352, -31.665004164379088, -7.3732082083292845, -41.443242329691344, 155.23904924061162, 116.48651766288742, -35.083541864543115, -36.35606934916009, -6.172434695998269, -38.651577393899004, -38.69750022934626, -40.424004305222894, -39.20967690916775, -37.71466654836403, -19.582985524153106, -29.124178678889326, -14.053734471456105, 55.40513972220086, -33.40113888553837, -26.62403384255509, -41.49110680348914, -41.24931372410933, -39.27354996004519, -40.9457303515873, 67.48170501699052, -37.626103589335216, 123.0922591258683, -43.30408443547409, -41.55719939477107, 33.69871638048737, -19.15072239751183, -43.79596395486272, -39.29301743511187, 13.022298421847902, 94.30199908887707, -12.657451485763303, -34.79717524203104, -38.05419506374742, 6.953225136298315, 8.5046132535432, 47.76303024828195, -2.931971236504556, -43.332200934978054, 48.062952929437245, 81.09202848417341, 101.7788048273877, 4.198086871372972, -39.92346833624949, -41.65265077358621, 164.1053605034205, -39.097376408165545, -40.19684837713794, -39.455997808123826, 21.340761547243215, -35.531152473989124, 26.82601993433214, -43.758900203481154, -3.1607975493620537, 107.94884043370112, 17.721264914717658, -41.5118705318452, -38.03700868438853, -39.91678125417854, -1.7493979492584948, -39.849376445641, 71.75597824926362, -32.13573740535422, -43.35561534180887, 70.83086175960366, 9.426094025143366, -39.53248823240818, -43.74777098807692, 95.385143612641, 167.76166879502654, 49.33627121587758, -15.60031033021332, 31.968666558736878, 19.82550367463857, 32.712127919680945, -40.836762675180765, -39.19354187479815, -22.57918897212951, -12.364129937353443, 2.2401213041334187, -39.038014619387816, -34.99944566832595, -26.492370879317615, -43.802527951882354, 5.405461860546237, -42.360801456003145, -41.60953486655461, 108.12756761700136, -26.88351488068706, 10.758187876409687, 1.0371675556002902, 2.941346384013948, -41.834937640669004, -43.01447945610049, -40.89016490205771, -41.41623861459277, -41.37069779992919, -37.102463460194876, 49.583000156228785, -37.774166960587934, -36.5742902625253, 23.27852179521003, -40.509709862504046, -13.174712973700917, -5.520310417508447, 15.04961071974991, -24.59411181229033, -33.30374135749394, -22.70119329983626, -41.14890335175124, -34.862327801149064, -38.41870500133846, -33.11456119421649, -42.98680991603014, 10.655909489070307, -0.47551611840313057, -4.17299932211995, -20.693078498726226, -4.094351246437475, -16.957782759241578, 83.79733882054852, -40.97522814515595, -41.41473458383919, -42.15535476231747, -25.174792454367292, -38.116821816758105, 38.395303714491085, -39.21206345998196, 9.540395864492728, -39.63816705552347, -4.824345120566842, 35.52541650419472, -2.5693277147048876, -41.45598292764973, -39.43032287246008, 18.623097661281243, -42.15246781334565, -38.61409219803619, -28.780818973687758, 50.13648697230893, -25.18813285323529, 1.169320201450556, 77.02789729141536, -15.572608821133766, 33.63274532436443, 8.454511772270632, -26.61951252687812, -37.19553877318713, -40.308751404846305, 157.82958428123675, -43.31079453572886, -40.29322872804679, -37.04744999283215, -39.445675757548265, 31.751949416389103, 85.39506282440871, -8.708468050820136, -39.349424152192405, -43.73926455497217, -43.504256943079376, -38.07653273509847, -9.92635484122736, -42.90769883809558, -42.39360398200224, 113.40490401819793, -39.34643047391277, -37.298246382939425, -39.298345108965535, -37.66209191423782, 12.159830572989879, -39.155763460060136, -42.9073235157375, -44.42309995412809, -35.78431084215569, 95.99483829730657, -14.888203483481025, -41.941725829853596, -8.151706105965102, -28.972802654490906, -39.097537845545816, -4.088818058658423, -39.81712649050766, 21.334690118896326, 23.8507451330198, 42.833724187582916, -41.794404588587305, 77.00942028621948, -40.450368310555355, -37.72517600834884, -42.20841704093145, -32.33333747593367, 14.525003586201523, 58.59242807713189, -34.82888420859688, 3.281569002476694, -31.256023536843422, -30.98142778348373, 115.39655660732227, 98.59314347845572, -40.237238280860424, 57.06357027976202, -41.842700560982706, 89.84071461631697, -41.79050373830511, -39.88403649905974, -27.6448865442355, 1.228405770644651, 0.1935643588002775, -44.12993701235879, -10.044570420133544, -40.88678672748169, 56.38888705619113, -39.884300485800615, -41.25877022712704, 57.27651806463728, -36.28432640503984, -1.1213422930226158, -39.57579676437812, 61.95624549576642, -38.757825005940035, -10.372101317843684, -37.610474298583576, -23.007328080299622, 9.531956796498248, -1.6801623302635977, -24.787474492850208, -14.019561505602331, -41.786401799339735, -38.03701524170271, 31.625177860327362, -39.690843984745285, -36.452896521312894, -40.47411813410726, 46.472428293119926, -14.486258833729593, -20.662668811344922, -40.68457488934522, -40.12015250425514, -37.37344848560408, -38.98647082845243, -39.78860989886607, 7.5377362292888765, -41.70705984951404, 73.66988165929985, -12.325163149183615, 20.936070948382152, 98.23256236235072, 7.76799979948879, 11.091480918883878, -37.85737750720044, -24.91142189823288, -39.53957059819406, -44.35667590355785, -40.29813668152111, 31.43052825851802, -38.9246447534794, -29.748691036376226, -38.78946447437146, -39.57358985311011, 7.421626197936358, -39.40737901210281, -40.52039063270067, -41.992727481198685, -40.10993776652559, -37.9428551725752, -40.360896570579015, 19.158319165732717, -43.33049786205316, -27.07035376733175, -5.738091880235784, 74.98110305503928, -39.43753226072787, -42.92452598299625, -32.3975040023196, -18.954157807399472, 11.762700049022788, -3.9241420493588595, -37.0767088686841, 43.98809598629812, -37.481166980173036, 69.84844939090543, -34.01373805666391, -21.401506321770462, 122.97704874598139, 2.33666381449815, -39.534845943518796, -26.823579611750514, 121.02846627992898, 58.3908914689322, -13.145209794681932, 52.14341378744127, -38.972677158316486, 100.056322364879, -41.46419967118459, -12.196962650353111, 80.65541644459567, 134.16791459011304, -31.910914406733244, 53.05957888646009, 109.16185444930983, 48.02846734379614, -36.94303097484566, -35.64106922340384, -32.223256516757075, -11.445651260695442, -11.640451218297887, -29.784800866596985, 129.14193726318072, -24.15733620218698, -30.600637309586883, 24.658193649951432, -29.744864183798857, -19.89031896689144, -16.34689313130906, 0.7757342002107959, 11.088485656116983, 147.76731652281993, -28.8335728424785, 128.30311238123105, -16.26493056774292, -15.781207582504193, 46.18451301032003, -30.78829868179999, 3.10593475043632, -3.6952274573957125, -12.74603602207868, -29.997877663583665, 81.64447936991137, -28.691034021941192, -10.031472988410744, -35.47019029181458, 150.35791086212845, -30.766275187525448, -39.44597807106485, 71.04875626584428, 67.51259730980175, 120.21594389403676, 111.6630205996024, -2.285670200421999, 118.24099980168347, -7.203793165158858, 143.25128300256858, 67.788015752556, 191.67795651910052, 60.06230481195646, -8.370387922176647, 49.06357371422492, -27.993836337564854, -38.07725194944974, 79.14732987280918, 30.30512544330344, 125.34089004702695, 33.11151488938254, 6.421918382128812, -39.20486869500706, 80.63593326120075, 42.14923701234109, -36.93367315144599, -34.51545632570186, 228.23889837499487, 92.90668879556343, 182.44928882110233, -40.202229073381595, 0.4710244950806139, 91.15120903288232, -9.652029456136425, 21.46213879629347, 139.48502262111919, 59.81944079094486, 3.3649032195669357, 93.97519338235531, -2.862347971048185, 50.1522693461756, 77.12710001544805, 73.98285061195719, 28.84813120519456, -9.325928351055607, -39.09438554619879, 60.641292183869794, 136.2506747053662, -22.09758326391553, 121.23284693175896, 161.5056495124928, -41.8055265312225, 51.805230318895646, -6.585221885114402, -17.88871374974859, -24.830995418280224, 26.911902543354923, 117.78290425193298, 118.29258064666136, -26.662487564448483, 30.520618928300266, -19.539478934443114, -14.438472902535025, 65.26383081506737, -40.496633286707336, -27.90966056313552, 148.00884669927572, -10.007988399623011, -39.39672681060195, -42.126393635146115, -35.341014037958836, -36.89218719161612, 46.62686909586263, 130.33226962775564, -39.52587429442989, 45.07257180374007, -37.29233522935663, 54.93771139750943, -32.650851025105844, -34.122075557314574, 191.04259239029494, 7.248872623045596, 25.048612273202405, -25.788686335671663, -18.02274432301266, 77.16391076053513, -41.7451673135668, 137.53638826884756, -40.85667080474471, 10.10159587957537, 127.55815058593878, -39.67268378449697, 245.34934929620053, -39.14066040912215, 4.4917380868865395, 4.080984953176822, 52.2075516079506, -29.983712238466545, 49.80824327527958, -36.97475723977334, -37.06899469955985, -43.25313973382829, 23.81706512137357, 107.59396208795248, -34.91523791939789, -43.37247118515498, -42.139495011970745, 72.85939733537937, 41.53741447196812, 25.19541873440182, 69.65719283860469, -4.402626656066688, -41.400581369123216, 95.31293186247397, 38.598397153675464, 0.6921091771374188, 117.75295420644811, 6.57972841321465, 114.05218751235074, -41.54169480449891, 156.80806429501817, 77.34930929385722, -34.63249807903816, 76.46623939546004, 47.20322222350542, 5.504567980192129, -29.993011756687498, -42.02859889713278, -24.274248300583555, 79.10829934557712, -39.321992476054575, 54.34244573687563, 85.04439483767224, 108.14384247345829, 8.30355693806575, 144.87981133794685, 43.887356180048805, 61.146513051510055, 86.45621983476218, 13.1140873524099, 41.09386065747693, 76.49870689309044, 34.35148050145439, 84.23729344761927, 126.65404467230424, -37.81079636161437, -43.27598619161741, -10.01820174291758, 101.0717059882404, 72.05903466815464, 14.56321863585037, -37.8629736744784, -41.467245872212416, 117.76874634174018, 52.42914823977693, -39.983463940481066, 173.75645545433068, 49.27657111191037, -41.95010581659227, 9.471758173819644, -11.180982460441747, 78.82270295194982, 33.331649018392554, 165.33400994287504, 6.223511109149136, 245.98800943943075, 45.843747717505416, 104.30521033251972, -36.9326732048834, 82.5243239041691, -7.466642672635746, 242.0670940128587, 55.944593248715826, -2.176609577023501, 34.467545048478584, 134.34627369465863, -32.325261594703186, -8.007598648180347, -25.638664549566474, 32.430853927487675, 7.756282852703102, 142.89216019804954, -36.26056985894089, 146.75275594743337, 1.5827421258226915, -27.815428589252356, 37.19678360691506, 137.97855375266346, 95.31008790737526, 123.84299867462647, -36.96084010283524, 129.49573179735754, -37.808887675728066, -38.958251153715906, 91.97612762716774, 159.10539314526872, 24.45697097763873, 77.98883061181166, -37.310612654896204, 77.89278129157427, -0.04029993400275439, 199.6171766361022, 5.341849797298071, 109.17708183345529, 56.633971846597866, 136.85131794627065, -15.849258878141223, 133.18371561897317, 72.34998518156554, 38.10369085144802, 81.77774265643615, -6.021919113356387, 21.187796483596845, -24.95689712074431, 7.9011249223516, 65.32983021046897, 29.529309068631633, 77.9513884712173, 103.56002801153655, 63.62394933219509, 16.484022961634828, -29.92377230160575, 3.1737634866637046, 35.76933492550878, 81.84288999774323, 37.07601858240765, 120.28208298644417, 17.539466900436988, -36.064357587695355, 138.92635773526638, -20.766568838850414, -15.785722996557784, -18.19736468237212, 144.69710975243083, 8.596263674428462, 6.921639811393396, 48.79281368140757, 110.7381371535222, 60.12817447293277, -34.640471384262696, -12.576628816048585, 70.46987298877738, -42.543888656682725, -43.41748966616085, 69.55941456676167, -43.37455941174839, 70.98119464601186, -27.273901073208002, 46.26572709678525, 72.90912211348818, 3.2797762563798374, 187.5776971745637, 49.11530115540494, 87.39740234631677, -13.27974968579637, 106.22135805570703, -18.18945024529949, 66.56900069827846, 69.35690479096806, 84.48805245699691, -14.527770308470798, -1.141015740588949, 28.889323839143653, -16.105502670305867, 74.97679868224604, 29.65607566292844, -42.073476933566916, 35.50040237204798, 60.52057549956379, 157.67230383537765, 141.5547776277308, -19.62696361302717, -21.224422365182914, 36.645817359347966, 74.53725077347647, -32.131797011913655, 102.67024207272337, 97.34853049073425, -35.36283550399105, 72.15116967716125, 106.40682850416975, 53.70408154322347, 113.6008124082933, 46.61314352342453, -43.39097731673446, -21.31533481825499, 177.5095809837742, -37.83539538930637, 20.632639512103058, 15.865079547662003, -36.39926215293275, 62.48435638878271, 18.20951515577868, -18.669462839976077, 9.11143874202393, 145.80482892834507, -42.40123818344687, 85.6644285988941, 31.285763263689354, 49.487636005399494, 20.64935138483233, 78.0912028431453, 0.20829217755736248, 105.2098162927995, 103.83774188950545, -41.952694640834444, 51.94191964470032, 70.35776948434687, -38.07208385176829, -39.00856744002451, 31.406412546574128, -2.6969497343549245, 164.66982493209375, -37.85579557903037, 94.33798711794508, -20.975118466025698, -0.19237727945886393, -11.137396840039088, 46.11803232707028, 24.79923428187413, -34.09195124737348, 36.01809622439069, 159.34301920403576, -27.126775493881944, -25.243582951153307, -4.834761630477847, 38.86086654405372, -7.294733572355048, 101.24711911047795, -37.868503714660335, 131.25913996319684, -29.301534511351143, -39.558088679827705, -13.234463602751108, 51.369686052870755, 64.52213248842253, -12.467014343952068, 19.10704018170705, -35.1827723689879, 32.04172309678165, -43.30215888723803, 130.53165580878616, -9.591714425771656, 64.09076460122927, 113.31182417725904, -2.368846310368287, 139.21849467448695, 34.231491161484946, -7.449409888705125, 10.012190877760462, 3.779254966231357, 82.53449214726423, 15.740346006958402, -14.887057057602034, 100.89135317195608, 43.82797146032182, 185.57488818458197, 84.41278102805732, 150.15681715846162, 102.53046902409552, 144.13011396278952, 83.15297426400518, -31.78474752761852, 108.24190860250461, -35.09006540609374, 120.85703983437976, 167.16693885173694, 117.45062174065082, 2.6185406625435648, -42.06022214778472, 74.64726285679704, 47.058009527280724, 71.04247885561342, 47.382993305232546, 96.04199701586593, 67.21117704821673, 16.551819281422546, 85.37945930697181, 76.26139993499547, -3.4299900996475343, 176.0936217897607, -3.886109996166834, 40.14729363550049, 161.51530474497733, 91.19134910426064, 137.331570293449, 48.84205504953293, -36.75429936754194, 110.41671892387009, -4.882475757213779, 125.53764874422545, 39.34957370795815, 88.62369921745942, 26.011836779007144, 56.94538762685705, 86.22658532806147, -33.379236226344226, -38.36417476030151, 182.6905671926506, 158.98723144823782, -19.14478284558386, 192.8101427818125, 60.108733804135504, -33.67320507982606, 133.46652582146794, 25.92292573278051, -18.789452302950867, 63.55030523032227, 66.80163253688448, 56.18851044747264, 50.5732831277756, 76.01686117778992, 37.45987508222675, 26.203615302014843, -36.375475319354074, 16.69655021998624, -26.72352840193126, -32.53945189335793, 163.97147580870316, 106.24634331806799, 88.5621469640177, 94.88604898764079, 40.442641090760354, 167.17870105529352, 82.03335889075419, 180.9409516347821, 25.318806592379232, -28.72858725180757, -32.58288378550469, -28.937618396841103, -23.70517068996008, -28.160443804647034, -30.3038907461917, 121.56412329486918, -38.485706912542305, -13.08576834992028, 67.4741414950774, 124.50877184615163, 105.28300459174648, 137.11313648140177, -41.838244720666445, -28.407928970053035, 114.28688330655413, 12.966265831452457, 92.4554923899875, -0.007538025747460116, 121.52889732009534, 38.48652998402609, 134.22719136327734, -28.33155182051794, -25.304285674281545, 0.8449635863667474, -6.946869621515499, 47.51605274096459, -36.37560248889003, 126.18993098059394, -0.8593468799505236, 91.40479270418915, 31.588493626166873, 93.28553789537379, 18.549689892348745, -37.23888322711048, -43.24816190981996, -11.18783201734083, -24.928703314654875, 22.12747511744261, -12.679915364706982, -5.811783269902245, 60.32966317721783, -25.80120042097332, 93.4832754793513, 159.04518575592516, -18.269518977221864, 71.54831656664142, -42.186178056149785, -12.983059047611713, -11.079650157838788, 25.284886428661224, -40.34947027968533, -10.041799924475956, 147.85351491564126, 128.08006195243573, 53.10150860476245, 82.5877586111654, 60.11187275460276, 69.73977351623836, 54.249548366878685, 122.57971759351895, -35.62732728174907, -27.004454178571805, 65.5735443698935, 123.83728462103785, -40.887691574802304, 116.16812228700029, 28.081823558583245, -34.708572583304765, 104.01283766751556, -26.904534519502025, -4.81163607612177, 27.893097463672866, -18.871067346791097, 60.90598155249456, 11.840226045669459, 135.93915335156058, 115.47314104967421, 135.92108464120878, -27.001360296430125, 64.59161441442839, -37.0475659166892, 36.46947379738982, 80.32507375107932, 38.487505031262465, 135.99150437522957, -35.16514231664184, -35.19131790712061, 148.04042650855789, 141.61107230258096, -42.285853205552726, 9.730958766260343, 123.27921076702887, 100.36585748652975, 101.31688101848924, 49.24491214708906, 123.48759394679678, 243.62666214852715, 38.159617893963976, 41.57380000829076, 124.57914172598338, -3.018628117047028, -32.99527045747031, -8.444153195320336, 14.831448015231082, 5.405177418365605, 66.4482151796782, -1.6337506814090943, 88.9032307043354, -42.30904897760495, 76.77284675408538, 121.85004433378016, 42.65434707344949, 156.2918296504194, 157.71346275707978, 149.7143384755075, 58.444385950517095, 37.70204391929854, -38.89009023689912, -5.178568663290869, 22.783390652966172, -31.72443217253749, -7.948251501455962, 104.33868862719841, 18.60959590822663, 78.00145872008103, 56.88894263961723, 130.6549882420406, 51.91090858389393, 2.5294952707367067, 72.78128948000327, -41.71324974703194, -40.2411354745671, -42.56992723875688, 119.61921883182683, 10.816678286795515, 82.83927983660999, 3.3009773749668248, 41.411164133846825, -42.895632375569875, 146.8347912797519, -35.20232187453335, 17.016514102084738, -6.348865854969537, 57.98921850068251, 22.891107715965607, 63.61441398505851, 55.150597098715465, 94.64787010291123, 49.104496098272676, 13.136106743513531, -24.25619495956355, 61.73431431311736, 117.65223628556552, 69.35662191080941, 18.737857236622705, 46.49526449290136, 182.2992587751282, 146.44219522183917, 96.47874394418452, 18.78795582860353, 15.381733336056515, 6.651386528166145, 9.96367528561941, 140.99468121053167, -6.277276065631356, -41.180760473861476, 48.138532351136455, 91.68086744981264, -41.041869262990865, 67.79327054949604, 6.693262457343398, 22.452886555647364, 17.72405590989219, -34.74591768770088, -43.00575299340821, 132.44906741744683, 46.18080404244758, -34.75572057244988, 56.914148216979186, 166.83246288406286, -33.18096551267776, 94.07598398417714, 175.57842504120705, 204.30881217798222, 138.20099558090817, -35.635238368744446, 109.01308462779106, 55.68111798932301, -20.20061122608935, -11.933975448188184, 63.753030958548486, 171.96188164439988, -2.43318376991476, 154.76531650892858, 6.559414380594461, -4.803658558708184, 159.52253567915213, 40.7377897259475, 137.5305637819326, 84.82006213745332, 32.90608473147603, -33.80958742619487, -35.815152487983774, 34.276333191296295, 71.73473681651649, 31.338608582083754, 5.568527923767501, -25.65917042933031, 9.31233638767891, 86.84703207582517, 140.2824772496384, 62.88128789299899, -17.97288414897842, 72.98254486654936], \"y\": [28.23091024846694, -32.698583125064495, 17.903667074970386, 36.3404363859811, 42.90704270024537, 19.914003460934076, -42.531967840439336, -51.71538162836222, -13.289533396947277, -38.09005178642545, 39.25081315511442, 26.811138205038585, 30.48046834359054, -23.335876778243165, -38.68850212980556, -19.76104502112316, -10.007448806685389, -0.4693360483619724, -38.14000090991738, 47.36225957102416, 7.575127543032409, -41.175382090881385, -27.954623397514965, -22.327746652610408, -3.9109019677755925, -22.018194851709783, -3.108788929698554, -42.048475350776194, 29.637495245247834, 45.82973140557115, -37.40899612277628, -22.507558425828257, 27.78937914289646, 20.275424823408304, -34.106512212012376, -24.27507384950113, -12.558303142195685, 26.545756364021504, 10.597774571496528, -13.676036616407382, 2.3573555357988254, -35.8721088191226, 30.887681557228703, 17.957898918225236, 78.37815743602397, -44.387477169684416, 45.061763687729524, -39.60786294097078, -53.33150324824062, -48.186342283416494, 46.827112907848935, 36.221001717454925, 44.52110470230275, -36.94239450305762, -49.96837867963686, 19.828853476154947, -34.666348313361695, 42.86149971328163, 33.562980616178166, 29.164612467431404, 8.757432843712182, -50.32164243937444, 120.73863895660291, 54.227588765616815, 26.415057149603104, -11.982029914890168, -6.54900261608681, -28.744861207301195, -1.7984189796130634, -40.60211586010285, -29.757213435671673, 5.338188828745419, -27.93589755050304, -35.8142219233501, 48.99726459904852, 46.066469013665476, 32.785277567441845, 28.553246301969246, -8.514220028280546, -28.67793842685999, 24.261598694304737, 33.29878541558773, 55.41567706545647, 23.97257608075492, -33.58430041860701, -6.375073585841099, 7.329674762525866, -40.6434312369703, 182.20007528132726, -44.002830821080124, 34.6745361949231, -21.370172112692348, -26.028684879147267, -41.346695750558915, -40.987089983310405, -30.902424933339823, 33.725883126357466, -10.277746010690104, -45.32713336555632, 10.88056725740561, -41.91324023187775, 19.14100371086753, -50.626779479013116, 8.87361726655178, 30.129669089779416, 41.47011338696057, 4.563280674365092, -52.805632438945835, 26.958319083622214, 30.95849877750889, -29.715009073341903, -25.568149235695145, 30.25901567736038, -37.05404831210347, 41.35021341029338, 31.915045268287507, -27.72793627575738, -15.312677963659041, 40.811207053020155, -15.874241838361693, 29.90727357394038, 29.239419812604325, -14.250720869388676, -28.659414633211256, -19.25105320399037, 12.930155753071077, 9.4789899549089, 27.539236685500285, -49.482427656726, 30.371798843177416, -28.516704606297353, 0.8947311091028032, -39.849483828707264, 39.902823830177915, 42.56909175217606, -26.59462402266378, 7.140696283210197, 21.967204662462304, 54.09807761927697, 21.05958166710003, -7.668122212918017, 25.437945041679473, 25.092464727287457, -32.70316285863311, -34.631934438177545, 19.382479607485035, 34.948333031476764, 29.36174040506937, -39.505564100005046, -36.85046153123096, -26.85831883519234, 23.682786608680406, 19.918711212610845, 22.79456232623479, 0.14869255441749676, 12.512447211776216, 45.419467762254826, -13.449927617193945, 36.82076094813562, -24.563464161121804, -32.98269756074887, 31.929276824752957, -26.72605952321813, -33.65214722175993, 55.73574266794454, -1.9866220396633336, -14.325744407515886, 59.88534324965945, -28.93892270813284, -29.028734239745294, -7.687219204962297, 30.910605831983588, -34.45059861740171, -41.81556971828664, -29.77222276325967, 18.315406890341293, 47.39298689736264, -35.47835909332397, -37.9627892851867, -43.638166080510295, -0.32869636396656327, 21.76015081208251, -1.7775797180667323, 29.396042242356728, -19.414214847447433, -30.94719733595234, -26.13431231676265, 26.317072594849492, 59.70842833115642, -11.807657206022252, -38.1360134882996, 59.99918850715033, 22.427471594485446, 24.45412149085075, 24.382383882448828, -34.09038511468561, 31.077812846152877, -37.14789049773408, -13.177596320899715, 181.19485642843446, -49.11544235850026, 58.371761919530634, 49.00342382672581, 24.245219934333768, -20.966856878166578, 5.121030740885098, -47.58045537337272, 32.96828305972884, -45.509979288136776, 60.531029733201215, -19.700989000526008, 28.856418066867565, 2.6927284412420285, -30.914957123380187, 62.84004360010591, -18.59269977612045, 38.68232149018639, -44.044332479586046, 57.93496894916302, -17.695315115405997, 22.123016361464057, 46.88716602265308, 29.770771758675828, 41.89907940962236, 55.52313416383702, 31.416764816835013, -33.41702664987906, 30.619690210017957, -52.348779676864986, 53.02719533559593, 28.708771757685135, -14.807799096331475, 35.91137899370991, -38.59581620363457, -39.955146989394834, 22.10754352053154, -4.4520952198189, 34.79870027836597, -43.9361627835154, -22.052790849627943, -43.46466738008164, -27.45927058046284, 34.044878851330175, 17.46498935163684, -2.522164923471071, 29.671722012236998, 31.47245875392446, -36.58503757134956, 16.825000880724517, 28.466743313169165, 142.69320809902294, 41.92181112939474, -35.754032272755126, 27.8551808472044, -43.505895637160904, 18.562435912675667, -40.05328898151821, -24.386339579853, -34.911819892730065, 55.34152752921391, -29.873261212096526, -17.062682747669555, -51.87929561664531, 58.18303994354198, -25.40633347212059, -4.5608828755727435, -35.60437784021007, 36.967821582820434, -23.907874375143017, -46.009332132851284, -47.160013933468804, 38.683236831312875, 37.66010483148092, -44.07979604761842, -2.9134539687957486, -11.648544912023668, 29.922600055693056, -4.514918358135395, -26.269940897523874, -17.012302449275605, 28.47513779925173, 0.08191859339850008, -0.3165710175577779, 42.292655706762254, 19.999301531696943, 59.924309826188576, 28.91885279879757, -36.62330816734603, -30.347816402184016, 46.81139502325056, 22.39290034319739, -21.877977985170048, 28.467287577494098, -31.560568393483862, -19.442916417622946, -15.5437028934631, 55.040954265813916, -11.186833325914433, 28.888953147195306, 1.3974976378938087, 20.42063020242257, 12.990040702874436, -4.207239153399733, 3.5608790475735637, 26.125309410526864, -34.50347220654866, 25.326345919664302, 37.31680385940573, 24.398037396272397, 36.083024949654025, -38.712689564139296, 25.915689071522305, -46.07540271069029, -45.958662113507295, 25.68174995350032, 27.553804701216162, 59.634803332322946, -34.11189129762984, 34.7629950716506, -44.446471152809636, -24.466571657348073, 33.48062045469256, 16.52987576751016, 24.53606624314778, -22.32282943866794, 37.54124398063515, 31.47952093145407, -35.031130546813515, -38.25512250367674, -30.699445654708494, -8.023712383821861, -41.11882575648515, 18.36412286707191, 24.918648848314408, 1.791653959481736, 28.406365687936297, 18.012698733507463, -24.021571052744463, -24.627648439482158, -44.97889558973085, 58.281311174782715, 30.76778927170651, 26.822300939587233, -39.46939650133087, 9.914740006402212, -7.067066151278739, 25.301557965639358, 55.702013107972476, -28.271195738106798, -48.20893971653439, -12.8962915489795, -0.9256547382479945, 41.83243459006971, 4.441995958399444, -51.01786858600562, -5.784755694515199, -16.964262150894438, 28.543204896307817, -44.623437480397975, 11.977342077013024, 13.29737934470996, 37.449987884424225, -1.8531364583908894, 36.84002108369279, 58.95233714837504, -9.703162574883509, 43.13582815383328, -25.234987352135555, -4.476394277294624, -14.597437798312432, 16.539535287144478, 31.35722941585849, -25.47258570540077, -25.63267189183483, -39.331721626178556, -20.609608825945745, 5.0680532170494175, 10.525076911387954, 31.80100432411124, -22.829019386095755, -31.330440352630347, -29.699075375129134, -23.761912342515046, 19.175758479088934, -18.09090809154486, -39.94092036161542, 42.16508421697069, -27.986745258041463, -30.91029457846015, -4.041843892272165, 33.907610651428065, -33.25017124375505, -40.407792266721074, 28.055687328598154, -42.94181901641024, -25.902124394666348, 39.54965537329049, -17.298981138876403, -47.12426098343802, 15.13509521157927, -18.6260315543477, 14.298576475384285, -31.27964857428164, 45.218873154531664, -49.0803109253154, 18.739458048301593, -25.607029795114126, -40.25825278891887, 18.68956540768428, -46.94269109175835, 29.560408123414312, -39.07085356349272, -2.4213791214758302, -23.69590654781939, -6.453835912679825, 24.45840775939066, 8.727619505047889, -22.252565986343004, 4.28180975656775, -5.306342148662813, -31.807427530300423, 127.75866122146313, -27.151391426103583, 38.405905109581155, 12.10518627510656, -40.02858057105076, -19.97822602692279, -43.77407287693804, 25.48948039702469, 40.50159290461105, 28.888022925193646, -13.22625912866363, -42.81317027875016, -0.5914237929630278, -24.792001677099158, 184.785851773679, -40.58542191316798, 29.434715819186458, 29.3499021030872, 22.99529068286971, -38.57205872457183, -46.581528057240966, 41.251733324250054, -21.077841457834946, 29.979916508182672, -14.580492682776692, -49.18473421897867, 28.511014263439233, 3.0032325269777433, -10.107911434789116, 34.09008533149328, -11.985878709489391, 30.520065756562893, 41.909479151587774, 32.497111127472124, -22.004700449537623, -38.39609786782203, 39.50382586891752, -51.00862868772297, 28.331094856138783, 44.08388757838616, -7.9053686922071496, 41.001509166582245, -7.865919654512564, -29.79910712042261, 30.482914670245044, -37.62614869400247, 49.21973392262584, -42.77408112903209, 15.399441535615557, -39.501734607967556, 14.227738639437641, 16.390987319580216, -19.002605928113827, -30.298690442981652, -19.64413894234884, -23.458662540328543, 31.915843732980807, -25.29360076488029, 40.76150595563747, 56.53927535330638, -40.21653741937854, 14.162557113162029, 31.73116711507297, -13.376740374511622, 0.22649962636752352, -26.257753316898533, -34.965811560766234, -16.139462072527017, -18.260088533661595, 41.90411559579437, 26.170719240382475, -27.386346751570265, 27.810735321960244, 11.379051547333887, 32.466567990390175, 28.577562208342517, -12.506005094458413, -27.016725539016186, -42.82194233784323, -34.576084540419615, -37.184200510225935, 43.37903450006799, 27.998560518659932, -43.070586219339596, 57.033661877695344, 0.7229980827099767, -0.6056986241238851, -13.809518547266515, -37.896469544267354, 41.7167890899327, 23.107927907024084, 45.34447319841883, 1.8550550345661179, -29.45398399756312, -30.03324219207025, 34.66378129208233, 32.718839788784855, -47.360332027255744, -27.368982448346834, 40.14220396641116, 56.175293688692776, 19.501448539868594, -27.468300373235863, 31.780092673878013, -16.89232127197271, 35.50608603411193, -8.715195116444027, -1.4220474479660639, -5.050186455956066, -26.31108986449926, 38.24665856392367, 6.459870449449852, 23.933388731993055, -8.170382820915915, 30.048537925968304, -34.0280006374041, -6.840388740150392, -12.124070989561975, 38.75573178499638, -16.36942012622365, -7.28295608080818, -26.516583574740718, 25.285212605340664, 1.8566914133828634, 42.752934131618666, -41.652602558479984, -25.607897442061724, 94.61231082652526, -9.40466031199958, 17.943784238719726, -23.381991015881844, -34.17512248374035, 26.614473106383937, 4.645580503142907, 25.57333549944079, 36.32019903781712, 32.58181004248142, 29.21443168185361, -17.32712526715049, 30.702574377604414, 4.305865537283418, -39.67123782624188, -20.008149353856002, 49.74140840718585, 30.634831330730627, -22.418614726194463, 41.30731845030986, -27.740329763974525, -32.419605220100074, -37.52344364961359, -5.274927707851402, -13.953280802690097, -31.235872166031605, 44.04041464295643, 26.83112824423802, -22.522803313489362, -7.978793091738515, -0.2373525193515275, -25.315402243575374, 39.9552635200941, 40.31273170324549, 49.372010399140834, -26.6781855915623, 56.04694101770877, 50.18611896487695, -19.41587256283163, 36.76480991509477, 57.76968542917225, 18.611529341405006, -43.316690904916086, -47.337489799077915, -29.57925240567233, 30.512060310413688, -42.47038041276336, -34.387395745311075, 54.60495617901986, 50.97487116363422, 1.80874951183833, 6.511714691504991, -23.98239518023485, 31.57071791491134, 30.600722159871484, 29.578782359906068, 31.53037788701105, 53.58282497607071, 27.829967772991317, 5.553115868008185, 46.135321256421044, 31.458420067980423, -46.74169134357513, 44.277251795536166, 45.95025141082054, -37.33432648971916, 18.886695791491444, 60.14079268770944, -9.796082469988136, -1.9748942509108462, -12.064348332769638, -35.037239624931466, 12.031901158191415, 21.000755857799035, -36.31812314733072, -30.630392638514547, -10.33061643165372, 19.061842344868925, 6.678589474873973, -21.120271417611495, 19.33024025854303, 43.67564361377967, 29.318131668549015, -40.37694948619465, 19.718519175696052, 30.564779022726235, -7.381234726676835, -33.19462133742626, 60.02201029665021, 18.103108785211006, 29.728452398620856, -12.468235731033555, 32.890653310648354, -8.264449570649631, 25.268186558155914, -14.851036497690847, 3.061451433247848, -21.142867071505442, -15.420960742023887, 59.37213554872505, -45.79379793679382, 60.274880371701286, -15.193729497353681, -16.667922753758653, -20.024161235769437, 28.764900082380393, -25.26121275373073, -41.20109192178455, 27.3440945945064, -45.517569953683676, -44.46292305705734, 30.749751307613668, -46.746279029721116, 26.838852912209546, -24.502062941867337, -29.01047311184828, 40.09087928165544, 25.792724386734324, -21.77976829049478, 45.91113620169422, 32.38095524471321, -29.68087714138255, 23.95517623373219, -37.2192887682159, 29.858741755999553, -17.00937967222464, 41.40331639831291, -18.43670716785988, -16.470014795866962, 36.13511529607596, 35.78542375841199, -37.32440713004446, -42.44478012258911, -31.527473144020444, -21.64577200742525, 28.51173238004654, 20.069662350026704, 39.405441424981746, -24.01476919238032, 32.083055023434795, 22.854729821027252, 30.36403224510079, 4.61260492947002, 58.913644722434086, 38.64585859879063, 42.04422514705525, -42.375863392583575, 12.299399959146703, 48.36552305964053, 36.795574325873645, 33.08428403621507, 32.592644100267194, -0.5376921529720863, -50.406766181297655, 29.147141188766508, -29.035661417752888, 43.585919902240725, 44.89063153520421, 20.6224994862436, 43.818433132686295, 39.035171714142855, 27.58789433740916, -15.35954974158432, 8.914070437813033, -40.10260827770994, 42.9678091932089, -8.969831128435084, 19.60469187689528, 28.38539375031669, -24.334428148214776, 31.16281038352907, 3.1642833385144824, 28.84251922529406, 27.349978170572253, -2.100422749416085, 31.6089936480688, 32.76881477714108, -18.93093499952101, 17.716252671251798, 4.926576392027999, -45.92480407713002, -42.58932944382398, 32.96605725046084, -5.827089264554044, -51.05718123277946, -2.8535006750245584, -31.28340187347287, -28.897532628976823, -44.24553234235383, -49.20708918540977, -22.03584872221903, 27.74719975272547, -27.668826714631884, -44.01006337202996, 57.9511602778669, -31.94655891106337, 32.46968545102754, -23.892986776089042, -38.64050637402953, -46.64825982724154, 9.156124322280412, 37.52585982284644, 21.794190262827026, -6.6470260908711065, 37.33567505506392, 30.775757430907213, 48.216716022119634, 46.181084951622296, 12.660294554806994, -1.1070334906110793, -25.801507111648807, 30.440391679378614, 29.910081546367625, 27.708343798482183, 23.20883101964041, 20.08653282330688, -19.98134088063127, -0.44861552289713036, -27.22909276559213, 35.12441180786894, -43.487384537021, -36.78254214828802, -42.828516216754515, 31.611860182742113, -37.349215078532175, -39.71596467318386, -27.022801171919212, 17.07315876837892, 50.523919783271694, 43.717460879503854, -41.565826154004185, -44.061780189179714, -23.902127753520414, 30.911759411374373, 13.233482971236569, 57.341633820901706, 6.0737770745606054, -33.684488873694725, 6.049561909100824, 51.85357971016939, -14.596127952314157, 57.64190153333305, -31.287767563740292, 54.62033932804697, 52.800672278827555, 36.60507013266357, 35.56934272612486, 7.1722233748576985, -34.483503059134655, 30.885484903838407, -41.00295878746783, -51.039024008177826, 28.9909517152578, 34.82675827748322, 31.06316435764929, 118.52019997065027, -19.087171384618035, -18.257852077433803, -3.3437956398857955, 1.2245959692116237, -27.63709321681223, -32.74725499351026, -7.037215929779678, 56.04871914118317, -44.71500293905093, -15.958785715005757, -35.27609614170168, -25.417794076518813, 40.46627909910047, -49.170768473406156, 0.7756944942620085, -26.423595984560194, -34.48224197420665, 163.2434098804859, 44.688231272902414, 26.99507563005899, 48.295678999019295, -23.884968796781056, -24.679075919545227, 1.9969598480439141, 32.702882168499514, 13.190233450415645, -51.86359416310529, 18.750887348615368, 18.778126451917274, -37.00160179034132, 26.936044587793702, 31.18030441470471, 18.027211884084902, -49.19361470955402, 57.72096160054318, -35.07696101191325, -29.203231705773767, -37.39760437077231, 48.825866918783845, -16.96150865314224, -35.820643117004686, 29.050172448541996, 22.076456889879882, 44.51794517217226, 2.613968855186595, 32.613968640480564, 19.319457868506976, -44.274724128591195, 12.600204993563462, 59.448194941968765, -15.48879994589809, 14.909135783943075, -48.90769171126245, -36.35308614213136, -4.316304525081116, 42.98017560873207, 1.8403211252981677, 32.257338062276105, -39.806231738135764, 2.389293791159176, 56.8681905520243, 31.845484085093794, -16.314664504684067, 60.41922260554933, 31.91285980458201, -36.5124029563747, 55.24376534031907, -24.62818023715029, 43.063625151597286, 19.580701198460673, -31.183364412746045, 7.265407588192246, -29.83348776878122, -3.5125417146600166, 36.65483322763523, 20.188874863852714, 12.62226263659618, 25.78245077671013, 30.80302350471361, -32.560221720229976, 32.55239961168928, -7.638960535051912, 2.3840381350616284, -3.1450262909444127, -30.41841240015163, 23.10573031315253, 31.06054274849446, 19.9338239306746, 27.001773255629246, 49.37849471202607, 45.05827945657179, 38.257155622191746, 26.435133986616172, 38.30673808474373, 31.60427593468938, 19.05051643661085, -22.224612328674326, 35.99826267373748, -34.505893335307846, -16.27093783504775, -41.229997714552766, 15.40775631089564, -29.585881506724178, -30.067919280030093, 45.65866263615088, 2.8057254315497486, 33.92773209564963, 21.815572264601485, -23.11214705601537, -28.320872091026647, 30.719898986020393, 27.006634226504623, 43.373762617476025, 43.76281467020614, -4.297239728566756, -18.239385149295256, -46.030719386291494, -18.266650281947946, 27.30447723330515, 58.205123290931894, -26.302660781551772, -12.796064900339173, -30.45778671015172, -20.556204654911806, -0.04110321782921584, 46.13191040735108, 20.53069884681204, -23.842294060219494, 36.959204259888814, -49.130044021639215, -33.75108781540759, 17.240166846986465, -33.629819659889336, -4.905028003420827, -44.962156000753694, 17.661817192086584, -10.390158050265391, 35.69117272123768, 19.65957595035077, -19.557795512107404, 21.723486287096968, 38.581774197875006, -47.10815357226443, -27.516439072406104, -15.796262917677339, -29.044681701310875, -21.79172976915298, 48.89365418076003, 33.444862043849554, 32.426605947640944, -7.408670546044426, 42.92073727057673, 30.99600301339214, -49.15097624877356, -5.353834290044356, 55.43746012154085, 29.185915315532203, -13.253184507367704, 28.54009037421896, 40.765097430117606, 0.5570534448618057, -48.453095599220035, -30.58960878165627, 58.216161579833425, -3.3762126380578414, 20.169658954720756, -33.24926847903255, -39.01345746419914, 31.78047729594555, -24.6730944969881, 38.7096822859641, 53.13982387199769, -6.714268407819986, -33.69811219113537, 58.53705100148613, -21.601526281135175, 33.29632395529113, 30.642542519411794, -3.7219608073556536, 24.34800795508354, -42.6832779070712, 188.5028522260111, 21.157520907629298, 20.758000596336927, -34.29515477927086, -49.168257005157336, -37.10611117895692, 50.01707881853896, 54.79821194323223, -29.166621346647855, -28.230933286962408, -29.172174510128322, -38.11408247116372, 23.160699831325694, -16.605670643724494, 14.701966514527397, 31.177272355808924, 33.460308776903105, -13.839703557309592, -29.851803716924493, -27.77311185810866, -14.885601921672245, -13.128285295752672, 47.26725102988276, -19.319335601316975, 34.61217516976468, -52.2888732970545, 35.42837327048558, 0.7514326384129283, 25.5968386190947, -27.193513521732058, 5.654226169853358, 35.81155773902443, -26.80808651854561, -7.198963187742377, -8.758630749270948, -16.720019982995463, 43.44474790265917, -39.17293369945994, 6.314823051828975, 0.24224297666109645, -2.283499063941745, -41.28928603086988, 7.475036005077855, -26.28676068290889, -31.220141612932398, 19.973703635316493, -15.113695498927294, -27.98909623759923, 43.94386445285092, 25.415554069935933, -14.294103780177787, -6.206996627240544, 60.25809096524358, -31.320179517677545, 25.785315440321774, -34.13959053558298, 20.51930052576917, 29.081945588100933, -21.462940016963998, 42.25091713544735, 18.739083811573725, -36.782545510710094, 31.30760253164993, -46.23736613841887, 13.415143902088655, 52.607509129485294, -21.07503175310879, 12.570711230925797, -43.57341955701861, -35.90658814513931, -4.136228129127101, -11.324109247384724, 19.94179841527683, 34.32075706624045, -41.73013980484217, -12.784359758818557, -50.55518231313955, -43.28173779079866, 0.35272824031915145, -10.876332154035047, 34.699500883393696, -22.950582465279652, 24.933377821650012, 0.6986884621029003, 23.700513701920052, -37.98045243936626, -14.909835333161976, -39.57953153662794, -2.7195515537216, -25.85692959788469, 17.21954977723687, -11.666146882850976, 19.030335387259488, -43.25629025178417, 32.485934815520885, 176.56341621893063, 29.903124181767527, -22.39641128036563, 39.44047055268959, 17.19687982462069, 57.53020961512903, 24.49222037790971, -13.266675769419814, 33.19857525475791, 31.9153249380623, 35.76399583780682, 46.94977209379405, 53.749272872576505, -23.603089132585062, -19.30262503595697, 0.9595728044059796, 25.209767997615657, -47.352032853495714, 53.66057543030446, -28.832219075848304, -19.868344526328393, 23.261334738997245, -5.03250586011383, 15.371609738003343, 23.26042891607778, -17.458266661805517, -46.819002950452315, 31.592032235086716, -23.68597382798101, -12.614820948041228, -36.22223982348988, -9.215635366078637, 6.9502007926256715, -45.2715826539686, -6.948859975262721, 12.596083525570696, 53.156743279137466, -44.54403867111664, 31.25831747932336, -16.838226768058608, -36.97438981872388, 47.35575494484281, -36.117182979945966, 18.381668720609238, -25.941231940292823, 26.828105245028535, 44.987963276085765, 49.0033327096876, 8.90116228252977, 26.134544310667795, 14.350256630058228, 41.169507937516215, -15.521740448178946, -18.14064605742008, -34.224309227074805, -37.769935593808015, 21.673397106666208, -27.62409666756689, 33.19633246573382, -29.488231090998774, 24.960828599763897, -9.012871189349893, -35.6193872726244, -46.157273458992705, -23.52502924566633, 36.52628000516464, 36.593283998103246, -35.25872905267238, -12.248438359887924, 41.15985217026123, -39.62576644693569, 10.039836193851823, 18.195368446080128, 41.74623591880346, -28.217550936322187, 39.658248485556676, 30.94576240192497, 53.745094282848065, -27.306088919557904, 16.01945892166763, 33.93609482349798, -25.019674182517562, 13.014047754726768, -20.677418029348395, -38.725774713685865, 24.26219040015974, -28.60185194911753, 26.63516566990699, -7.2021861040638635, -17.315013252666866, -39.648119363062456, 13.776566997382535, 55.42805040772739, 9.636193152579, 36.95966019022611, -20.66545126280177, 22.86614903973206, 19.78061769747102, 17.66251710745474, 4.435333691249834, 18.449831964651757, -24.439454764065648, -0.49044061172267156, 26.720299787797273, 6.194442479865581, 22.20378779547594, 36.15570707570495, 25.2663082118823, 28.270692263091288, -52.202996353402234, -31.717765666370774, -48.164266675037986, -27.998017734209856, -7.554008647757791, -28.84007994516329, -38.32179593852682, -49.06951931893446, 49.372583484520014, -23.774396782813195, -19.307089762223818, -47.55605649048432, 20.358451702602306, -18.78219701366437, -29.86007722865374, 13.703074878725298, -44.6659168558059, -47.713383376396564, 33.28992779561285, -24.061439992456627, -19.4606725455522, 21.187868918617482, -40.685936017610935, -39.83140617470102, -23.63239461275142, 22.994392749206305, 11.618153667047746, 25.640044759496252, 28.80609365346546, 31.95508244471939, -11.774745873859658, -30.111892340707456, -35.537605210247925, 82.00908062547748, -47.159229502770536, 27.498526222155718, -47.62678059454298, 28.25417025059772, -26.12233791901983, -47.01619166701863, -38.90615732356589, 20.567323954653336, 36.616431463006805, -33.142759186923485, -20.979031234715332, 33.69337410862099, -13.863902903272626, 22.58104095779094, 29.898297496103787, -20.05989033250424, -19.183666539297473, -44.53159156382384, 17.987642069619607, 31.97463042567647, 30.608537635883838, 7.422479070535059, -28.78944047109358, 21.663789626593697, -12.763375952229845, -38.95626740361444, -6.344346249054, 59.78082630483733, 17.162960534954426, -4.554824095407684, -22.90387650714337, -18.233967110241377, 29.51340709448483, 39.047291007818046, -44.60795524022933, -43.581838282395886, 56.66688745403614, 27.303800171537574, -11.682663923729168, -29.101873938555215, -11.465619528867181, -13.27811547367301, -18.945807275112223, -24.538621015009998, -9.412323197110318, 10.850146501863524, -35.89538552800236, -27.591758304183333, 7.790622660945179, 28.754120784438307, -22.027099034499653, 29.79844116216741, 56.532352872508675, -25.240830720514115, -0.8758417238882039, -23.7590321228236, 28.7640377458186, 54.67977030249255, 9.095038465586294, 26.188067828822586, -37.021852211084784, 47.702381919731195, -29.359516618794654, -38.156307888816784, 43.08542691869467, -24.93758312320421, 16.5238415233372, 34.24980424074038, 21.67702084198326, 28.69181784943085, -18.681705489642084, -39.385207276806234, -19.233493076221833, -46.09817533526221, 31.517978712922773, 7.1520668614098515, -16.193580628963762, -22.960729989507357, -16.841250751156142, 23.997930948339107, 34.38988378261498, -33.974662052034475, 43.489562412953354, 29.560715973247863, -42.59025472830738, 36.277241860056094, 54.18673752378524, 6.543965501377686, 6.003872924463886, -52.58890197713315, 46.239086302187076, 56.04800218252807, 24.289266252482044, -28.279541033443028, -26.159295520486907, 30.442862778643327, -33.81734639223322, -34.33858047529528, -4.911015168408745, -35.05427757420759, -17.80128018096665, 6.6600814607691525, 12.755034372800422, 18.199196973776417, -21.97285224303463, -35.39264020118854, 28.34149591147084, 1.7412771032867547, 12.104384589195265, -5.568889321889345, -33.844863999432064, 10.886777243454755, 27.93327437979897, 29.22999326471316, -16.710088122500746, -17.49537252637858, -31.664463824809907, -33.14259822488049, -26.779227128429337, -35.70452350384247, -41.12119136860965, 26.720643941493424, -43.460899304003185, -1.5096791791070387, 28.943535282443726, 27.372784131011247, -16.721634510367384, 24.259167033538386, 25.053800948198813, -29.196237114807857, -4.8144791217450535, 49.61000498203576, -23.50386108669016, 49.71753245220152, 29.80797920131678, -7.78334557187646, -25.583192977059205, 43.99968533664465, -46.26507769186942, 28.295937443002927, 33.1898871767116, -20.161639764177984, 57.539768713004925, 28.798616237476555, 27.633268762100382, -37.55415808776113, -21.651205954549276, 31.635394111549722, 15.060780877053467, -45.901854842664044, -10.774283753972979, 30.852815425584552, 11.16731511815228, 25.73258041713533, 24.617058470650406, -44.376557829200735, 56.86803846260069, 28.881421789836565, 3.729593481452176, 19.63906663984909, -39.20727770115619, 51.16161160335132, 39.82943100399172, 11.259501590374073, 35.68783472677783, -14.695631403635996, 28.700178060120063, 16.665287894873202, -43.23970570180076, 43.543260423363776, 30.619104109279913, -31.22309610313446, -45.826273250128814, -0.909005203138503, 40.93071031897555, 50.03315152289343, -28.203753102536254, 21.813954062332577, 38.52784841062171, -28.1509979439105, 33.34717816610957, -19.591855025798516, 52.31017313063361, -41.973373726382555, 6.062236548470487, 29.355872169637447, -9.901189681169251, -53.126764858863474, 55.86701200083451, -2.623061916989912, -23.164243859878837, -15.200248751195668, 26.66336580598133, 24.466324318351056, -16.762244821856576, 0.9265934217309719, -34.0541332768844, -5.065188815364445, -32.12864343880042, 7.543374801434903, -52.39449808274727, 22.28119472218296, -22.096644316041147, 43.46766375331767, -51.127214297636925, -17.087039530576025, 18.50899643975855, -31.19617898704764, -17.256088498504344, -35.410916976364696, -45.11769210329326, 27.76760755093848, -31.49661022404203, -35.23314080900842, 35.914823582395854, 4.841160409248248, 36.40652872848064, 45.24464887890029, -34.506839323303325, -49.83229079352754, 32.015514413168155, 44.908026592711835, 10.382009550766497, -16.8664692253329, 48.40089355492845, 37.71196252862409, 14.629656341009085, -8.790073998275572, -43.79695338623668, 34.01972045153592, 29.45945349411235, -19.169817654175286, -33.50717865588207, 13.95817862502912, -1.8746734657480117, -2.2841643194921875, 3.3388682099103546, -10.089876324308474, -48.60782943395746, -0.7187710927940958, 14.953462959668094, -6.117807269456108, -33.451171015960625, -13.400915398562015, 10.087704212547818, -13.012021736491965, 48.171613764796916, -27.051909911911483, 7.833662242909973, 29.05853914312353, -27.407757972055187, -1.4356708927733774, -44.842541813869765, 32.85191012427897, 24.720199372915307, 28.39344180127065, 20.56538894817992, -39.81992469367339, 14.80511624688332, 30.290768475014026, 38.407141852659024, 32.54258681018592, -1.0081972340427325, 7.82665201821162, -32.47950147303201, -32.0268308000406, -32.52353521821563, 46.507938827447916, -28.245108895303048, -4.012597389296271, 30.56774522760951, 49.87975950530533, 30.4262120591808, -28.990931124822783, 30.513812620521577, 47.77836522059989, -25.741070918640848, -25.10807222218384, -5.539926638157131, 29.63911103193015, -2.047935957409723, 34.3173620992278, 0.40965556557402927, -36.38144221821374, -23.720403191361765, 33.248835818359176, 33.06107267329122, -21.310543781567993, -28.17659329424929, 43.274068959408126, 58.24971069505508, -37.95332112375453, 43.461183472522066, 21.15286641075182, -24.90852312226499, -50.35368457667957, 22.692104186715202, 48.79789456167055, 25.147846873440194, 5.543400188404037, -41.059300770539885, 60.93316855141416, -9.480300612780653, -45.4251350435245, 42.15709784760682, 59.03059599545827, 0.9762318300691342, -21.00839331279054, -40.88930922946044, 23.425941472773353, -52.503014503887044, 32.401238093289926, 34.35082847702033, 13.519705449787796, 28.26605419797277, 26.25597163692836, 19.041563692423633, -38.13587991252569, 18.635117107215954, -48.20106170087428, 22.425615574843935, -26.811235181165618, -33.4612273813913, 0.2053303715467188, 33.091692273420605, 27.94649298237109, 30.396571512802204, 49.40776818637428, 6.6785888682601495, 22.626828950626535, -36.99762479810859, -41.398794740604, -37.530398104210626, 27.547346295949982, -21.422829362282233, -51.796951291297255, 11.588507477965607, 27.50359122660602, -28.416872585203127, -18.66789753544208, -9.214969908915927, 28.771246192140836, 12.093728044035535, -18.226994315896448, -11.060493142452138, -14.19350849927222, 17.74373758511039, -38.206593382426945, -36.37989406022169, -39.240119748117415, -42.909167119565325, 57.59600895828443, 38.497126668947445, 25.448455333319075, -18.455519729171442, -28.477802418325624, 28.216691217549894, -26.864350740557406, 22.258840922009757, 14.753214605985288, 27.157192463455896, 30.88262077092774, 7.5357058261037055, 32.12192602584352, 25.686947185765934, -50.00724775821809, 44.46771988709813, 6.560790183952828, 27.10994449440488, 5.32785644584632, -13.210526458587069, -21.89719328719302, -40.460505323998056, -41.84159021767689, -1.9641273808296464, -9.842046705557294, -10.917660495488457, -37.01779606755069, 15.470318014161787, 29.765501696140653, 33.09901835798088, 29.1084490232725, 16.54902445597507, 59.98356642182779, -34.26209051298915, -26.53186338285188, 36.11307898231684, 49.48716667548035, 53.88999563766974, 47.38815293996411, -42.571376448953366, 38.06341071470338, -48.86030117213256, 1.6520150096422594, 3.5396406792210966, 35.85420246437486, 24.516975106903264, -39.62327762789781, 31.378347153429463, -10.702259029057904, -39.84979322538174, -41.76504795158061, 30.0365573440469, 34.77571686636489, 21.212934011878914, -24.616452042308758, 40.52546682847705, -25.817390011138066, -38.672514380477494, 24.832766274372975, -8.95666790742648, 35.4515359221684, 32.03887796104918, 31.25421727262663, -52.42185930077072, -26.173681807578806, 20.7435886788415, 72.83467376356442, -28.260997001589445, -15.596898572074373, -1.0784842437287445, 7.4941220479824855, 11.528591173221118, 32.352526328132846, -45.30805326778718, -28.972672288611445, -35.83593463861321, 32.943144697184124, 25.164742786312218, -21.93837538080322, 43.070782372728374, -42.86649754797789, 50.27681280568012, 26.046547005629453, -49.20687970934054, 43.97586041185288, 23.108638610081545, -18.63291448700513, -23.24494939391383, 59.95583471763295, 42.896678470191816, -1.6766827090024805, 8.061034179633898, -37.306581369074436, -0.7984990824804074, -19.41187481853643, -44.28950579188363, 58.2658439680078, -44.34686362576514, -10.73456747135146, 26.538787550546765, -19.38393160243671, -41.67836128934255, -51.2926094374772, 0.99952211121338, 35.192772998381294, -40.6912354846906, -31.598509987099888, -27.294390919674626, 7.488032182642868, -38.938567391210036, 16.844512857884784, 83.07219065037428, 46.09869243765142, 56.82366816783993, 14.72978753306074, -11.220203808253268, -44.98621605912964, -39.821483880312016, -5.58764068288616, -3.737322378439615, -2.5518302558470296, 23.71560269838404, 10.813514767893922, 12.13269027061252, 36.79652788461927, -36.81791501278206, 6.523250097733351, -10.232647639210477, 28.236532494956286, 2.261467060482322, -23.461736265023774, 11.94917382746126, -25.334572524228026, 16.345246742871137, -29.84824359220583, -49.65432257009312, -41.73002476837412, -17.816759509258073, 27.228157870578464, -46.659417814086716, 9.482139070155704, 32.66962269350081, 30.35574103671604, -5.6949245185374355, -8.85994037466898, 28.184203844438017, -16.474779230848856, -20.447057322212846, -34.88912088722854, -44.79765249805422, -29.06702769759925, 41.33344529602898, 69.12652140879825, 34.96807695059991, -39.062185014811924, 46.89561718320153, -35.28877606382017, -25.881639202163967, -38.77809446536456, -39.87487717800044, -46.965192285325394, 19.58442073289389, 29.97554188783271, -23.97254764385535, -3.644110949009468, -42.266689367670466, 29.5475042629336, 34.422452396902926, -0.8495239838275236, -23.66813943610451, 15.204353953181842, -49.65120741699331, 26.959193253145603, -39.0500251592704, -42.71318543350512, -43.05763721222362, -28.83238497631809, -27.02145689462882, -8.562694475080413, 2.2140602951271453, 20.230318141296564, -34.07296293459732, 39.731924306159215, -29.46888793805081, 37.47486547772132, 23.57870024840401, 26.015139586742777, 4.965125486406874, 34.21000048163965, 2.1172914666373703, -39.400297138473555, 27.442718959705658, 46.48209201376146, 21.140528845678947, 17.495145007353834, 18.016817974982327, 45.47977278580819, -32.238924746902214, 23.70687414613818, 11.229217211645949, 20.904091646377683, -4.71183226289848, -40.404444150933735, 13.921556639760142, -41.15187511890894, -37.10961549567542, -36.82476075847771, -2.7749118508609687, 57.46069886233698, 43.28908358430113, -20.29594703465264, 19.245336447352013, -31.911274286540625, 45.92269358945641, -20.881112240018027, 13.301608045670509, 16.95076091707339, -0.9507397791071824, -8.651801405663566, -46.15534498210477, -0.7211168331676272, -46.72039575680252, 27.16026164341725, -28.26760131337177, 29.376410819098776, 33.38920289045017, -18.0184143524181, -40.746291934581656, -41.10044351373879, 2.1427248412214204, -0.22259200492938785, -19.6480792838864, 44.76797553210685, -52.24386137502654, -46.41457621785084, -25.689338514608032, 29.051043387976826, 1.6587072707854742, -29.50852976312988, -33.75226743905767, -33.33869047939144, 20.543557271615473, 48.007651254294466, -46.40636907900824, -41.071092596879026, 24.38479415811674, 31.82576628014163, 8.19804322650996, 5.4674465862130095, 15.285340165308874, 46.17546291954513, 14.799780319116321, -30.23977126664604, 5.673730573504582, 39.10495256883323, -32.49205642823795, 26.574167679190232, 22.07869150793371, 29.83839952693822, 35.3186701280397, -24.643349168049642, 27.900227928468883, 26.329200604566076, -11.511872451286743, -24.657900977048435, 36.945489634829705, -23.876933124085575, 47.326351456730954, 51.00951791778539, 40.424497730698, -37.59910996522027, 50.640764948934056, 41.767496763087415, -32.64695477810242, -32.39066270322527, -35.230125332955936, -39.464792191789655, -18.162517406822765, 13.250343198118234, -10.802575851325285, -22.011494373249516, -5.008508117368587, -34.52625325293101, -37.612443047430894, -11.432172310465525, 50.767928767198164, 54.66753812316479, 15.062626982592473, 28.49161075610303, 20.90885446665724, 18.87609090602915, 50.60507782787544, 28.815518955715376, 39.30905303960531, -51.76493939112263, 22.643618199631256, 12.449327108251168, -27.692728217355548, -1.2426029799461642, -1.8918715518338185, -15.982592850894044, -26.598525511591976, -11.459477927720279, 36.58481272134447, 56.84167031475656, 28.726447210587665, -37.42443253052765, -15.84234550534632, -6.092101516028832, 42.70843889036892, 54.92527205642618, -8.287916177602941, 34.53714824478685, -20.680141273426006, -10.118441608137715, -30.534626849936846, 3.002701139306668, -25.502998212460582, -40.10048048651339, 26.127182669287052, 29.79697159162341, 55.89429145134882, -45.30621971400234, 21.20851369420303, -29.545974391730038, -10.91336857977235, 39.84430722641924, -46.107453041846966, 24.530243475812412, -19.483101476786544, -14.802442338841724, -29.441495085663668, 46.27350183846822, 20.26040422021186, 57.01679194389488, -53.00992057344517, 31.73725704132478, 41.41559788027781, -23.396727957820598, -28.492145885178132, -33.46316774489586, 22.375804252856586, 52.39924698086812, 22.462272930706764, -25.390161618896553, 11.431812089099896, 33.2199102592484, 29.231870100153344, 27.846977909492296, 38.41696539299044, 17.385493014593987, 31.275833022547506, 25.103452077322768, -4.866646610549435, -0.7074315725787645, -38.49138156216987, -25.134928638168677, 27.12770570073175, -12.758497320877485, 29.586215629029404, -41.61256392943249, 8.82469973951361, -14.193683548275045, -46.45741872861867, -43.15946343489148, 8.325768335739323, -32.814892329588716, 15.246919981528713, -29.30236996609507, 4.017233776388113, 22.896472715179897, 49.16850031103678, 16.737462427634313, -45.04041987576661, 23.295007583438686, 30.98493370911774, 41.5144981500699, -21.96570622832863, 16.05478474373503, -36.33495577312232, -13.39961397688669, -14.68814578232724, 20.920405936485064, -48.07090007482936, 0.8071162645417511, -12.033276755218678, -37.92029778093176, 30.649614290505735, -23.86338434837056, -27.0037617284174, 26.97238811618605, 16.062993747062457, 29.201861351414593, -22.957835048895113, -38.59992215317853, 32.550315150307426, -16.55512340947417, 31.280531911014226, -17.048624708902977, -21.728241276451346, -26.658901605352625, -27.308258710723692, -16.523014295878248, -49.75611817249535, 45.90105274153381, 27.700966002888205, 21.333072475811093, -35.303564405075846, -12.109338507328244, 7.731622920718517, 30.716593504416302, -22.399659642238703, -41.24710204350057, -47.99304303246244, 3.5491763138598875, 23.49009499389834, 1.1743123012710255, 29.15842025200893, -20.38543885746183, 28.263811298131262, 17.993960295539154, -21.593728336999234, -10.608535343229933, 47.70745041446349, -44.17583123921163, -38.25412647860598, 12.563445901451189, 21.618157054899616, 31.596956078220302, -12.821464434577411, 26.409686995052024, -16.107727707488735, 29.252640017847735, -20.082745204358464, -4.519121366195974, -29.671715411760722, -8.669528747190428, 50.66874052165959, 6.850019947527638, -8.68357102766527, -6.113408630177621, -8.145467861097819, 43.391794559089846, -36.89092490021834, -11.8173348568172, -33.59028927705133, 1.6404403553367564, -42.13563319058075, 45.21272330296116, 37.25773755680565, -19.748161698647692, -21.782075346086536, -4.372647049769521, 32.700217090419386, 25.587273029259123, -21.335970494908754, 32.07602815290295, -29.815512145717747, 42.96045513284383, -21.842594483690387, 4.303915014930623, 6.858134025521316, -35.602366031214835, -31.42405424775918, -37.37509608314681, 32.70729001611872, -44.71916560491279, -21.852542516001886, -53.20996236944477, -14.333224635371183, -27.57909052319605, 35.01100270864744, 31.540748105248834, 33.20349086618177, 34.84312595879515, -10.76340603859695, 44.8148013744069, -38.46620694326869, 36.33239201422845, 34.54473512941387, -43.024848522310094, -25.98329600613712, -1.3822517418588411, -51.4440868278803, 1.1155138470228194, -44.27816899215735, -19.80081134069915, -47.311437213776735, -41.78014071202199, -41.02739526240933, -9.46452888494043, -28.51671467368301, -32.69941945252315, 151.1001331186145, 42.04332062598591, 35.40907727835679, -7.272486504559685, 21.75085210486742, 1.6002605196845907, 32.836915302057236, -48.65664928249998, -17.297046680363046, 35.95959875041614, 8.976773955133096, -18.201776630241426, -43.20119869976889, 23.88172486636408, 21.383646048285414, -13.48069710125553, -13.737385740610451, -32.60377408270661, -18.914821190787745, -50.033162357018774, 21.966940349942433, -32.2231701317623, -43.38841041751715, 35.07410940082201, -6.058749146361, 31.830562157413027, 0.4086741108494624, 47.460273859749584, 18.52488454306222, 23.875811956567876, 30.8025000677622, 8.477344912323034, -42.285574948561184, 49.23607373105913, -2.2348248732571454, 34.68054866288674, 5.7132282119227495, 33.717400140377876, -8.526184081998265, -26.168318282027528, 32.90978378522588, 45.348516296656555, 29.239483274311063, 59.45015714267813, 93.05453386611893, 19.667033384363144, 55.400128124832534, -1.8153637352464589, 46.05292289906256, -32.349914001742604, 31.378855064917552, -48.21204398534349, 29.432616853455304, -16.16888387620756, -21.309438993606605, 25.247313282267857, 27.26006622311268, 2.86727884283099, 20.91583332483381, 57.83410343271804, -10.628949752594623, -40.74718036765545, -45.207613101274795, -37.944648318192016, -23.420428852860567, -17.980109416108398, 134.93524727728672, -33.439888907940464, 22.950654694916384, 21.438259116949943, -23.647289793768273, -28.92202238360237, -35.40685376453876, 51.543240635853905, 22.66744288244251, -20.4853892226521, 43.13246674293349, 29.841603634224295, 31.485116973683624, 27.83907472682531, 44.10449659207424, -3.5749807163295286, -27.190420680348005, -12.371935586406881, -41.08716481924451, 43.90041414876209, -0.4657722916910614, -30.928351053402352, -26.20794424786743, -42.59416097768483, -14.327603552502746, 39.69172888903001, 46.00317426126059, 25.917770247063668, -0.8137773790031665, -18.648044699910816, 25.292358426454104, -27.46348679576564, -18.380528775472275, -42.877318744967376, -35.63726280683652, 138.71532715727983, -1.8428640102695766, -6.0625784869597465, -51.901342034356524, -46.80413287521562, -40.156611793195424, 23.22840347012047, 25.42813523517346, 27.187835307411557, 7.246501591459591, -29.200738385107215, -21.743138316612757, -21.458130506095596, 27.661744274357535, -30.185751507711814, 6.989817899585148, 29.4165288742871, -49.696680939032014, -26.13558285890063, -40.52188570616652, -27.89526090807444, 25.95417795068703, -31.582758424026053, 26.201150437840436, -38.090933192303794, 6.142890924845205, -24.607375668295166, 38.307302054651146, -20.752780016930735, -18.01080676663306, 23.82797441877332, 30.890445930831035, 28.569466213950562, -19.623173353903898, -26.122042975994336, 52.827493367231256, -11.250650915848107, -48.90284309033989, -15.457981501183353, -34.85664327714676, -34.97764691476626, -31.709121267488538, 17.55185182028209, 18.59870603324315, 33.486048635729404, 38.74114046362632, 1.8537304838252304, -24.229390813754264, -17.930383391477655, -28.644266399492697, 21.181928133919847, -33.83743421544856, -16.45762406249706, 35.024621571312096, 11.401468405118765, 58.49385848377153, 46.081196360245116, -21.009684722773898, 41.446918861175426, -38.84308999178032, -32.644040742149045, 22.381639160311735, -34.81722221759336, 20.11693254402575, -28.57910586709207, -18.798431600743704, -42.096139876647825, -40.25234376992621, -28.890831329894834, 57.362579739325064, -20.225481737094384, 12.651611048617857, -3.9212706099036403, 28.879471116971576, -42.467133644746546, 12.334697437564037, 56.008319673418654, 16.809141598486637, 31.033319669968556, 38.56154997557391, 26.445526009132823, -51.65682378131521, -17.99405390072581, -15.015339114536957, -11.740564559490574, 29.976059366606815, 33.06422619791356, 50.157435165482234, -30.668332305733145, -44.014407510416675, 33.844789613491045, 36.97282028080875, 15.948585466209927, 14.871450451445083, -27.549231574038807, 17.83272115113178, -17.99794417538044, 112.25937254832536, -31.24007461228015, -35.355399852252674, 39.65016988910485, 44.3830941923297, -53.584795490699335, -19.884687660102838, 16.17708672631615, 4.716337459155345, -17.552191689903587, -10.330964978638919, 10.06555600082071, 30.345018464308435, 25.32593466366864, 8.310050710473645, -20.507314861040747, 46.96193177974875, 18.067648404155385, 27.833313837416817, 26.8921823587809, -10.561569272675976, -11.538875402327593, 29.74659447449692, -8.75939002299889, -33.741968865597194, -8.165412539122595, 17.93084085466572, -25.14894626840702, -12.610163377252231, 45.29931421490321, -21.11864623708059, -35.174424497238306, 19.342397002778583, -2.161387056520544, 58.08096079855202, 32.39933616223961, 47.728774116893305, 36.12237346782846, 33.39986875959584, 8.28562975037585, -3.1077463894927613, -32.87393663518633, -36.06449906529374, -31.0673002608865, -15.976534997426173, 10.998915016538993, 34.03078451817699, 26.231654437269892, 18.437925100294336, 32.80401475899353, -13.44308226285243, 42.800948014131365, 8.05630238429422, 23.61919036012866, -17.373669722975944, -39.931619940722115, 58.39443255293264, -38.546481172318664, -28.118730717548203, -16.92872277676875, -21.730420855486145, -2.623158174956515, 56.13220410533384, 14.044928447562167, -52.642467341494694, -20.515750182438946, 39.53764442622997, 35.08969489282315, -27.331195036176265, 31.298038664661192, -46.824491900662295, 20.433216473301655, 15.840291693841214, 37.11234893780401, -4.827962610950255, 20.746195152741425, -41.30785197029873, 8.23263216284564, 33.50738762687217, -31.654593224816367, -26.987809940771275, 58.05863136950555, 55.493541848058456, -44.9030484817745, 118.78701606738478, -42.04762885115299, 54.06705328744302, 34.3105335913244, -18.531728686307396, 32.287346108814994, 33.58648798929345, 15.688341217785581, -24.565056029869393, 30.273045812080984, -19.142303595569317, -47.58992594211426, -25.372272644778967, 48.80596701785109, 82.4037053913472, 22.091632891154806, 34.41673738625293, 28.479955224690368, -37.30893250069315, 13.092384605190356, 29.612693233744032, -7.353967295399568, 83.1317959263088, 30.616938717573724, 6.993214182041285, 18.411483230010685, -5.237539089970846, 9.870656012431795, 12.626478558358349, -38.73294329356777, 22.03130618760689, -9.29503222917935, -22.416713211592352, 35.98615132272994, -31.755747465408394, 19.070311917250105, 30.681126471013794, -28.18728296157643, -32.458027197476476, -32.66150363423408, 30.48514621847045, -42.02729760543435, -31.987607329004785, -38.86782337971092, -33.5201401160219, 16.575016731751035, 28.25798278265441, -47.000603081264316, -47.24640603059711, 34.982744716113295, 20.43524748632367, 0.513191270878842, 32.68381466491365, 34.89388411200512, 46.95659452956801, -51.96536519627949, 32.346313194917485, 22.251105104289298, 10.097043546609877, 20.61486968722897, -28.035571117780638, 14.277712283846546, -13.608866196497424, 26.101748128629655, 34.817658656603285, -8.770628534925239, -36.15129458247296, 26.3556151293027, 19.02514234317104, 7.64359303504394, -4.109188451775753, -34.14000773171471, -46.669860664284954, 7.0428809564630654, 23.13590440126979, -35.45868629486276, -10.949081137577707, -38.11099821706628, -40.895686935152426, -17.420298505384856, -34.8959468135614, 59.837284478523905, 29.781853438513686, 59.454607870682615, -25.11732427138434, 10.73633252900035, -41.73626504891007, 40.25927622065243, 11.306906688396941, -30.753815392981963, -7.658305431873685, 31.36555975824576, 35.20837467172229, -24.13420788454825, 15.916316694717203, 54.349092917957016, 17.74541444193916, 111.89305517690984, 2.677883562279037, -25.767567900036344, 27.791983642046528, -0.21384515342300522, 23.101201176236817, 38.254452674711885, 30.524595927094964, -23.78534505583307, -32.08794878126073, -24.17178088357721, 32.60684796560209, 37.15105457964187, -30.544822302669473, -24.547150245863435, 5.124199148500651, -39.91970152118271, 36.589874984378675, 58.90546710038275, 34.99079444614887, -27.591899831578857, -43.12543667720879, -25.925901514328334, 25.48743458180391, 36.07091157081936, -42.65031998774132, -6.360474481093737, -24.181906283038302, 12.52760084557138, 31.15417470507479, -12.907798946499751, 37.102490947613376, 26.428401601841255, 17.293438553132816, 44.414374894320815, 1.895043896991186, 1.274354290388721, 30.219354612270447, 26.59426465869616, -33.44455266672241, -31.734700248797598, 25.695052169607642, 44.441516564457885, -26.877889370115067, -36.140853803571986, 33.51486830584432, 12.12717933163612, -13.51223696753609, 20.065003168771273, 27.933090132687404, -7.505443233860378, 17.40709646415264, -46.143727161310814, -5.867808208315223, 24.684941285439088, 22.194018849185852, -36.10638759559643, -43.85170681007846, 55.14323604634114, -26.16560286829253, 34.9306185941548, -10.51469725958837, -32.063267195255435, 43.29862764939191, -31.7621561497653, -42.36874648230607, -17.860933583051274, -29.446524578232097, -28.108717840178567, -30.3970932518726, 42.9098774093332, -22.453502466263373, -29.99218955348431, -25.79419380062073, -23.1847425490484, -19.657590522984325, -38.68050385048505, 58.41963290953797, -47.15442620095634, -46.70625875146406, 25.11372653976656, -36.97215496132041, 42.279934450280464, 33.153809390878344, 56.314613584483695, 8.048048046331214, 43.299651721065544, 9.889078335032197, 32.456798886101645, 22.319538518360485, -37.15674935895168, -19.633156251609893, 44.74655706035214, 43.5819070822452, -15.340833294297429, -2.3693214033806558, 28.21730423670748, 54.68960616618807, -26.58400069229657, -14.336117798287319, -19.59118663881568, -29.807781903836048, -49.014859825687566, -17.265851902369228, 29.54998468626763, -43.45067680265826, -44.78598601495196, 8.049740790954681, 29.350006338430852, 23.109714170424144, 22.192947645304063, 45.2575573505549, -44.34407626790095, 27.43343855950256, 30.098988627072025, 23.66870622854365, -6.504999496654527, -36.64338739947858, -37.13667130933738, 42.41565478268577, 6.046435108565097, 3.928513700622032, -2.0340683649994395, 14.440402322867287, -10.199098647394354, -43.68304600736606, 58.8535711480313, -28.45798123576218, 28.13118166738102, -2.8159078973384695, -43.134149741760375, 58.00797754875182, -10.830411195575918, -34.95470150942603, 12.156970572929131, 14.825899584905894, -33.204482366257224, 56.71983757863706, -50.248997223301636, 55.61357086253954, -11.035838929980168, 22.795210305703986, -28.46923146436132, -16.043138727811176, 25.813910739104035, 0.6212624057990982, -31.0073797597319, -40.4610258355998, -49.145436461704485, -31.129477940368748, -27.96870923711322, -28.64936189248921, 55.11551153963824, -50.850022680233174, 32.79254044861984, 35.73106226222651, 8.901606189241143, -9.564813849625107, -46.20221726685492, -34.04545307514134, 9.44132933840344, -30.787276706011966, -3.644200316192835, -39.748281861860974, -37.77678468898498, -14.835443352872039, -22.45732819795506, 27.294792772152952, 21.6622476949291, 6.320387793213436, 12.312102199809077, 14.771966802074562, -8.272230770312733, -52.19691525397094, 26.563833733735784, 34.07182268428829, -17.037394729990144, 54.999508264598376, 2.11052165905962, -26.975277482424428, -20.941580088227507, -34.38839017611888, 100.52932296019134, 59.772671888477106, -35.61711502732086, 10.84277320606988, 22.946805179455207, -49.55155729908931, 27.938164333240717, 30.971234891601426, -37.56641531046596, -17.77230278567061, -34.63124338196299, 17.167928496272417, -19.2112877292884, 30.397767019911196, 30.123447874006708, -27.799720791739787, -25.96394643738322, -27.299381472812712, -15.667958135647453, -33.65971546043707, -14.160895035770485, 33.195659322496255, -16.06002276631087, -38.4227295965512, -30.043337280155644, -40.02519036169942, 30.52935318448261, 29.12228669364692, 34.309227701750665, -20.845049513563342, -42.89274561155603, -16.799013997555498, -29.767836463016405, -45.31773406136773, 25.042813801905453, -30.08948491963007, 34.62122119548731, 32.260088383232066, -14.262843780016754, 11.678422241546613, 46.0619792578759, 7.1168189525350485, -25.75726988655729, -13.317973859792776, -37.270525269359034, -18.13810658048967, -10.904991710055777, -48.138536179586076, -33.119791780151665, 28.483704883476133, -32.47764599553375, -29.409721579049446, 91.5876398179772, -42.188232216414974, 42.76014743182101, 0.7327448637126459, 37.36552884853696, -37.95167570051305, -52.149056940292425, -21.91882356035194, -32.444368355356914, 16.168963988741048, -30.164371772112528, -32.64611856186464, 57.82382853270569, 43.25615062057178, -50.040094871611466, 0.12158488523413605, -43.53340959519449, -45.267918124184035, 117.5448124165635, -47.02362245080739, -19.614373827065204, -6.810427651759549, 48.7836847507086, -30.070031436567465, -41.75781174681616, -32.21587232379708, 29.73045062417814, 4.739455550697206, 17.177140489341774, 59.489219324308735, -13.147620527829352, 28.869918195272984, 29.848880961916215, -45.22304683491698, 26.95570196871608, -35.154545833849404, -28.481330842457254, -6.457943869965489, 12.607174584680122, -19.35452017525341, 24.2427258088111, -6.006597833730492, -7.40243615811988, -32.404194855626876, -26.339069840002367, -44.51818800332747, -25.422298128840048, 34.694556634845874, 37.84760895538433, 2.0324696203477357, 25.09542602431851, -14.183715670136097, -28.806410522291664, 58.61639918766192, -29.424460749515692, -35.70048390904301, 65.33581602378183, 29.60956337995742, 5.425828885199786, -37.55440398941042, -4.2076772321893365, -24.33622722542313, 37.62526520150988, 6.233637979367909, -42.885676323000496, 17.58168047319561, -48.15493076875996, 35.625300636665486, -14.639524345147983, -47.35323333853059, -32.9355211286709, 31.450676554688435, 42.05210717646048, 55.78128733539082, -34.500217460386764, 38.455029671894465, -22.99287284146808, -32.874217192689734, -43.44377875714728, 5.154806305143541, 13.149938435604923, -21.74023937732473, -39.33801879488719, -38.43394960086454, -30.26240664293091, -34.08220467540414, 16.99149361039255, -26.295524688999443, -11.706644805210935, -12.707033562218095, -20.66486107469479, 56.34768312969565, 44.57806360325009, 9.665152455583284, 158.86410432091037, -16.74504354862747, -37.75255728444087, -17.17931336518831, -31.49406229500568, -16.34021777163091, -21.88430105490403, -3.0777624732572164, 47.84762168333797, -18.682283949239302, 10.584046454723213, -19.296965240387753, -9.785964594206497, 21.62020604198547, -21.206924207610065, -16.672443981467584, 46.282112060046366, 69.03840070464709, 25.204356722429715, -25.670454114987724, 51.85017198846016, 3.318988457300402, 43.96831707651598, 68.97407804120715, 37.9102048718519, -18.313984896391645, 27.087628498295683, 9.374221599537668, 29.154537232252743, 48.98713051855628, 39.47439599358253, 17.08371298376091, -43.084667652777895, -20.375432058603987, 39.94588525849198, 19.77021919163421, -41.4619249545403, 41.42064693137167, -12.37043740703606, -51.44036273265338, 27.17276422495183, 26.908896565918184, -30.257703068412226, 25.498963160886113, 34.608150424476406, -27.427700694925026, 28.889845489181667, 23.70715980772939, -35.37694403336426, -19.915144373015895, 31.450343149521768, 31.022092417378136, -16.44285165892357, -18.946394166245675, 27.112867764399304, -38.04606454876634, 16.84371182765013, -31.65019563231545, -11.332803774248672, 20.201632382631544, 36.80950950764788, 40.23060209817897, 34.77871056543769, 44.379968888205454, 13.017767489187428, 41.23331245418214, -50.70688018750695, -25.59563008925231, -27.42378779738194, 27.733993957792823, 19.168801283276494, -3.1098642413288466, 0.6549606509810015, -22.209659208933598, -50.85283663901814, -2.2457772452494744, -28.63572663685391, 33.910689703493375, -29.046160999348224, 25.42965317431494, -6.918206847843225, -29.23495352430162, -19.249193679210418, 37.10187027532259, -24.260063766979677, 18.741326675425295, -5.833976043202599, 13.744743941360216, 34.50545192005308, -0.3914249390074329, 50.58531272918497, 31.065731998722192, 45.53664953945698, -1.0267480716537534, 57.328999900070166, -34.08643370323327, -41.17826149400094, -20.74226388130125, -34.26008769248024, -0.6621152810504775, -47.44884202150284, 44.05979398429373, 24.733651979471123, 21.299949073901356, 35.4079522949295, -23.803543873901276, 45.88646427277882, 37.13900874976134, 23.415592745667386, 47.16319447718447, 48.86865620044294, 16.840325234076133, 60.88083420536956, 144.7029998283473, -36.431265715258505, -30.272536163227354, 1.9038703211612498, -8.993544527550554, 35.55622088680027, 33.500813692438555, -37.52039400348056, 41.34334138583758, 49.29041616402945, 30.8881366281809, 28.263846825964585, 34.7162092263316, 1.9941598790269337, 31.945598225729537, 118.7464167800578, 8.689846010666928, 6.518567152221463, -29.536609466616596, 19.898943539741445, 36.621889179980506, -18.891032366449384, -41.623381163896205, -40.829061311011195, -37.75312792995486, 52.95786174658859, 31.40669243079912, 54.05477189190758, -7.82448084826904, -21.999795693138246, 25.25563072117202, 24.41110336437241, -20.617175244954492, -23.59249281053866, -46.98363269893178, -11.917691720693641, 2.9305193953727735, 36.560706038448664, 45.58089542303424, -17.399861443766074, 54.64806354016014, 35.62105600225116, 35.896979293824806, 5.743983695801316, -30.374767086462995, -38.78393210825715, -9.132789622889684, -39.271267583574996, 55.29416937704258, -52.85858147114152, -24.133997613307322, -38.00053268678013, -41.83819173173168, 27.957447981573985, -36.74802695254073, -30.21908488799326, -19.191279038539186, 30.029224071772873, 4.433021628186124, 30.524881940021615, -24.904841816523003, 43.79197498848584, -8.026927191401658, 16.52346277134192, 29.24216998676705, 58.049724468429275, -17.87479926251789, 17.650539159031332, 45.78911207541677, -41.53993964377802, 2.673585913223793, -49.355481706194446, 42.82479497551518, 33.704142591496755, -3.4339924515830713, -36.22797176136066, -39.59551110997876, 36.9858367353998, -34.714073156426416, 57.912942821628555, 24.49091954123612, 46.47856471630692, 12.74126553166475, -38.24963327124399, 20.86734936132696, 20.7302478156211, 8.506509116213833, 10.821273572124237, 18.136766593342987, 29.685691798107698, -47.53870808681185, 14.262798280836554, -36.69776352279257, -40.65776959763443, -40.412732247909126, -26.40829067075873, -45.22950674979039, 9.764480479808539, -3.306657485635374, 20.12517251164683, -20.168408437229928, 30.388074755992097, 15.294457857723415, 32.516431242864684, 22.29627949829141, 32.71065665521711, -24.893258485674803, 32.20003673836143, -1.441863957451363, -19.190486864486413, -28.95126098861571, 1.6816153261885707, -30.166393243647864, -39.85478611539796, -21.350705027695312, 14.002896340728737, 57.91624063193325, -40.3650203333613, -31.02987352241508, -36.957232018398386, -24.382523556212828, 20.367500970600286, 2.9993317766122227, -39.428254386888646, 22.172838352627792, -16.86425322960557, 5.2082665239904244, 37.86833250075071, 60.5386029251851, 29.385069970220624, 40.92343043774751, 24.987176203674714, 45.75069636562033, 5.4669261461022245, 53.175170345640964, -34.19459245578479, -42.61131497624029, -21.19400715961322, -28.03937736182623, 15.049230982417606, 32.60295109775319, -9.274003552838456, -47.67554333050072, 28.6300697607119, -23.39835985825146, -37.11396456258078, -2.2888213521628766, -0.49435764165440754, -6.441348305256881, -41.69779876259534, -12.685257306995567, 20.785694209188133, 21.17077505369773, 36.958556226687406, -46.76849270015762, -24.947968066850244, -9.093207235356125, 43.68856105022907, 57.013125826602675, -18.170790803075032, 33.980784922107624, -46.77546132378498, -23.155415898123206, -3.51735623940228, -15.443887786116264, 59.443747698269505, 31.759645860469544, 57.94197361865822, 38.42337071094652, -14.73758509317795, -29.912163363699904, 52.36143477818848, -43.95756694059456, -32.38945547195707, 26.870401488423198, 37.23629794135733, 3.1781431791844903, 20.973344094230008, -39.70307068462244, 28.606603530659736, -54.714110055155686, -27.972051192415627, -26.34357029695604, -4.910395013830297, 27.306637935577438, 43.620925669210955, -9.302244355005286, 32.14216057406414, -46.10681819381825, 40.26645957182139, -38.66139792660505, -51.68138848811485, -42.81794002843636, -29.955193025868063, 28.211483911210873, 7.962356281670844, 16.89003067572051, 40.873373134225865, 28.813400931968292, 11.252062887791508, 15.194425402765937, 41.74702136326977, -43.21095796078935, 31.54102719988045, 58.816138351130384, 58.242470917711216, 9.128360573316973, 7.659660601761066, 27.589784770811434, -4.136953296311813, 1.139855831836518, 34.24490607476838, 64.50236724267451, -3.7679800887834833, -35.42361556047825, 27.488497599447836, 22.887696552177886, -17.528366655528224, 32.606573720479496, -25.059829803627256, 53.26553377976686, -10.018081158595491, -46.556433897544615, 28.161240230378755, -46.50993562592346, 80.78791831808779, -29.050317751148445, 11.535170979466626, 19.35433469885163, -34.30867760160499, -43.93441992096905, -13.418360682786966, -35.20088396358356, 34.58573546800004, 13.526049940025526, -32.49205594470954, 7.17987855246071, 57.75216800509011, -21.338945424730202, -31.087905546738426, 33.665212775171135, -29.19653407939879, -9.897718384104657, 25.73359378849797, 41.711887485131875, -12.670881789574336, -16.38374738701378, 32.574402820064265, -39.50509714222044, -1.6477794569025348, -17.380271795183045, -3.202270800455095, -43.41848028339137, 29.1129390972395, -43.962049088968165, -6.127630489147253, 19.447301761166727, -24.48314737514318, -26.20785088451674, -39.340283542606706, -37.416972625127165, 31.94564436827431, -25.386565424144187, 28.91140652817766, 4.784912520463861, -21.01511047136436, -32.423062479953906, 38.79602230711638, 49.313600578424435, 31.28538771398203, 58.01913274285787, -19.29709297085375, -35.98721739985021, -31.369451723417086, 14.896178023392666, -12.862999735306063, 17.724069426372505, -19.736993377171174, 43.268016911516874, -40.15169974289719, 1.1007388590255656, -21.99875315140875, 8.261629405746309, 15.108861659426355, 0.9391530860429226, 36.55947269369859, 20.568580842282255, -20.703904278721843, -27.50198398664532, 10.22035106754516, -9.40994788021176, -35.04868716663565, -26.170834824027548, 42.6484710667588, -40.50881340949582, 31.281375463385487, -45.317567462496484, -43.39591903995702, 4.423538000041036, 35.18212402364404, 28.44039777972258, -35.92628555863785, -16.359176042078133, 23.44774245087036, 22.199792503327203, 56.56180119851243, 31.138397720643912, -3.200038148249097, -10.723558295870811, -14.910573108943996, 30.62772938190625, 5.613576630254361, 30.798265087164594, -31.683510832869672, -0.24247463547619802, -37.08768462408481, 23.56756174711117, -28.634476775680017, 0.832546167877844, -35.82765345880114, -49.10457791323248, 7.956196600229753, -6.41415649216019, -41.860673536646395, -39.814474858456855, -27.90923833483012, -17.63221013193506, 9.81829007972816, -24.114825959466973, -4.551020812465612, 17.01208331256922, 22.135686826757407, 25.847971447672276, -16.646988095098628, -31.496174404594132, -17.9544639212129, -44.05235459778722, -33.81458583746198, -6.18227321487232, -9.864777352221079, 23.810871423724578, -18.147830649406995, -5.031151637784174, -42.458219083405666, 26.0188774405323, -39.20818574926412, -12.956247354784585, 15.08797833464814, -36.949647034966354, -13.783293774938683, -41.14801698520381, 27.623660949310167, -23.383044006013083, -31.312399603753377, 29.396692894931242, -34.87464047705091, -17.740701247367085, 28.462137690863678, -17.74944925923903, 18.647179706229455, -11.366963367478148, -26.432425676516647, -24.13150131322685, -45.34007355476002, -47.360908553181744, 21.753499596457257, 14.321044057794364, 33.13192662116267, -44.54532897286482, -43.651014368608855, -2.40138879078075, 13.158366237117766, 31.31076437184418, -44.49716521733476, 26.56091886863469, 49.49606120379395, 54.55733127802898, 43.14378263480114, 34.71407617072817, -1.0279164263616003, 37.97044674232917, -40.21840147834355, -40.81635152744305, 55.71625112489163, 46.375123551112495, -19.891019967938636, -32.036110482369544, -17.50519218244407, -32.71445564547184, -4.549459831590732, -17.347478321967067, -46.77691917298138, 44.272250184007135, -48.059886724764354, 22.93651197770681, -28.62785334355481, 4.989333918751769, 47.366587902461085, 46.53201056324936, -40.51737730993287, -30.709196473356812, 29.584833225176055, -2.834857609046089, -3.282889957418363, 7.217817912209435, -18.33958989704922, -35.67044851314897, -29.050068826197904, -12.248473152989105, 22.118905099223326, 39.26365068650911, -47.56143658572224, -40.59891979666832, 34.8283805855044, -22.897771554202755, 45.93567500536626, 8.037355361666311, -33.15391295496131, -30.141075331310827, 29.695490672263926, 52.34907326563816, -33.44817391382236, -27.376261577009394, 46.84620708269928, -30.67053171188831, -43.02114853700717, 30.1865526268338, -46.961610691967486, -54.22298232097999, 39.873313499553355, 23.239885808957055, -35.929730234665136, -29.6101855588428, -43.51060909738239, 7.73297012943487, 2.321349910435566, -12.842165747755791, -51.94778535416337, -42.902647331938745, 26.098984315484778, -20.699897955030174, -3.863850521493104, -5.012739538353832, -36.38463672238031, 17.849994323111467, 43.91036404480373, 26.626752574317848, 30.545374255277142, -33.57566379002336, 35.63042888922753, 30.518250336525348, -3.0981438276060267, -12.34376125614134, -48.923515256824814, 10.5333537831702, -40.727942376329565, 91.65997933511606, 17.6452966180826, 32.00325638165643, 43.88252308372703, 28.13155015302965, 2.068329637073207, -48.46439020355022, -37.94197395155119, -24.751146630828224, 26.16559797237727, 22.23263189178165, -23.90168980249904, 31.445553105415378, -25.72426604299722, 46.06114707293019, 26.11609666106766, 20.82046921318439, -21.12591869428448, -27.170556619454715, 34.42708332978129, 31.477474672614356, 42.82121325587408, 58.00101886282636, -23.063141225274254, -30.9547179146692, -45.62337777998293, 48.87980273152979, 23.788506825863866, 42.57786454027414, -23.201155811226542, 29.05021729039608, -19.35518759515358, -35.620877933138935, -29.00986385921425, -41.58415079450098, -24.408411182945454, 54.63967559008335, 134.19473588027702, -30.721633904521987, 37.149097153820094, 33.483863666699214, -17.886818035179722, -39.17574187378157, 9.79309972368256, 28.130331797024297, 21.888536139450746, -20.6743551014499, 32.2977859275002, 0.2817896747833993, 6.312657544489085, 19.071353678675987, 20.667484001693342, 10.873328959120746, 33.16233395197476, 5.760253035054873, 48.221007977683946, -9.562923959836859, -25.81992021906326, -35.40931327169937, -36.0095013679348, 2.7171468826596894, 40.133144036253796, 22.75605321126513, -32.25056953655088, 31.764245072034768, -26.602842401389942, 29.891111614263643, 17.95209101782169, -32.169383708942455, -46.95901500618713, -33.76825398027228, 17.483732095822937, -32.13901256148676, -4.825615712086129, -21.83070676415671, -39.651159357913876, -19.181592947552126, -8.64025093710789, 24.041298286323414, 13.940229360015136, 22.528821003136667, -22.37094480985151, -20.380274289098253, 18.205895966571273, -44.54078310781287, 12.192417470002258, -33.532880219526625, -31.338490911078953, 41.31695109327437, -36.478489197188324, -8.742722107154338, -33.90812464260524, -3.2506639906486523, 30.07505903203612, -34.79739241293001, -37.43067092738729, 6.753070616465988, 2.735029113938077, -16.875878025217226, 29.8270363743311, -29.104904474620227, 14.216607009663052, -14.938609649266791, -39.1735585739662, -32.885063457542664, 38.747323989493644, -28.608728313870063, -10.559512184434142, 18.167416400379103, 29.26504592078065, -19.097339447173077, -39.79392679615337, -22.847647255603597, 42.11798124643581, 7.386820893629475, 37.038960646503504, 30.754796104762537, 38.5257372346789, -34.160634811778124, 14.308640947011126, 3.586520080948659, 36.815644959849536, -32.660605891725204, -25.336727335803264, 21.74093994117521, 33.67706995176892, -35.17412349267348, -34.580850136157736, -37.61333735061276, -7.372441240521435, 34.336489196381166, 15.030171354077712, -11.896212789584077, -19.015592254148217, 41.49598067671971, -23.159286734428978, -38.70687866766326, -27.974817216610287, -8.786942791787395, 30.01819612215705, 30.603045277190954, 0.07873957215515665, 44.00970481694184, 44.22495976909331, -49.51967812340615, 32.231757470492255, 84.84499787397976, 157.46345418441427, 38.61935824546697, 50.589142529829154, -2.333080409087023, -40.0111350583499, 34.52868725217459, -34.21728174204533, 3.993443912736249, -12.82411295131843, 13.259547509664502, 58.92129030527495, -25.614446318956073, -34.86368568403651, -32.07694831250158, -22.463882525223124, 20.105749891991522, 43.779111566902785, -28.843264910572668, -20.408152244093845, -9.825089563536235, -53.296034169201256, -29.817469290077206, 29.855924656987394, -33.76017074975722, -33.64090525773598, 15.670430377963491, -41.29694539113485, 59.71253350908539, 18.270356966777115, -9.383967759294885, 18.424362226047112, 3.363258467972456, -14.783707911436068, -21.34898048546976, -16.99028260953251, 19.094204692824132, 46.56293756476105, 14.601247896014975, 33.521556006797525, 30.65752555836997, -34.85964272899195, 28.02278960851545, -8.014635485945188, 25.39037798144261, 36.832919017558375, 1.5880701381837006, -16.917598842857952, -3.130037246876824, -42.67164347194968, -28.42057105137758, -23.73734388548254, -20.967249325914054, 41.03137734489484, 21.964598991817752, 59.75325741237542, 36.85605811673146, -17.301085371944687, 8.33975463834518, 8.261744739468432, 14.660587085770427, 20.398900219322808, -36.198471443279956, -26.719122389789373, 20.015514331485484, 31.117562868253536, -47.94096038740437, 5.79838602274123, -46.722916201875925, -1.7126243913391321, 37.31017498507859, -45.47102421948138, -48.407291920463365, -30.756005048299524, -44.15194315564928, 29.808168683901698, -41.989624635968966, -17.35996909672005, -2.385492023063637, -36.90623353272151, 6.530686747873315, 37.5645128289501, 53.77503894460475, -11.498798061004482, 27.405986136457734, 55.94178094382679, -28.888666560671272, -21.719650264892458, -20.952803198295406, 21.836212445463357, -44.19361836539518, 3.6455608866378095, -48.18525536476937, 26.255835789741514, -19.9964430815666, 22.54787749466916, -50.16902421850296, 37.82810103896061, -13.433973090389678, -22.365336905085904, 21.922428325659734, -18.307247461393256, -46.056769817746684, -4.031357094724652, 9.501745854541456, 0.7753932936453343, 50.58812432441689, -24.38323230830223, -24.174261399113902, -29.12603500275161, -6.754350108596523, -46.73230768267881, 37.403901289604626, -11.84414121453157, -38.851071020270254, -45.35946719097556, -35.0143127929663, 32.314148082300306, -12.069272941308236, -34.763673620180064, 13.487697957217067, -42.42464530771652, 40.42262629974331, 4.120692115032703, 12.30725507361131, -22.754751453082168, -51.72803321114497, -49.449330444690304, -38.515602097622846, -4.7115361248168135, 17.92748378391889, 32.660399174223706, 26.998808739510043, 5.233519253729956, 30.72395944327677, -27.858462297289588, 31.006646557104315, -8.178724757416516, -33.75126154781309, -5.220593743433955, -28.46631082561349, -17.542832052525277, -33.53315065364439, -1.8728730287079502, -9.309910578686887, -18.281862390906042, 9.156613810812425, -8.220691424228075, 59.707056474814465, -19.375888914207327, 8.033873925222084, -21.909495745056706, -28.040175936312817, -31.335346711522078, -21.642153074531105, -33.29132834293207, -28.24687157166983, -18.572506560638324, 17.559158454102548, 21.826645369708825, 42.52248396571618, -7.334420009173215, 36.28336029611835, -42.05027731756299, 51.16373597080224, -48.1980395168427, -8.817635532464026, -43.991655754369305, -34.6563991037619, -25.432187532645486, 43.35971144613444, 30.454921077911425, -47.78233359807313, 34.945581029183586, 57.50098022096625, -9.365256278471136, -25.770601931183954, -25.120327173517445, -50.908825493420544, -18.06228767736649, -24.53291884194038, -39.47070782204876, -46.8593421702025, -4.426528012154656, -9.448143415005003, 22.717938191271614, 49.52803864423753, 37.89892357040652, 44.72162991731393, -18.280726515751187, -0.9150414088367211, -21.49769335597331, -11.32967982341752, -37.17779880636569, 33.87258197709216, 22.5383705061005, 9.047384566949107, 32.41329928816126, -30.071154672212096, 6.8781593561607535, 25.798520817296478, 12.406117853988032, 27.826155015935047, 31.911929273435096, 48.55064914112886, -1.4486982176656085, -40.32678579653008, 33.421207888416944, 31.077671490638128, 26.009459387565396, -14.80533424062771, -10.912518379900424, -32.220157828877596, 22.58219225545731, -51.109525983837926, -15.242823916128438, -8.122630142678107, -42.73642770766507, 58.289280791056555, -17.585244865836454, -38.45104247619623, -34.54452222440411, 37.920172369639644, -6.576572192882288, 34.21430231612828, 60.754218280283126, 27.314697845305634, -22.805151910373954, -50.87775495341937, -21.64894537679376, -18.72508383089811, -52.63753077513496, -12.342624060198572, -19.072987006954378, 11.070418126963894, -3.710933581709317, 33.594857480834015, -24.04713346645722, 37.60708223880506, -15.244751515592759, 21.184135135768667, 18.317062827200782, -2.8333841656864567, -44.42755850500999, -44.66595034885753, 20.85381268493806, -34.08388285380762, 33.419387139360865, -18.797103656132137, 28.54361904650582, 25.933957877954196, -29.86101279026301, 4.7813434467970986, -43.81992116025288, 57.14837813804673, -26.569662756259333, 37.19545819726685, -44.88586257909665, 30.644936043068242, -39.24978437908152, -51.529620658860345, -34.86145142445427, -4.430931016060298, -31.396207816202153, 24.44618073462266, 12.093957626254115, -26.906705882013174, 19.47666781065389, 1.478737378274303, -8.188130643071656, -36.287449533018936, -4.9444246662926234, -31.726448437568077, 41.75066928289094, 54.75364776285227, 28.886296021017372, -3.9282917472125702, 42.25280551383665, -34.289882208154616, 35.54402941593018, -14.166975289849239, -39.14933184973413, -37.96050229380261, -3.7946588403312504, -36.09381549867374, -40.9908872118277, -9.481866888535153, -36.469210341663924, 39.8848273224132, 27.130575438690595, 30.672813011730085, -43.55663653959263, -10.019391816890215, -11.62841393616563, 35.31937073558092, 56.62885935376967, -29.76002182067375, 31.345800551475072, 48.18426779820905, 5.254516616791427, 6.423290430308285, 7.569673265900459, 25.505484969617722, -18.535140214083153, 22.43936865798787, -17.998595777333275, -46.7933349831651, -12.03532116192589, -8.020232439838596, 26.960242878586534, -11.973996728909178, -41.48403412237095, -29.042769620878055, -28.607497290433002, 32.288345169124774, -28.87641989699303, 30.919066996085107, -24.553010873232754, -24.093931010862217, -18.643712122291287, 13.424743227662205, -44.4763938270771, -16.251687629320454, -7.215942494334076, 17.41235577667302, -29.359742058543556, -40.944852849784105, -23.98111029080016, 29.72486629246325, 0.7317083514116339, 21.500453749510385, -40.56921182030782, -10.90914364008023, 34.7549049970779, -18.918232227201525, -22.861501165802043, 9.063966978989612, -29.833376942182433, 30.175956548008553, -17.05617662188129, -17.96213463333844, -27.13124966895258, -44.981119297168775, 13.262391997633612, 18.584331695632148, -7.385498253513018, -11.524871267539995, -25.1085223381429, -11.06987864350567, -14.471094684102312, -16.07123213773137, -22.723553377754353, -5.030135452476859, 38.81669625505978, 21.986557118752945, 21.363824334147306, -14.530120880739444, -16.32683348578395, -22.669808453564958, -24.046882363445246, -16.900000572943895, -24.91863096199692, -32.25625613967907, -20.24755476150675, -7.4785093071399285, -8.0792775282726, -42.13910659288328, -16.5967486442694, 35.01031991401994, 9.326328642258998, 19.863610901284556, -17.38204403888316, -19.73149939675407, 9.666823461304682, 17.46341624008086, -42.25417573295059, 10.356952779772874, -28.54683745288748, 37.03627520560049, -19.84006950482964, 95.44763651712371, -25.70409593790278, -15.628477262562983, -32.48565369309954, -27.793019149133144, -3.532532327760499, -6.978728853153452, -32.874596702396325, 14.98191891451763, -42.25894532088451, -23.94111650317082, 10.169350788562083, -17.30843694219519, -28.69968921914354, -7.321578210774936, 25.314093700232913, 146.0589966471463, -7.296676267632806, 74.72615599868892, 7.818695762833606, -27.687232319771194, -13.184866889752277, -17.720124315384034, -28.494084399797135, 31.227667364132685, -29.286371450405607, -37.76856566058797, -4.06964510656539, -28.774518281046916, -25.73990150822789, -7.219626473552202, -17.12436448294554, -34.134818518222886, -28.935017295386164, 7.521132214569136, -14.241975806875985, 31.00295194527547, -26.17796267603739, 26.361852583943204, 50.83773544745182, 13.634819498857095, -29.350078395977825, -21.519654953537007, -10.438980239803266, -26.8859166209339, -35.06370373677181, 9.54914272249444, 20.599610589228142, -16.57084471618494, -45.66270827293369, -21.380171106817, -30.237230605239244, -29.09571263771291, -0.37173098758796297, -9.570548038644471, 34.63895037025964, -13.400453983410008, 11.5808431883796, 20.690926294811693, -17.30558772902998, -2.1345476287005574, -36.788688221279166, 26.069159664332297, -5.655195764098779, -35.71874396436585, 9.817333276606211, -16.49728656357497, -8.156369777095295, -21.27050973459389, 89.1221565718729, -31.80877560660211, -52.12821418787877, -20.781329150015875, -35.19105367111133, -16.28703346313712, 3.499275126187535, 22.284066425349337, -4.348144884080269, -32.219521928839825, 18.226494985337062, 17.687737246310597, 156.19656745508533, 30.186934206433477, -34.376366603231965, -26.446972700672056, -16.2281459264614, 8.9276661590359, -22.964715983112704, 32.042330247615205, 10.921097913807756, 8.17577046418584, -37.84130449180396, 4.1147592294642195, -24.576502259955785, 28.198262770226087, 15.992478719766861, -20.00528742786976, -25.431004154862887, -33.62769352429404, -19.17035981910928, -37.20504355192011, 10.825856647860457, -8.476686420141531, -43.54125568650737, -52.32625759821158, 17.5675751941037, -33.834010511694885, 3.2062163125190692, 4.970150081952235, 44.96698807324351, -12.560275931238138, -11.55709173352408, -16.869508553395303, -35.27410523897115, -30.850727004534093, -32.240608455566, 18.981620389893767, -25.590363402735104, -17.399337486512145, 10.067247360859907, -19.237830761287906, -14.797438218603238, 6.725444219267396, -38.79927124201703, 42.87605090122244, -37.17298281178327, -26.623869471927115, -17.10631939790463, -53.691282045819, -34.98279148051631, -18.965200123142083, -44.76314196381686, -12.564425178755325, 23.445234228937966, -4.9282061314602466, 11.259592000694791, -28.924704495843713, -0.5244668794537101, -21.493540141607674, -50.822292904268394, 21.05178759899073, -0.20590573667230286, 9.93654981747521, -30.47550829946974, 0.44674705128877956, 73.52568616426586, -34.65647668995244, 17.79497976285586, -20.40073288709094, -26.28687751801417, -14.496087620366428, -27.756866815270282, 57.52214651014116, -29.707801042046267, 169.16346213454102, -25.80892958068601, -1.2220726807085809, 3.0245440728111737, -19.223279669636163, -51.69772864942681, 163.6937645230652, -7.858960558007321, -24.388196924512762, -41.328132480525866, 35.62564308395651, -32.01047070179256, -30.17444439778477, -23.57681049639012, -44.42283884392904, -49.76098832849125, 31.06955666563573, 1.9167286778751735, 31.636874024580564, -31.572020191156682, -17.64532071802504, -36.41097202917408, 31.833197606545347, -2.196743536027279, 20.431026658598878, -9.65547485921506, 27.828937782018397, -16.801326658507115, 11.108676631258572, -12.102924638823099, 60.70943369897131, -31.997291793093098, -11.211112403538994, -5.152332670062263, -15.160532133958153, -22.693068050190224, 111.0723741358277, -48.34979668328581, 3.191700721191683, -19.353901666218945, 37.30899241678101, -34.92273498083509, 22.1219144359131, -3.107377822409534, -42.32125637731565, -10.900616460820824, -34.72763067713554, -23.996230050861122, -16.547497459300043, -17.317958602180635, -30.330797944617366, -30.326765806105445, -18.867346768791517, -3.5221845500474727, -22.175286690074756, -32.17029537525027, -5.881217443182051, -48.49147311002496, -36.18892594128706, -17.785511549069508, -27.72483718607496, 14.728228148178282, -23.26033750834447, -11.878826789069345, 40.850912849733575, -36.95450714104317, -20.71760370173287, -39.72007695068655, 51.8794702372548, -34.45600676221947, -38.261809355730286, -30.632681678897438, 9.50029924381596, -16.475274850715508, 8.491794725367313, -41.179372996727366, -22.640611634875977, 22.67115724901492, 18.756142084573163, -15.325673932943392, 12.946263486815225, -18.508110944369662, -31.60596764696034, -34.020869160513286, -17.88091822601101, -35.50297663229551, 95.24248295711037, -32.328418224719236, -12.626443408514932, -25.522986960190696, -0.35671069697114643, -5.043446912577787, -23.921530759810988, -17.47925122543708, -14.52850342370851, -25.153627929349863, -47.12475258966725, -40.611645980099034, -26.88988840205744, -22.94859368892049, -29.248208796945107, 26.4246352364781, -36.38229460169981, -21.13776314209024, 56.72230843212547, 36.0556757332469, -40.33015096447931, -4.31431528805759, -34.18125315974436, -21.51634886513122, -17.249322916677556, -4.680408617942035, -6.3802908269529865, -13.997291431116686, -16.854755453671338, -0.5803441261558063, -32.62130537866327, 6.406101070221353, -40.63103988540346, 5.050439730902561, -37.19997140996878, 70.4313910695054, -21.375923308390444, -26.49114382611237, -44.855008929284125, -19.14928273282261, -26.174438105227896, -35.225832627206, -22.819985716431074, -46.34396782167428, 35.46424111663079, -7.176062032325617, -13.36425866654707, -30.393035099720247, -36.34015219595528, -35.900938884075295, -12.773347451022191, -43.630491179478035, -2.778056518986007, 0.13829002936240278, 24.186600071828614, -34.90549627265735, 11.18774711075773, -11.416300583186295, -13.851947402912709, -46.7647182304481, -30.03259807339405, 57.963236067504674, 26.25820039312144, -11.110663980577149, -28.12471484722882, -49.31160068290536, -37.37296474813923, -30.011898617139128, -48.62540382276097, 2.1891814075545617, -35.53733656421769, 52.44709354202731, -30.647194890324588, -39.243894715812104, -15.723167798343468, -33.18623177738758, -36.9656464458548, -3.9621830251620636, -13.118971455520235, 23.34267287703591, -4.56277911693395, 28.133361972564405, -15.425489102619812, -29.368981239974538, -25.81573024782517, -36.03551661486571, -43.42035326850823, -15.282058119986763, -36.815665933445146, 23.83355182556456, 22.997738723079777, -48.070633871547976, -29.756853878692045, 10.145763383148585, -36.62271816452855, 36.26411712174996, -41.961459696810294, -48.8313237547217, -28.040855320535364, -47.71891402409937, -14.863565899414917, -36.66672582027928, -40.92460670106673, -0.4914952407843136, -33.497070672341216, 76.61604037847174, -11.471380020672509, 46.10882640305301, 0.20769888579619525, 35.10431490582587, -13.355682246808001, -8.616212564666313, 3.9785449271581625, -7.523457153751387, 20.02666130049745, 81.94056011465607, 10.187373387545113, -43.03746578187437, 8.588423331540014, -25.02696208214663, -25.304600344120995, -20.556262936007634, -31.897361433314444, -7.345251833672313, -21.482478988321482, -30.855275903329428, -17.31810821466926, -19.489467217865517, -48.13679728675011, 77.24393933365434, -49.39969964151174, -37.6091269067132, 47.07744637395136, 2.664173177392343, 37.959339505032894, -34.324445982992316, -7.657825051370924, 12.345785744270513, -48.7003830128391, 16.791644999442354, -32.76193339427449, -4.477753734450516, -16.78099096384426, -11.736377960510682, -11.968052471280592, -20.631503424938984, -14.480715305219675, 94.9580495102255, 49.26285416309185, -41.60961793161651, 96.31869599708861, -19.011817440823524, -22.94273444200636, 21.443488193228948, -43.741999302101334, -14.752082038728647, -25.982044074755382, -11.034674494554414, -12.05946391381443, -26.642447482144256, -17.68004965846949, -38.107599503238674, -46.69931963029458, 14.515632126903657, -39.106045106597094, -22.635519471167147, -24.916393003534523, 75.1798508481874, 10.837457392427092, -14.992588182428022, -2.6638246003616737, -30.449095695772037, 76.56656707421014, -9.629157381759192, 77.82741576980526, -30.30174003298479, -22.655555988655298, -21.97381528173343, -27.74770042893551, -36.18688466746943, -29.52201912094628, -30.434718372001065, 17.98819899683174, -13.120860517350545, -32.51005547270711, -26.751037478299377, 15.115419681278139, -0.27574257575477407, 26.188116635687724, 29.829466638486515, -28.399345590470556, 6.385861737519684, -30.319038461698618, -6.879142376069807, -50.322604597911415, 15.831987942496518, -33.69135279048127, 25.07943713454731, -24.881567918757867, -35.55261999784201, -43.30661980193662, -13.188950484878468, -26.423068832738206, -18.10173032423605, 15.260140298357445, -15.651824706152158, -14.268109667716246, -30.013309321468217, -8.859614364504024, -36.11311415185621, -12.349456317380335, 12.889445812549498, -17.4178928787721, -37.731640602284074, -35.15116165537892, -43.22798102850594, -19.769233546821518, -25.153818802705715, -32.146809921457375, 0.3172684060214048, 57.43389297339542, -35.3979068492351, -21.678187120445127, 32.06651189214431, -39.161449088898955, -22.73505779123941, -52.00681562375668, -3.935728902344797, -47.78804975137491, 47.76221822040462, 25.650044112703576, -26.758959880957466, -10.61904536164079, -23.43569440603116, -26.00924805765953, -32.4356483557083, 15.43537812801845, -23.509382662061203, -18.669344837320693, -25.38009375015396, 14.544466123688121, 6.041390580820758, 13.116762560419854, -48.86848805349946, -16.29125635336192, -1.8731000339127146, -33.196103190094746, -49.66285997552076, -27.85437355090268, -40.55019508068148, -23.737376342509876, -19.596524658958277, 29.49421957481907, 7.158955217609694, 19.00360749133449, -35.420371304295166, -27.718211900104382, 30.19898963938029, -23.16500356602213, -22.485977149908546, -33.33635077452545, 36.35923427325599, -20.59821871214819, -24.479280337054526, 43.78753066773896, 32.09589048768585, -4.111078392714829, -46.303207797087225, 15.82307050359455, -5.453358781600351, 0.7828732270158991, -24.84230847203352, 24.857876920476258, 163.9888974028022, -45.55331237059956, -36.05457001767157, 25.61629708228412, -46.25617142473696, -24.515549955575498, -42.19957266269171, -27.175675976880328, -46.94025023643172, -26.35809618930136, -39.81050645625952, -9.631369250185202, 10.992576555914672, -16.37925335002651, 7.500290324698637, -29.885836965697457, 41.93420729606854, 62.036786870277396, 42.46088326365722, -24.710917593589716, -33.27154018063676, -16.74710046327274, -19.822448321701156, -30.41670785577227, -27.672178060610854, -37.7634786661411, 0.05220262961267257, -50.5552937183054, -13.514126487669975, -27.135755793990455, 22.99120475798903, -28.311971513589388, -45.219913311500335, -15.539654466836014, 10.404107260880146, -6.089687488444333, 13.520136135642566, 16.051950478400837, -28.58155618285351, -18.82252246775616, -49.012571494030155, -38.41621046403278, 4.303747101501833, 52.501251845737286, -1.525112075318575, -53.40721154608526, -27.70854833072441, -25.74436962052582, -38.123987401082374, -19.385424607537786, -28.071504718408622, -2.0102334072721164, -26.940916453018115, -24.69998715507609, -23.818585983438222, -10.882889569321991, 18.69640333673824, -2.470470199227426, -43.697488032398276, -24.931199586004002, 94.87422421848203, 41.154017794067975, 9.691059950204346, -25.00347327751069, -31.919646535530795, -46.55547872476518, -47.65848226640585, 37.0480389827803, -47.66919573668884, 12.795452697021721, -33.830443588801174, -11.592496005859477, 21.80999943753383, -28.967158495039314, -30.257374712499857, -31.91691792192378, -45.38036770885775, 6.4561354130588615, -1.351712149183321, 24.125351393829874, -30.119756427611883, -22.010906543763678, -30.444926644853556, 63.94450575694668, -25.277413224259142, -14.09578050603533, 71.54222143685574, 122.26752945029016, 31.138219010858965, -19.490560709346017, 8.546267455305552, -11.650893270190537, -37.97971508765927, -23.69448901125937, -26.684296101634015, 68.33951274544239, -44.13395011421616, 43.50860384167696, -25.118357001847432, -39.86939443785981, 45.3063783896837, -24.524154733221096, 34.394007884264354, -7.385225178922498, -33.31933319705143, 2.701344119329954, -16.637429064708325, -31.515369868256485, -18.007328604018163, -27.99673715776665, -29.530492162401732, -19.071630823704446, -34.981489108022664, -7.789685266791661, 37.490630380310186, -31.07756121682395, -37.241066511726615, -24.989267448707434]}],\n",
              "                        {\"font\": {\"color\": \"RebeccaPurple\", \"family\": \"Courier New, monospace\", \"size\": 18}, \"template\": {\"data\": {\"bar\": [{\"error_x\": {\"color\": \"#2a3f5f\"}, \"error_y\": {\"color\": \"#2a3f5f\"}, \"marker\": {\"line\": {\"color\": \"#E5ECF6\", \"width\": 0.5}}, \"type\": \"bar\"}], \"barpolar\": [{\"marker\": {\"line\": {\"color\": \"#E5ECF6\", \"width\": 0.5}}, \"type\": \"barpolar\"}], \"carpet\": [{\"aaxis\": {\"endlinecolor\": \"#2a3f5f\", \"gridcolor\": \"white\", \"linecolor\": \"white\", \"minorgridcolor\": \"white\", \"startlinecolor\": \"#2a3f5f\"}, \"baxis\": {\"endlinecolor\": \"#2a3f5f\", \"gridcolor\": \"white\", \"linecolor\": \"white\", \"minorgridcolor\": \"white\", \"startlinecolor\": \"#2a3f5f\"}, \"type\": \"carpet\"}], \"choropleth\": [{\"colorbar\": {\"outlinewidth\": 0, \"ticks\": \"\"}, \"type\": \"choropleth\"}], \"contour\": [{\"colorbar\": {\"outlinewidth\": 0, \"ticks\": \"\"}, \"colorscale\": [[0.0, \"#0d0887\"], [0.1111111111111111, \"#46039f\"], [0.2222222222222222, \"#7201a8\"], [0.3333333333333333, \"#9c179e\"], [0.4444444444444444, \"#bd3786\"], [0.5555555555555556, \"#d8576b\"], [0.6666666666666666, \"#ed7953\"], [0.7777777777777778, \"#fb9f3a\"], [0.8888888888888888, \"#fdca26\"], [1.0, \"#f0f921\"]], \"type\": \"contour\"}], \"contourcarpet\": [{\"colorbar\": {\"outlinewidth\": 0, \"ticks\": \"\"}, \"type\": \"contourcarpet\"}], \"heatmap\": [{\"colorbar\": {\"outlinewidth\": 0, \"ticks\": \"\"}, \"colorscale\": [[0.0, \"#0d0887\"], [0.1111111111111111, \"#46039f\"], [0.2222222222222222, \"#7201a8\"], [0.3333333333333333, \"#9c179e\"], [0.4444444444444444, \"#bd3786\"], [0.5555555555555556, \"#d8576b\"], [0.6666666666666666, \"#ed7953\"], [0.7777777777777778, \"#fb9f3a\"], [0.8888888888888888, \"#fdca26\"], [1.0, \"#f0f921\"]], \"type\": \"heatmap\"}], \"heatmapgl\": [{\"colorbar\": {\"outlinewidth\": 0, \"ticks\": \"\"}, \"colorscale\": [[0.0, \"#0d0887\"], [0.1111111111111111, \"#46039f\"], [0.2222222222222222, \"#7201a8\"], [0.3333333333333333, \"#9c179e\"], [0.4444444444444444, \"#bd3786\"], [0.5555555555555556, \"#d8576b\"], [0.6666666666666666, \"#ed7953\"], [0.7777777777777778, \"#fb9f3a\"], [0.8888888888888888, \"#fdca26\"], [1.0, \"#f0f921\"]], \"type\": \"heatmapgl\"}], \"histogram\": [{\"marker\": {\"colorbar\": {\"outlinewidth\": 0, \"ticks\": \"\"}}, \"type\": \"histogram\"}], \"histogram2d\": [{\"colorbar\": {\"outlinewidth\": 0, \"ticks\": \"\"}, \"colorscale\": [[0.0, \"#0d0887\"], [0.1111111111111111, \"#46039f\"], [0.2222222222222222, \"#7201a8\"], [0.3333333333333333, \"#9c179e\"], [0.4444444444444444, \"#bd3786\"], [0.5555555555555556, \"#d8576b\"], [0.6666666666666666, \"#ed7953\"], [0.7777777777777778, \"#fb9f3a\"], [0.8888888888888888, \"#fdca26\"], [1.0, \"#f0f921\"]], \"type\": \"histogram2d\"}], \"histogram2dcontour\": [{\"colorbar\": {\"outlinewidth\": 0, \"ticks\": \"\"}, \"colorscale\": [[0.0, \"#0d0887\"], [0.1111111111111111, \"#46039f\"], [0.2222222222222222, \"#7201a8\"], [0.3333333333333333, \"#9c179e\"], [0.4444444444444444, \"#bd3786\"], [0.5555555555555556, \"#d8576b\"], [0.6666666666666666, \"#ed7953\"], [0.7777777777777778, \"#fb9f3a\"], [0.8888888888888888, \"#fdca26\"], [1.0, \"#f0f921\"]], \"type\": \"histogram2dcontour\"}], \"mesh3d\": [{\"colorbar\": {\"outlinewidth\": 0, \"ticks\": \"\"}, \"type\": \"mesh3d\"}], \"parcoords\": [{\"line\": {\"colorbar\": {\"outlinewidth\": 0, \"ticks\": \"\"}}, \"type\": \"parcoords\"}], \"pie\": [{\"automargin\": true, \"type\": \"pie\"}], \"scatter\": [{\"marker\": {\"colorbar\": {\"outlinewidth\": 0, \"ticks\": \"\"}}, \"type\": \"scatter\"}], \"scatter3d\": [{\"line\": {\"colorbar\": {\"outlinewidth\": 0, \"ticks\": \"\"}}, \"marker\": {\"colorbar\": {\"outlinewidth\": 0, \"ticks\": \"\"}}, \"type\": \"scatter3d\"}], \"scattercarpet\": [{\"marker\": {\"colorbar\": {\"outlinewidth\": 0, \"ticks\": \"\"}}, \"type\": \"scattercarpet\"}], \"scattergeo\": [{\"marker\": {\"colorbar\": {\"outlinewidth\": 0, \"ticks\": \"\"}}, \"type\": \"scattergeo\"}], \"scattergl\": [{\"marker\": {\"colorbar\": {\"outlinewidth\": 0, \"ticks\": \"\"}}, \"type\": \"scattergl\"}], \"scattermapbox\": [{\"marker\": {\"colorbar\": {\"outlinewidth\": 0, \"ticks\": \"\"}}, \"type\": \"scattermapbox\"}], \"scatterpolar\": [{\"marker\": {\"colorbar\": {\"outlinewidth\": 0, \"ticks\": \"\"}}, \"type\": \"scatterpolar\"}], \"scatterpolargl\": [{\"marker\": {\"colorbar\": {\"outlinewidth\": 0, \"ticks\": \"\"}}, \"type\": \"scatterpolargl\"}], \"scatterternary\": [{\"marker\": {\"colorbar\": {\"outlinewidth\": 0, \"ticks\": \"\"}}, \"type\": \"scatterternary\"}], \"surface\": [{\"colorbar\": {\"outlinewidth\": 0, \"ticks\": \"\"}, \"colorscale\": [[0.0, \"#0d0887\"], [0.1111111111111111, \"#46039f\"], [0.2222222222222222, \"#7201a8\"], [0.3333333333333333, \"#9c179e\"], [0.4444444444444444, \"#bd3786\"], [0.5555555555555556, \"#d8576b\"], [0.6666666666666666, \"#ed7953\"], [0.7777777777777778, \"#fb9f3a\"], [0.8888888888888888, \"#fdca26\"], [1.0, \"#f0f921\"]], \"type\": \"surface\"}], \"table\": [{\"cells\": {\"fill\": {\"color\": \"#EBF0F8\"}, \"line\": {\"color\": \"white\"}}, \"header\": {\"fill\": {\"color\": \"#C8D4E3\"}, \"line\": {\"color\": \"white\"}}, \"type\": \"table\"}]}, \"layout\": {\"annotationdefaults\": {\"arrowcolor\": \"#2a3f5f\", \"arrowhead\": 0, \"arrowwidth\": 1}, \"coloraxis\": {\"colorbar\": {\"outlinewidth\": 0, \"ticks\": \"\"}}, \"colorscale\": {\"diverging\": [[0, \"#8e0152\"], [0.1, \"#c51b7d\"], [0.2, \"#de77ae\"], [0.3, \"#f1b6da\"], [0.4, \"#fde0ef\"], [0.5, \"#f7f7f7\"], [0.6, \"#e6f5d0\"], [0.7, \"#b8e186\"], [0.8, \"#7fbc41\"], [0.9, \"#4d9221\"], [1, \"#276419\"]], \"sequential\": [[0.0, \"#0d0887\"], [0.1111111111111111, \"#46039f\"], [0.2222222222222222, \"#7201a8\"], [0.3333333333333333, \"#9c179e\"], [0.4444444444444444, \"#bd3786\"], [0.5555555555555556, \"#d8576b\"], [0.6666666666666666, \"#ed7953\"], [0.7777777777777778, \"#fb9f3a\"], [0.8888888888888888, \"#fdca26\"], [1.0, \"#f0f921\"]], \"sequentialminus\": [[0.0, \"#0d0887\"], [0.1111111111111111, \"#46039f\"], [0.2222222222222222, \"#7201a8\"], [0.3333333333333333, \"#9c179e\"], [0.4444444444444444, \"#bd3786\"], [0.5555555555555556, \"#d8576b\"], [0.6666666666666666, \"#ed7953\"], [0.7777777777777778, \"#fb9f3a\"], [0.8888888888888888, \"#fdca26\"], [1.0, \"#f0f921\"]]}, \"colorway\": [\"#636efa\", \"#EF553B\", \"#00cc96\", \"#ab63fa\", \"#FFA15A\", \"#19d3f3\", \"#FF6692\", \"#B6E880\", \"#FF97FF\", \"#FECB52\"], \"font\": {\"color\": \"#2a3f5f\"}, \"geo\": {\"bgcolor\": \"white\", \"lakecolor\": \"white\", \"landcolor\": \"#E5ECF6\", \"showlakes\": true, \"showland\": true, \"subunitcolor\": \"white\"}, \"hoverlabel\": {\"align\": \"left\"}, \"hovermode\": \"closest\", \"mapbox\": {\"style\": \"light\"}, \"paper_bgcolor\": \"white\", \"plot_bgcolor\": \"#E5ECF6\", \"polar\": {\"angularaxis\": {\"gridcolor\": \"white\", \"linecolor\": \"white\", \"ticks\": \"\"}, \"bgcolor\": \"#E5ECF6\", \"radialaxis\": {\"gridcolor\": \"white\", \"linecolor\": \"white\", \"ticks\": \"\"}}, \"scene\": {\"xaxis\": {\"backgroundcolor\": \"#E5ECF6\", \"gridcolor\": \"white\", \"gridwidth\": 2, \"linecolor\": \"white\", \"showbackground\": true, \"ticks\": \"\", \"zerolinecolor\": \"white\"}, \"yaxis\": {\"backgroundcolor\": \"#E5ECF6\", \"gridcolor\": \"white\", \"gridwidth\": 2, \"linecolor\": \"white\", \"showbackground\": true, \"ticks\": \"\", \"zerolinecolor\": \"white\"}, \"zaxis\": {\"backgroundcolor\": \"#E5ECF6\", \"gridcolor\": \"white\", \"gridwidth\": 2, \"linecolor\": \"white\", \"showbackground\": true, \"ticks\": \"\", \"zerolinecolor\": \"white\"}}, \"shapedefaults\": {\"line\": {\"color\": \"#2a3f5f\"}}, \"ternary\": {\"aaxis\": {\"gridcolor\": \"white\", \"linecolor\": \"white\", \"ticks\": \"\"}, \"baxis\": {\"gridcolor\": \"white\", \"linecolor\": \"white\", \"ticks\": \"\"}, \"bgcolor\": \"#E5ECF6\", \"caxis\": {\"gridcolor\": \"white\", \"linecolor\": \"white\", \"ticks\": \"\"}}, \"title\": {\"x\": 0.05}, \"xaxis\": {\"automargin\": true, \"gridcolor\": \"white\", \"linecolor\": \"white\", \"ticks\": \"\", \"title\": {\"standoff\": 15}, \"zerolinecolor\": \"white\", \"zerolinewidth\": 2}, \"yaxis\": {\"automargin\": true, \"gridcolor\": \"white\", \"linecolor\": \"white\", \"ticks\": \"\", \"title\": {\"standoff\": 15}, \"zerolinecolor\": \"white\", \"zerolinewidth\": 2}}}, \"title\": {\"text\": \"Plot Customer Clustering\", \"x\": 0.5, \"xanchor\": \"center\", \"y\": 0.9, \"yanchor\": \"top\"}, \"xaxis\": {\"title\": {\"text\": \"1st principal component\"}}, \"yaxis\": {\"title\": {\"text\": \"2nd principal component\"}}},\n",
              "                        {\"responsive\": true}\n",
              "                    ).then(function(){\n",
              "                            \n",
              "var gd = document.getElementById('710cc6ee-69b5-4717-940c-cbad6c5d82dd');\n",
              "var x = new MutationObserver(function (mutations, observer) {{\n",
              "        var display = window.getComputedStyle(gd).display;\n",
              "        if (!display || display === 'none') {{\n",
              "            console.log([gd, 'removed!']);\n",
              "            Plotly.purge(gd);\n",
              "            observer.disconnect();\n",
              "        }}\n",
              "}});\n",
              "\n",
              "// Listen for the removal of the full notebook cells\n",
              "var notebookContainer = gd.closest('#notebook-container');\n",
              "if (notebookContainer) {{\n",
              "    x.observe(notebookContainer, {childList: true});\n",
              "}}\n",
              "\n",
              "// Listen for the clearing of the current output cell\n",
              "var outputEl = gd.closest('.output');\n",
              "if (outputEl) {{\n",
              "    x.observe(outputEl, {childList: true});\n",
              "}}\n",
              "\n",
              "                        })\n",
              "                };\n",
              "                \n",
              "            </script>\n",
              "        </div>\n",
              "</body>\n",
              "</html>"
            ]
          },
          "metadata": {}
        }
      ]
    },
    {
      "cell_type": "code",
      "metadata": {
        "colab": {
          "base_uri": "https://localhost:8080/",
          "height": 597
        },
        "id": "4UsNncAXR4vv",
        "outputId": "8a343206-fd36-44ff-a16a-2316c3d96ca7"
      },
      "source": [
        "# clustering with encoder-decoder LSTM features\n",
        "\n",
        "sc = StandardScaler()\n",
        "standard_predictions = sc.fit_transform(predictions)\n",
        "pca = PCA(n_components=n_components)\n",
        "X_predictions_pca = pca.fit_transform(standard_predictions)\n",
        "\n",
        "do_kmeans(X_predictions_pca, opt_cluster_numbers)"
      ],
      "execution_count": 70,
      "outputs": [
        {
          "output_type": "stream",
          "name": "stdout",
          "text": [
            "{0, 1, 2}\n",
            "Silhouette:  0.85823977  The best value is 1 and the worst value is -1.\n",
            "Davies–Bouldin index:  0.5137486603190693  lower values indicating better clustering.\n"
          ]
        },
        {
          "output_type": "display_data",
          "data": {
            "text/html": [
              "<html>\n",
              "<head><meta charset=\"utf-8\" /></head>\n",
              "<body>\n",
              "    <div>\n",
              "            <script src=\"https://cdnjs.cloudflare.com/ajax/libs/mathjax/2.7.5/MathJax.js?config=TeX-AMS-MML_SVG\"></script><script type=\"text/javascript\">if (window.MathJax) {MathJax.Hub.Config({SVG: {font: \"STIX-Web\"}});}</script>\n",
              "                <script type=\"text/javascript\">window.PlotlyConfig = {MathJaxConfig: 'local'};</script>\n",
              "        <script src=\"https://cdn.plot.ly/plotly-latest.min.js\"></script>    \n",
              "            <div id=\"cc1943e7-1ec1-4e60-85b2-73106d111034\" class=\"plotly-graph-div\" style=\"height:525px; width:100%;\"></div>\n",
              "            <script type=\"text/javascript\">\n",
              "                \n",
              "                    window.PLOTLYENV=window.PLOTLYENV || {};\n",
              "                    \n",
              "                if (document.getElementById(\"cc1943e7-1ec1-4e60-85b2-73106d111034\")) {\n",
              "                    Plotly.newPlot(\n",
              "                        'cc1943e7-1ec1-4e60-85b2-73106d111034',\n",
              "                        [{\"marker\": {\"color\": [2, 2, 2, 2, 2, 2, 2, 2, 2, 2, 2, 2, 2, 2, 2, 2, 2, 2, 2, 2, 2, 2, 2, 2, 2, 2, 2, 2, 2, 2, 2, 0, 2, 2, 2, 2, 2, 2, 2, 2, 2, 2, 2, 2, 0, 2, 2, 2, 2, 2, 2, 2, 2, 2, 2, 2, 2, 2, 2, 2, 2, 2, 2, 0, 0, 2, 2, 0, 2, 2, 2, 2, 2, 2, 2, 2, 2, 0, 2, 2, 2, 2, 2, 2, 2, 2, 2, 2, 1, 2, 2, 2, 2, 2, 2, 2, 2, 2, 2, 2, 2, 2, 2, 2, 2, 2, 2, 2, 2, 2, 2, 2, 2, 2, 2, 2, 2, 2, 2, 2, 2, 2, 2, 2, 2, 2, 2, 2, 2, 2, 2, 2, 2, 2, 2, 2, 2, 2, 2, 2, 2, 2, 2, 2, 2, 2, 2, 2, 2, 2, 0, 2, 2, 2, 2, 2, 2, 2, 2, 2, 2, 2, 2, 0, 2, 2, 2, 2, 2, 2, 2, 2, 2, 2, 2, 0, 2, 0, 2, 2, 2, 2, 2, 2, 2, 0, 2, 2, 2, 2, 2, 2, 2, 2, 2, 2, 2, 2, 2, 0, 2, 2, 2, 2, 2, 2, 2, 2, 2, 2, 2, 2, 2, 2, 2, 2, 2, 2, 2, 2, 2, 2, 2, 2, 2, 0, 2, 2, 2, 2, 0, 2, 2, 2, 2, 2, 2, 2, 2, 2, 2, 2, 2, 2, 2, 2, 2, 2, 2, 2, 0, 2, 2, 2, 2, 2, 2, 2, 2, 2, 2, 2, 2, 2, 2, 2, 2, 2, 2, 2, 2, 2, 2, 2, 0, 2, 2, 2, 2, 2, 2, 2, 2, 0, 2, 2, 2, 2, 2, 2, 2, 2, 2, 2, 2, 2, 2, 2, 2, 2, 2, 2, 0, 2, 2, 2, 2, 2, 2, 2, 0, 2, 2, 2, 2, 2, 2, 0, 2, 2, 2, 2, 2, 2, 2, 2, 2, 2, 2, 2, 2, 2, 2, 2, 2, 2, 2, 2, 2, 2, 2, 2, 2, 2, 2, 2, 0, 2, 2, 2, 2, 2, 2, 2, 2, 2, 2, 2, 2, 2, 2, 2, 2, 2, 2, 2, 2, 2, 2, 2, 2, 2, 2, 2, 2, 2, 0, 0, 2, 2, 2, 2, 2, 2, 2, 2, 2, 2, 2, 2, 2, 2, 2, 2, 2, 2, 2, 2, 2, 2, 2, 2, 2, 2, 2, 2, 2, 2, 2, 2, 2, 2, 2, 2, 2, 2, 2, 0, 2, 2, 2, 0, 2, 2, 2, 2, 2, 2, 2, 2, 2, 2, 2, 2, 2, 0, 2, 2, 2, 2, 2, 2, 2, 2, 2, 2, 2, 2, 2, 2, 2, 2, 2, 2, 2, 2, 2, 2, 2, 2, 2, 2, 1, 2, 2, 2, 2, 2, 2, 2, 2, 2, 2, 2, 0, 2, 2, 2, 2, 2, 2, 2, 2, 2, 2, 0, 2, 2, 2, 2, 2, 2, 2, 2, 2, 2, 0, 2, 2, 2, 2, 2, 2, 2, 2, 2, 2, 2, 2, 2, 2, 2, 2, 2, 2, 2, 2, 2, 2, 2, 2, 2, 2, 2, 2, 2, 2, 2, 2, 2, 2, 2, 2, 2, 2, 2, 2, 2, 2, 2, 2, 2, 2, 2, 2, 2, 2, 2, 0, 2, 2, 2, 2, 2, 2, 2, 2, 2, 2, 2, 2, 2, 2, 2, 2, 2, 2, 2, 2, 2, 2, 2, 2, 2, 2, 2, 2, 2, 2, 2, 2, 2, 2, 2, 2, 2, 2, 2, 2, 2, 2, 2, 2, 2, 2, 2, 2, 0, 2, 2, 0, 2, 2, 2, 2, 2, 2, 0, 2, 2, 2, 2, 2, 2, 2, 2, 2, 2, 2, 0, 2, 2, 0, 2, 2, 2, 1, 2, 2, 2, 2, 2, 2, 2, 2, 2, 2, 2, 2, 2, 2, 2, 2, 2, 2, 2, 2, 2, 2, 2, 2, 2, 2, 2, 2, 2, 2, 2, 2, 2, 2, 2, 0, 2, 0, 2, 2, 2, 2, 2, 2, 2, 2, 2, 2, 2, 2, 2, 2, 2, 2, 2, 2, 2, 2, 2, 2, 2, 2, 2, 2, 2, 0, 2, 2, 2, 2, 2, 2, 2, 0, 2, 2, 2, 2, 2, 2, 2, 2, 2, 0, 2, 2, 2, 2, 2, 2, 2, 2, 2, 2, 0, 2, 2, 2, 2, 2, 2, 2, 2, 2, 2, 2, 0, 2, 2, 2, 2, 2, 2, 2, 2, 2, 2, 2, 2, 2, 2, 2, 2, 2, 2, 2, 2, 2, 2, 2, 2, 2, 2, 2, 2, 2, 2, 2, 2, 2, 2, 2, 2, 2, 2, 2, 2, 2, 2, 2, 1, 2, 2, 2, 2, 2, 2, 2, 2, 2, 2, 2, 2, 2, 2, 2, 2, 2, 2, 2, 2, 2, 2, 2, 2, 2, 2, 2, 2, 2, 2, 2, 2, 2, 2, 2, 2, 2, 2, 2, 2, 2, 2, 2, 0, 0, 2, 2, 2, 2, 2, 2, 2, 2, 2, 2, 2, 2, 2, 2, 2, 2, 2, 2, 2, 2, 0, 0, 2, 2, 2, 2, 2, 2, 2, 2, 2, 2, 0, 2, 2, 2, 2, 2, 2, 2, 2, 2, 2, 2, 2, 2, 2, 2, 2, 2, 2, 2, 2, 2, 2, 2, 2, 2, 2, 2, 2, 2, 2, 2, 2, 2, 2, 2, 2, 2, 2, 2, 2, 2, 2, 2, 2, 2, 2, 2, 2, 2, 2, 2, 0, 2, 2, 2, 2, 2, 2, 2, 2, 2, 0, 2, 2, 2, 2, 2, 2, 2, 2, 2, 2, 2, 2, 2, 2, 2, 2, 0, 2, 2, 2, 2, 2, 2, 2, 2, 2, 2, 2, 2, 0, 2, 2, 2, 2, 2, 2, 2, 1, 2, 2, 2, 0, 0, 2, 2, 2, 2, 2, 2, 2, 2, 2, 0, 2, 2, 2, 2, 2, 2, 2, 2, 2, 2, 2, 2, 2, 2, 0, 2, 2, 2, 2, 2, 2, 0, 2, 2, 2, 2, 2, 2, 2, 2, 2, 0, 2, 2, 2, 2, 2, 2, 2, 2, 2, 2, 2, 2, 2, 2, 2, 2, 2, 2, 2, 2, 2, 2, 2, 2, 2, 2, 2, 2, 2, 2, 2, 2, 2, 2, 2, 2, 2, 2, 2, 2, 2, 2, 2, 2, 2, 2, 2, 2, 2, 2, 2, 2, 2, 2, 2, 2, 2, 2, 2, 2, 2, 2, 2, 2, 2, 2, 2, 2, 2, 2, 2, 2, 2, 0, 2, 2, 2, 0, 2, 2, 2, 2, 2, 2, 2, 2, 2, 2, 2, 2, 0, 2, 2, 2, 2, 2, 2, 2, 2, 2, 2, 2, 2, 2, 2, 2, 2, 2, 2, 0, 2, 2, 2, 2, 2, 2, 2, 2, 2, 2, 2, 2, 2, 2, 2, 2, 2, 2, 2, 2, 2, 2, 2, 2, 2, 2, 2, 2, 2, 2, 2, 0, 2, 2, 2, 2, 2, 2, 2, 2, 2, 2, 2, 2, 2, 2, 2, 2, 2, 2, 2, 2, 2, 2, 2, 2, 2, 2, 2, 2, 2, 2, 2, 0, 2, 2, 2, 2, 2, 2, 2, 2, 2, 0, 2, 2, 2, 2, 2, 2, 2, 2, 2, 2, 2, 2, 2, 2, 2, 2, 2, 2, 2, 2, 2, 2, 2, 2, 2, 2, 2, 2, 2, 2, 2, 2, 2, 2, 2, 0, 2, 2, 2, 2, 2, 2, 2, 2, 2, 0, 2, 2, 2, 2, 2, 2, 0, 2, 2, 2, 2, 2, 2, 2, 2, 2, 2, 2, 2, 2, 2, 2, 2, 2, 2, 2, 2, 2, 2, 2, 2, 2, 2, 0, 2, 2, 2, 2, 2, 1, 2, 2, 2, 2, 2, 2, 2, 2, 2, 2, 2, 2, 2, 2, 2, 2, 2, 2, 2, 2, 2, 2, 2, 2, 2, 2, 2, 2, 2, 2, 2, 2, 2, 2, 2, 2, 2, 1, 2, 2, 2, 2, 2, 2, 2, 2, 2, 2, 2, 2, 0, 2, 2, 2, 2, 2, 2, 2, 2, 2, 2, 1, 2, 2, 2, 2, 0, 0, 2, 2, 2, 2, 2, 2, 2, 2, 2, 2, 2, 2, 2, 2, 2, 2, 2, 2, 2, 2, 2, 2, 2, 2, 2, 2, 2, 2, 2, 2, 2, 2, 2, 2, 2, 2, 2, 2, 0, 2, 2, 2, 2, 2, 2, 2, 2, 2, 2, 2, 2, 2, 2, 2, 2, 2, 2, 2, 2, 2, 2, 2, 2, 2, 2, 2, 2, 2, 1, 2, 2, 2, 2, 2, 2, 2, 2, 2, 2, 2, 2, 2, 2, 2, 2, 2, 2, 2, 2, 2, 2, 2, 2, 2, 2, 0, 2, 0, 2, 2, 0, 2, 2, 2, 2, 2, 2, 2, 2, 2, 2, 2, 2, 2, 2, 2, 2, 2, 2, 2, 2, 2, 2, 2, 2, 0, 2, 2, 2, 2, 2, 2, 2, 2, 2, 2, 2, 2, 2, 2, 2, 2, 2, 2, 2, 2, 2, 2, 2, 2, 2, 2, 2, 2, 2, 2, 2, 2, 2, 2, 2, 2, 0, 2, 2, 2, 2, 2, 2, 2, 2, 2, 2, 2, 2, 2, 2, 2, 2, 2, 2, 2, 2, 0, 2, 2, 2, 2, 0, 2, 2, 2, 2, 2, 2, 2, 2, 2, 2, 2, 2, 2, 2, 2, 2, 2, 2, 2, 2, 2, 2, 2, 2, 2, 2, 2, 2, 2, 2, 2, 2, 2, 2, 2, 2, 2, 2, 2, 2, 2, 2, 2, 2, 2, 2, 2, 2, 2, 2, 2, 2, 2, 2, 2, 2, 2, 2, 2, 2, 2, 2, 2, 2, 2, 2, 2, 2, 2, 2, 2, 2, 2, 2, 2, 2, 2, 2, 2, 2, 1, 2, 2, 2, 2, 2, 2, 2, 2, 2, 2, 2, 2, 2, 2, 2, 2, 2, 2, 2, 2, 2, 2, 2, 2, 2, 2, 2, 2, 2, 2, 2, 2, 2, 2, 2, 2, 2, 2, 2, 2, 2, 2, 2, 2, 2, 2, 2, 2, 2, 2, 2, 2, 2, 0, 2, 2, 2, 2, 2, 2, 2, 2, 2, 2, 2, 2, 2, 2, 2, 2, 2, 2, 2, 2, 0, 2, 2, 2, 2, 2, 2, 1, 0, 2, 2, 2, 2, 2, 2, 2, 2, 2, 2, 2, 2, 2, 2, 2, 2, 2, 2, 2, 2, 1, 2, 2, 2, 0, 2, 2, 2, 2, 2, 2, 2, 1, 2, 2, 2, 2, 2, 2, 2, 2, 2, 2, 2, 2, 2, 2, 0, 2, 2, 2, 2, 2, 2, 2, 2, 0, 2, 2, 2, 2, 2, 2, 2, 2, 2, 2, 2, 2, 2, 2, 2, 2, 2, 2, 2, 2, 0, 2, 2, 2, 2, 2, 2, 2, 2, 2, 2, 2, 2, 2, 2, 2, 2, 2, 2, 2, 2, 2, 2, 2, 2, 2, 2, 0, 2, 2, 2, 2, 2, 2, 2, 2, 2, 2, 2, 2, 2, 2, 2, 2, 2, 2, 2, 2, 2, 2, 2, 2, 2, 2, 2, 0, 2, 2, 2, 2, 2, 2, 2, 2, 2, 2, 2, 2, 2, 0, 2, 2, 2, 2, 2, 2, 2, 2, 2, 2, 2, 2, 2, 2, 2, 2, 2, 2, 2, 2, 2, 2, 2, 2, 2, 2, 2, 2, 2, 0, 2, 2, 2, 2, 0, 2, 2, 2, 2, 2, 2, 2, 0, 2, 2, 2, 2, 2, 2, 2, 2, 2, 2, 2, 2, 2, 2, 2, 2, 2, 2, 2, 2, 2, 2, 2, 2, 2, 2, 2, 2, 2, 0, 2, 2, 2, 2, 2, 2, 2, 2, 2, 2, 2, 2, 2, 1, 2, 2, 2, 2, 2, 2, 2, 2, 2, 2, 2, 2, 2, 2, 2, 2, 2, 2, 2, 2, 2, 2, 2, 2, 2, 0, 2, 2, 2, 2, 2, 2, 2, 2, 2, 2, 2, 2, 2, 2, 2, 2, 2, 2, 2, 2, 2, 0, 2, 2, 2, 2, 2, 2, 2, 2, 2, 2, 2, 2, 2, 2, 0, 2, 2, 2, 2, 2, 2, 2, 2, 2, 2, 0, 2, 2, 2, 2, 2, 2, 2, 2, 2, 2, 2, 2, 2, 2, 2, 2, 2, 2, 2, 2, 0, 2, 0, 2, 2, 2, 2, 2, 2, 2, 2, 2, 2, 2, 2, 2, 2, 2, 2, 2, 2, 2, 2, 2, 2, 2, 2, 2, 2, 2, 2, 2, 2, 2, 2, 2, 2, 2, 2, 2, 2, 2, 2, 0, 2, 0, 2, 2, 2, 0, 2, 2, 2, 0, 2, 2, 2, 2, 2, 2, 2, 0, 2, 2, 2, 2, 2, 2, 2, 2, 2, 2, 2, 2, 2, 2, 2, 2, 2, 2, 2, 2, 2, 2, 2, 2, 0, 2, 0, 1, 2, 2, 0, 2, 2, 2, 2, 0, 2, 2, 2, 2, 2, 2, 2, 2, 2, 2, 2, 2, 0, 0, 2, 2, 0, 2, 2, 2, 2, 2, 2, 2, 2, 2, 2, 2, 2, 2, 2, 2, 2, 2, 2, 2, 2, 2, 2, 2, 2, 2, 2, 2, 2, 2, 2, 2, 0, 2, 2, 2, 2, 2, 2, 2, 2, 2, 2, 2, 2, 2, 2, 2, 2, 2, 2, 2, 2, 2, 2, 2, 2, 2, 2, 2, 2, 2, 2, 2, 2, 0, 2, 0, 0, 2, 2, 2, 2, 2, 2, 2, 2, 2, 2, 2, 2, 2, 2, 2, 2, 2, 2, 2, 2, 2, 2, 2, 2, 2, 2, 2, 2, 2, 2, 2, 2, 2, 2, 2, 2, 2, 2, 2, 2, 2, 2, 2, 2, 2, 2, 2, 2, 2, 2, 2, 2, 2, 2, 0, 2, 2, 2, 2, 2, 2, 2, 2, 2, 2, 2, 2, 2, 2, 2, 2, 2, 2, 2, 2, 2, 2, 2, 2, 2, 2, 2, 2, 2, 2, 2, 2, 2, 2, 2, 2, 2, 2, 2, 0, 2, 2, 2, 2, 2, 2, 2, 2, 0, 2, 2, 2, 2, 2, 2, 2, 2, 2, 2, 2, 2, 2, 2, 2, 2, 2, 2, 2, 2, 2, 2, 2, 2, 2, 2, 2, 2, 2, 2, 2, 2, 2, 0, 2, 2, 0, 2, 2, 2, 0, 0, 2, 2, 2, 2, 2, 2, 2, 2, 2, 2, 2, 2, 0, 2, 2, 2, 2, 2, 2, 2, 0, 2, 2, 2, 2, 2, 2, 0, 2, 2, 2, 2, 2, 2, 2, 2, 2, 2, 2, 2, 2, 2, 2, 2, 2, 2, 2, 2, 2, 2, 2, 0, 2, 2, 2, 2, 2, 2, 2, 2, 2, 2, 2, 2, 2, 2, 2, 2, 2, 2, 2, 2, 2, 2, 2, 2, 2, 2, 0, 2, 2, 2, 2, 2, 2, 2, 2, 2, 2, 2, 2, 2, 2, 2, 2, 0, 2, 0, 2, 2, 2, 2, 2, 2, 2, 2, 2, 2, 2, 2, 2, 2, 2, 2, 2, 2, 2, 2, 2, 2, 2, 2, 2, 2, 2, 2, 2, 2, 2, 2, 2, 2, 2, 2, 2, 2, 2, 2, 2, 2, 2, 2, 2, 2, 2, 2, 2, 2, 2, 2, 2, 2, 2, 2, 2, 2, 2, 2, 2, 2, 2, 2, 2, 0, 2, 2, 2, 2, 0, 2, 0, 2, 2, 2, 2, 2, 2, 2, 2, 2, 2, 0, 2, 2, 2, 2, 2, 2, 2, 2, 2, 2, 2, 2, 2, 2, 2, 2, 2, 2, 2, 2, 2, 2, 2, 2, 2, 2, 2, 2, 2, 2, 0, 2, 2, 0, 2, 2, 2, 2, 2, 2, 2, 2, 2, 2, 2, 2, 2, 2, 2, 2, 2, 2, 2, 2, 2, 2, 2, 2, 2, 2, 2, 2, 2, 2, 2, 2, 2, 0, 2, 2, 2, 2, 2, 2, 2, 2, 2, 2, 2, 2, 2, 2, 0, 2, 2, 2, 2, 2, 2, 2, 2, 2, 2, 2, 2, 1, 0, 2, 2, 2, 2, 2, 2, 2, 2, 2, 2, 2, 2, 2, 2, 0, 2, 2, 2, 2, 2, 2, 2, 2, 2, 2, 2, 2, 2, 2, 2, 2, 2, 2, 2, 2, 2, 2, 2, 2, 2, 2, 2, 2, 2, 2, 2, 2, 2, 2, 2, 0, 2, 2, 2, 2, 0, 2, 2, 2, 2, 2, 2, 2, 2, 2, 2, 2, 2, 1, 2, 2, 2, 2, 2, 2, 2, 2, 2, 2, 2, 2, 2, 2, 2, 2, 2, 2, 2, 0, 2, 2, 2, 2, 2, 2, 2, 0, 2, 2, 2, 2, 2, 2, 2, 2, 2, 2, 2, 2, 2, 2, 2, 2, 0, 2, 2, 2, 2, 2, 2, 2, 2, 2, 0, 2, 2, 2, 2, 2, 2, 2, 2, 2, 2, 2, 2, 2, 2, 2, 2, 2, 0, 2, 2, 0, 2, 2, 2, 2, 2, 2, 2, 2, 2, 2, 0, 2, 2, 2, 2, 2, 1, 0, 2, 2, 2, 2, 1, 2, 2, 2, 2, 2, 2, 2, 2, 2, 0, 2, 2, 2, 2, 2, 2, 2, 2, 2, 2, 0, 2, 2, 2, 2, 2, 2, 2, 2, 2, 0, 2, 2, 2, 2, 2, 2, 2, 2, 2, 2, 2, 2, 2, 2, 2, 2, 2, 2, 2, 2, 2, 2, 2, 2, 2, 2, 2, 2, 2, 2, 2, 2, 2, 2, 2, 2, 2, 2, 2, 2, 2, 2, 2, 2, 2, 2, 2, 2, 2, 2, 2, 2, 2, 2, 2, 2, 2, 2, 0, 2, 2, 2, 2, 2, 2, 2, 2, 2, 2, 2, 2, 2, 2, 1, 0, 2, 2, 2, 2, 2, 2, 2, 2, 2, 2, 2, 2, 2, 2, 2, 0, 2, 2, 2, 2, 2, 2, 2, 2, 2, 2, 2, 2, 2, 2, 2, 2, 2, 2, 2, 2, 2, 2, 2, 2, 2, 2, 2, 2, 2, 2, 2, 2, 2, 2, 2, 2, 2, 2, 2, 0, 0, 2, 2, 2, 2, 2, 2, 2, 2, 2, 2, 2, 2, 2, 2, 2, 2, 2, 2, 2, 2, 2, 0, 2, 2, 2, 2, 2, 2, 2, 2, 2, 2, 2, 2, 2, 2, 2, 2, 2, 2, 2, 2, 2, 2, 2, 2, 2, 2, 0, 2, 2, 2, 2, 2, 2, 2, 2, 2, 2, 2, 2, 2, 2, 2, 2, 2, 2, 2, 2, 2, 2, 2, 2, 2, 2, 2, 2, 2, 2, 2, 2, 2, 2, 2, 2, 2, 2, 2, 2, 2, 2, 2, 0, 2, 2, 2, 2, 2, 2, 2, 2, 2, 2, 2, 0, 2, 2, 2, 2, 2, 2, 2, 2, 2, 2, 2, 2, 2, 2, 2, 2, 2, 2, 2, 2, 2, 2, 2, 2, 2, 2, 2, 2, 2, 2, 2, 0, 2, 1, 2, 2, 2, 2, 2, 2, 2, 2, 2, 2, 2, 2, 2, 2, 2, 2, 2, 2, 2, 2, 2, 2, 2, 2, 2, 2, 2, 2, 2, 2, 2, 2, 2, 2, 2, 2, 2, 2, 2, 2, 0, 2, 2, 2, 2, 2, 2, 2, 2, 2, 2, 2, 2, 2, 2, 2, 2, 2, 2, 2, 2, 2, 2, 2, 2, 2, 2, 2, 2, 2, 2, 2, 2, 2, 2, 2, 2, 2, 2, 2, 2, 2, 2, 2, 2, 2, 2, 2, 2, 2, 2, 2, 2, 2, 2, 2, 2, 2, 0, 2, 2, 0, 2, 2, 2, 2, 2, 2, 2, 2, 2, 2, 2, 2, 2, 2, 2, 2, 2, 2, 2, 2, 2, 2, 2, 2, 2, 2, 2, 2, 2, 2, 2, 2, 0, 2, 2, 2, 2, 2, 2, 2, 2, 2, 2, 1, 2, 2, 2, 2, 2, 2, 2, 1, 2, 2, 2, 2, 2, 2, 2, 2, 2, 2, 2, 2, 2, 2, 2, 2, 2, 2, 2, 2, 2, 2, 2, 2, 2, 2, 2, 2, 2, 2, 2, 2, 2, 2, 2, 2, 2, 2, 2, 2, 2, 2, 2, 2, 2, 2, 2, 2, 2, 2, 2, 2, 2, 2, 2, 2, 2, 0, 2, 2, 2, 2, 2, 2, 2, 2, 2, 2, 2, 2, 2, 2, 2, 0, 2, 2, 2, 2, 0, 2, 2, 0, 2, 2, 2, 2, 2, 2, 2, 0, 2, 2, 2, 2, 2, 2, 2, 2, 2, 2, 2, 2, 2, 2, 2, 2, 2, 2, 2, 2, 2, 2, 2, 2, 2, 2, 2, 2, 2, 2, 2, 2, 2, 2, 2, 2, 1, 2, 2, 2, 2, 2, 2, 2, 2, 2, 2, 2, 2, 2, 2, 2, 2, 2, 2, 2, 2, 2, 2, 2, 2, 2, 2, 2, 2, 2, 2, 2, 2, 2, 2, 2, 2, 2, 2, 2, 2, 2, 2, 2, 2, 2, 2, 2, 2, 2, 0, 2, 2, 2, 2, 2, 2, 0, 0, 2, 2, 2, 2, 2, 2, 2, 2, 2, 2, 2, 2, 2, 2, 2, 2, 2, 2, 2, 2, 2, 2, 2, 0, 2, 2, 2, 2, 2, 2, 2, 0, 2, 2, 2, 2, 2, 2, 2, 2, 2, 2, 2, 2, 2, 2, 2, 2, 2, 2, 1, 0, 2, 2, 2, 2, 2, 2, 2, 2, 2, 2, 2, 2, 2, 2, 2, 2, 0, 2, 2, 2, 2, 2, 2, 2, 2, 2, 2, 2, 2, 2, 2, 2, 2, 2, 2, 0, 0, 2, 2, 2, 2, 2, 2, 2, 2, 2, 2, 2, 2, 2, 2, 2, 2, 2, 2, 2, 2, 2, 2, 2, 2, 2, 2, 2, 2, 0, 2, 2, 2, 2, 2, 2, 2, 2, 2, 2, 2, 2, 2, 2, 0, 2, 2, 2, 2, 2, 2, 2, 2, 0, 2, 2, 2, 2, 2, 2, 0, 2, 2, 0, 2, 2, 2, 0, 0, 2, 0, 2, 2, 2, 2, 2, 2, 2, 2, 2, 2, 2, 2, 2, 2, 2, 2, 2, 2, 2, 2, 2, 2, 2, 2, 2, 2, 2, 2, 2, 0, 2, 2, 2, 2, 2, 2, 2, 2, 2, 2, 2, 2, 2, 2, 2, 2, 2, 2, 2, 2, 2, 2, 2, 2, 2, 2, 2, 2, 2, 2, 2, 2, 2, 2, 2, 2, 2, 2, 2, 2, 2, 2, 2, 2, 2, 2, 2, 0, 2, 2, 2, 2, 2, 2, 2, 2, 2, 2, 2, 2, 2, 2, 2, 2, 2, 2, 2, 2, 2, 2, 2, 2, 2, 2, 2, 2, 2, 2, 2, 2, 2, 2, 2, 2, 0, 2, 2, 2, 2, 2, 2, 2, 2, 2, 2, 2, 2, 2, 0, 2, 2, 2, 2, 2, 2, 2, 2, 2, 2, 0, 2, 2, 2, 2, 2, 2, 2, 2, 2, 2, 2, 2, 0, 2, 2, 2, 2, 2, 2, 2, 2, 2, 2, 2, 2, 2, 2, 2, 2, 2, 2, 2, 2, 2, 2, 2, 2, 2, 2, 2, 2, 2, 2, 2, 0, 2, 2, 2, 2, 2, 2, 2, 2, 2, 2, 2, 2, 2, 2, 2, 2, 2, 2, 0, 0, 2, 2, 2, 2, 2, 2, 2, 2, 2, 2, 0, 2, 2, 2, 2, 2, 2, 2, 0, 0, 2, 2, 2, 2, 2, 2, 2, 2, 2, 2, 2, 2, 2, 2, 2, 2, 2, 2, 2, 0, 2, 2, 2, 2, 2, 2, 2, 2, 2, 2, 2, 2, 2, 2, 2, 2, 2, 2, 2, 2, 2, 2, 2, 2, 0, 2, 0, 2, 2, 2, 2, 2, 2, 2, 0, 2, 2, 2, 2, 2, 2, 2, 0, 2, 1, 2, 2, 2, 2, 2, 0, 2, 2, 2, 2, 2, 0, 2, 2, 2, 2, 2, 2, 2, 2, 2, 2, 2, 2, 2, 2, 2, 0, 2, 2, 2, 2, 2, 2, 2, 2, 0, 2, 2, 2, 2, 2, 2, 0, 2, 2, 2, 2, 2, 2, 2, 2, 2, 2, 2, 2, 2, 0, 2, 2, 2, 2, 2, 2, 2, 2, 2, 2, 2, 2, 2, 2, 2, 2, 2, 2, 2, 2, 2, 2, 2, 2, 2, 2, 2, 2, 2, 2, 2, 2, 0, 2, 2, 2, 2, 2, 2, 2, 2, 2, 2, 2, 2, 0, 2, 0, 2, 2, 2, 2, 2, 2, 2, 2, 2, 2, 2, 2, 2, 2, 2, 2, 2, 0, 2, 2, 0, 2, 2, 2, 2, 2, 2, 2, 1, 0, 2, 2, 2, 2, 2, 0, 2, 2, 2, 0, 2, 2, 2, 2, 2, 2, 2, 0, 2, 2, 2, 2, 0, 0, 2, 0, 2, 2, 2, 0, 2, 2, 2, 2, 2, 0, 2, 2, 2, 0, 2, 2, 2, 2, 2, 2, 2, 2, 2, 2, 2, 2, 2, 2, 2, 2, 2, 2, 2, 2, 0, 2, 2, 1, 2, 2, 2, 1, 2, 2, 0, 2, 2, 2, 2, 2, 2, 2, 2, 2, 2, 2, 0, 2, 2, 0, 2, 0, 2, 2, 2, 2, 2, 2, 2, 2, 2, 2, 2, 2, 2, 2, 2, 2, 0, 2, 2, 2, 2, 2, 0, 2, 2, 2, 0, 2, 2, 2, 2, 2, 1, 2, 2, 2, 2, 2, 2, 2, 2, 0, 2, 2, 2, 2, 2, 2, 2, 2, 0, 2, 2, 2, 2, 2, 2, 2, 0, 2, 2, 2, 2, 2, 2, 2, 2, 2, 0, 2, 2, 2, 2, 2, 2, 2, 0, 2, 2, 2, 2, 2, 2, 2, 2, 2, 2, 2, 2, 2, 2, 2, 2, 2, 2, 2, 2, 2, 2, 2, 2, 2, 0, 2, 0, 0, 0, 2, 2, 2, 2, 2, 1, 2, 0, 2, 2, 2, 2, 0, 2, 2, 2, 2, 2, 2, 0, 2, 2, 0, 2, 0, 2, 2, 2, 2, 0, 2, 0, 2, 2, 2, 2, 2, 0, 1, 2, 0, 2, 2, 0, 2, 2, 2, 0, 2, 2, 2, 2, 2, 2, 2, 2, 2, 0, 2, 2, 2, 2, 0, 2, 0, 2, 2, 2, 2, 2, 2, 2, 2, 2, 2, 2, 0, 2, 1, 2, 2, 0, 2, 0, 2, 0, 2, 0, 2, 2, 2, 2, 0, 2, 2, 2, 2, 0, 2, 2, 2, 2, 2, 2, 2, 2, 2, 2, 2, 2, 1, 2, 2, 2, 2, 1, 2, 2, 2, 1, 1, 2, 0, 2, 2, 2, 2, 2, 2, 2, 0, 2, 2, 2, 2, 2, 2, 2, 2, 2, 2, 2, 0, 2, 0, 2, 2, 2, 0, 2, 2, 0, 2, 2, 0, 0, 2, 2, 2, 0, 0, 2, 2, 1, 2, 0, 0, 2, 2, 2, 2, 2, 2, 2, 2, 2, 2, 2, 2, 0, 2, 1, 2, 2, 2, 2, 2, 2, 2, 2, 2, 2, 2, 2, 2, 2, 2, 2, 2, 2, 2, 0, 2, 2, 2, 2, 0, 2, 2, 2, 2, 2, 2, 2, 2, 2, 2, 2, 2, 2, 2, 2, 2, 2, 1, 2, 2, 2, 2, 2, 1, 2, 2, 2, 2, 2, 2, 2, 2, 2, 2, 2, 2, 2, 2, 2, 0, 2, 2, 0, 1, 1, 2, 2, 2, 2, 2, 2, 2, 2, 1, 2, 2, 0, 2, 0, 2, 2, 2, 2, 1, 2, 2, 2, 2, 2, 2, 2, 2, 2, 2], \"colorscale\": [[0.0, \"#440154\"], [0.1111111111111111, \"#482878\"], [0.2222222222222222, \"#3e4989\"], [0.3333333333333333, \"#31688e\"], [0.4444444444444444, \"#26828e\"], [0.5555555555555556, \"#1f9e89\"], [0.6666666666666666, \"#35b779\"], [0.7777777777777778, \"#6ece58\"], [0.8888888888888888, \"#b5de2b\"], [1.0, \"#fde725\"]], \"line\": {\"width\": 1}}, \"mode\": \"markers\", \"type\": \"scattergl\", \"x\": [-1.030694842338562, 0.6498593091964722, -0.8198955059051514, -0.8803237676620483, -0.835060179233551, -0.6778616905212402, -0.5971055030822754, -0.3982221782207489, -0.8817258477210999, -0.6688490509986877, -0.7863383293151855, -0.855400562286377, -0.8514675498008728, -0.7989996671676636, -0.5572425723075867, -0.8346160650253296, -0.8034085631370544, 1.96389639377594, -1.3834161758422852, -0.8576618432998657, -0.828132152557373, -0.4451407194137573, 1.5781596899032593, -0.8496377468109131, 0.1265905201435089, -0.7681877613067627, -1.2661895751953125, -0.8155621886253357, 1.5612869262695312, 1.410112738609314, -0.5055839419364929, 4.152735233306885, 1.8380330801010132, -1.4732730388641357, 0.8133737444877625, -0.7772437334060669, -0.8090794682502747, -1.2581621408462524, -1.2212066650390625, -0.7808055877685547, -0.8127011656761169, 0.7243488430976868, -1.064410924911499, -0.8179083466529846, 3.123459815979004, -0.6751225590705872, -0.8385212421417236, 0.21889139711856842, -0.2540757954120636, -0.7955135107040405, -0.8837702870368958, -0.8682928085327148, -0.886276125907898, -0.5474184155464172, -0.47768619656562805, -0.8982449769973755, 1.1819024085998535, -1.1618001461029053, -1.1827999353408813, -0.8355230689048767, -0.8357453942298889, -0.5656710267066956, 1.9308377504348755, 4.186648845672607, 5.9829511642456055, -0.8440889120101929, -0.5885555148124695, 4.982837677001953, 0.10166115313768387, 0.9436349868774414, -0.9076565504074097, -0.8510578274726868, -0.8533712029457092, 0.04398191347718239, -0.8477662801742554, -0.8665285706520081, -0.7949030995368958, 2.5049054622650146, -1.4980946779251099, -0.4202843904495239, -0.806523859500885, -1.1735621690750122, -0.8344536423683167, -0.8293837904930115, -1.305346965789795, -0.8243241310119629, -0.8507254123687744, -0.41319671273231506, 56.7866096496582, -0.37466272711753845, -0.8452733159065247, -0.3214227259159088, 0.8827784657478333, -0.4878300130367279, -0.7136188745498657, -0.5179161429405212, -1.1121023893356323, -0.8305718302726746, -0.1686803251504898, 0.31529682874679565, -0.23540544509887695, -0.7991849184036255, -0.6064673662185669, -0.8854842782020569, -0.8721023797988892, -0.8429288268089294, -0.41602247953414917, -0.7970125079154968, -1.0364471673965454, -0.825589120388031, 0.013920159079134464, -0.5781288146972656, -0.8168748617172241, -0.7390697002410889, -1.210227131843567, -0.8313378691673279, -0.7056328058242798, 0.6033656597137451, -1.0052281618118286, 1.3286176919937134, -0.834675669670105, -0.8446909189224243, -0.9120698571205139, -0.33920058608055115, -0.5680558085441589, -0.8265469074249268, 0.1246248185634613, -0.8725283741950989, -0.7904571890830994, -0.8312873244285583, -0.7151003479957581, -0.8318540453910828, -0.6767829656600952, -1.0681453943252563, -0.8611148595809937, -0.669788658618927, -0.569530189037323, -0.9507511258125305, -1.7399585247039795, -0.8042747974395752, -0.63233482837677, -1.5268845558166504, -0.9070944786071777, -1.0603668689727783, 1.112809419631958, -0.8669677972793579, -0.8303661346435547, -0.8443605899810791, -0.6002346277236938, -0.7469527125358582, 5.73710298538208, -0.9905759692192078, -0.858738899230957, -0.7806340456008911, -0.8368706107139587, -0.24618171155452728, -0.842852771282196, -0.16120575368404388, -1.1439545154571533, -0.44888076186180115, -0.7126285433769226, -0.8698045611381531, 0.39217957854270935, 5.274653911590576, -0.8474432229995728, 0.028163840994238853, -0.8209337592124939, -0.8264579176902771, -0.6754601001739502, 1.0664640665054321, -0.8143104910850525, -0.8365519046783447, -0.26459112763404846, -0.6942776441574097, -0.7770333290100098, 7.602612018585205, -1.1438707113265991, 3.080573558807373, -0.7059008479118347, -0.29211506247520447, -0.5783881545066833, -0.8531149625778198, -0.8603501915931702, -0.8561738133430481, -0.8076322674751282, 6.241546154022217, 0.13305065035820007, -1.0755103826522827, -0.835228443145752, 1.204048752784729, -0.6074080467224121, -0.8678297400474548, -0.8191909790039062, -0.9084432125091553, -2.0343732833862305, -0.7460920810699463, -0.826180636882782, -0.857288122177124, -0.6144885420799255, 4.909824848175049, -0.4283975064754486, -0.8467243909835815, -0.8293890953063965, -1.05961275100708, -0.9328387379646301, 0.11111564189195633, -0.14943450689315796, -1.1253774166107178, -0.7574337124824524, 0.8428274989128113, -0.7998935580253601, -0.8673454523086548, 1.8371163606643677, -0.7349019050598145, -0.09139395505189896, 0.463126540184021, -0.8328803777694702, -0.6419022083282471, -0.9318340420722961, -0.8145523071289062, -1.3072465658187866, -1.1626259088516235, -0.834846556186676, -1.2263622283935547, -1.1508729457855225, 9.179059028625488, -0.822156548500061, -0.7987935543060303, -0.8153117299079895, 1.657116413116455, 3.738253593444824, 0.22013777494430542, -0.8348292112350464, -0.692435622215271, -0.835723876953125, -0.8107108473777771, -0.7389671802520752, -0.7997229099273682, -0.3702854812145233, -0.5952120423316956, -0.748883843421936, -0.7593395709991455, -0.826206624507904, -1.3387813568115234, -0.6638436913490295, -0.8660829067230225, -0.833895206451416, -0.5315214395523071, -0.813224732875824, -0.8807423710823059, 2.7118895053863525, -0.929043710231781, -0.6777790188789368, -0.8146448731422424, 0.5643912553787231, -0.6995000839233398, -0.8714595437049866, 0.2781660258769989, -0.6335530877113342, -0.9056012630462646, -0.8064990639686584, 2.2705612182617188, -0.42019060254096985, -1.0624489784240723, 0.2802426815032959, -0.7121472954750061, -0.8229088187217712, -0.858977198600769, -0.8205703496932983, -0.06167607381939888, -0.7875889539718628, -1.326438069343567, -0.882038414478302, -0.023836279287934303, 4.403806209564209, -0.052339959889650345, -0.851897656917572, -0.8231023550033569, -0.5445097088813782, -0.8361596465110779, -0.9007314443588257, -0.8354238271713257, -0.8382401466369629, 3.8725273609161377, 0.379715234041214, -0.8818055987358093, -0.8760246634483337, -0.6228761672973633, -0.774646520614624, -0.8598552346229553, -1.3106821775436401, -0.8047984838485718, -0.8308499455451965, -0.8368255496025085, -0.7372890114784241, -0.72584068775177, -0.8471480011940002, -0.6168015599250793, -0.8351008892059326, -0.8057515621185303, -0.888171911239624, -0.7568187713623047, 6.048715114593506, -0.8057030439376831, -0.9675038456916809, -1.0051112174987793, -0.8568840622901917, -0.8402438759803772, -0.8566119074821472, -0.839573323726654, 3.269124984741211, -0.8452056050300598, -0.6314254403114319, -0.7841273546218872, -0.9059485197067261, -0.8037776350975037, -0.8550208806991577, 6.062063217163086, -0.8641977906227112, -0.7784057855606079, -0.34555625915527344, -0.9009221792221069, 0.32133030891418457, -0.45780783891677856, -0.8628283739089966, -0.851420521736145, -1.1782941818237305, 0.16691754758358002, 0.4672928750514984, 1.7761818170547485, 0.967018723487854, -0.6618160009384155, -0.8646177649497986, -0.8618202805519104, -0.8295636773109436, -0.9442145824432373, -0.4401698112487793, 0.6729806661605835, -0.7134143114089966, -0.5291699171066284, -0.8665739893913269, -1.8067809343338013, -0.9376647472381592, -0.7437883615493774, 1.663278579711914, 0.7547379732131958, 4.870218276977539, -0.8351502418518066, -1.4722511768341064, -0.504456102848053, -0.7921285629272461, -2.3102760314941406, -1.2509418725967407, -0.7613055109977722, -0.85647052526474, -0.7293990254402161, 0.6165986061096191, -0.8653620481491089, -0.541767418384552, 0.7597119808197021, 2.0678205490112305, -0.9961054921150208, -0.6299446821212769, -0.8403167128562927, -0.8393225073814392, -0.6326702237129211, -1.0877522230148315, -0.7587200999259949, -0.8216492533683777, -0.10226528346538544, -1.6199439764022827, 1.3901379108428955, -0.8686126470565796, -0.6821104884147644, -0.5905765891075134, 0.2682189345359802, 5.920902729034424, 2.7915077209472656, -0.8367308974266052, -0.6075932383537292, 0.364206463098526, -0.0744735449552536, -0.8199480175971985, 0.5205615758895874, 1.4513570070266724, -0.7290427088737488, -0.8558777570724487, -0.8065016865730286, 1.3411097526550293, -0.8115193247795105, -0.8616701364517212, 1.8923181295394897, -0.045314811170101166, -0.8754017949104309, -0.8081153035163879, -1.1016106605529785, -0.8746503591537476, -0.38202282786369324, -0.5301206707954407, -0.9940822124481201, -0.36436545848846436, -0.8413634896278381, -0.572288990020752, -1.0680510997772217, -0.7641879916191101, 0.3500998914241791, 0.44178760051727295, 0.8345637321472168, -0.1117573231458664, -0.46171340346336365, -0.8075647950172424, -0.82736736536026, -1.0731412172317505, -0.771405816078186, -0.883770763874054, -0.8931769132614136, -0.9206650853157043, 10.716022491455078, -0.8302138447761536, -0.8400498628616333, -0.7631014585494995, 11.571776390075684, -0.8179992437362671, -1.2745424509048462, -0.7878825664520264, -0.5117633938789368, 0.25799286365509033, -0.6465476751327515, -1.0410785675048828, -0.8839492201805115, -0.7940486669540405, 0.6435467004776001, -0.7021645903587341, -0.8460395932197571, -0.9197486639022827, 4.7748823165893555, -0.4963722825050354, -0.6788439750671387, -0.8647580146789551, 0.7112408876419067, 0.08487003296613693, 1.0440614223480225, -0.8459510803222656, -1.3811107873916626, -0.820652961730957, -0.9365631937980652, -0.031745605170726776, -0.8512154817581177, -0.6779149174690247, 0.06731472909450531, -0.28096798062324524, -0.8087716102600098, -0.8768483400344849, -0.8427932858467102, -0.8419985175132751, 0.5852784514427185, -0.10702411085367203, -0.9173083901405334, -0.8176462054252625, -0.6344307661056519, -0.8374354839324951, -1.084506869316101, 14.602508544921875, -0.5652104020118713, -0.5452064275741577, -0.8232656717300415, -1.2394824028015137, -0.9321048855781555, -0.754264771938324, -1.0308159589767456, -0.4374343454837799, 1.6289753913879395, -0.9980518817901611, 0.5119364261627197, 2.512242555618286, -0.6286796927452087, 1.171289324760437, -0.8262141346931458, -0.747161865234375, -0.7989444732666016, -0.8589362502098083, -0.3369375467300415, -0.904060423374176, -0.814307451248169, -0.8354975581169128, 2.9918103218078613, -0.7566770911216736, -0.73453289270401, -0.7254804372787476, -0.9151726961135864, -0.9227724075317383, -0.7946094870567322, 1.4235870838165283, -1.0480519533157349, -0.9868515729904175, -0.7805361151695251, 3.7534360885620117, -0.9490830898284912, 0.9601618051528931, -0.5616751313209534, -0.3343263566493988, -0.8205673694610596, -0.853419840335846, -0.8337302207946777, -0.8003910183906555, -0.8416759967803955, 0.3646831810474396, -1.0170542001724243, -0.7874290943145752, -0.25851547718048096, -0.8623205423355103, -0.7689694762229919, -0.944056510925293, 1.8845908641815186, -0.8092893958091736, -1.4568480253219604, -0.9702842831611633, -1.7087243795394897, -0.13774797320365906, 0.3140658736228943, -0.855055570602417, -0.8393682837486267, -1.1068485975265503, -0.8096500635147095, -0.8403247594833374, -0.7777339816093445, -1.2099597454071045, -0.8350934386253357, -0.7355871200561523, -1.0884413719177246, -0.8346031904220581, -0.8782334923744202, -0.8211636543273926, -1.2447186708450317, -0.8764333724975586, -0.8447421193122864, -0.07809837907552719, -0.9414880871772766, -0.8344184756278992, -0.8039883375167847, -0.6889182329177856, -0.8132404088973999, -0.7529182434082031, -0.8393251895904541, -0.8540031313896179, -0.8633415102958679, 1.2372536659240723, -0.8090906143188477, 2.9104533195495605, -1.1942936182022095, -0.5617703795433044, -0.06921560317277908, -0.7421274781227112, -0.8289515972137451, -0.8372254371643066, -0.8057199716567993, -0.9437479376792908, -0.870786190032959, -0.8403921127319336, -0.7237104773521423, -0.8365519046783447, -2.1076767444610596, -0.7750681042671204, -0.7796505689620972, -0.8373787999153137, -0.8661633729934692, -0.7041432857513428, -0.8714467287063599, -0.4831303358078003, 1.0188920497894287, -0.8371087312698364, -0.7911477088928223, -0.8690798282623291, -0.8158129453659058, -1.0796107053756714, -0.9296257495880127, -0.6207002401351929, -0.4307693839073181, -0.8623107671737671, -0.7906087636947632, -0.9567477703094482, -0.957269549369812, -1.0460822582244873, 0.7610347867012024, -0.842091977596283, -0.8669238090515137, -0.8508656024932861, -0.815689742565155, -0.8422474265098572, -1.1782406568527222, -0.7824571132659912, -0.6358567476272583, -0.4966247081756592, -0.8441084027290344, -0.7024335861206055, -0.8250858783721924, -1.395857334136963, 3.8625974655151367, 0.1881144791841507, -0.6730203032493591, 3.8543174266815186, -0.5822808146476746, -1.1310659646987915, -1.2427514791488647, -0.8231453895568848, -0.8866381049156189, -0.8920979499816895, 3.1214382648468018, -0.8487223982810974, -0.883871853351593, -0.9198605418205261, -0.8210206031799316, -0.6814287900924683, -0.769706130027771, -0.8277298808097839, -0.8218604922294617, -0.48235687613487244, -0.8953107595443726, -0.8120686411857605, 4.15267276763916, 1.3000022172927856, -0.9030860662460327, 4.021435260772705, 1.0692497491836548, -0.8265952467918396, -0.7049113512039185, 17.280803680419922, -0.7610169649124146, 0.6297742128372192, -0.8511756062507629, -0.8151910901069641, -0.4787444472312927, -0.9625504016876221, -0.8580661416053772, 0.14044520258903503, -0.048771608620882034, -0.8552475571632385, -0.8190742135047913, -0.8423829078674316, -0.8313328623771667, -0.8522665500640869, -0.4372078776359558, -0.7574217319488525, -0.8218305706977844, -1.8527402877807617, -0.7551371455192566, -0.8276049494743347, -0.8308221101760864, -0.8034126162528992, -0.8728276491165161, 0.04331779479980469, -2.3858401775360107, -0.9342875480651855, -1.1599429845809937, 1.0658047199249268, -0.8145291805267334, -0.8751314282417297, -0.8627112507820129, -0.8442274928092957, -0.8095452785491943, -0.8554073572158813, -0.8209254145622253, 2.5669188499450684, -0.7920242547988892, 2.7973101139068604, -0.7777379155158997, -0.33444666862487793, -1.1416559219360352, -0.8200428485870361, -0.02813023328781128, -0.8437938690185547, -0.8400534391403198, -0.8396872282028198, 0.46419358253479004, -0.974036693572998, -0.2871292233467102, -0.42662733793258667, -0.8745673298835754, -0.8549526333808899, -0.7903411984443665, -0.47938573360443115, -0.0790882557630539, 0.524116575717926, -0.5182551145553589, -0.9278150200843811, -1.0493676662445068, -0.8187907338142395, -0.8090871572494507, -0.9921711683273315, -0.8338267207145691, -0.98691725730896, -0.8436340093612671, 5.102483749389648, -0.9102796912193298, -0.8684571385383606, 1.87844717502594, -0.8647542595863342, -0.8344840407371521, -0.8185150027275085, -0.8993942737579346, 11.570398330688477, -0.6970993876457214, -0.8112542629241943, 0.09592820703983307, -1.0044063329696655, -0.8959845304489136, -0.8891828060150146, -0.8235800266265869, -0.8602833151817322, -1.2440882921218872, 3.340362787246704, -0.7832591533660889, 0.24058663845062256, -1.0709829330444336, -0.8708634972572327, -0.8766233921051025, -0.9036504030227661, -0.7967764139175415, -0.77555251121521, 2.183197498321533, -0.8403154015541077, 3.2601587772369385, -0.8362271785736084, -0.7223522663116455, -0.9326695799827576, -0.7488420605659485, -1.1251167058944702, -0.7485864758491516, -0.43412595987319946, -0.3463294804096222, -0.8229120373725891, -0.8196326494216919, -0.7939963340759277, 10.671355247497559, 1.505171537399292, -0.8085325956344604, 0.8218977451324463, 0.11586613953113556, -0.6569713950157166, -0.8376771807670593, -0.8505650758743286, -0.8108404874801636, -0.9710264801979065, -0.7685552835464478, -0.8332173228263855, -0.7107548117637634, -0.7925085425376892, 0.0725177675485611, -1.2951627969741821, -0.8475750088691711, -1.0917503833770752, 0.822361946105957, -0.8885306715965271, -0.830376148223877, -1.6260747909545898, -0.8418840765953064, -0.2711828947067261, -0.8189647793769836, -0.6999514102935791, -0.7315651774406433, -0.7395610809326172, -0.8240329027175903, -0.8474817276000977, -0.6475212574005127, -0.5846607089042664, -0.5019535422325134, -0.8668184280395508, -0.8499006032943726, -0.6558374762535095, -1.1320425271987915, -0.9204233288764954, -0.8774670958518982, -0.7453734874725342, -0.817639946937561, -0.2123802900314331, -0.8606425523757935, -1.1309208869934082, 14.740630149841309, -0.676968514919281, -0.5911940932273865, -0.46165430545806885, -0.9161274433135986, -0.852240800857544, -0.8308199644088745, -0.7648620009422302, -0.7512851357460022, -0.8880636096000671, -0.8495301008224487, -0.8662338852882385, -0.8170453906059265, 0.6456144452095032, -0.8588911294937134, -0.8665100336074829, -0.8613431453704834, -0.8419858813285828, -0.8338139057159424, 0.0971052348613739, -0.7500745058059692, -0.021430136635899544, -0.7282304167747498, -0.42686423659324646, -0.9278901219367981, -0.8520376086235046, 1.4013255834579468, -0.8146592974662781, 0.7876196503639221, -0.75260329246521, -0.6754293441772461, -0.805759608745575, -0.8334744572639465, 0.338522344827652, -0.8317980170249939, -0.6690230965614319, -1.1989123821258545, 0.1140076071023941, -0.4136883318424225, -1.0129940509796143, -0.7504788637161255, -0.8179110288619995, -1.2154428958892822, -1.1812591552734375, 9.898941040039062, 10.138909339904785, -0.8387916088104248, -0.8480427265167236, 2.3082351684570312, -0.8124813437461853, -0.8551586270332336, -0.8293805718421936, -0.9700247049331665, -0.7637113928794861, -0.7865411639213562, -0.88796067237854, -0.8535690307617188, -0.7460470199584961, -0.8448858857154846, -0.7075014114379883, -0.709896445274353, -0.8282063007354736, -0.7859286069869995, -0.35645464062690735, -0.6826043128967285, -0.8587968349456787, 7.403987407684326, 3.9818661212921143, -1.0254913568496704, -0.8562793731689453, -0.8311363458633423, -1.258003830909729, -0.8379030227661133, -0.7770550847053528, -0.0010405508801341057, -0.9440208673477173, -0.8759945034980774, -0.8609254956245422, 8.607963562011719, -0.681310772895813, -0.8493244647979736, -1.1704686880111694, -0.7488951086997986, -1.671247959136963, -1.2043886184692383, 0.5116174221038818, -0.8798414468765259, -0.8298268914222717, -1.2582348585128784, -0.8018279075622559, -0.8221502304077148, -0.8100796937942505, -0.6736421585083008, -0.8369519710540771, -0.6804060339927673, -1.0177055597305298, 1.043386459350586, -0.8611078262329102, -0.6807430982589722, -0.7899743914604187, -0.8153690099716187, -0.8623062968254089, -0.830993115901947, -0.1159321591258049, -0.8772729635238647, -0.920188844203949, 0.4805297255516052, -0.8439381122589111, -0.8626100420951843, 0.9469895362854004, -1.146353006362915, 0.5979840755462646, -1.6343435049057007, -0.8363845348358154, -0.8329645395278931, -0.8308554887771606, -0.8495797514915466, -0.8859685063362122, -0.8661975264549255, -0.8288570046424866, -0.9203471541404724, 2.1711108684539795, -1.0968449115753174, -0.38954490423202515, -0.900235652923584, 0.12372525036334991, -0.798062264919281, -0.7734647393226624, 0.40692391991615295, -0.6769459247589111, 4.675678253173828, -0.8688386678695679, -0.8294751644134521, -0.7118642330169678, -0.737916111946106, -0.831855833530426, -0.09651999920606613, -0.9287658333778381, -0.8393021821975708, -0.9011183977127075, 2.6567068099975586, -0.8408787250518799, -0.8472513556480408, -0.6579296588897705, -0.397146075963974, -1.3798309564590454, -0.8298965096473694, -0.6620373129844666, -0.7934513092041016, 0.9286320209503174, -0.7968704700469971, -0.8270535469055176, -0.8596375584602356, -0.778761088848114, -0.3409874439239502, -0.8667577505111694, -0.5913504362106323, 3.5665242671966553, 0.5095067024230957, -0.5427377820014954, -0.7215567231178284, 1.3780689239501953, -0.26020967960357666, -0.8521490097045898, -0.9465450048446655, -0.8339951634407043, -0.702359676361084, -0.6991006135940552, -1.1563137769699097, -0.16368983685970306, 4.313860893249512, -1.0084357261657715, -0.6873418092727661, -0.5207499861717224, -0.8852165937423706, -0.8441481590270996, -0.8394155502319336, -0.29883283376693726, 12.824899673461914, -0.8725224137306213, -0.6436112523078918, 0.08752856403589249, 8.758865356445312, 4.039948463439941, -0.5960618853569031, -0.8395949602127075, 0.2913443446159363, 0.31850871443748474, 1.1942118406295776, 0.1011522114276886, -0.8618118762969971, -0.8496320843696594, -0.8480557203292847, 7.439669132232666, 0.0207047276198864, -1.780283808708191, 2.1226112842559814, -0.9291219115257263, -0.8463932871818542, 2.3535029888153076, -0.7630141377449036, -0.8263773918151855, -0.7835075259208679, -0.8440592885017395, -0.8308132886886597, 1.8701354265213013, -0.7493501305580139, -0.11607426404953003, 7.729228496551514, -0.841697096824646, -0.8436663150787354, -0.7372843027114868, -0.4105636477470398, -0.4846372604370117, -0.968614399433136, 8.950767517089844, -0.6180367469787598, -0.4031570851802826, -0.7736738920211792, -0.7609099745750427, -0.8936178684234619, -0.8099992871284485, -1.0373878479003906, -1.242995023727417, -0.8163355588912964, 2.5939643383026123, -0.7423128485679626, -0.8806802034378052, -0.9477624297142029, -1.0862640142440796, -0.8443136215209961, -0.8159086108207703, -1.0687282085418701, -0.48583945631980896, -0.9820750951766968, -0.8274549841880798, -0.8369324803352356, 0.6847979426383972, -0.6320623159408569, -0.836904764175415, -0.7927771806716919, 0.006817876361310482, 0.30228838324546814, -0.7474650144577026, -1.1173889636993408, -0.8254061341285706, 1.0490977764129639, -0.8318133354187012, 1.2470232248306274, -0.4774651825428009, -0.5286789536476135, 0.35357096791267395, 0.4607855975627899, -0.8561290502548218, 1.344950795173645, 1.3557099103927612, -0.8432386517524719, -0.877518355846405, -0.8682950735092163, -0.8264204263687134, -0.870589017868042, -0.7370899319648743, -1.0687090158462524, -0.8693971633911133, -0.7565251588821411, -0.6497492790222168, -0.9675295948982239, -0.1461343616247177, -0.8762951493263245, -0.6917909383773804, -0.8411298990249634, -0.1410776823759079, -0.5599948167800903, -0.8876538872718811, -0.8280042409896851, -0.8204113841056824, -0.7839139699935913, -0.6489403247833252, -0.9349477291107178, 0.08891347795724869, -0.8352125883102417, -0.4883290231227875, -0.4260839521884918, -0.8209280967712402, -0.7557646036148071, -0.023805197328329086, -0.7397783398628235, -0.09979846328496933, -1.2174530029296875, -0.06261561810970306, -0.869572103023529, -0.9628307223320007, -1.1915816068649292, -0.649831235408783, -0.9061251282691956, -1.0222712755203247, 0.7127971649169922, -0.5957944393157959, 0.4585704505443573, 5.359779357910156, -0.37895286083221436, -0.06940504908561707, -0.8242385983467102, 6.86793327331543, -1.1835839748382568, -1.9112387895584106, -0.7447455525398254, 0.3109511435031891, -0.8913848400115967, -0.8351994752883911, 1.5048243999481201, -0.820543646812439, -0.8515187501907349, -0.8746184706687927, -1.0624406337738037, -1.1279370784759521, 6.820300102233887, 0.062052253633737564, -0.8120887875556946, -0.8202638030052185, 0.9835352301597595, -1.2175949811935425, -0.8526222109794617, -0.4532134234905243, -0.8426626920700073, -0.8132228851318359, -0.588135302066803, -0.45081302523612976, -0.41174474358558655, -0.35177895426750183, -0.8904736638069153, -0.8254919052124023, -0.8663099408149719, -0.2825494706630707, -1.3126327991485596, 5.889914512634277, -0.6633082032203674, -0.8291574716567993, -0.8466152548789978, -0.8763218522071838, 1.553395390510559, -0.8634538054466248, -0.8333467245101929, -0.7931049466133118, -1.1544595956802368, 0.47116726636886597, -0.8402488827705383, -0.8097172975540161, -0.8440617322921753, 0.9727773070335388, -0.8425789475440979, -0.8133926391601562, -0.8169458508491516, -0.8273708820343018, -0.9494336247444153, -0.8607597351074219, -0.7422342300415039, -0.9760711193084717, 0.001959181157872081, -0.8279355764389038, -0.022944491356611252, -0.21724717319011688, -0.8281022310256958, -0.7795937657356262, 1.45924973487854, 0.9055313467979431, 2.3655214309692383, 4.335965156555176, -0.9064100980758667, -0.9137523174285889, 0.35061120986938477, -0.8075569272041321, -0.8396837711334229, -0.7480800151824951, -0.8462300896644592, -0.9149996638298035, -0.8534113168716431, -0.7825709581375122, -0.8318852782249451, -0.8834324479103088, -1.1677933931350708, -0.6689577102661133, -0.8725022077560425, -0.6441010236740112, -0.7748886346817017, -0.6606593132019043, -0.6815559267997742, 0.27599281072616577, -0.870547890663147, -0.6599142551422119, -0.719253420829773, -0.8338911533355713, -0.5741075277328491, -0.6835058927536011, -0.8318101167678833, -0.8795526027679443, -1.1591960191726685, -1.2296314239501953, -1.0226423740386963, 2.8333141803741455, -0.8346291184425354, -1.2165446281433105, -0.8431548476219177, -0.9198330640792847, -0.008384179323911667, -0.7829762697219849, -0.992350161075592, -0.8305841088294983, -0.8652088046073914, 6.089080810546875, -0.9255511164665222, -0.16825202107429504, -0.8927093744277954, -0.5124748349189758, -0.5058690905570984, -0.7191331386566162, 0.6423017978668213, -0.7887953519821167, -0.6903980374336243, -0.6926126480102539, -0.8573054671287537, -0.8345939517021179, -0.8384616374969482, 0.12247976660728455, -0.8376641273498535, -0.2455456554889679, -0.7783330678939819, -0.8566446900367737, -0.7702969908714294, -0.7817555069923401, -0.2178434282541275, -0.6972344517707825, -0.9050157070159912, -0.887285590171814, 0.4332614839076996, 0.711704432964325, -0.15271437168121338, -0.84170001745224, -1.3698456287384033, -1.2100496292114258, -0.8403488397598267, -0.724692165851593, -0.7200328707695007, -0.7154198884963989, -0.4853448271751404, 11.831114768981934, 0.797359049320221, -1.2353769540786743, -0.4829811751842499, -1.1313015222549438, 1.1792447566986084, -0.79130619764328, -0.752032458782196, -1.0776848793029785, -0.8397969603538513, 4.281308174133301, -0.8469173312187195, -1.2652592658996582, -0.847728431224823, -0.9324685335159302, -0.8248760104179382, -0.6732566356658936, 2.727169990539551, -0.6225340366363525, -1.0431678295135498, -0.84112149477005, 0.001971643418073654, -0.893933892250061, -0.9246536493301392, -0.9532246589660645, -0.4628785252571106, 0.4304022192955017, -0.6593557000160217, -0.8612942099571228, -0.9033674001693726, -0.8384441137313843, -0.7626078128814697, -0.8845542669296265, -0.8408188223838806, -1.1619818210601807, -0.554047703742981, -0.6511753797531128, -0.8398253917694092, -0.8825343251228333, -0.8474198579788208, -0.4172463119029999, -0.8957667350769043, -0.710017740726471, -0.9420500993728638, 5.969831466674805, -0.9869513511657715, -0.8697881698608398, -0.6496045589447021, -0.832064151763916, 0.3785601854324341, 23.17059898376465, -0.8204308748245239, -0.8348079919815063, -0.8900834321975708, -0.7638747096061707, -0.22552521526813507, 0.9146928787231445, -0.8400517702102661, -0.855055570602417, -0.8166643977165222, -0.9235531091690063, -0.6608630418777466, -0.8368797302246094, 2.184800148010254, -0.9361003041267395, -0.8445964455604553, -0.8061324954032898, -0.8490585684776306, -0.6273654103279114, -0.7299894094467163, -0.7089399099349976, -0.1932089775800705, -0.7968853116035461, -0.7945375442504883, -0.6603350043296814, -0.6204060912132263, -1.2836252450942993, -0.8347939252853394, -0.8443220257759094, -0.7156558632850647, -0.8124552369117737, -0.946755588054657, -0.09228644520044327, -1.284125566482544, -0.4122515320777893, 1.0556097030639648, -0.8758833408355713, -0.8608281016349792, 27.122556686401367, -0.8278213143348694, -0.4775509834289551, -0.9969897866249084, -1.0081266164779663, -0.7802602648735046, -0.5574162602424622, -0.7378982305526733, -0.8209755420684814, -0.6186982989311218, -0.7031539678573608, -0.8454886674880981, -0.8026056289672852, 8.240461349487305, -0.8242467045783997, -0.36264920234680176, -0.754511296749115, -0.44218409061431885, -0.5959725975990295, -0.7963235974311829, -0.7492805123329163, -0.41059285402297974, -0.009828496724367142, -0.9082600474357605, 21.51834487915039, -0.7493987679481506, -1.0147762298583984, 0.24221408367156982, -0.42965057492256165, 3.9014854431152344, 4.21022367477417, -1.5797802209854126, -0.927012026309967, -0.8073856830596924, 0.6102028489112854, 1.4843651056289673, -0.8363985419273376, -1.0765060186386108, -0.8247431516647339, -0.28026536107063293, -0.8812576532363892, -0.9867490530014038, -0.852047860622406, 0.19771622121334076, -0.8707693815231323, -0.5594582557678223, -0.8949681520462036, -0.8349224328994751, -0.8590754270553589, -0.8261029124259949, -0.8293644785881042, -0.8184961080551147, -0.5988960266113281, -1.132230281829834, -0.7906066179275513, -0.8887351155281067, -1.9664462804794312, -0.8966391086578369, -0.5315300226211548, -0.8222241401672363, -0.732090413570404, -0.9011631608009338, 0.46969226002693176, -0.8403113484382629, -0.8293837904930115, 0.6046827435493469, -0.7401432991027832, -1.259508490562439, -0.3323741853237152, 3.208796262741089, -0.8289505243301392, -0.9252825379371643, 0.32348915934562683, -0.7688550353050232, -0.8509622812271118, -0.8495273590087891, 0.0442265085875988, -0.821295440196991, 0.19186054170131683, -0.8298298120498657, -0.8412519693374634, 0.5801260471343994, -1.1343647241592407, -0.8280797004699707, -0.5557278394699097, -0.825688362121582, -0.8809053897857666, -0.8683300018310547, -0.8534228801727295, -0.6704134345054626, -1.344499945640564, -1.073018193244934, -0.5740976333618164, -0.9600776433944702, -0.4284495413303375, -1.1193023920059204, -0.5762376189231873, -0.6729907393455505, -0.8351742625236511, 12.712678909301758, -0.44061052799224854, -0.9016757607460022, -0.8454903364181519, -0.6652805209159851, -0.8174198269844055, -0.8482434749603271, -1.519614338874817, -0.7807438373565674, 0.20313531160354614, -0.7788574695587158, -1.3280713558197021, -0.6861632466316223, -0.0599851980805397, -0.5753422975540161, -0.8642798662185669, -0.7750468850135803, -0.8693963885307312, -0.81345534324646, -1.2036476135253906, -0.8411725759506226, 1.1464706659317017, -0.6098255515098572, -1.2046003341674805, -0.8150343298912048, 0.9386799335479736, -0.09228459745645523, 8.223050117492676, -0.8284410238265991, 5.451189994812012, -0.7188141345977783, -0.8634538054466248, 3.5010056495666504, 0.40546396374702454, -0.7855073809623718, -0.8643948435783386, -0.793527364730835, -0.7467318177223206, -0.8515812754631042, -0.8534926772117615, -0.18901076912879944, 0.041468869894742966, -0.7865598797798157, -0.8839318752288818, -0.934586226940155, -0.6657466888427734, -0.38015398383140564, 1.269497275352478, 1.1528337001800537, -0.8175687193870544, 0.1553223431110382, -1.1318827867507935, 0.9868490695953369, -0.7951576113700867, -0.8896598815917969, -0.8105692267417908, 0.9491893649101257, 3.76664662361145, -0.876456618309021, -0.23810994625091553, -0.9228660464286804, -0.7762183547019958, -0.8621309399604797, -0.8477662801742554, 0.9586746692657471, -0.830610990524292, -0.5028529167175293, -0.7981457710266113, -0.768643319606781, -0.8262001872062683, -0.8745532035827637, 0.04272758588194847, -0.8073334097862244, -0.46807634830474854, -0.8825362324714661, -0.8364316821098328, -0.790080726146698, 0.5769752860069275, -0.3414864242076874, -0.7473728656768799, -0.10759202390909195, -0.9930093288421631, -0.8426382541656494, -0.8310192823410034, -0.8377144932746887, -0.8398448824882507, -1.1703842878341675, -0.7872089147567749, -0.7341979146003723, -0.6281581521034241, -0.17069649696350098, -0.5567433834075928, -0.3172513544559479, -0.8613452911376953, 2.424490213394165, -0.7839570045471191, -0.8257126808166504, -0.7416056394577026, -0.8386901021003723, -1.1008570194244385, -0.7564125061035156, -0.5700978636741638, -0.1330047845840454, 0.4561646580696106, -0.859032928943634, -0.7128080725669861, -0.8230993747711182, -0.7899948954582214, -0.5820720195770264, -0.2447725534439087, -0.8666889667510986, -1.0492218732833862, -0.8720962405204773, -0.01596219092607498, -0.7293809056282043, 7.8905415534973145, -0.6838542819023132, -0.8058419227600098, -0.8264481425285339, -0.8388448357582092, 8.950298309326172, -0.4106549322605133, -0.7940734028816223, -0.8856687545776367, -0.24490006268024445, -0.8420079946517944, -0.8398728370666504, -1.276281714439392, -0.8408937454223633, -0.8130242824554443, -0.805625319480896, -0.13751189410686493, -0.7511045932769775, -0.790302574634552, -0.8890981674194336, -1.1319807767868042, -0.6247923970222473, -0.6031885147094727, -1.0172263383865356, -0.8766877055168152, -1.2415087223052979, -0.8545655012130737, 0.4373098611831665, -0.8223676085472107, 0.45348888635635376, -0.18834815919399261, -0.6826608777046204, -1.2731214761734009, -0.7989044785499573, -0.49824807047843933, 1.2494957447052002, -0.9821441173553467, 1.498004674911499, -0.8097066283226013, 1.0132062435150146, -0.8090102672576904, -0.8177019953727722, -0.7159537076950073, -0.8328919410705566, -0.7139891386032104, -1.2181432247161865, 0.18871256709098816, -0.6077337861061096, -0.7313137054443359, -0.8075001239776611, -0.8179103136062622, -1.2514762878417969, -0.8290315270423889, -0.04673302546143532, -0.7866902947425842, -0.7423098087310791, -0.644440233707428, -0.8416972756385803, -0.5565820932388306, -0.8596406579017639, -0.8385953307151794, -0.8815925121307373, -0.8769079446792603, -0.976491391658783, -0.6691202521324158, -1.1618378162384033, -0.6778241991996765, -0.9915074110031128, -0.8523665070533752, 0.6758530139923096, -0.7446094155311584, 0.14614994823932648, -0.7594920992851257, -0.7083553075790405, -0.8445600867271423, 1.0858361721038818, -0.8548736572265625, -0.09991928189992905, -0.8503636121749878, -1.1826292276382446, -1.2233723402023315, -0.8772129416465759, -0.8833667039871216, -0.8394260406494141, -0.7907490134239197, 2.322338581085205, 15.885123252868652, -0.8918488025665283, -0.8441449999809265, -0.5310955047607422, -1.4423269033432007, -0.42138367891311646, 0.6990004777908325, -0.9243956208229065, -0.823661208152771, -0.9254317879676819, -0.6472053527832031, -0.22370855510234833, -0.8720611929893494, -0.9043623208999634, -0.5417011976242065, -0.8228803873062134, -0.8626341223716736, -0.828109085559845, -0.9246060848236084, -0.9219102263450623, -0.6596513986587524, -0.8818668723106384, -0.8285740613937378, -0.6788328886032104, -0.8505247235298157, -0.808262288570404, -0.674471914768219, -0.647150993347168, -0.7497938275337219, -0.8370206952095032, 0.4253843128681183, -1.9755463600158691, -0.8065731525421143, -0.9568703174591064, -0.8240433931350708, 0.6406372785568237, -1.0169886350631714, -0.3770811855792999, -0.6847482323646545, -0.7030751705169678, -0.8462668657302856, -0.8417862057685852, -0.7730025053024292, -0.8543742299079895, -0.8243762254714966, -0.8492377996444702, -0.865281879901886, -0.6291202902793884, -0.4153090715408325, -0.8589514493942261, -0.48806658387184143, -0.6537878513336182, -0.8363470435142517, 0.732191264629364, 11.363286018371582, -0.8093145489692688, -0.7165213227272034, -0.8199536204338074, -0.393193781375885, -0.3948761820793152, 0.4384610056877136, -0.3871137499809265, -0.878675103187561, -0.6276177763938904, -0.6351938247680664, -1.0558570623397827, -0.6462143659591675, -0.8097485303878784, -0.8756654262542725, -1.2506890296936035, 1.9772685766220093, -0.2640532851219177, -0.9173669219017029, 0.6251125931739807, -1.0132036209106445, 3.573152780532837, -1.2066155672073364, -0.8494255542755127, -1.3996074199676514, -0.8061283826828003, -0.4330497682094574, -0.3300827145576477, 16.225910186767578, 7.934957504272461, -0.7984803915023804, 0.6624384522438049, -0.8324858546257019, -1.0256527662277222, -0.8449848890304565, 1.9829963445663452, -0.2279386818408966, -0.8187862634658813, -0.7282770276069641, -0.8011664748191833, -0.7202168703079224, -1.115857481956482, -0.6993675827980042, -0.8597716689109802, -0.7997088432312012, -0.5132055282592773, 0.5511168241500854, -0.8097172975540161, -0.8445826172828674, -0.6806442737579346, 25.310684204101562, -0.8327109813690186, 0.04027378559112549, 2.2720863819122314, 4.778743267059326, -1.0406028032302856, -0.822562038898468, -0.6376066207885742, 1.645965576171875, -0.6878087520599365, 0.8233281373977661, -0.8670183420181274, 15.499810218811035, -0.8354975581169128, -0.5740074515342712, -1.038720965385437, -0.747519314289093, -0.8036851286888123, -0.3238234221935272, -0.8744211196899414, -0.8514350652694702, -0.5538638234138489, -0.8674558997154236, 1.7131476402282715, -0.5235912799835205, -0.4227784276008606, -0.9532777070999146, 4.366194248199463, -1.1311960220336914, -1.0149238109588623, -1.0446646213531494, -0.783684492111206, -0.831034779548645, 1.2530851364135742, 0.9688318371772766, -0.7186384797096252, 3.279921293258667, 0.07754569500684738, -0.8083409070968628, -0.8491907715797424, -0.7961906790733337, 0.43138718605041504, -0.29588988423347473, -0.7615812420845032, -0.879774272441864, -0.6745653748512268, -1.0154370069503784, 0.0557364895939827, -1.115945816040039, -0.8165239691734314, -0.7515161037445068, -0.8450318574905396, -0.8561561703681946, -0.8068061470985413, -0.9120964407920837, -0.9130184650421143, -0.8342987895011902, 3.70580792427063, 0.675845205783844, -0.7559963464736938, -0.8136500716209412, -0.8270189166069031, -0.4109669625759125, -0.8363815546035767, -0.2602459192276001, -0.38929483294487, -0.5226758122444153, -0.8099895715713501, -0.6922513246536255, -1.137413501739502, -0.7996112704277039, -0.3978610038757324, -0.7519879937171936, -1.1876429319381714, -0.8056525588035583, -0.84975665807724, -1.7222614288330078, -0.847851574420929, -0.7925920486450195, -0.8391461968421936, -1.0091326236724854, -0.9190164804458618, -0.7786994576454163, -0.826883852481842, 9.085798263549805, -1.1264760494232178, -0.2572888731956482, -0.683479368686676, -0.8209182024002075, 0.9212161898612976, 0.37608522176742554, -0.9569774866104126, -0.842214047908783, -0.6019670963287354, -0.8711591362953186, -0.7743598222732544, -0.6514451503753662, -0.7796164751052856, -0.8690536618232727, -0.46537813544273376, -0.7390922904014587, -1.0015358924865723, -2.1912457942962646, -0.1826356053352356, -0.8354842066764832, -0.9231195449829102, -0.6393396258354187, 0.3632175028324127, -0.8623201847076416, -0.7663725018501282, -0.8905876278877258, -1.1649525165557861, 4.284237861633301, -0.7244610786437988, -0.8398310542106628, -0.17549961805343628, -0.7493255138397217, -0.7736101150512695, -1.940610647201538, -0.849896252155304, -0.8295450210571289, -0.7806426882743835, -1.2219953536987305, -1.7102395296096802, -0.9556841254234314, -0.8383721113204956, 6.008145332336426, -0.3850243091583252, -0.8947209715843201, -1.2043827772140503, -0.1543739140033722, 0.6679335832595825, -1.0332027673721313, -0.6994019746780396, -0.5652260184288025, 0.03943141549825668, -0.7527933120727539, -0.8282167911529541, -0.4494156837463379, 1.0099669694900513, 0.18498718738555908, -0.840903639793396, -0.7247616648674011, -0.728837788105011, -0.47074565291404724, -0.8627750277519226, -0.9588428139686584, -0.7963187098503113, -0.7929012775421143, -0.7419945001602173, -0.7635759711265564, -0.818541944026947, -0.9250074028968811, 0.33433061838150024, 0.15770861506462097, -0.9120725393295288, 5.573592662811279, 0.10078246891498566, 0.5053391456604004, -0.8362120389938354, -1.0926992893218994, 2.665912628173828, -0.4632488787174225, -1.0637749433517456, -0.8476979732513428, -0.8097059726715088, -0.3796381950378418, -0.8126026391983032, -0.8571688532829285, 9.373658180236816, -1.1841129064559937, -0.8619057536125183, -0.9804568886756897, -0.8191937804222107, -0.8174297213554382, -0.05236391723155975, -0.8603198528289795, -0.9135319590568542, -0.7665063142776489, -0.8394959568977356, -0.8996145129203796, -0.8086618781089783, -0.641633152961731, -0.8438066840171814, -0.5898554921150208, 0.4367622435092926, -0.8414963483810425, -0.7387051582336426, -0.8140071034431458, 0.9796307682991028, 1.5732028484344482, -0.7213468551635742, 2.2467827796936035, -0.8693870902061462, 0.4111098051071167, -0.5056849718093872, -0.8192182183265686, -0.8429841995239258, -0.6260214447975159, 7.726803302764893, 0.9884467720985413, -1.083664894104004, -1.6799770593643188, -0.8467046618461609, -0.7181340456008911, -0.8355373740196228, -0.8606452941894531, -0.9180185198783875, -1.033103585243225, -0.8320246934890747, -0.8256253004074097, -0.8439260721206665, -0.6843512058258057, 16.587366104125977, -0.8571664094924927, -0.967354416847229, -0.6585426926612854, -0.9081555008888245, -0.634814441204071, -0.725546658039093, 0.3690676689147949, -0.8902830481529236, -0.8099514842033386, -0.5706210136413574, 0.1388191282749176, -0.8140000104904175, 0.012697302736341953, -0.5417870283126831, -0.6134260892868042, -0.7732650637626648, -0.7281346321105957, -0.8528218865394592, -0.9285851716995239, -0.1854322850704193, -0.867383599281311, -0.8562178611755371, -0.7186254262924194, -0.7665551900863647, -0.8362374305725098, 4.166480541229248, 0.3300948739051819, 0.590825080871582, -0.8402648568153381, 0.16897332668304443, -0.8711053729057312, 0.2959192097187042, -0.6953812837600708, -0.9171556234359741, -0.835262656211853, -0.844050943851471, -1.5848784446716309, -0.05154106765985489, -0.3757117986679077, -0.8503813743591309, -0.840261697769165, -0.8618770837783813, 0.4004921615123749, -2.4020869731903076, -0.7941786050796509, 0.6874483823776245, -0.8410322070121765, 3.6389052867889404, -0.8204225301742554, -0.7745002508163452, -0.9022179841995239, -0.8736680150032043, -0.7308283448219299, -0.31373265385627747, -0.7836840748786926, -0.5077935457229614, -0.8298900723457336, -0.6569827795028687, -0.8584476113319397, -0.6517151594161987, -0.8554836511611938, -0.21843521296977997, 2.619136333465576, -1.2150224447250366, -0.7195855379104614, -0.8407512903213501, -0.7828288674354553, 0.32632023096084595, -0.8101416826248169, -0.8638240098953247, -0.6109051704406738, -0.5413820147514343, -0.80637526512146, 4.077126502990723, -0.8350114226341248, -0.8695325255393982, -0.866718590259552, -0.752676784992218, -0.8609521389007568, -0.897192120552063, -0.8175188302993774, -0.8416447639465332, -0.7745469808578491, -0.962245762348175, 1.888360619544983, -0.8053430318832397, -0.8633109331130981, -0.9038199186325073, -0.8405774831771851, -0.6580665111541748, -0.8994253873825073, -0.7882315516471863, -0.8211236000061035, -0.4198908507823944, 8.681232452392578, -1.12674081325531, 4.972168445587158, -0.7315130829811096, -0.5197381377220154, -0.8448925614356995, -1.0470019578933716, -0.6445829272270203, -0.7745145559310913, -0.3324291706085205, -0.8247736692428589, -0.6638616919517517, -0.851163923740387, -0.8275905251502991, -0.587652862071991, -0.8119866251945496, -0.5599701404571533, -0.8438650369644165, -0.7426842451095581, -0.8221853971481323, -0.8216339945793152, -0.19838416576385498, 0.844883143901825, -0.8596375584602356, -0.9596244692802429, -0.8618202805519104, -1.1152722835540771, -1.0797137022018433, -0.8326403498649597, -0.5427777171134949, -1.021538496017456, -1.2769439220428467, -0.7414751648902893, -0.9690904021263123, -0.8072869181632996, -0.599898636341095, -0.8298617005348206, -0.7852539420127869, -0.7491949796676636, -0.3882727026939392, -0.6735919713973999, -0.8411890864372253, -0.8529715538024902, 4.4381303787231445, -0.809814989566803, 11.329556465148926, -0.8273479342460632, -0.825700581073761, -0.8303267359733582, 4.215925693511963, -1.3012515306472778, -1.008885145187378, -0.2003307044506073, 4.721576690673828, -0.7351455688476562, -0.8311248421669006, -0.8282780647277832, -0.8117126822471619, -0.8219050765037537, -0.997214138507843, 0.39484259486198425, 3.868056297302246, 0.19025008380413055, -0.890073299407959, -0.8302399516105652, -0.8665122985839844, -0.8139471411705017, 0.605501115322113, -0.8388545513153076, -0.8055029511451721, -1.6214781999588013, -0.8292014598846436, -1.5797172784805298, -0.904242992401123, -0.8380162119865417, -0.8765386939048767, -0.6709482669830322, -0.7688770890235901, -0.8279359936714172, 0.21628357470035553, -0.7761971354484558, -0.7008675932884216, -0.8414255380630493, -0.9859670996665955, -0.8147796392440796, -0.8359277844429016, 4.77146053314209, -0.8417003154754639, 2.7817182540893555, 13.927546501159668, -1.3514379262924194, -0.8297858834266663, 3.118567943572998, -0.8763218522071838, -0.7724702954292297, -0.8978899717330933, -0.7449221014976501, 8.30812931060791, 0.052976544946432114, -0.8494386076927185, -0.8363856673240662, -0.835257351398468, -0.7076190710067749, -0.8417242765426636, -0.8339161276817322, -0.856692373752594, -0.8837803602218628, -0.27784764766693115, -0.11526360362768173, -0.5528695583343506, 4.995503902435303, 3.4214048385620117, -0.6815370321273804, -0.8602285385131836, 8.549777030944824, -0.38774028420448303, 0.026763349771499634, 0.9434333443641663, -0.835991621017456, -0.9137083888053894, 0.10897676646709442, -0.8805528879165649, -1.0978671312332153, -1.0095881223678589, -0.8206804990768433, -1.021886944770813, -1.4354397058486938, -0.8278244733810425, -0.11142697185277939, -0.49126479029655457, -0.8447659611701965, 0.2160249501466751, -0.7515161037445068, -0.11941635608673096, 0.05059022083878517, -1.0436975955963135, -0.8420040607452393, -0.9948539137840271, -0.8351057171821594, -0.7034001350402832, -0.8631013631820679, -0.5046282410621643, -0.7734010219573975, -0.4890006184577942, -0.597102701663971, -0.8840237855911255, 10.516057014465332, -0.7763116955757141, -0.8750967979431152, -0.5134227275848389, -0.14259490370750427, -0.8450897336006165, -0.8632104396820068, -0.8819414377212524, -0.969641923904419, -0.9617658257484436, -0.8662338852882385, -0.33728837966918945, -0.8291553258895874, -0.9948792457580566, 0.14440111815929413, -0.8729926943778992, -0.8323443531990051, -0.5356753468513489, -0.899827241897583, -0.8387982845306396, -0.7594423890113831, -1.4460444450378418, -0.5359613299369812, -0.9467907547950745, -0.8754228353500366, -0.5539714097976685, -0.8216577768325806, -0.8396784663200378, -0.3960387110710144, -0.8143671154975891, -0.6172181367874146, -0.8297083973884583, -0.8410300612449646, 2.9337899684906006, -0.7169206738471985, 6.918830394744873, 2.59915828704834, -0.136993408203125, -0.8625842928886414, -0.8321020603179932, -0.28670966625213623, -1.121871829032898, -0.32463961839675903, -0.8413450121879578, -1.3029425144195557, -0.943047046661377, -0.6544060707092285, -0.665290117263794, -0.8007807731628418, -1.564914345741272, -1.3657565116882324, -0.776858389377594, -0.7046082615852356, -0.8651024103164673, -0.8353010416030884, -0.9174396395683289, -0.93348628282547, -0.4531182646751404, -0.8572494387626648, -0.6148586869239807, -0.9074790477752686, -0.8584145307540894, -0.9203739166259766, -0.864766001701355, -0.32315221428871155, -0.8001828193664551, 1.630694031715393, -0.23338472843170166, -0.7798681259155273, 0.10588104277849197, -0.7969546318054199, -0.9542317390441895, -0.8854950070381165, -0.8830448985099792, -0.7110193967819214, -1.5229136943817139, -0.8429545164108276, -0.8570788502693176, -0.9270052313804626, -0.8727539777755737, -0.8541514277458191, -0.34886932373046875, -0.7975740432739258, -0.8161394596099854, -0.8228808045387268, -0.8514592051506042, -0.8698091506958008, -0.8275785446166992, 1.34175443649292, -0.8086609244346619, -1.060746192932129, 2.8535165786743164, -2.0382239818573, -0.8257236480712891, -0.785835862159729, -1.0785837173461914, -0.6462060809135437, 0.4128860831260681, -0.7631281614303589, -0.5810099840164185, -0.8722802400588989, -0.8406224846839905, -0.6825224161148071, -0.4376019239425659, -0.8285709619522095, -0.8306856751441956, -0.6591206789016724, -0.8344122171401978, -0.7974137663841248, -0.9427460432052612, -0.8499340415000916, -0.758262038230896, -0.6640638709068298, -0.8068110942840576, -0.6910752058029175, -0.8203495740890503, -0.849757730960846, -0.8555554151535034, -0.8350654244422913, -0.8627150654792786, -0.8684493899345398, -0.6933627724647522, -0.6234995126724243, 0.2375689446926117, 0.25536859035491943, -0.8270189166069031, -1.0372071266174316, -0.8369776010513306, -0.8828543424606323, -1.279597520828247, -0.2499883472919464, 8.733454704284668, -0.8852018713951111, -0.4475838243961334, -0.8344236016273499, -1.825421929359436, 0.8560276627540588, -1.2120791673660278, 0.08932287991046906, -0.5802503228187561, 3.895228385925293, -0.626123309135437, -0.2949841022491455, -0.8401116728782654, -0.5727867484092712, -1.4135454893112183, 1.9349689483642578, 0.9566369652748108, -0.905907928943634, -0.8452141284942627, -0.8743187189102173, -0.8318571448326111, -0.7332127094268799, -0.8376392722129822, -0.8311803340911865, -0.7197356224060059, -0.17103910446166992, -0.4900485575199127, -0.8282901048660278, -0.8472802639007568, -0.837608277797699, -0.01757742278277874, -0.8394502401351929, -0.8400367498397827, -0.7891892790794373, -0.6574028134346008, -0.8206361532211304, -0.48198145627975464, -1.172002911567688, -0.03573642298579216, -0.8232990503311157, -0.4093387722969055, -0.8266280293464661, -0.8562721014022827, 3.728841781616211, -0.8665193319320679, -0.614376425743103, 2.615805149078369, -0.8387884497642517, -0.8656541705131531, -0.4782939851284027, 9.090779304504395, 2.4329605102539062, -0.8815739154815674, -0.9317669868469238, -0.8923003673553467, -1.0602781772613525, -0.8537554144859314, -1.825370192527771, -0.6729351282119751, -0.8343048691749573, -0.00919292587786913, -0.716999888420105, -1.4741109609603882, -0.8362321853637695, 9.27705192565918, -0.8898372054100037, -0.6292628049850464, -1.0633748769760132, 0.2163335680961609, -0.8716053366661072, -0.8404059410095215, 1.6681936979293823, 2.4585764408111572, -0.8359287977218628, -1.21589195728302, -1.1534488201141357, -0.8056800961494446, -0.7790917754173279, -0.8407512903213501, 3.0314371585845947, -0.8623009324073792, -0.4081864655017853, -0.2595292031764984, -0.8510032296180725, -0.3764757513999939, -0.8361338376998901, -1.1696752309799194, -0.5464973449707031, 1.2153422832489014, -0.3868703246116638, -1.3318631649017334, -0.051733825355768204, -0.7191584706306458, -0.5968039035797119, -0.7164543867111206, -0.4436781108379364, -0.9229187965393066, -0.2284468561410904, -0.9204344749450684, -2.1785888671875, -1.0050173997879028, -1.1122865676879883, -0.8720122575759888, 9.494534492492676, -1.0481786727905273, -0.6932944059371948, -0.8199552297592163, -0.6121852993965149, -0.791119396686554, -1.1791632175445557, -0.8277836441993713, -0.8968089818954468, -0.4361385107040405, -0.9959961771965027, -0.8399931788444519, -0.5536234378814697, 0.24614284932613373, -1.52639901638031, 1.1773847341537476, -0.5392171144485474, -0.9308525323867798, -0.8514128923416138, 0.17479823529720306, -0.8254443407058716, -0.038522083312273026, 1.1444593667984009, -0.17858900129795074, 0.27656108140945435, -0.8525235652923584, 1.036100149154663, 4.182616710662842, -0.8348506689071655, -1.1387872695922852, -0.8220494389533997, -0.5342699289321899, -0.8327035307884216, -0.7144517302513123, -0.9179445505142212, -0.6100158095359802, -0.8470369577407837, -0.9009965658187866, -0.6760029196739197, -0.8963529467582703, 0.3939509987831116, -1.0872294902801514, -0.8844889402389526, -0.3942313492298126, 3.737544298171997, -0.8311417102813721, 5.404447078704834, -0.8542242050170898, 1.0352729558944702, -0.8781384825706482, -0.8855712413787842, -0.8267223834991455, -0.09691520780324936, 1.9401713609695435, 1.9122012853622437, -0.6246470808982849, -1.4188247919082642, -1.3094255924224854, -0.5623387098312378, -0.8547317385673523, 0.09971645474433899, -0.8656709790229797, -0.8619441986083984, -0.8643218874931335, 2.3788700103759766, -0.8446545600891113, -0.6762526631355286, -0.8395649194717407, -0.8349432945251465, -0.8189697861671448, 0.5362779498100281, 1.3143041133880615, 1.5064913034439087, -0.8440483808517456, -0.6927613615989685, -0.849949836730957, -0.8456390500068665, -0.9001340866088867, -0.9534810781478882, -0.8387967944145203, -0.8823570013046265, 0.44273579120635986, -0.8363845348358154, -0.5307919979095459, -0.8118436336517334, -1.1199156045913696, -0.855055570602417, -0.7745746374130249, -0.9183358550071716, -1.0590870380401611, -1.3065932989120483, -0.8568628430366516, -0.6754738092422485, -0.9321826100349426, -0.7799330949783325, 0.36688220500946045, -0.4624444246292114, 0.27998340129852295, -0.8946779370307922, 0.8678976893424988, -0.8140567541122437, -0.8633162379264832, -0.8303715586662292, 1.57085120677948, 1.3064963817596436, -0.8020740151405334, -0.3815194070339203, -0.8559905290603638, -0.837726891040802, 1.2745827436447144, -0.3080397844314575, -0.5957946181297302, 4.758709907531738, -1.0840611457824707, -0.8276762962341309, 0.5228973031044006, -0.5795368552207947, 6.0936808586120605, -0.7150260806083679, 5.428955078125, -0.6244076490402222, 0.9472256302833557, -0.678070068359375, -0.7025413513183594, -1.040408730506897, -0.5963708758354187, -0.846696674823761, -0.8254835605621338, -0.8329874873161316, -0.7639711499214172, 2.5548760890960693, -0.8665902614593506, -0.9810701608657837, -0.9337143898010254, 1.541387677192688, -0.76362144947052, -1.4456578493118286, -1.049796223640442, -0.8313562870025635, 0.5363067984580994, -0.8803550004959106, -0.8475580811500549, -0.8188693523406982, -0.8213934302330017, -0.8145483136177063, 1.2604299783706665, -0.804323673248291, -0.7524757981300354, -0.8455122709274292, -0.7987028360366821, 0.7955242991447449, -0.8149011731147766, -0.8319195508956909, -0.8974447250366211, -1.0870312452316284, -0.958189845085144, -0.6656719446182251, -0.8457249402999878, -0.7478616237640381, -0.7890991568565369, -0.824773907661438, 3.4390647411346436, 2.2421278953552246, -0.8473016023635864, 3.3069205284118652, -0.8313359618186951, -0.3656553030014038, 1.652572751045227, 0.6562567353248596, -0.7435462474822998, -0.829079270362854, 0.18125668168067932, -0.845941424369812, 1.8969804048538208, -0.6641581654548645, -0.8732613921165466, -0.47861334681510925, 0.07025203108787537, -0.9999869465827942, -0.5249785780906677, -0.8255252242088318, -0.821343719959259, -0.8439198136329651, -0.8596562147140503, -0.8319321274757385, -0.8785056471824646, -0.4312285780906677, -0.8369324803352356, -0.8394597768783569, -0.9497561454772949, -0.6857135891914368, -0.6312224268913269, 0.7100841999053955, -0.8236980438232422, -0.7266358733177185, 0.1188814714550972, -0.8454886674880981, -0.550413191318512, 2.603957414627075, -0.6719785332679749, -0.8291418552398682, -1.2141532897949219, -0.5829339623451233, -0.34852513670921326, -1.0488404035568237, -0.7934885621070862, 0.7348024249076843, -0.11698070168495178, -0.8433170914649963, -0.8424344062805176, -0.7837048172950745, -0.8297327756881714, -0.9447280764579773, 4.870966911315918, -0.5724563002586365, -0.46425434947013855, -0.7317888736724854, -0.7810202240943909, -0.4785453975200653, -0.9633798599243164, -0.8329553604125977, -0.8649288415908813, 0.3374139070510864, -0.5433043837547302, -0.7837434411048889, -0.8720611929893494, 27.82435417175293, 4.155862331390381, -0.5242690443992615, -0.8446899056434631, -0.7749868631362915, -0.48004966974258423, -0.6460589170455933, -0.1259731948375702, -0.6250095963478088, -0.6931638717651367, -0.5505969524383545, -0.881931722164154, -0.7891491055488586, -0.8419477939605713, -0.8366624712944031, -1.2176227569580078, 9.204178810119629, -0.7279059290885925, -0.2264479398727417, -0.759053111076355, -0.5412436127662659, -0.8336688280105591, -0.8333664536476135, -0.9434224367141724, 2.3201355934143066, 1.7242555618286133, -0.8355318307876587, -0.7936575412750244, -1.0108745098114014, -0.9027363657951355, -0.6676585674285889, -0.6574598550796509, -0.851472020149231, -0.6800438165664673, 2.240368604660034, -0.7923294305801392, -0.8168644905090332, -0.9900977611541748, 0.4071279466152191, -0.7388342618942261, -0.8687858581542969, -0.8258242011070251, -0.8436579704284668, -0.6856133341789246, -0.7671299576759338, -0.9659790992736816, 0.1542969048023224, -0.8744057416915894, -1.2763617038726807, -1.0008063316345215, -0.7566312551498413, 0.8530665040016174, 5.64870548248291, 1.7730900049209595, -0.8340441584587097, -0.9258114695549011, -1.058497667312622, 5.186310291290283, -0.7552511692047119, -0.8452560305595398, -0.6472947001457214, -0.8334705829620361, -0.7223421335220337, -0.7422457933425903, -0.8290224075317383, -0.8985691070556641, 0.16247797012329102, -0.8271346092224121, -0.74091637134552, -0.8604974150657654, 32.99556350708008, -0.32497909665107727, 0.8125468492507935, -1.2485852241516113, -1.435336947441101, -0.8494126796722412, -0.47288957238197327, -0.789976954460144, -0.839518666267395, -0.339533269405365, -1.1227258443832397, -0.8282092809677124, -0.8153736591339111, -0.8327184915542603, -0.25705116987228394, -0.6009306907653809, -0.7452298402786255, -0.8970953822135925, -0.5937348008155823, -0.6872687935829163, 2.798530340194702, -0.7330467700958252, -1.2361379861831665, 0.28502070903778076, -0.6358694434165955, -0.6752821803092957, -0.7370957732200623, -0.5804905891418457, 5.390053749084473, -0.9601974487304688, -0.8576124310493469, -0.7309349775314331, -0.8845405578613281, -0.9126483798027039, -0.5409406423568726, -0.8325587511062622, -0.7812965512275696, -0.652195394039154, 1.5079180002212524, -0.8511635065078735, -0.8407500386238098, -0.16077345609664917, 0.6810224056243896, -0.8160807490348816, -0.8428643345832825, 2.8799421787261963, -0.5219173431396484, -1.0154304504394531, -0.6658883094787598, -0.8955051898956299, -0.2600661814212799, -0.7457165122032166, -0.8539302945137024, -0.8256533741950989, -0.887088418006897, 8.053487777709961, -0.6200175285339355, -1.251112699508667, -0.426645427942276, -0.770296573638916, -0.7559621930122375, -0.8382658958435059, -0.794063150882721, -0.42529526352882385, -0.2400600165128708, -0.7212792634963989, -0.2942914366722107, -0.8082758784294128, -1.0936788320541382, -0.7126708030700684, -0.7350189685821533, -0.7229164242744446, -0.47515052556991577, 4.243339538574219, -1.3263931274414062, -0.8080017566680908, 4.513418674468994, -0.7489371299743652, -0.8536240458488464, -0.8022692203521729, -1.0037857294082642, -0.831656813621521, -0.8529554009437561, 0.1553262323141098, -0.9223714470863342, -0.7607295513153076, -1.1544768810272217, 4.052968978881836, -0.8114202618598938, -0.9108383655548096, 0.47562989592552185, -0.14960458874702454, -0.8892045021057129, 13.990243911743164, 7.0672149658203125, -0.45875656604766846, -0.9231047630310059, -0.798968493938446, -0.8569768071174622, 19.916019439697266, -0.8423925042152405, 0.02757900021970272, -0.8183631300926208, -0.7166793346405029, -0.8853545784950256, -0.8686752915382385, -0.830195426940918, -1.043257474899292, -0.7612890005111694, 3.1631362438201904, -0.8542037010192871, -0.6276175379753113, -0.7446450591087341, -0.8553486466407776, -0.8130456805229187, -0.43114709854125977, -1.1696864366531372, 0.5473854541778564, -0.9433695077896118, -0.8454867601394653, 3.735628128051758, -0.7812184691429138, -0.829118013381958, -0.893478274345398, -0.29511329531669617, -0.8706778883934021, 0.35123950242996216, -0.8119732737541199, -0.8133458495140076, -0.00725856889039278, 2.5835423469543457, -0.7620587944984436, -0.19776126742362976, -0.8240466117858887, -0.02900427021086216, -1.0401663780212402, -0.8386135101318359, -1.0805281400680542, -0.8511812686920166, 1.85002601146698, -0.7971490621566772, -0.844402551651001, -0.23147033154964447, 0.07758606970310211, -0.41863590478897095, -0.897070586681366, -0.7464047074317932, 1.4642497301101685, -0.8307249546051025, -0.16006654500961304, -0.4905371367931366, -0.8559372425079346, 1.7159292697906494, -0.8280601501464844, -0.8013601303100586, -0.8328663110733032, 0.09088567644357681, -0.3053213953971863, -0.2607196271419525, -0.8768666982650757, -0.7821762561798096, -0.8877222537994385, 2.061595916748047, 0.22242897748947144, -0.8551906943321228, -0.74677574634552, -1.36313796043396, -0.7923746109008789, -0.8277319073677063, 0.8647019267082214, -0.8559717535972595, -0.7892827987670898, -1.067992091178894, -0.8207204341888428, -0.8339948654174805, -0.6207067370414734, -0.8326364755630493, -0.8449881076812744, -0.8293031454086304, -0.8420066833496094, -0.8397149443626404, 0.512671172618866, -0.8783470392227173, -1.1729404926300049, -0.8552528619766235, -1.0253350734710693, -0.8363932371139526, -0.961328387260437, -0.8297097682952881, 5.037652015686035, -0.538874626159668, -0.8300700783729553, 0.751755952835083, 1.053977608680725, -0.8326480388641357, -0.9371083974838257, -0.667012095451355, -0.853998601436615, -0.8540245294570923, -0.9286381006240845, -0.8344594240188599, -1.0863429307937622, -0.8365816473960876, -0.22836245596408844, 13.35865306854248, 3.623695135116577, -0.8381189107894897, 2.3862545490264893, -0.8071504235267639, -1.0115922689437866, -0.8242622017860413, -0.3574068248271942, -0.7173773050308228, -0.8282509446144104, -0.8369333148002625, -0.8367567658424377, -0.48977410793304443, 1.3066604137420654, -0.7707422971725464, -0.8658788800239563, -1.085636854171753, 5.191486358642578, -0.8378981351852417, -0.6325582265853882, -0.2108907252550125, 0.49193090200424194, -0.8396979570388794, -1.1021648645401, -0.79190593957901, -1.1817820072174072, -0.8827808499336243, -0.9139254093170166, -0.8425824046134949, -0.8092116713523865, -0.6902519464492798, -0.8523235321044922, 1.6143989562988281, -1.2938028573989868, -0.7445833683013916, 0.08269423246383667, -0.5597047805786133, 1.1017228364944458, -0.9156211018562317, -0.8602025508880615, 0.9046096205711365, 0.8252960443496704, -0.8431163430213928, -0.8208755850791931, -1.0715786218643188, -0.8421874642372131, -1.016633152961731, -0.833895206451416, -0.8134567737579346, -0.820885181427002, -0.8288311958312988, -0.7379119396209717, 1.1093509197235107, -1.6033539772033691, -0.9901043772697449, -0.8169470429420471, -0.6280814409255981, 6.892533302307129, 5.4325971603393555, -0.6198822259902954, -0.7335543632507324, -0.5698122382164001, -1.125888466835022, -0.7576174736022949, -0.83683842420578, -0.8447685837745667, -0.8793325424194336, -0.8242482542991638, -0.7343276143074036, -0.8560538291931152, -0.8719674348831177, 1.6066185235977173, -0.4467432498931885, -1.0167526006698608, -0.5658515095710754, -0.6723499298095703, -0.9660395383834839, -1.0947338342666626, 0.036796607077121735, 0.43693554401397705, 2.615828514099121, -0.7806692719459534, -0.9026609063148499, -0.8278563022613525, -0.8496634364128113, 0.06932742893695831, -1.1160186529159546, -0.7491828799247742, -0.9003764986991882, -0.7281800508499146, -1.130738377571106, 1.2373543977737427, -0.9277768731117249, -0.7937973141670227, 0.3049667477607727, -0.9555506110191345, 1.1029620170593262, -0.7548080682754517, -0.890546441078186, -0.7825900316238403, -0.07715402543544769, -0.8206355571746826, 0.7426216006278992, -0.547162652015686, -0.7581696510314941, -0.560519278049469, -1.1651328802108765, 5.345613956451416, -0.05526670441031456, -0.8685117959976196, -0.8390926718711853, -0.7877475619316101, -1.0681016445159912, -0.8437908291816711, -1.2772127389907837, -0.8311363458633423, -0.8459426164627075, -0.8537811636924744, -0.831133246421814, -0.8843177556991577, -0.8259252309799194, -0.8371992111206055, -0.03240649402141571, -0.86403489112854, -0.9478020668029785, -0.970202624797821, -0.77457594871521, -0.6169140934944153, -0.8320093750953674, -0.8505208492279053, -0.8139920234680176, -0.8031373023986816, -0.8654060363769531, -0.6930111646652222, -0.8714686036109924, -0.8532792329788208, 0.8870837092399597, -0.45272234082221985, -0.893207848072052, -0.5206138491630554, -0.10104303807020187, -0.38842907547950745, -0.831868052482605, -0.9085492491722107, -0.7140584588050842, -0.8633440732955933, -0.5940955281257629, -0.7999817728996277, -0.837918758392334, -0.6739220023155212, -0.8238152265548706, 6.331776142120361, -1.4915610551834106, -0.831917405128479, -0.3522762656211853, -0.5107499361038208, -1.2536511421203613, -0.7852884531021118, 0.2882489264011383, -0.03955453261733055, -1.551434874534607, 1.489492654800415, -0.8377403020858765, 2.56424617767334, -1.216992735862732, -0.35727760195732117, -0.510876476764679, 0.05982374772429466, -0.33386558294296265, -0.873160183429718, -0.8532994389533997, 0.23375070095062256, -0.9167547821998596, -0.1785988211631775, -0.8446930646896362, 0.6500899195671082, -0.6831229329109192, -0.7704671621322632, -0.7197160124778748, 0.0315968319773674, -0.8375668525695801, -1.1788091659545898, -1.0000756978988647, -0.8529760837554932, -1.2994139194488525, -0.8288611173629761, -0.8966851234436035, -0.740528404712677, -1.0319517850875854, -0.8157013058662415, -0.8854073286056519, 2.244574785232544, -0.8831591010093689, -0.6074911952018738, -0.886106014251709, 5.25222635269165, 0.2354554384946823, 14.340821266174316, -0.652414083480835, -0.8148986101150513, -0.837557315826416, -1.08567476272583, -0.31392940878868103, -0.8297395706176758, -0.3996225595474243, -1.5966639518737793, 0.28819090127944946, -0.5516269207000732, -0.8673902750015259, -0.6768330335617065, -0.7072200179100037, -0.8228387832641602, -1.1746636629104614, -0.8186699151992798, -0.46765851974487305, -0.5805897116661072, -0.19560377299785614, -0.8871639966964722, -0.8467094898223877, -0.8578054308891296, -1.0299561023712158, -1.1906672716140747, -0.8308904767036438, 0.01658780314028263, -0.63948655128479, -1.027942180633545, 0.030941393226385117, -0.42091047763824463, -0.853192150592804, -1.0445754528045654, -0.44926685094833374, -0.6477670669555664, 0.20960117876529694, -0.7281073331832886, -0.09862867742776871, -0.7789393663406372, -0.68710857629776, -0.876305341720581, 2.4965500831604004, -0.6338232755661011, -0.8543262481689453, -0.9646556377410889, -0.7879637479782104, 0.29244571924209595, -0.8581090569496155, -0.7836902737617493, -1.092678427696228, 0.09996213763952255, -0.7628104090690613, -0.8242496848106384, -0.31015706062316895, -0.5163601636886597, -0.8812165856361389, -0.9121066927909851, 0.5323771238327026, -0.8638150691986084, -0.6023333668708801, -0.4452541470527649, 0.6856590509414673, -0.811998724937439, -0.743027925491333, -0.5857163071632385, 0.9972642660140991, -0.8397011756896973, -0.7779160737991333, 0.4556843340396881, -0.8491907715797424, -0.813579797744751, -0.8181460499763489, -0.8368746638298035, -0.8475146889686584, -0.967291533946991, -0.3097030222415924, -0.8747828602790833, -0.8376134634017944, -0.8266356587409973, -0.7902492880821228, -0.5056096911430359, -1.4528303146362305, -0.8046395182609558, -0.8698294758796692, 0.15065428614616394, -0.7936544418334961, -0.8783751130104065, -0.7826208472251892, -1.4120259284973145, -0.6051425337791443, -1.4399440288543701, -0.11543181538581848, -0.8079884052276611, -0.8768182992935181, -0.8166937828063965, -0.8265265226364136, 0.9841675758361816, -0.723446249961853, -0.8609365224838257, 4.665219306945801, -0.8400892019271851, -0.6552698612213135, 10.712348937988281, 0.9660823941230774, -0.634509801864624, -0.7019029259681702, 0.1706530600786209, 0.8910660743713379, -0.8521588444709778, -0.10269474983215332, -0.7725442051887512, -0.8464275598526001, -0.7954570055007935, -0.6424545049667358, -0.8191386461257935, -1.0626393556594849, -0.8412414789199829, -0.7845907807350159, -0.7967718839645386, -0.727471649646759, -0.8199748992919922, -0.3825635015964508, -0.5653311014175415, 0.5112545490264893, -0.4094378650188446, 2.2866523265838623, -0.9045277833938599, -0.8756468892097473, -0.8592075109481812, -0.7693361043930054, -0.8412448763847351, -0.7670303583145142, -0.8455028533935547, -0.808354377746582, -0.8191909790039062, 5.602295398712158, -0.582139790058136, -0.8019108772277832, -0.3021409809589386, -0.8298115730285645, 0.286892831325531, -0.5250691175460815, -0.8773240447044373, -0.4560585021972656, -0.7515189051628113, -0.8700524568557739, 18.740779876708984, -0.8286863565444946, -0.9068357944488525, -0.45156440138816833, -1.1112626791000366, 0.05153058469295502, -0.7481008172035217, -0.8313301205635071, 16.989273071289062, -0.3067753314971924, -0.6092379093170166, -0.6156481504440308, -0.8379399180412292, -0.560224175453186, -0.8161645531654358, -0.788658618927002, -0.9036930203437805, -0.8274380564689636, -0.8899334073066711, -0.9318631291389465, -0.8286147117614746, -0.09081429988145828, -0.8601254224777222, -0.7400851845741272, -0.09337279945611954, -0.877285361289978, -0.8577918410301208, -0.7793683409690857, -0.7122613191604614, -0.012775935232639313, -0.7193703055381775, -0.47728240489959717, -0.35258081555366516, -0.8574844002723694, -0.829404354095459, -0.7219110727310181, -0.870298445224762, -0.25814715027809143, -0.783003568649292, -0.8940607309341431, -0.9011904001235962, -0.7392573952674866, -0.7689428329467773, -0.8298072814941406, -0.7807859182357788, -0.8358592391014099, -0.5002650618553162, 1.7453900575637817, 2.0530247688293457, 0.3471108675003052, -0.4123765528202057, -0.9147027134895325, -0.8169159889221191, -0.5375089645385742, -0.056882429867982864, -0.9376088976860046, -0.7044912576675415, -1.1400538682937622, -0.8703795671463013, 0.2680162489414215, 0.023804284632205963, -0.9438417553901672, -1.0684562921524048, -0.6290946006774902, -0.705880343914032, -0.7384048700332642, 3.8337810039520264, -0.326794296503067, -0.8347315192222595, -0.7936466336250305, -0.5150662660598755, -0.7143488526344299, -0.8282592296600342, -0.5811068415641785, -0.7263866662979126, 1.2857786417007446, -0.8497036695480347, -0.5580683946609497, -0.8261560797691345, -0.5827319622039795, 0.12837615609169006, -0.863675594329834, 2.647714376449585, -0.7975672483444214, 0.6948894262313843, -0.8065541386604309, -0.4989384114742279, 5.683925151824951, -0.8633445501327515, -0.8338519930839539, 2.4833860397338867, -0.8898708820343018, -0.8648849129676819, -0.6022248268127441, -0.8584407567977905, -0.8215354681015015, -0.8448124527931213, -0.8593209385871887, 4.096831798553467, -0.8815382122993469, -0.8307684659957886, -0.8455715775489807, -0.9055089354515076, 0.8145807385444641, -0.7806191444396973, -0.5465747714042664, -0.8090146780014038, -0.921574592590332, -0.8481387495994568, -0.8855331540107727, -0.8072357177734375, -0.6627915501594543, -0.9596313238143921, -0.9971592426300049, -0.8496119976043701, 0.10277623683214188, -0.40256741642951965, -0.795068085193634, -0.8271026611328125, -0.8145634531974792, -0.8645372986793518, -0.8464532494544983, -0.5362718105316162, -0.5804591774940491, -0.9555084705352783, -0.9953351616859436, -0.8687943816184998, -0.8223068118095398, -1.0572007894515991, 0.9311534762382507, -0.7911959290504456, -0.9728274345397949, -0.7951517105102539, -0.8209766745567322, -0.8310388922691345, 17.952316284179688, -0.6801785230636597, -0.861299991607666, -0.8334695100784302, 0.19525985419750214, -0.7902452349662781, -0.8339966535568237, -0.8325670957565308, -1.5521767139434814, 0.123496875166893, -0.8864385485649109, -0.8626972436904907, 0.08706393092870712, -0.8135990500450134, -0.8182907104492188, -0.8415380716323853, -0.8445653319358826, -0.5606276988983154, -0.9196580648422241, -0.8069713115692139, -0.38804179430007935, 1.276729941368103, 2.1768100261688232, -0.8767765760421753, -0.8785751461982727, -0.8624833822250366, -0.5824604034423828, -0.8257693648338318, 0.18632042407989502, -0.9850834012031555, -0.8552616834640503, -0.49931755661964417, -0.8060853481292725, -0.6813212633132935, -1.088411569595337, -0.6732275485992432, -0.4768911600112915, -1.1712055206298828, -0.6936336159706116, -0.15360447764396667, -0.8297140598297119, -0.9137758612632751, -0.07216491550207138, -0.7249988317489624, -0.5141605138778687, -0.8101416826248169, -0.8382124304771423, -0.8674571514129639, -0.6868973970413208, 0.8803115487098694, 5.243321895599365, -0.8354729413986206, 1.8285084962844849, -1.488872766494751, -0.14309050142765045, -0.8427848219871521, -0.8291574716567993, 11.279308319091797, 3.220247983932495, -0.834150493144989, -1.00462806224823, -0.8082037568092346, -0.9961485266685486, -0.7480257749557495, -1.1285655498504639, -0.806148111820221, 0.1053328663110733, -2.461376190185547, -0.7032049894332886, -0.7944124937057495, -0.7748771905899048, -0.5194758176803589, -0.8526989221572876, 1.7579231262207031, 0.32381105422973633, -0.27351877093315125, -0.855050265789032, -0.9848276376724243, -0.9099000692367554, -0.8067303895950317, -1.031487226486206, -0.8402490019798279, 2.588548421859741, -0.783431351184845, -0.7961249947547913, 0.4481852948665619, -0.21067142486572266, -0.6194517612457275, -0.8431891798973083, 0.47345903515815735, 6.717140197753906, -0.8714942336082458, -0.7543374300003052, -0.8333349823951721, -0.8331438302993774, -0.5783153176307678, -0.9034296870231628, -0.8752859830856323, -0.7763072848320007, 0.08185672760009766, -0.04694904014468193, -0.8168280720710754, -1.2060412168502808, -0.8341384530067444, -1.7379511594772339, -0.8481203317642212, -0.8388447761535645, 0.028709115460515022, -0.8413864374160767, 24.254653930664062, 3.543801784515381, -0.8796975612640381, -0.9007108807563782, -2.6644158363342285, -0.6812345385551453, -0.8877241611480713, -0.7663331031799316, 0.5714264512062073, 2.018423318862915, -1.0494070053100586, -0.8250395655632019, 0.36897510290145874, -0.41992688179016113, -0.35893312096595764, -0.5519599914550781, -1.1881238222122192, -0.8397720456123352, 6.722303867340088, -0.6709520220756531, -0.8407285809516907, -0.59284508228302, -0.5217618346214294, -0.8446490168571472, -0.6766831874847412, -0.7934567928314209, -0.45638373494148254, -0.30515941977500916, -0.8426626920700073, -0.7293779253959656, -0.6494824290275574, -0.8522279262542725, -0.7713580131530762, -0.30723538994789124, -0.8138032555580139, -0.8505163788795471, -0.9908165335655212, 9.993945121765137, 6.480847358703613, -0.835077166557312, -0.8404937982559204, -1.154029369354248, -0.706731915473938, -0.8403326869010925, -0.16503122448921204, -0.8850438594818115, -0.8378096222877502, -0.5441893935203552, -0.8081668615341187, -0.18159551918506622, -0.46755605936050415, -0.07541386783123016, -0.8251429796218872, -0.9355447888374329, -0.4546593725681305, -0.8515293598175049, -0.8326480388641357, -0.3944348394870758, -1.4343161582946777, 0.6757185459136963, -0.8191463947296143, -0.6950321793556213, -0.288370817899704, -0.8021693825721741, -0.8561710715293884, -0.8282854557037354, -0.6236919164657593, 10.612954139709473, -0.0012900936417281628, -1.8551334142684937, -1.3737212419509888, -0.6419921517372131, -0.20894990861415863, -0.6909779906272888, 0.43976277112960815, -0.6368651390075684, 0.5107128024101257, -0.21156148612499237, 1.65255606174469, -0.7471304535865784, -0.6441396474838257, -0.9963240027427673, 2.929870367050171, -0.9250211119651794, -0.759590208530426, -0.8681855797767639, -0.6626831293106079, -0.6145522594451904, -0.7081320285797119, -0.8728276491165161, 0.016521411016583443, 3.103769063949585, -0.6632739305496216, -0.8350654244422913, -0.8624662756919861, -1.3232859373092651, -0.5159505605697632, -0.8950698375701904, 6.603945255279541, -0.06932428479194641, -0.9660871028900146, 3.64556622505188, -0.695488691329956, -0.8842262625694275, -0.8433920741081238, 10.595355033874512, 3.5716545581817627, 1.566300630569458, 2.8809902667999268, -0.5088227987289429, -0.7911699414253235, -0.27944040298461914, -1.215665578842163, -0.8656960725784302, -0.7663331031799316, -0.5789391398429871, 1.5724434852600098, -0.7924473881721497, -0.8444775342941284, -0.6709457039833069, -0.9055209755897522, -0.8279284238815308, -0.8719629049301147, -0.8862596750259399, 1.2695173025131226, -0.6376245617866516, -0.6948743462562561, -0.3418351113796234, 0.04178550839424133, -0.703903079032898, -0.6814841628074646, -0.7741648554801941, -0.7435489892959595, -0.8303884863853455, -0.8292067646980286, -0.6257874965667725, -0.824773907661438, -0.938438355922699, 5.468008995056152, -0.8789118528366089, 0.8829036951065063, -0.8601772785186768, -0.719340980052948, -0.8355061411857605, -1.0435762405395508, -0.8142874836921692, -0.6037201881408691, -0.7868887782096863, -0.8355329036712646, -0.8123043775558472, -0.9235274195671082, -0.7951126098632812, -4.817048072814941, -0.23705825209617615, -0.7891734838485718, -0.044243186712265015, -0.801602303981781, -0.12630262970924377, -0.7804061770439148, -0.8175696134567261, -0.8192648887634277, -0.836555540561676, -1.09993314743042, -0.7371119856834412, -0.8441171050071716, 0.20149792730808258, -0.6967852711677551, 0.02796829305589199, 1.827803373336792, -0.8293749690055847, -0.8406191468238831, -0.8709226846694946, -0.4438574016094208, -0.8534281849861145, -0.829551100730896, -0.7881448268890381, -0.8080959320068359, -0.9379939436912537, -0.6287673115730286, -0.11586106568574905, -1.1992363929748535, 0.24039942026138306, -0.2659183144569397, -0.8279367685317993, -0.8281750679016113, -1.0378865003585815, 8.231776237487793, -0.8452515006065369, 0.11139227449893951, -0.8047041893005371, -0.5582261681556702, -0.7263664603233337, 0.09724699705839157, -0.6559820175170898, -1.0509098768234253, -0.8228324055671692, -0.8762305974960327, -2.4644927978515625, 1.4644951820373535, -0.8775551915168762, -0.8325778245925903, 0.1878487765789032, -0.7156747579574585, -0.7135294675827026, -0.8334319591522217, -0.7160727977752686, 1.9497754573822021, -1.3141191005706787, -0.8472402095794678, -0.7615901231765747, -0.9401441812515259, 0.4300422966480255, -0.7068219184875488, -0.20822268724441528, -0.5165640711784363, -0.7925081253051758, -0.9172934889793396, -0.7644215226173401, -0.8316918015480042, -0.7323328256607056, -0.698240339756012, -0.6686944365501404, -0.8595442175865173, 3.7491071224212646, -0.8484783172607422, -0.8262934684753418, -0.738821268081665, -0.7973151206970215, 0.01408306322991848, 0.9983503818511963, -0.8514977693557739, -0.40005624294281006, -1.006070613861084, -0.8038650751113892, 0.15755146741867065, 0.6954970359802246, -0.837407648563385, 4.947106838226318, -0.8732810020446777, 0.17095807194709778, -0.6453607678413391, -0.7383357286453247, -0.7262465357780457, -0.8939679861068726, -0.6063609719276428, -0.8906192183494568, -0.8168787956237793, -0.8348495960235596, 3.7405457496643066, -0.8602769374847412, -0.864698052406311, 0.31040656566619873, -0.9176000356674194, -0.7115193009376526, -0.8552647233009338, -0.12210925668478012, -0.849226713180542, -0.5306321978569031, -0.8252630829811096, -0.8341781497001648, -0.6407714486122131, 4.48129940032959, -0.8354373574256897, -0.8057529926300049, -0.8502596616744995, -0.8272151350975037, -0.6096999645233154, -1.0923097133636475, 0.8229714035987854, -0.639351487159729, -0.598158061504364, -0.8248467445373535, -0.8489096760749817, -1.063474416732788, -0.8526989221572876, -0.8428474068641663, -0.8151049613952637, -0.8463213443756104, -0.21519224345684052, -0.8601402044296265, 0.30001306533813477, -0.3456144630908966, -0.7658381462097168, -0.2187723070383072, -0.7755915522575378, 1.6092746257781982, -0.8914449214935303, -0.8056324124336243, -0.9058943390846252, -0.8780186176300049, -1.0163426399230957, -0.5284894108772278, -0.8575407266616821, 3.0217411518096924, -1.1206961870193481, -0.5152364373207092, -0.5625434517860413, -0.851420521736145, -0.8439053297042847, -0.8346784114837646, -0.8337932229042053, -0.8186444044113159, -0.8550639748573303, -0.6887935400009155, -0.8467656970024109, -0.8322873711585999, -0.23590309917926788, -0.5944514870643616, -0.4871995151042938, -0.8404251337051392, -0.9422245621681213, -0.777305006980896, 10.735930442810059, 4.137958526611328, -0.831602931022644, -0.4987601637840271, -0.8301411271095276, 0.5810911059379578, -0.7380791902542114, -0.37119126319885254, 1.284812092781067, -0.7532882690429688, -0.7904080748558044, 0.6135563850402832, 2.6592230796813965, -0.49376180768013, -0.7400799989700317, -0.7492421865463257, -0.7963374257087708, -0.24408870935440063, -0.7649065852165222, -0.8538560271263123, 2.607182025909424, 10.651902198791504, -1.0955363512039185, -0.33757898211479187, -0.5771198272705078, -0.4409230947494507, -0.8430989980697632, -0.8032422065734863, -0.6339013576507568, -1.1370313167572021, -0.4481527507305145, -0.8381543755531311, 0.3544777035713196, -0.6550441980361938, -0.5379731059074402, -0.7549013495445251, -0.2087222933769226, -0.8634921908378601, -0.858687698841095, -0.8122479915618896, -0.8114387392997742, 7.423775672912598, -0.8311856389045715, 0.590897262096405, -0.8339214324951172, -0.7946749329566956, -0.6448202133178711, -0.7765303254127502, -0.7933584451675415, -0.8136045336723328, 0.40883660316467285, -0.5155878067016602, 0.3049220144748688, -0.7955883741378784, -0.8702601194381714, -0.8126087784767151, 2.218505859375, -0.8547444343566895, -0.8348554372787476, -0.3072108030319214, 1.2047574520111084, 0.22062622010707855, -0.8522210121154785, 0.08257122337818146, 0.23494666814804077, -0.8362725973129272, 3.700270414352417, -0.5358366966247559, 5.759247779846191, -0.5284736752510071, -0.7909535765647888, 0.29054737091064453, -0.8463804125785828, -0.7659087181091309, -0.17361651360988617, -0.7748888731002808, 3.636120319366455, 0.032984402030706406, -0.7488123178482056, -0.940335214138031, -0.13471132516860962, 0.30505892634391785, -0.8435980081558228, -0.8307790160179138, 7.512775897979736, -0.2353995442390442, 14.646432876586914, -0.9608262181282043, -1.0802578926086426, 0.4756024181842804, -0.7957704067230225, -0.7174477577209473, 3.9302303791046143, 1.2949951887130737, 1.4060611724853516, 0.12372703105211258, -1.040755033493042, -0.6840148568153381, 5.893280029296875, 0.47347134351730347, -0.625941812992096, -1.1268364191055298, -1.2967809438705444, -0.40939566493034363, 0.6283019781112671, -0.5356330871582031, -0.338535875082016, 2.273063898086548, -0.8785296082496643, -0.24261297285556793, -0.7082968354225159, -0.8307675123214722, -0.8362176418304443, -0.7189214825630188, 3.1571526527404785, -0.2608303129673004, 0.3115486800670624, 1.3619287014007568, 1.3988772630691528, -2.0937280654907227, 0.912492036819458, -0.7112134695053101, -1.6911811828613281, 4.406976222991943, -0.5204389691352844, -0.8081893920898438, -0.8573235273361206, -0.8501150012016296, -0.8426473736763, -0.5980449914932251, 6.3661065101623535, -0.7605699300765991, -0.13671161234378815, -0.8406129479408264, -0.3544583022594452, -0.7682484984397888, -0.8355101346969604, 1.0265576839447021, -0.8035462498664856, 0.07422996312379837, -0.8303267359733582, -1.0153428316116333, 1.3755578994750977, -0.8339998722076416, 5.674302101135254, -0.8521822094917297, -0.7305653691291809, 0.5331624150276184, -0.8649723529815674, 2.305894613265991, -0.7604650855064392, -0.5827757120132446, -0.7867066860198975, -0.5462208986282349, -0.8291122913360596, -0.47916823625564575, -0.8036881685256958, -0.24359354376792908, -0.8367021083831787, -0.40904393792152405, 1.7229535579681396, -0.7184755802154541, -0.884276270866394, -0.9683476090431213, 1.2789247035980225, -0.3017176687717438, -0.8064367771148682, -0.5918405055999756, -0.5503942966461182, -0.8031916618347168, 0.42698127031326294, -0.7206448316574097, -0.5957955121994019, -0.3809279203414917, -0.8402507901191711, 2.0728414058685303, -0.8662973642349243, 9.758966445922852, -0.41665270924568176, -0.8742685914039612, -0.6106541156768799, 0.9823829531669617, -0.7508746981620789, -0.9411901235580444, -0.844101071357727, -0.9198118448257446, 0.13185396790504456, -1.0466878414154053, -0.8181955218315125, 0.5586918592453003, 6.304861545562744, -0.6461045742034912, 8.622074127197266, -0.4803602397441864, -0.2894211411476135, 0.2640551030635834, -0.8072481751441956, -0.3263203203678131, 0.0007451007259078324, 0.04621336609125137, -0.22755204141139984, 0.2619839012622833, -0.9121168255805969, -0.6231217384338379, -0.8931325674057007, 0.08086195588111877, -0.07922780513763428, 0.009259872138500214, -1.7170546054840088, -0.5267196893692017, 4.6508469581604, -0.7912251949310303, -0.9887678027153015, 7.794088363647461, -0.4392257630825043, -0.8447744846343994, -0.7947379350662231, -0.7595117688179016, 0.16955584287643433, -0.6014496088027954, 0.3739851117134094, 12.651962280273438, 9.998405456542969, -0.752461314201355, 1.6899951696395874, -0.4269804358482361, -0.49554967880249023, -0.844967782497406, 7.405749320983887, -0.5692276358604431, -0.7740132212638855, -0.7728694081306458, 9.310263633728027, -0.8594965934753418, -1.3938987255096436, -0.1754327118396759, -0.10056951642036438, -0.8614754676818848, -0.22563248872756958, -1.5238655805587769, 3.2071170806884766, -0.1496710479259491, -1.4606105089187622, -0.32393205165863037, 1.4213050603866577, 2.9741480350494385, 4.229412078857422, -0.9765731692314148, 5.796184062957764, -0.7330695390701294, -1.386189341545105, 1.9026923179626465, 2.9903383255004883, -0.22707003355026245, -0.11653793603181839, -0.2098747193813324, -0.23551365733146667, -0.7615838050842285, 4.600898265838623, 0.2945324182510376, 2.058934211730957, -0.2673448920249939, 9.362900733947754, -0.5825742483139038, 1.3632867336273193, -0.5855815410614014, -0.22085097432136536, -0.6177470088005066, -0.7652536630630493, -0.7280921339988708, -1.6376675367355347, -0.8093603849411011, -0.29378223419189453, -0.7784489393234253, 0.7277167439460754, -0.43238213658332825, -0.4813942611217499, -0.8130340576171875, -1.8961522579193115, -0.6504263281822205, 0.1987229734659195, 0.01004165131598711, -0.539632260799408, 4.597194194793701, -0.7510234117507935, -0.7351343631744385, 16.578092575073242, -0.8103391528129578, -2.956930637359619, -0.7766373157501221, 19.018171310424805, -1.175748586654663, -0.7924225926399231, 3.3196046352386475, 0.1947774440050125, -0.1439417451620102, -1.9573687314987183, -0.812542736530304, -0.3948160707950592, -0.8731889724731445, -0.887492299079895, -0.5566861629486084, -0.8384431004524231, 0.43447282910346985, -0.8552293181419373, 7.125701427459717, -0.07205598801374435, -0.7211626172065735, 7.274688720703125, -0.3980931341648102, 3.435086250305176, -1.9285094738006592, 1.562991976737976, -0.8390882015228271, -0.40127259492874146, 1.2168622016906738, -0.15425731241703033, 1.278792142868042, -0.4036710560321808, -0.0032827367540448904, -1.4301719665527344, -0.38795891404151917, -0.7222583889961243, -0.8713916540145874, -0.29101771116256714, 0.5255310535430908, 1.9176372289657593, 3.3951003551483154, -0.7833561301231384, -0.830003559589386, -0.609549880027771, -0.19601336121559143, -0.9271175861358643, 8.420709609985352, 0.6758647561073303, -0.8366530537605286, -0.1553904265165329, 8.774103164672852, -0.4599648714065552, 1.0953269004821777, -0.7404770255088806, -0.46487191319465637, -0.6022008061408997, 12.171369552612305, -0.6937212944030762, -0.1255933791399002, -0.6633681654930115, -0.7334477305412292, -0.01289641484618187, -0.5152480006217957, -0.8418505191802979, -0.4649188816547394, 4.331240177154541, -0.8596345782279968, 1.0546009540557861, -0.7175323963165283, 0.014576240442693233, -0.8628106117248535, 0.4757516384124756, -0.5411666631698608, 0.9250575304031372, 3.027009963989258, -0.8907936811447144, -0.5402777791023254, -0.6678970456123352, -0.8547799587249756, -0.8246568441390991, -0.7021182179450989, -0.8546042442321777, 6.709160327911377, -3.5826661586761475, 1.8409218788146973, -0.8034424185752869, -0.7488869428634644, -0.7626553773880005, 1.454106092453003, -0.2219802588224411, -0.8600614666938782, -0.9873555898666382, 5.812300205230713, -0.9226360321044922, -0.7847037315368652, -0.783234715461731, 0.16678203642368317, -1.8732444047927856, -0.0058455015532672405, -0.8194101452827454, 5.108547687530518, -0.5011386275291443, -2.109745979309082, -0.8391265273094177, -0.5392284393310547, -0.39614880084991455, -0.9598546624183655, -0.9002243280410767, -0.5928032994270325, -0.6372700333595276, -0.7983566522598267, 1.8531756401062012, -0.8162452578544617, 0.8502274751663208, 1.6296519041061401, 0.12237585335969925, 1.069669246673584, -0.992498517036438, -0.7112725973129272, -0.6407129168510437, -0.6395388245582581, 0.11930619180202484, -0.73090660572052, -0.8002933263778687, 0.023904748260974884, -0.46777886152267456, 10.933618545532227, 1.4015624523162842, 7.0546770095825195, 5.428470134735107, 3.959829330444336, 0.8290913105010986, -3.307795286178589, 0.19593170285224915, -0.6645063161849976, 0.3631150722503662, 12.967207908630371, 1.374733805656433, 3.33024525642395, -0.7611063718795776, 0.18330900371074677, 0.23196136951446533, -0.5574713945388794, 3.2204227447509766, 1.6583642959594727, 0.6445584893226624, -0.6787616610527039, 0.3399345576763153, -0.23477664589881897, -0.6621091365814209, 3.1508052349090576, -0.5873028039932251, 0.3942407965660095, 5.9473443031311035, 0.032886259257793427, 7.6669392585754395, -0.7354041934013367, -0.9766685366630554, -0.3970869779586792, -0.7282636165618896, 4.641343593597412, -0.059728264808654785, 7.916920185089111, -0.7680667638778687, -0.5716992616653442, -0.2633579671382904, 0.08478163182735443, -1.0337387323379517, 3.8756678104400635, 13.810151100158691, -0.9288198351860046, 8.160746574401855, -2.3015928268432617, -0.5927558541297913, 6.6510009765625, -0.7699424028396606, 1.9880248308181763, 0.2678416669368744, 3.0392370223999023, -0.7395838499069214, 0.8663830161094666, 0.2166813760995865, 0.9548155665397644, -0.8644077181816101, -0.38781607151031494, 0.7083768248558044, 1.3708692789077759, -0.8211199641227722, 3.6733508110046387, -0.313894659280777, 0.7056090831756592, 0.21910472214221954, 0.008381178602576256, 4.870686054229736, 1.485308051109314, 9.067269325256348, -0.6472587585449219, -0.8319002389907837, -0.8537803888320923, -1.050810694694519, -0.7316093444824219, -0.8172315359115601, -0.8949347734451294, 1.6003998517990112, -0.9799108505249023, 1.0946706533432007, -0.48876774311065674, 8.603765487670898, -0.24019542336463928, 13.891091346740723, -0.8399784564971924, -0.7129087448120117, 3.2486300468444824, -1.5506490468978882, 2.8944108486175537, -0.6528635025024414, 11.256248474121094, -0.9207019209861755, 3.033238172531128, -1.2334766387939453, -0.8800983428955078, 0.6495794653892517, -0.8093114495277405, 3.798452854156494, -0.6651491522789001, 1.9015053510665894, -0.8795860409736633, -0.03185122832655907, 9.308784484863281, 1.7666290998458862, -0.5158240795135498, -0.8547067046165466, -0.683041512966156, -0.83244788646698, -0.21966733038425446, -0.25127843022346497, -0.7555161714553833, -0.7030925750732422, -0.7236751914024353, -1.05631685256958, -0.22694261372089386, 19.08108139038086, -0.8584344387054443, 0.7619836330413818, -0.8438919186592102, -0.33930402994155884, 19.892436981201172, -0.7242399454116821, -0.7773815989494324, -0.9140695929527283, 28.734697341918945, 33.10847473144531, -0.152634397149086, 9.016847610473633, -0.20905549824237823, 2.141554355621338, 0.7930626273155212, 0.07436781376600266, -0.8522711396217346, -0.8201916217803955, -0.3397030234336853, 2.915904998779297, -0.8784545063972473, -0.007524779532104731, 0.34563490748405457, -0.8418455719947815, -0.6052840948104858, -0.8210698366165161, -0.8548071980476379, -0.534201443195343, -0.40860915184020996, -0.3906370997428894, -0.7139891386032104, 7.935168266296387, 1.3147482872009277, 3.8529324531555176, -0.8800938129425049, 0.2169371396303177, -2.290221929550171, 7.431573390960693, -0.5035467743873596, -0.7211657166481018, 4.100892066955566, -0.7829292416572571, -0.7833875417709351, 2.497025489807129, 9.643555641174316, -0.8418114185333252, -0.8513573408126831, 2.210954189300537, 3.4687650203704834, 6.297921657562256, -0.3483933210372925, 0.6872712969779968, 13.5993013381958, -0.354945570230484, 6.552221775054932, 4.289952754974365, -0.7601417303085327, -0.07429752498865128, 0.13205283880233765, -0.7780677676200867, -1.2377519607543945, -0.20425593852996826, -0.7169554233551025, 0.12652966380119324, -0.9724093675613403, -0.26005905866622925, 1.564432144165039, -0.5914711952209473, 2.990009069442749, 1.3861217498779297, 12.652189254760742, 0.8538091778755188, -0.67081218957901, -0.6409313678741455, -0.781541109085083, -0.6056416034698486, -0.058419760316610336, -0.9119898080825806, 1.0805103778839111, -0.6379480957984924, -0.3756149113178253, -0.5214933753013611, 2.001814365386963, -0.5713335275650024, -0.17918729782104492, 0.17546090483665466, -0.8887397050857544, -0.9319814443588257, -1.0872074365615845, -0.6692598462104797, 4.982962608337402, 2.077561855316162, -0.5780842304229736, 1.1364614963531494, -0.33227062225341797, 4.90089225769043, 1.259939432144165, -0.16855858266353607, -5.111839771270752, -0.41567879915237427, -0.6158151626586914, -0.25024348497390747, 0.872575044631958, 0.1573539674282074, -0.429455429315567, -0.7774866223335266, -0.9446978569030762, -0.5791351199150085, -0.18449370563030243, -0.5434832572937012, -0.774926483631134, -1.502957820892334, 1.6067824363708496, 12.178350448608398, -0.47454938292503357, -0.8757380247116089, -0.765821635723114, 0.7677672505378723, -0.15556743741035461, 18.925050735473633, -0.7294641137123108, -0.8098621368408203, -0.1471053510904312, 1.4010299444198608, -0.8123483061790466, -0.22506006062030792, -0.7841735482215881, -0.858227550983429, 1.2654986381530762, -1.4381026029586792, -0.6177955269813538, 2.3478949069976807, 0.8583971858024597, -0.8779858946800232, 1.2063846588134766, 6.240313529968262, -0.7644909620285034, 1.1137057542800903, 8.500396728515625, 12.248403549194336, 14.35353946685791, -0.8342028856277466, 0.8539037108421326, -0.5027749538421631, -0.7461608648300171, -0.8909243941307068, 0.6774629354476929, 1.4089951515197754, -0.7649884819984436, 12.78902530670166, -0.8876073956489563, 0.4101633131504059, 3.3202879428863525, -0.43525683879852295, 3.5381968021392822, -0.5608434081077576, -0.6822745203971863, -1.7029221057891846, -1.0459777116775513, 17.08737564086914, -0.20485764741897583, -1.1489171981811523, -0.7840343117713928, -0.7867621779441833, -0.6067147254943848, 1.394260287284851, 0.09707088023424149, 0.18617069721221924, -0.583875834941864, -0.5334601402282715], \"y\": [0.026396090164780617, -0.023096252232789993, 0.017714280635118484, 0.020230544731020927, 0.018316542729735374, 0.012113838456571102, 0.008646911010146141, 0.0009514358825981617, 0.020923009142279625, 0.01159016415476799, 0.016388356685638428, 0.019152747467160225, 0.01899493671953678, 0.016854606568813324, 0.0076163699850440025, 0.0182954091578722, 0.017024455592036247, -0.08872348070144653, 0.04060474410653114, 0.01925099827349186, 0.018034152686595917, 0.0027026189491152763, -0.07132237404584885, 0.01891331560909748, -0.020030241459608078, 0.015730978921055794, 0.03598850965499878, 0.01827911287546158, -0.0759730264544487, -0.06761901080608368, 0.004975241608917713, -0.169489324092865, -0.07846889644861221, 0.044757116585969925, -0.039829760789871216, 0.015949824824929237, 0.017277739942073822, 0.03643036633729935, 0.03461558744311333, 0.016102755442261696, 0.0174704696983099, -0.042621124535799026, 0.027863608673214912, 0.017616065219044685, -0.01937665231525898, 0.011836228892207146, 0.018456006422638893, -0.01773187704384327, -0.0050996639765799046, 0.016705170273780823, 0.02035685069859028, 0.019753603264689445, 0.020414095371961594, 0.007262942381203175, 0.0041032410226762295, 0.020915387198328972, -0.052054811269044876, 0.032043494284152985, 0.03273681923747063, 0.018344996497035027, 0.018352849408984184, 0.007442434784024954, -0.08924522995948792, -0.16179358959197998, -0.2134154587984085, 0.018743054941296577, 0.008519481867551804, -0.11745259165763855, -0.019303973764181137, -0.0474056601524353, 0.02132483571767807, 0.018980469554662704, 0.01906755566596985, -0.011414360255002975, 0.018835578113794327, 0.01962917298078537, 0.016799122095108032, -0.11063428223133087, 0.046330247074365616, 0.0016412039985880256, 0.01716729626059532, 0.03377034142613411, 0.018298419192433357, 0.018085168674588203, 0.03725069388747215, 0.01787448488175869, 0.01896737888455391, 0.0012866907054558396, 4.57253360748291, 0.0001483419182477519, 0.018738891929388046, -0.0023525303695350885, -0.04033096507191658, 0.004336095880717039, 0.013898737728595734, 0.005489164963364601, 0.03094671666622162, 0.018135301768779755, -0.007952535524964333, -0.007143773604184389, -0.005657874513417482, 0.01686549186706543, 0.009117797948420048, 0.021484529599547386, 0.019839802756905556, 0.018639812245965004, 0.003043467877432704, 0.016811512410640717, 0.02674523927271366, 0.0179301705211401, -0.013058039359748363, 0.007951873354613781, 0.017583150416612625, 0.014406410977244377, 0.03380892053246498, 0.01816912740468979, 0.013063307851552963, -0.03663210570812225, 0.025365551933646202, -0.056868866086006165, 0.01830352656543255, 0.018711233511567116, 0.021511515602469444, -0.0017472392646595836, 0.007432202808558941, 0.01796565391123295, -0.018150318413972855, 0.019864657893776894, 0.016552099958062172, 0.01817532628774643, 0.01341862790286541, 0.018201077356934547, 0.012033273465931416, 0.02825247123837471, 0.019384535029530525, 0.011586053296923637, 0.007624783553183079, 0.023227477446198463, 0.0586092583835125, 0.01706436276435852, 0.010163201950490475, 0.047273773699998856, 0.02132567949593067, 0.02732452191412449, -0.056581445038318634, 0.019688257947564125, 0.01812862604856491, 0.01870107278227806, 0.00883860606700182, 0.014739414677023888, -0.18297739326953888, 0.024886298924684525, 0.01945045404136181, 0.021192796528339386, 0.018400058150291443, -0.0023717370349913836, 0.01863708905875683, -0.008996310643851757, 0.031130032613873482, 0.0027524589095264673, 0.013350888155400753, 0.01974935457110405, -0.02700771763920784, 0.10050349682569504, 0.018826976418495178, -0.01590992696583271, 0.01773875579237938, 0.017961639910936356, 0.011802737601101398, -0.05407587066292763, 0.01748822256922722, 0.018384641036391258, -0.0025333864614367485, 0.012609715573489666, 0.015951914712786674, -0.26169270277023315, 0.031074289232492447, -0.11928685009479523, 0.01307960320264101, 0.0005424346891231835, 0.007862827740609646, 0.019731132313609123, 0.019352560862898827, 0.01919415220618248, 0.017209094017744064, -0.13048416376113892, -0.01789424568414688, 0.028439730405807495, 0.018332580104470253, -0.06269647181034088, 0.009460811503231525, 0.019677147269248962, 0.017680229619145393, 0.021432695910334587, 0.07148794829845428, 0.01484731212258339, 0.01800592988729477, 0.019254013895988464, 0.009309588931500912, -0.18217189610004425, 0.0019101299112662673, 0.018799182027578354, 0.018086617812514305, 0.027849236503243446, 0.02234276756644249, -0.019759932532906532, -0.009086750447750092, 0.03047495149075985, 0.015158590860664845, -0.04694213345646858, 0.01688838005065918, 0.019642647355794907, -0.058589186519384384, 0.01424801629036665, -0.011536290869116783, -0.026183485984802246, 0.018222589045763016, 0.010607774369418621, 0.02234320342540741, 0.01747959293425083, 0.037633687257766724, 0.032237377017736435, 0.01831655390560627, 0.03452059254050255, 0.03144324943423271, -0.19331656396389008, 0.017785485833883286, 0.016925062984228134, 0.01754060387611389, -0.07737091183662415, -0.03104746714234352, -0.02199639566242695, 0.018324675038456917, 0.012549664825201035, 0.018373997882008553, 0.017332041636109352, 0.01445556990802288, 0.01689772680401802, -0.0004810873360838741, 0.008551870472729206, 0.014819847419857979, 0.015211792662739754, 0.017952721565961838, 0.039267417043447495, 0.011477556079626083, 0.019599657505750656, 0.018273774534463882, 0.005950729828327894, 0.01746145822107792, 0.02019118145108223, -0.11867524683475494, 0.022205853834748268, 0.011962531134486198, 0.017528612166643143, -0.03720417618751526, 0.012825245968997478, 0.01979975216090679, -0.003262583864852786, 0.010250058956444263, 0.02127859555184841, 0.017148800194263458, -0.10267142951488495, 0.0015555976424366236, 0.029416469857096672, -0.001132889767177403, 0.013341926038265228, 0.017830323427915573, 0.01929774507880211, 0.017732126638293266, -0.012851255014538765, 0.016415854915976524, 0.038700997829437256, 0.02038630284368992, -0.01162671484053135, -0.13616280257701874, -0.013359892182052135, 0.01900700107216835, 0.01782667450606823, 0.006574162282049656, 0.0183678288012743, 0.021016038954257965, 0.01835828647017479, 0.018453549593687057, -0.15905648469924927, -0.0249895341694355, 0.02025185339152813, 0.02004125900566578, 0.009720027446746826, 0.01583903655409813, 0.019338946789503098, 0.0378718227148056, 0.01708820089697838, 0.018145672976970673, 0.018382862210273743, 0.014362268149852753, 0.013968304730951786, 0.018827373161911964, 0.009495921432971954, 0.018316930159926414, 0.01712229661643505, 0.021197021007537842, 0.01546899601817131, -0.23000653088092804, 0.017138401046395302, 0.023923099040985107, 0.024587135761976242, 0.01920967549085617, 0.01855403557419777, 0.01919754222035408, 0.018504910171031952, -0.10431426018476486, 0.018735021352767944, 0.010056979022920132, 0.016252513974905014, 0.02125963568687439, 0.017103778198361397, 0.01914050802588463, -0.1918715089559555, 0.019561205059289932, 0.01609865017235279, -0.0015081209130585194, 0.021065955981612206, -0.02813178487122059, 0.006832203362137079, 0.01945115067064762, 0.018982702866196632, 0.03252081200480461, -0.01756637915968895, -0.029483286663889885, -0.07296440750360489, -0.05089491605758667, 0.01132305059581995, 0.019527804106473923, 0.019415978342294693, 0.018103286623954773, 0.02288607880473137, 0.0025119048077613115, -0.035734325647354126, 0.01349872536957264, 0.005915029905736446, 0.01967824250459671, 0.06338395178318024, 0.022558318451046944, 0.014601430855691433, -0.06340142339468002, 0.022366901859641075, -0.19749575853347778, 0.018319664523005486, 0.047020331025123596, 0.00499868905171752, 0.016570808365941048, 0.09816781431436539, 0.03599400818347931, 0.015331304632127285, 0.019196396693587303, 0.014059977605938911, -0.0358181856572628, 0.019558247178792953, 0.006628965027630329, -0.043682411313056946, -0.09352198988199234, 0.025029834359884262, 0.010745462030172348, 0.018558217212557793, 0.018486304208636284, 0.01005728542804718, 0.037871621549129486, 0.01521159429103136, 0.01778583414852619, -0.010326619260013103, 0.0506671741604805, -0.07059203833341599, 0.02072252333164215, 0.012181765399873257, 0.008564227260649204, -0.020599037408828735, 0.08396042883396149, -0.1206154152750969, 0.018387751653790474, 0.009053481742739677, -0.026316186413168907, 0.00084526656428352, 0.017694031819701195, -0.033882588148117065, -0.06981181353330612, 0.01403266005218029, 0.01919025555253029, 0.017153194174170494, -0.05611475557088852, 0.017388612031936646, 0.01941440813243389, -0.07586225867271423, -0.01349475048482418, 0.01997920498251915, 0.017285794019699097, 0.02908644825220108, 0.01998409628868103, -7.761214510537684e-05, 0.006027350667864084, 0.024936122819781303, -0.000492616556584835, 0.01857847534120083, 0.007769739255309105, 0.028101563453674316, 0.01544426940381527, 0.0320085808634758, -0.014470548368990421, -0.046154528856277466, -0.008420052006840706, 0.003422763431444764, 0.01719932071864605, 0.018023204058408737, 0.028047781437635422, 0.015781808644533157, 0.02032160945236683, 0.02108723111450672, 0.02186470478773117, -0.36153796315193176, 0.018125787377357483, 0.01853886991739273, 0.015407885424792767, -0.3530905544757843, 0.017618680372834206, 0.04171985015273094, 0.016428764909505844, 0.006482002791017294, -0.02391430363059044, 0.01066255010664463, 0.026863224804401398, 0.020330553874373436, 0.016636058688163757, -0.04052593931555748, 0.01290102954953909, 0.01887497678399086, 0.021811647340655327, -0.1890385001897812, 0.004767542704939842, 0.011915252543985844, 0.01974436268210411, -0.03495471924543381, -0.016715265810489655, -0.05612732470035553, 0.018763862550258636, 0.03965819999575615, 0.017723890021443367, 0.02460702694952488, -0.014035237021744251, 0.01898493804037571, 0.018848681822419167, -0.014751979149878025, -0.004211722873151302, 0.017327753826975822, 0.020166167989373207, 0.01863701082766056, 0.018608100712299347, -0.005481015425175428, -0.010461444035172462, 0.02173132821917534, 0.017607787624001503, 0.010233333334326744, 0.018414843827486038, 0.029648061841726303, 0.22324995696544647, 0.007475404068827629, 0.006668888032436371, 0.01784079521894455, 0.03423238545656204, 0.022349417209625244, 0.015071146190166473, 0.02632877603173256, 0.002375492360442877, -0.05815326049923897, 0.02671770006418228, -0.03319093957543373, -0.1112281009554863, 0.009949426166713238, -0.06185314804315567, 0.017956959083676338, 0.014754579402506351, 0.01740765944123268, 0.01930244453251362, -0.0016110808355733752, 0.02115013264119625, 0.017489682883024216, 0.01834525726735592, -0.0871029794216156, 0.015105371363461018, 0.014232872985303402, 0.013876968994736671, 0.021624235436320305, 0.021948659792542458, 0.016689250245690346, -0.06646129488945007, 0.027158265933394432, 0.02477841079235077, 0.01633458584547043, -0.15848787128925323, 0.023022519424557686, -0.05141383409500122, 0.008059801533818245, -0.001849603489972651, 0.01772109605371952, 0.019078712910413742, 0.01826697401702404, 0.016904376447200775, 0.018629904836416245, -0.030094273388385773, 0.025819092988967896, 0.016382254660129547, -0.002290524309501052, 0.01944373920559883, 0.01564222015440464, 0.022849220782518387, -0.0865219309926033, 0.019040528684854507, 0.04265154153108597, 0.023924650624394417, 0.05525541305541992, -0.009493718855082989, -0.024766795337200165, 0.019133955240249634, 0.018492724746465683, 0.02975262887775898, 0.01728421077132225, 0.018529806286096573, 0.016179824247956276, 0.03379799425601959, 0.0185959842056036, 0.014343006536364555, 0.03438834473490715, 0.018302129581570625, 0.0200988557189703, 0.017842337489128113, 0.03514295071363449, 0.02007445879280567, 0.0187226552516222, -0.0030831049662083387, 0.022881148383021355, 0.01829860918223858, 0.01707337237894535, 0.012360692024230957, 0.017447030171751976, 0.015039454214274883, 0.018497886136174202, 0.019090870395302773, 0.019483337178826332, -0.04905024915933609, 0.017263934016227722, -0.11977794766426086, 0.033190321177244186, 0.008303212933242321, -0.011206597089767456, 0.014585457742214203, 0.018066566437482834, 0.01846228539943695, 0.017139922827482224, 0.02282635308802128, 0.019784634932875633, 0.018548062071204185, 0.013884449377655983, 0.018384641036391258, 0.0782901868224144, 0.01587485522031784, 0.016073379665613174, 0.01841857098042965, 0.019595587626099586, 0.013019131496548653, 0.01989593356847763, 0.004039582796394825, -0.055467505007982254, 0.018354875966906548, 0.01653343252837658, 0.01970832608640194, 0.01754087023437023, 0.028467733412981033, 0.0222319308668375, 0.009646118618547916, 0.0024485476315021515, 0.01943630538880825, 0.016502272337675095, 0.02335233986377716, 0.02337167225778103, 0.027942603453993797, -0.04513511806726456, 0.01860467530786991, 0.01963065005838871, 0.018969980999827385, 0.01753045618534088, 0.018662698566913605, 0.03246139734983444, 0.016186630353331566, 0.010219818912446499, 0.00470334617421031, 0.018689045682549477, 0.01299403328448534, 0.017911259084939957, 0.04224877059459686, -0.15806563198566437, -0.02289476804435253, 0.012907706201076508, -0.13375401496887207, 0.008734440430998802, 0.03061692975461483, 0.035390496253967285, 0.017881261184811592, 0.020496798679232597, 0.020690184086561203, -0.11688607186079025, 0.01888239197432995, 0.020333081483840942, 0.021872129291296005, 0.017747975885868073, 0.012441280297935009, 0.01564973220229149, 0.018022583797574043, 0.017781632021069527, 0.00394159322604537, 0.02081342414021492, 0.01738334447145462, -0.1664983630180359, -0.06408552825450897, 0.02123308926820755, -0.15151609480381012, -0.0504436120390892, 0.017976446077227592, 0.01322844997048378, 0.324912428855896, 0.015324647538363934, -0.024414755403995514, 0.018990125507116318, 0.017529629170894623, 0.004163662903010845, 0.023592647165060043, 0.01926385425031185, -0.0205079335719347, -0.012578979134559631, 0.019153393805027008, 0.017669454216957092, 0.018628153949975967, 0.01817040517926216, 0.019078750163316727, 0.002629032591357827, 0.015261438675224781, 0.017779383808374405, 0.06095553934574127, 0.01507449522614479, 0.018009070307016373, 0.018147189170122147, 0.01702743209898472, 0.01987447962164879, -0.017153384163975716, 0.08479513972997665, 0.02242005616426468, 0.031903110444545746, -0.056238479912281036, 0.017484799027442932, 0.019967095926404, 0.019468901678919792, 0.018606025725603104, 0.01729760877788067, 0.01916869729757309, 0.017745906487107277, -0.10201669484376907, 0.016571903601288795, -0.11771006882190704, 0.017731042578816414, -0.0005890993634238839, 0.03091370314359665, 0.017711395397782326, 0.006568153854459524, 0.018682362511754036, 0.018516475334763527, 0.018510902300477028, -0.03339872136712074, 0.02405366860330105, -0.002716725692152977, 0.0016574416076764464, 0.01993446610867977, 0.019133547320961952, 0.016564225777983665, 0.00406760536134243, -0.010896505787968636, -0.03518996387720108, 0.00768482219427824, 0.022153502330183983, 0.027259353548288345, 0.017641887068748474, 0.017288222908973694, 0.0248247217386961, 0.018266664817929268, 0.024578837677836418, 0.01867109164595604, -0.18579129874706268, 0.021437931805849075, 0.01970549300312996, -0.08889317512512207, 0.01954156905412674, 0.01829473115503788, 0.01764790154993534, 0.02105126343667507, -0.2669561505317688, 0.012737820856273174, 0.017344549298286438, -0.017752572894096375, 0.025406384840607643, 0.0209551602602005, 0.021637175232172012, 0.017853863537311554, 0.019385162740945816, 0.035459909588098526, -0.11964394152164459, 0.016265280544757843, -0.022914689034223557, 0.028180379420518875, 0.019782066345214844, 0.02003387175500393, 0.021235095337033272, 0.01675800420343876, 0.015882378444075584, -0.08534838259220123, 0.01853787526488304, -0.12217111885547638, 0.018370484933257103, 0.013719121925532818, 0.02236534096300602, 0.01500777155160904, 0.030568212270736694, 0.014807802625000477, 0.0021253502927720547, 0.0006203178782016039, 0.01781643182039261, 0.017686955630779266, 0.016677457839250565, -0.12581172585487366, -0.042439527809619904, 0.01952994056046009, -0.045767754316329956, -0.019716983661055565, 0.011053319089114666, 0.018431806936860085, 0.018946001306176186, 0.01736554130911827, 0.02395230531692505, 0.015603318810462952, 0.018248744308948517, 0.018427858129143715, 0.016579408198595047, -0.017628759145736694, 0.03760040923953056, 0.018840838223695755, 0.028947247192263603, -0.046524785459041595, 0.020518746227025986, 0.018130693584680557, 0.05922530218958855, 0.018595106899738312, -0.003921297378838062, 0.017662061378359795, 0.012805662117898464, 0.014164555817842484, 0.014407982118427753, 0.01786658726632595, 0.018823187798261642, 0.010885553434491158, 0.008152693510055542, 0.004974532872438431, 0.019616078585386276, 0.018921107053756714, 0.011158909648656845, 0.030449416488409042, 0.021836429834365845, 0.02009492553770542, 0.014662768691778183, 0.0176409725099802, -0.004060215782374144, 0.019404372200369835, 0.030579948797822, -0.377880334854126, 0.0126056969165802, 0.008496853522956371, 0.00344722718000412, 0.021721133962273598, 0.019023075699806213, 0.01815306581556797, 0.01550652552396059, 0.015018154866993427, 0.020531324669718742, 0.018920429050922394, 0.01958566904067993, 0.017586329951882362, -0.03972930833697319, 0.019297577440738678, 0.019613128155469894, 0.019399026408791542, 0.018597040325403214, 0.018295032903552055, -0.017701832577586174, 0.014837485738098621, -0.014360446482896805, 0.014004403725266457, 0.0030060987919569016, 0.02215508371591568, 0.019026795402169228, -0.0670754536986351, 0.017482958734035492, -0.046599507331848145, 0.014998473227024078, 0.011973192915320396, 0.017128143459558487, 0.01824621856212616, -0.02757006324827671, 0.018183303996920586, 0.011635852046310902, 0.056581705808639526, -0.017656270414590836, 0.0015678047202527523, 0.025720955803990364, 0.014880773611366749, 0.017620481550693512, 0.03326085954904556, 0.032387927174568176, -0.3146390914916992, -0.27595219016075134, 0.018467977643013, 0.018871702253818512, 0.29101523756980896, 0.017393808811903, 0.019137635827064514, 0.01808660663664341, 0.023888591676950455, 0.015401682816445827, 0.016350101679563522, 0.020530935376882553, 0.019125334918498993, 0.01476269494742155, 0.01873474195599556, 0.013203615322709084, 0.013268417678773403, 0.018031762912869453, 0.016319215297698975, 0.004333028104156256, 0.015618693083524704, 0.019528301432728767, -0.23302212357521057, -0.15210263431072235, 0.02616528980433941, 0.019191555678844452, 0.01815824955701828, 0.035747457295656204, 0.01846126839518547, 0.021490072831511497, -0.015265845693647861, 0.02282833307981491, 0.020041143521666527, 0.019494470208883286, -0.19887815415859222, 0.012175116688013077, 0.018910473212599754, 0.03198781982064247, 0.01507097203284502, 0.058177731931209564, 0.033560339361429214, -0.03500078245997429, 0.02018500119447708, 0.018110308796167374, 0.03581272438168526, 0.017188526690006256, 0.017788391560316086, 0.017302092164754868, 0.011756690219044685, 0.01839175820350647, 0.012157546356320381, 0.025948740541934967, -0.054201897233724594, 0.01938316412270069, 0.012131225317716599, 0.016496511176228523, 0.01752575859427452, 0.019443057477474213, 0.01819715090095997, -0.00835686456412077, 0.020095763728022575, 0.021870434284210205, -0.030111847445368767, 0.018680818378925323, 0.01944618672132492, -0.043521031737327576, 0.030888529494404793, -0.033159490674734116, 0.06137247011065483, 0.018373550847172737, 0.018298521637916565, 0.018143320456147194, 0.018915291875600815, 0.02045232616364956, 0.019658517092466354, 0.01805628463625908, 0.02190287597477436, -0.09919082373380661, 0.029087074100971222, 0.004986642859876156, 0.021513190120458603, -0.017079776152968407, 0.01682073436677456, 0.015813397243618965, -0.017431307584047318, 0.011931522749364376, -0.18548695743083954, 0.019716644659638405, 0.018094144761562347, 0.013559582643210888, 0.01454249955713749, 0.01820109784603119, -0.010048188269138336, 0.02220913954079151, 0.018495891243219376, 0.021068064495921135, -0.10817266255617142, 0.018549909815192223, 0.018814556300640106, 0.011131731793284416, 0.0008722397615201771, 0.04066024720668793, 0.01811589114367962, 0.011281946673989296, 0.016681957989931107, -0.047705914825201035, 0.01676814816892147, 0.017996473237872124, 0.01933087408542633, 0.016111133620142937, -0.001503295497968793, 0.019613679498434067, 0.008495483547449112, -0.1312825232744217, -0.032690729945898056, 0.007429140154272318, 0.013726015575230122, -0.06759855896234512, 0.16294142603874207, 0.01901596039533615, 0.02300781011581421, 0.0182814821600914, 0.012945410795509815, 0.013046453706920147, 0.03175533190369606, -0.008689667098224163, -0.16514623165130615, 0.02558024600148201, 0.012309383600950241, 0.0057673086412250996, 0.020462844520807266, 0.018691707402467728, 0.01850767806172371, -0.0013301109429448843, 0.03070870041847229, 0.019895751029253006, 0.010553542524576187, -0.01884414255619049, -0.3015412390232086, 0.23967617750167847, 0.008736817166209221, 0.018508266657590866, -0.0267767533659935, -0.027430182322859764, -0.06044016033411026, -0.014186105690896511, 0.01941598951816559, 0.01891772449016571, 0.01885051839053631, -0.2510378062725067, -0.014956822618842125, 0.05765889585018158, -0.009367827326059341, 0.022256998345255852, 0.018780799582600594, -0.10659823566675186, 0.015367412939667702, 0.017965666949748993, 0.016218408942222595, 0.018695786595344543, 0.018149562180042267, -0.0888466089963913, 0.01499316655099392, -0.009435630403459072, -0.2783147990703583, 0.018602773547172546, 0.0186740942299366, 0.01434387732297182, 0.001163405366241932, 0.004133492708206177, 0.023896079510450363, -0.3138301372528076, 0.009496914222836494, 0.0011833201861009002, 0.015814119949936867, 0.015383788384497166, 0.020751794800162315, 0.017428983002901077, 0.026679689064621925, 0.03501434624195099, 0.017550546675920486, -0.09436175227165222, 0.014550242573022842, 0.020365672186017036, 0.023790018633008003, 0.028953127562999725, 0.018696125596761703, 0.017528412863612175, 0.028025640174746513, 0.004213445354253054, 0.024431094527244568, 0.018010200932621956, 0.01839863508939743, -0.04044707491993904, 0.010070063173770905, 0.01839274913072586, 0.01707347296178341, -0.015771925449371338, -0.02769998274743557, 0.014790291897952557, 0.029968686401844025, 0.017952390015125275, -0.05105924978852272, 0.018193267285823822, -0.05930814892053604, 0.003801698563620448, 0.0062037003226578236, -0.02632923051714897, -0.028703240677714348, 0.019183432683348656, -0.06033290550112724, -0.06307287514209747, 0.018652470782399178, 0.020056189969182014, 0.019722215831279755, 0.0179763101041317, 0.01983068883419037, 0.01434189174324274, 0.02798108570277691, 0.0197819322347641, 0.015141982585191727, 0.010754916816949844, 0.023759612813591957, -0.009294155053794384, 0.020049501210451126, 0.01248798705637455, 0.018569957464933395, -0.009109864011406898, 0.009138265624642372, 0.020516816526651382, 0.018030524253845215, 0.017769254744052887, 0.016249993816018105, 0.010849160142242908, 0.02280372940003872, -0.01785169541835785, 0.01915370114147663, 0.004513904917985201, 0.0018531548557803035, 0.017750322818756104, 0.015122857876121998, -0.014120444655418396, 0.014488370157778263, -0.009389380924403667, 0.03412530571222305, -0.0106342239305377, 0.0197486262768507, 0.025956526398658752, 0.03351541981101036, 0.010815923102200031, 0.021238768473267555, 0.02640194073319435, -0.04329460486769676, 0.008545163087546825, -0.02811460942029953, -0.18911020457744598, 0.0009007016196846962, -0.011400270275771618, 0.01788044348359108, -0.24403667449951172, 0.03271855413913727, 0.06187472864985466, 0.01477732788771391, -0.019435793161392212, 0.020637214183807373, 0.018327362835407257, -0.07415591180324554, 0.017724715173244476, 0.01903584599494934, 0.020024731755256653, 0.028072558343410492, 0.03142394870519638, -0.2309495508670807, -0.016850730404257774, 0.017378458753228188, 0.017720773816108704, -0.05386267602443695, 0.03408408910036087, 0.020923927426338196, 0.0027379074599593878, 0.01862475275993347, 0.01742842234671116, 0.008829646743834019, 0.003595647867769003, 0.002332044765353203, -0.0011935797519981861, 0.021057002246379852, 0.01918661780655384, 0.019588353112339973, 0.0003688309225253761, 0.039569832384586334, -0.1946559101343155, 0.011388638988137245, 0.018079813569784164, 0.018794555217027664, 0.020014138892292976, -0.07346432656049728, 0.01948808692395687, 0.018242688849568367, 0.016604620963335037, 0.03150283172726631, -0.03109632059931755, 0.018527107313275337, 0.017288202419877052, 0.01885848492383957, -0.052547719329595566, 0.018627481535077095, 0.017436951398849487, 0.017598437145352364, 0.018013393506407738, 0.02548806741833687, 0.019367048516869545, 0.014544520527124405, 0.02404424361884594, -0.0139838932082057, 0.018025513738393784, -0.014580736868083477, -0.003238762030377984, 0.01803934946656227, 0.01608087122440338, -0.043423496186733246, -0.03470240533351898, -0.10153192281723022, -0.16036979854106903, 0.02133892849087715, 0.02157754637300968, -0.026167988777160645, 0.017193619161844254, 0.018509598448872566, 0.014782982878386974, 0.018847154453396797, 0.02162412367761135, 0.01908584125339985, 0.016188865527510643, 0.01818932592868805, 0.020305583253502846, 0.03262626379728317, 0.011546511203050613, 0.019855499267578125, 0.010644710622727871, 0.015861451625823975, 0.012262364849448204, 0.012160084210336208, -0.02568243443965912, 0.01977764256298542, 0.011417323723435402, 0.013702601194381714, 0.01827079989016056, 0.007685639895498753, 0.012584301643073559, 0.018194707110524178, 0.020145172253251076, 0.031641799956560135, 0.03468955680727959, 0.026096584275364876, -0.12070352584123611, 0.01834159716963768, 0.03390570357441902, 0.018644066527485847, 0.021855121478438377, -0.014834722504019737, 0.01619899645447731, 0.024879215285182, 0.018146751448512077, 0.01970168575644493, -0.20281685888767242, 0.022082535549998283, -0.0062874858267605305, 0.02069714106619358, 0.005420953035354614, 0.005161547102034092, 0.013609744608402252, -0.04049216955900192, 0.016422584652900696, 0.014833345077931881, 0.01261388324201107, 0.019234653562307358, 0.018349142745137215, 0.01846768520772457, -0.019574424251914024, 0.018430493772029877, -0.005454408936202526, 0.01601959578692913, 0.019221331924200058, 0.015734558925032616, 0.01622193120419979, -0.003111491212621331, 0.01492814626544714, 0.02121819742023945, 0.020462265238165855, -0.03176041692495346, -0.04076475277543068, -0.009247824549674988, 0.018601838499307632, 0.06713453680276871, 0.03373206779360771, 0.0185360386967659, 0.013918837532401085, 0.013647166080772877, 0.01343843899667263, 0.005422936286777258, -0.3381704092025757, -0.04292669892311096, 0.03475499525666237, 0.004042414482682943, 0.030699364840984344, -0.05125557631254196, 0.01653483510017395, 0.015524649992585182, 0.02829901874065399, 0.018514834344387054, -0.1350579708814621, 0.01885276660323143, 0.036880359053611755, 0.018838858231902122, 0.02252027951180935, 0.017913997173309326, 0.011713196523487568, -0.11676353961229324, 0.010571968741714954, 0.026886556297540665, 0.01856997236609459, -0.015236005187034607, 0.020733371376991272, 0.022013993933796883, 0.02323683723807335, 0.0031209122389554977, -0.030182285234332085, 0.011826806701719761, 0.019404934719204903, 0.02127649448812008, 0.018454832956194878, 0.015370325185358524, 0.02038085088133812, 0.018558843061327934, 0.032326117157936096, 0.006943054497241974, 0.010845967568457127, 0.018525561317801476, 0.020328598096966743, 0.018948400393128395, 0.0013882778584957123, 0.020831845700740814, 0.013214211910963058, 0.02285624109208584, -0.21583649516105652, 0.0245905090123415, 0.019979014992713928, 0.01089298352599144, 0.018192434683442116, -0.025377055630087852, 0.5785702466964722, 0.017722567543387413, 0.01829914189875126, 0.020624976605176926, 0.015410392545163631, -0.006361684296280146, -0.04818187281489372, 0.018527748063206673, 0.019133955240249634, 0.017574619501829147, 0.021981172263622284, 0.011271615512669086, 0.018405212089419365, -0.08406004309654236, 0.022398926317691803, 0.01871117763221264, 0.017147744074463844, 0.018891658633947372, 0.009995496831834316, 0.014100463129580021, 0.01316762249916792, -0.006849734578281641, 0.0167679600417614, 0.016674084588885307, 0.011245290748775005, 0.009671900421380997, 0.062045253813266754, 0.018396928906440735, 0.018696114420890808, 0.013578747399151325, 0.017417481169104576, 0.022989917546510696, -0.00824273657053709, 0.03709576651453972, 0.001129103358834982, -0.05143606290221214, 0.02000916376709938, 0.01937795989215374, 0.3340568244457245, 0.018024463206529617, 0.00397866778075695, 0.025027407333254814, 0.02561529539525509, 0.01610448956489563, 0.0070712692104279995, 0.014362553134560585, 0.017742235213518143, 0.009598542004823685, 0.012939982116222382, 0.018755970522761345, 0.01700536534190178, -0.26343807578086853, 0.01788022182881832, -0.00020790041889995337, 0.01512815896421671, 0.002342884661629796, 0.009598326869308949, 0.01673818752169609, 0.014995008707046509, 0.002577303908765316, 0.10438081622123718, 0.021337023004889488, -0.0900864228606224, 0.014875215478241444, 0.025897316634655, -0.02524901181459427, 0.00180736870970577, -0.1533205509185791, -0.15794886648654938, 0.057004664093256, 0.02222529426217079, 0.01802322082221508, -0.03759477287530899, -0.07280120253562927, 0.018362008035182953, 0.028325848281383514, 0.018004991114139557, -0.0032029077410697937, 0.021572066470980644, 0.02458985708653927, 0.019008535891771317, -0.01862449012696743, 0.0197917353361845, 0.0072455015033483505, 0.021147500723600388, 0.018319258466362953, 0.0193317923694849, 0.0179432425647974, 0.018079595640301704, 0.0176450964063406, 0.00907769612967968, 0.031380992382764816, 0.016506483778357506, 0.020520759746432304, 0.06874225288629532, 0.02104911021888256, 0.007432202342897654, 0.017794668674468994, 0.014191124588251114, 0.02116820216178894, -0.03330760821700096, 0.01852954924106598, 0.018085168674588203, -0.026347557082772255, 0.014488106593489647, 0.03570425882935524, -0.002005841815844178, -0.13028660416603088, 0.018074583262205124, 0.022052280604839325, -0.02840052917599678, 0.015945615246891975, 0.018968449905514717, 0.01891603134572506, -0.017219392582774162, 0.01778269186615944, -0.02330988645553589, 0.01845511421561241, 0.018581882119178772, -0.03727572411298752, 0.031275078654289246, 0.018064655363559723, 0.007557447999715805, 0.018023701384663582, 0.020280787721276283, 0.01968887820839882, 0.019077248871326447, 0.013814995065331459, 0.0392225943505764, 0.028257183730602264, 0.007729086093604565, 0.02351321093738079, 0.0018460990395396948, 0.030260806903243065, 0.007833220064640045, 0.011916101910173893, 0.018337123095989227, -0.3979673385620117, 0.0025099513586610556, 0.02143629640340805, 0.0187414288520813, 0.011377749033272266, 0.017605604603886604, 0.01885993778705597, 0.04694206640124321, 0.01609719917178154, -0.02287033386528492, 0.01629590429365635, 0.03862990438938141, 0.012282295152544975, -0.0094173988327384, 0.00776746915653348, 0.019520342350006104, 0.01587623730301857, 0.019736919552087784, 0.017462722957134247, 0.033182546496391296, 0.018577873706817627, -0.05422331020236015, 0.009167689830064774, 0.03327160328626633, 0.017518458887934685, -0.051003582775592804, -0.009815700352191925, -0.028323903679847717, 0.01804986223578453, -0.09842904657125473, 0.01387147419154644, 0.01948808692395687, -0.1456039994955063, -0.031235355883836746, 0.016405543312430382, 0.019530776888132095, 0.01662485860288143, 0.014704328030347824, 0.018994398415088654, 0.019089994952082634, -0.007307642605155706, -0.015508568845689297, 0.01642293855547905, 0.02042231522500515, 0.022435372695326805, 0.011467981152236462, 0.007988722063601017, -0.05586686730384827, -0.04815736413002014, 0.01761249080300331, -0.021780315786600113, 0.036344196647405624, -0.05228029564023018, 0.016710205003619194, 0.020563509315252304, 0.017356228083372116, -0.03908848762512207, -0.14206384122371674, 0.020012689754366875, -0.005387134850025177, 0.02197173982858658, 0.0159313827753067, 0.019452771171927452, 0.018835578113794327, -0.05136324465274811, 0.018145063892006874, 0.005076222587376833, 0.016823789104819298, 0.015622202306985855, 0.017962519079446793, 0.01997930370271206, -0.016240201890468597, 0.017205478623509407, 0.0037736811209470034, 0.020280946046113968, 0.01837795041501522, 0.016549525782465935, -0.02248510904610157, 0.07556796818971634, 0.014751474373042583, -0.010065405629575253, 0.024857088923454285, 0.01864006742835045, 0.018153714016079903, 0.01843668334186077, 0.018515432253479958, 0.032474372535943985, 0.016354162245988846, 0.014311970211565495, 0.010051196441054344, -0.007332263980060816, 0.007057647220790386, -0.0024740640074014664, 0.019431382417678833, -0.10268337279558182, 0.016514556482434273, 0.017935482785105705, 0.014527552761137486, 0.0184688288718462, 0.029305586591362953, 0.01509631983935833, 0.009189823642373085, -0.010115480050444603, -0.03188423439860344, 0.019305672496557236, 0.013351496309041977, 0.017828239127993584, 0.016613231971859932, 0.008019044063985348, -0.0053340597078204155, 0.019612450152635574, 0.02726166509091854, 0.020358186215162277, 0.0141758993268013, 0.014615251682698727, -0.2584303617477417, 0.012240024283528328, 0.017155274748802185, 0.017966942861676216, 0.018482284620404243, -0.31627941131591797, 0.0012742646504193544, 0.016643043607473373, 0.02040276676416397, -0.005487717222422361, 0.018600013107061386, 0.01851753517985344, 0.0363907627761364, 0.01857285387814045, 0.01743048056960106, 0.017236223444342613, -0.008024088107049465, 0.01501372642815113, 0.016507936641573906, 0.02058313973248005, 0.03153432533144951, 0.009912277571856976, 0.009214029647409916, 0.025874348357319832, 0.020038064569234848, 0.03502139449119568, 0.01911635883152485, -0.03287392854690552, 0.01788960210978985, -0.032360851764678955, -0.006870624143630266, 0.012114960700273514, 0.03828231617808342, 0.01684635318815708, 0.004779361654073, -0.06347309798002243, 0.024387139827013016, -0.018008749932050705, 0.01729614846408367, -0.055250924080610275, 0.017255475744605064, 0.017605362460017204, 0.013467025943100452, 0.018229806795716286, 0.013386775739490986, 0.03402562811970711, -0.02242935635149479, 0.009112377651035786, 0.014187158085405827, 0.017201129347085953, 0.017622657120227814, 0.03632848337292671, 0.018079502508044243, -0.013462073169648647, 0.016352752223610878, 0.014567523263394833, 0.011205842718482018, 0.018590344116091728, 0.007847846485674381, 0.019329432398080826, 0.018458586186170578, 0.020215310156345367, 0.020094383507966995, 0.02592790126800537, 0.011622043326497078, 0.031752970069646835, 0.01202266477048397, 0.024968601763248444, 0.019023992121219635, -0.03201347589492798, 0.014657138846814632, -0.01911528781056404, 0.015241298824548721, 0.01321067102253437, 0.01875460520386696, -0.056046489626169205, 0.01912364549934864, -0.006277813110500574, 0.018946407362818718, 0.03298823907971382, 0.03426670655608177, 0.020090190693736076, 0.02036667987704277, 0.018540840595960617, 0.016516204923391342, -0.100101038813591, -0.46167680621147156, 0.020711088553071022, 0.018693145364522934, 0.0061045759357512, 0.04431895539164543, 0.001633934793062508, -0.0395444892346859, 0.02203902043402195, 0.017850855365395546, 0.02205655910074711, 0.011256667785346508, -0.005828221328556538, 0.019826417788863182, 0.02131705731153488, 0.006449269596487284, 0.01783405989408493, 0.01962495595216751, 0.018034230917692184, 0.022100919857621193, 0.021988317370414734, 0.011164798401296139, 0.020267141982913017, 0.018054857850074768, 0.01193659845739603, 0.019050290808081627, 0.017224958166480064, 0.011729103513062, 0.010738481767475605, 0.014843556098639965, 0.018392963334918022, -0.03243650123476982, 0.1417248696088791, 0.017158757895231247, 0.0233797375112772, 0.017873169854283333, -0.034943945705890656, 0.02615674026310444, -0.00017143871809821576, 0.01219564862549305, 0.012944664806127548, 0.018777014687657356, 0.018586304038763046, 0.015857720747590065, 0.019120031967759132, 0.017876552417874336, 0.01889757625758648, 0.019633494317531586, 0.009983832947909832, 0.002142488257959485, 0.019305897876620293, 0.004204528871923685, 0.010934516787528992, 0.01837247610092163, -0.04448540881276131, -0.2768266499042511, 0.017286190763115883, 0.013501224108040333, 0.017698222771286964, 0.00033720163628458977, 0.0005932975909672678, -0.032639484852552414, 0.0002505177690181881, 0.020207511261105537, 0.009993189014494419, 0.01955323852598667, 0.037060242146253586, 0.010715985670685768, 0.017288804054260254, 0.01998390443623066, 0.04272010177373886, -0.07332322746515274, -0.004174146335572004, 0.02172381989657879, -0.03863893821835518, 0.027342429384589195, -0.1508033126592636, 0.0335671566426754, 0.0189141146838665, 0.04137006774544716, 0.017144806683063507, 0.00207609124481678, -0.001670623547397554, -0.3514455556869507, -0.2763337790966034, 0.016849668696522713, -0.0371255986392498, 0.018216969445347786, 0.02660807967185974, 0.018728431314229965, -0.08343058824539185, -0.004819998051971197, 0.017887992784380913, 0.013947556726634502, 0.01693546585738659, 0.013689041137695312, 0.02993222139775753, 0.012986017391085625, 0.01933194510638714, 0.01686791144311428, 0.005422795191407204, -0.035028714686632156, 0.017288202419877052, 0.01871681772172451, 0.012136305682361126, 1.8420149087905884, 0.018358854576945305, -0.016063978895545006, -0.09995899349451065, -0.1850607842206955, 0.027103392407298088, 0.01780947670340538, 0.010281331837177277, -0.04592214524745941, 0.012395852245390415, -0.024373430758714676, 0.01963813416659832, -0.41725295782089233, 0.01834525726735592, 0.014355137944221497, 0.02673652209341526, 0.014758700504899025, 0.017042307183146477, -0.002369650173932314, 0.019840488210320473, 0.018993064761161804, 0.008152462542057037, 0.01964733563363552, -0.07175948470830917, 0.005956539884209633, 0.001905936631374061, 0.023359982296824455, -0.151134192943573, 0.03076305240392685, 0.02595236897468567, 0.02721017226576805, 0.01637210324406624, 0.01816372014582157, -0.056340284645557404, -0.05121566355228424, 0.013702737167477608, -0.1279064118862152, -0.017834847792983055, 0.017232099547982216, 0.018899766728281975, 0.016735589131712914, -0.017016788944602013, -0.002731435000896454, 0.015319173224270344, 0.020166795700788498, 0.011824593879282475, 0.025765514001250267, -0.010658991523087025, 0.030158953741192818, 0.017586013302206993, 0.014920405112206936, 0.01872459426522255, 0.01945476047694683, 0.0171697735786438, 0.02154580131173134, 0.021549860015511513, 0.018285850062966347, -0.1304171085357666, -0.04146271571516991, 0.015119419433176517, 0.017740612849593163, 0.017995649948716164, 0.0011326150270178914, 0.01837446354329586, -0.004961847793310881, 0.0003612961736507714, 0.005782454274594784, 0.0173003152012825, 0.013296111486852169, 0.030765650793910027, 0.016876257956027985, 0.00398772768676281, 0.015005761757493019, 0.03294861316680908, 0.018140241503715515, 0.01892535760998726, 0.05492602661252022, 0.018842702731490135, 0.016623271629214287, 0.018502598628401756, 0.025680767372250557, 0.02179653011262417, 0.01615219935774803, 0.01798316463828087, -0.11649303138256073, 0.030376093462109566, -0.0051604644395411015, 0.012155380100011826, 0.017762664705514908, -0.05014767125248909, -0.029997505247592926, 0.0232516061514616, 0.018615329638123512, 0.008860178291797638, 0.01982119120657444, 0.016063209623098373, 0.01094014197587967, 0.016162274405360222, 0.019737297669053078, 0.003411565674468875, 0.014429201371967793, 0.025175100192427635, 0.07958018034696579, -0.008075201883912086, 0.018326686695218086, 0.022421082481741905, 0.010406432673335075, -0.027505967766046524, 0.019433630630373955, 0.015582045540213585, 0.020602788776159286, 0.031797003000974655, -0.1763874590396881, 0.013868092559278011, 0.018521131947636604, -0.00837655644863844, 0.014855166897177696, 0.016054274514317513, 0.06436652690172195, 0.01898781768977642, 0.01809973083436489, 0.01609683595597744, 0.03449541702866554, 0.0550922192633152, 0.023281840607523918, 0.018458867445588112, -0.18945039808750153, -8.368098860955797e-06, 0.020815927535295486, 0.03357849270105362, -0.008311474695801735, -0.04187264293432236, 0.026499975472688675, 0.012932734563946724, 0.00748093519359827, -0.011320903897285461, 0.014983590692281723, 0.018046973273158073, 0.0036153115797787905, -0.054756712168455124, -0.002035671379417181, 0.018551871180534363, 0.0138309421017766, 0.014318881556391716, 0.003476674435660243, 0.019467366859316826, 0.02345122955739498, 0.016750793904066086, 0.01662406511604786, 0.014630677178502083, 0.017341388389468193, 0.017639057710766792, 0.022047508507966995, -0.027996331453323364, -0.021614015102386475, 0.02150859124958515, -0.1844875067472458, -0.014158748090267181, -0.03451865166425705, 0.01836705021560192, 0.028860215097665787, -0.10245410352945328, 0.0034748241305351257, 0.028094874694943428, 0.018885282799601555, 0.017281049862504005, 0.0057516517117619514, 0.017400193959474564, 0.01924312300980091, -0.03299650177359581, 0.032894641160964966, 0.019482355564832687, 0.02500074729323387, 0.01768464595079422, 0.017597094178199768, -0.012257297523319721, 0.019352920353412628, 0.02164861187338829, 0.015514959581196308, 0.018503671512007713, 0.02106369100511074, 0.017725462093949318, 0.010561486706137657, 0.018680909648537636, 0.008503615856170654, -0.029688794165849686, 0.018581131473183632, 0.01438092440366745, 0.01749834604561329, -0.0517900176346302, -0.05938893184065819, 0.013706623576581478, -0.09908445179462433, 0.020184321328997612, -0.03195729851722717, 0.00496915727853775, 0.01768379472196102, 0.018644975498318672, 0.009781443513929844, -0.21827039122581482, -0.050240013748407364, 0.02855946123600006, 0.056623369455337524, 0.01880660653114319, 0.01355778519064188, 0.018404731526970863, 0.0194088127464056, 0.02178826928138733, 0.026481442153453827, 0.018198907375335693, 0.018235202878713608, 0.0186846312135458, 0.012960013002157211, 0.4449719786643982, 0.0192192941904068, 0.023704003542661667, 0.01118411123752594, 0.021390579640865326, 0.0102077079936862, 0.013828255236148834, -0.029682820662856102, 0.020628368481993675, 0.01736774854362011, 0.007593734189867973, -0.02010008692741394, 0.01746656931936741, -0.008058780804276466, 0.010098384693264961, 0.009362463839352131, 0.015833746641874313, 0.014042516238987446, 0.01904493384063244, 0.022190222516655922, -0.007469187490642071, 0.019657274708151817, 0.019207868725061417, 0.013652709312736988, 0.015544597059488297, 0.018363572657108307, -0.027615772560238838, -0.028383756056427956, -0.02414500154554844, 0.018538698554039, -0.02042512409389019, 0.019790446385741234, -0.025871235877275467, 0.012637235224246979, 0.021759718656539917, 0.0183612871915102, 0.018675964325666428, 0.0497998408973217, -0.01287542749196291, 0.0008294549188576639, 0.018943006172776222, 0.018520241603255272, 0.019419638440012932, -0.02954047918319702, 0.08822599053382874, 0.01666070707142353, -0.03313768282532692, 0.018563898280262947, -0.15169799327850342, 0.017729679122567177, 0.015935303643345833, 0.021183377131819725, 0.019944602623581886, 0.014242948964238167, -0.000364169041858986, 0.01621982641518116, 0.00497714476659894, 0.018103614449501038, 0.013884438201785088, 0.019270949065685272, 0.010874397121369839, 0.019188692793250084, -0.006717711687088013, -0.10322962701320648, 0.03391888737678528, 0.013585279695689678, 0.018549012020230293, 0.016208941116929054, -0.026777848601341248, 0.01729729026556015, 0.01950196735560894, 0.009215903468430042, 0.006667586509138346, 0.017147980630397797, -0.16269445419311523, 0.018393708392977715, 0.01977030746638775, 0.019618399441242218, 0.014999505132436752, 0.01942293345928192, 0.02089322730898857, 0.017621370032429695, 0.01859612949192524, 0.015851246193051338, 0.023744015023112297, -0.08842315524816513, 0.01714055798947811, 0.019473111256957054, 0.021162640303373337, 0.01854460872709751, 0.011219258420169353, 0.020991934463381767, 0.016414858400821686, 0.017851270735263824, 0.0018200365593656898, -0.2484399527311325, 0.03034159541130066, -0.1296776831150055, 0.014080099761486053, 0.005466877017170191, 0.018715038895606995, 0.02705882117152214, 0.010515119880437851, 0.015877697616815567, -0.0015897820703685284, 0.01789945177733898, 0.011471075937151909, 0.018979374319314957, 0.01801304519176483, 0.008924996480345726, 0.01737496256828308, 0.00793506484478712, 0.020560767501592636, 0.014552799984812737, 0.01778320223093033, 0.01779824122786522, -0.007098375353962183, -0.03818459063768387, 0.01933087408542633, 0.023513734340667725, 0.019415978342294693, 0.029863422736525536, 0.028677359223365784, 0.01822255551815033, 0.006884124130010605, 0.026028264313936234, 0.036758728325366974, 0.014515358954668045, 0.02382764033973217, 0.01719006896018982, 0.008962790481746197, 0.018107309937477112, 0.01667654514312744, 0.014810199849307537, 0.0007807741058059037, 0.011764530092477798, 0.018560007214546204, 0.019059304147958755, -0.15828102827072144, 0.017294220626354218, -0.3684534728527069, 0.018000349402427673, 0.017937934026122093, 0.018127920106053352, -0.15653006732463837, 0.03904309496283531, 0.025791490450501442, -0.007097090128809214, -0.17922328412532806, 0.014226940460503101, 0.0181668009608984, 0.01804388500750065, 0.01736532896757126, 0.017907265573740005, 0.025221681222319603, -0.03103899583220482, -0.1060359850525856, -0.022589460015296936, 0.020601816475391388, 0.01819082349538803, 0.019603528082370758, 0.017458723857998848, -0.03896717727184296, 0.01847751811146736, 0.01711522974073887, 0.052508316934108734, 0.018080733716487885, 0.05059469863772392, 0.02123703621327877, 0.018436932936310768, 0.0200283732265234, 0.011751477606594563, 0.0156246991828084, 0.01801963709294796, -0.023906145244836807, 0.015936611220240593, 0.012812074273824692, 0.018586773425340652, 0.025389986112713814, 0.01750795729458332, 0.0183572880923748, -0.1526361107826233, 0.01860133558511734, -0.12170638144016266, -0.36198127269744873, 0.03934047743678093, 0.01810138113796711, -0.1302233338356018, 0.020014138892292976, 0.01576504297554493, 0.02089790254831314, 0.014711049385368824, -0.2970442771911621, -0.0160540621727705, 0.018900297582149506, 0.018383171409368515, 0.018323030322790146, 0.013191505335271358, 0.018606318160891533, 0.01828022114932537, 0.019234320148825645, 0.020338570699095726, -0.003880265634506941, -0.00887704361230135, 0.006828625686466694, -0.048226773738861084, -0.1318739950656891, 0.01219002902507782, 0.01942969113588333, -0.2976655066013336, 0.0002576358965598047, -0.015094276517629623, -0.04799869656562805, 0.018359242007136345, 0.02194737084209919, -0.019553424790501595, 0.020196441560983658, 0.029152030125260353, 0.025595545768737793, 0.017730221152305603, 0.026045845821499825, 0.042749594897031784, 0.01802300103008747, -0.01102406159043312, 0.004448036663234234, 0.018725667148828506, -0.02373906970024109, 0.014920405112206936, -0.010294532403349876, -0.016801301389932632, 0.027003224939107895, 0.018604403361678123, 0.02502213418483734, 0.018315592780709267, 0.013025282882153988, 0.019463805481791496, 0.005697373300790787, 0.01588735729455948, 0.004225860815495253, 0.008804311975836754, 0.020345916971564293, -0.3544301390647888, 0.015940489247441292, 0.0199538953602314, 0.005248539615422487, -0.009607906453311443, 0.018758291378617287, 0.019473742693662643, 0.020234474912285805, 0.024251393973827362, 0.02438541315495968, 0.01958566904067993, -0.0018248747801408172, 0.018084023147821426, 0.025034243240952492, -0.019366001710295677, 0.019875887781381607, 0.018211619928479195, 0.006246085744351149, 0.02182863838970661, 0.018464116379618645, 0.015231691300868988, 0.043387219309806824, 0.011677131056785583, 0.02295534685254097, 0.019996829330921173, 0.007121744100004435, 0.01777874305844307, 0.018508147448301315, 0.007427554111927748, 0.017481889575719833, 0.009828327223658562, 0.018107237294316292, 0.01856101118028164, -0.0727911964058876, 0.013506711460649967, -0.23608456552028656, -0.09877535700798035, -0.009599247016012669, 0.01943991519510746, 0.018229937180876732, -0.0032315286807715893, 0.029763072729110718, -0.0021624770015478134, 0.01858431287109852, 0.03854754939675331, 0.022819364443421364, 0.010991482995450497, 0.01165703684091568, 0.017013370990753174, 0.04839366674423218, 0.0406096912920475, 0.015948424115777016, 0.013006334193050861, 0.019556382670998573, 0.018333083018660545, 0.021762236952781677, 0.022833146154880524, 0.003338456619530916, 0.019268864765763283, 0.010642275214195251, 0.02133137360215187, 0.019281411543488503, 0.02184111997485161, 0.01953631266951561, -0.002352529438212514, 0.01689361035823822, -0.07101184874773026, -0.005668968893587589, 0.016070179641246796, -0.019416557624936104, 0.016759444028139114, 0.02376171201467514, 0.020413793623447418, 0.02029276266694069, 0.013290324248373508, 0.046103958040475845, 0.018638981506228447, 0.019493594765663147, 0.022141503170132637, 0.019960857927799225, 0.0190961305052042, -0.0007378483423963189, 0.01680319756269455, 0.01754114031791687, 0.017828183248639107, 0.01900208741426468, 0.019742624834179878, 0.01802997663617134, -0.06314735859632492, 0.017242146655917168, 0.027674570679664612, -0.10875122994184494, 0.0741090402007103, 0.017939886078238487, 0.016326239332556725, 0.02833535522222519, 0.01074810978025198, -0.03177151083946228, 0.015396990813314915, 0.008002273738384247, 0.019854258745908737, 0.018848547711968422, 0.012164907529950142, 0.002203192561864853, 0.018056297674775124, 0.01814129762351513, 0.014057091437280178, 0.01829502359032631, 0.016821973025798798, 0.022955741733312607, 0.018995868042111397, 0.015218989923596382, 0.012371726334095001, 0.017182841897010803, 0.012710228562355042, 0.017725495621562004, 0.018973708152770996, 0.01915154419839382, 0.018317995592951775, 0.0194618571549654, 0.019683850929141045, 0.012569095939397812, 0.009794679470360279, -0.023190084844827652, -0.024547740817070007, 0.017995649948716164, 0.026698995381593704, 0.018403436988592148, 0.020290836691856384, 0.03715119883418083, -0.0053849839605391026, -0.3025318682193756, 0.020385941490530968, 0.003200769191607833, 0.0182864498347044, 0.05928843468427658, -0.04929535835981369, 0.033791352063417435, -0.014659320004284382, 0.008159757591784, -0.11901253461837769, 0.00998846348375082, -0.0012294023763388395, 0.01855309121310711, 0.009141765534877777, 0.041863854974508286, -0.08404402434825897, -0.04989073798060417, 0.021285375580191612, 0.018731247633695602, 0.019925754517316818, 0.018199654296040535, 0.014238458126783371, 0.018428556621074677, 0.01817198470234871, 0.013613748364150524, -0.008534370921552181, 0.004713770002126694, 0.018041471019387245, 0.018812289461493492, 0.018430575728416443, -0.014530947431921959, 0.018501080572605133, 0.018520431593060493, 0.016704879701137543, 0.012148289941251278, 0.01772228628396988, 0.0042624277994036674, 0.03214007243514061, -0.012322562746703625, 0.017838936299085617, 0.0018894264940172434, 0.017974426969885826, 0.019253743812441826, -0.11802192777395248, 0.0196472629904747, 0.009337030351161957, -0.10473885387182236, 0.018469415605068207, 0.019582323729991913, 0.006878361571580172, -0.2857652008533478, -0.10416693985462189, 0.020281579345464706, 0.022334612905979156, 0.02070927992463112, 0.027599304914474487, 0.019090360030531883, 0.060051508247852325, 0.011705804616212845, 0.018295399844646454, 0.001078787143342197, 0.013549702242016792, 0.16456104815006256, 0.018362125381827354, -0.20532537996768951, 0.021045025438070297, 0.010288304649293423, 0.02793821692466736, -0.022163864225149155, 0.019904904067516327, 0.018529972061514854, -0.07220061123371124, -0.09487242251634598, 0.01836172677576542, 0.03387173265218735, 0.03184719756245613, 0.017200274392962456, 0.01625439152121544, 0.018549012020230293, -0.11092070490121841, 0.01944160833954811, 0.0034760439302772284, -0.0027483832091093063, 0.019020477309823036, -0.0002352686133235693, 0.018361477181315422, 0.032158076763153076, 0.006569261662662029, -0.032009631395339966, 0.0013294629752635956, 0.03876470401883125, -0.012995177879929543, 0.013598727062344551, 0.008754588663578033, 0.013488887809216976, 0.00548258051276207, 0.021972503513097763, -0.005939059425145388, 0.021822605282068253, 0.09456417709589005, 0.025332139804959297, 0.029671594500541687, 0.019832631573081017, -0.26631495356559753, 0.027260318398475647, 0.01263319980353117, 0.017709987238049507, 0.009217656217515469, 0.016621975228190422, 0.033581677824258804, 0.018064655363559723, 0.02094598300755024, 0.0021096414420753717, 0.025047263130545616, 0.01852426677942276, 0.007251589093357325, -0.020267892628908157, 0.05570041388273239, -0.053030289709568024, 0.006417910102754831, 0.0222881268709898, 0.01934293657541275, -0.022067174315452576, 0.01793741248548031, -0.012082748115062714, -0.05787926912307739, -0.007837257348001003, -0.020887311547994614, 0.019084865227341652, -0.0513923205435276, -0.12999674677848816, 0.01830705814063549, 0.03093750774860382, 0.017782064154744148, 0.006323687266558409, 0.018219688907265663, 0.013432319276034832, 0.02176732011139393, 0.009506691247224808, 0.018813757225871086, 0.02104034461081028, 0.011802468448877335, 0.020845219492912292, -0.019956525415182114, 0.028997885063290596, 0.020351501181721687, 0.00037178932689130306, -0.14759774506092072, 0.018159694969654083, -0.1802884191274643, 0.01910027116537094, -0.049296580255031586, 0.020141061395406723, 0.020384296774864197, 0.017974600195884705, -0.011111492291092873, -0.07495380938053131, -0.07651800662279129, 0.009728078730404377, 0.043061550706624985, 0.037015728652477264, 0.007227413821965456, 0.01912415213882923, -0.016683809459209442, 0.019575197249650955, 0.019460968673229218, 0.01952653005719185, -0.09799226373434067, 0.01875469833612442, 0.011870816349983215, 0.018504921346902847, 0.018434876576066017, 0.017660746350884438, -0.03675738349556923, -0.06443493068218231, -0.07512525469064713, 0.018697934225201607, 0.012620728462934494, 0.018936248496174812, 0.018762793391942978, 0.020995089784264565, 0.02344987727701664, 0.01846940442919731, 0.020304515957832336, -0.03155747428536415, 0.018373550847172737, 0.005954443942755461, 0.017374861985445023, 0.030302686616778374, 0.019133955240249634, 0.01596960425376892, 0.021456418558955193, 0.027870524674654007, 0.03777410835027695, 0.01921105571091175, 0.014368369244039059, 0.02234092727303505, 0.016092848032712936, -0.02529505267739296, 0.003288743318989873, -0.026493359357118607, 0.020989369601011276, -0.047870706766843796, 0.017458977177739143, 0.019496891647577286, 0.018144764006137848, 0.060361701995134354, -0.06765624135732651, 0.016971876844763756, -4.976054697181098e-05, 0.01918206922709942, 0.018421178683638573, -0.05162245035171509, -4.8944930313155055e-05, 0.00861167162656784, -0.1783120036125183, 0.028490450233221054, 0.018017806112766266, 0.02888086810708046, 0.007898952811956406, -0.19528985023498535, 0.013479680754244328, -0.053140752017498016, 0.009814447723329067, -0.049187999218702316, 0.011986073106527328, 0.012941807508468628, 0.026791391894221306, 0.008731603622436523, 0.018800759688019753, 0.01792406663298607, 0.01823464222252369, 0.015456200577318668, -0.10711830109357834, 0.01960907317698002, 0.024376211687922478, 0.022430939599871635, -0.0640985444188118, 0.017676055431365967, 0.044034410268068314, 0.02724454365670681, 0.01816406287252903, -0.025731440633535385, 0.020866965875029564, 0.018828658387064934, 0.019249191507697105, 0.017791517078876495, 0.017475498840212822, 0.012801410630345345, 0.01712065003812313, 0.01494476106017828, 0.018749143928289413, 0.016908876597881317, -0.04587852582335472, 0.017498761415481567, 0.018188588321208954, 0.020911892876029015, 0.02882002480328083, 0.023406634107232094, 0.011439015157520771, 0.018753118813037872, 0.014743618667125702, 0.01645529270172119, 0.017902176827192307, -0.09784172475337982, -0.09444960206747055, 0.018825393170118332, -0.05411531776189804, 0.018168963491916656, -0.0006631483556702733, -0.036135971546173096, -0.029969170689582825, 0.014660479500889778, 0.01808128133416176, -0.011160260066390038, 0.01877249777317047, -0.08490533381700516, 0.011387047357857227, 0.019924785941839218, 0.003802879946306348, -0.01406918466091156, 0.025868142023682594, 0.006209744606167078, 0.01864384487271309, 0.01775657944381237, 0.018709147348999977, 0.019328592345118523, 0.018273891881108284, 0.020140456035733223, 0.0018743635155260563, 0.01839863508939743, 0.018494604155421257, 0.023050880059599876, 0.012264285236597061, 0.010054618120193481, -0.04290100932121277, 0.017887191846966743, 0.01389484852552414, -0.019262226298451424, 0.018755970522761345, 0.006857156753540039, -0.11171421408653259, 0.012750170193612576, 0.01811487227678299, 0.03382597491145134, 0.00808996893465519, 0.00375133054330945, 0.02794056013226509, 0.0166171807795763, -0.04366584122180939, -0.009496835060417652, 0.018648292869329453, 0.018626313656568527, 0.016232319176197052, 0.018118780106306076, 0.0228754710406065, -0.18970318138599396, 0.008241638541221619, 0.00392789114266634, 0.014151392504572868, 0.016174832358956337, 0.004012518096715212, 0.023675644770264626, 0.018223091959953308, 0.019554762169718742, -0.021828951314091682, 0.006458661053329706, 0.016248507425189018, 0.019826417788863182, 1.0068435668945312, -0.14761832356452942, 0.005778871476650238, 0.0187090951949358, 0.015881933271884918, 0.0041690426878631115, 0.011490884236991405, 0.005123289301991463, 0.009956237860023975, 0.012615249492228031, 0.0070391264744102955, 0.020239757373929024, 0.01644165627658367, 0.018606198951601982, 0.018389349803328514, 0.03403089940547943, -0.14166933298110962, 0.013974812813103199, -0.005696152336895466, 0.01521502248942852, 0.006557035259902477, 0.01826675422489643, 0.018258335068821907, 0.022748377174139023, -0.07784201204776764, -0.08124740421772003, 0.01835162192583084, 0.01665574684739113, 0.02565601095557213, 0.021093295887112617, 0.011617973446846008, 0.011063764803111553, 0.01898822747170925, 0.01221146248281002, -0.08704130351543427, 0.016573570668697357, 0.01759396307170391, 0.02556079812347889, -0.03152341768145561, 0.014435957185924053, 0.01970725506544113, 0.017938625067472458, 0.018674105405807495, 0.012253816239535809, 0.015821795910596848, 0.02459387667477131, -0.021533571183681488, 0.01996389776468277, 0.04894489049911499, 0.025446634739637375, 0.015129799954593182, -0.04521559923887253, -0.20792432129383087, -0.07768162339925766, 0.01826820708811283, 0.022074803709983826, 0.027706721797585487, -0.1789698749780655, 0.015073510818183422, 0.01872878335416317, 0.010670057497918606, 0.01825074665248394, 0.013991409912705421, 0.014532080851495266, 0.01807434856891632, 0.020921388640999794, -0.020969439297914505, 0.018034879118204117, 0.014524797908961773, 0.019346361979842186, -0.08625667542219162, 7.063921657390893e-05, -0.045830074697732925, 0.035324349999427795, 0.04425860196352005, 0.018901024013757706, 0.0036362502723932266, 0.016486404463648796, 0.018500830978155136, -0.0006415281095542014, 0.030318964272737503, 0.01804269291460514, 0.017600543797016144, 0.018221087753772736, -0.004886462353169918, 0.008801810443401337, 0.014713684096932411, 0.02087162621319294, 0.00847829319536686, 0.012571288272738457, -0.11425787210464478, 0.014150381088256836, 0.03489941358566284, -0.022694583982229233, 0.010380206629633904, 0.012057051062583923, 0.015998907387256622, 0.008096644654870033, -0.2062745988368988, 0.023529665544629097, 0.019242914393544197, 0.014109442941844463, 0.02038651518523693, 0.021528879180550575, 0.006501676049083471, 0.018215758726000786, 0.016130078583955765, 0.013397485949099064, -0.07449538260698318, 0.018985232338309288, 0.018557636067271233, -0.005658784881234169, -0.03289498761296272, 0.017559757456183434, 0.018635636195540428, -0.10587961226701736, 0.005624124314635992, 0.0258498452603817, 0.011455071158707142, 0.020841103047132492, -0.004859966225922108, 0.014760931022465229, 0.019086729735136032, 0.017938047647476196, 0.0205051451921463, -0.29793211817741394, 0.011698132380843163, 0.03660929203033447, 0.0016520061763003469, 0.01569019816815853, 0.015100444667041302, 0.01845274120569229, 0.016654204577207565, 0.008729222230613232, -0.005492211785167456, 0.013723763637244701, -0.0032366146333515644, 0.017260467633605003, 0.029016312211751938, 0.013336101546883583, 0.014274452812969685, 0.013731936924159527, 0.005541555117815733, -0.17107608914375305, 0.03865736350417137, 0.017237374559044838, -0.17917251586914062, 0.014890853315591812, 0.01907539926469326, 0.016978194937109947, 0.025223292410373688, 0.018180742859840393, 0.019047627225518227, -0.02142469212412834, 0.021955497562885284, 0.015345160849392414, 0.031882163137197495, 0.17812012135982513, 0.017351876944303513, 0.021559840068221092, -0.034212153404951096, -0.009437614120543003, 0.020584890618920326, 0.6378679275512695, -0.2136879563331604, 0.0030315809417515993, 0.02198152430355549, 0.016913892701268196, 0.01921701245009899, -0.09352481365203857, 0.01862012967467308, -0.01514213252812624, 0.01764249987900257, 0.013695118948817253, 0.02038438804447651, 0.019699253141880035, 0.018119176849722862, 0.027083007618784904, 0.015318106859922409, -0.10056784749031067, 0.01910986937582493, 0.009926637634634972, 0.014636585488915443, 0.01915367878973484, 0.017425255849957466, 0.002099663484841585, 0.032051391899585724, -0.03593995422124863, 0.022733088582754135, 0.01876707375049591, -0.14288799464702606, 0.016131626442074776, 0.0180737916380167, 0.020723572000861168, -0.0036026041489094496, 0.019812244921922684, -0.028259411454200745, 0.01737157255411148, 0.017449041828513145, -0.014842615462839603, -0.11464589834213257, 0.015408783219754696, -0.005742656532675028, 0.01790485717356205, -0.014249598607420921, 0.02678140252828598, 0.018473107367753983, 0.028454169631004333, 0.018985718488693237, -0.08627033978700638, 0.01678714156150818, 0.01909216307103634, -0.005797395948320627, -0.01640714704990387, 0.0014380349311977625, 0.02104870416224003, 0.014732923358678818, -0.007083453703671694, 0.018151020631194115, -0.008951306343078613, 0.004442101810127497, 0.01916724443435669, -0.05464858561754227, 0.0180331002920866, 0.016940481960773468, 0.01823410950601101, -0.01751764677464962, 0.0023257213179022074, -0.004807350225746632, 0.020041154697537422, 0.016167111694812775, 0.020542152225971222, 0.10856425017118454, -0.01780817098915577, 0.019146421924233437, 0.014729310758411884, 0.04038030281662941, 0.016589609906077385, 0.018015628680586815, -0.04909603297710419, 0.0192002784460783, 0.016510741785168648, 0.02984783425927162, 0.017725037410855293, 0.01826750673353672, 0.009649214334785938, 0.018229641020298004, 0.01872698962688446, 0.018082663416862488, 0.01861593686044216, 0.018510261550545692, -0.028106946498155594, 0.02010210044682026, 0.03222525492310524, 0.019147783517837524, 0.026418602094054222, 0.018360581248998642, 0.024377476423978806, 0.018098654225468636, -0.16902200877666473, 0.006467146333307028, 0.018207069486379623, -0.04539846256375313, -0.04378394037485123, 0.018214769661426544, 0.022576600313186646, 0.014958729036152363, 0.019097620621323586, 0.01910397596657276, 0.022205451503396034, 0.018294010311365128, 0.028914541006088257, 0.018390590324997902, -0.0047265817411243916, 0.22104020416736603, -0.15075387060642242, 0.01843855530023575, -0.08319586515426636, 0.01725132018327713, 0.025859972462058067, 0.01787588745355606, -0.0008783598314039409, 0.013534793630242348, 0.018046172335743904, 0.018409984186291695, 0.01839410327374935, 0.0054352604784071445, -0.019461654126644135, 0.015719756484031677, 0.01959182508289814, 0.028786661103367805, -0.1875833123922348, 0.01842930167913437, 0.010084809735417366, -0.004753592424094677, -0.03411673381924629, 0.01850157417356968, 0.02939232438802719, 0.016572700813412666, 0.032625921070575714, 0.02031942456960678, 0.021592063829302788, 0.018625041469931602, 0.017267553135752678, 0.012525223195552826, 0.0190220158547163, -0.07453202456235886, 0.03835415840148926, 0.014693640172481537, -0.01870211586356163, 0.007145468145608902, -0.048506323248147964, 0.02165812812745571, 0.019340960308909416, -0.0313270166516304, 0.027574608102440834, 0.018645593896508217, 0.01774768903851509, 0.02835392765700817, 0.018607940524816513, 0.025856874883174896, 0.018273774534463882, 0.017438359558582306, 0.017739642411470413, 0.018070945516228676, 0.014345582574605942, -0.05620022118091583, 0.05027790740132332, 0.024612953886389732, 0.017585644498467445, 0.009966088458895683, -0.24516457319259644, -0.15795902907848358, 0.009577755816280842, 0.014207961969077587, 0.007553389761596918, 0.030370140448212624, 0.015232695266604424, 0.018388573080301285, 0.018730061128735542, 0.020144062116742134, 0.017881527543067932, 0.014679702930152416, 0.01918892376124859, 0.01983059197664261, -0.07061704248189926, 0.0027503797318786383, 0.025984982028603554, 0.007438790053129196, 0.01178690791130066, 0.023846181109547615, 0.03015241026878357, -0.0155344158411026, -0.030507998540997505, -0.09496583044528961, 0.016104206442832947, 0.02109920047223568, 0.018031863495707512, 0.018916333094239235, -0.01695273071527481, 0.03001505136489868, 0.014854048378765583, 0.02100507915019989, 0.014566381461918354, 0.030633287504315376, -0.055338725447654724, 0.022165831178426743, 0.016661114990711212, -0.027227414771914482, 0.023546138778328896, -0.0583970844745636, 0.015048346482217312, 0.020612051710486412, 0.01617336831986904, -0.006127594504505396, 0.01772812195122242, -0.04202476516366005, 0.006636613514274359, 0.015176176093518734, 0.007146201096475124, 0.032467179000377655, -0.18681468069553375, -0.012805075384676456, 0.020777715370059013, 0.018479343503713608, 0.016443155705928802, 0.027965908870100975, 0.018683822825551033, 0.03688548505306244, 0.01815824955701828, 0.01876385137438774, 0.019089631736278534, 0.018159708008170128, 0.020388321951031685, 0.01797305792570114, 0.018454506993293762, -0.01183983962982893, 0.01949867606163025, 0.023080244660377502, 0.023955974727869034, 0.0158490389585495, 0.009590252302587032, 0.018195392563939095, 0.01895260624587536, 0.017502237111330032, 0.017027946189045906, 0.019601350650191307, 0.012634973973035812, 0.019832344725728035, 0.019058000296354294, -0.02473301999270916, 0.0033990778028964996, 0.020831985399127007, 0.005676766857504845, -0.011418855749070644, 0.0032129138708114624, 0.018190348520874977, 0.021371668204665184, 0.013409425504505634, 0.019487688317894936, 0.008593565784394741, 0.016884014010429382, 0.018440693616867065, 0.011706472374498844, 0.01786228083074093, -0.005830860696732998, 0.04622391611337662, 0.018185697495937347, -0.0011927876621484756, 0.005118909757584333, 0.0359223410487175, 0.016317179426550865, -0.02574021741747856, -0.008737314492464066, 0.05027231574058533, -0.06920719146728516, 0.018432052806019783, -0.10433284938335419, 0.034212421625852585, -0.0008241919567808509, 0.005172081757336855, -0.017016496509313583, -0.0017970097251236439, 0.019955486059188843, 0.019072022289037704, -0.02423611655831337, 0.021701518446207047, -0.007478743325918913, 0.018714118748903275, -0.03500733524560928, 0.01225961558520794, 0.015693342313170433, 0.013713888823986053, -0.014235017821192741, 0.01842178776860237, 0.03235771134495735, 0.025184132158756256, 0.019052594900131226, 0.037241507321596146, 0.018151359632611275, 0.020885314792394638, 0.0144896125420928, 0.026430165395140648, 0.017574571073055267, 0.020640447735786438, -0.09878426045179367, 0.020350096747279167, 0.009027241729199886, 0.020405156537890434, -0.19176320731639862, -0.020451955497264862, -0.214786559343338, 0.015338597819209099, 0.017494365572929382, 0.018429815769195557, 0.028815029188990593, -0.0028055126313120127, 0.018107838928699493, 0.003438062034547329, 0.0519489161670208, -0.02684955485165119, 0.006913534831255674, 0.019644707441329956, 0.01196677703410387, 0.013164934702217579, 0.017807552590966225, 0.032374221831560135, 0.017656639218330383, 0.00403628870844841, 0.007984936237335205, -0.007469021249562502, 0.020486829802393913, 0.018799347802996635, 0.01927323453128338, 0.02577827498316765, 0.033056482672691345, 0.01815425418317318, -0.01589442789554596, 0.011072784662246704, 0.02627531811594963, -0.011974160559475422, 0.00144668179564178, 0.019065894186496735, 0.02696520835161209, 0.0026390282437205315, 0.010741381905972958, -0.023628855124115944, 0.014015015214681625, -0.010445687919855118, 0.0160389207303524, 0.012262919917702675, 0.020031262189149857, 0.018288342282176018, 0.010162945836782455, 0.019099555909633636, 0.023680303245782852, 0.017528876662254333, -0.024272771552205086, 0.019254518672823906, 0.022339818999171257, 0.028923384845256805, -0.019202275201678276, 0.015459256246685982, 0.017880044877529144, -0.0028556957840919495, 0.006219683215022087, 0.020253919064998627, 0.02153468318283558, -0.027415001764893532, 0.01951495371758938, 0.009207086637616158, 0.002563011134043336, -0.038656242191791534, 0.017376644536852837, 0.014551907777786255, 0.00829645898193121, -0.03584316000342369, 0.018500134348869324, 0.01603062078356743, -0.03336838632822037, 0.018899766728281975, 0.01744220219552517, 0.017632778733968735, 0.018403032794594765, 0.018832581117749214, 0.023799186572432518, -0.0030095535330474377, 0.019998714327812195, 0.018432818353176117, 0.017981428653001785, 0.01649860106408596, 0.004908124916255474, 0.04365532100200653, 0.017076525837183, 0.019747521728277206, -0.020506735891103745, 0.0166684091091156, 0.020098790526390076, 0.016185801476240158, 0.042179662734270096, 0.009032992646098137, 0.07499386370182037, -0.009611005894839764, 0.017300961539149284, 0.020094210281968117, 0.01758844032883644, 0.017975255846977234, -0.0476660281419754, 0.013967519626021385, 0.01943972148001194, -0.18249087035655975, 0.018527114763855934, 0.01111177634447813, -0.35048604011535645, -0.05149267986416817, 0.011054779402911663, 0.012876645661890507, -0.02106942981481552, -0.049104731529951096, 0.0190602857619524, -0.006842613685876131, 0.01577366143465042, 0.018780063837766647, 0.016708066686987877, 0.01089305616915226, 0.017673585563898087, 0.027682246640324593, 0.01856663078069687, 0.016248216852545738, 0.01676475815474987, 0.013978037051856518, 0.01771126687526703, 0.00013405921345110983, 0.007342790253460407, -0.03550814464688301, 0.001200868166051805, -0.0770183578133583, 0.021225253120064735, 0.01998237892985344, 0.01934831589460373, 0.015643218532204628, 0.018580371513962746, 0.015561426989734173, 0.018744414672255516, 0.0172906294465065, 0.017680229619145393, -0.20910105109214783, 0.008035740815103054, 0.016965914517641068, -0.002388045657426119, 0.01810038648545742, -0.02377302013337612, 0.005922380369156599, 0.020054243505001068, 0.0037420198787003756, 0.014924842864274979, 0.019757047295570374, -0.2508021891117096, 0.01805967092514038, 0.021328259259462357, 0.0028239618986845016, 0.030041780322790146, -0.016811365261673927, 0.014811435714364052, 0.018170788884162903, -0.08006682246923447, -0.0021223833318799734, 0.009213698096573353, 0.009422474540770054, 0.018439270555973053, 0.009809816256165504, 0.01757139526307583, 0.01642836630344391, 0.021133556962013245, 0.018002107739448547, 0.020612293854355812, 0.022460078820586205, 0.018085917457938194, -0.011851577088236809, 0.019350973889231682, 0.014502494595944881, -0.00994767714291811, 0.02006177417933941, 0.019248811528086662, 0.01605251245200634, 0.013507099822163582, -0.014962952584028244, 0.013618244789540768, 0.00394425168633461, -0.0012966181384399533, 0.019263463094830513, 0.018083052709698677, 0.013810419477522373, 0.01976453699171543, -0.0049514868296682835, 0.016820022836327553, 0.020803770050406456, 0.021127842366695404, 0.014437868259847164, 0.015622014179825783, 0.018109800294041634, 0.01627114601433277, 0.018343692645430565, 0.005478971172124147, -0.0748060867190361, -0.09011523425579071, -0.02866818569600582, 0.0014131631469354033, 0.022138424217700958, 0.01758500188589096, 0.006248177029192448, -0.012876147404313087, 0.02270914614200592, 0.013131625019013882, 0.030900806188583374, 0.020031260326504707, -0.022243328392505646, -0.01563486084342003, 0.02282251976430416, 0.028007587417960167, 0.010491235181689262, 0.013138468377292156, 0.014426633715629578, -0.11676960438489914, -0.0016853397246450186, 0.018318556249141693, 0.01669960469007492, 0.005464256275445223, 0.013781800866127014, 0.018046993762254715, 0.00800564605742693, 0.01388931181281805, -0.05376288667321205, 0.01896030269563198, 0.007031950168311596, 0.01795155555009842, 0.008084913715720177, -0.019819192588329315, 0.01950189657509327, -0.10749594122171402, 0.016810327768325806, -0.0432220883667469, 0.017159778624773026, 0.005362917203456163, -0.2095135748386383, 0.019481875002384186, 0.018275542184710503, -0.0892622172832489, 0.02106637693941593, 0.01954125240445137, 0.008814065717160702, 0.019270939752459526, 0.01780221424996853, 0.018788941204547882, 0.01934026926755905, -0.16549016535282135, 0.020227152854204178, 0.018147524446249008, 0.018745621666312218, 0.021206391975283623, -0.048082467168569565, 0.01610785908997059, 0.006999720819294453, 0.017261195927858353, 0.021896861493587494, 0.01887066289782524, 0.020411737263202667, 0.017400499433279037, 0.011389371939003468, 0.023587604984641075, 0.025004325434565544, 0.018921488896012306, -0.018768951296806335, 0.0013973951572552323, 0.01669662818312645, 0.018000343814492226, 0.017906371504068375, 0.01953181065618992, 0.0187789686024189, 0.006643310189247131, 0.007962411269545555, 0.023389317095279694, 0.025057993829250336, 0.01970016583800316, 0.0178560558706522, 0.03176198527216911, -0.050266798585653305, 0.016551239416003227, 0.02829212136566639, 0.016747867688536644, 0.017734263092279434, 0.018154200166463852, -0.02248302847146988, 0.01209955383092165, 0.019393468275666237, 0.01825876347720623, -0.023200536146759987, 0.01649562641978264, 0.01827625371515751, 0.01824292354285717, 0.048327285796403885, -0.01964794658124447, 0.020429739728569984, 0.019468490034341812, -0.015317662619054317, 0.020331554114818573, 0.01770132966339588, 0.018584592267870903, 0.01871049404144287, 0.008528724312782288, 0.022016815841197968, 0.017185665667057037, 0.0002871578326448798, -0.06352441012859344, -0.07604627311229706, 0.020022833719849586, 0.02016424387693405, 0.019506040960550308, 0.008111201226711273, 0.01795358397066593, -0.02046646550297737, 0.024539848789572716, 0.019157903268933296, 0.004684005863964558, 0.017172256484627724, 0.012114999815821648, 0.028686916455626488, 0.02015182003378868, 0.0039019605610519648, 0.03203180059790611, 0.012571492232382298, -0.009210415184497833, 0.018115241080522537, 0.021705368533730507, -0.010220477357506752, 0.013948837295174599, 0.005260802805423737, 0.01729729026556015, 0.018892204388976097, 0.01972949132323265, 0.01233097817748785, -0.04693993180990219, -0.16038475930690765, 0.018330954015254974, -0.07486830651760101, 0.04535842314362526, -0.009427553042769432, 0.018637001514434814, 0.018079813569784164, -0.30355143547058105, -0.1176256388425827, 0.01828436367213726, 0.025281095877289772, 0.017397642135620117, 0.02506289817392826, 0.014824236743152142, 0.03048308752477169, 0.017182204872369766, -0.018940379843115807, 0.08782044798135757, 0.012996546924114227, 0.016663745045661926, 0.01588866114616394, 0.005433718208223581, 0.0190444216132164, -0.06640482693910599, -0.027348076924681664, -0.004314739257097244, 0.019132506102323532, 0.024788757786154747, 0.02147766947746277, 0.017158452421426773, 0.02649257704615593, 0.01857106015086174, -0.11423175036907196, 0.016224229708313942, 0.01686788536608219, -0.024348808452486992, -0.006060196552425623, 0.01073985081166029, 0.018649758771061897, -0.02964036352932453, -0.24518653750419617, 0.019869619980454445, 0.015524308197200298, 0.018254926428198814, 0.018247714266180992, 0.007970357313752174, 0.022830914705991745, 0.01997302658855915, 0.015929941087961197, -0.01825353130698204, -0.013530248776078224, 0.017577489838004112, 0.03354940563440323, 0.018288135528564453, 0.05592765286564827, 0.019010670483112335, 0.018471626564860344, -0.016384366899728775, 0.01864173635840416, -0.02941153384745121, -0.13502246141433716, 0.020152444019913673, 0.021063808351755142, 0.09192252159118652, 0.012511039152741432, 0.020523928105831146, 0.015528872609138489, -0.03178303316235542, -0.08842973411083221, 0.027155274525284767, 0.01790708117187023, -0.02751244604587555, 0.0018172812415286899, -0.0009103345801122487, 0.0068005649372935295, 0.0328482985496521, 0.018511231988668442, -0.2285407930612564, 0.011687899939715862, 0.01854833774268627, 0.008491733111441135, 0.012993921525776386, 0.018720204010605812, 0.01228378713130951, 0.01663483865559101, 0.0038865108508616686, -0.002814865903928876, 0.01862475275993347, 0.01578434929251671, 0.010735597461462021, 0.01905139908194542, 0.015749244019389153, -0.0024726027622818947, 0.017530160024762154, 0.018959317356348038, 0.024748846888542175, -0.357170045375824, -0.19978450238704681, 0.018327906727790833, 0.01854267530143261, 0.03113609179854393, 0.014147775247693062, 0.018535571172833443, -0.0071506015956401825, 0.020424101501703262, 0.01843877136707306, 0.006538840942084789, 0.017220186069607735, -0.007785290479660034, 0.003436870174482465, -0.01200073305517435, 0.01797284185886383, 0.022483140230178833, 0.0032263551838696003, 0.019009176641702652, 0.018214769661426544, 0.0004123019753023982, 0.04262037202715874, -0.04167060926556587, 0.017684070393443108, 0.01295542623847723, -0.003081978764384985, 0.016976648941636086, 0.019189735874533653, 0.01803300529718399, 0.009910574182868004, -0.2788436710834503, -0.015310860238969326, 0.06033329665660858, 0.04106709733605385, 0.010462294332683086, -0.006554745603352785, 0.014807968400418758, -0.030756758525967598, 0.01051168330013752, -0.03342529386281967, -0.006811872124671936, -0.07829184085130692, 0.01473288331180811, 0.010648317635059357, 0.02524723671376705, -0.11558268219232559, 0.022083161398768425, 0.015339608304202557, 0.01972196437418461, 0.01130185928195715, 0.00955523643642664, 0.013137358240783215, 0.01987447962164879, -0.015763282775878906, -0.13225272297859192, 0.011389387771487236, 0.018317995592951775, 0.0194690003991127, 0.03841470927000046, 0.005372409708797932, 0.02105996198952198, -0.238783597946167, -0.0111507223919034, 0.023747442290186882, -0.14820325374603271, 0.012661655433475971, 0.020368171855807304, 0.01877574808895588, -0.3627496659755707, -0.1333385556936264, -0.06596843898296356, -0.10875067114830017, 0.005085322540253401, 0.016511419788002968, -0.003834397066384554, 0.033888429403305054, 0.019602801650762558, 0.015528872609138489, 0.008029738441109657, -0.0663239136338234, 0.016573835164308548, 0.01869913749396801, 0.011713748797774315, 0.02124464325606823, 0.018027788028120995, 0.019837340340018272, 0.020456058904528618, -0.04905983433127403, 0.010671260766685009, 0.012700259685516357, -0.0015287288697436452, -0.002863250905647874, 0.013041513040661812, 0.012181318365037441, 0.015861622989177704, 0.014712774194777012, 0.01812649331986904, 0.018075045198202133, 0.009797087870538235, 0.017902176827192307, 0.022614935413002968, -0.03315860033035278, 0.02011265605688095, -0.045191653072834015, 0.019384533166885376, 0.013545051217079163, 0.01833285763859749, 0.026824859902262688, 0.01747513934969902, 0.009230874478816986, 0.016449058428406715, 0.0183364637196064, 0.0173934455960989, 0.021989328786730766, 0.016686279326677322, 0.5259119272232056, -0.0011285305954515934, 0.01645323447883129, -0.01218546275049448, 0.017066797241568565, -0.010056041181087494, 0.01640290953218937, 0.017809541895985603, 0.017683275043964386, 0.018373513594269753, 0.029365478083491325, 0.014437474310398102, 0.01868392899632454, -0.022093474864959717, 0.012737940065562725, -0.015594241209328175, -0.06382284313440323, 0.01809815689921379, 0.018548108637332916, 0.01986686699092388, 0.002812085673213005, 0.019078701734542847, 0.018096810206770897, 0.016480112448334694, 0.017252961173653603, 0.022572707384824753, 0.009936433285474777, -0.010643034242093563, 0.03284500911831856, -0.024280445650219917, -0.004530954174697399, 0.01802777498960495, 0.018043512478470802, 0.026762640103697777, -0.30555176734924316, 0.01873551309108734, -0.010628941468894482, 0.01713620312511921, 0.007359558250755072, 0.013867259956896305, -0.018641339614987373, 0.011034097522497177, 0.028376512229442596, 0.017836006358265877, 0.02006516046822071, 0.13336531817913055, -0.057811278849840164, 0.020052442327141762, 0.018218832090497017, -0.02243666909635067, 0.013513860292732716, 0.01333482563495636, 0.01825292408466339, 0.013554194010794163, -0.07870740443468094, 0.037997085601091385, 0.018824612721800804, 0.015355023555457592, 0.022648891434073448, -0.032294824719429016, 0.013099057599902153, -0.005230696871876717, 0.005380813963711262, 0.016589093953371048, 0.021756291389465332, 0.015556663274765015, 0.018191717565059662, 0.014137296006083488, 0.012741471640765667, 0.011607041582465172, 0.0193218681961298, -0.0228230282664299, 0.018878061324357986, 0.0179609265178442, 0.015205681324005127, 0.01678582839667797, -0.015664847567677498, -0.047603294253349304, 0.0189801137894392, 0.001108046853914857, 0.02555122599005699, 0.017049897462129593, -0.02046535536646843, -0.042738862335681915, 0.01840897835791111, -0.1869995892047882, 0.019885212182998657, -0.02197851799428463, 0.01082057598978281, 0.018040845170617104, 0.01391077321022749, 0.020770685747265816, 0.009026667103171349, 0.020593766123056412, 0.017589865252375603, 0.018315093591809273, 0.1167927235364914, 0.019875340163707733, 0.01954352669417858, -0.02641863003373146, 0.022618655115365982, 0.013344766572117805, 0.0191564429551363, -0.010465366765856743, 0.018907634541392326, 0.006175390910357237, 0.017924027517437935, 0.018321774899959564, 0.010478172451257706, -0.04225056245923042, 0.01833159103989601, 0.0171224232763052, 0.018941503018140793, 0.018087536096572876, 0.009166973643004894, 0.029027575626969337, -0.032297756522893906, 0.010395282879471779, 0.008697428740561008, 0.01790636032819748, 0.0188848115503788, 0.027845798060297966, 0.0190444216132164, 0.018648112192749977, 0.017512474209070206, 0.0187849011272192, -0.003188617993146181, 0.01938973367214203, -0.027430491521954536, -0.0014769890112802386, 0.015555406920611858, -0.006524449680000544, 0.015943968668580055, -0.06372446566820145, 0.02066521905362606, 0.01714598946273327, 0.021309668198227882, 0.02013583853840828, 0.025820095092058182, 0.006156329531222582, 0.019265517592430115, -0.08625181019306183, 0.03024151735007763, 0.006253517232835293, 0.007576746866106987, 0.018982702866196632, 0.01869148574769497, 0.018304158002138138, 0.018269136548042297, 0.017662715166807175, 0.01916814222931862, 0.012313339859247208, 0.01880469173192978, 0.018211761489510536, -0.005864041391760111, 0.00851353444159031, 0.005064048804342747, 0.018540184944868088, 0.022752324119210243, 0.016044877469539642, -0.2397279590368271, -0.1468542218208313, 0.01817970722913742, 0.0046057989820837975, 0.0181216299533844, -0.03746611624956131, 0.014395326375961304, 0.0015428730985149741, -0.06488536298274994, 0.01499391533434391, 0.016558900475502014, -0.03482920676469803, -0.10877096652984619, 0.004521950613707304, 0.014470122754573822, 0.014510954730212688, 0.01672719419002533, -0.004225826356559992, 0.015476418659090996, 0.01908915676176548, -0.1130332201719284, 0.034591130912303925, 0.02900552563369274, -0.0017612787196412683, 0.007824206724762917, 0.002492759143933654, 0.01865532249212265, 0.01701723039150238, 0.010157248005270958, 0.030866162851452827, 0.0029830606654286385, 0.018456129357218742, -0.028838861733675003, 0.011400977149605751, 0.006455958355218172, 0.015057412907481194, -0.005767171736806631, 0.01956145279109478, 0.019323525950312614, 0.017380617558956146, 0.017360538244247437, -0.2541866898536682, 0.01816627010703087, -0.032861996442079544, 0.018270382657647133, 0.016669970005750656, 0.010602643713355064, 0.015935681760311127, 0.016592081636190414, 0.017440827563405037, -0.02801165170967579, 0.005507428199052811, -0.025302313268184662, 0.01676071062684059, 0.01978480815887451, 0.017685430124402046, -0.10023412853479385, 0.019122779369354248, 0.01831418089568615, -0.0031020387541502714, -0.0600990392267704, -0.023834029212594032, 0.018290722742676735, -0.0178669523447752, -0.02474503591656685, 0.018542518839240074, -0.1540835052728653, 0.006143094506114721, -0.17244385182857513, 0.007503624074161053, 0.01653260737657547, -0.026097891852259636, 0.01877484656870365, 0.015526878647506237, -0.00847629550844431, 0.015860293060541153, -0.15406985580921173, -0.016421284526586533, 0.014804569073021412, 0.02265225537121296, -0.009894474409520626, -0.026480859145522118, 0.018663223832845688, 0.018150322139263153, -0.2679768204689026, -0.005865917541086674, -0.4750853478908539, 0.023501431569457054, 0.028599325567483902, -0.033411383628845215, 0.0167111624032259, 0.013525422662496567, -0.1549271196126938, -0.06656830757856369, -0.06884003430604935, -0.020216118544340134, 0.027248110622167587, 0.012170808389782906, -0.23155680298805237, -0.03219639137387276, 0.009815468452870846, 0.03194180130958557, 0.03718597814440727, 0.0009748753509484231, -0.04058833047747612, 0.006308789364993572, -0.001893641659989953, -0.09866083413362503, 0.020097361877560616, -0.0056452578864991665, 0.013614878989756107, 0.018150249496102333, 0.01836252026259899, 0.01356329582631588, -0.13492445647716522, -0.0038856021128594875, -0.013341105543076992, -0.06157790496945381, -0.06400104612112045, 0.07021176815032959, -0.049020007252693176, 0.013316798955202103, 0.0524376779794693, -0.1755397617816925, 0.00826801173388958, 0.01723908819258213, 0.019242072477936745, 0.01893763802945614, 0.018634647130966187, 0.008710694499313831, -0.2334384173154831, 0.01529661100357771, -0.010011065751314163, 0.018542243167757988, -0.000886797031853348, 0.015704266726970673, 0.018335770815610886, -0.053633373230695724, 0.017026912420988083, -0.017827048897743225, 0.018127920106053352, 0.02714058943092823, -0.06774113327264786, 0.01827477663755417, -0.21740996837615967, 0.01901935040950775, 0.014064401388168335, -0.03571019321680069, 0.02041863277554512, -0.10395675152540207, 0.015276184305548668, 0.008503587916493416, 0.016354719176888466, 0.0065713971853256226, 0.018074722960591316, 0.0038312070537358522, 0.01704084686934948, -0.005022611003369093, 0.018441257998347282, 0.004410238470882177, -0.07810722291469574, 0.013669882901012897, 0.0203421488404274, 0.023824146017432213, -0.06384323537349701, -0.003376303007826209, 0.01718192733824253, 0.008443441241979599, 0.0067521678283810616, 0.01732908934354782, -0.030119894072413445, 0.01370684988796711, 0.009021134115755558, -0.00015408046601805836, 0.018516020849347115, -0.09106502681970596, 0.019596677273511887, -0.33090877532958984, 0.0013045863015577197, 0.019918810576200485, 0.009201587177813053, -0.046177104115486145, 0.014879098162055016, 0.022713061422109604, 0.01871367171406746, 0.021842079237103462, -0.02025946043431759, 0.027022171765565872, 0.017628110945224762, -0.03714199364185333, -0.22225730121135712, 0.02490345574915409, -0.11233557015657425, 0.004066996276378632, -0.0038269315846264362, -0.025861557573080063, 0.017193622887134552, -0.002266199793666601, -0.014538085088133812, -0.016530532389879227, -0.0062211076728999615, -0.023049168288707733, 0.02150198258459568, 0.01078047789633274, 0.020695947110652924, -0.01590045355260372, -0.011224464513361454, -0.014557250775396824, 0.05444758012890816, 0.0064184232614934444, -0.14037877321243286, 0.01654784381389618, 0.02468455769121647, -0.21014562249183655, 0.0023102888371795416, 0.01872568018734455, 0.016686532646417618, 0.015268881805241108, -0.021164992824196815, 0.008804029785096645, -0.028833355754613876, 0.5664847493171692, -0.31258344650268555, 0.014944790862500668, -0.07153782248497009, 0.0023593304213136435, 0.004586173687130213, 0.018788540735840797, -0.23501069843769073, 0.007470290642231703, 0.015814946964383125, 0.015778135508298874, -0.06819036602973938, 0.019338328391313553, 0.04081658646464348, -0.008026724681258202, -0.010930109769105911, 0.019429560750722885, -0.005907990969717503, 0.04629901796579361, -0.1372947245836258, -0.0034833389800041914, 0.0434325709939003, -0.0023538467939943075, -0.06148355454206467, -0.09064812958240509, -0.12573978304862976, 0.02415405586361885, -0.011335164308547974, 0.014251798391342163, 0.04073517397046089, -0.08977547287940979, -0.11749716103076935, -0.0052402387373149395, -0.010644756257534027, -0.0046521383337676525, -0.003724096342921257, 0.01530910562723875, -0.17765569686889648, -0.02592255361378193, -0.0949074774980545, -0.004699414130300283, -0.04101863503456116, 0.008582300506532192, -0.06851714104413986, 0.008143938146531582, -0.005620560143142939, 0.009562863036990166, 0.01550256460905075, 0.013964499346911907, 0.050242830067873, 0.017274418845772743, 0.00045512194628827274, 0.016042688861489296, -0.04209019988775253, 0.0028854012489318848, 0.004054737742990255, 0.017415378242731094, 0.06035352870821953, 0.011252386495471, -0.02287529967725277, -0.015712760388851166, 0.00632933946326375, -0.17847591638565063, 0.014885939657688141, 0.014266511425375938, -0.44857510924339294, 0.01730986125767231, 0.10608381778001785, 0.01593908481299877, 0.5012970566749573, 0.03189230337738991, 0.02132297307252884, -0.13544663786888123, -0.01481988001614809, 0.06835848838090897, 0.0632433295249939, 0.017409084364771843, 0.0005395552143454552, 0.019885340705513954, 0.020467471331357956, 0.007055017631500959, 0.018450437113642693, -0.02869396284222603, 0.019138911738991737, -0.24596577882766724, -0.012521694414317608, 0.01368764042854309, -0.2616986036300659, 0.0005991013022139668, -0.13142402470111847, 0.06226173788309097, -0.07561208307743073, 0.018486054614186287, 0.000845821516122669, -0.04861137270927429, -0.008884242735803127, -0.06088932603597641, 0.001223707920871675, -0.014476942829787731, 0.042689550668001175, 0.0003349478356540203, 0.0137077821418643, 0.019909020513296127, -0.0036314285825937986, -0.03607301786541939, -0.08601756393909454, -0.11079446971416473, 0.016241401433944702, 0.018119273707270622, 0.009154229424893856, -0.007226429879665375, 0.022116756066679955, -0.28338107466697693, -0.04232156276702881, 0.01839202642440796, -0.008097323589026928, -0.2934844195842743, 0.003079083515331149, -0.05867990851402283, 0.01449721958488226, 0.0036103595048189163, 0.009010188281536102, -0.4033718407154083, 0.012625696137547493, -0.006603020243346691, 0.011525638401508331, 0.014344963245093822, -0.013615261763334274, 0.006127473898231983, 0.018590416759252548, 0.0034581003710627556, -0.16639770567417145, 0.019361823797225952, -0.057160258293151855, 0.013523719273507595, -0.012843997217714787, 0.019496101886034012, -0.03200868144631386, 0.006438276264816523, -0.05148898810148239, -0.1241811215877533, 0.02060689963400364, 0.006317117717117071, 0.011476576328277588, 0.01912047527730465, 0.01799827069044113, 0.01295413263142109, 0.01911594718694687, -0.20198073983192444, 0.16708649694919586, -0.0830719992518425, 0.017029596492648125, 0.014808871783316135, 0.015384168364107609, -0.07128409296274185, -0.003069736994802952, 0.021227369084954262, 0.02455858327448368, -0.20191559195518494, 0.021930312737822533, 0.016325728967785835, 0.016182493418455124, -0.009472894482314587, 0.06039433553814888, -0.014791901223361492, 0.01768881268799305, -0.13079236447811127, 0.0058219763450324535, 0.07205285131931305, 0.01850655861198902, 0.0072825211100280285, 0.000754003063775599, 0.023448482155799866, 0.021026162430644035, 0.008619731292128563, 0.013146420940756798, 0.016832031309604645, -0.08675554394721985, 0.01760854758322239, -0.04653821885585785, -0.07683224976062775, -0.012363284826278687, -0.05674777552485466, 0.024689121171832085, 0.013292327523231506, 0.010447527281939983, 0.01040702685713768, -0.02022426947951317, 0.014106202870607376, 0.01689833775162697, -0.016381924971938133, 0.003405642230063677, -0.29225289821624756, -0.06654870510101318, -0.23486670851707458, -0.17768517136573792, -0.16076530516147614, -0.042383138090372086, 0.18175707757472992, -0.021074550226330757, 0.011595659889280796, -0.027850555256009102, 0.1700286716222763, -0.06919807195663452, -0.12578140199184418, 0.015401023440063, -0.02206188626587391, -0.024592889472842216, 0.007062395103275776, -0.1355549395084381, -0.0760781317949295, -0.03269212692975998, 0.011981799267232418, -0.02897055633366108, -0.005894724279642105, 0.01128167100250721, -0.1279754787683487, 0.008254348300397396, -0.02978571131825447, -0.2101748287677765, -0.01436765305697918, -0.155517578125, 0.0143664525821805, 0.024222321808338165, 0.0005383758689276874, 0.014120509847998619, -0.1804022490978241, -0.010342292487621307, -0.2555190324783325, 0.01557768415659666, 0.007610368076711893, -0.00479848962277174, -0.0164045300334692, 0.026502426713705063, -0.14044813811779022, -0.4161417484283447, 0.022211572155356407, -0.28283748030662537, 0.667433500289917, 0.00863158330321312, -0.2363433539867401, 0.01568087376654148, -0.010084789246320724, -0.02384857088327408, -0.04797304794192314, 0.014467812143266201, -0.032419316470623016, -0.023335956037044525, 0.0031822356395423412, 0.020815575495362282, 0.0424039401113987, -0.02753440849483013, -0.05119645595550537, 0.017753994092345238, -0.08094657957553864, -0.0027645451482385397, -0.04248365759849548, -0.023569853976368904, -0.013989921659231186, -0.07484745234251022, -0.06013079732656479, -0.21075640618801117, 0.010710889473557472, 0.0181891992688179, 0.01908143050968647, 0.0271749347448349, 0.0141331497579813, 0.017613206058740616, 0.02081512287259102, -0.0686003565788269, 0.024288492277264595, -0.05336441844701767, 0.004297986160963774, -0.3079153597354889, -0.005558082368224859, -0.3830103278160095, 0.018529437482357025, 0.013439674861729145, -0.13347801566123962, 0.0479193776845932, -0.11237648129463196, 0.011038540862500668, -0.2951357662677765, 0.02185385674238205, -0.1107119470834732, 0.03464692458510399, 0.02031390741467476, -0.03563368320465088, 0.017329204827547073, 0.11288412660360336, 0.011519976891577244, -0.08098600804805756, 0.020143337547779083, -0.01389184407889843, -0.02850629761815071, -0.07832306623458862, 0.00554277841001749, 0.01912599802017212, 0.012184233404695988, 0.018213694915175438, -0.0057800463400781155, -0.005165908019989729, 0.015102438628673553, 0.1379936933517456, 0.01364854909479618, 0.027409721165895462, -0.006194452755153179, -0.21859996020793915, 0.019284628331661224, -0.04477589949965477, 0.018684126436710358, -0.0009730645688250661, -0.043789345771074295, 0.013874214142560959, 0.01604766584932804, 0.021594425663352013, 0.623274564743042, 1.8989492654800415, -0.009294847957789898, -0.23481817543506622, -0.006889961659908295, -0.09562360495328903, -0.036361102014780045, -0.017903126776218414, 0.019022736698389053, 0.01771824061870575, -0.0016614076448604465, -0.1083659902215004, 0.02010287530720234, -0.014874349348247051, -0.027354853227734566, 0.01865387335419655, 0.009012630209326744, 0.01777995377779007, 0.019147716462612152, 0.0061299619264900684, 0.0011110649211332202, 0.00031301582930609584, 0.013386775739490986, -0.2842448949813843, -0.05328576639294624, -0.15361547470092773, 0.020189160481095314, -0.023057354614138603, 0.0774112269282341, -0.03346766531467438, 0.004928480368107557, 0.013686178252100945, -0.1278260052204132, 0.016201185062527657, 0.016226550564169884, -0.10089537501335144, -0.270597368478775, 0.018647734075784683, 0.019270818680524826, -0.08784084022045135, -0.13526347279548645, -0.22024233639240265, -0.0012423128355294466, -0.03817063197493553, -0.16767092049121857, -0.0008882105466909707, -0.1935880035161972, -0.07747838646173477, 0.01687988080084324, -0.012023326940834522, -0.020131070166826248, 0.015987899154424667, 0.03462554141879082, -0.00683970283716917, 0.01351622212678194, -0.019071996212005615, 0.023998592048883438, -0.004738606046885252, -0.0769287645816803, 0.008406929671764374, -0.11779256910085678, -0.0541020929813385, -0.3034090995788574, -0.0431530736386776, 0.0116424560546875, 0.010444018989801407, 0.016131727024912834, 0.009062279015779495, -0.012723552994430065, 0.021472936496138573, -0.054353777319192886, 0.010740852914750576, -0.0003924877382814884, 0.005544311832636595, -0.07337245345115662, 0.007582679390907288, -0.007887450978159904, -0.014250016771256924, 0.020514070987701416, 0.022317226976156235, 0.02869221940636635, 0.011566626839339733, -0.11422275006771088, -0.09157102555036545, 0.007983362302184105, -0.0588081069290638, -0.0019623504485934973, -0.17305739223957062, -0.04241189360618591, -0.008493158966302872, 0.19723370671272278, 0.0013361535966396332, 0.009469493292272091, -0.0054059927351772785, -0.04985866695642471, -0.021722180768847466, 0.0018944648327305913, 0.015958774834871292, 0.022949546575546265, 0.007883179001510143, -0.008074992336332798, 0.006412384565919638, 0.01589272916316986, 0.04401777312159538, -0.0632450059056282, -0.3496977686882019, 0.003603727789595723, 0.020030777901411057, 0.015563612803816795, -0.04573261737823486, -0.007981843315064907, -0.17060936987400055, 0.014109711162745953, 0.017292091622948647, -0.00716255372390151, -0.06941502541303635, 0.01739269495010376, -0.006302096415311098, 0.016240576282143593, 0.019321778789162636, -0.058750297874212265, 0.043053630739450455, 0.00953085906803608, -0.09497977048158646, -0.032583191990852356, 0.020111573860049248, -0.0535283237695694, -0.21384286880493164, 0.01545759104192257, -0.05838574096560478, -0.23934951424598694, -0.06047875061631203, -0.27856388688087463, 0.018336141481995583, -0.04770883545279503, 0.004786577075719833, 0.014818945899605751, 0.02116444520652294, -0.0417061410844326, -0.07129549235105515, 0.01548479963093996, -0.3051046133041382, 0.02046927809715271, -0.023407772183418274, -0.14302118122577667, 0.0020978134125471115, -0.14632944762706757, 0.007196076214313507, 0.012130901217460632, 0.06041949614882469, 0.0270572267472744, -0.002823395887389779, -0.007278004661202431, 0.030628954991698265, 0.016282470896840096, 0.016352549195289612, 0.009053031913936138, -0.06479067355394363, -0.018776588141918182, -0.01719032973051071, 0.009462550282478333, 0.006391411647200584]}],\n",
              "                        {\"font\": {\"color\": \"RebeccaPurple\", \"family\": \"Courier New, monospace\", \"size\": 18}, \"template\": {\"data\": {\"bar\": [{\"error_x\": {\"color\": \"#2a3f5f\"}, \"error_y\": {\"color\": \"#2a3f5f\"}, \"marker\": {\"line\": {\"color\": \"#E5ECF6\", \"width\": 0.5}}, \"type\": \"bar\"}], \"barpolar\": [{\"marker\": {\"line\": {\"color\": \"#E5ECF6\", \"width\": 0.5}}, \"type\": \"barpolar\"}], \"carpet\": [{\"aaxis\": {\"endlinecolor\": \"#2a3f5f\", \"gridcolor\": \"white\", \"linecolor\": \"white\", \"minorgridcolor\": \"white\", \"startlinecolor\": \"#2a3f5f\"}, \"baxis\": {\"endlinecolor\": \"#2a3f5f\", \"gridcolor\": \"white\", \"linecolor\": \"white\", \"minorgridcolor\": \"white\", \"startlinecolor\": \"#2a3f5f\"}, \"type\": \"carpet\"}], \"choropleth\": [{\"colorbar\": {\"outlinewidth\": 0, \"ticks\": \"\"}, \"type\": \"choropleth\"}], \"contour\": [{\"colorbar\": {\"outlinewidth\": 0, \"ticks\": \"\"}, \"colorscale\": [[0.0, \"#0d0887\"], [0.1111111111111111, \"#46039f\"], [0.2222222222222222, \"#7201a8\"], [0.3333333333333333, \"#9c179e\"], [0.4444444444444444, \"#bd3786\"], [0.5555555555555556, \"#d8576b\"], [0.6666666666666666, \"#ed7953\"], [0.7777777777777778, \"#fb9f3a\"], [0.8888888888888888, \"#fdca26\"], [1.0, \"#f0f921\"]], \"type\": \"contour\"}], \"contourcarpet\": [{\"colorbar\": {\"outlinewidth\": 0, \"ticks\": \"\"}, \"type\": \"contourcarpet\"}], \"heatmap\": [{\"colorbar\": {\"outlinewidth\": 0, \"ticks\": \"\"}, \"colorscale\": [[0.0, \"#0d0887\"], [0.1111111111111111, \"#46039f\"], [0.2222222222222222, \"#7201a8\"], [0.3333333333333333, \"#9c179e\"], [0.4444444444444444, \"#bd3786\"], [0.5555555555555556, \"#d8576b\"], [0.6666666666666666, \"#ed7953\"], [0.7777777777777778, \"#fb9f3a\"], [0.8888888888888888, \"#fdca26\"], [1.0, \"#f0f921\"]], \"type\": \"heatmap\"}], \"heatmapgl\": [{\"colorbar\": {\"outlinewidth\": 0, \"ticks\": \"\"}, \"colorscale\": [[0.0, \"#0d0887\"], [0.1111111111111111, \"#46039f\"], [0.2222222222222222, \"#7201a8\"], [0.3333333333333333, \"#9c179e\"], [0.4444444444444444, \"#bd3786\"], [0.5555555555555556, \"#d8576b\"], [0.6666666666666666, \"#ed7953\"], [0.7777777777777778, \"#fb9f3a\"], [0.8888888888888888, \"#fdca26\"], [1.0, \"#f0f921\"]], \"type\": \"heatmapgl\"}], \"histogram\": [{\"marker\": {\"colorbar\": {\"outlinewidth\": 0, \"ticks\": \"\"}}, \"type\": \"histogram\"}], \"histogram2d\": [{\"colorbar\": {\"outlinewidth\": 0, \"ticks\": \"\"}, \"colorscale\": [[0.0, \"#0d0887\"], [0.1111111111111111, \"#46039f\"], [0.2222222222222222, \"#7201a8\"], [0.3333333333333333, \"#9c179e\"], [0.4444444444444444, \"#bd3786\"], [0.5555555555555556, \"#d8576b\"], [0.6666666666666666, \"#ed7953\"], [0.7777777777777778, \"#fb9f3a\"], [0.8888888888888888, \"#fdca26\"], [1.0, \"#f0f921\"]], \"type\": \"histogram2d\"}], \"histogram2dcontour\": [{\"colorbar\": {\"outlinewidth\": 0, \"ticks\": \"\"}, \"colorscale\": [[0.0, \"#0d0887\"], [0.1111111111111111, \"#46039f\"], [0.2222222222222222, \"#7201a8\"], [0.3333333333333333, \"#9c179e\"], [0.4444444444444444, \"#bd3786\"], [0.5555555555555556, \"#d8576b\"], [0.6666666666666666, \"#ed7953\"], [0.7777777777777778, \"#fb9f3a\"], [0.8888888888888888, \"#fdca26\"], [1.0, \"#f0f921\"]], \"type\": \"histogram2dcontour\"}], \"mesh3d\": [{\"colorbar\": {\"outlinewidth\": 0, \"ticks\": \"\"}, \"type\": \"mesh3d\"}], \"parcoords\": [{\"line\": {\"colorbar\": {\"outlinewidth\": 0, \"ticks\": \"\"}}, \"type\": \"parcoords\"}], \"pie\": [{\"automargin\": true, \"type\": \"pie\"}], \"scatter\": [{\"marker\": {\"colorbar\": {\"outlinewidth\": 0, \"ticks\": \"\"}}, \"type\": \"scatter\"}], \"scatter3d\": [{\"line\": {\"colorbar\": {\"outlinewidth\": 0, \"ticks\": \"\"}}, \"marker\": {\"colorbar\": {\"outlinewidth\": 0, \"ticks\": \"\"}}, \"type\": \"scatter3d\"}], \"scattercarpet\": [{\"marker\": {\"colorbar\": {\"outlinewidth\": 0, \"ticks\": \"\"}}, \"type\": \"scattercarpet\"}], \"scattergeo\": [{\"marker\": {\"colorbar\": {\"outlinewidth\": 0, \"ticks\": \"\"}}, \"type\": \"scattergeo\"}], \"scattergl\": [{\"marker\": {\"colorbar\": {\"outlinewidth\": 0, \"ticks\": \"\"}}, \"type\": \"scattergl\"}], \"scattermapbox\": [{\"marker\": {\"colorbar\": {\"outlinewidth\": 0, \"ticks\": \"\"}}, \"type\": \"scattermapbox\"}], \"scatterpolar\": [{\"marker\": {\"colorbar\": {\"outlinewidth\": 0, \"ticks\": \"\"}}, \"type\": \"scatterpolar\"}], \"scatterpolargl\": [{\"marker\": {\"colorbar\": {\"outlinewidth\": 0, \"ticks\": \"\"}}, \"type\": \"scatterpolargl\"}], \"scatterternary\": [{\"marker\": {\"colorbar\": {\"outlinewidth\": 0, \"ticks\": \"\"}}, \"type\": \"scatterternary\"}], \"surface\": [{\"colorbar\": {\"outlinewidth\": 0, \"ticks\": \"\"}, \"colorscale\": [[0.0, \"#0d0887\"], [0.1111111111111111, \"#46039f\"], [0.2222222222222222, \"#7201a8\"], [0.3333333333333333, \"#9c179e\"], [0.4444444444444444, \"#bd3786\"], [0.5555555555555556, \"#d8576b\"], [0.6666666666666666, \"#ed7953\"], [0.7777777777777778, \"#fb9f3a\"], [0.8888888888888888, \"#fdca26\"], [1.0, \"#f0f921\"]], \"type\": \"surface\"}], \"table\": [{\"cells\": {\"fill\": {\"color\": \"#EBF0F8\"}, \"line\": {\"color\": \"white\"}}, \"header\": {\"fill\": {\"color\": \"#C8D4E3\"}, \"line\": {\"color\": \"white\"}}, \"type\": \"table\"}]}, \"layout\": {\"annotationdefaults\": {\"arrowcolor\": \"#2a3f5f\", \"arrowhead\": 0, \"arrowwidth\": 1}, \"coloraxis\": {\"colorbar\": {\"outlinewidth\": 0, \"ticks\": \"\"}}, \"colorscale\": {\"diverging\": [[0, \"#8e0152\"], [0.1, \"#c51b7d\"], [0.2, \"#de77ae\"], [0.3, \"#f1b6da\"], [0.4, \"#fde0ef\"], [0.5, \"#f7f7f7\"], [0.6, \"#e6f5d0\"], [0.7, \"#b8e186\"], [0.8, \"#7fbc41\"], [0.9, \"#4d9221\"], [1, \"#276419\"]], \"sequential\": [[0.0, \"#0d0887\"], [0.1111111111111111, \"#46039f\"], [0.2222222222222222, \"#7201a8\"], [0.3333333333333333, \"#9c179e\"], [0.4444444444444444, \"#bd3786\"], [0.5555555555555556, \"#d8576b\"], [0.6666666666666666, \"#ed7953\"], [0.7777777777777778, \"#fb9f3a\"], [0.8888888888888888, \"#fdca26\"], [1.0, \"#f0f921\"]], \"sequentialminus\": [[0.0, \"#0d0887\"], [0.1111111111111111, \"#46039f\"], [0.2222222222222222, \"#7201a8\"], [0.3333333333333333, \"#9c179e\"], [0.4444444444444444, \"#bd3786\"], [0.5555555555555556, \"#d8576b\"], [0.6666666666666666, \"#ed7953\"], [0.7777777777777778, \"#fb9f3a\"], [0.8888888888888888, \"#fdca26\"], [1.0, \"#f0f921\"]]}, \"colorway\": [\"#636efa\", \"#EF553B\", \"#00cc96\", \"#ab63fa\", \"#FFA15A\", \"#19d3f3\", \"#FF6692\", \"#B6E880\", \"#FF97FF\", \"#FECB52\"], \"font\": {\"color\": \"#2a3f5f\"}, \"geo\": {\"bgcolor\": \"white\", \"lakecolor\": \"white\", \"landcolor\": \"#E5ECF6\", \"showlakes\": true, \"showland\": true, \"subunitcolor\": \"white\"}, \"hoverlabel\": {\"align\": \"left\"}, \"hovermode\": \"closest\", \"mapbox\": {\"style\": \"light\"}, \"paper_bgcolor\": \"white\", \"plot_bgcolor\": \"#E5ECF6\", \"polar\": {\"angularaxis\": {\"gridcolor\": \"white\", \"linecolor\": \"white\", \"ticks\": \"\"}, \"bgcolor\": \"#E5ECF6\", \"radialaxis\": {\"gridcolor\": \"white\", \"linecolor\": \"white\", \"ticks\": \"\"}}, \"scene\": {\"xaxis\": {\"backgroundcolor\": \"#E5ECF6\", \"gridcolor\": \"white\", \"gridwidth\": 2, \"linecolor\": \"white\", \"showbackground\": true, \"ticks\": \"\", \"zerolinecolor\": \"white\"}, \"yaxis\": {\"backgroundcolor\": \"#E5ECF6\", \"gridcolor\": \"white\", \"gridwidth\": 2, \"linecolor\": \"white\", \"showbackground\": true, \"ticks\": \"\", \"zerolinecolor\": \"white\"}, \"zaxis\": {\"backgroundcolor\": \"#E5ECF6\", \"gridcolor\": \"white\", \"gridwidth\": 2, \"linecolor\": \"white\", \"showbackground\": true, \"ticks\": \"\", \"zerolinecolor\": \"white\"}}, \"shapedefaults\": {\"line\": {\"color\": \"#2a3f5f\"}}, \"ternary\": {\"aaxis\": {\"gridcolor\": \"white\", \"linecolor\": \"white\", \"ticks\": \"\"}, \"baxis\": {\"gridcolor\": \"white\", \"linecolor\": \"white\", \"ticks\": \"\"}, \"bgcolor\": \"#E5ECF6\", \"caxis\": {\"gridcolor\": \"white\", \"linecolor\": \"white\", \"ticks\": \"\"}}, \"title\": {\"x\": 0.05}, \"xaxis\": {\"automargin\": true, \"gridcolor\": \"white\", \"linecolor\": \"white\", \"ticks\": \"\", \"title\": {\"standoff\": 15}, \"zerolinecolor\": \"white\", \"zerolinewidth\": 2}, \"yaxis\": {\"automargin\": true, \"gridcolor\": \"white\", \"linecolor\": \"white\", \"ticks\": \"\", \"title\": {\"standoff\": 15}, \"zerolinecolor\": \"white\", \"zerolinewidth\": 2}}}, \"title\": {\"text\": \"Plot Customer Clustering\", \"x\": 0.5, \"xanchor\": \"center\", \"y\": 0.9, \"yanchor\": \"top\"}, \"xaxis\": {\"title\": {\"text\": \"1st principal component\"}}, \"yaxis\": {\"title\": {\"text\": \"2nd principal component\"}}},\n",
              "                        {\"responsive\": true}\n",
              "                    ).then(function(){\n",
              "                            \n",
              "var gd = document.getElementById('cc1943e7-1ec1-4e60-85b2-73106d111034');\n",
              "var x = new MutationObserver(function (mutations, observer) {{\n",
              "        var display = window.getComputedStyle(gd).display;\n",
              "        if (!display || display === 'none') {{\n",
              "            console.log([gd, 'removed!']);\n",
              "            Plotly.purge(gd);\n",
              "            observer.disconnect();\n",
              "        }}\n",
              "}});\n",
              "\n",
              "// Listen for the removal of the full notebook cells\n",
              "var notebookContainer = gd.closest('#notebook-container');\n",
              "if (notebookContainer) {{\n",
              "    x.observe(notebookContainer, {childList: true});\n",
              "}}\n",
              "\n",
              "// Listen for the clearing of the current output cell\n",
              "var outputEl = gd.closest('.output');\n",
              "if (outputEl) {{\n",
              "    x.observe(outputEl, {childList: true});\n",
              "}}\n",
              "\n",
              "                        })\n",
              "                };\n",
              "                \n",
              "            </script>\n",
              "        </div>\n",
              "</body>\n",
              "</html>"
            ]
          },
          "metadata": {}
        }
      ]
    },
    {
      "cell_type": "code",
      "metadata": {
        "colab": {
          "base_uri": "https://localhost:8080/",
          "height": 652
        },
        "id": "_nR6Z-EkYxnq",
        "outputId": "5d35228e-724c-4e8e-9f7d-c1818ab3131b"
      },
      "source": [
        "print(distance_matrix.shape)\n",
        "print(predictions.shape)\n",
        "print(static_input_array.shape)\n",
        "\n",
        "sc = StandardScaler()\n",
        "standard_static = sc.fit_transform(static_input_array)\n",
        "pca = Isomap(n_components=n_components)\n",
        "X_standard_static_pca = pca.fit_transform(standard_static)\n",
        "\n",
        "\n",
        "final_feature_set = np.concatenate((X_distance_matrix_pca,X_standard_static_pca, X_predictions_pca), axis=1)\n",
        "\n",
        "sc = StandardScaler()\n",
        "standard_out = sc.fit_transform(final_feature_set)\n",
        "pca = KernelPCA(n_components=n_components)\n",
        "X_out_pca = pca.fit_transform(standard_out)\n",
        "\n",
        "\n",
        "do_kmeans(X_out_pca, opt_cluster_numbers)"
      ],
      "execution_count": 74,
      "outputs": [
        {
          "output_type": "stream",
          "name": "stdout",
          "text": [
            "(4500, 4500)\n",
            "(4500, 16)\n",
            "(4500, 4)\n",
            "{0, 1, 2}\n",
            "Silhouette:  0.5355684324251344  The best value is 1 and the worst value is -1.\n",
            "Davies–Bouldin index:  0.5960629281657724  lower values indicating better clustering.\n"
          ]
        },
        {
          "output_type": "display_data",
          "data": {
            "text/html": [
              "<html>\n",
              "<head><meta charset=\"utf-8\" /></head>\n",
              "<body>\n",
              "    <div>\n",
              "            <script src=\"https://cdnjs.cloudflare.com/ajax/libs/mathjax/2.7.5/MathJax.js?config=TeX-AMS-MML_SVG\"></script><script type=\"text/javascript\">if (window.MathJax) {MathJax.Hub.Config({SVG: {font: \"STIX-Web\"}});}</script>\n",
              "                <script type=\"text/javascript\">window.PlotlyConfig = {MathJaxConfig: 'local'};</script>\n",
              "        <script src=\"https://cdn.plot.ly/plotly-latest.min.js\"></script>    \n",
              "            <div id=\"b62bce26-6f70-4101-ba95-cfde5addedcf\" class=\"plotly-graph-div\" style=\"height:525px; width:100%;\"></div>\n",
              "            <script type=\"text/javascript\">\n",
              "                \n",
              "                    window.PLOTLYENV=window.PLOTLYENV || {};\n",
              "                    \n",
              "                if (document.getElementById(\"b62bce26-6f70-4101-ba95-cfde5addedcf\")) {\n",
              "                    Plotly.newPlot(\n",
              "                        'b62bce26-6f70-4101-ba95-cfde5addedcf',\n",
              "                        [{\"marker\": {\"color\": [2, 2, 2, 0, 0, 0, 2, 2, 2, 2, 0, 0, 0, 2, 2, 2, 2, 2, 2, 2, 2, 2, 2, 2, 2, 2, 2, 2, 2, 2, 2, 1, 1, 0, 2, 2, 2, 0, 2, 2, 2, 2, 0, 2, 1, 2, 0, 2, 2, 2, 0, 2, 0, 0, 2, 0, 2, 0, 0, 0, 2, 2, 2, 1, 1, 2, 2, 1, 2, 2, 2, 2, 2, 2, 0, 2, 2, 2, 2, 2, 0, 2, 2, 2, 2, 2, 2, 2, 1, 2, 0, 2, 2, 2, 2, 2, 2, 2, 2, 2, 2, 2, 2, 0, 0, 0, 2, 2, 0, 0, 2, 2, 2, 2, 0, 2, 2, 2, 2, 2, 0, 0, 2, 2, 2, 2, 2, 0, 2, 2, 2, 2, 2, 0, 0, 2, 2, 0, 2, 2, 2, 2, 2, 2, 2, 2, 2, 0, 2, 2, 1, 0, 0, 0, 2, 0, 0, 2, 2, 2, 2, 0, 2, 2, 2, 2, 2, 2, 2, 2, 2, 2, 2, 2, 2, 1, 0, 2, 2, 2, 2, 0, 2, 2, 2, 2, 2, 0, 2, 2, 2, 2, 2, 2, 2, 2, 2, 2, 0, 1, 2, 0, 2, 0, 2, 2, 0, 0, 2, 2, 2, 0, 2, 2, 2, 2, 0, 2, 2, 2, 0, 2, 2, 2, 2, 1, 2, 2, 2, 1, 2, 2, 0, 2, 0, 2, 2, 0, 2, 2, 2, 0, 0, 0, 2, 2, 2, 2, 2, 0, 1, 0, 2, 2, 2, 0, 2, 2, 2, 2, 2, 2, 2, 2, 2, 2, 2, 0, 2, 2, 2, 0, 0, 2, 1, 2, 0, 2, 2, 2, 2, 2, 2, 1, 0, 2, 0, 2, 2, 0, 0, 2, 2, 2, 2, 2, 2, 2, 2, 2, 0, 2, 1, 2, 0, 2, 0, 0, 0, 0, 2, 0, 2, 2, 0, 2, 2, 1, 0, 2, 0, 2, 2, 0, 0, 2, 2, 2, 2, 2, 2, 2, 0, 0, 2, 0, 0, 2, 2, 2, 2, 2, 0, 2, 1, 2, 1, 2, 2, 2, 2, 2, 2, 2, 2, 2, 2, 0, 2, 2, 1, 2, 2, 2, 2, 2, 2, 2, 2, 2, 2, 2, 2, 0, 2, 2, 1, 2, 0, 2, 2, 2, 2, 0, 2, 2, 2, 2, 2, 2, 0, 2, 2, 0, 2, 2, 0, 2, 2, 2, 2, 2, 2, 2, 2, 2, 2, 2, 0, 2, 2, 2, 2, 2, 2, 0, 2, 1, 2, 2, 2, 1, 2, 2, 2, 2, 2, 2, 0, 0, 2, 2, 2, 2, 2, 1, 2, 2, 0, 0, 2, 2, 0, 0, 2, 2, 2, 2, 2, 2, 2, 2, 2, 0, 2, 2, 2, 2, 2, 0, 2, 2, 1, 2, 2, 2, 2, 2, 2, 2, 2, 1, 2, 2, 2, 2, 2, 2, 2, 2, 2, 2, 2, 2, 2, 2, 2, 2, 2, 2, 0, 0, 2, 0, 0, 2, 1, 2, 2, 2, 2, 2, 0, 2, 2, 2, 2, 2, 2, 2, 0, 0, 0, 2, 2, 2, 0, 0, 2, 2, 0, 2, 0, 2, 0, 2, 0, 2, 2, 2, 2, 2, 2, 0, 2, 0, 2, 2, 2, 0, 2, 2, 2, 2, 2, 0, 2, 2, 1, 2, 0, 2, 0, 2, 2, 0, 0, 2, 2, 2, 2, 2, 2, 2, 0, 0, 2, 2, 2, 2, 2, 2, 2, 2, 2, 0, 2, 2, 2, 2, 2, 0, 2, 2, 2, 2, 2, 0, 2, 0, 2, 2, 2, 2, 2, 2, 0, 1, 2, 2, 1, 2, 0, 2, 2, 2, 0, 2, 0, 2, 2, 0, 0, 2, 2, 2, 2, 2, 2, 1, 2, 0, 1, 2, 2, 0, 1, 2, 2, 0, 2, 2, 2, 0, 2, 2, 2, 2, 2, 2, 0, 2, 0, 2, 2, 2, 2, 2, 2, 2, 2, 2, 2, 2, 2, 2, 2, 2, 2, 0, 2, 0, 2, 2, 1, 0, 2, 0, 2, 2, 0, 2, 0, 2, 0, 2, 0, 0, 0, 2, 2, 2, 2, 2, 2, 2, 2, 2, 2, 2, 2, 2, 1, 0, 0, 2, 2, 0, 0, 0, 1, 2, 0, 2, 0, 0, 0, 0, 0, 2, 2, 0, 2, 0, 2, 0, 0, 2, 2, 2, 2, 2, 2, 2, 0, 2, 0, 2, 2, 2, 0, 2, 2, 1, 2, 2, 2, 2, 2, 2, 2, 2, 2, 2, 0, 2, 2, 2, 2, 0, 2, 2, 0, 2, 2, 2, 2, 2, 2, 2, 2, 2, 0, 0, 2, 2, 2, 2, 2, 2, 2, 0, 2, 2, 2, 0, 2, 1, 2, 2, 2, 2, 0, 2, 2, 2, 2, 2, 2, 2, 2, 2, 0, 0, 2, 2, 2, 2, 2, 2, 0, 0, 2, 2, 2, 2, 2, 2, 2, 2, 2, 2, 2, 2, 2, 2, 0, 2, 2, 2, 2, 1, 1, 2, 2, 2, 2, 2, 2, 2, 2, 2, 2, 2, 0, 0, 2, 2, 2, 2, 2, 2, 2, 1, 2, 0, 0, 0, 2, 0, 0, 2, 0, 2, 2, 1, 2, 2, 2, 0, 2, 2, 2, 0, 0, 2, 2, 2, 0, 2, 2, 2, 2, 2, 2, 2, 2, 2, 0, 0, 2, 0, 2, 2, 0, 2, 2, 2, 2, 0, 0, 0, 0, 2, 0, 0, 0, 2, 2, 2, 2, 2, 2, 2, 0, 0, 2, 1, 0, 2, 2, 0, 2, 2, 2, 0, 0, 2, 2, 2, 2, 2, 2, 2, 2, 2, 2, 2, 2, 2, 0, 2, 0, 0, 2, 0, 2, 2, 2, 2, 2, 2, 0, 2, 0, 0, 2, 1, 2, 2, 2, 2, 0, 2, 2, 1, 2, 2, 2, 1, 2, 2, 0, 2, 2, 2, 2, 0, 2, 0, 1, 2, 0, 2, 2, 0, 2, 2, 2, 2, 2, 2, 2, 0, 2, 1, 2, 0, 2, 2, 2, 2, 1, 2, 2, 2, 2, 0, 2, 0, 0, 2, 1, 2, 2, 2, 2, 2, 2, 0, 2, 2, 2, 0, 2, 0, 0, 2, 2, 2, 2, 0, 2, 2, 2, 2, 2, 2, 2, 2, 0, 2, 2, 0, 0, 2, 2, 2, 2, 0, 2, 0, 2, 2, 2, 0, 2, 0, 2, 0, 2, 2, 2, 2, 2, 2, 2, 0, 0, 2, 2, 2, 2, 2, 2, 2, 2, 0, 2, 0, 2, 2, 2, 2, 2, 2, 1, 0, 2, 0, 1, 0, 2, 0, 2, 2, 2, 2, 0, 2, 2, 2, 2, 1, 2, 2, 2, 2, 2, 2, 2, 0, 2, 0, 0, 0, 2, 0, 2, 2, 2, 2, 1, 2, 2, 2, 2, 2, 0, 2, 2, 0, 2, 2, 2, 2, 2, 0, 2, 0, 2, 2, 2, 2, 2, 2, 0, 2, 0, 2, 2, 1, 2, 2, 1, 0, 0, 2, 2, 0, 0, 2, 0, 0, 2, 0, 2, 2, 2, 2, 0, 2, 0, 2, 2, 2, 2, 0, 2, 2, 2, 2, 2, 0, 0, 2, 2, 0, 0, 2, 0, 2, 2, 0, 2, 0, 1, 0, 2, 2, 2, 2, 2, 2, 2, 2, 2, 2, 2, 2, 2, 0, 2, 2, 0, 2, 2, 2, 2, 2, 0, 0, 2, 2, 0, 0, 0, 0, 0, 2, 2, 2, 1, 2, 0, 2, 0, 2, 0, 2, 2, 0, 2, 2, 2, 2, 0, 0, 2, 2, 2, 2, 0, 2, 2, 2, 0, 2, 2, 2, 2, 0, 2, 2, 2, 0, 0, 2, 2, 2, 2, 2, 2, 2, 0, 2, 1, 2, 2, 2, 2, 2, 1, 2, 2, 2, 2, 2, 0, 2, 0, 2, 0, 2, 2, 2, 2, 0, 2, 2, 2, 2, 2, 2, 2, 2, 2, 2, 2, 2, 2, 2, 0, 0, 2, 2, 2, 2, 0, 0, 1, 2, 2, 0, 2, 0, 2, 2, 0, 2, 2, 2, 2, 1, 2, 2, 0, 2, 2, 2, 2, 0, 2, 2, 1, 2, 0, 2, 2, 2, 2, 2, 2, 2, 2, 2, 2, 0, 0, 2, 0, 0, 2, 2, 0, 2, 2, 2, 2, 2, 0, 2, 2, 2, 2, 2, 2, 0, 2, 2, 2, 2, 2, 2, 2, 2, 0, 0, 2, 1, 2, 2, 2, 2, 2, 0, 2, 2, 2, 2, 2, 2, 2, 0, 2, 2, 2, 2, 0, 2, 0, 2, 2, 2, 2, 0, 2, 2, 0, 1, 2, 2, 2, 2, 2, 0, 0, 2, 2, 2, 2, 2, 2, 2, 0, 2, 0, 2, 0, 2, 2, 2, 2, 2, 2, 2, 1, 0, 1, 2, 0, 2, 2, 0, 0, 2, 2, 0, 0, 0, 2, 2, 2, 0, 2, 2, 2, 2, 2, 2, 0, 2, 2, 0, 2, 2, 2, 2, 2, 2, 2, 2, 0, 2, 2, 2, 0, 0, 0, 0, 2, 2, 0, 2, 2, 2, 2, 2, 2, 2, 0, 2, 2, 0, 0, 0, 2, 2, 0, 2, 2, 0, 0, 2, 2, 2, 0, 2, 2, 2, 2, 2, 0, 0, 0, 0, 0, 2, 0, 0, 0, 0, 2, 2, 1, 2, 2, 0, 2, 1, 2, 2, 0, 2, 0, 2, 0, 2, 0, 0, 2, 0, 2, 0, 2, 2, 0, 0, 0, 0, 0, 2, 0, 2, 2, 2, 0, 2, 2, 2, 0, 2, 2, 2, 2, 2, 2, 2, 2, 0, 2, 2, 2, 2, 2, 2, 0, 0, 2, 0, 2, 0, 0, 0, 0, 2, 0, 0, 2, 0, 2, 0, 2, 2, 2, 2, 2, 2, 2, 2, 0, 2, 0, 0, 0, 0, 2, 2, 2, 2, 1, 2, 2, 2, 0, 2, 2, 2, 0, 0, 2, 2, 2, 2, 2, 0, 2, 0, 2, 0, 2, 2, 0, 2, 0, 2, 2, 2, 2, 0, 2, 2, 2, 2, 2, 0, 0, 2, 2, 2, 2, 0, 2, 2, 2, 0, 0, 2, 0, 0, 2, 2, 2, 2, 1, 2, 0, 2, 2, 2, 2, 2, 2, 0, 0, 2, 2, 2, 0, 0, 2, 2, 2, 2, 2, 1, 0, 2, 0, 2, 2, 2, 1, 1, 2, 0, 2, 0, 0, 2, 2, 2, 2, 2, 2, 0, 2, 2, 2, 2, 0, 2, 0, 2, 1, 0, 2, 2, 1, 0, 2, 0, 2, 2, 2, 2, 1, 0, 2, 0, 2, 0, 2, 2, 2, 0, 0, 2, 2, 2, 0, 1, 2, 2, 0, 2, 0, 2, 2, 2, 2, 2, 2, 2, 2, 2, 2, 2, 2, 0, 2, 2, 2, 2, 2, 0, 2, 2, 0, 0, 2, 2, 2, 2, 0, 2, 2, 2, 2, 2, 2, 2, 2, 0, 2, 0, 2, 2, 2, 2, 2, 2, 2, 2, 2, 2, 0, 2, 1, 0, 2, 0, 2, 2, 2, 0, 0, 2, 2, 2, 2, 2, 2, 2, 2, 0, 2, 2, 2, 0, 0, 2, 2, 0, 0, 2, 1, 2, 2, 2, 0, 0, 2, 2, 2, 2, 0, 2, 2, 0, 1, 2, 2, 0, 2, 2, 0, 2, 2, 2, 2, 2, 0, 2, 2, 2, 2, 2, 2, 2, 2, 2, 2, 0, 0, 0, 0, 0, 2, 0, 1, 2, 2, 2, 2, 2, 2, 0, 2, 2, 2, 0, 2, 1, 2, 2, 2, 0, 2, 2, 2, 2, 2, 0, 0, 2, 2, 2, 2, 2, 0, 2, 0, 2, 2, 2, 2, 0, 2, 2, 2, 0, 2, 1, 2, 0, 2, 0, 2, 2, 2, 2, 0, 2, 0, 2, 0, 1, 2, 2, 2, 0, 0, 2, 2, 2, 2, 2, 2, 2, 2, 2, 2, 2, 0, 2, 2, 2, 0, 2, 0, 2, 2, 2, 2, 2, 0, 2, 2, 2, 2, 2, 2, 2, 0, 2, 0, 2, 2, 2, 2, 0, 2, 2, 2, 2, 2, 2, 0, 0, 2, 2, 2, 2, 2, 2, 2, 2, 2, 2, 2, 0, 0, 0, 2, 2, 2, 2, 2, 2, 2, 1, 2, 2, 0, 2, 0, 2, 2, 2, 2, 2, 2, 2, 2, 2, 2, 2, 2, 2, 2, 2, 1, 2, 1, 2, 2, 2, 0, 2, 0, 2, 0, 2, 2, 2, 2, 2, 2, 2, 2, 2, 2, 2, 2, 0, 2, 0, 2, 2, 0, 2, 2, 2, 2, 2, 2, 2, 2, 2, 2, 2, 2, 2, 2, 2, 2, 1, 0, 0, 2, 1, 2, 0, 2, 1, 2, 2, 2, 2, 0, 0, 2, 1, 2, 2, 0, 0, 2, 2, 0, 2, 2, 2, 2, 0, 2, 0, 2, 2, 0, 2, 0, 2, 0, 2, 2, 0, 1, 2, 2, 1, 0, 2, 1, 0, 2, 0, 2, 1, 2, 2, 0, 2, 2, 0, 2, 2, 2, 2, 2, 2, 2, 1, 2, 0, 1, 2, 2, 2, 2, 0, 2, 2, 0, 2, 0, 0, 2, 2, 2, 2, 0, 2, 0, 2, 2, 0, 0, 2, 2, 2, 2, 0, 2, 2, 2, 2, 1, 2, 2, 2, 2, 2, 0, 0, 2, 0, 2, 2, 2, 2, 2, 2, 2, 2, 2, 2, 2, 2, 2, 0, 2, 2, 0, 0, 2, 2, 0, 2, 0, 2, 2, 1, 2, 2, 2, 2, 2, 2, 0, 2, 2, 2, 2, 2, 2, 2, 0, 2, 2, 0, 0, 0, 2, 2, 0, 2, 2, 0, 2, 0, 2, 2, 2, 2, 2, 2, 2, 0, 2, 0, 0, 0, 2, 0, 0, 0, 0, 0, 2, 2, 2, 2, 0, 2, 2, 2, 0, 1, 2, 0, 2, 0, 2, 2, 2, 2, 0, 2, 2, 2, 2, 2, 2, 2, 0, 0, 0, 2, 2, 0, 0, 0, 0, 2, 2, 0, 2, 2, 2, 0, 2, 2, 2, 2, 2, 2, 2, 1, 2, 0, 0, 0, 2, 2, 2, 2, 2, 2, 2, 0, 0, 2, 1, 2, 2, 2, 0, 2, 2, 2, 2, 2, 2, 2, 2, 0, 2, 2, 2, 0, 2, 2, 0, 2, 2, 2, 0, 2, 2, 2, 1, 0, 2, 2, 2, 2, 2, 1, 2, 2, 2, 2, 2, 2, 2, 2, 2, 2, 2, 2, 0, 1, 2, 2, 0, 2, 2, 0, 2, 1, 2, 2, 2, 2, 2, 2, 2, 0, 2, 2, 0, 2, 2, 0, 2, 2, 2, 2, 2, 2, 2, 2, 0, 2, 2, 2, 2, 0, 2, 0, 1, 0, 2, 0, 2, 2, 2, 2, 2, 2, 0, 0, 2, 2, 0, 0, 2, 2, 2, 2, 2, 0, 2, 2, 2, 2, 2, 1, 2, 0, 2, 2, 2, 2, 2, 2, 2, 2, 2, 2, 2, 0, 2, 2, 1, 2, 1, 0, 1, 0, 0, 0, 2, 2, 0, 0, 0, 2, 2, 2, 2, 0, 2, 0, 2, 2, 2, 0, 2, 2, 2, 2, 2, 2, 2, 0, 0, 0, 0, 2, 2, 2, 0, 2, 2, 0, 2, 2, 0, 2, 0, 2, 2, 2, 2, 2, 2, 2, 0, 2, 0, 2, 0, 2, 2, 2, 2, 0, 2, 2, 2, 2, 1, 2, 0, 2, 2, 1, 2, 2, 2, 2, 2, 2, 0, 2, 0, 0, 2, 2, 1, 2, 0, 0, 2, 2, 2, 2, 2, 2, 2, 0, 2, 2, 2, 2, 2, 2, 0, 2, 2, 2, 0, 0, 0, 0, 2, 0, 2, 0, 2, 2, 2, 0, 2, 2, 2, 2, 2, 2, 0, 2, 2, 2, 2, 2, 2, 0, 0, 0, 2, 2, 2, 2, 2, 0, 2, 2, 0, 2, 2, 2, 2, 2, 2, 2, 2, 2, 1, 2, 2, 2, 2, 2, 2, 2, 2, 2, 2, 2, 2, 0, 0, 1, 2, 2, 2, 2, 2, 0, 2, 2, 2, 2, 2, 2, 1, 1, 2, 2, 2, 2, 2, 2, 0, 2, 2, 2, 2, 0, 2, 2, 1, 2, 2, 2, 2, 0, 2, 2, 2, 2, 0, 2, 2, 2, 2, 2, 2, 2, 1, 2, 0, 2, 2, 2, 2, 2, 2, 2, 2, 2, 2, 2, 2, 0, 2, 2, 1, 2, 0, 2, 2, 2, 2, 2, 2, 2, 2, 2, 2, 0, 2, 2, 2, 2, 1, 2, 2, 2, 2, 2, 2, 2, 0, 2, 0, 2, 2, 2, 2, 2, 0, 2, 2, 2, 1, 2, 0, 2, 2, 2, 2, 2, 1, 0, 0, 2, 0, 2, 2, 2, 2, 2, 2, 0, 2, 2, 2, 2, 0, 2, 2, 2, 2, 0, 2, 2, 2, 2, 2, 1, 2, 2, 2, 2, 2, 2, 2, 2, 2, 2, 2, 2, 0, 2, 2, 2, 2, 1, 0, 2, 1, 2, 2, 2, 2, 2, 2, 2, 0, 2, 2, 2, 2, 0, 2, 2, 0, 1, 1, 2, 2, 2, 0, 1, 0, 2, 2, 2, 0, 0, 0, 0, 2, 2, 0, 0, 2, 0, 2, 2, 0, 2, 2, 0, 1, 0, 0, 0, 2, 2, 2, 2, 2, 2, 2, 2, 0, 2, 0, 2, 0, 0, 2, 2, 2, 0, 2, 0, 2, 0, 2, 1, 2, 2, 2, 2, 2, 2, 2, 0, 2, 2, 2, 0, 0, 0, 1, 0, 0, 2, 2, 0, 0, 2, 2, 2, 2, 2, 0, 2, 2, 0, 0, 0, 0, 2, 0, 0, 0, 2, 0, 0, 2, 1, 2, 2, 2, 2, 2, 2, 2, 0, 0, 0, 2, 2, 2, 2, 1, 1, 2, 2, 0, 0, 2, 2, 2, 2, 2, 0, 0, 2, 2, 0, 0, 1, 2, 2, 2, 2, 0, 0, 2, 2, 2, 0, 2, 0, 2, 2, 2, 2, 2, 2, 2, 2, 0, 0, 2, 2, 2, 2, 0, 0, 2, 2, 2, 2, 2, 2, 0, 2, 2, 2, 2, 1, 1, 2, 2, 2, 0, 2, 2, 0, 0, 2, 2, 2, 2, 1, 0, 0, 0, 2, 2, 2, 2, 2, 2, 2, 2, 2, 2, 2, 0, 0, 0, 0, 2, 2, 2, 2, 2, 2, 2, 2, 2, 2, 0, 2, 2, 2, 2, 0, 0, 1, 2, 0, 2, 2, 0, 2, 0, 0, 0, 0, 2, 2, 2, 2, 2, 2, 0, 0, 2, 2, 2, 2, 2, 2, 2, 2, 2, 2, 2, 0, 2, 2, 2, 2, 0, 2, 0, 0, 2, 2, 2, 2, 2, 2, 2, 0, 2, 2, 2, 2, 2, 0, 2, 1, 0, 2, 0, 2, 2, 2, 2, 0, 0, 2, 0, 2, 0, 2, 2, 2, 2, 0, 2, 0, 2, 0, 2, 0, 0, 2, 0, 2, 2, 2, 2, 2, 2, 1, 2, 1, 2, 2, 2, 0, 2, 0, 2, 2, 2, 2, 2, 2, 2, 2, 2, 2, 2, 2, 2, 2, 0, 2, 2, 2, 2, 2, 2, 0, 2, 2, 0, 0, 2, 2, 2, 2, 2, 2, 2, 2, 2, 2, 2, 0, 2, 2, 2, 2, 0, 2, 2, 2, 2, 2, 2, 2, 2, 2, 2, 2, 2, 2, 0, 2, 2, 0, 2, 2, 2, 2, 2, 2, 2, 0, 2, 2, 2, 2, 2, 2, 0, 2, 0, 2, 2, 2, 0, 2, 2, 2, 0, 0, 2, 2, 2, 2, 2, 0, 1, 0, 2, 1, 2, 0, 2, 2, 2, 2, 0, 2, 2, 2, 2, 0, 0, 2, 2, 2, 0, 2, 2, 2, 2, 2, 2, 2, 2, 0, 2, 2, 2, 0, 2, 2, 1, 2, 2, 2, 0, 0, 2, 0, 2, 2, 0, 1, 2, 2, 2, 2, 2, 2, 2, 1, 2, 2, 2, 2, 0, 2, 2, 2, 0, 2, 0, 2, 2, 0, 2, 2, 2, 0, 2, 2, 2, 2, 2, 2, 2, 0, 2, 0, 0, 2, 0, 0, 2, 2, 2, 2, 2, 2, 2, 2, 2, 2, 0, 0, 2, 2, 2, 2, 2, 0, 2, 2, 0, 2, 2, 2, 0, 2, 2, 0, 2, 2, 0, 0, 2, 2, 2, 2, 2, 2, 2, 2, 2, 2, 2, 2, 2, 0, 1, 0, 2, 2, 2, 0, 2, 2, 2, 2, 2, 1, 0, 2, 0, 2, 2, 2, 2, 2, 0, 0, 2, 2, 2, 2, 0, 2, 2, 2, 2, 0, 2, 2, 2, 2, 0, 0, 0, 0, 2, 2, 2, 2, 2, 2, 2, 2, 1, 2, 0, 0, 2, 2, 2, 2, 2, 0, 0, 2, 2, 2, 0, 2, 2, 2, 0, 2, 0, 2, 2, 2, 2, 0, 2, 0, 2, 2, 0, 2, 2, 2, 0, 2, 2, 2, 2, 2, 2, 0, 0, 0, 2, 2, 0, 2, 2, 2, 1, 0, 2, 2, 2, 2, 2, 1, 2, 2, 0, 2, 2, 2, 0, 2, 2, 2, 0, 2, 2, 2, 2, 2, 2, 2, 0, 0, 2, 2, 2, 2, 1, 2, 2, 2, 2, 0, 0, 2, 1, 2, 2, 0, 2, 2, 2, 0, 2, 2, 2, 0, 2, 2, 0, 0, 0, 2, 2, 1, 1, 0, 2, 2, 2, 0, 2, 2, 2, 0, 2, 2, 0, 2, 2, 0, 0, 1, 2, 2, 2, 2, 2, 2, 2, 0, 2, 2, 0, 2, 2, 2, 2, 2, 2, 0, 1, 1, 2, 2, 2, 2, 2, 0, 2, 2, 2, 2, 2, 2, 2, 2, 0, 0, 2, 0, 2, 2, 2, 0, 0, 2, 2, 0, 0, 2, 1, 2, 2, 2, 2, 2, 2, 2, 0, 2, 2, 2, 2, 2, 0, 1, 2, 2, 2, 2, 2, 2, 0, 2, 0, 2, 0, 2, 0, 2, 2, 1, 2, 0, 1, 2, 2, 2, 1, 1, 2, 2, 2, 0, 2, 0, 2, 2, 2, 2, 2, 2, 2, 2, 2, 0, 0, 2, 2, 2, 2, 2, 2, 0, 2, 0, 2, 2, 2, 2, 2, 1, 2, 2, 2, 2, 2, 2, 2, 2, 0, 2, 2, 2, 2, 2, 2, 2, 2, 2, 2, 0, 0, 0, 2, 2, 2, 2, 2, 2, 2, 2, 2, 0, 2, 2, 0, 2, 2, 2, 2, 2, 2, 2, 2, 2, 2, 2, 0, 1, 0, 0, 2, 2, 2, 2, 2, 2, 0, 2, 2, 2, 2, 0, 2, 2, 2, 0, 2, 2, 2, 0, 0, 2, 2, 2, 0, 2, 2, 2, 2, 2, 2, 2, 2, 0, 1, 0, 2, 0, 2, 2, 2, 2, 2, 2, 2, 2, 2, 0, 1, 0, 2, 0, 0, 2, 2, 0, 0, 0, 0, 1, 2, 0, 2, 2, 2, 0, 2, 2, 2, 2, 2, 2, 2, 2, 2, 2, 0, 2, 0, 2, 2, 2, 2, 2, 0, 2, 2, 2, 2, 2, 0, 2, 2, 2, 2, 2, 2, 2, 2, 2, 0, 0, 0, 2, 2, 2, 2, 2, 0, 0, 2, 2, 2, 2, 2, 0, 2, 2, 2, 2, 0, 2, 2, 1, 2, 2, 2, 2, 2, 2, 2, 2, 2, 2, 2, 1, 2, 2, 2, 2, 2, 2, 2, 2, 1, 2, 0, 2, 2, 2, 2, 2, 2, 2, 2, 2, 2, 2, 2, 2, 2, 2, 2, 2, 1, 2, 1, 0, 2, 2, 2, 2, 2, 2, 2, 0, 2, 2, 2, 2, 2, 2, 2, 2, 2, 2, 2, 2, 2, 2, 2, 1, 2, 2, 2, 2, 2, 0, 2, 1, 2, 2, 2, 2, 2, 2, 2, 1, 2, 1, 0, 2, 2, 2, 2, 1, 2, 2, 2, 2, 0, 1, 2, 2, 2, 0, 2, 2, 2, 2, 0, 2, 2, 2, 2, 2, 2, 1, 2, 2, 2, 2, 2, 2, 2, 2, 1, 2, 2, 2, 2, 2, 2, 1, 2, 2, 2, 2, 2, 2, 2, 2, 2, 2, 2, 2, 2, 1, 2, 2, 2, 2, 1, 2, 2, 2, 2, 2, 2, 2, 2, 2, 2, 2, 2, 0, 2, 2, 2, 2, 2, 2, 0, 2, 2, 2, 2, 2, 2, 2, 1, 2, 2, 2, 2, 2, 2, 2, 2, 2, 2, 2, 2, 1, 2, 1, 2, 2, 2, 2, 0, 2, 2, 2, 2, 2, 2, 2, 0, 2, 2, 2, 2, 1, 2, 2, 1, 2, 0, 0, 2, 2, 2, 2, 1, 1, 2, 2, 2, 2, 2, 1, 2, 2, 2, 1, 0, 0, 2, 2, 2, 2, 2, 2, 2, 2, 2, 1, 1, 1, 2, 1, 2, 2, 2, 1, 0, 2, 2, 2, 2, 1, 2, 2, 2, 1, 2, 2, 2, 2, 2, 0, 2, 2, 2, 2, 2, 2, 2, 2, 2, 2, 2, 2, 2, 2, 1, 2, 2, 1, 2, 2, 2, 1, 0, 2, 1, 0, 2, 0, 2, 2, 0, 2, 2, 2, 2, 2, 1, 2, 2, 1, 2, 1, 0, 2, 2, 2, 2, 2, 2, 2, 2, 2, 2, 2, 2, 2, 2, 2, 1, 2, 2, 2, 2, 2, 1, 2, 2, 2, 1, 2, 2, 2, 2, 2, 1, 2, 2, 2, 2, 2, 2, 2, 2, 1, 2, 2, 2, 2, 2, 2, 2, 2, 1, 0, 2, 2, 2, 2, 2, 2, 1, 0, 2, 2, 2, 2, 2, 2, 2, 2, 1, 2, 2, 2, 2, 2, 2, 2, 1, 2, 2, 2, 2, 2, 2, 2, 2, 2, 0, 2, 2, 2, 2, 2, 2, 2, 2, 2, 2, 2, 2, 2, 2, 2, 1, 2, 1, 1, 1, 2, 2, 2, 2, 2, 1, 2, 2, 2, 2, 2, 2, 2, 2, 2, 2, 2, 2, 2, 1, 2, 2, 1, 2, 1, 2, 2, 2, 2, 1, 2, 1, 2, 2, 2, 2, 2, 1, 1, 2, 1, 2, 2, 1, 2, 2, 2, 1, 2, 2, 2, 2, 2, 2, 2, 2, 2, 1, 2, 2, 2, 2, 1, 2, 1, 2, 2, 2, 2, 0, 2, 2, 2, 2, 2, 2, 1, 0, 1, 2, 2, 1, 2, 1, 2, 1, 2, 1, 2, 2, 2, 2, 2, 2, 1, 2, 2, 1, 2, 0, 2, 0, 2, 2, 2, 2, 2, 2, 2, 2, 1, 2, 2, 2, 2, 1, 2, 2, 2, 1, 1, 2, 1, 0, 2, 2, 2, 2, 2, 2, 1, 0, 2, 2, 2, 2, 2, 2, 2, 2, 2, 2, 1, 2, 1, 2, 2, 0, 1, 2, 2, 1, 2, 2, 2, 1, 2, 2, 1, 1, 1, 2, 2, 1, 2, 1, 1, 2, 2, 2, 2, 2, 2, 2, 0, 0, 2, 2, 2, 1, 2, 1, 2, 2, 2, 2, 2, 2, 0, 2, 2, 2, 2, 1, 2, 2, 2, 0, 2, 2, 0, 1, 1, 2, 2, 2, 1, 2, 2, 2, 2, 2, 2, 2, 2, 2, 2, 2, 2, 2, 2, 2, 2, 1, 1, 2, 2, 2, 2, 2, 1, 2, 0, 2, 2, 2, 0, 2, 2, 2, 2, 2, 1, 2, 2, 2, 1, 2, 2, 1, 1, 1, 2, 2, 2, 2, 2, 2, 2, 2, 1, 2, 2, 1, 2, 2, 2, 2, 2, 2, 1, 2, 2, 2, 2, 2, 0, 2, 2, 2, 2], \"colorscale\": [[0.0, \"#440154\"], [0.1111111111111111, \"#482878\"], [0.2222222222222222, \"#3e4989\"], [0.3333333333333333, \"#31688e\"], [0.4444444444444444, \"#26828e\"], [0.5555555555555556, \"#1f9e89\"], [0.6666666666666666, \"#35b779\"], [0.7777777777777778, \"#6ece58\"], [0.8888888888888888, \"#b5de2b\"], [1.0, \"#fde725\"]], \"line\": {\"width\": 1}}, \"mode\": \"markers\", \"type\": \"scattergl\", \"x\": [-0.185200014242215, 1.230843747321729, -0.49020511919273535, -0.9981093229552415, -0.9636075594339866, -1.0602934922678406, -0.20875162146929763, -0.04400402623764315, 0.35335775817689996, -0.04405266463366497, -0.7063986115163484, -1.411683548837029, -0.9164672353699215, -0.6408009793048678, 0.19084903912211776, -0.8230912675016383, -0.11470054219942122, 1.4249600079082378, -0.6000348767098539, -0.2641868921686428, -0.33181182510075646, -0.38806937578541484, 0.9170636738485102, -0.5156629656837076, 0.5373499245601061, 0.23274210087743175, -0.870867551597379, 0.4328537913443834, 1.994339412289663, 2.004612902903757, -0.34333469067776695, 2.8546630261941193, 1.9182322329452195, -1.3966702785266887, 0.8813522885907547, 0.09664010507205947, -0.6490712121290008, -1.3573498442881105, -0.6097637778834241, -0.403978281877897, -0.12550067671759604, 0.8971802438036348, -0.9459699501893605, -0.3677084751888849, 3.671580585427457, -0.14983860962574663, -1.2149423005099411, 0.2612264025844273, 0.3523624391617417, -0.8841852521361393, -0.9660529071415797, -0.49906916026304154, -1.0478781968910262, -0.3676943104157746, 0.25118407636642026, -1.0858441247996136, 0.7336269185280746, -0.9544680796012459, -1.2459013606339553, -1.0814857003709728, -0.35826738068518343, -0.33490618554871, 1.6472329538953943, 2.3864610678205587, 3.488309092634794, 0.3797536293937489, 0.25737991749354994, 2.7742387405779487, 0.4477654698989866, -0.12311625369989823, -0.4911083602639319, -0.05589459069346218, -0.7457875844071926, 0.3562624424226169, -0.929067190066049, -0.5457152086213102, -0.24774242824662807, 1.707357151190162, -0.24177997786876948, -0.2370098846463532, -0.6858248576434515, -0.4590047039129841, -0.3120249722094185, -0.6932756200889302, 0.6180878128357613, 0.11696139222064, -0.21901560091901634, -0.22262788354566984, 11.392596859434766, -0.13209846577212625, -0.8735815664094656, -0.5043132155050633, 0.36722261712812904, -0.04024334171389636, 0.6586507312201632, -0.279173652491972, -0.6702996873860524, -0.5748284011536019, 0.5316712259284426, -0.34702167980739773, 0.07923055529022247, -0.1724670273891164, -0.37294751990395353, -0.7270054789200785, -1.4702900559627885, -0.655374955336915, -0.10139290848815098, -0.23815661243230102, -1.001241229550629, -0.8363595378218257, 0.6738912075273747, -0.28351386961137237, -0.19561643138004792, -0.33610759971043164, -1.4065217266747103, -0.6358923471511934, 0.037561073731896634, 1.3200232694116898, -0.7491597068311184, 1.3096915432406486, -0.9710911324518615, -1.4224250959675313, -0.77798668999904, -0.4968919657462007, -0.22706028964207353, -0.6897829760128816, 0.12128359466110757, -1.0475979158748971, -0.11999208768973214, -0.42065122261773474, -0.04098140157419044, 0.0904044482550305, -0.22435535749564536, -1.0698185691653816, -1.3914280463907724, 0.4173456505517811, -0.024709339444769968, -1.125658773595914, -0.9064116437701926, -0.19048080286489896, 0.339731516919954, -0.4758939821691238, -0.11075737527500756, -0.17096741209639935, 0.42776177064670323, -0.7514226672893086, -0.3231762919274868, -1.1162966746760359, -0.11153679812098695, 0.04978550404433197, 2.5793337364608484, -0.9122817914649597, -0.9521783365805264, -1.1909326246421936, -0.3844805002189919, -0.8198700594783412, -1.1328878328332952, -0.1064514231557446, -0.23287413752164532, -0.5329419314175318, -0.2853437971270356, -1.0447406946927795, 0.0704318797342416, 1.8181488582647594, -0.3079674346742602, 0.4749233589999903, -0.5799692858474094, -0.16733787204059933, 0.1869631785629873, 0.3226826526408824, -0.07635606660046146, -0.40221935966859945, 0.06397394172786591, -0.28852579871006884, -0.6730681462438516, 5.005904349299111, -1.4072589740205093, 1.301302008839389, -0.1484162671244448, 0.5723284773931183, -0.4507091779478714, -1.57727287616424, -0.6124845190817325, -0.6019865757511728, -0.35091785077624854, 2.1949833302798267, 1.2602307397628083, -1.2376939048135738, -0.45250480883005684, 0.6457550196418095, -0.13672058231848694, -0.22855356398433643, -0.5875783738819962, -0.3167088923897593, -0.5900987864105685, 0.2061897560248408, -0.3669981721976698, -0.685523311071288, -1.1692023721372566, 4.830986107197115, -0.060685547080442784, -0.824916194471336, -0.39996775865000045, -1.4217762250736747, -0.6301845077457341, 0.1788061336694692, -1.226230072542972, -1.328018400614042, -0.5121826691824743, 1.8872993821784423, -0.04834524569914743, -1.2725820007723638, 1.0155697347968065, -0.5665569487462048, 0.18053409572263523, 1.8637596688254017, -1.3830072879601782, -0.15059736674584498, -0.2927214759235375, -0.2106463700968231, -1.1917917827635311, -0.38709150556619804, -0.3940805110887378, -0.2376424455471468, -0.6506541384115304, 5.0011600299219365, -0.015266641205840007, -0.5398327579817221, -0.5789266060696285, 2.7462442518094865, 0.8094250732089301, 1.4660757449268818, -1.0827361972900622, -0.6798394605026314, -1.4049838879236582, -0.5686416798943535, -0.6090634769313893, -1.1870273754839709, -0.4608254357946066, -0.19796999054550773, -0.14875513360379788, -1.2627097744095208, -1.2849876017107704, -1.3966393666112984, -0.5099597209509378, -0.3628577617124774, -0.49784671549376114, 0.11067605936005931, -0.6429445902337098, -1.2871497799850011, 2.0523005743137683, -1.0464620872936543, -0.024194468691393363, -0.22600133805871986, 0.1477115718742493, -1.4049738629650799, -0.30742440456728715, 0.5820851885555436, -0.1847354266431828, -0.313015988608295, -0.3875804889987665, 0.995172762492106, 0.29769235986063397, -0.5782760671594918, 0.07864199257611657, -0.16151100331729715, -0.4526632540615545, -0.7551228154781264, -0.33160025477594146, -0.22024119555186183, -0.2787181666634428, -1.3510366524418707, -1.4333944257788966, 0.47070707877412277, 2.2207075020102116, 0.29329202852149067, -1.4165897470930129, -0.07637739462602704, -0.23052329389724557, -0.1853407201500967, -0.43601607274668736, 0.2059843853641728, -0.5326989887984225, 2.3633510842052754, -0.7811190117039746, -0.6196780772403792, -1.3527838876411262, -0.2471807330456426, -0.5151104639477141, -0.9318203542304423, -1.0708341640572723, -0.8792018502942075, -0.02396324847484585, -0.3113512762865598, 0.12386517074742556, -0.38539138884710444, -0.23453152569424193, -1.099515451434743, -0.47221456483321317, 0.12214564182547259, -1.1189814364670987, -0.307590262910827, 3.919858392046332, -0.05226499197293891, -1.1198515925890737, -0.24646908329803094, -1.3182026490621122, -1.086669900592929, -1.0375615404238403, -1.2182205541119522, 1.20311791466489, -0.948600031727471, -0.14898648094406072, -0.2815079768751745, -1.3462855349632536, -0.0006574514146972062, -0.1625709121535793, 2.7400664921421103, -1.1981507120665518, -0.10426638609898291, -0.11834125992623282, -0.20333311117097133, 0.7497738595256522, -1.1202568269252795, -1.783006839713961, -0.22768351339342935, -0.38358958238715973, 0.3623781618199416, 0.1977530877819142, 1.0393000308051528, 1.4411693262159753, -0.5049547763178494, -0.7166266677815205, -1.4342804115182572, 0.11706634961976761, -0.8091967029773954, -1.291626225228704, 0.18410369276271987, -0.2239257019815008, -0.7256362648882106, -0.38108486203382647, -0.7191118477376083, -1.3915471326216409, -0.3752527141138391, 3.161388635612798, 0.7842016281292915, 3.5705995712430516, -0.2637873687001078, 0.225904739557155, -0.27086755184762723, -0.4323700553528406, -0.4093176281839467, -0.5150268987642145, -0.22279120200832164, -0.2491293327416654, -0.047328523670289724, 0.7197407145403375, -1.1263252692707049, -0.36313883486313486, 0.9364734668441721, 2.3200430503007556, -0.660984447316788, -0.14356009684803242, -0.12398781643207528, -0.6138358294457665, -0.6880784920284597, -0.6070357359335907, -0.5054279214906605, 0.08885822629639155, 0.2527254627285158, -0.8506276773732692, 1.4212261674976563, 0.2678280019207117, -0.5446798150887505, -0.0861300527557877, 1.0275205746719882, 4.075941194411857, 2.106522201240762, -0.7536634716608956, -0.09701459238109135, -0.06231711701989973, 0.7422371715119895, -0.4442385068543665, -0.8262862688260751, 0.9581537762325465, -0.8313693590854933, -0.49929452630837345, -0.6260897834336856, 0.24502000834843596, -0.17725946163483894, -1.0746279909603282, 1.1507514165081987, -0.0863008786016716, -1.2670358823698646, -0.23749807396997644, -0.4593563310738799, -1.2281221073748014, -0.9458662978125136, -0.1695048638772009, -0.4519961547688381, -0.5451855058270348, -0.5094999558214077, 0.3511702016314563, -0.20972174556376602, -0.567165741933091, -0.2225446485798208, 1.3354225918188718, 0.7596107626196463, -0.8840840348175624, 0.055943459363137896, -0.09894194053053255, -0.25302869778026055, -0.5608882201329107, 0.10328146836578982, -0.5729018310843097, -0.9830092682430347, -0.5996923884318853, 4.840514819729397, 0.16041485925294918, -0.18543235888946072, -0.540397709756676, 6.585059591152611, -0.5893688206037615, -0.44850196679141885, -0.5990205769564613, 0.07951659179745091, 0.08632053479796858, -0.7500451451166728, -1.059337436399213, -1.2002666555428982, -0.2829547396342047, 0.8459793769111148, -0.2727974325734751, -0.4712863912930494, -0.4890018629972586, 4.142494084584805, -0.10823532271034077, 0.02111142786033003, -1.2725788499016846, -0.9186114235634106, 0.4205583326219565, 0.5946463310069826, -1.292198097383304, -0.5770823703660501, -0.17207090386047325, -0.23924168309803986, 0.07448391616977401, -0.46342905879198215, -0.27741065297269185, -0.1334351428647514, 0.7233897869799256, -0.24418181500405023, -0.7743918934134207, -0.8183534011064532, -0.6873118669148406, 1.4492121689746091, -0.19076365631084308, -0.2918662206501315, -0.37948443164909423, -1.326956959645732, -0.6211308877496914, -0.456121254512662, 6.841765688689759, 0.5444746534012173, 0.2187967958050713, -0.8156001645573266, -0.5161157057910342, -0.2806435272652692, -0.15696039554823374, -0.49324700538578725, -0.4477986508398575, 2.2089016230955014, -0.5752916278200493, 0.4451346646117868, 1.9320111497131667, -0.11429533637646674, 1.3813288453302361, -0.4577372602574504, -0.11392277046318336, -0.6210368380468941, -0.42924450124089986, -0.04466946817221118, -0.5059510681888807, -0.1848737437275638, -0.2776692444730986, 2.169852568456367, -0.5542716812402568, -0.5621825897887078, -0.23618424699678314, -0.42129001401916644, -1.0552349674735828, -1.3700273334014026, 1.2509287647129712, -1.2596412374718347, -1.153806328727888, -0.5745721596547078, 3.0051977244677737, -0.22201823594431647, 0.4243883633771992, 0.21276259068088085, 0.20894595625713488, -0.48444327814288846, -1.1147188937789907, -0.3245723961972983, -0.4289334133330112, -0.30898954857843997, -0.09525676115885, -0.1817708872317038, -0.44002215919566634, 0.13705305954692873, -1.0845225052041323, -1.4321149424955304, -1.06856447728306, 2.4075123052719225, 0.477099344133437, 0.29750230774013636, -1.092359585808668, -1.049241318237756, 0.1359185222328891, 0.22790899467029702, -1.133424491567217, -0.4112099778383149, -1.149782601882818, -0.6094497659243595, -1.0147742836217921, 0.407696262506662, -1.4050484585311753, -0.17913658788012699, -0.2690648293099051, 1.1227473270570698, -0.6151606928909384, -0.25309600251066033, -0.2670562160130338, -1.4095848757593052, -0.46792282819590914, -1.2114596887055364, 0.5212183322119465, -0.48396541545064764, -0.39582593028827845, -1.2261890358951282, -0.462583139084968, 0.19302240243102226, -0.1199799441654603, -0.6518815820028828, -0.19599870904226263, -1.2016462750015462, 0.7964451464375698, -0.5216412951219263, 2.7183689434160776, -0.16542770785140365, -0.9996337169742481, -0.21254400416554808, -1.2139600888791793, -0.2931663734951964, -0.24797923984692322, -1.3482474297461835, -0.732731958869639, -0.3005494205011154, -0.5982861025500253, 0.19906959947808908, -0.7414652894021785, -0.9014637399350852, -0.6401310439764762, -0.2387367039136509, -0.8328844539639907, -1.0758797671365221, -0.11417597362880542, -0.2569369475467553, 0.06633549392398078, 1.6113910434104661, -0.605065575746538, -0.4293285198490301, -0.4221489008280341, -0.2550521680783416, -0.5221841706082004, -0.6734161616369067, -0.0675320244397442, -0.3392627443905443, -0.5890248039980186, -0.5558248514041839, -0.528438196338603, -0.8103420132447572, -0.19856927039382036, 0.5092606568806783, -0.32300701455912406, -0.22780688085245945, -0.5022473453808511, -1.1194693383761072, -0.6683864316721468, -1.2079034783882632, -0.2244986431719384, -0.7590127284870744, -0.33814899443226437, -0.5771138654395692, 0.020126316939431566, -0.32569709434314614, -0.8459246172665471, 2.9487970800341365, 0.14612550691336854, 0.020966505790800956, 2.0435231638431066, -0.592437260305409, -1.205843331689539, -0.11895949404271258, -0.41875530095037783, -0.46534126176201857, -1.1843806385252116, 1.814971259111828, -1.1483346955486284, -0.5357861188536602, 0.055728152796047314, -1.121566599264723, -0.8969098676861219, -0.18547358656508778, -0.6949671766418564, -0.5994508094439426, -0.6436390757065014, -0.7814425057541949, -0.4773291876362215, 2.0617273238428186, 1.2234809862783107, -1.1404162287118058, 2.3189194215244395, 0.8530007154435313, -0.10676961522835755, -0.9464151406850727, 6.796893516139362, -0.6536011196808049, 0.3102450573227919, -0.896960619972623, -0.1575620250466078, -0.24601570497046127, -0.42846799534440744, -1.1291443852741905, -3.8508419886753785e-07, -0.22271435190929045, -0.5517527822261342, -0.7664931995215155, -0.11396548935928044, -0.26606077261579286, -1.0689320548271892, -0.6251308301543973, -0.6643871544497421, -0.9568788558412978, -0.7804935381177998, -0.12924678189441768, -0.314857790709627, -0.3816615118879548, -0.2843335325824787, -0.5619152573743463, 0.08400135950238688, -0.6730758905991768, -0.5216212129930835, -0.26128294614414027, 1.2951322816111202, -0.17237091401105928, -0.553494503713012, -0.6759349187426054, -0.41286390084654073, -1.4958956657161304, -0.15842197546296835, -0.9775450811835326, 1.7001344156335465, -0.2828019085722957, 2.49044615909927, -0.6841311062717439, -0.003709566133160323, -0.9057116734152242, -0.6209499870179102, 0.5762744446565491, -0.7010536004145008, -0.35560257995715816, -1.475506591543149, 0.23190529665932177, -1.1849785389628074, -0.0636103773132529, -0.6585629999679318, -1.0183714074657682, -1.1797466304564745, -0.48252673089619474, 0.061931845817869854, 0.14545368788818533, 1.150807536573494, -0.13410925761306744, -0.4110940829164921, -0.47997749467323503, -0.45681781373349345, -0.5677366368659844, -0.4695267865119287, -0.3865263526837024, -0.6523052971534226, -0.6313200324220996, 4.402134778716496, -1.1049915930705798, -1.000449025735507, 1.7009286844969127, -0.20883574228073162, -1.1341192232953925, -1.099050317568926, -1.0285447299317796, 5.6346495657792, -0.20146820027272008, -1.4903326990845123, 0.7384054351724059, -1.0895108705660141, -1.1583614781102642, -1.394365997333153, -1.0728022272522337, -1.0569480169218315, -0.3491774131135884, 1.7498159189792504, -0.8993195226954049, 0.5317008028970827, -1.093804246694958, -0.6527367153403503, -0.9881926726789726, -1.2011426078419294, -0.2317223623391767, -0.22653519725192472, 0.4219922861390403, -0.38632851419958114, 1.1257298471510055, -0.34022542729543614, -0.659820702794454, -1.3209836730655504, -0.5952698393246126, -1.5964509549703343, -0.40553638945565157, -0.33321618285704213, 0.5648257543735946, -0.7283833360484662, -0.26728552593963106, 0.045555909831780074, 4.5840094902839885, 0.7039183676807744, 0.2605326807587461, 0.7198344878516618, -0.16790001582996691, -0.589624659104465, -0.38332232135229927, -0.23134696418888112, -0.21311956188028464, -0.24073630026853, -0.7544031420970894, -0.7998493485007395, 0.36181813600612395, -0.5219555697697486, 0.21302083333374047, -0.9367125306102084, -0.9663132882958636, -0.5669699013532677, 1.0315647158915568, -0.978893042215742, -0.19445067640732872, -0.6284341886600776, -0.6152834755645671, -0.313669301050695, -0.4549386137449611, -0.056807058227497806, -0.4829211766349866, -0.5067395807501924, -0.41628984565787497, -0.6481685254100351, -1.0948182863697689, -0.1398948382717305, -0.08657213293769557, -0.6346980078517149, -0.07311534051765868, 0.07224638628180116, -0.31884085185843186, -0.4854676566877995, -1.3894047098577154, -0.2543281309741443, -0.25031494527522924, 0.05922641887442779, -1.2880386190870206, -0.6169713447112701, 7.358204701886359, 0.32226926950295853, -0.14963629180897936, -0.11185985112306053, -0.7084810527968016, -0.9715983653289285, -0.4406383013625272, -0.7565397444675833, -0.21953613881678158, -0.7261652121754052, -0.26918701580846305, 0.13127694780729202, -0.5699924288191847, 0.26238615855730174, -0.6572312179761067, -0.6843253910866354, -1.0965385678101742, -0.5831982662612271, -0.45822586359540896, 0.48026999346796884, -0.3729856535869734, 0.10580875110714044, -0.3384427417377662, -0.9528428602732144, -0.9881999552618772, -0.5444661956124216, 1.8336047991527102, -0.8262488575936694, 1.1529750320372463, -0.07628567290462997, -0.4567350690863511, -0.6749982936665048, -0.375995656402533, 1.0979375181504214, -0.6268097229320991, -0.31692254505581324, -0.3512715850822117, -0.14982207035152595, -0.030545412705960093, -1.1119363835275717, 0.36745089650700186, -0.15224988438290427, -0.10486793030897609, -0.2391849374623922, 7.549066290554729, 5.486478925666007, -0.4606037956963713, -0.36001807782964357, 0.7884988203917782, -0.12422727304005042, -0.10663108777683218, -0.5129180055570361, -0.26513109627628906, -1.1047091270058909, -0.3389289796619433, -0.2592492114282377, -0.5037836260319234, -1.2286125176691736, -0.8060226383643835, -0.538311314189183, -0.13041485923398638, -0.1873448412997814, -0.6946543233068629, 0.4954862430930404, -0.1120844126997561, -0.42617441533188877, 3.287423854286682, 1.8869064488014045, -1.163813686730312, -1.0608863257544807, -0.9388855854836176, -0.34479765506924565, -1.134648555042055, -1.1978602788840955, 0.45600272887017246, -0.945513974280253, -0.16837379291367677, 0.05799766898538589, 4.484063181364225, 0.09199181354163903, -0.22512182517625565, -0.7600790291138378, -0.9639874178548402, -0.44587425120414004, -0.4704868990234192, 0.20512520412509597, -0.9121412681689253, -0.8764249536206855, -0.7091284769757136, 0.2853702645370828, -0.4405735142449883, -1.1807668673000664, -0.9553460355839933, -0.1739240070771457, -0.32896826850745725, -0.6089113452093725, 0.40210924075184445, -0.46234494851414343, -0.2774580791586187, -0.014619915739316943, -0.42957018663063673, -1.2327571927699599, -1.3055169671551132, -0.1540503814470298, -1.178988740902385, -0.17259218667324647, 1.0827521516028342, -1.3095983827007207, -0.47103453407306417, 0.7779041929164056, -0.20643056668623042, 0.18028602865439078, -1.0946762758446074, -1.0230039528834183, -0.9901738504349672, -1.0956804239845992, -0.308614111374124, -1.0563621573827824, -0.8931065127051558, -0.6647709169963116, -0.539049975083617, 1.3529368683591523, -0.8200428199331286, 0.6298629495241074, -0.04414023206878675, 0.6082719777328807, -0.3175514085464518, -0.4265844920341398, -0.07484156468105638, -0.5568724879989759, 3.170069092973159, -0.9793556029533849, -0.4784309508336345, -0.05723877237743111, -0.79657639747865, -0.2837970644661473, 0.24943770899574932, -0.07818381689122361, -1.0998230418221513, -1.201854320184273, 1.8474207096892794, -0.4467241411926145, -0.6390129152522589, -0.15496616084923262, -0.07039945822592274, -0.43909605250203787, -0.5188528910388874, -0.15171544259494346, -0.457147909428062, 0.8660727749196576, -0.6680117533358333, -0.6862277776126532, -0.2572271696635064, -1.4222900766664766, 0.5728107606960922, -1.0257148036504968, -0.5243161405151513, 1.8147130777449767, -0.8716764249949395, 0.18255681623558548, -0.4925558933622787, 0.7018726900924519, -0.6576397252247084, -0.6783749762095187, -0.539308547280279, -1.1982100737936072, -0.04722440452462953, -1.4173643946694945, -1.30930720064964, -0.5698498287396618, 2.163295270880358, -0.43083425529096364, -0.05977715296549806, 0.39978530356757, -0.21552749065081908, -1.2326341801538334, -0.6843951815245631, 1.2633163010878659, 6.812567058756172, -0.5123784855054154, -0.6334914797928674, 0.4994517910115843, 5.166778617820035, 0.5533030709747625, 0.37032115794293946, -1.2429634576350836, 0.26644053619641694, 0.9078871135620769, 0.6701647397325388, 0.3619708374415304, -0.7144123441321464, 0.23948204728202968, -0.6512962328381028, 3.2617202763552844, 0.17569004378926759, -1.2144185891939179, 1.909917847165047, -0.5128973241297521, -0.7000140236981229, 1.8002965980317878, -0.5871652627197826, -0.3439749006694015, -0.33118452108031565, -0.6154348011939113, -0.38995797600407367, 1.4630231292040867, -1.1094462609450642, 0.18892529955597548, 5.67320902291357, -0.6820455206445197, -0.9321759161013579, -0.6159284355089967, 0.38640726562768785, -0.23551326441501952, -0.25859395555872394, 5.3137028936619926, 0.4358594096871659, -0.4239115749222754, -0.33105889433716, -0.5101411770201876, -1.0434992779475687, -0.14645215653583063, -0.8224235570761467, -1.6891300082024103, -0.37017040820557684, 2.026839419318333, -0.2831976280978206, 0.5964451072742482, -0.3320405655779364, -0.5274885241152878, -0.5232440022574806, -0.5179627425207199, -1.0523576424495635, -0.11350725071128796, -0.4135035267297116, 0.04299982463897996, -0.7187913416253278, -0.3700751628926562, -0.7334186915122453, -0.8907689458144531, 0.33027165617689985, 0.07828751493370366, 0.4729346094074258, -0.6621026832264465, -1.28020921432836, -0.5399367607334474, 1.0068148414907976, -0.5547548377006551, 1.0951053476450177, -0.2308678127209588, 0.0950747788267822, 0.321298090915437, 0.7633971761068173, -1.1184210048464522, 0.5432694259211073, 1.43040028364856, -1.323569938979154, -1.4621639639465647, -0.17989559360181628, -0.4020971066995455, -0.7039124932685238, -0.6130092005195884, -0.9615022037333064, -0.29918009619301766, -0.6442571251736504, -0.030147671402190275, -0.518076079979255, 0.3359142593877713, -0.9541612791282335, -0.15616901087774235, -1.1731152018302002, -0.2610529028284202, -0.8224419780618338, -0.15375848543530854, -0.361556719951874, -0.6816082746782505, -0.749574734519779, -0.25356107554046725, -0.35234496196249976, 1.239825499602883, -1.177775075585604, -0.6910025768494046, 0.12223723312009364, -0.23262288221347482, -0.5737258054186282, 0.08205891538664993, -0.01935094188498458, 0.713605125094678, -0.574816670654698, -0.09583731670402172, -1.0312975600188423, -0.3511001024449546, -1.2819613966295762, -0.48410544379183285, -0.3820907367889959, 0.12584318093308952, 0.49229601732934597, 0.05891203424358085, 0.29431816531923644, 3.3462882003820957, -0.9838271782516057, 0.7074214153757294, -0.9430293547823917, 5.49138639058443, -1.2652122769271554, 0.11236027554918081, -1.0520475646979275, 1.1862524303690394, -0.6613712209180498, -0.8304706567003036, 1.7996759041835533, -0.7226905967332272, -0.5373589671164917, -0.16534087840088413, -0.6376045185058303, -0.4855361611599675, 3.5616659624603138, 0.267543695302312, 0.021051161693946285, -0.1955466913840356, -0.026116512600723167, -0.6598791841459092, 0.5050903188708931, 0.3119885329671964, -1.2202989668234538, -0.22541919889662124, -0.6664047486097304, -0.9195923337122011, -0.5101324545691469, -0.49382960931848385, -1.7286383593423, 0.23063377269933014, -0.4901326898550124, 0.8839388260518458, -0.5707017129732112, 3.965743234436639, -0.20572548568691235, -0.49444248317150535, -0.10917234222229807, -0.34436255003598004, 0.6166286408720275, -0.8896900785505029, -0.21822512011256429, -0.6182415968125803, -1.4997591879815675, 0.277075959659229, -0.6908621940134577, -0.3803254261225309, -0.5105440950481624, 0.18045282428912618, -0.7293454258028458, 0.020922005572341574, -1.1581566976659143, -0.5273632079675872, -0.4081422035427931, -0.5075111826826604, -0.38540196318437514, -0.1223962950987227, 0.39492274553067513, -1.193736775731851, 0.14860397528935412, -0.47065233546026763, -0.5252426605681311, -0.5156478318421998, 1.8947070217397537, 0.9284544623122497, 0.7104511699933171, 2.2758608822098543, -1.1290475491851153, -1.0554360210688687, -0.15416234640133314, -0.35612519182455643, -1.076731309389883, -1.5588164279970624, -0.6146175017010587, -1.279622584379867, -1.2967036949326198, -0.38160661421632175, -1.0951279863094914, -0.7558762824689498, -0.4791965156956597, -0.805320062796049, -0.31840791050153017, -1.3032976764826871, -0.526877146787311, -0.8192593110095525, -0.1647943897490552, -0.21051673146831779, -0.6109181398557992, -0.43214316506875533, -1.1499720702988978, -0.46126487725921944, 0.08928463144700025, 0.4471703171682638, -0.36604921063545764, -0.5104451638016838, -0.8560299847229795, -1.0379082993218212, 0.08684102789167607, 1.6644323190865333, -0.9840377727997638, -1.412074061497541, -0.721552902641075, -0.9165649952033554, 0.2541953356390839, 0.20904651588227074, -0.8497411432606461, -0.1689857674875812, -1.1713525941616043, 4.351181498087426, -1.0399691406839502, -0.25172126673086587, -0.5315453090410628, 0.22358862701726973, -0.19345409941222239, -0.41497170583123505, 0.34378496637004186, -0.4962184197041423, 0.07227834351259775, -0.06814201373400473, -0.41659855608857294, -0.52655519283243, -0.368904150430028, 0.03863615502830824, -1.137432708705487, 0.2571810484235019, -0.5612028269321487, -0.9131603857584359, -0.10003234490907417, -0.012474475612930252, -0.3738963488602259, -0.1988861394865665, -0.4364464656647094, -0.7239667136977248, -0.6445402681672862, 0.8578323266972595, -0.05268265245680167, -0.8916882715915793, -0.8451656483058536, -1.3797916242424288, -1.4862887799051738, -1.0482996835066363, -0.5824800169891875, -0.3375158164034377, -0.14751078677696944, 7.12538685217887, 0.5204948761848917, -1.5734742552510717, -0.02337429962720953, -1.4666419216699942, 0.8873617373548268, -0.543689068566465, 0.0018016809400256608, -0.5198212060207013, -1.0016522342995837, 1.8316738496592282, -0.4600171251165292, -0.43346437931085985, 0.19059754219801758, -1.406531080629834, -0.6869552804650451, -0.6960886734363436, 1.311935679041458, 0.2660412299104561, -0.8846425872195345, -0.8574920588148766, 0.6552704278362266, -0.3366364155972642, -0.3630328800739936, -1.1881301427589603, -0.2301435734340684, -0.36089462205769146, -0.4613733668651476, -0.542650820797224, -0.9361505729655561, -0.35059095747193775, -0.3788351169804105, -0.17984554612296816, -0.6387200760340601, -1.125021454578318, -0.10316777653867008, -0.12834810360141558, -0.6193407953103434, -0.09756188817833007, 0.2187445994747537, -1.040484477806228, -0.48970243217224313, -0.5718288051336999, -0.07744435330239959, 2.9522466456217895, -0.8066739103090554, -0.6721472544019322, -0.3467222182606751, -0.39001504377422763, 0.6027470440011004, 7.7934075493324455, -0.4637057696798393, -0.5978436531980246, -0.4088663792365335, -0.10786258039233527, -0.2614412371709468, -0.16435697796315968, -0.110615180583601, -0.7727530289278141, -0.15619831848292207, -1.3503233492490838, -0.09327506132316024, -0.5481467572710398, 1.85328898376876, -0.008268792409852893, -1.1713638891591982, -0.2595240980924125, -0.10265217179568452, -0.48015798270150356, -0.45552348527670944, -0.10942013343707087, 0.7897833614573992, -0.5576099362156166, -0.4004881920472172, -0.09390383540998173, -0.5744556828157291, -0.4891855354250476, -0.20939296845046446, -0.3974030205033616, -0.5642547852791201, -1.1416791471770071, -1.1006919806982365, 0.6956196824834144, -0.6745535920513746, 0.03759490053002217, 0.8262069560369667, -1.1566140640167732, -0.6419257063128089, 8.846557077197478, -0.4202102356265688, 0.04751682694929098, -1.1709236190476995, -0.32485607286734974, -1.45091187251193, -0.7209729464968664, -0.30425576549077715, -0.6704658927014303, 0.3847272897481842, -0.7066486584110088, -0.45576200773178205, -0.5973864648399646, 4.284242646071152, -0.4948633712421416, -0.587741321708823, -0.8843265738198617, -1.15862210779113, 0.5037378613034942, -0.09848260848228298, -0.3103986504133942, -1.208500058806305, -0.08272041904647179, -0.4021349988283856, 7.614345767270463, -0.018589344450183894, -0.99856927778486, -0.13630639521907165, -0.4249343158462741, 1.2752184294527518, 1.3371140735757832, -0.02083673694103854, -0.4360142916553578, 0.03946315857397257, 1.8775204937868841, 0.9285824484191043, -0.396829400680637, -1.3323211996833149, -0.9970683584244927, 0.6409124626554822, -1.3261895276825217, -0.7714738777966786, -0.6464734822223595, 0.614025900932444, -0.9148032158619891, -0.08362992461267217, -0.16033044227283205, -0.49386589351153415, -0.3624194242661124, 0.0320214446917363, -0.9207826828955565, -0.35339993475843184, -0.38174103208909244, -0.34384707971475276, -0.46839957936937976, -0.5118913670583419, -0.4434003799522144, -1.55702568662999, 0.38384461223389477, -0.33839692737668264, -0.24807315568487215, -0.7410805966359303, 0.4238460058127517, -0.1586523582408392, -0.7154180460712989, 0.28294324340149063, -1.3584850353283828, -1.3688360365454575, -0.5174303759640482, 3.620154443879062, -0.2583815075497733, -0.28033158901466, 0.44878990663412005, -0.03815264418427332, -0.5940996558062948, -1.3232076679368672, 0.6054231485690489, -0.6365372461292172, -0.7246399339960267, -0.36484245647166835, -0.8060521558972601, -0.12188332171251562, -0.6461185332837824, -1.1835989839019703, -0.2892246896094444, -0.7189741030956452, 0.034850339910878284, -0.1428359580006534, -1.0500625536832142, 0.19203714296193247, -1.5244446029193683, -0.395687022327847, -0.0040635882102850246, -0.23787257360747316, 0.012795378188437503, -0.8212985741098696, -0.24104892938827896, -0.38278188966513305, -1.1147601259780808, 5.966933448889356, -0.4365900223896331, -0.5039215747404802, -0.6233434940529626, -0.5167241872007606, -0.4567498851819125, -1.0227170486593866, -1.0961223380610527, -0.8664525431109797, 1.4815025795327095, -0.30505324953364926, -0.18484183628938453, -0.029796617237170146, -0.018961881613237083, -0.25505747639350407, -1.3340497479446078, -0.42606220390053395, -1.3068151024324062, -0.3596269272001935, -0.7376881830148961, -0.3078481898805767, 0.39190194451585325, -0.42082640395427934, -0.36316786745419855, -0.5190012749012376, 1.7876620786640396, 0.06321485656836638, 2.5943559132881022, -1.0825423696896035, 3.4084254177864457, -0.35749943060662587, -1.0695324587476616, 1.1851126007345747, 0.13355154177021772, -1.274019731579423, -1.3130276105537493, 0.09337687365212283, 0.42294200221647776, -1.1949480330197335, -1.2128560945033213, -0.735456874156487, 0.9861792822554775, -0.15618674243491287, -0.3649797600664167, -1.173097987511334, -0.22904082130911438, 0.1032105393032872, 0.5356569673675527, 1.9626883228579868, -0.3964096736925567, -0.06436994904466169, 0.5302175137921776, 0.32427447218525923, -0.2490106565119112, -0.8591886706108349, 0.4939196854376726, 1.121851069333821, 1.8201322322379596, -0.26829679763822467, 0.37852572526441686, -0.519377483874061, -0.7279236070698932, -0.2177397501090955, -0.9347550898451181, 1.0312416778361049, 0.23122007672135747, 0.08992481772026824, -1.1740853795928896, -0.8819701001608939, -1.4359033917661608, -0.6859932523656402, -0.40014460751610564, -0.447038391511261, -0.8859017794699245, -0.4773493442224546, -0.5905335695815701, 0.2612274367081547, 0.5929599470730735, 0.6722898461133955, -0.41279637299654537, 0.08832480186783467, -1.194865824603711, -0.560509042336945, -0.4660065773873267, -0.9791237963389714, -1.101427812470285, -1.3552418351252977, -0.6178937310171595, -0.5181546144123392, -1.0469302978398214, 0.26877574845328833, 0.21298988383415446, -0.4405754541714663, -1.5814070431802716, 1.751006540614136, -0.49631267390580025, -0.0838468290991565, -0.5249302746585351, -0.5345795222888888, -0.8118933259400287, -0.5456481094332529, -0.12083203116681697, -0.10699418537782604, -0.8429775766106665, -0.8381493186761535, -0.6944919507238106, -1.149558620266366, -1.3028529944020335, 0.00010520622460012688, -0.6715211244125554, -1.0011946641226648, -1.3954034920903864, -1.235266564273718, -0.11831216009934135, -0.15899209515256235, 5.394761942146114, 0.164226647246143, -0.40472378026340927, -0.8236868370713374, -0.6287343288388229, 4.9805127685748225, -0.4454621045319688, -0.5786029854443748, -1.3406934375267499, -0.2268676278211061, -1.0443681602549872, -0.6570965984817331, -1.3157547861190095, -0.43874983818437746, -0.6874564474202856, -0.9346731002860531, -0.16832167699726813, -0.7811367705312668, -0.6864576641027249, -1.3887822410627142, -0.5221383758199863, 0.192766552776694, -0.5846875098206866, -0.8518434240160633, -1.1124960758231368, -1.3810138297317889, -1.0309339663950847, 0.4128462875463679, -1.187712731731537, 0.06092393574557399, 0.38172484266807205, -0.31302366856561403, -1.2279169415409017, -0.522197058383087, -0.3631529189916978, 0.6561372524968648, -1.2948339991412559, 1.08379202956865, -0.8268498731932078, 0.4691554942134221, -0.25037758728144005, -0.34622152922754834, 0.4868767933164683, -0.4198849095190618, 0.48714218176064494, -1.3199121656311927, 0.5472901675381963, 0.2856142080156794, -0.21660498311720786, -0.47050055733431223, -0.6584495312009823, -0.5326479722337578, -1.210598252235831, -0.26353593250847507, -0.6188093838842273, -0.9564796561704624, 0.3030770406235437, -1.038737696883986, -0.9282241717634461, -0.75705611687936, -0.8550263798400511, -0.6514562901438844, -0.7496102407173247, -1.6062628160122558, 0.10692001171808996, -1.035059004901159, -0.4141035366136993, -1.1618719185122084, -0.5230640992031971, 1.9722901321080943, -0.5805354905890476, -0.10973529255260679, -0.5439975278533518, 0.2918408305732325, -0.4478697097994509, 1.0405998555342273, -1.513423177850166, -0.2437974242602339, -1.2801545697174428, -1.2387074643112705, -1.5908813906998396, -0.9983512375403893, -0.5779297864684511, -0.9371692209268514, 0.13561604203137864, 2.3966956218317597, 7.996717606463231, -0.3182966078331537, -0.49230462290567334, -0.07942619967263378, -1.307422713380554, -0.24644788121749858, 1.6172888802882828, -0.659132861715442, -1.123448655105658, -1.6280790741166584, 0.014767460302506247, 0.07374553538700131, -0.6666321220572827, 0.0874699771395035, -0.3565511785023529, -1.1118860021464398, -0.460314527917948, -0.8514898429949197, 0.37367601188921673, -1.4221397067294028, -0.8475566331734765, -0.1499636691025614, -0.9717457965949275, -0.7366082032861619, -1.025937753859361, -0.6568351436813206, -0.10764424315422509, -0.34533685196562613, -0.3875414286040846, -1.2785198507511373, 0.16579755363189183, -0.2616189885658694, 0.21420342657363567, -0.08861284774453873, -0.689312899774997, -0.45494032173478804, -1.278876110734718, -0.1268439367795662, -0.5198265217561302, -0.4035818143588944, -0.6866731992865784, -1.3047741114588134, -0.5969303322104234, -0.5086874260301217, -0.1320254469178862, -1.1796786805840669, -1.1641246832430552, -0.5106424777738834, -0.9138661229631561, -0.9866109596163295, 0.061992489853834175, -0.12853257833263615, -0.44680031375293666, 0.8947994403037332, 6.3903700547091935, 0.06300503806809314, -0.663031587676947, -0.14191525347919462, 0.15177757023444174, -0.21282045914219985, 0.2770778050596196, -0.254284105092223, -0.16079542239368538, -1.3005366677356343, -0.1200225955273651, 0.10666601321492752, 0.09753785532516725, -0.05800554479562511, -1.1655135938219314, -0.6475840305220447, 1.6515441894173308, -0.2816277681346616, -0.35795540199933984, 0.44787124524787375, -0.490415160288003, 2.2774918247059532, -1.4125093928492674, -0.6815956989557423, -1.2166167755955068, -0.4383607096818887, -0.6386787516483289, 0.1917461219133222, 6.7145498231925105, 4.062539615125967, 0.1453559604509189, -0.9138755689083055, -0.6053072107682406, -0.9624133914195102, -1.0332966210546068, 0.7598468679567699, 0.5889793577252684, 0.4323442220799493, -0.29472904676143513, -0.3675809849307937, -0.2897379498501517, -1.1488304635085884, -0.49255513520100547, -0.6435651641880218, -0.8048832528696658, -0.3213078765060573, -0.08394737312547666, -0.48834800330411704, -1.1355806398387538, 0.1847744969207858, 6.038232119405747, -0.9880038831147402, 0.030118176269348314, 1.9299237084337995, 3.0118221806063126, -1.031337944304072, -0.29218980335820316, -1.0714282900384664, 1.127486448613443, -0.2651324056760361, 0.9355699986117123, -0.4701115265192913, 8.675736561549215, -1.2302964365689328, 0.2899934121494974, -0.9653638483318363, -0.5261446268827025, -0.666141742701066, 0.11741292478968474, -0.31971372220699684, -0.3517690756999147, -1.0999506256760068, -1.3561424325560194, 1.7072132040233639, 0.12454887661925286, -0.07646603400904133, -1.1669018741888073, 4.0111188177177315, -0.02498350887080217, -0.35657622625981944, -1.278590405180347, -0.3523263503002782, -0.8449468521585628, 0.5193514466472035, 1.045659725132151, 0.011630276836680171, 1.6895842308628903, 0.43112097863100574, -0.14131129772784887, -0.2039477052238483, -0.4972660182788932, 0.40378596133577405, -0.31814365992020754, -0.49349893995171834, 0.03819086365398122, -1.214260530660501, -0.3572272924257069, 0.12713401077583306, -0.28824914811751023, -0.20870652279130902, -0.5237099170263549, -1.1572924035902568, -0.5548561945842249, -0.36840758348803015, -1.2498959011160367, -1.3982534891634482, -0.24598439874459813, 2.21609097108147, 0.2802781311102735, -0.47723650501341236, -0.9674157419194181, -0.42688455353888555, 0.09146673435855318, -0.6004544981860772, 0.22818853059393096, -0.3091812525642137, -0.2780615792231269, -0.2743861540537091, -0.4418393673593799, -1.0734332771640842, 0.06907583443495531, -1.0291731461466345, -0.0560273213086443, -0.2516778401100927, 0.3313431755964162, -0.5701314488409766, -0.8722981344591043, -0.39416445686670504, 0.14798246012412933, -0.6401014508146028, -0.5878696868281819, -0.24790352195557977, -1.048849017390299, -0.24824002183842273, 2.353297583062015, -1.2091776973372477, 0.16594281042583237, -0.6628358899901601, -0.4801147011670736, 0.6465521356816986, 1.0321453737262756, -0.7245740451278608, -0.8304046256000228, -0.4705779484520099, -0.20538757275119154, -0.583052211771117, -0.0944823662905615, -0.22139696265913833, -0.20718666660494506, -0.1327069161050478, -0.5137814677175347, -1.365775760517, -0.6865015168103585, -0.24198454136454497, 0.08444958778231382, -1.2475246398874549, -0.7548909561043007, 0.4419174425480394, -0.5087387687403463, -0.8377351469626718, -1.0580931953455877, -0.5895558015306269, 2.7620670202291175, -0.2241460499602581, -0.4490912784203632, 0.19816661697818178, -1.1678178557260948, -0.9306624671868654, -0.7950283933204143, -0.3127537083016473, -0.4176203288327276, -0.3602309267559996, -1.794178976112488, -0.42069222519212374, -0.7892884514939045, -1.0518007063787638, 2.5848608738344496, -0.49373674721614225, -0.17218754650542245, -1.103340996567562, 0.16874490958990382, 1.269518199629405, -1.0319352180896917, -0.13519628884299031, -0.025311728071933912, 0.3666770762304557, -0.7375557481987846, -0.4403752208211652, -0.9109564449957823, 0.4783489523706914, 0.012388839879465395, -0.3317816450015994, -0.24576110805730841, -0.044221439338631874, -0.018979720339069497, -0.3246561485101885, -0.49988249861038186, -0.6195438989535231, -0.3609283046055081, -1.0269919446623739, -1.1759257304819952, -0.6945127377524329, -1.0338543240601794, 0.48937547796835706, 0.36003890136790645, -1.1662387173889608, 3.725479341845103, 0.2474011668868532, 1.000167674533328, -0.043943814287699536, -0.5425381613182113, 1.3822074532949569, -0.40422120460968597, -1.3600342182843068, -0.503408805225918, -0.5114770656359077, 0.28605958731968495, -1.2898947899922295, -0.5270569959124416, 4.089222003236309, -0.2299848684213486, -0.49230598601334213, -0.22966489184245006, -0.7002730153013353, -0.801338563168312, 0.3207066073503046, 0.21736884549928867, -0.32463663577531504, -0.4893284484567243, -0.8521952897118763, -1.1158184448113118, -0.6445756751010305, -0.1615401225423097, -0.28169407005647973, 0.5976488033438568, 0.25703517401398873, -1.021187747794724, 0.06895961211206425, -1.2578182725508407, 0.43219457272792783, 1.7965446159976806, -0.451834826304657, 1.3934278552553585, -1.4505264952810137, 0.0935970507610564, -0.4234935595921528, -0.7622073073321994, -1.104021852885202, -0.15080640910769988, 2.4127154650901423, 0.7761667617253234, -1.273580085096719, -0.7694226208188227, -0.8699666232923392, -0.2530003810567691, -0.35184151839733213, -0.2807090591078418, -0.3132930819820559, -0.8121222973110751, -0.47533237940990514, -0.8499064013359956, -0.6708927505054006, -0.9394039085029, 5.87997704703059, -0.1930621607862027, -0.46925849795181857, -0.1689903354496982, -1.0748527501085285, -1.2749319462145143, -0.45583775188629105, -0.09936186035537457, -0.7854337537253328, -0.20518096973996244, -0.3998407819823365, -0.05436776633220973, -0.16969761991186685, 0.8115218565752159, -0.5078087023629815, -0.10330055759037739, -0.38022011312168463, -0.9130188326109407, -0.49797300505124675, -0.2669842258094641, -0.251153595882251, -1.0269779054929529, -0.1840608640811832, -0.9331108625622941, -0.32029011112028805, -0.32815745086298903, 2.1974370085311263, 0.7116062079227194, 0.38200955033167117, -0.8968464366243286, 0.7127184743345403, -0.30034858560498895, 0.13170854134604937, -0.15003537826044047, -0.5077598049376396, -0.34444256450158, -0.5731321043563727, -0.7344742418906285, 0.5289403565631445, -1.1285130023462984, -0.2521713288979509, -0.25607741181071336, -0.47842500505537067, 0.47775601629918174, -1.1471900124272034, -0.080804209798014, 0.22960026167040973, -0.20742287489209021, 1.5183701773137082, -0.14498543078094964, -0.16033952312356814, -0.7467129214813726, -1.1269060110682598, -0.438510459117823, -0.05701738221510781, -0.5210607601323607, -0.4379295735018262, -0.45790366312476616, 0.0955026455494526, 0.051016409331654466, -0.35875211637886617, -0.138204328158883, -0.06795478513894626, 2.0232228103902354, -0.8725659419115366, -0.7341297454792071, -1.2205668825207048, -0.4623449482434932, 0.6463556973597537, -0.3239955836782593, -0.45233417519606395, -0.32388801937764355, -0.1489146558076775, -0.24862366756641496, 3.0212344353412273, -0.5548011886912398, -0.4456057262829392, -0.737203883434287, -0.5423372035822323, -1.2615845850870078, -0.012297467384711184, -0.9237765932346241, -0.13639500150400813, 0.23645319668137565, -0.6402294806363268, 1.2488786659199298, -0.4233531623764843, -0.3609476226241446, -0.4583628426374511, -0.25942408626386787, 0.46611762939449847, -0.5456409199596308, -0.44059203004279474, -0.288982697895123, -0.013774193556911224, 4.919432829756938, -0.6020660019824572, 2.874945665005233, 0.05059948322653751, -0.020181281400966946, -0.35874318251321213, -1.3340225265575263, -0.33479038643970627, -1.295614365712935, -0.02287740001628502, -1.031249997312928, -0.4255826121986948, -0.5632954885320964, -0.6442080921361396, -0.03671478238573184, -0.41240536909699416, 0.6996904619002196, -0.4466831568384082, -0.6281334663239608, 0.03419780141606005, -0.009853071836321801, -0.15750957599911874, 0.8209724282030263, -0.7076857231013575, -0.6681683739739892, -1.271144952397545, -0.41511816853701583, 0.012359815304897857, -0.9220701469106262, -0.24272826813851267, -0.444212633284628, -0.8113709846350295, -0.11608871740249452, -0.6707925052359611, 0.10445624083531344, 0.0216063380147809, -0.5323530861943141, -0.024960420929403777, -0.16170279142075522, -0.11792053792572663, -0.06433746707067632, -0.3940394549459703, -0.210855835861153, 1.6546159598983372, -0.1355844531334329, 6.435106723690479, -1.1743292450689466, -1.161588678069783, -0.2574672892642459, 3.5412548133979747, 0.7258793272142345, -1.502142858814255, -0.4911475635659304, 2.407493529106996, -0.620633014656745, -0.10426810371667242, -0.5878532424982167, -0.4309913858166162, -1.0825998765155151, -1.3319794925927793, 0.18602341553861604, 3.0162032333807347, 0.00910977899606286, -0.5646205864688113, -0.6815687340498479, -0.7590122777166374, -0.27367792825062837, 0.30833723993619505, -0.869402940512654, -0.34382984603838185, -0.6642340069382818, -0.10719889432186593, -0.4418368473373121, -1.2448817310902318, -0.36465121159660774, -1.0694711540658235, -0.45805818230760675, -0.19685221627079874, -0.7967713823609095, 0.15677834710557045, -1.2137159235688975, -0.026214474899335483, -1.0277758337046357, -0.571018793921399, -0.2746817251478095, -1.1802263087127347, 3.7449310972029033, -0.19736740014605766, 1.6801515808903298, 7.435928054717346, -1.3263631928030664, -0.22745087807529346, 2.3915914554288302, -0.8306222648815587, -0.1739178220006317, -1.1696663630346307, -0.46130054954309496, 5.1705724041647265, 0.5746040777209167, -0.340304520567717, -1.1796939561559274, -0.36488775810362956, -0.2621262662512278, -1.0414065642461443, -0.33294659658071857, -0.34114978962366527, 0.033754788695911524, -0.05494436643487874, 0.2321783297139334, -0.14195533921444664, 1.7583432894896627, 4.604310903382987, -0.14488267481474654, -1.2449332457926077, 5.122264441386667, -0.279873562845541, 0.2283748827507848, 0.7829612459892328, -0.10954051240254013, -1.2137665284448165, 0.36229611214193985, -0.5103297519143208, -1.0690443102567986, -0.5144662404985827, -1.3205205718432247, -1.0926673286459552, -0.7055950146283269, -0.5052654242405769, -0.4133019569357535, -0.045193359319015025, -0.860757939295089, -0.11466269500145425, -0.8435703696918438, -0.3720340482702718, 0.02027437021319146, -0.6703338515445524, -1.3545026845868087, -0.48011334806530637, -0.3698405883906343, 0.13380805205335206, -0.3120539478378256, -1.355969899869209, -0.3779873803032986, -0.6828617663679881, -0.09093097992400877, -0.16669255810605665, 6.046065227660151, 0.21754709657241234, -0.4936083643656491, -0.19736420041769132, -0.00753675435102698, -0.37469844613038883, -1.1152008679279422, -1.4728305852296533, -0.42970388408278903, -0.768752266662006, -0.46314638674505354, 0.2617514900507968, -0.8142773638229115, -0.5440462350070396, 0.7566723494408046, -0.6435653581256896, -0.4128076222868999, -0.7331090558611372, -0.12155146675846858, -0.7074329559982911, -0.6994834349951664, -0.7976764627709287, 0.35303174486806516, -0.9909240021294156, -0.2827769416477821, -0.08978713053989137, -1.4840666032803584, -0.8477102338149081, -0.07560214843034879, -0.6345658653504562, -0.8747094524667155, -0.323663594459471, -0.9722244645951262, 2.041890836600556, -0.13463593084470268, 5.102375797368223, 1.6867876667261454, 0.198563129991124, -0.6566045896170922, -0.08834916831303913, -0.32321656895878076, -0.14624107583123405, -0.9801478438349472, -0.3208183719489756, -0.4773068425187113, -0.08732991616153445, -0.12073263781169101, 0.6726564552885022, -0.3801546016253056, -0.6358964996777023, -0.8412468752512944, -0.46834363390788836, -0.463454469549004, -1.1077122701660063, -0.6546995553278432, -0.8475642749717388, -0.22366336488928543, 0.6790176333158287, -1.1138213158128472, 0.47567472769223185, 0.06420303734057806, -1.2432464093749673, -0.22253162433403437, -1.376900300089093, 0.08442269409060517, -0.09928109771083031, 1.3202470042688332, 0.1525373431734623, -0.47857361233222573, 0.41477230630252204, -0.7850962809146093, -0.817998679390972, -0.4092517714373882, -0.7720772801553293, -1.2496887047953846, -0.8518881177908335, -0.615575646547178, -1.211395905027626, -1.2270072342942575, -1.408701919656925, -1.2937054215587591, -0.9420730981365228, -0.26577799179817346, -0.26931682523801675, -0.23726086011737998, -0.5142688985163993, -0.8183122565848394, -0.24690336930235393, 0.681824597729295, -0.2177577325483256, -1.034076752159266, 3.36371316569148, -0.4980828928213894, -0.7136370942870339, -0.3491618354705739, -0.9853970475372482, -0.3075410792020167, 0.8590353802887803, -0.48780874160086973, -0.4708828713575312, -0.9735760021096581, -0.5463587752654244, -0.29522172366596655, -0.2695858074594067, -0.47873500452738094, 0.4172007570999957, -0.20965381467757327, -0.09549540044312614, -0.5570929965011887, -1.1241644046561439, -0.796547709282641, 0.15222357049564608, 0.4458705735238889, -1.0201921890418635, -1.0629911955009423, -1.0591419731945255, -0.8859149321751394, -0.3815628569752995, -0.6819018439890833, -0.9506482424910561, -0.3833985343881953, -0.5706262398000425, -0.5651561958264955, -0.7667063916695562, 0.43587093904031066, -0.3523328605513804, -0.2552563098420539, -0.5865668106549741, -0.12930002236359228, -0.8798315012987831, 0.0849028333125949, 5.4281093067661015, -0.058929279393850745, -0.6102634160038555, -0.8641496748313444, -1.5886818195976817, 0.3954238303187665, -0.667108449107793, 0.22335285973720212, -0.5596628775681538, 1.5689229871132528, -0.22722363927258202, -0.1896309013837186, -1.4846365986935444, -1.1109106464075826, -0.39477042129802564, 2.382616801445287, 0.8685339094336557, 0.015746977650485845, -0.8554460731802905, -1.1186253416862202, -0.4500197297984182, -0.15635056432432007, -0.6092277107377068, -0.500188182170209, -0.7402849170448871, 0.9853733646691643, -0.36761430739669915, -0.26066700648024393, -0.7215412748661316, -0.1560142089088004, 0.2373921528278275, -0.39379742444706956, -0.937888729255493, -0.6205804463716715, 0.03553490428316532, -1.402290707129368, -0.05684751832998731, -0.7002175117480002, 1.9688781376877689, -0.9386047448227958, 0.18274713259110953, -0.2501612648283625, -0.5214387673126727, 2.631582085995727, -1.4620451907590206, -0.04517815379379222, 1.8383617545753577, -0.6418479611478548, -0.31108514928868863, -0.27673970890715444, 6.445619748278437, 0.5007883301270577, -0.430907622756995, -0.3711092239682637, -0.5383163406758812, -0.6624777601885845, -0.5100934916239691, -0.898344671345711, -0.5541771817191408, -0.2934957039353056, -0.23385785563971256, -0.1850371594011245, 0.3248225164046528, -0.7167538696881876, 6.843578567847209, -0.6185945727088505, -0.4710698773571006, -1.1951007434441234, 0.7010129954842517, -0.4779009906207116, -1.1276789661504716, 0.8190805938564027, 3.2190541796874186, -0.652471089033649, -0.656635810680307, -0.7586416761642061, -0.19131972649897766, -0.45892661465186346, -0.10310789772994858, 1.5129683005672996, -0.745209485777889, -0.030826330025941144, 1.1104725562841582, -0.7083553277240013, -0.02705180370256827, -0.5403172296430396, -1.2630046574952005, 0.39706106025194565, 1.8734473169608639, 0.28951525271174033, -0.5245946658100303, -0.304097141084174, -0.41390154902643306, -0.43036852320903557, 0.14234013488318517, -0.6227088311719314, -0.15709688913103562, -0.41188875877060493, -0.3689960066817895, -0.9319021674174943, -1.4071777703498094, -0.22773916080816925, -1.5227492048696105, 5.355180805711863, -1.1215494165120379, -0.17650996808118352, -1.0885850166582185, -0.01142046969131995, -0.3923271388153114, -0.42465589505229595, -0.3879687694720461, -0.8695126991689854, -0.652218632876323, -1.2515494747003875, -1.3939508074845723, 0.8580186883823224, 0.5154613315938723, -0.9646362302390972, -0.5263808697602194, -0.04698940663327004, -0.8799740483352296, -0.268978229819407, 0.10391354525189213, -0.19981152461054785, -1.005592601042095, 0.12841647592140895, 0.6611124441759971, 0.28102215945894865, -0.32065731908859163, 1.117351021183067, 2.3555807379989346, -0.5173856701399734, -0.7774963653456292, -0.2878683003638428, -0.2786749530661156, -0.3210789948734707, 0.032450282150738745, -0.2844163936848275, -0.1517568148245941, -0.5748242779690234, 0.04099711279055615, -0.558424239890302, -0.7048771581654442, 1.317105738100188, -1.0874335155732908, -0.5792523707015467, 0.21186134297767956, 3.160387750994407, -0.2957870193152799, 2.5867308423218605, -1.2107867551450557, 1.9947558704263744, -1.1857164595807659, -0.803468051124089, -0.7145216644651101, -0.08060062695761552, 1.383001740328561, 0.18136855894791618, -0.6663223663903937, -1.2241515630420796, -0.5142824954912767, 0.3511648772502127, -0.01998656660161414, -0.15679668788705903, -1.3543803660963931, -0.6522724788257985, -1.5010628416590017, 1.1061495527738925, -0.7771425869343388, -0.22634477945833076, -1.0857101099784363, -0.12025065701901134, -0.17118339821985074, 0.1559628323407571, 1.18472531049551, 0.8916960725199472, -0.6091571347942164, -0.37242410856184, -1.2400386380883108, -1.1166008912967798, -0.7335723896766166, -1.208078035059873, -0.40961365267173083, -0.296556182196587, 1.34586898888486, -1.4143956638940909, -0.679493818497963, -0.565227597454214, -0.9309106331332113, -0.5828331300818438, -0.34011288329181966, -0.23979949276611295, -0.7851046943028064, -0.8358272470415716, -0.7000733666391014, -0.3283220119299605, -0.40207383957387993, -0.39129710214299496, 0.35727351107226324, -0.23857277253448222, 0.19864569676636204, -0.8311512413904515, 1.8247284259983179, -0.6227835848074946, -0.6551354713347529, -0.7544763954494439, 0.7158334118540729, 1.2578083997850844, -0.9614991860289739, -0.601696305742774, -1.3226819991640821, -0.15470657439656202, 0.9130203800954999, 1.3388376517919198, -0.3065546923576962, 2.240925504281295, 0.09432563346750975, -1.3049951581048076, 0.17785458663378698, -0.7278951932922966, 2.8618596473497293, 0.5582700296675993, 2.188052335578631, 0.07149636676262229, 1.9574532624741472, -0.23244014467184343, -0.5809909284290711, -1.0627868774477667, -0.015633092787790674, -1.2859350657527993, -1.0655126612303911, -0.586107184780719, -0.3881254428960515, 2.672156950873583, -0.6496745168523096, -1.2011121206298037, -1.0783726534278215, 0.8517138997463847, 0.7356431301812822, -0.5223021479783702, -0.510577847921425, -0.09004769490623556, 1.6585168098098988, -0.2611542894222825, -0.6984903022769547, 0.13152726768585263, 0.14397258271024896, 0.62671271791639, 1.1073727916066551, -0.14232528586897744, -0.3064313664849579, -1.3213007748578154, -0.6085038715432959, 0.5934428278626286, -0.038933888640362097, -1.1554507438620492, -0.9199741336676392, -1.5900176492320068, -0.8741937173589756, -0.3977130349389342, -0.9964391863552726, -0.42071253738068054, -0.8908410139270814, -0.30300861654753386, 2.0573308152446725, 1.0199038791503696, -0.867041480035628, 1.386993938288218, -0.1813018792651044, 0.9380594640954789, 2.2781559661817905, 0.3378747768912746, -0.5550782625884959, -0.8445898047011005, 0.5786280560595768, -0.38140901858631737, 1.4428324350175032, -0.2190822227624963, -0.24544016282499345, 0.34644036782013454, -0.03072957517396726, -1.0083348132264136, -0.5989372872644555, 0.27214146600260847, -0.4659911462925937, -0.775317072080575, -0.6008342826428626, 0.27866284108297723, -0.9066301493769664, -0.25996398386876346, -0.32136200608933857, -0.9283011113189682, -0.1295514174073935, -0.28618179312468245, -0.4083019808075933, 0.32733628194794157, -0.638558991159454, -0.18942425854482084, 0.2742440458607989, -0.43301495686503755, -0.015403318885950937, 2.02358742658693, -0.1868843028028177, -0.46472424431881176, -0.4942688048786888, -0.4403017862536774, -0.15121153672429746, -0.550415921622675, 0.23405019624578827, 0.801688612423143, 0.3376667393215689, -0.3412281719551688, -0.32623623392442846, -0.3681238900571862, -1.3228459160480879, -0.8610010300251941, 4.0025945628038535, -0.20615998599871205, -0.4297067715325369, 0.3036918469207903, -0.30455693416904944, -0.3249408141985764, -1.173071166647744, -0.14828301400525354, -0.3999761949456152, 0.36776293693048284, -0.12260902624343675, -0.5257904508738299, -0.3378716654450061, 9.6327820168209, 3.8211764060901423, -0.13531133645660212, -0.6702446098856752, -0.15976833776652508, 0.25223392432043035, -0.0375099004000453, -0.24744525727326996, -0.25567965263793485, -0.6809812727211093, 0.11436117825786314, -0.5150257404679826, -0.5987158175715809, -0.8400748117872622, -0.7927038746932935, -0.4015569875834307, 3.8562624914366737, -0.5211316326246259, 0.6078396630023496, 0.0289874346117959, 0.07530881570784102, -1.0946699479429962, -0.13561949645580357, -0.2820000774794761, 0.9831756584281874, 1.14824823509209, -1.0175338427597485, -0.19329170138366197, -0.515318887557856, -0.5480251891747133, -0.5268433516127148, -0.22118214144966555, -0.2682128755208096, -0.013129949482908257, 2.2870057182195436, -0.5325745876689374, -1.3951737755806168, -0.6730294652030844, -0.23535511659915317, -0.3748817549039104, -0.3264375784132517, -0.08476164726165573, -0.3254122223422829, 0.08490951442560947, -0.11632261778539535, -0.15833092236808455, -0.058471045116429775, -0.08856826637336794, 0.5278050844119142, -0.9871385851929704, -0.5634382987558768, 0.263703618198594, 3.572650040109152, 1.106985303510702, -1.0102894756509297, -0.41002649923849677, -0.18169495940777855, 1.87305888640189, -0.12046032070147075, -0.3819593280984741, -0.28396703740805335, -0.265442260107472, -0.048432962874865794, -0.7180703197454951, -0.6403104098799215, -1.0588796179874045, 0.3897697006800737, 0.07207011915194624, 0.2490316541455078, -0.6960795655211763, 13.223700821213457, 0.7797414811585354, 1.2824941117017001, -0.5241596978186103, -0.7672213653108436, -0.4295531449213672, -0.43353743674185763, -0.41463171261062254, -1.0431167418950682, -0.2678490146730051, -1.3695935703531623, -0.23721078227886516, 0.3000212254273752, -0.3827195508915043, -0.4254623402939456, -0.3984714726289442, -0.9831935310313743, 0.15003779241656634, -0.1514530434596528, -0.24943339565535683, 2.1675411339437836, -0.7240214680845787, -1.5489403403599324, 1.123880612432524, 0.004061451899418463, -0.10474015694168558, 0.486842366146699, -0.4274407270637507, 2.9718433395425072, -1.1548237401335115, -1.1609633657707608, 0.022507883427236915, -1.1657116412045412, -0.3407255755335034, -0.37790933840573315, -0.6312558729451204, -0.4760902627593593, 0.15173499078640956, 0.9755181166410539, -0.9867850627299471, -0.5404163019302164, -0.36562917213466495, 0.5637445728106372, -0.502076998462143, -0.982515840658395, 1.3231431168249626, -0.18187812393490277, -0.4031417139064603, -0.5898188725734497, -0.7281889159634501, -0.229336527114219, -0.34112348161384715, -0.38321576070145047, -0.8973008398056076, -0.2310536601275168, 4.756732006344482, 0.5037787721157386, -0.36781744027226204, -0.23848809744215987, -0.6545153268691903, -0.6964757126346445, -0.06984380854383895, -0.4659784912005579, 1.1140697088041562, -0.0950945890824068, -0.6522584152243834, -0.20598309409899498, -0.32296038861685145, -1.336298862850051, 0.020243426097414915, -0.0044478908727696425, -0.22439177031905475, 0.08557976571408789, 3.221666370260057, -1.4788525838298836, -0.6552658989059365, 4.398594285885367, -0.2926126866133102, -0.4649395292620074, -0.2640783480972914, -0.15830425595569084, -0.15557190294623316, -0.35667107820566585, 0.3755808569357549, -1.0662412345039933, -0.5925036351078896, -0.43708650285145934, 1.5051688673563597, 0.2645740406263171, -1.1250139451625496, -0.10125380735330267, -0.18654167980379413, -1.1085485950224367, 5.403751095656737, 3.8569097044826544, 0.01941616966807439, -0.3544402974253288, -0.4297136032381965, -1.2452553951802123, 9.028979553835883, -1.0656057112974364, 0.3302279835016771, -0.6170418753379763, 0.028112955047380515, -1.1287985879135114, -1.1931905032884977, -1.1771427096604172, -1.1819602043767037, -0.41190298517244034, 1.1105555997969487, -1.0835143169621124, -0.6992520253088703, -0.5266512102498705, -0.9611688017924862, -0.43740347818634284, 0.24930272497952274, -1.3756341207622234, 1.1668340242389574, -0.5745935661587027, -1.1392143494881481, 2.697775903216827, -0.7897911518130114, -0.9650288752402768, -1.3336546493902408, -0.2500642071540884, -0.5056091809348906, 0.5759953771194755, -0.6644779342389602, -0.3613259878317958, 0.4759381479518378, 2.291606999824617, -0.22530005830783476, -0.5531688140172748, -0.17890482669276253, -0.6408962607291419, -0.5128442643634086, -1.0275555770344063, -1.2875218875846988, -0.7176562449301664, 1.072203952193574, -0.4378668548729738, -0.925118451076643, -0.12694092445510874, 0.6343092095268031, -0.3422516029770999, -1.150600625055833, -0.32113767045921326, 2.604248848079629, -0.09820448183897859, 0.12283847950441136, -0.006739371527592778, -0.27211433802347207, 0.9499888734601604, -0.6815567431261914, -0.629315590712268, -0.7923462762198857, 0.262967251925153, 0.7616854178916309, 0.5185844529145409, -1.1692128592838253, -0.5255607166224578, -1.4150973702885028, 2.2447874582981413, -0.7212765131084613, -0.8063920302390468, 0.15714941642849448, -0.6149414689796989, -0.8694519720853594, -0.9221504097715437, 0.9848044669289855, -0.45352938622721234, -0.4047973379367653, -0.11838994883483135, -0.34408552539777837, -0.8416592335341383, 0.12825511322251146, -0.05501548775545441, -1.0770918952606052, -1.1863050987556893, -1.0514357780070336, -1.2413860999465645, 1.6000611525639625, -1.2689129602743414, -0.9050007703241288, -1.3068935872315606, -0.2743124349796543, -0.9186137406976563, -0.7667752335934027, -0.5991934488346987, 4.841319762910112, 0.2947453503734026, -0.43242144333235527, 0.20127786835742378, 0.15677754798653712, 0.06178834325557884, -0.5934198505684485, 0.5643789358904152, -0.9824616142268364, -0.8834303897853777, -1.3204495031455856, -0.10684277430045089, -0.4665175920279497, -0.06995875905315381, -0.10443300431862192, 6.5910838345595995, 2.987080426784893, -0.4262844122824531, 0.982550592816585, -1.0969256287317326, -0.9217388454730524, -0.42864960992895906, 0.14345283007878873, -0.10780479185697973, -0.5010505703090483, -0.42073268662870394, -1.0046557859371923, -0.6705880922102104, 0.3837711942470572, -0.3679580214810683, -0.6417606117595129, -1.2882804636374452, 3.0960930731945497, -0.4654280710049919, -0.25523719280031576, 0.7906655674224223, 0.5053614598212834, -0.9203924048995977, -0.986677882073829, -0.4644172428767584, -0.7152785593681393, -0.2440185900339731, -1.4719476876040174, -0.34042653145850255, -1.0373888800778077, -0.4084255921282932, -0.4771133436277978, 0.5759358184187886, -0.721340609179301, -0.7941660734302546, -0.1265432991195467, 0.07961476919737216, 0.806324575324361, -0.9767296668609675, -0.5119689262914487, 0.4812425194107602, 1.8209690740189113, -0.30597065803905926, -0.3024856305059742, -1.5965116409878752, -0.6196161072491487, -0.6478762571285822, -0.22602961856001094, -0.5787193493372054, -0.5208009820951123, -0.6729861111076911, -0.32882066170219415, -0.5316192707574494, -0.5726210376988295, -0.3239981903550809, 0.22031239849436055, -0.21955846605502177, 4.722555816316038, 3.9710096479548334, 0.4171141857716714, -0.4970009029846835, -0.404158527721552, -1.6141694485236804, -0.37368932358893453, -0.4687810848042537, -1.0740994988187742, -1.0183499292824427, -0.27980699016644284, -0.34552385191062346, -0.4242649775903692, -0.31416855324004345, 2.3017074698109514, -0.692898338303436, -1.5370991725941372, -1.2357992837609642, 0.20171561926039067, -0.7044141115840231, 0.13535157023873806, -0.007278000963159247, -0.42485962342262407, 1.218044435536853, -0.27985863749102674, 0.1083716951807378, -0.11681188792181503, -0.6227711954812781, 0.13292412355853847, -1.3967135343768187, -0.633248902458721, -1.1497125509730066, -1.043704851936076, -0.6600503736090707, 0.5344910466937668, -0.6898024724284785, -0.40487949589065214, -0.11610617418348547, 0.07747691377024458, 1.519727960506098, -0.31180313719391173, -0.36488810071171285, -0.46812262400645704, -0.9784480663530617, -0.6469665005339356, 0.1488802424872361, -0.22316553743264353, -0.5469972343451128, -0.048870682020355743, -1.464289822253838, 3.9115211841156663, -0.1555505762527213, -1.207559455029386, -0.6823943305803195, 0.14676386908323832, -1.2687070440331598, -0.5585209014059025, -1.598365614170835, -0.8507966972903642, -1.1295749813360603, -0.7980441277354539, -0.21984643257509395, -0.5603318875511345, -0.33376280472470526, -0.2454623598908342, 0.6517135157246231, -0.3530858659538688, -1.0358430533205232, -1.2808066473682078, -0.20332390618934004, -0.282758122982646, -0.010026241557957465, -0.3954857244572386, -0.5258488718874715, -0.41837344094635587, -0.4882516329921936, -0.5395907988887726, -0.3964759316916279, -0.5394687557746107, -0.09725152715902308, -1.0055667134051405, -0.14044880126185758, -0.27450411724804513, -0.4207946784245483, -0.22945682373028384, -0.9503197094836787, -0.4899064572782311, -0.7987430742917216, -1.0518214540120088, 0.03125440460967834, -0.38430739785025886, -0.6082409866991224, 0.44859408314042165, -0.4079516564536596, 1.105195118557494, -0.6645352094440631, -0.8434539779656918, 0.13191226730359226, -0.3231456063902113, -0.3233134934367037, -0.18665852841326733, 0.29352101971863304, -0.7970582871270236, -0.7967823968901715, 2.024687039635071, -1.4555244038107553, 1.227265583053051, -0.7806592481310328, -0.07828197163145922, -0.45057221159230953, 0.2900654306512467, -0.06570333615115992, -1.0166213784249611, -1.3473737353470479, 0.1251875981966935, -0.8130319429198201, -0.1345076894394604, -1.1794446187404217, 0.8490585581688703, -0.16537017292797968, -0.18767638593788055, -0.7895964037220561, -0.9474938142722699, -0.6052962071187458, -1.637117113711567, -0.5470669095374494, -1.0527442280788597, -0.47090434468104264, -0.7797114241587733, -1.269257642982852, -0.4369423952154167, -1.1845617407401643, -0.6561450711637266, -0.6692331122770121, 1.7535102013815738, -0.3701118789876605, -0.07303350086672979, -0.4866329872122726, 2.7468075893022657, -0.17548359373932168, 8.027256743493933, 0.12183643282677936, -0.18985691355595904, -0.48148997219661616, -1.2790599790943014, -0.06991156831158543, -1.1654234965579207, -0.13665469909116842, -0.561948194912516, -0.15815953271730393, -0.4560774378305231, -0.32772372664537863, -0.5596479327548831, 0.2910733888763682, -0.17445811428376692, -0.73692473047832, -0.12240445818099932, -0.36066585833913223, -0.6525154753006775, 0.3210183621908087, -0.3891605366361596, -0.9514764800328662, 0.08592069817900741, -0.47186395857835706, -0.7030330994663057, -0.38348828491990894, 0.7573255835416093, 0.5918117146330656, -1.4352278343796154, 0.27309227797238333, -0.15949794845251933, -1.304254512605939, -1.4605024792106032, 0.08104922024387577, 0.08283774391382875, 0.6980523734387195, 0.004339771019355586, 0.41133663072652354, -0.06281765539049627, -0.3134925110759138, -0.17068241921775174, 0.6134986837892141, -0.5454282751191312, -0.5547704148566338, -1.3408235319942776, 0.030055290374661373, 0.8440026726740647, -0.2192959138609086, 0.2425193356198134, -1.4522880449460036, 0.30622767377226506, -0.3107111609672803, 0.07514140874229587, -0.44215801038785246, -0.13450813570171496, -0.4768506948949338, -0.4980587946839886, 0.0064783268800859455, -0.6955021050435158, 0.29200785732661116, 0.37806615593711207, 0.7360338529899096, -0.09627082621619391, -0.9729404717168937, 0.5190190683111604, 0.2978281842866288, -0.9644380316384665, -0.05915169061047317, 0.1948664616532967, -0.33848454717982057, -0.1241244521039195, -0.5955749955551216, 0.6321545623980853, -0.20073509065832865, -1.0499499358389595, -0.5518002449021073, -0.27617209865331693, -0.3378401252679989, -0.22609333502353796, -0.4829756536653351, 0.00793444987926272, -0.9745132829918381, -0.6774409749011245, -0.8535917787653475, 0.17755442845036018, -0.4776548964400343, -0.5387562754424235, -1.272053806218138, -0.5988687622974711, -0.8087236318947314, -0.4241453186574109, -1.3074931849744913, -1.0758025918366898, -0.6719615695827479, -0.2610556239349292, -0.31271698105227447, 0.7146844647836323, -0.31446226222990936, -1.0591629799229614, 2.81367327410261, -1.0145241966272667, -0.3340522707745497, 5.704273211794568, 0.5662863845302883, -0.7454723965285811, 0.07464758899913794, 0.9305358389306615, 0.3663217710527103, 0.06743545643813582, 0.43121438530949596, -0.16613155834135743, -0.5044163831134972, -0.23918854777907456, -0.11391842682555507, -0.8833604790516544, -0.9105210048040893, -0.607606105325526, -0.09082418521255484, 0.031187857530671083, -1.2137095117559225, -0.45570958697131725, -0.12811576203820724, 0.4956093953393417, 0.7528808816667573, -0.25083129590569386, 1.56623610053839, -0.3135774308243817, -0.4963694661289353, -1.2240959809396905, -0.19730141475266755, -0.7385811039802164, -0.4249648072078988, -1.2759491277363055, -0.5278469025368027, 0.17105581033465653, 3.5547883108768104, 0.03661584864039074, -0.8961756043352417, -0.09126468651382419, -1.3485898195769983, -0.584802704160972, 0.45171933212301874, -0.9002603608003981, 0.14866137235264248, -0.3375301863883181, -1.2768121210304733, 6.377903760585355, -0.5070721911432204, 0.251086753708018, 0.23859646558967657, -0.24948756685438472, 0.43213051761930354, -0.03251003899196799, -0.39284803944608765, 7.207694618834058, -0.13535432676575898, -0.07155971803671882, -0.08001664873938592, -0.42309979320686386, -1.0573348234628475, -0.46341943323952134, -0.268279740398499, -0.15985347311972853, -1.172528452730671, -0.5758200622231415, -1.2156877143121074, -0.2390273605281161, 0.4795663226009846, -1.3620532351797574, -0.2259602963075423, 0.40414558419260227, -0.6664842404257905, -1.111460860316802, -0.2869680936954858, -0.2756097735054474, -0.3069391404068619, 0.10360184016073327, 0.38117000366316967, -0.5301036842895543, 0.01157449981032988, -0.9829505161347343, -0.4035687910565165, -0.8286119091904993, -0.6930989882880885, -0.30372453838947666, -1.1037311270689012, -1.0129781808969178, -0.36187487574945765, -0.5458132040237562, -0.266171914353777, -0.2095725164239536, -0.04499140426236934, -0.12684671551970386, 0.4979944556562172, 0.8789825466313405, 0.027201454542976, -0.32828842751867493, -0.9297058605885825, -1.134337760382181, -0.7599673198177299, 0.22922930759092933, -0.35399988059113857, -0.22518862241346593, -0.40064372462247444, -0.8622402278020445, 0.1905976194394586, -0.33743364758212036, -1.2091560682359606, -0.33872669824948753, 0.7375089243029836, -0.5240501766154757, -1.2684126189031364, 1.7434572242056614, -0.034446161518074475, -0.9036571027006525, -0.518805541075931, -0.12396856439807809, -0.7324736403629287, -0.9203305140960434, 0.40067799603064314, -0.1438192978244706, 0.7993994061145584, -0.513626016138334, -0.6331922766768634, -0.06001940954114738, -0.161487421812193, 0.26666364417007254, -0.45955287711230797, 1.952441430835866, -0.09671336528503502, 1.0869989924440564, -0.3332839840671582, -1.149335565709733, 3.3085932576813026, -1.1571439235678747, -0.4638299464866984, 1.6401238098164332, -0.19469165362226873, -1.2969010758502733, 0.3533725953276821, -0.7073395363074406, -0.15318274624133357, -0.14717044814849303, -0.3849033355189205, 3.559702526356966, -1.1692546111542748, -0.3807368660762962, -1.2344561700044518, -0.5570868706005039, 0.2855852455410026, -0.7122699008153657, -0.6028067973534138, -0.7031204335007847, -1.377795756849317, -1.344209160948284, -0.24526353706653062, -0.1412593477948526, -0.059832857910097015, -0.18030879327787433, -1.3095203134857498, -0.5673319413053879, 0.6286928288087643, 0.339431223930268, -0.16897325962347615, -1.026889480079899, -0.47341498453141334, -0.29761977097112574, -0.5046031736295784, 0.02782483537229749, -0.574697358967783, -1.0169528997839001, -1.1472691135079545, -1.0510195975591994, -0.35454322240373976, -0.3189586724453412, 0.1707837757689057, -0.653835712605623, 0.2498709454384579, -0.6244382721320779, -0.4443439729262601, -0.5681951706109291, 8.471150008611756, -0.33689456662903766, -0.9481427406177234, -0.8952707459156517, 0.4831575972432305, -0.10036359589518382, -0.32278716693635984, -0.6157063119529609, -0.5326777697976051, 0.4869658723977758, -0.9654094606897867, 0.2781937517417178, 0.015324245617641468, -0.24281451163753023, -1.3216947142536282, -0.02214381443268304, -0.1874220560526554, -0.4927115593340832, -1.3022165575256368, -0.27790442352866646, -0.45778302729995385, 1.578021167412356, 0.6055111047476729, -0.45984317652266854, -0.05750813644800509, -1.030442777365478, -0.1821055509208813, -1.138306658322304, 0.3584584187716489, -0.599643518184321, -1.2266472397821322, 0.07415011205792603, -0.9534331672372416, -0.05623882537562484, -1.5319772462979002, 0.5198076210559266, 0.35650632759546, -0.6893103581976713, 0.09093475525097211, 0.14230621863867537, -0.2525991661410701, -1.4098408365812825, -1.1954948764080293, -1.127069627590295, 0.1910968131169508, 0.03924431643772783, -1.5413433071984295, 0.4547951663383898, -0.6532998074379528, 1.024179266393315, 2.4581524019591705, -0.9131588286675478, 0.8952627610948112, -0.460431434290378, 0.353709753720739, -0.5016134230362341, -0.579058894122212, 4.678929096976152, 1.7349763655867783, -0.07123704752555259, -0.798212617250193, -0.7983045090183701, -0.6268081913269776, -0.5281219525031199, -0.7159633232602461, -0.4593209982904058, -0.06117463855181183, 0.05218739894477345, -1.0359434302654336, -0.3632856675840044, -0.052785045886919325, 0.10085100948641187, -0.27189214645551274, 1.5576710085744698, 0.12371819458681893, -0.7741601040527522, -0.8421799165107368, -0.7744473114228819, -0.1959321592360274, -0.8171396256723896, -0.24685012800292136, -0.2885942175408753, 2.712378459397829, -0.5437603001854285, -0.34226079025444694, 0.4535129330152233, 0.06913096128841636, -1.0193244688063592, -1.2082850330243873, 0.555006642577396, 3.158868181247181, -0.2147664258038179, 0.3092319795278071, -0.939025964884134, -0.14408460250393162, -0.04509558039558826, 0.05053542953913162, -1.0060159854848574, -0.765899295963678, 0.4046680983828033, 0.38446245205049895, -1.5041862004948643, -0.6813069672488784, -0.5386241531013118, -1.0274178322015055, -1.1236567556212713, -0.8565403868442779, -0.03673679671387586, -0.6061127228515426, 10.371260211762358, 4.211383474227543, -0.9364846069447772, -0.40777805635043796, -0.7227191369540977, 0.136843696635438, -1.2467074227014012, -0.33532161469114957, 0.7772293292498719, 1.792211062288961, -1.0749997037325165, -0.31471658245862827, -0.0707802147284437, -0.6467435826586746, -0.19204762510345785, -0.15167487825828893, -1.4537668669433155, -1.26392737267396, 4.047205122472755, 0.0519424392645001, -0.533546975207981, -0.1302252214750908, -0.17947958415048712, -0.38197613674910025, -0.024487661297861944, -0.16356962209183828, -0.9540306948229461, 0.2946541603454003, -0.660421663121072, -1.2488920667683852, -0.19034538245395968, -0.32769506350678224, 0.11603241022032587, 0.015338500237624848, -0.38165761643874335, -0.4794238216372108, -1.0586027129127757, 5.839536805555454, 3.92349404035582, -0.5280362773791997, -0.3014380283490018, -0.6479600448291593, 0.008044820260838402, -0.21723171771977856, -0.9483220925387006, -0.10532235685272322, -0.3174780474286577, 0.16041351237009727, -0.0005016107286161729, -0.2578037407981168, -0.027076182348322736, 0.009671479701951226, -0.4309891016785758, -0.8475700243582724, -0.9084773035834777, -0.7074875735399954, -0.8430335818719251, -0.569010101671011, -0.7705685290931926, 1.11187180521019, -0.8543559860209954, -1.1455647444853734, 0.1441776527923025, -0.5398926512811488, -0.6648784984147723, -1.3119581053548146, 0.3343010197970813, 5.57317845697523, -0.22280479161906752, -0.48296861354179466, -0.6398859287034424, -0.3885459950897462, 0.1680284428341765, 0.6884199814572216, 0.6709956830080204, -1.4094830456846545, 0.5074897440208139, -0.037704385672139455, 1.1887899082088305, -0.45749342988284714, 0.06993770350191636, -1.3263375901310175, 2.775261688484571, -0.3893320210257948, -0.5105008163088142, -0.6149864449744493, -0.34681259690219574, -0.4380880062704191, -0.3814457211204136, -1.1754487106815708, -0.12519595977523287, 0.955852960575354, -0.0032899680636879194, -1.3291491505818223, -0.7820109291145694, -1.1175769123187904, -0.7046483071253409, -0.5625154262432934, 3.9215296196913014, 0.32664018886400675, -0.9769471842334544, 2.2838145407227413, -0.32920164647420935, -0.17963916652499806, -0.34511868148182756, 6.117213741617689, 3.4290461893364332, 1.4214215158435812, 1.7050998765662442, -0.200485708316466, -0.8457607983748038, 0.010591695850269823, -1.2108737316095664, -0.45493380189051436, -0.43423593373857117, -0.12805214571306284, 0.6576912753691153, -0.6531623844345822, 0.07092516865189837, -0.629925270919931, -0.6910743594408161, -0.38460603867719895, -0.7806735494220296, -0.8032033788187996, 1.6104402201939272, -0.43626090218314634, 0.2820726919979193, 0.3810032970992237, 0.5645329739059712, -0.7067795167399726, -0.8327889011023438, -0.5754046621141361, -1.0250333682988793, -0.5720246593811971, -0.3254641844967517, -0.4203106413292524, -0.8370298703079124, -0.14402500788142109, 2.261879150439633, -0.7503922473372133, 0.779203196725282, 0.4218403287532699, -0.25712170621575103, 0.0704857091894743, -0.6966799816388066, 0.12906123928191054, -0.2785699494020208, -0.7849775663051315, -0.6214063974859371, -0.5856153960793935, -0.31125345105103774, -0.6363837479147186, -1.6905174373519478, 0.6575642702350131, -0.21759188792652195, 0.13703926050582513, -0.7057048466142839, 0.2094047571726389, -0.8676359254927667, -1.0289563666895838, -0.9474800453144209, 0.462316904971797, -0.7816902079677558, -0.2683880471408704, -0.28394585702935626, 0.07993766582526333, -0.17674009467256183, 0.05492408999496801, 1.0604752463325684, 0.12381171484130676, -0.9066644155300564, -0.21225772525525205, 0.19116806613265636, -1.1756844046036357, -0.45433005659879855, 0.23410183874258128, -0.012022532466361245, -0.6241197321118047, -0.84184854722806, 0.6164041436186816, -0.6320288935294166, 0.32974284503693063, -0.20745972529573173, -0.2300376500669134, -0.45191319458756907, -1.4279411773521011, 4.822221962506611, -1.0987497477846104, -1.0348526125527926, -0.3784963596257312, -0.12113692940406193, -0.45065758759828284, 0.1771439393325808, 0.10607172041245995, -0.3632956155508858, -1.2908354198241887, -0.3943363048472373, -1.1082566464770547, 0.9915590993993509, -0.708515694561625, -0.5655874330479395, 0.803235639893168, -0.11593775939133177, -0.631190471769905, -0.6898211011296234, -0.14069291975547, 1.3583534197096223, -0.7059084526865792, -0.8515985059775417, -1.0540303638818063, -0.3772093483783107, 0.36636542372335035, -0.19282337700868182, -1.3664306214153645, -0.39880736877430273, -0.6518541758338218, -0.36951832953003755, -0.6244533976460084, -0.5471334505370731, 0.5167481091592572, -0.6836950783266105, -0.12379492718217786, -1.2587297609996786, 3.1424618082247084, -0.9572806893104185, -0.6111283287274789, -1.179264037658571, -0.5503159936861055, -0.49827748360838126, 0.8344015513690123, -0.13699670898300473, -0.25435549731842105, 0.009744437846089141, -0.5684648067985737, 1.3113374033275162, 0.6056771640755491, -0.9836382113593339, 2.7698033240060513, -1.0020125550687877, 0.17582313647903247, -1.0248577472651725, -0.6395074999388484, 0.18112622484416674, -0.35280588138527597, -1.7155266933472757, -1.2450513984925158, -0.4423327240909606, -1.014579481357123, 2.6373558288544614, -0.5739850705271813, -1.4411943477097222, 0.41990219905144316, -0.40175891865848234, -0.2128813802989638, -0.6905849348395501, 0.5131718953533129, -0.34763816955378085, -0.3469345178930284, -0.2600523669826032, -0.3039110571271428, 0.20217794067751696, 1.1703878919928907, 0.2046970562275323, -0.4436756121051742, -0.5208726510608378, -0.8414449595120147, 0.13291121153260219, -1.6042966479343426, 0.09827532869462484, -0.4314157298090931, -0.6212567693263852, -1.0095464166538544, -0.14049254502236624, -1.4765569642796172, -0.27148084127155586, -0.24321391273058124, -0.21719395893185217, -0.2697290889521854, 0.23347860505802792, -1.2137482728143227, 0.35407704215115743, -0.15647229700368404, 0.032246143457248966, -0.11516951674000873, -0.4435872740977581, 0.8689455356610768, -0.6824903645052572, -0.501196703953052, -0.6418065023190666, -1.4314571501414919, -0.9273743911844491, -0.32030709845724514, -0.41104016553283124, 1.142617886506161, -0.23427227566839734, -0.31703506328690273, -0.5885706329906386, -1.110978127221772, -0.9887196386299846, -0.5373048673369158, -0.4730954281065952, 0.07309424351003133, -0.7898112626205056, -0.5868113889389248, -0.9594562576474245, -0.49775265207770797, -0.10521091333711485, -0.37617493584895895, -0.3433205888097965, -1.0008207944213556, -0.08247899816080914, 0.14184025694386634, 4.350632556901842, 2.2587588576305353, -0.6925213807384518, 0.32123464827791803, -0.46538410751109316, 0.5318255606771054, -0.28927934202794603, -0.06246111600638963, 0.8906915774295835, -0.47552861408882796, -0.15055839173763302, 0.22639010824119699, 2.9990291233604225, 0.1354174243675904, -0.13417232214328725, 0.6808935279759443, -0.5266160472555748, 0.34700362459370115, -0.6318431328921884, -0.05930526003082154, 2.0671167462672555, 5.107921352028991, -0.47981828752633393, -0.6817171217305357, -0.5039270533746856, 0.15400159876823075, -0.48544717686642214, -0.006924045396058853, -0.43273640876628056, -0.04339815651626003, -0.10732697260951558, -0.3688098252575798, 0.4584019736738044, 0.38075116962482464, 0.11755113720265264, -0.9453390531901559, 0.5049213612168288, 0.3279837410987243, -0.6494094679433213, -0.4037812101115752, 0.4348826483109494, 4.767398652977867, 0.15512472572861033, 2.0377054117382634, -1.4933564068516791, -0.2476870862722461, -0.4955642062450003, 0.22643440722603142, -0.5564602663850473, -0.49255373167460437, 0.3467728411944199, -0.5197386310919777, -1.3114845343543087, 0.2592992828043206, -0.3483174279499156, -0.2891957717685247, 2.2009755827278235, -0.10182985879928957, -0.07905826442996326, -0.42296928313036136, 0.6140670551678862, 0.6540477804432874, 0.7523278798346708, 0.4662102386493106, 0.15134729186497067, 0.37182021578751057, 2.2100589168388223, -0.21266890082198195, 4.013990332969849, 0.5415527792933779, 0.0620614104853279, 0.04358186678347618, -0.6861561058603153, -0.137866639417936, -1.0612113289745184, -0.37126162890093706, 2.288920944062074, 0.5022420659554183, -0.28398176058759367, -0.5070565083521847, 0.35202269432073874, 0.2344913293291162, -0.6075073204457291, -0.6041701077253092, 4.932190559206636, -0.12554323141788087, 7.700514961081506, -0.7366431609226766, 0.3864231007600106, 1.172216435986172, -0.7798588255898077, -0.06165846131007599, 3.6750505626215855, 0.8700601730819773, 0.5360213882656534, 0.3782015734305387, -0.1993984495592884, -0.971064785751701, 3.723435649544126, 1.5521294739471874, -1.0146109981799465, 0.22713607941826433, -0.9661129196956533, -0.03603303722775464, 0.5342068125584853, 0.09981623221772193, 0.04170846392568531, 1.0892671361294668, -0.6390169844442127, 0.0626448344831563, 0.4132898059147807, -0.09384919732218852, -0.11662525602210518, -0.6387237025123005, 2.63016204792151, 0.9194125759084874, 0.3474371944114488, 0.8286019335726705, 0.889218923805927, -0.03292311905441095, 0.5055194256675418, -0.5436636916999102, -0.6129777020851119, 3.0037777498448732, 0.722542917701914, -0.3348479435021568, -0.7459707646844448, -0.589206256299733, -0.5261071682169598, -0.19657502604199645, 4.251487684267285, -0.3770194246084469, -0.06157017306539258, -0.42778718035540564, 0.6266708641133711, -0.11086038999566443, -0.1435289776126355, 1.1394519534344976, -0.5706410386272287, 0.3332926333963202, -0.22735151723586777, 0.1903248038064861, 1.3640513773446783, 0.08671208766434828, 3.1773858953468577, -0.5344637827883928, -0.6363229796760141, 1.1126689856878382, -0.6373428465307774, 2.555164501005793, -0.6277636680250772, 0.23174499892890651, -0.27174184215980246, -0.27479482007147754, -0.1431549372720276, -0.6238704462576398, -0.2472081520601016, -0.4722135550879628, -0.5885219052726696, 0.18276750998153352, 2.022069243443441, -0.4211381566918776, -0.8559617349607228, -0.7701371216932109, 0.8326641855265735, 0.19115526301409722, -0.14357239572221867, -0.44156901309034846, -0.19339643403922546, -0.7257198680157287, 0.8875599770956859, -0.6084836086401254, -0.00631076306235559, -0.8205784470493119, -0.23156084154642673, 1.7373619005081642, -0.24814752154192024, 5.564837062445332, -0.4446981041870983, -0.5073386039655943, -0.5488943385758899, 0.5806958475309606, -0.41164441176760547, -0.13303945634737185, -0.6094379578180948, -0.11871176608439693, 0.48779377380682515, -0.47697210323469036, 0.4301672633301832, 0.6893221076969013, 3.816789898861837, 0.3675172372220371, 5.404802087542426, 0.613733747257515, -0.05482328938463148, -0.23673477071461901, 0.05622874529631043, -0.3193813926890306, 0.6299605040586244, 0.26315393838833745, -0.48306732979656175, 1.2491842999433087, -0.7246960901684164, -0.02317764643869108, -0.8554117472846409, 0.6015135882048797, 0.16160315463458894, 0.5369322522551334, -0.666933490985283, -0.1780438579538068, 2.915440227723311, -0.41018075538454263, -0.7509033288553991, 5.810418112150277, -0.28505896295595695, -0.7575565857683029, -0.5764497431444913, -0.6058511467129993, 0.8507233098784709, -0.39232722574883716, 1.1361326184626055, 2.510478724963664, 6.391977617252582, -0.31358545797711246, 1.46263148276465, 0.40372042036510614, -0.4683318520498354, -0.002104714541893124, 6.108972775114181, -0.07911205073809131, -0.30152960686205404, -0.2367688306032811, 4.9891431891888836, -1.5522955121682553, -0.8626650054826557, -0.2926667321016913, -0.21713839256400103, -0.7099854464957126, 0.6354487213672587, -0.4503762158268184, 1.7984276854838417, 0.24529193467112712, -0.24641553103134015, -0.15618836028521252, 2.6945639670819195, 3.057610702393326, 3.495198535248128, -0.5885858548364868, 3.9856587674819037, -0.014543480576970802, -0.5597278266207835, 1.6227764530148197, 3.0603469905798555, 0.18781617934319014, 0.5641586042836083, 0.28340402126626446, 1.0268344546652302, -0.24315807873973294, 2.733283162682985, 0.01738175443692745, 1.595852957798095, 0.5476863394090737, 4.662194730339043, -0.3586117495238742, 1.9647108815581455, 0.07638181082036404, 0.5243110842592172, 0.6595039148575664, -0.3355582027936824, -0.34849142559677077, -0.45498054146148276, -0.1383925247441256, -0.023379130546657755, 0.07136936690630198, 0.7663447214596869, 0.6566761613145788, -0.0923807234856651, -0.6053114975925217, -0.40104469725397435, 0.2424400702909357, -0.039341729321006165, 0.26491311385082217, -0.273280973601033, 3.0748776447732693, -0.23609573132725736, -0.3903526555313043, 7.826687296465827, -0.3186035505323553, -0.4893630449333519, -0.6174161860698814, 6.71942481977157, -1.6731703120345311, 0.39204833384055066, 2.495208637116211, 1.3010882437980276, 1.3825986524635057, -1.0481791495451345, -0.28605777272388905, 0.010567258601842605, -0.6348559697107713, -0.4681093005024188, -0.04628028516155984, -0.14929624890939802, 0.25029801078403013, -0.32555739449807414, 3.2409049749714574, -0.5985491560494642, -0.41356931107017525, 4.7814492200669765, -0.2814121654444789, 2.822911842958018, -1.014705325753686, 0.555401977400865, -0.3555498238174268, -0.22176647258533938, 1.755926432718336, -0.22529351785743545, 0.492286762396903, 0.22399277666260317, 0.04163076904799786, 0.07555342666440526, -0.18164766847941874, 0.01571793288976657, -0.7584286253438224, 0.39696462907383967, 0.5191543811101437, 2.368289371428637, 3.7577484493413524, -0.3163124206420349, -0.5236583266153593, -0.26266130329215187, 0.041928366904448205, -0.6302347871887822, 4.2373496394679195, 1.2867063825531282, -0.17997339498986162, 0.9112542641150068, 4.402203996796574, -0.14045096813996463, 0.9651828442439309, -0.48365395668196254, -0.5134021409170375, -0.12646369736741767, 6.963100428747824, -0.024088166970635, 0.9537089266749177, 0.1811712784263577, -0.44382149778780833, 0.4047830361335536, 0.37257778650311096, -0.8010910229974721, -0.3207525457481127, 3.1641486223019437, -0.6065356170818524, 1.6465854098410466, -0.16532797526942744, 0.7361271489242734, -0.35147702742973785, 0.9412472431635743, 0.20242186265314338, 0.8064509352623341, 2.439330624159449, -0.8096981687392429, -0.8336057457764565, -0.6507575582322637, -0.40912682041465886, -0.5715631132290968, -0.14914751916098964, -0.2014263851516075, 4.801368108866799, -1.3757126538510278, 1.3227510624781766, -0.7375205733578005, -0.41660755286890483, -0.33748104877073454, 1.1807042183655303, 0.15438653443512942, -0.1446492797421161, -1.0819266440217985, 4.383872129053622, -0.5508889414220258, -0.6424568297553891, -0.5950853444677959, 1.1349710656521999, -0.7961487162073635, 0.47341557906270226, -0.6655427732613287, 3.252559643949456, 0.23005465025139146, -0.8196977763493468, 0.2506596167909761, 0.7440430419309572, 0.2598966404802702, -0.3635133193790964, -0.013070617235987313, -0.4238123811572394, 0.9653138386397766, -0.6660983264547343, 1.4197276236753171, -0.0212151794014069, 0.9176605689950247, 1.443290389644038, 0.5013369956510868, 0.6182274294828057, -0.8600817396830471, -0.7194728318463697, -0.4591152697623112, -0.1155517541422634, 0.5666587076737368, -0.14936686327123766, -0.7690401228820714, 0.353653884649943, -0.28452660744487296, 6.066033422342273, 1.5319647204490754, 4.856665088007321, 3.036961295807227, 2.6911990571069593, 1.2056301709921398, -1.2356141946493904, 0.7471017107772889, 0.2486014285529703, 1.2237395514188232, 5.9360517477721295, 0.557483468190035, 1.4511354311418732, -0.34870726799226576, 0.524336206132141, 0.19746535390576841, -0.9338458530731691, 1.3682254763401678, 1.7266530892401966, 1.1625957244888543, 0.23689884906627381, 0.383786288836582, 0.376095562187136, -0.5121252267185463, 3.0056344396357955, -0.17463523646910076, 0.3548251717872737, 3.468651620899144, 1.6217866139776078, 4.929119366283382, -0.4291559319696186, -0.3718975342689493, -0.3865305849912036, 0.14854497883495968, 3.809570952361466, 0.7878249874927101, 3.347165838333478, -0.2408372723563074, -0.18268116233724338, -0.2825980984525927, 0.04189642564807945, 0.008482116041171836, 3.776096659421153, 7.015706386138067, -0.6100428723080059, 5.751555831978525, 0.11301314898320713, -0.1249814426308783, 3.626616465911659, -0.27420286147489226, 1.2132818637039173, 0.13175010978168328, 2.4416075719934778, 0.039270908152999884, 0.9566463658607643, 0.2679552881245324, 1.1487846279950482, 0.1305840647978697, -0.18474648708251296, 0.7492674866837935, 0.7603843081189171, -0.476815376841805, 3.5247304503632315, 0.6616255506121977, 0.7650821177648078, 0.37868338778734484, 0.2264086424717541, 3.405067310198381, 1.1225990803370367, 6.606352723548745, -0.10186709698694871, -0.25977577638677213, -0.35957182757560074, -0.4577620455647449, -0.6430184934603336, -0.2149794607187735, 0.020133373687582782, 1.868364724650973, -0.21580570278256836, 0.6457643090228057, -0.2209531457828437, 4.594180934942655, -0.8136991508649898, 6.501500663502958, -0.4644036157874468, 0.288351365870886, 1.917288788681566, -0.08245516101046005, 2.6111789892282347, 0.1731461735296759, 5.461157109919126, -0.5035612356508676, 3.0129456829045695, -0.8155495371129645, -0.4202710688880266, 1.076110085847271, -0.47000438276399875, 2.237852425594373, -0.253457502908817, 1.7121528000193922, -0.12012255600441214, 0.2890109011369168, 3.055660699537316, 1.038845360333884, -1.046272671833133, -0.4467706652474126, -0.6398390827387649, -0.527710364354434, 0.18815937796654247, -0.18693058974233742, -0.25874414926529343, -0.11669985106924866, -0.386834207599828, -0.6186517323890232, 0.01769104329335442, 8.269737509034954, -0.19399297354759745, 0.8651645747478067, -0.5279646234161977, -0.18893860649918176, 5.6704602773279955, -0.518482132402008, 0.31637089481114833, -0.2552943246592899, 9.319422859506725, 8.036874136227562, -0.102177374314883, 3.48293349645698, -0.43180394203732037, 2.0746022453852553, 0.4039529326635685, 0.6918224432249058, -0.27311838286102963, -0.19578196816067248, -0.07591224540842484, 3.4686097698081313, -0.5992368652125651, 0.36144893308645115, 0.30982245409452486, -0.7799914612554253, -0.8017196841241088, -0.42057340903354906, -0.4953125892760838, -0.1027901651793496, -0.06289280624455784, 0.19409137986407926, -0.04966113088956983, 4.89254814154296, 1.4578404154109048, 2.6262699158558394, -0.37841865648520595, 0.6655522527201012, -1.8100848197501183, 3.2857841420971594, -0.3185303659217001, 0.08305831018755815, 3.6784106149167095, -0.361369498200905, -0.7416468894746788, 2.5948199896338418, 5.646476189085003, -0.6277488970790542, 0.5353667351874729, 2.5250866032271677, 3.1026579882295575, 3.5616768122937024, 0.4090495276556576, 1.7611951657142633, 7.405677059145944, -0.1242138342513738, 2.8890774509566635, 3.3538988195430957, 0.5337847788616955, -0.08299252867826613, 0.30833527646377207, -0.3775955771481024, 0.09380464014560407, -0.06621528283352701, -0.398833151373549, -0.3423038433993985, -0.8771747256945412, -0.053839132275501675, 1.5731560624427354, -0.007603489277497779, 3.8074261773000924, 2.1232561228834306, 7.2909541464156815, 1.3043995086850353, 0.0919626472742598, -0.1186177141273249, 0.07125355300057779, -0.4688216101893858, -0.22295457902745974, -0.4293085427523649, 0.05663742392315998, 0.025043663567043982, -0.20634809982265312, -0.7878195112958734, 2.284372456187045, -0.32187390812061595, 0.10336171975950281, 0.47718571203709714, -0.9058960914614719, -0.30549410373200436, -0.5265342054982287, -1.2014200143589269, 2.7305904769966984, 1.8287314739501856, -0.21724881509534155, 1.7526678645266178, -0.17082628158614926, 2.899918194130587, 0.30136168283207904, 0.005626009792584123, -0.8697905415076594, -0.21932324108798498, 0.0445152935054875, 0.27172443618400544, 0.5959024065051329, 0.10716936638842466, -0.5844436704289805, -0.03952977798893652, -0.3843853193369627, 0.040883258264090665, 0.5979072285102849, -0.10636573966636774, 0.2304519641775652, -0.0939123011443995, 2.511431124298966, 6.213610211967265, -0.5236918923192679, -0.2917172458268955, 0.13701544255540027, -0.10668228880097663, 0.38246261890933486, 7.975665110419279, 0.1031050272094676, -0.827869731049486, 1.2068210631249472, 1.0908731333753408, -0.8155912555113153, -0.6812734834893427, -0.5292333847941948, 0.1770085167579271, 1.0093279587480282, -0.4012919688675397, -0.3990373790431034, 2.770007028272833, 1.162585909969275, -0.4107531365328413, 1.1572162276697737, 4.527114873824265, -0.6293118821917869, 1.2520922340309744, 6.309344966910837, 6.697635812461561, 7.280113196195883, -0.5540722791360561, 0.6846125014751946, 0.5991073506591718, -0.06580487521433213, -0.22798463037668865, 0.5019861499175409, 1.2693468189896302, -0.40889562768466364, 6.79852185918037, -0.112463402548245, 0.35885099808062343, 2.8150848910472166, 0.6593595598404117, 1.8767265952767185, -0.49295767501196375, -0.22871938638740724, -0.29849032894854516, -0.10053610296752234, 5.191179537010601, 0.3791343865200475, 0.2307915756499856, -0.3712635801426632, -0.02697601446300847, -0.07515172334805334, 0.5193086162293038, 0.042525552152858775, 1.1096440589744063, 0.12117650812061041, -0.038865838702366436], \"y\": [-0.7454766852476373, 0.08741923453455218, 0.2336019194123347, 1.060176979416725, 1.2717383297243325, 2.2140655904126847, 0.4761745264138577, -0.2605718518604689, -2.026460790744042, -1.2615938839061849, 0.5473965539926149, 3.257869927133228, 1.2417292141852823, 0.10611091855182572, -0.5897478345727243, -0.6818560957352325, -1.832700564978497, 1.1205150051197648, 0.3470238337964391, -0.572344236267982, -0.5598402797309868, -0.24166604661642896, 0.26854802548364787, -1.012757326045387, -1.144320102401338, -1.4980910125369158, 0.32512235994900307, -1.1932941117963098, -1.5918619681411588, -0.4064029824325651, 0.021686702565637556, 0.532500624422344, 0.892197821803053, 1.8193231945834836, -1.1817097965635095, -0.6942563644470899, 0.1624078458731675, 1.5363056149003051, 0.36934817269814574, -0.25854668004716513, -1.6077099473653111, -1.6035957018158458, 1.4516598953232573, -1.5695907266417575, 2.6457041436440436, -0.5948863415220885, 1.966582787892764, -0.7306447488306196, -1.2682986507663891, -0.15992612169920373, 1.0329851355850552, -0.5328621827979991, 1.2889268052630396, 0.6489080627790147, -0.4735276310961156, 1.859906648044585, -0.05449569506406623, 1.277346325092379, 2.0974731078543414, 2.4229825784874963, -2.0266759299147847, -1.1218014796582358, -1.1069826223735206, 0.8412818172943307, 0.019494189203930694, -2.542917583838, -1.4889772753979402, -1.2889555018534944, -0.540842446354193, 0.39576749781895576, -0.19720439040349108, -1.0952236911287045, 0.05882258420335709, -0.609691023259234, 1.2375940020898912, -0.027636337703056815, -1.106810495174578, 0.07318922488596424, -1.0129683796402889, -0.2593265807311206, 0.855903703016815, -0.9673188900391205, -0.4992564546539964, 0.42086249026607164, -1.2838280752176425, -0.9407137134018971, -0.45318922019223795, 0.15773726862654353, 13.635664267745774, -0.6552502911062856, 1.345167507350597, -0.048608379582221826, -0.041939002436693205, -0.7779512533647414, -1.0625552852618954, 0.021890276447809675, -0.1987629141454376, -0.7745387651289937, -1.2918012435705049, 0.5557090241226702, 0.10413008014609254, -2.2020807822160284, 0.06810903982616931, 1.1192028004447403, 2.581485675579474, 0.5445762806001122, -0.4954250436026089, -0.583606712938992, 1.7617675097403596, 0.5284666331932001, -1.1500078159954725, -1.1167472143149912, -0.7796302108598084, -0.9362792720514027, 1.759029673799496, -0.18348779012796368, -2.02761057165226, -1.1573746245953953, 0.4275983620454892, -3.0269244015287557, 1.1888005921561375, 2.5028732055797964, 0.35340847702116157, -0.4624585980609619, 0.4271324299900891, 0.40571213974012144, -0.6925099721062928, 1.5671975785513963, -1.1732549392228837, -1.1253536507486797, -1.8380388266144752, -2.734735025065904, -0.14046534245103465, 1.6041981165546781, 2.5104406203975596, -1.5993328997467913, -0.152741286431279, 1.959454602066376, -0.006493442144592749, -1.9746530963694027, -2.762599279144073, -0.10000439701075868, -0.8270998855101684, -0.008339474931977012, -0.18330969281138687, 0.0968858215809675, -1.0851731855940834, 1.7619595288417702, 0.11667770956980666, -1.2372888861936273, -0.4920661113477282, 0.44941813378861584, 0.9878955104663882, 1.9252797744914005, -0.9957427673295292, 1.299850261426559, 1.8442332216742456, -1.7072665611763538, -1.2126889329851884, -0.17232640061250057, -0.2388032337065961, 1.404489407316652, 0.7045390916784251, 0.43260833465815035, -0.5721920405318328, -0.9572041884048417, -0.7350324937494657, -0.9662672535486211, -2.3360627573801924, -0.23205912894750036, -1.6473767306003158, -1.0109865565085367, 0.10698343339973716, -0.10981742612865371, -0.13740009092142633, 1.415203558271502, 1.7837430009051647, -0.24938404305471681, -1.1654103071290451, -1.187920255076161, -0.31888912822810594, 2.9541297919333567, -0.10914637828537958, 0.3936893244988649, -0.36242532078833517, -0.512578264604546, -1.13328298996953, 1.680682866350215, -0.0910616601504687, -0.10340191381782046, -0.3213044765875367, -0.8724927976744582, 0.20147299581334913, -0.7452320418429884, -0.8668152637485239, -1.6459906833939333, -0.40346950043562746, 0.2997656061890387, 2.2516523360022993, 1.3376195551896455, -0.9622940916781428, 0.8741711628377273, -0.3091228986056957, 2.2668284694741, 0.03403109054103009, -0.9242774740952143, 2.77063431067842, 2.6668390835416966, -0.8047203659560813, -1.3666054005961632, -2.385023484981933, 2.77863384396728, -0.5076945679321794, 0.14359826976934015, -1.6079804565046472, -0.9666079537769473, 2.5321474036768623, -0.7432276003976196, -0.8384557991349684, -0.6824623067571672, 2.099404689322614, -0.6216515389653786, -0.8089166375797807, -1.1808117672144207, -0.18593681403400458, 1.5404982507848624, -0.8482940665348738, 0.006366337071800712, -0.6958651348812351, -0.9455746923978611, 0.600477719884634, -0.758174752065763, 1.2410176811083775, -0.5202345209079203, 2.006118616872288, 0.33670325853190425, -0.024273594367455232, 2.157234615436316, -0.05004884114593245, -0.38850180433065096, -0.909600374871636, 0.34615787182005325, 2.195876398470752, 1.9259713870700026, 0.04482483986652819, -0.7290582537500844, -0.8415545860468772, -0.7588059846613189, 0.370108410076054, 2.5081242548775635, 0.5230366620693369, 1.1821986431532066, -0.8650487696011091, -0.9813345613811173, -0.26667925377647583, 2.785773083612306, -1.0672116737319268, 0.336221950177027, -0.7022533568782858, -0.7013717883866313, -1.3945933602340757, 0.8421898620007585, -0.5250539785782452, -0.16160916782777793, -0.13220379985826933, -0.18074115715255967, -0.24157488168597946, 1.0898059629894006, -0.6565612963380929, -0.3808078917953314, -0.935366925127026, 2.083881081007215, 2.1919914358636166, -0.6383102583512612, 1.4805429217158812, -1.124109286952876, 3.4675502962797244, -2.2545233524546453, -0.7559041459384401, -0.8337615474361708, 0.18377775780970657, -2.4778487188553173, -0.04822164305447267, 1.1917431519524264, 1.702932751223004, 0.12178835897742221, 1.995733651041278, -0.053554679115632185, -0.6537308554983448, 1.2693835826740338, 0.8140936428998272, -0.06529678986270665, -1.304532031244851, -0.8421922717738932, -1.570450071239322, -0.5021826663595775, -0.7748190660476659, -0.02932651079270018, -0.8304275173865645, -2.7349506598874793, 1.710278044326261, -0.27688827473178146, 0.04954531970014929, -2.325144981728423, 1.6519054368168002, 0.26166343405191456, 2.5913886505854316, 1.683369341372293, 2.2108080138580593, 2.209692954835267, -0.18944037017521895, 1.4871639260123124, -0.15877119322609337, -1.2551818271423671, 1.948786304863694, -1.2874948361349987, -1.0137520064362675, -0.7839362352706202, 1.5774083086260349, -0.754759370528183, 1.1551491815863841, -1.351182324112563, 0.43978720916962416, 2.195142595986135, 2.477960792460107, -0.9271184964011886, -0.41269881799605046, -0.6729834597145902, -0.274584636712825, -0.13884040995817465, 0.6447914583955383, 0.25203840555560336, 0.5857881888998626, 3.1152832441204366, -2.4840905271365172, 1.2498632094532438, 2.6491361552981667, -0.12455209718557474, -0.5020323203715652, 0.43605676392740916, -0.48166620612808714, -0.778795377495184, 2.9902177570920556, 0.24376341917996197, 1.2018618231269445, -0.49114301392156445, -0.5483929861368305, -0.5686317020181462, 0.16561606534186984, -0.02242508311036851, -0.029554840287877672, -1.1906665706750232, -0.5264768328078085, -1.3744861794138652, -0.3165123522636544, -0.6588662156613128, -0.24049000633207276, 2.1681227829552228, -0.045959849016137776, -0.890848082206649, -0.033375230169728154, -0.02139818034929274, -0.820847009465655, -1.307165686724599, 0.28167405946105767, -0.1589215553847745, -0.051039476220354645, 0.09668504830633452, -0.7555786568870728, -1.07055842845881, 0.1345901887179204, 0.15137636876401694, -1.791413487195397, 0.5855891819577743, -0.0956137086775692, 1.1383680044817917, 1.3291715638615387, -0.38160801366112246, 0.8838722441242843, 0.07457031183746228, 0.12426502831510114, -0.12901644212401717, -0.257714360841123, 1.95925556647252, 0.6264931213873459, -0.8572889046088252, -0.1253790994866802, 0.16371193182429536, 0.2387996278656548, -1.2566628951950678, 1.9595314305547056, 0.23237971916190694, -0.4183322044976717, 3.0345362546108605, -1.3121827436279043, 0.47097816961831923, 1.890004348238544, -0.4611786538250327, -0.6022013262638516, -0.9702325093311818, -0.31109022920889146, -0.3553397199622303, -0.9143770336834323, -1.0070512822116278, -0.011371209336535572, 0.09153328014540084, 0.4155992302760881, -1.2623349767750847, 2.207439548813801, -0.8736682329043041, -1.5317124827933768, -0.839278074213919, 0.18902038671060836, -0.8330245604950777, -0.6036750456510402, 1.4627343636865802, -0.2663636564494201, 0.7570259679230875, -2.3926259851404836, -2.1879443235024203, -0.09170070360103638, 1.0538361224019777, 0.32446680046769655, -0.6505372705099195, -0.13574892479488113, -0.051546787122711, 0.5293479950500829, 0.22484083329328308, 1.1687368497186248, 2.2635682812311666, -0.6716208315231148, 0.4619545592543649, -1.038682519223746, -0.1031715050073741, -0.4009378910851607, 1.1847882105670118, -0.8994877657518161, -1.6679637785105412, 2.086970237263849, 2.883013201811198, -0.43745137251087596, 0.027894088303500736, 2.2879237496911355, 0.6606575024067648, -0.8625447170775341, -0.6980047183456601, -1.3266760053601918, 0.1783981809956328, -0.23254757890878816, -0.338797067175712, -0.32277365398757085, -1.587345022206287, 0.19406383470662533, 1.1425493336527577, -0.3519162214090861, -0.10689230148508912, -1.1823075702440209, -0.9619969641489643, -1.6376319543848648, 2.100591536496505, 0.36233899075148257, -0.5490460075673472, 2.6773087164387714, -2.4238766772966427, -0.1683568971436697, -0.049718855894423195, -0.5483668227068128, -0.4939434585610928, -0.11107152998201951, -0.6036079399864236, -0.2218772082155132, 0.8414729241336342, 0.37206170110995795, 0.3431326144543652, -0.9191191224792556, -0.9284330533785977, -0.0018584718564048515, -0.469225403888344, -0.9943109423073625, 0.13299808412654618, -0.13087072306605743, -1.1215326705592341, 0.03093863859600537, -1.1084016107623398, -0.48995450470052393, -0.891429692425168, 0.01171328269206611, -0.6002022132257709, -1.2209221883041712, -0.9672018473373041, 1.4648303548296286, 1.9159134042063841, 0.27351607114581505, 2.3044015557246347, 0.8556426195632101, -0.6133525179221729, -1.0482351299946642, -1.1586131652671072, -0.7956117315451997, -0.9132016347105375, -0.39291565038603005, 0.36189425231944866, 1.947777480072903, -0.1376710971375584, 0.07959592023624946, -0.6180297248272505, -0.47494456038833727, -1.1549704773251266, 0.017409512346635927, -0.518433896940568, 1.6264791576646458, 3.013219198649272, 1.5497945159633602, -1.236042615868665, -1.7662884801995034, 0.5753512836868538, 1.5916385161285933, 0.5154526590336194, 0.2186376110245804, -0.31314881419165497, 1.9815091629145136, -0.224879515356157, 1.5462901547209917, -0.24392529543674096, 1.7073163735347052, -2.4524216030748573, 2.4873155023826214, -1.0942013568638826, -1.4360466229869187, 0.9016061812833126, -0.026335321498091237, -0.9676715653018345, -0.9938876975790492, 3.08778351002601, -0.40856207153384, 2.4109559506074656, -1.8980386532493079, -0.2690267827764358, -1.2226242819809767, 1.92742627820829, 0.16054456543713186, -2.5524194204061725, -0.9452640909052488, 0.04312425907501265, -1.312590288295519, 2.0002326286580256, -0.1107756804012352, -0.8970672454069338, -0.23620084869459004, -0.34383439217837064, 1.653792792615015, -0.001368841825571088, 2.2070060846939157, -0.004317491088734744, -0.9927862977768748, 2.9190444783848006, 0.6233738932161756, -0.9150845358780443, -0.2672774893303339, -1.5160361128576008, -0.1253801436042379, -0.07420413506100072, 0.10012309119701115, -1.2206242568337367, 0.8689609345944298, 1.9888647617689226, -0.6521532026897106, -0.7439379882037721, -2.618623374731806, -1.339604166630645, 0.3826845798649078, -0.3065862706850371, -1.2730392487296902, -0.38341436382330824, -0.23584747364603537, 0.757049849905552, -1.2853019138444133, -0.09683309347719432, -0.20267904692490854, -0.7551463988103285, -0.16996004740378243, 1.0858283141961145, -0.9313312856911804, -2.1169276178576664, -0.4696893288645965, -0.6781373040319457, -0.09275450332379537, 1.6837826601616177, 0.2400495843135705, 1.594391714079022, -0.3407174911774623, -0.5294004942923708, -0.2241960616888316, -0.6079258372331207, -1.1867702152201673, -0.3304056528754402, 0.5420456468246433, 0.6828498173660097, -0.5124653691800956, -0.24674977486160946, 0.595552283128161, 0.471731451580658, 1.7853239059690242, -1.2072745454028235, -0.2945149714555484, 0.0013793543273533041, 2.19222788862076, 0.5524210570970367, 1.879565751362228, -0.38784191980426513, -1.1565481443970873, 1.9236364475285452, 0.8663760096270143, -1.2658397334793112, 0.36591081163696576, 0.1773462217594339, -0.6287774226324877, 0.379243148736803, -0.24631245072937533, 0.6229429752977587, -1.0568627105628159, 1.747851131671844, 0.13070851538953032, -0.42368397774720806, -0.7526597672957938, 1.0160826276177977, 2.6813906126875584, -0.05495021884183689, -0.6553957940855359, 0.7743330256983284, -1.065486664082948, -0.08241372545473959, -0.0780907037604381, 1.793698378451874, -0.46822748279335014, -0.19654743764557564, 0.022121761707912614, -0.16484912360618503, -1.0693502106626251, -1.006503014220085, 1.6372692699467555, 0.29421558126889985, 0.7172773331812515, -0.30677245816710114, -0.2939666073828891, -1.0795813133148986, -0.06369987852623102, -0.3172438354557206, -0.7082426000677653, 0.03450508142657217, 0.40301070008673207, -0.3161172084474751, -0.6557753448712001, -0.7663560448745119, -0.9632161408353316, -1.0082674549749229, 0.3700984350795721, -0.15434737881514443, 0.0596013029116309, 2.4277846936687895, -0.8452913454849754, 1.2474430987679552, 0.4346984855415192, -0.6547780467222425, -0.03747952003893267, 0.6540284785036261, -0.48072174021948216, 1.0217706348550737, -0.07237919105982467, -0.09793502845912741, 0.7579656855093967, -1.268415313653989, 1.8367458497208258, -1.4387280760990446, 1.4810097396709674, 0.048525251903384414, 0.7397015726063702, 1.6319683994600287, 1.7890301868116705, -0.44220100287278136, -0.15549013661333783, 0.1765059329631348, 0.43489975821272403, -0.7451910135321229, -0.24607992745232676, -0.5990967664726138, -2.140588925249397, 0.14787581997426863, -0.26508959866466175, -0.8226136505073794, -0.20045480181517528, 0.35327139749782077, 0.9123092746133176, 1.6750575916848474, 0.7397277087037942, -1.11086897399823, -0.7739716446055674, 1.5225977222992104, 1.4462367414981183, 1.488152527046391, 2.4150237490632676, -1.0056106473796746, 2.4855776952199515, -2.5190504147315336, 1.5833142771176858, 1.3349758485691092, 2.005838576454148, 1.6490130786467385, 1.2965932945260696, -0.35921509283108827, -0.6897319440090066, 0.5677129796724737, -0.8387036472779741, 1.79014977821261, -0.3808581498517248, 1.786106014663918, 1.5491078966996568, -0.2805586120604947, -1.2562477972946025, 0.2239054203841563, -0.8655952386871775, -0.8099005956193909, -1.3955323861306153, 0.20016823928978517, 1.7700130042199966, 0.189260623674312, 2.615428978813258, -1.3115878203364444, -0.7916654895184034, -1.340453426640068, 0.8648529041262586, -0.6877860351087622, -1.4194058398488711, 1.6508772572458068, -0.6469854447935196, -2.3993394829697703, -1.1332846852057321, -0.3694781216900314, -0.3336433902882627, -0.5970511680948704, -0.34618916544048733, -0.22773075697139958, -0.8345612567557694, -0.5120714214120893, 0.8523008304109913, 0.26226495004276384, -0.7167585795926116, -0.45736811406207045, 0.1999138537475576, 1.0747394601166205, -0.21492102184726355, 0.9479874994137292, 1.6256301290629924, -1.1694534200011522, -0.26432386215701126, 0.3153139973321473, -0.4437572870448768, -0.03182199658150451, -0.9345916307781257, -0.33801413976239936, -0.5698693164468538, -0.060721603717768434, 0.5145919499249971, 1.9228600573534989, -0.5682077559821742, -1.0741983637242596, -0.40711943819076524, -1.420020998621613, -1.1145650190207916, -0.3350061361791455, -1.1498616687410148, 2.586703171686941, -1.591428755498963, -1.2301751378804913, 0.44505784309962865, 1.873338378956811, -0.01652990658539388, 1.3786275537080663, -0.3781924739689826, -0.47860313350437683, -0.56631504830555, 0.3344829210424521, 0.8424509669998944, -0.2544222730370685, 0.1584465478926116, -0.6538112719261778, -0.051372467735965884, -0.3922165512019405, -1.6344102602651474, 0.21121761872141562, -0.7572052187888286, 0.4430317471732184, 0.5381652544643072, 1.7197672489481661, -0.07728947884960527, 0.4908154610534122, -0.2905862004939161, -0.7939559658074812, 0.5652611550877836, -0.47252003356054456, 2.1421218819592154, 1.6574556022811597, -0.5111526799438659, 0.10526496914661064, -0.7433733785395699, -1.2707249863753076, -1.7621691344701291, -0.5348494108394721, 0.07832172102863763, -1.04210219980819, -0.9992878989887721, 0.3044471434795862, 0.5488456098970226, -0.5535040427645299, 0.16857603489114611, -1.4561992350081596, 1.7876908916963246, -1.6307992999264542, -1.561571784558971, -0.5392324887170911, -0.11193822205218787, 1.8892905763115928, 1.19654850467737, 0.10340025675458742, -0.3987737732131225, -0.9082417175541487, -0.6220773473508057, -1.4818518163046164, -0.9055085344213115, -0.6645118003207838, -0.546338025980208, -0.8157788718467901, -0.7680669787090697, -0.27550995110454957, 1.6408447070668135, 0.9180201952923914, 0.019790458041665446, -0.10955980331158494, -0.8280496868561577, 0.23666997845423268, -0.45153877881090587, 0.009143331854481088, -0.17289314560675378, 1.510854118347091, -0.5083353632981216, 2.0792671803558798, 1.7270906770469852, 0.8524352954769625, -0.17271259377661613, 1.75236079446395, 1.7936926154577675, -1.701387011512862, 0.5427073641936423, -1.1459319582184586, -0.9193019976102018, 2.542517280270999, -1.0247362821075043, -0.7686424386910371, 0.25932576149586484, 0.9864298202773966, -0.6662631587432772, -0.3558550375006691, -0.10142039818254278, 0.3755804189523588, 0.8592705743581169, 0.14065278897343145, -2.3294963711944856, -0.18729127011494312, 2.1000817383070483, -0.2771665436903959, -0.8915540606875733, -0.7567862964942426, -0.05607152657272701, 0.31734411448956057, -0.31729336474336595, 0.09107583109619834, -0.5087011969717873, -0.5348974776024645, 2.1134390701665047, 2.3729996092185677, -0.23105386843622105, 2.1970248173774705, -1.1374295232097686, -0.6344753284750458, 2.5044249912497665, 0.011153821759771998, -0.678124737538538, -1.1328362190309773, 0.1438168469941594, 0.740906173185207, 1.5525127464251962, 1.5914440882937453, 2.058566713696439, -0.3476647476838079, 1.16222879132003, 1.2165730537039352, 0.6695899408902477, -0.3678953243817788, -0.7257242896613773, 0.34675118056687304, -2.1280746451551407, -1.739025370504443, -0.27533021308003086, -0.6495686455201914, 0.5784108029216575, 0.8822720000143837, 0.3610303517409724, -1.377608825371576, 1.1602316476779926, -0.8674323082051308, -1.3036585061060182, 0.5924407303074666, -0.9489670143098075, -1.9199474392502494, -1.617469625505777, 1.7349370750151383, 1.6898890660946224, -0.033270660258244523, -0.682755835463621, 0.1023234723163376, -0.5236753741681137, -1.0272194005777913, -0.03682416370126203, -0.030259907095828452, 0.453783105461145, -0.826170641877195, -1.8220730863765184, 0.3503172957612823, -0.023684488984051975, -0.7831173137854224, 2.615966612686294, -1.250140643009296, 1.5376428544605263, 0.6104982913166782, -0.7552341978202645, 2.3381368570961962, 0.5297419159384711, -0.4788493259932873, -0.5978158507684304, 0.2833484156501077, 0.0851657678011783, -0.024016290442827874, 2.206822999643471, -1.219153584076829, 2.468063088141549, 1.5008244816989955, 0.3322789984892305, 0.9959863693168303, -0.8786394575816535, -1.4397463952115157, -2.0114286742087915, -0.8361235004263643, 1.9598588073980374, 0.056832568943942965, -2.1526763599726952, 2.0518180980439378, 0.15831188451596254, 0.22260610607011486, -0.19865188733189978, 0.8545951919102412, 0.2979498811401179, -2.055636215788749, 2.5869011506999278, -0.13298552002454372, 0.1620451405975755, 0.38224243554897575, 0.9033318824685729, 0.5100735916785565, -2.5277036617895337, 0.524819914204311, 0.6656243634303756, -0.7326883508382568, 1.248466420910008, 0.31986103486367234, -0.5805131121250697, 0.6421838605292636, 0.13429875144269784, -0.19819449486713167, -0.3839254838827802, -1.337245528370453, 0.012739115391535511, -0.9952532271599566, -0.8889054923302387, 2.010626481938123, -0.09033252386261842, 0.7574719953409197, -0.904568499449277, 1.2614706717527036, 0.38555679903740897, -1.658059507474759, -0.9033283926649016, -0.792546973649443, 1.1200217140381794, -0.8766483205069914, 0.37438140212267024, -0.5177129996684023, -0.789302079432203, 2.013742010633735, -0.907577372936535, 0.4707794740460265, 2.3405027059844907, -0.7326465864692988, 1.00659841786925, -0.30809634557362003, -2.3621854488899405, -0.6378027960122419, 0.18405468604133632, 0.14636630277836596, 0.13697847755006626, 1.5873032165894536, 0.11897593193789092, -0.5519196724619428, -2.4263116162750973, 0.4519172186108561, 0.23573359856068413, 0.46749011238170196, 1.0396329898245444, -2.276967599487499, -1.0079658627389856, -0.3633564085206417, -0.721850228054292, 1.4435288163359594, -0.014918935927419079, 1.0543807725498293, -0.5468521384087246, -1.0820953383389884, 0.2414711527814014, -1.1563594314849643, -0.9733311926345538, -2.1943374372719897, 2.2394491669870527, 0.7380266656396087, -0.42359840199253035, 2.392245987909668, 3.287087846539704, -1.7359644879837872, -0.2953879222780254, 0.41101542380080947, 0.048133493817730515, 1.1750821004745209, -0.8069592431454007, 0.5080359357246862, -1.2358889367083759, -0.10661142953668189, 0.24988183022424268, 1.1444275400386217, -1.5162291122831848, 1.7258123895258792, 0.23766897737288512, 0.6147235654461606, -0.9593366543064993, -0.2769687903466431, 0.22598795694441062, -0.29275059843378226, -0.3797158116974784, -0.4241533632920386, -0.05174424385664978, 2.2990212478656473, 1.0550266606819334, -0.9398912684417147, -0.7948646869923021, -0.13106341946849748, -0.5390786981705692, -1.2809949353463208, -0.0038775647601144987, -0.1274038031667859, -0.2177494465893662, 2.0175757446305513, -0.3547445174479189, 2.045324449217278, 0.1571439048417011, -0.28737965197854654, -0.9189442352930463, 0.2933810835359687, -0.5144493427899085, 0.05456073217751007, 0.6059425634325205, 2.064633241990237, -1.3482027906635443, 1.3336432338390656, 1.928071888682736, 2.0592933352463096, -1.4020655322965947, 1.296541646498789, 0.6972056654284211, 0.20660013028707908, 0.049065466540991344, -0.7605057858464762, 0.6111656943034729, -0.32276019473577133, -1.3391977033484015, 0.16934055514647617, -0.2815967568887074, 0.9231900866455247, -0.4653835515167825, -2.021634498066427, -2.227978248953589, 0.181587830224864, 0.11837178244284446, -1.507893064655181, -1.4409650704449517, 2.9798602926153035, -2.076381186672043, 0.7085262227588093, 1.7511628057394124, 0.581971887566258, -0.05696236504043295, 2.7517280783496347, -1.982357462318767, -0.11790916530478537, -0.7107790896088259, -0.16645986052291253, 1.422683475055731, -0.5162601254647857, -0.6844326789692826, -1.5341390034182538, -0.38798037463782326, -0.7608720810618261, 1.7735164117184161, -1.156870782687005, 0.12323233214354974, 2.040208985550624, -0.14288398511613992, 0.31423338724588207, 0.0789263347735945, 0.49543648470816276, -1.7830097255967194, 0.7078088304752503, -2.764087359558439, 2.744706052312905, 0.10254229037816225, -0.39329385960280966, -0.5301713374606478, -0.8349443644607267, -0.5645275633481067, -1.3916788621630625, 2.1507917509253525, -0.6067688337506953, 0.5605102014190173, -0.12813819465807766, -0.06499553070075388, 1.1929226098642796, -1.1932400166869965, -0.030373227806310563, 0.16705578016048364, 1.5200688075369104, 1.5438744300681542, 0.2708799634156298, -0.4219796831424507, 1.4633400918247375, 3.3193679021979157, -0.43991460139157734, 2.7112762441427236, 1.9136608826688946, -0.15051317709067777, 1.6853129017542468, 0.3533046979090992, -0.309932867426046, -0.5064289638233919, -0.7164955479451925, 2.0683112122494207, -0.9183209509344455, 0.6283826490918384, -1.238187488205676, 0.0904592746671315, 0.39275409744202494, -0.340621062022336, 3.126350035768989, -0.12815561894035807, -0.3032182790339143, -1.3446813814899243, -2.422273294693399, -0.10718012037128376, 0.5829656413139175, 1.403510207089903, -2.01242045387283, -0.14458786348112374, 1.6274262617419988, 2.3137629352881275, 0.3151521709520703, 0.8945284514571118, -0.4206865512884873, -2.233845000760307, 0.4089407076397693, -1.6129086732209994, 1.9420127635367208, -0.5581524839183379, 1.691649605162983, -0.3827874656294898, 0.22312537668211718, 0.018392399380076297, -0.6030560911002473, 0.3520213052944184, -1.13573263890655, -0.30299907043494106, -0.2578651383745798, -0.5527408049620475, -0.20781005382598183, -0.838442257852118, -1.0345901174954817, 0.11249698697619484, 1.9910064287315137, -0.746239005352269, 0.2918590415518918, 1.0048499405843745, -1.1145222266310482, -1.2897785124792587, 0.23358891291334344, -0.7013266035176591, -0.9308442359278134, 0.7856515133751196, 0.770248940686659, -0.5468333373380541, -1.545774781214985, 1.4693082267809454, 0.5083408711776682, 2.0044585181437493, 2.9578623534861213, 1.8126845655561605, 0.08018480791630266, -0.9723530629465865, -0.025476059801353503, 1.8302350000050323, -0.46254038562877636, 2.8773298146636384, 0.21078430067051523, 2.603218910942322, -1.4411096297607113, 0.559856489016935, -1.1077118658929879, -0.1028612742403747, 1.481570307351691, 0.3297571094668703, -0.5156205498306932, -0.31135060734138387, -2.100758296867304, 3.08724632175262, 0.5948520572267556, -0.9982029004533135, -0.5550604862290502, -0.601741529240401, -0.1087334663754633, 1.6209214998036532, -1.5722359636954195, -0.7433073154996181, -0.1960691603933005, 1.6813120175301388, -0.28347926074974067, 0.2585325005512315, -0.1400819812172323, 0.06592382003212814, 1.6818933593879242, -0.8728265300932824, -0.9130254212084981, -1.5701392804095942, 0.6232646837234467, 1.5317897945913561, -0.8238762439940195, -0.8449229154824325, 0.25392532061012374, -0.7388452199324058, -1.9141237791149595, 0.22713574970667666, -0.6815484813270918, 1.0030232130077388, -0.8155226728187247, 0.31428383202071125, 0.21202949230705326, 3.706044445392979e-05, -0.43470692162223035, 0.017793627416774854, -2.193345376682961, 5.04562014838325, -0.728966694190674, -0.05318446969943046, -0.22783995744862448, -1.3778842142433712, 0.09918116261014535, 3.2385057799857955, -1.029834614789701, 0.8688486533279516, -1.6676166664711054, 2.113323069188765, -0.11056602366999818, 0.15831276120959098, -1.1725463529212008, 0.002666454299419104, 2.158468678728532, -0.96442748139335, -1.5122577377309852, -0.1393236867757297, -0.2894954536583897, -0.8089652774680821, -2.7632823257822343, -0.38130574407648216, 0.41804566364183965, -0.8809917364275685, 0.1969817653518948, 0.16419155589533938, -1.5646327999408987, -1.4013850945143895, -0.25660378721816846, 2.3695578333560072, 1.823322720191339, -2.6954109838345146, -0.17630410110811795, -0.9115479177122853, -0.22828927956031073, 1.8113305127853783, 0.5048307788001702, 4.297085250193029, -0.5701228389959507, -0.9177017047485508, 1.603257877512764, -0.5453187947443924, 2.5602957726602353, 0.0018088186630402878, -0.5249738915944663, 0.4973374843919657, -1.5670141566310989, -0.4819165091082641, -0.45994029599141845, 0.19819840265954586, 1.323059618514689, 0.20212954353545456, 0.2294342341331728, 0.9618772914155831, 0.1503293616287877, -1.1872461426639715, -1.1226069571979282, -1.3506262479593365, 1.8456788547334613, -0.48263230348509817, -0.6879154984669311, 3.231091735389844, -1.4848011099585103, 1.649422719562265, -0.14172209627632082, -0.31287038668103057, 0.2989263390556696, -0.29216592557100235, -0.3499827372038495, -0.2296163152370169, -0.592694786610085, -2.1919050093044485, 0.05821468853269674, -0.766649472679746, 2.0459177221598615, 1.8416954103481933, -2.5628226758706725, 2.686697606642914, 0.5676369521166987, 0.3098396015797876, -0.9646835900912473, 0.9795783557154265, -1.2804540085776766, -1.0753562422018152, -0.43536652486128846, -1.4864490319677388, -0.6509610930738063, 1.1524595249301406, -0.658203837310798, 0.26582448750715093, -1.390859017441443, -0.6069358714145691, -0.1069533103167831, -1.2337871366064053, 2.216897607291319, -0.6786832575493565, -0.6159877958320108, -0.8295472708112062, 0.17313082163415577, -0.2495480673199959, -0.9596683304491493, -0.21026166435853524, -0.06602200536118688, 2.5840039238942154, 1.9885271424626698, 0.29949168164505635, 0.8753107866984864, -1.1660190161725759, -1.0060493211392014, -1.6633664797597791, 0.05708405264258706, 0.24722062221487778, 2.422674670679372, -1.078177524706085, 0.042923513542879536, -0.8424423876913467, -0.518807177739053, -0.5832342585562752, 0.20648034771716423, -0.03152906047298087, 1.5859086862857026, -0.07354401990577417, -0.19988484100731943, -1.7396117915451128, -1.0690359450300249, 1.5371392820431806, -0.11019339928351972, 2.8750077943587784, -0.7001260683485577, -1.1881331854841386, -1.0105339064605043, -0.3004636677575423, 0.5898351960066557, -0.7258824238459607, 0.5101732582031524, 1.4381967727738725, 0.9715492317324188, 0.21493790919660571, -0.35301977278052576, 0.023406162014248177, -0.7480936206958169, 0.32796167505435775, 1.868320988027383, 0.8449597893688945, 0.10087841063546374, 1.308046707304628, -0.18320329455526935, -1.1283100463020819, 0.11383776834015585, -0.7658569741258764, -1.432930838740289, 2.657985242186576, -0.1778582942704922, 2.2033594859250223, -1.9870820727095981, 0.46506369982024875, -0.8681614407449574, 0.4156332131900169, 0.29958230090525406, 0.10487522377826754, -0.2544511175225546, -1.205268859554464, -0.6385072607291109, -0.5648610781864087, 1.5537384727159516, 1.4386541757275093, -0.3642313062510467, 1.4823886752895616, 0.022245386368311568, -0.23044888511012465, 1.8127097827286698, 2.126029774549473, -2.012247225907256, -2.603445722568194, 1.897701643401734, 2.283862107431736, 1.1850445118794424, -0.3823932466997952, -0.3195464890252901, -0.4029251072783299, 2.4637549179180938, -0.552529675188397, -0.8736026324373968, -0.6581920905406217, -1.0810287331338524, -0.06207870010896693, -0.9101921926910275, 1.3906517109610828, 0.007117190210240752, -0.6231004116912043, 1.5684993388216149, -2.7737734974102035, -0.6011686792969224, 0.46263103548618567, -0.7514247378164308, -1.22878180913814, -0.05480774606149426, 0.028716861433150186, -0.9744860102920992, 1.573216153709415, 0.0370443711696863, -2.628848009133119, -0.7769868237497601, 1.8337829736676798, 1.902339499952554, 3.308674013693458, 0.7565943655983682, -0.09428523254769103, -0.19264067113734687, 1.9772254443592594, -0.40651347253605735, -0.5912341984187991, -2.616725917856852, -1.7901012519960857, -1.0103889008880433, -0.44908971762490596, -0.9463300944630615, 1.46287252699588, 0.06130870433456987, -0.18847489837938858, 1.288181624645858, 1.6178400176772072, 2.533282216349555, 0.19008377043621794, -0.13473679515514012, 1.3335414507728705, -0.7460162494722732, -0.5667436441773621, 0.7110818049238755, 2.803908310350081, 0.6193097730224966, -0.37007122062304587, -1.2949540866658165, 0.6089295017462303, -0.37385761357781544, 0.22037231159687712, 0.05508470742805495, -0.7380679051426121, -0.894834175075984, 1.6764309487266713, 0.8294098759945354, 0.46820258604206083, 1.6970597841483819, 2.4306670830065227, 0.6908175779731247, 0.8214188036625997, 2.110991059057102, 1.9364107066176712, 1.498608118622875, 0.5605627234680218, -0.2911934711914073, 1.9132652469425109, -2.149753544173092, 0.31549000100597796, 0.8195021905043053, 0.20205711775000446, -0.41964869562917984, -0.3493967708538191, -0.3671854539150431, 2.842638278087537, -0.7908388948763747, 1.228200934065298, 0.3497162897054265, 1.68709789349736, 0.2106496870599045, 0.509482496984164, 1.1539248208805353, 0.18267700716217988, 0.6548961639217105, -0.9431728118263777, 2.880359404100384, -0.26248495786889287, -1.3570036569666946, 1.001776362967694, 0.8875888305757601, 2.0531502095606458, 2.120235541048033, 1.51612207423607, 0.2777994781647676, 1.633557130357134, -0.3597659164887136, -0.861189775018229, -1.075350976478534, 1.9675254044667072, -0.660347990356706, -0.7123951377771548, 0.30979757301445526, 1.8016133117053514, -0.7954006218863002, 0.18842499271884514, -0.4930654202393256, -0.6710408382043385, -2.3979722867267723, -1.9355093950619804, -0.007462337636638347, -1.8349548741054023, 1.923327452949274, -1.0478492193793332, -1.183691726510797, -0.6837161330328165, -0.3627144475982345, 0.4719984828133308, -0.45670154145844266, 2.7307711802849464, 0.7385974815424259, -0.33055924124389263, 1.5390119755041856, -0.26981266781874663, 2.0605204325150765, 1.2177798454882158, 0.8551889187029892, 1.687511015648598, 0.07092021785731671, 0.7771732864640415, 2.717316011722153, -1.376803430457553, 1.196597810451891, -0.5089700363932326, 1.6472212535362118, -0.03215467645653985, -0.38192821397496823, -0.22509256471722522, -0.12326250103155084, -0.9556209184517386, -2.570242129136855, -0.9925735322038406, 0.29720664276730274, 1.3005318794296994, -0.24782913910563592, 2.883409297424125, 1.7691394052963219, 3.070188765107904, 1.411855784623665, -0.055084498578989366, -0.25402504786799057, -1.328162945331897, -0.5608275586697421, 0.9235798756374354, -0.5649920265109406, 0.12407420795574486, -0.6243736647380999, 1.5829162654317068, -1.1652336216132932, -0.5091331418307798, 0.2622669379401657, 1.9001754505114021, 2.561312451500155, -0.8430102165752864, -1.238018702707816, 0.1831837592193635, -0.5838141903402476, -0.2821131398579044, 1.6378058204602703, -0.16139243145248608, 1.1843176460842364, -2.795007927571236, 2.118389780377255, 0.03533475048687443, -1.287753779626951, 1.894445464496666, -0.21852016361925422, 1.8228660571321813, -0.3391497473354947, -1.351347180583203, 0.254554169794743, -1.181487840515914, 2.7797932972636383, -0.9111787098196362, -0.9973866682742678, -1.129332763431778, -1.305524998531889, 0.3855765001411225, 0.919007833523856, 2.297023387373828, -0.5475317399554938, 0.21038264044352453, -0.805150364139096, 0.3544485144771367, 3.2936785159124757, -0.05607570143549141, 0.05183077646336877, -0.9837931242816195, 1.8317912544160626, 1.6767414265448903, 0.0526941919390927, 1.5559887878549952, 1.3593287299839887, -0.8360037980948201, -0.9407429524312727, -0.2711323631808247, -0.8606842243526787, 0.5053598796489429, -2.2639526817725093, 0.5642524297494277, -2.3918104969170986, -1.3718051340931734, -0.4460477315061516, -1.2676758716043275, 0.033204931973508996, -1.7601972851740524, 3.0860777885928306, 0.7198339564722029, 0.08020578570287923, -0.5629413795851363, -1.5051508560850968, 2.3723898997090886, 1.5258604844041188, 0.49606223239384334, -0.19174749777427655, -1.480171406403113, -1.214080029184227, 0.011531332756798955, 0.6907263215370558, 1.9120523407492425, 0.3474418327025001, 1.7242504762250899, -0.39587520296652856, -0.14558911208116063, -0.5056013967530341, 1.2739993069913582, 1.1741701477074442, -1.9879624762175918, 2.502502131249994, 0.12731959553963276, 2.388012013657552, 1.63921582898511, -0.220964333172176, 0.30608119470255224, -2.5089340773902187, -0.5401403712856326, -0.5426780296527725, -0.7624129199484095, 1.2961115537694152, -0.11565699640636451, 0.4491876112362964, 0.1792707036378332, -0.6346350477378819, 0.8236797898577478, -0.1599744435530057, 2.052956755555579, -1.6079879310176106, 5.1614342852756, 2.3523104288524483, -0.8726350745983422, 0.2595320977994366, 2.3174430185224755, 1.6435791865276521, -0.4602081039476262, 1.6433345259098049, 0.30833520566048367, -0.6432062142208819, 0.6099447792868876, -0.13653531200794314, 2.0930794532809247, 2.1586873529294865, -0.5632272137035917, 0.6701434485421713, -0.3236448810958208, 0.7265584768959151, 0.45035925498983503, -0.9214967813684927, -0.610765063955115, 1.3701224419083091, 3.0334958749871825, -0.777067515995317, -1.4139504441339175, -0.2479541694274704, 2.1526726476177407, -0.28889047341577195, -0.9855193131211454, 0.19232884955496796, 1.6165903939866266, 0.25130274880085246, 1.1208637035572904, -0.1555829996850176, -0.7999043247567659, -1.1487947039136934, 1.0880503772288446, -0.2697211747543252, -1.0438170117326198, -0.8927948263855962, -0.5614661839029097, 0.8249030205562486, -0.1830796313840858, -0.4948703791281888, -1.928735739769999, 2.6738715401968776, -0.683789555543258, -0.6299799944444239, -1.1505870061009957, -2.3000662926541957, -0.04983103867020712, 2.783991971643548, 0.15249710350399048, 0.020638140340874245, 2.5099894606538036, 2.5165708480706828, -0.6005274088505058, -0.9903114281762162, -0.09858172841066269, -0.4177339711741081, 1.9110588747683175, -0.6404678339144209, -0.8333273871077939, -0.41350130024697024, -0.40701893649955617, -0.2544988398647593, -0.8543961366185342, -0.7807077563406898, -0.3053408217469115, 0.8553273497808743, -1.1363498164630381, 2.0883502054143923, -0.6120107380703375, -1.0416108196975686, -2.6783160453555337, 0.02857320642890477, 0.25213062428289096, -0.28192189910063936, -2.2633257757334566, -0.15675747566669154, 0.058331843081522075, -0.4496219379875708, 2.118558560098491, -1.1962132846333406, 0.6046719061382817, 1.946746107960669, -0.39676211006713535, 0.525985216405305, -0.3451411978806362, 0.08456402621944499, 0.4775770120701025, 0.6990585332523298, 0.9777920761492035, -1.2743736370801786, -1.3373257774124514, 0.36294064021815486, -1.2596368312770483, -1.4224003545926263, -0.859051409094474, -1.0359098782482175, -0.4367396882205678, 3.014750539414868, -0.7129561385803982, -0.05391715306415897, -0.5299713539384938, 2.219691120319724, 0.5574792370445592, -0.44498987757215935, -0.28612602451656854, 0.8167112713243918, 1.3797703513370232, -0.10082817519208463, -1.0648963785507568, -0.37309092662369364, -0.42832638414704993, -0.6143807036440758, 2.536758694071576, 1.2065714221434962, 0.248241947144966, -0.7222081182691337, -0.41019580790729426, -0.06487700079667594, 2.524273200257715, -0.1000506292793889, 0.09127810329338305, 1.5440395016351856, -0.7511462613068698, -0.7897031585537131, -0.9065672634815026, 1.0701888016418952, -1.0400781235371945, 1.2806846914354213, 1.5434805639588485, -0.3458476205215811, -1.322374718057547, 0.10703370128315035, 0.33679925403148075, -0.20749513570618722, 1.2630544337530623, 0.7794262962628852, -0.23422576523467034, -0.43440855981802684, -1.4957461664112157, -0.09874302965414523, -1.6753696186584672, -0.4476328568670502, -0.026277871725424236, 0.1633710647234821, -0.5799308155596865, 1.0927059604499596, 2.6367742519596047, 0.578242637561312, 2.022335594181429, 1.615746588513523, -0.8248803237373372, 2.2291391481753267, 1.270662062320552, 0.48842374170549396, -0.27468498613670667, -2.1627743150715, -0.20040947826694533, -0.24377375631406226, 0.00901822592992882, 1.838819935648704, 0.06873240423648679, -0.5099206594405843, -0.8530102334066674, 2.291733462320255, -0.5921470723646357, 1.1704536775473957, -1.035560737076189, -0.5587101323106322, -1.049461368127336, 0.6609886448922613, -1.3193023900694874, -1.0846418388868138, -2.9618601778511513, -0.545519027324079, -0.35084216744138785, 0.8773764499360254, 1.4105051447503854, 0.26880306136832394, -0.3061227952376645, -0.6984740036549115, -1.278330552378696, -0.35714012956781765, 1.3870662874336164, -1.3708254872018395, 1.5600481901833179, -0.16319764432599837, 0.004293068609054972, -0.6031295147217344, -1.0569606507491107, 2.507709770181546, -0.18412202215473164, 0.14119212190652036, 0.1356104305182587, 1.6621494746294803, -0.5545572077682026, 0.7968101651419468, 0.24444324670333217, 2.136058268560471, 0.016459742226294816, 1.7915686763019407, -0.475059355599458, -0.7170391967280287, -0.9817324631325381, -0.8666975319534901, 0.82546618264012, -0.3325545256865311, 1.5027633186232312, -0.4410111632447663, 1.6608068033303687, 3.0485476067626034, -1.1014372433361184, -0.5601892316523842, -1.2379565633187606, 1.9641223505732568, 0.7221768224603846, -0.7533684376417865, -0.7736908089748641, 0.11596636034045642, -1.0052548354891762, -0.6709504682086502, -0.15421731446830345, -2.454579089199384, -1.0139692043948265, 0.15279541251393722, -0.5752519521656428, 0.16165812955844513, 1.4771034083676118, 0.0011918005665096328, -0.7731943608694074, -0.604473634884787, 1.6524893881286802, -1.202924785755418, 1.2577281376770224, -1.0659180856005062, -0.5255667486435565, -1.781384831604589, -1.0043870858583737, -0.5878122807064065, 0.9211487430803526, -0.9489964163233382, -0.7032785587589497, 0.7213711002427582, -1.4304823922647198, -0.2406204700200444, -0.8907729185576259, 0.10175275086256516, 0.5777643882695481, 0.7938094289551817, 2.333953234446007, -1.2349589407498753, 0.153528488035391, -0.460911618015129, -0.9348665628531297, 0.4099404665055773, -1.0314058352649111, -0.0038891715062928977, -1.2923573321043555, 0.3684879937963924, -0.5409144569242199, -0.7828410726106539, 0.5901181247891065, 2.1038209380120536, -0.30381727466754976, 0.2843451518815505, 0.18682969441290273, -0.5115756688877182, -0.5915906142654065, 0.11642415820548686, -0.9322486512283367, -0.29631831476564235, -1.2588459574393767, 0.17123274089215104, 0.3084343188903221, 0.5339283922571952, 0.4544511030252516, 3.0099965978311563, -0.10481754022277616, 0.0351316513020554, -0.6220105180388288, -0.04574710349369627, 0.3638491820003252, -0.289214755929141, -1.7544660274165607, 0.2999962052615985, -0.32751046258612376, -0.7242408551308787, 0.6241315930637739, -0.42255735975646924, 2.843641959427346, -1.6038493113230097, 0.2488353898703435, -0.47950407910465664, -2.2350973601237634, 0.29985003804080623, -0.17192560194184847, -0.28863358010990553, -0.6112722631020256, -0.8159422411270465, -0.5595199517257333, -1.3177934535204388, -0.35213294652632043, -0.8185388416146215, -0.7401756347158398, 0.15986814887128598, 0.9006625606488549, -0.09379998076320363, 0.8203213416018983, -1.6111704302119547, -1.3252953048899994, -0.839260249458332, 2.6462173481618727, -2.2009927053819913, 1.7258018461532536, -0.6837015612836528, 1.623945062380211, -0.6535973995301416, -0.06849128673672818, -0.008659430205330356, -0.6746340982152345, -1.3921765457409452, -0.5301338650655737, -0.48101362843688117, -0.7149051175048651, -0.759092334354738, -1.7325311488952895, -0.19525048670445058, 0.21800825465646395, 0.6386906462404547, 0.08406294349778032, 2.4153507577440796, -0.7090883132700648, -1.6792463768244563, 0.9366437439862118, 0.44876563706354167, -0.7359324515623484, 0.35737316532380603, -1.908627559847478, -0.27401784464998097, -2.8494665228912925, -0.9107050833429694, -0.43385966132697834, -0.23961778587247, -1.3706355368024419, -0.02442941339890268, -1.6048676133795947, -0.23258285743135523, -1.234802999777162, -0.2907807726781388, -1.4017360250408701, 2.5572478949858986, 1.8389036127603469, 1.8747668919399734, -0.9017577747935225, -0.10070131616046864, -0.8716633646230908, 2.6311130858334866, 0.4170792284904122, 1.0785774945267441, -0.08416893894017119, -0.20050528094035266, 0.48656572202980725, -0.6883935633885938, 2.198648113503832, 1.781293247312042, -0.31765082145557494, 0.25713800693976663, 0.26799568071766194, -0.534067262691374, 0.5874975075512673, 0.6380512910384646, -0.4887107623455931, -0.3840170330175978, 1.0624475035787795, -0.16564969354357734, -0.4596757258674126, -1.15755940207921, -0.8766463936510257, 2.739004328670702, -0.17846975156133785, 1.7080784947114553, 0.17863506304289348, -0.9801919496983024, 0.87445804103618, -0.826555914322336, 1.6758346479646766, -0.15769038475531558, 1.7745548358731853, 0.29840230454078387, -0.5082394244715898, 1.662715225987786, 1.6242572002577145, -1.3488004411342396, -0.38478259872005943, 2.304928398237487, 2.156834913786789, -0.8464089537617075, 0.7982798830764564, 0.7618370500671859, -1.2543294911931568, 2.2737538971027016, -0.5833342328500603, 0.08926274355147854, -0.1057658483221622, -0.5145028514729888, 2.1667919907823374, -0.24385783383449322, 0.19891242523545818, 1.34557748450504, -0.4343166743598002, -0.8378632664036713, -0.3245156464433528, -0.029125212378986364, -0.5428015692409365, -0.6949843250564505, -0.6463260860056356, 0.554537534404231, -1.0949902197386354, 1.6707507949629956, 0.29178508455389396, -0.23760176626828278, -0.4595978809460756, -0.61722792520549, -0.9610682446209683, 2.3237244420018723, -0.10042346085380993, -0.2536217385530168, 2.55447538644857, -0.08749359299313812, 2.532828234714013, 1.2780278910440226, 0.13120849627060757, -0.019369247807976872, -0.06702803638528115, -0.9233973540669795, 1.0068596289083724, 0.5155174138623723, 1.174553868151305, 0.45476662625942377, -0.7483510478642688, 0.5149196823842028, 2.4946835762673505, -0.29365340940233264, -0.11218755640995948, -1.9518259256472463, -1.0435189911327618, 2.8038104030205666, -0.6859372618570955, -1.0041156775310676, -1.4939769640088087, -1.2510558515939816, 1.3374402644681087, -3.305209159125507, -0.8668206987292735, -0.9233744760704105, -0.22331050861406165, -0.2584514957959445, 2.41163493108286, 3.1459849215473934, -0.27958190738460853, 1.8002528587026678, -0.5965625497465978, -1.586143172868583, -0.7007970204426278, 0.23273058853406725, 0.4967723920440735, 0.2207287511295978, -0.951830384682019, -0.4394099256984751, -0.21274484032612564, -0.07688003391869, -1.3268973862401627, -0.26330624853711965, -1.1598375823089324, 1.6795100617867786, -0.858638459408529, -0.8875080876055166, 1.7660662046493594, 1.0374342573867485, 0.24601052425880185, -0.021100110346694234, 0.8943732248811096, -0.1962847607833867, 1.9859392664387885, 0.12805036148024698, -0.6544007935887786, 0.21919095797635588, -0.3500338132145689, -0.7535346797295299, 0.15968381567666376, -1.2980126401897965, -0.18825600207318283, -0.9882977441333404, 1.7917300297680476, -0.528182057212356, -0.9923016267813933, -1.1732327003792158, -0.6840361867047937, -2.1754160800948235, -0.3295241445827556, -0.46567048102820713, 0.41714344986129015, -0.7806673185380903, 0.32187982873395043, 1.7220583941802103, 0.4900065354985295, 0.6226705577858521, -0.6896032286038039, -1.8530770501031775, 1.3763496739118368, 0.20467370267937762, -1.1973664882218065, 2.597903676643876, -1.0736172641421124, 2.9434375078885053, -0.8563080902050633, -0.7368472829735577, -0.5437265393381542, -0.8948838102434161, -0.0625990034663449, -1.816364114729639, -0.018036078837139306, 0.6531236744282335, -0.748809391214764, 0.7043485025484653, 1.9766505705254573, 0.5582127770526978, 0.3035277179500916, 2.1228453179921347, 1.7330913464077453, 2.160036136039005, 2.996603791769596, 2.1557246178758116, -1.1731742860236487, -0.34914690175956437, -0.6140568952444229, -0.2432574580328791, 1.0691377499667174, -0.5590665504506674, -0.4627439920032036, -1.1501867532698513, 1.2943374753815928, -0.7053610553629067, -1.4227281070352036, 0.6925839116025233, -0.17863266335726907, 1.4991889296539282, -0.39404953027240214, -0.9806358259155828, 0.097071327111819, -0.03174542675930963, 1.28178157992657, 0.12346269734413544, -0.7403886341261614, -1.7013119659265874, -0.060023062048697194, -2.689654282219936, 0.35686653386077966, -1.2007457575484581, 0.7040905982804891, 1.9606201045998757, 1.2044126023329327, -2.1045525056341527, -2.6457122213608466, 1.3150854757444321, 2.137473241183307, 1.5748399014790815, 1.118685674663455, -0.5649194161202926, 0.3073008354878128, 1.7729812109824818, -1.118367439556669, -0.14403675118750764, -0.2646114257524564, 1.4216860763697472, -0.12142636361699434, -0.6428346555281149, -0.8516666831383083, 0.14460232288984073, -1.0605588239951727, 0.1822031783673887, -2.008312836949111, 1.574122367051122, -1.464589055553149, 0.7157321864107495, 0.9486383545668894, 1.5514533115197855, -1.0623195434523005, 0.316776256213005, 0.6225685692692717, 0.11407327856539014, 0.4327931742931234, 0.10301715601406543, -0.3843645474712569, 2.4256412379116385, 2.2243511671830993, -1.050913402660734, -0.13363590555600396, -0.6874991488440756, -1.6319187430488304, 0.2551755912894043, 1.85469695621405, -0.45838576940022974, -0.9845644806180246, 0.18790145135630232, -0.40613090682921626, -0.4672515264100577, -2.1826836565223577, 0.06524022910388333, -0.474906725954498, 0.5096807351134985, -1.2474001630525773, -0.7509636541800112, -0.42326170734967733, 1.226400309995917, -0.25502766062364, -1.7822373658896526, 2.536680002304188, -0.7496999738457526, -0.027065323712514664, -0.9831428011182866, 1.4816564461572357, -1.5765007719942794, -1.3223812883291841, -0.12889422270698392, 1.6612797106578114, 2.3581803891588637, -0.331987324039385, 0.632847627437688, 0.33329084302145956, -0.4671736614624021, -0.08785234330080136, 0.7203383616331689, 0.026793972227198964, -0.17702340794441362, -0.7277527161137082, -0.7967571043628977, 0.3501104411927261, 0.08691489246802782, -0.17093896793930183, -0.07966111490795358, -0.620400774081367, 0.33667656078242864, -0.4157159736670413, -0.9565101730614005, 0.6150828611045358, 2.958182368800935, 0.31354904608158657, -0.14386131879754074, 2.154457349821171, -1.4832680386267743, -0.4210778540782818, 1.6040684596289494, 0.22123758995143675, 0.590230419048293, -0.2480511970895105, 0.16455966023923507, 0.26152731401278007, -1.2499774006427933, -0.25892617797796796, -1.7483858959828686, -0.5374891238652557, 0.7777270351077143, -0.36598178286884914, -0.5423643728371329, 0.6025107681161372, -0.5297408016142225, 0.42766282626316454, 2.8818064685568836, -1.2199599044308511, -0.9290795142165397, -0.8630866293177007, -0.3936567147092975, 0.5846431526833764, 0.5535925684294685, 0.41990463817273077, -2.396485196665218, 0.498425676305556, -0.9661754807977394, -0.09487638732508821, -0.1665456895451133, -0.29048012592071604, 2.5227034584514874, -1.1800347647192313, 2.47459299013097, 0.9278579980076878, 1.1609539997303007, -0.6264254874570161, 1.6364482667853297, -1.1908655072811432, 0.5737632150316834, -0.07746197059354192, -0.8784544287905532, 0.20953435793631928, -2.122589471063212, 1.8433194861806743, 2.568752542924475, -2.9359016300706746, -0.6886913208616597, 0.5835420239247783, 1.7081833922270044, -0.6891004832535511, -0.005764721498989526, -0.6967047988833298, 0.00502711480634167, -1.0466577560580412, 2.277284885078664, -0.6671307483148917, -0.3877708525838485, -1.3231363979242232, -0.5347611582134745, 0.6644601413189118, 0.6280857054246488, -0.0324994897551616, 1.1258728181469297, -0.46917958257568126, -0.061658436069404896, -0.4059878499609783, -0.9400235901576334, -0.9196440872546477, -1.1428198974646175, -0.44647956238712383, -2.0805921801388316, -0.27431557814476576, 0.27255601990320244, -0.12117525610648634, 1.0745687854425907, 0.13443511907537606, -1.4689800884883302, -0.041990700952298295, -1.4274685134543696, 0.41387782563695197, 2.1080703405113814, 1.393368478357357, 2.934571512313797, 0.7319606463769649, 0.5539980521383076, -0.4986269049078376, 0.15643374415379493, 2.6758531552757647, 0.562970166279489, 1.5450291817420565, -0.2608496348827265, -1.5477220463740842, -0.8170359459014729, -0.16820683733892353, 2.279910777448181, 0.26581443982075503, 2.3643088030355286, 0.00117224316570667, -0.018670549873761412, -0.5251562702088264, 1.9791733745177695, -1.3448456884136404, -1.2899806779385243, -1.5637142373180684, 0.06111649563492612, -1.1038016666515, -0.7402903764060773, -0.2986104313130067, 2.2820485608548142, 2.3320040786665643, 0.5397253516957863, 1.4524565637521756, -0.8786039760044472, -0.7472904677832503, 0.570893333807271, 2.6317754314254396, 0.2969992596253592, 0.40115298054552273, 1.5309102175892135, 0.13232743051291046, -0.03845499984214285, 0.8762519862540952, 0.2724747431708449, 0.9465562902445402, -0.14688066769720481, -0.40008898575327784, 0.05407370450736585, -0.7775303969995406, -1.1834747003446173, -0.4852986311502398, 0.6286331328240112, 0.7806160861307834, 0.1998481144101886, 0.5577098902424955, 0.43839923991781476, 0.6203039423355539, 0.3858057657174398, -0.7266946120106955, 0.03848934724699804, -0.3018079781535863, 2.277754514112797, -0.4650297947202222, -0.32714027243347243, -0.6491696835074033, -0.46674938542232025, 0.6871843028243555, -1.4152692940707698, 2.2658234839508, -0.12157000245380065, 0.3948920828221957, -0.030467388445928306, -1.9181505846898776, -0.4827484950685643, -1.1455002028325039, -1.2342519280352156, -0.8085792820832859, -0.01952429191872522, 1.8852859851053676, -1.5133289064150035, 2.1809102620342586, 1.8517114073090073, 0.05457253680135103, -0.40724182780770257, -0.12153303112796582, 0.39256629089839656, 2.137393793103849, 2.2800233954575284, -0.45387016987467127, -2.153024924334516, -0.624530598894996, -0.2218623352567346, -0.9844507640926194, 0.7440996065673772, -0.6182690590520092, 0.5572164324056472, -0.6855925852800768, -1.9511338237886293, -2.3103485512381794, -0.32901688307619226, -1.5635046127639007, -1.3461308331450907, 2.5506036419220948, -0.09536409931935283, -0.7151146155763145, -2.391351694726865, 3.0685691106290367, 1.0625770140208324, 3.3223607290490875, 1.1277949100714038, -0.32511805282863027, 1.6351326199388119, -0.2982170135503449, 2.1660401433340573, -0.6076448155838163, -0.20177998030634064, -0.10529024130756519, 1.137003540694016, -0.8203028561449832, -2.6341437716895038, -1.911874414896809, -0.2726236715530963, 0.058792588827289126, -0.2745649929631476, 0.8169472405371969, 0.33857591746362675, -0.7439759684601661, 0.6086528068477006, 0.08038114970443669, -0.5934206521395335, -0.19399123523373207, 0.8953001799142564, 2.081934084094434, 0.9358641269640393, -2.021123258219416, -0.07245091231938575, -0.3743339529685798, 0.26939593164321174, -2.6306234159208204, 1.6220549653327512, -0.44160489562153254, -1.815186452527417, 1.5278843212180722, -1.2546519054080751, -0.8601758463555519, -0.20626862194600074, -0.10573304714998205, -0.09354250370376171, -0.6942467733187693, -0.5968477710219897, -0.2471399643158751, -0.8847414220234903, 0.8471028300811608, -0.7296624930091262, -0.5153106273842083, -0.32676721709484796, 0.1301251994551466, -0.019104946232873097, -0.0039977810361432305, -1.6326134600579274, 0.20993375305720102, -0.3582171809480884, -0.55867444484505, -0.5021198098475137, -0.46585293504232705, 2.417360424249168, 0.8668507049410562, -0.6871843220457656, -0.7813702428270425, 0.1203226713784497, -2.443078800137546, -0.4920422274312156, -0.11248540272630443, 1.610674949836483, -0.911856940775205, -0.20989398932782985, -0.37855691594059004, -0.4653186186685128, 0.07756278302311628, -0.45082291019266185, 6.130644452395722, 0.9953397995476856, -0.3692301069165395, -0.1359569099429541, -0.22690210322416607, -1.4148596262079645, -0.9725465664600522, -0.3042794326723508, 0.8205463909689125, 0.07496632231388964, -1.598306771620133, -0.3537119129115538, -0.3189143368583147, 0.8692174966003638, 0.023204020050994426, -0.1321908098540886, 0.17150333617750252, -0.0795318778263787, -1.8142248037321336, -0.36797620450536533, -2.1375118339325736, 1.357430348134484, -1.215626083576666, -0.2247812760178379, -0.34648577054554786, -0.017189396478305863, 1.3603565564052633, -0.621208156450738, -0.4874997129985134, -0.12852351651585125, -0.2905101462303857, -0.7047971976425254, -0.6344808134592369, -0.5561481079225616, 0.40427003380875554, -0.5639589367762741, 2.45522968153212, 0.35877174428647146, -0.6354052134859243, 0.13675187257316737, -0.40827838163477304, -1.0979398777343388, -0.9285602489578576, -1.85984658588373, -0.23335681689118115, -1.7322090873230216, -0.6704181138803681, -1.316276768443462, -1.6130813134307076, 1.7432366990593218, -0.24391800135505812, 0.24396102339247924, 0.655587678189284, -0.8380398807068301, 1.1294489256561846, -0.8885363636724314, -1.2718810873933466, 0.0351247099790928, -0.814185735524983, -0.7674531464161474, -0.328097323890424, -1.59657166332295, -0.665275451321356, -0.5616901788417622, 0.24278172876366208, 1.4938749856729787, -1.032362748006156, -2.2342727607701036, -1.2845362579120942, 0.048199652562467665, 5.243699453876289, -1.5113402264017792, -1.4154256616569685, -0.3135286520698906, 0.11718435370235991, -0.28270026277916, -0.12744436284373967, -1.0446170194968916, 1.889203481269668, -0.09161024666868335, 2.39003603023224, -0.7702853968941787, -2.5496945617862914, -0.8147759581943149, -0.039459008533175834, -0.22410923248032075, 1.52004610864925, -1.0612758520454468, -1.0825045540420697, -0.6543750159715463, 1.2364309665498927, 0.1405185935392124, 3.1561164306770877, 1.0248137904745036, -1.198097398035131, -0.9331363348633116, -1.9712339662269556, -0.37181991752212695, 0.1900645583629548, 2.1935642189396694, 2.065738814309528, -1.4877933144941191, 2.0229983361899935, -0.9736670955487884, -0.09006233496843793, 0.3358484570659527, -0.23208292124796107, 0.27847701233307726, -1.5132736483409615, 1.476226398817434, -0.4760678074686768, 0.5794433917587772, 0.2406904642824636, -0.03898400899422815, 1.4922672459382742, -0.6127769402482517, -0.8714253017703331, -0.4462307673971775, -0.12623863033629187, 0.8435058038912407, -0.7871915940498294, -0.6483899186865303, -0.5440834436289042, 0.3048361343363799, -0.8326524342662451, 1.4264062539118831, -0.2952736690578093, -0.9304529334822584, -1.3357002177312378, -0.07743406831679393, -0.517880832427512, -2.1315235380587594, 0.08476880865424691, 0.7155978932589643, -0.7419861058829869, 0.3374336613056883, -0.733095017910375, -0.39522712665906967, 2.330816750160944, -1.2164842571588061, -1.4448323856591534, 0.04326324948340838, -0.8974592962846493, 0.7716253444134794, 1.9203949711619612, 0.085887452668334, 0.5733858144198066, -1.612109087223288, 0.2863487948135312, -0.6711249017473278, -1.029391567655583, -0.9088340801620672, -0.9683278694278983, -0.5801948164370653, 1.2248968089392454, -0.07585040424329716, -0.5997975756963685, -0.7131966981044436, -1.9341951008046907, 1.571090493211874, -0.1842628561918505, -0.35389608641314874, 1.2363665496549099, 4.0319947040841395, 2.3048186311035392, -1.1409021307686247, -0.4153010152153054, 0.13177643985073614, 2.1177581599931936, 2.682213522924014, 1.554083266261481, 0.2622607055859198, 0.4475305640906386, -0.6694941870054826, 2.2091063356249347, 1.9067803646824193, 1.7510678279212113, 1.5075344022895065, -0.48742774541339196, 0.15175674653316548, 1.9538074088343667, 0.5616346224120046, -0.20810031148460256, 1.3981161031327074, 0.2047163689215604, -1.356247441816529, 2.654135865252712, -1.3244298060572959, 0.026228400528488786, 1.603698592346522, 1.4322354109885238, 0.6620978236136328, 1.372138965526546, 2.7479882651408305, -1.8331928335695429, -0.7052595679011918, -0.2723101165349009, -0.3717964753022312, 0.3968052376475237, 0.7601126443029663, -0.39533022249475214, -1.231263420252669, 0.6138058191759597, -0.7009959520661811, 2.0794079987191667, -0.32382035754322486, 1.3496850946260213, 1.5098007197796588, 0.11019813894625795, 0.4914723187701519, 0.06162231523823848, 1.3903937491325777, -0.5273792185065335, 1.2138128009899174, -0.12625582187816056, 2.186401532445697, -0.8897103748368128, 0.5269536603748876, -1.2946042022309805, -0.7875968926639896, -1.0010031695687345, -0.6203831566057733, -0.4690031729410021, 0.09667147423945446, -0.8347319882574181, 1.1559384836459248, 0.06478019320544215, -2.4677809180556154, -2.104451915493527, 1.9238632216299791, 1.0084170166198079, 2.3586866004206573, 1.7833387082116208, 1.358073758932674, 0.8310251087979491, -2.3651694902648464, -0.13035300745338105, 1.042305366765613, 1.079483561442352, -1.9699161128171916, -0.287860606160836, -0.3358529409276283, -0.5212393928662398, -0.7610617621964096, 0.5980208245900865, -2.4597127622254633, -0.48606460243912525, 1.6584710962804174, 2.4250116145559946, 1.7299814192272807, 1.7112757225745394, -1.6220255266691128, 1.9045330024390112, 1.1983408395573292, 2.8378828374874847, -0.8145736127169039, 1.1158453447174328, 0.8212885935158886, 0.056656983209286145, 1.0370399650593096, -0.46121340202330047, 0.08735280539868052, -0.807281359435121, 0.127825057585134, -1.8943909722805314, 0.07934158162030985, -0.8473530124629958, 1.411810714848491, 0.9962997133167141, 1.6976585904528843, -1.1676190043678862, -0.44913737719260893, -2.3020495822189146, -0.8182580387529704, 2.9345296388021755, -1.151182093711762, -1.1881675945454317, -0.8495179720913179, 2.199528942772444, 0.9613335781006621, 0.10890717818307374, 0.0477661436131182, -0.7799179260300664, -0.3696682025428712, -0.06116921238299971, 2.145762220086095, 0.4781665037328796, -0.4997391589394098, -0.20279815528186096, 0.5110489207035162, 2.451059549684091, 0.12106907114262123, -0.1720325535258034, 0.3098947458732424, -0.06923850022162692, -0.35984977244191596, 1.3352139880896343, 1.1346261305181948, -0.24008151622695634, 0.17196843304642254, -1.1296792325911698, 2.2488399838796056, -1.285898089131965, 0.5022576143858789, 0.4636184610985854, -0.6580524744209321, 0.48102979153192693, 0.13424803601744556, 0.25845723741234605, -1.0105190742559254, -1.789136638155861, -0.40926605301438557, 1.7094253549946679, 0.7388508345689863, -0.09111756769103056, 0.032060608863384125, -0.7455711083618479, -0.18067076175376776, 2.2875704357229143, 1.1366249148124357, 0.12122386426891167, -0.9086527544719994, -0.9070068926304603, -0.03616867693274951, 0.36983816448711937, -0.91962517129847, 1.7959624686136857, -0.6197236534767915, 0.3211613318372737, -2.541155892942748, 0.01586593964678072, -0.5223213504894172, 1.252867665308631, -2.2605908589069963, 0.09864615276548279, -0.8147930377939461, 2.3233864685416807, -0.22091845595998, -0.09706581756306353, 2.3443361864194934, 1.1132323196160843, -0.5038621873887762, -0.3654350544854695, 0.005414529122740728, -0.4892589520522531, 0.030661536604252415, 0.8252551895834931, 2.9343667357279086, 1.8212812453797584, -1.6191827297697579, 0.14109962729277528, -0.6780650842588423, 0.057918641454064446, 0.0232998878091345, -1.0263898446224933, -0.2607165380226308, -2.514700620660894, -0.5857846194046099, 0.26724876740740794, 0.3521178729341842, 1.5766395973183038, 0.6642158035092907, 1.6237093154688194, 2.2323407297743127, -0.07886849425241745, -1.089267262531192, 0.24163017716395785, 0.32168200598893515, -0.6378976782047628, -0.7095616614118125, -1.964254468292274, -0.0687050266358766, -0.5623827933064331, -0.8018259466537924, 1.0132658055910122, 0.3252066833873797, 0.30870699146605507, -0.8270202561231065, -0.8707979555936812, 0.7783356524128461, 2.5477203397253496, 0.5160954756121556, -0.9314841238132998, 2.0312980651143464, -0.3674385952081824, -1.9481834992949714, 2.0749378018237046, 0.1471653302159589, 3.4310892601651, 0.8667846491424337, 2.1005122164369614, 0.9083392203434886, -1.75961620484107, 0.10775396975180439, -0.7918640434417478, -0.7461890967968285, -2.0685807783465235, -0.1757536102192405, 1.8969284387217433, 2.2933805511570284, -1.1830545030540696, -0.42227686292466937, -1.9693233838794069, -0.25458081447035935, -0.3351673944118006, -0.38021782790083924, -0.5987231174888081, -0.3476802736205758, -0.29940793294035845, -0.007187238786407702, 0.5419311535948257, 1.916595711172686, -1.4493694457802608, -0.4795090656532883, 0.17223771423902548, -0.24916903151469974, 1.2237212949571328, -0.1686113184552932, 0.5834110592099161, 1.3597597401495427, -0.27048946569735055, -1.2994359315662245, -0.057624600828431176, -0.9613818594281404, -0.22001407924624974, 1.1473372119951974, -0.3606392149197807, 0.8581173483754463, 0.09578934837095528, -0.5054363516877012, -0.8190897535624698, -1.439212362898419, -0.25541199993531877, 1.9883195364070512, -0.11485430966574667, 0.6065813464184103, 3.2628656310840594, -0.015034040447293496, 0.5455723374448355, -0.2155391696693263, 0.0734099532287792, -0.49360527703268664, -0.6696883911543495, 1.758384704166745, 2.4550413538299667, 0.20159822431169813, 0.6993114689048562, -0.6893380380542163, 1.961533372867318, -1.0645486139730513, -1.289972352254552, -1.2409395627699875, 0.05907345750358347, 1.32683128149126, 0.24668214617725953, 2.780796168905506, -0.3805914592654832, 1.6288731496195843, -0.43088224808066383, 0.5563976443784641, 1.839335936323874, -0.6916677257410045, 1.7875750230357035, 0.22394896010024776, 0.1242107948398493, -0.23891492873175538, -0.49244078452223056, -1.244752718045657, -0.7127459156349394, 1.4724743690745945, -0.2516356798671325, 4.438142969114047, -1.1257584608912514, -1.2667296967555, -0.20555157727484008, 1.66758636109099, -1.5987382440664957, 2.122657753709828, -0.3865958972041091, -0.5204330228032954, -1.089222971692389, -1.1977381750436107, -0.4845993058766063, -0.04776814293455715, -0.2677099488196202, -1.2195065755021617, 0.4162260912843646, -0.821975928466686, -0.4724142183399042, -0.10673858603566072, -1.76033050681551, -0.3276233250085732, 1.1653369315551525, -2.3172476771300214, -0.18145488623347983, 0.10861746514789396, -0.3819420528469629, -1.3336210557383847, -0.6180936434066286, 2.5323162278862386, -0.8058649923281994, -1.6353940769205608, 3.002218563746683, 2.0049644731685454, -1.4040739397022806, -1.5491305704893055, -0.515908397897973, -1.333364882250854, -0.5765269898739118, -0.8737337852891931, 0.38529815707886683, -1.558318896337261, -0.4633341642467857, 0.4211475964382026, -0.024439476900972482, 2.305891659726735, 0.0948519508545114, -2.350452500007327, -0.6634545512921536, -0.47262611676820176, 2.7677045498242854, -0.8219685247602343, -0.43710839631678383, -1.9263128572186472, -0.12291430815907074, 0.13627658125301276, -0.4402532266056961, -0.04421248206935685, -0.1995902484775007, 0.335886594639169, -2.005483636006975, -1.3009742015830494, -0.5701501052587458, -1.3793766280397348, 0.3498360295848858, -1.651986462687279, -0.07011989076345111, 1.2813402600742858, -0.9939501018568422, 0.048295961946655995, -0.7692580982654882, -0.3912983125824231, -0.7095965202300692, -1.9798414412217928, -1.2059558678466207, 1.6884009877125776, 0.054821474956901865, -1.3046070537077339, -0.633079495850573, -0.8301593984532164, -0.5530861363790261, -1.3991859530584414, 0.9255524496867091, -0.8631063950221008, 1.2555908068064627, 0.09341173984695868, -0.5501964903092061, -0.38838673772467147, 2.073908613011631, 0.19539867262019603, -0.2874007764229012, -0.34404067983696357, 3.4916105714014876, 1.7386214553352077, 0.2146139729483258, -1.065845405135619, -0.7521538686331473, -0.2130565489882687, -0.2844831881866942, 2.7584306153413762, 0.22666882646196101, 1.2076730384531205, -0.7327031086517859, 1.8485842179813978, -0.9232574184052101, 0.7771015516151523, -0.9420418949276866, -0.638575619668954, -0.6495138679665438, -0.7737424019976962, 1.1987847636496145, -1.3188041615576838, -0.2550945145055875, -0.29504604914114263, -0.10288397795167534, 0.8223274634372015, 0.6603638358968019, -0.0675056991516746, -1.7704255357440282, -2.6018040850560955, 2.673901519334928, 0.24073666821844508, -1.395259598909544, -1.3162609592863095, -0.356979447571781, -0.24356371393008652, 0.03469237962661903, -1.096816236661217, -0.14558521102922867, 1.974809565880446, -1.3357055056903795, -0.0697785855647691, -0.6219484723286435, 3.2348462302073178, -0.5560692152261404, -1.7677249136482274, 1.6696476945139669, -0.5970915196037703, -0.35710232897669447, -0.043392073754213445, 2.755228224992112, 4.855813131488592, -0.6802992668223021, 1.7141270827761619, -1.0134717926910939, -0.2916705875367588, 2.428421981296602, -0.12578955664189304, -0.15072160439717439, -2.788011015758789, -1.3777097592339942, -0.7808792149144638, -0.2685777330518391, -0.7511974570997885, -0.6588653881911184, 1.883787370355671, -0.38585960294996624, -1.4974832328616985, -1.3969527119310554, -0.30544245026645767, 2.0031531776165146, -0.1544510069385543, -1.2368210520121266, -0.40138087738671147, 1.8917778477522618, 0.16224398519010974, 1.415112074506562, -0.6536989817547663, -1.3550005154432565, 2.42083146277313, -1.4516865108890415, -1.870920418349254, 0.2545867896884736, 1.8937892010340978, 0.24580978077910207, 0.17222765595199951, -1.0574742869193066, -1.3053815105164965, -2.546661913409117, -0.2127807921486048, -1.9806500725496812, 1.3324089966228996, -0.47809964617474393, 1.6330311406574525, 0.5472250291927439, 0.5653832000538541, 1.3058585421157733, 1.0433476262177561, -0.23923136357245933, -0.542810575309387, -1.5431079590959442, -1.2286520808081753, -1.5733522716930701, -0.8730967966910332, -0.17986811168637334, -0.010492306499543616, 0.43957625372692777, -0.7452536494919442, 1.677468526087963, 1.8272615754151698, 0.3974932372500898, -0.6778767195507209, -0.6553350474335387, -1.217669041381438, -0.597459969363706, 0.757334182839251, 0.08253106830313332, 0.2809357687153198, 2.0772311012769857, -0.46523502864010663, -0.9834935848683377, -0.14359285596203003, 1.9827078452632958, 0.5931266143552071, -0.11273509930551877, 0.41557879917884877, 0.1572769099575946, -0.4964001060287254, 0.633466426287053, 1.8856114120255203, -0.5738830139535482, -1.8729364280171694, -0.9417182912828973, -0.4507227417304208, -0.9530664420381243, -1.2577724983618348, -0.12182318328399354, -0.21767872756275206, -0.18773204232487783, 0.5866797813604172, -1.5875029757108043, -1.4990275681512788, -0.20528217188999093, 1.9685076491383153, 0.685036360588565, 2.6601714228287485, -1.0088741529247063, 0.6926696020095456, -0.7661066626040666, 3.016182330544451, -1.6721693016556765, -0.09558235159738279, -1.3232296916937667, -2.3792875216323215, -0.7521687676194317, 0.9998275096703092, 1.8205782504123433, -0.8858253288195798, 2.087467180430055, 0.2361785117720276, -0.39860719566057434, -0.23517848199260008, -0.06623204702765524, -0.06579158982407302, 2.406629818277832, 2.3953217803210363, -1.1253239733584388, -1.125769570503145, -1.4314794899391958, -1.2276424443311296, 2.183758712605081, 0.10604174019747259, -1.7626335441384837, -2.2463115758558865, -0.9952539830496443, 1.9622424989348988, -0.311231608021045, -0.6376799304192697, -0.025090732572298168, -0.029172024247167114, 0.5595111825194815, 0.961681163066033, 1.8054867459962372, 1.4443457674854978, -0.3934857923734675, -0.7905864058671309, -0.2656096880675835, 0.2447982139883958, -1.8324428819946528, -0.7247559629267334, -0.7113345123757698, 0.22691351759313566, 3.817619204984112, -0.46192211706661884, 1.6775049073350572, 0.8101776554833355, -0.8212911856836909, -0.9719554393904435, 0.35663267903130336, 0.28242572403979976, -0.542110354088025, 1.2758455166844764, 1.9188897758906303, -2.740139576654017, -0.7070790368209438, -0.4769214120706056, 1.9929237469482337, -2.460350185194148, -1.2296510078282066, 0.1922696498336246, 1.812758440878875, -0.6895406431666505, 0.6866446934654364, -1.671751414290232, 0.6630576997892841, -0.5484375495110606, -1.395340936865614, 1.9415087744179504, -0.96208916725674, 1.5266991542604929, -1.0214009161574151, -0.20998467373866672, 2.3377306076512228, -0.45387554697734356, -0.16476044114770963, -0.4659288806187651, 2.128768312601903, -0.46197238826666637, -1.4207914174130887, 0.1632264974312281, -1.0435277239602017, 0.010024586266288903, -0.6504776869036422, 3.163990589696805, 2.216283134875588, 2.338182005382066, -1.350878729614464, -1.655439358290262, 2.9607133632465814, -0.5026825886250408, 0.2073307987113726, -0.2667408270095211, 0.47349463463394276, 0.9234240429939684, -0.48190015435076633, -0.6273182003626206, -1.072621910072889, -0.7118482983625316, -0.43945389328630335, -0.35894433400893644, -0.08449232226618134, -2.455109145507797, 0.48933851679721024, -0.2215306777426456, 0.18166402485316838, -1.0369134353724685, 0.6159027087534898, -0.7602687085693303, -1.0610996773424537, -1.6877319960866202, 1.342314884330878, -0.168326703418846, -1.6524759042025468, -0.30739205738462627, -0.3310057363196963, -0.8236324331563791, -0.030088824919779603, -0.23976875421741378, 1.020795264077979, 1.3571981311396106, -1.3180883583607352, 0.0835570485491253, -1.223110213680305, -0.49351723331065095, -0.8482376841105431, -0.22868456520196817, -0.6911555223281592, 0.12554795530252436, -0.3785641249791191, 1.3198113433706204, 1.9215245806628443, 0.309907986685134, -0.12059071224100504, -0.6071815281615368, -1.7576010281027368, 1.2854371914807006, -2.349519894774891, -0.7726033000960643, -1.9361826029178095, 1.309216967974697, 0.02559710590320316, -0.8226844194574185, 0.1630439980536174, 1.8806417596198464, 0.1926312722436843, -0.7226120731057927, 0.5453865754072513, 1.6519750503769965, 0.987499725889478, -0.30281840522702336, -0.3362398681803767, 4.135442552168751, 0.9647673883275293, 1.5328551153822771, -0.3627864167157249, -0.40639277575918725, -0.9041795325786797, 1.6234794630668763, -1.1022530405133009, -1.7272983997561064, 1.0249489452323242, 2.421841351031765, -0.43142876049955137, 0.21305165106727444, 0.5371017222603315, 0.04743723646269912, -0.3457297461416498, 2.5626478877395185, 2.2095040179871583, -0.795291979628347, -1.1749178266070621, -0.028022178510919385, -0.288387271279298, 0.14186533301875193, -1.0286951573741574, -0.5306551067275714, -0.5277931012044395, 0.8692492203729105, -0.9668196207615344, 0.34098372175575353, 2.455492653768812, -0.5185742673246614, -0.4231037090114028, -2.539736566034543, -1.6051803309812471, -0.14521350164765906, -0.33487694473322466, 1.7500730772778645, 0.4241871264829108, 1.0763384828136089, -0.8279712985485204, -1.1829171460648193, -0.3038683891440177, -1.2226602142149698, -0.6984858738021151, 2.1331954304328047, -1.3974000188748712, -0.7743470949324779, -2.551115300248143, -2.0195428075187345, 0.03554525622775905, -0.6283512759231042, -1.2781694843338531, -0.4545113686871652, 1.3453207037151662, 1.4980759225755425, 0.445093673990313, 1.1341175854178995, -1.283682034298608, -0.5200551902851975, -1.352044871259869, 1.0849672602496812, 2.1699420551121675, 0.3867236517179671, -0.36853185534339533, 0.5311127531665204, 2.7074960381821773, -0.7482313155021925, 1.7271548409280977, 0.12599663615699463, -0.34662460717200555, -0.6651761198764581, -0.07381159147051715, -0.6815603738966316, -0.4623117305160735, -0.9335903602808341, 2.711652974065687, -0.8800901028022713, -1.8897627068952756, -1.0127513113733444, -1.6398625783476304, -0.6411714841647307, 2.205388154646942, 0.7555016897506657, -0.6674042351654272, 0.07723190782325905, 0.3391719034830154, -0.32370736739911876, -0.5091679935758296, -0.28988334121481574, 2.2031687413262504, -0.04047131472758802, 1.396376174097931, -0.9334142841449876, 3.29743430001051, 0.11117124237014396, 1.7600931081258808, 0.026446341628511467, -0.01290310512288118, 0.19258778519939856, -1.3002435336754474, 1.139947609162231, 0.2881331104852756, -1.4155254908400274, -1.2097714258074066, -0.6707176395468987, 0.3612824033199941, 0.10512935647021632, 1.017468087779601, -1.893268949195343, -0.9245192187382038, 0.8171493926923029, -0.6382741293045752, 1.1031406740093694, -0.5308607406867181, -0.5535095083870585, -0.9853543331375599, -0.25181978206106853, -0.028814127378974323, -1.3736569963216894, 0.0875967206507597, 0.34365531144867784, 0.2628523121333951, 0.9535070965889367, 0.50903241581543, 1.093099463365036, 0.3387970167809638, -1.936909594685575, -1.3572548623647513, -1.3594968179869644, -0.44832768099161185, 1.2489590759763218, -0.17687054829201476, 1.7155858202447756, -0.25978197251843, -1.3014707335926625, -0.6177779730283024, 0.32901143862337556, -1.0820406001485032, 0.5171407646132863, -0.26796764664688744, -0.3908346154871917, -2.304080037337404, 0.20363371127449487, -2.6873897928791908, 0.1955715067883391, -1.6985396550955245, -0.6095389737984108, 0.43023119825734574, 0.2518349749981201, 0.19770891521926506, -0.9245341449948861, 0.2793366188665599, 0.004147692187462939, -0.8320304740275849, -0.7678493038941471, -0.4793725655546565, 0.37614416193912936, -0.16993222419955675, 1.31827791243146, 0.9102727956296772, 1.3711661539834858, -3.041915459804727, 0.16974117094103242, -1.0494949599077574, -0.4340573644320204, -0.6464591368147008, -1.2667469645454519, -0.16369037398310946, -0.4526509034468046, -2.501046848159576, 1.1067785803535748, -0.9411452757364465, -0.7642668178810564, 2.0621887202065574, -0.2115650500497533, -2.507491637179262, -0.7934484864125435, 0.13012842650755574, -0.3915326457345331, -0.0832458280812718, 0.17277637647916044, 0.6662252003610691, -0.5095073968207948, -1.0655748013016704, -0.24201310571338658, 1.9040472773603032, 1.92035712062042, 1.6618113590496517, 2.2140962648047617, -0.7096506311354462, -0.8840906167771773, 0.10172146513798362, -0.15292827964161215, -1.4179507841308945, -0.8928142033705324, 2.3650793718884953, -0.7060183136534657, -0.40817888121912577, -2.180307043993429, 0.1249126798897737, 0.5909779098886718, -0.3868747844395271, -0.866186828472545, -0.27430956360085046, 0.5606835824710842, -0.1548529672074624, -0.318332859564122, -0.4615528837706037, 0.970364796390907, 1.529553303985853, -0.3960486714308867, -1.491123784694769, -0.3976582334947429, 2.1671071209569397, -0.43467407171356814, -0.23573873699038975, -0.7251320310003764, 0.2941627608875003, 0.03955044019047356, -1.3075900698731526, -0.6209629303558436, -0.5400239889884606, 2.387255274988096, -0.11823470003796081, 1.446336267023701, 0.19001469067482113, 1.5124003516358506, 0.19113304030719327, 0.39105094472919905, 0.06424013187416337, -1.5296986049001329, 0.03323485969350645, -1.0267823303704242, -0.4904500938574872, -1.001814535673455, -0.33308701536217644, 1.290991345962019, -0.5263158275622888, 1.6644421699602148, -1.470700099400658, 1.4788405502287334, 1.014279776065357, -3.0234122492380617, -1.0933809424713727, 3.3356809812649337, 1.982792584323057, 1.0463351228313444, 1.260728566731914, 1.0228994485267715, 0.34276101367323314, 2.970905856102553, 0.6588400904572287, -0.3700567363897767, -0.6733278141566834, 0.4878423862821331, 0.08951183984447375, -0.8299564948657522, 0.013772651910317244, -1.197207671697132, -0.009351945691271705, -1.677815816537149, 0.2959157214550173, -2.5332120041842954, -0.17101475275584482, 0.5237016486518286, 2.3367781022597893, -0.7927696448426446, 2.9958410829946382, -0.3499497623397363, -0.589603928647609, -0.2880448070241462, -0.9264647906907947, -0.6904195026992569, 2.0608099767750767, -0.49896187314140644, -1.247129126544794, -1.4426531652999894, -0.4962899087087121, -0.8810568602284171, 1.8168817200101373, -0.35557235721412395, -0.21905662885607516, -1.1762416332371637, 0.1681013395207036, -0.8616072708385246, -0.1726582440510264, -0.5870442456313377, 0.35637482627856976, 0.034601129473021165, 2.311181667449256, 1.3432000957650252, 0.7565007547963333, -0.703520660693879, 0.17523703935325347, -1.4155809577164102, -0.4492055772623453, 0.4666666490463363, 1.5956518170580505, 1.3819046331196816, -0.0783715364972551, -0.36793201420000143, -2.3273310853158913, 0.27380303159401154, -1.4798344467063764, 1.7531267652065814, -1.2398091032542717, -1.2147960304315935, -0.4919768572999706, -0.552968108020957, 1.6636654258817385, -0.3341059701105896, -0.9325925335485128, 1.4453765551937552, -1.8701140474045994, -0.02587013767838316, -2.0152907377626903, -0.6808955106152998, -0.31709037729863637, -0.9948556999332745, 0.6101583510921909, 0.4299541045984673, -0.5416694974471243, -2.0306623458884934, -0.3021327843310999, -1.6195902089416931, 0.05989862269794568, -1.6997153174090422, -0.6511158209834815, -0.22246978390317035, -0.3424479079713099, 0.33429376898223695, -1.3056630542733438, -0.7397300542710287, 2.2300513105088577, -0.6261165509124433, 0.5954423827681211, -0.3264944120249798, 0.13199567341942758, -0.3787492781618264, -1.157580137200941, -0.048758857267806675, -1.7371649741346746, -0.78029913964877, -0.8553683479673124, -0.8253369183816727, -2.351901183010815, -2.8566580592145576, -0.12137600325807713, -1.843113230902256, -1.9129719794688207, -0.8244513588473581, -1.7981224336305601, -1.6233155642402135, 0.4709186063131858, -0.8006465675198517, 1.519068438316552, 1.4839702886842132, -1.2557163669537714, -0.8255744564506946, -1.6802467438623818, -0.7423065132576143, -0.9212404025161118, -1.8801359833130518, 0.39340156495137746, 3.875485927121308, -2.761087112737033, 0.15223931317651435, -0.6610619414104679, -0.0682970655263184, -2.0845371534283195, -2.077832075882114, -1.3520942763619843, -0.3588645002583695, -0.2651997127121328, -1.0176270008660453, -0.9437703067642139, -0.09604089370569195, -2.0075126161420207, -1.2240327020778907, -1.5873889052703942, 0.6471598607945815, -0.7511929541735666, -1.332437116232788, -1.0982956459276767, -0.03880603240465745, -0.5620337498991962, 3.0256746099331244, -1.5801198167458983, -0.048628135795771736, -0.49024760697133196, 0.11390770357644153, -0.17752407836617237, 0.2778079750764908, 0.4106361005356347, 0.016749890654792383, -1.787906813204722, 0.6452360917390726, 0.21222745678225124, 1.5404312309497523, 0.5022972810617415, -1.460529349641774, -0.8788871823030499, -0.1103518626579943, -1.2370396891018294, 0.9681175660909032, 0.18356867253076664, -0.5900978178383942, -0.4111243018530519, -1.7572821467538609, 0.37606501504749856, -0.32611530650403875, -0.142735974023553, -0.625252516033208, -2.3509379097249137, 0.5757778077278612, -1.00876699340949, 0.6828180473177827, -0.36270655196845997, -0.1257569106485793, 2.3694894671481257, 0.30520923392878485, 0.36964664597125113, -2.1012805470185287, -1.4716246416000753, -0.7908413911839292, -0.6000997019884189, -0.4206656609855937, -0.7996101504930334, -0.46377977347217797, -0.10807909441180595, -2.0696344171896857, -1.2269665987429041, 0.18217503436337582, 0.09300421368712772, -0.1192122905782604, 0.60557620010998, -2.3100334699836775, -0.2445660425908839, 0.11445986531775305, -0.2863733774256667, -0.20042225809998634, -1.0337336125804844, 1.5919494582799458, -0.42288922276188945, -1.1191835020728462, -1.059252251610181, 0.7291959064566407, -1.0915132971858073, -0.5964240767961176, -0.4306543741546551, -0.32244197780903977, -0.4110030870351789, -0.615984943945465, -1.8202536210451972, -0.8385988427035102, -1.75766711119394, 1.3327413316041, -0.39858838976032496, -0.662218802241949, -1.140634175044882, 0.18684902310583493, 0.2642450076992026, 0.052972167408836146, -1.2528896340321942, -0.7492518146552803, -1.7369733256994762, -2.4157557154313767, -0.48891755555839833, -0.6224688881819238, -0.39590015990786787, -0.12728585499681894, -0.4261696038578857, -0.5555907530290242, -0.5395171163555301, 0.974723745168017, 0.41211314538423793, 1.0438089788790248, -2.336704805641686, -1.2876325193291485, -1.269776156276277, -0.8351132159446153, 0.6096255736787809, -0.3134924415301218, -0.8859547029193393, -0.4521069835340456, -0.5660667324082543, -0.43575200146595455, 0.35590175242952066, -1.0421442711299933, 1.7284058169618968, -1.3758841418553382, -0.2850426841186871, -0.7434136121429363, -0.16999145693642906, -0.2708646541590403, -0.9700533689117352, -0.05263149973719284, -0.4678943467139145, -0.05167358755522162, 0.039293967792312035, -2.2433372648274106, -0.7013182859902675, 0.32491688251490775, -1.3060417506992095, 2.705598645803067, -0.8513957088205517, 0.23992363014367202, -0.6819285142707465, -0.9213595719307455, 0.6563772098495108, 0.670388900838693, 0.12607203831194413, -0.5683643529894853, -0.2524308202472699, 0.12723758350282413, -1.3962187103235078, -0.900504877644871, 1.2649380824459056, -0.08287670714519106, -0.6101718068167321, -0.39859097057194487, -0.9304180953858705, 1.737815097913621, -1.207400497799935, 0.1458862458021993, 1.9981042744936532, -0.7909113925667175, 0.6008418000229655, 1.000444689955522, 0.2072467055945854, 0.7925610368031842, -0.6321443984890988, 0.8425284031365979, 1.242468877149111, 2.6007612746621636, -0.15389448651494425, -0.15462603400046745, -0.9311514577845543, -0.04804004733877148, -0.6625093541778405, 2.1947707856141268, -0.9407781464975704, -0.9778028048605362, -0.5163282166257763, 2.803302395628676, 2.305772849106694, 0.41377572977568977, -0.2653504575928907, -0.6517601633667716, 0.0312403490464296, 0.4724967438361909, -0.5656448716655416, -0.557321428717003, 0.5941378399235694, -0.6947047842385086, -0.3659529622536594, -0.4704758170948392, 0.01130297201239509, 1.713201683734719, -0.31799775848784884, 0.8879186370956628, -1.7801932690682736, -0.9644915327866319, -0.017783623154813872, 0.44477709565340673, 0.906645257002326, -1.5305601997479523, -1.2205985497356686, -0.1676514044030394, -0.9112677056402106, 0.5622695804984118, -0.1350833459852913, -0.8170567314755474, -0.8509190423774176, 1.564259471233591, 0.47238749623674264, -1.2245860014003367, -1.1176095622340245, -0.6590474618181262, -1.302555909252193, 0.9329862526927013, -0.34894236008800733, -0.34104855331477296, -0.2688458445525509, 0.5422829913795881, -1.8692660711367513, 0.5059899167336945, -1.230881253394723, -1.6656262585602828, -0.09322070776780784, -0.434337952605052, -1.1608579239512191, -0.13791863528884263, -0.3462136609327872, -1.771041677218353, 1.220469023377383, -1.0393450562365423, -0.6849531582888456, 1.7070644945847897, -0.6207148171583384, -0.31345231325792683, 0.30043937747638233, 2.8396261719948854, 2.239760910648699, -0.4535594318438681, -0.6892213177046317, 1.4120507327994016, 0.8987079324657405, 0.9768337682838312, -0.8304318503184592, -1.3137942940443483, 0.5849332301319158, -0.12360621326402206, -2.0367528472151792, -1.139547966225091, -0.47556543698902176, -0.3020128953724051, 0.12330039031507452, -0.302304033768268, -0.35487475104865174, 1.1299663824280184, -0.15979909503041312, 0.5248881359356774, 0.45891696018254907, -0.056181186297735664, -1.5912312147562777, -0.8965392983320019, 0.24807757139321374, -0.43187057666552475, 0.538421197695581, -0.8125848448146533, -0.3561493167032855, -1.1315074321222691, 0.14323139156239129, -1.6794402460283806, 0.37577924117069494, -1.7522020340458142, -0.45300867575866394, -1.205475053102622, 1.272434729027621, -0.9784670221045186, -0.8683492686111042, -1.351170781937672, -0.30559702699304503, 0.4248389812227767, 0.6987939255738527, -1.1047904950814313, -0.9248031754817072, -1.3908050668452792, 0.7675673012544625, -0.09161020490660857, -0.9569664628189307, -1.0462998387898241, -0.35511792340339127, -0.4380631212970894, 0.8495595093011448, -1.9133937882538359, 0.30505721333642977, -1.6422503229755228, -0.8498278971368812, -0.31284412487075375, -1.3106776594527867, -0.28296744908837274, 0.19512061411961593, 1.660401577712295, -0.8078402281886187, -1.2717098382519063, -2.049872826786022, -0.543522860674702, -0.36504605559864345, 0.079687189567238, -1.0913520513495047, -0.8390703015395564, 0.3463642660693585, 0.8325681186977112, -0.6163028964616746, -0.17796732687936417, -0.34850714056018806, -0.6084518052077302, -1.3974718712465786, -0.545408848092807, 1.329852153883441, 0.6532666943258661, 0.8984007348502397, 0.06922499427277941, -0.6099746047791602, -1.1489386135743687, -1.0788683803545995, 0.2751279575664144, -0.17363055757036125, -0.02047031132766128, 0.6568039810211582, -0.29600746894361313, 0.379060678709595, -1.1780435279375074, 0.13308553743364718, 0.10880988221475113, -1.2842512050842299, 0.2111904836924061, 2.25821331858113, -1.607165698388352, 0.15254718649639093, -1.7969579980001995, 0.03180081871286084, 0.3938423488937418, -0.2642250315460262, -0.07898309763682851, -0.1345496431899634, -0.6150985459339223, 0.5192500509959243, -1.1537262518326645, -1.1476770700096246, -1.4460796307061, -0.34368291968036446, -0.28987358696733606, -2.1488569636978827, 0.23059125214067538, 0.08838682900716288, -0.0035425683358668468, -1.869431312838876, -0.20659664374955058, -0.8067529110602597, -0.4015871296442373, -0.2680571932665879, -0.10649966530040755, 1.691387606133632, 0.9902099699805857, 0.8669855587217193, 0.5118305609934263, 0.18330001837281207, 0.22315907095831258, -0.8584170093803503, 0.2074834983489648, -2.1494519916901336, -0.28589924749003665, 1.8412046407394025, -0.5900992848318145, -0.5262095869775055, 0.314384181993352, -0.8714956808489128, -0.5092899186421963, -0.14617899367773377, -0.5396318870843588, -0.4987957255705558, 0.7923491780811572, -0.5664490553654381, -0.8677243952351664, -0.8104650609115207, -0.3037004823637912, -0.4588423868165307, -0.7546143164691084, -0.6478207147147607, 1.4709997512608406, 0.31450300434859085, 3.0024259415582217, 0.1352865902853609, -0.7523036961661675, -0.8900141397221915, -1.7304924905995354, -0.5905797838669874, -0.20555845291974006, 0.7307499407155945, -1.4400700315188828, -1.1935342780813973, -1.0919019960866612, -0.6858731182463474, -2.31723602689739, -0.2044081155439085, 2.1672286833742036, 0.3765697751847838, 0.43812502180231466, -0.6850380738480742, -1.1571822466513308, 2.414362146432355, -0.305359641137418, -0.472973772462874, -1.2202144225926428, 0.6805200014782216, -0.8268048656264583, 0.6166899224906682, -1.6821504424150533, -0.6387787631089968, 0.7361554520500027, -0.15239471327630613, -0.1043564716222752, -0.2375448907315956, 0.4695285333998504, 1.7321805589618255, -2.07766170523645, -0.35689694234209474, 0.7503602094424627, 0.43192295952556053, 1.8255234348029914, 0.9841754118199455, 1.944523208768503, 0.16071703578831453, -0.513376059927524, -0.009893827283499388, -0.46628399111936336, 0.5834994355744216, -1.0689911249216508, -1.8383262778513048, -0.7355361082579521, -1.849159521875685, -1.3345178405126341, 0.2184201159205709, 0.06560518090594322, 1.8022226973307347, 1.7206559706708693, 0.005024390182410129, -1.6744323380564319, 0.8338784342574204, -0.14417098758887548, -0.19875481594004796, -0.23425240074111764, 1.501652826196297, -0.14843004715175534, 0.4848695920935084, -0.7156590265834223, -0.44487948112460685, -1.5183700257737938, -0.8377329739222028, -0.45463391359517014, -0.8573854325679962, 2.0988378045783196, -1.7555531986112505, -1.1002680067802055, 0.7326901462292968, -0.6806139919977959, 3.109374418276604, -0.7519461537339803, 0.6905706579781505, 0.11886679021320953, -1.4257192233045064, 0.2247642153810661, -0.04124633826076225, 0.21144003135714298, 0.4053622397879121, -0.22972669244883984, -0.17397000188246242, 3.0164763634210097, -0.2864785290121115, 0.6209568653190997, -0.0007861303329076111, 0.23668133086527085, 1.4225217217961774, -0.4109826028696193, -1.7470376213984076, -0.5957811320017808, 5.4404466353511305, 7.249047032943975, -0.519390021612373, 1.894823499242716, 1.1923675991815244, -0.2907863947067335, 0.013182381439968902, 0.8072637435931332, -1.2417481196200855, -0.7615067657020842, -0.3781442449003399, -0.4101860437538114, 0.5911653048896172, -1.2724606328472237, -0.5482171155757894, 0.3487562787277618, -1.1903390726311942, -0.3526913576431285, -0.4104920781389753, -0.13745424208516127, -0.9259301027538367, 0.36691620665242375, -0.6988285752993912, 0.04288364170639859, 1.0955547402849526, 0.2723039367538022, -0.36369971635335585, -0.9412801755270058, 2.860265837903451, 2.1678790181774037, -0.5298117513582652, -1.3117620887200523, 2.6073896188572196, -0.4433655197579516, -0.44645712587450753, -1.0092798308748832, 1.7491995227387747, -0.2583673383711935, -0.683377120067465, -0.6476038894397761, 1.2806996147845378, 1.037251697666389, -1.123454298508609, 0.3577321670970814, 2.3882398221647785, -0.7932171968716765, -0.7610788191535764, 1.4535331250529966, -0.7032050002847761, -0.41558252020418823, -1.5686595955401332, -1.3449872874772522, -1.4267443366380501, -1.4509343439968252, -0.7399588519134491, 2.91950396335673, 0.8794311884222303, 0.20329187216421302, 0.2988121959269136, -1.0046153449909774, -0.08481525377308771, -0.12507605782546272, 1.8571704463759489, 0.3230858803866743, -0.757443652051798, -1.3174133918909288, -1.5867792826764007, -0.8217146472267997, -0.5824269324332473, 0.8023459254665437, -0.22775122221246982, -0.4228644794389389, -0.5369568305510484, -1.499803875812779, 0.48387250626918615, -0.4350937044587497, -0.8578916390468838, 0.16497212383020854, 1.0415816220824345, -1.2509472859273736, -0.2778011998977024, 0.5959002001566126, -0.6228695087697506, 1.1298823728346743, -1.4079566506254104, -0.26823573144811075, -0.27874413586848995, -0.5717029636887179, 0.34076490748601224, -0.7897824377411466, -1.9782827641790566, -0.00047122524541882277, -0.3147411116992319, -1.1167114680988566, -0.23186244319973232, -0.07328467713747684, -0.7209683553879878, -0.9789172175849625, 0.05372005240540027, -1.6987550802401943, -1.8530591960649108, -0.5112074124535333, -2.3980919914875285, 0.06553821805494854, -0.12139745712518585, 1.7351064602725885, -0.8138888946967618, -1.2043428857234413, 0.3918603511739959, -0.15047268668816535, -0.5394489318840819, 3.6878260255297084, -0.6845184402441166, 1.638894116995785, -0.09495726481778136, 0.4027661364234557, 0.37109653680675536, 0.6101078106777246, -0.4308536158767776, -0.5224324380271433, 0.2616947982833489, -1.4377254550536016, -0.8410878409042186, -0.41625200568274495, 0.08893197458818353, -0.4303322193561917, -0.9880485737970258, 1.4122262401988621, -0.7950725147598513, 0.44869470044211457, 1.1556082125664973, 1.723576867723827, 2.4635801714477505, -0.0360687265316616, -1.2854563819282754, -0.8582941347459321, -0.837692992480446, 0.42478000148227385, -0.2527030480699019, -0.38443821089205915, -0.36849450931118305, 1.941549961831192, -1.2080857228948758, -0.494105112479133, 0.0657366701210688, -1.6623321602033112, -0.39168038053183735, -1.3702127238151138, -0.2638444461079505, -1.024134502464315, -1.4888186564916337, 1.5384239924186318, -1.899283012846697, -0.8018895836503899, -1.3720412312007737, -1.498336084854915, -0.14488283888121375, 1.0821100541776936, -0.08792661531845979, -0.8245223134646431, -1.3605278654806798, -0.3357277011911278]}],\n",
              "                        {\"font\": {\"color\": \"RebeccaPurple\", \"family\": \"Courier New, monospace\", \"size\": 18}, \"template\": {\"data\": {\"bar\": [{\"error_x\": {\"color\": \"#2a3f5f\"}, \"error_y\": {\"color\": \"#2a3f5f\"}, \"marker\": {\"line\": {\"color\": \"#E5ECF6\", \"width\": 0.5}}, \"type\": \"bar\"}], \"barpolar\": [{\"marker\": {\"line\": {\"color\": \"#E5ECF6\", \"width\": 0.5}}, \"type\": \"barpolar\"}], \"carpet\": [{\"aaxis\": {\"endlinecolor\": \"#2a3f5f\", \"gridcolor\": \"white\", \"linecolor\": \"white\", \"minorgridcolor\": \"white\", \"startlinecolor\": \"#2a3f5f\"}, \"baxis\": {\"endlinecolor\": \"#2a3f5f\", \"gridcolor\": \"white\", \"linecolor\": \"white\", \"minorgridcolor\": \"white\", \"startlinecolor\": \"#2a3f5f\"}, \"type\": \"carpet\"}], \"choropleth\": [{\"colorbar\": {\"outlinewidth\": 0, \"ticks\": \"\"}, \"type\": \"choropleth\"}], \"contour\": [{\"colorbar\": {\"outlinewidth\": 0, \"ticks\": \"\"}, \"colorscale\": [[0.0, \"#0d0887\"], [0.1111111111111111, \"#46039f\"], [0.2222222222222222, \"#7201a8\"], [0.3333333333333333, \"#9c179e\"], [0.4444444444444444, \"#bd3786\"], [0.5555555555555556, \"#d8576b\"], [0.6666666666666666, \"#ed7953\"], [0.7777777777777778, \"#fb9f3a\"], [0.8888888888888888, \"#fdca26\"], [1.0, \"#f0f921\"]], \"type\": \"contour\"}], \"contourcarpet\": [{\"colorbar\": {\"outlinewidth\": 0, \"ticks\": \"\"}, \"type\": \"contourcarpet\"}], \"heatmap\": [{\"colorbar\": {\"outlinewidth\": 0, \"ticks\": \"\"}, \"colorscale\": [[0.0, \"#0d0887\"], [0.1111111111111111, \"#46039f\"], [0.2222222222222222, \"#7201a8\"], [0.3333333333333333, \"#9c179e\"], [0.4444444444444444, \"#bd3786\"], [0.5555555555555556, \"#d8576b\"], [0.6666666666666666, \"#ed7953\"], [0.7777777777777778, \"#fb9f3a\"], [0.8888888888888888, \"#fdca26\"], [1.0, \"#f0f921\"]], \"type\": \"heatmap\"}], \"heatmapgl\": [{\"colorbar\": {\"outlinewidth\": 0, \"ticks\": \"\"}, \"colorscale\": [[0.0, \"#0d0887\"], [0.1111111111111111, \"#46039f\"], [0.2222222222222222, \"#7201a8\"], [0.3333333333333333, \"#9c179e\"], [0.4444444444444444, \"#bd3786\"], [0.5555555555555556, \"#d8576b\"], [0.6666666666666666, \"#ed7953\"], [0.7777777777777778, \"#fb9f3a\"], [0.8888888888888888, \"#fdca26\"], [1.0, \"#f0f921\"]], \"type\": \"heatmapgl\"}], \"histogram\": [{\"marker\": {\"colorbar\": {\"outlinewidth\": 0, \"ticks\": \"\"}}, \"type\": \"histogram\"}], \"histogram2d\": [{\"colorbar\": {\"outlinewidth\": 0, \"ticks\": \"\"}, \"colorscale\": [[0.0, \"#0d0887\"], [0.1111111111111111, \"#46039f\"], [0.2222222222222222, \"#7201a8\"], [0.3333333333333333, \"#9c179e\"], [0.4444444444444444, \"#bd3786\"], [0.5555555555555556, \"#d8576b\"], [0.6666666666666666, \"#ed7953\"], [0.7777777777777778, \"#fb9f3a\"], [0.8888888888888888, \"#fdca26\"], [1.0, \"#f0f921\"]], \"type\": \"histogram2d\"}], \"histogram2dcontour\": [{\"colorbar\": {\"outlinewidth\": 0, \"ticks\": \"\"}, \"colorscale\": [[0.0, \"#0d0887\"], [0.1111111111111111, \"#46039f\"], [0.2222222222222222, \"#7201a8\"], [0.3333333333333333, \"#9c179e\"], [0.4444444444444444, \"#bd3786\"], [0.5555555555555556, \"#d8576b\"], [0.6666666666666666, \"#ed7953\"], [0.7777777777777778, \"#fb9f3a\"], [0.8888888888888888, \"#fdca26\"], [1.0, \"#f0f921\"]], \"type\": \"histogram2dcontour\"}], \"mesh3d\": [{\"colorbar\": {\"outlinewidth\": 0, \"ticks\": \"\"}, \"type\": \"mesh3d\"}], \"parcoords\": [{\"line\": {\"colorbar\": {\"outlinewidth\": 0, \"ticks\": \"\"}}, \"type\": \"parcoords\"}], \"pie\": [{\"automargin\": true, \"type\": \"pie\"}], \"scatter\": [{\"marker\": {\"colorbar\": {\"outlinewidth\": 0, \"ticks\": \"\"}}, \"type\": \"scatter\"}], \"scatter3d\": [{\"line\": {\"colorbar\": {\"outlinewidth\": 0, \"ticks\": \"\"}}, \"marker\": {\"colorbar\": {\"outlinewidth\": 0, \"ticks\": \"\"}}, \"type\": \"scatter3d\"}], \"scattercarpet\": [{\"marker\": {\"colorbar\": {\"outlinewidth\": 0, \"ticks\": \"\"}}, \"type\": \"scattercarpet\"}], \"scattergeo\": [{\"marker\": {\"colorbar\": {\"outlinewidth\": 0, \"ticks\": \"\"}}, \"type\": \"scattergeo\"}], \"scattergl\": [{\"marker\": {\"colorbar\": {\"outlinewidth\": 0, \"ticks\": \"\"}}, \"type\": \"scattergl\"}], \"scattermapbox\": [{\"marker\": {\"colorbar\": {\"outlinewidth\": 0, \"ticks\": \"\"}}, \"type\": \"scattermapbox\"}], \"scatterpolar\": [{\"marker\": {\"colorbar\": {\"outlinewidth\": 0, \"ticks\": \"\"}}, \"type\": \"scatterpolar\"}], \"scatterpolargl\": [{\"marker\": {\"colorbar\": {\"outlinewidth\": 0, \"ticks\": \"\"}}, \"type\": \"scatterpolargl\"}], \"scatterternary\": [{\"marker\": {\"colorbar\": {\"outlinewidth\": 0, \"ticks\": \"\"}}, \"type\": \"scatterternary\"}], \"surface\": [{\"colorbar\": {\"outlinewidth\": 0, \"ticks\": \"\"}, \"colorscale\": [[0.0, \"#0d0887\"], [0.1111111111111111, \"#46039f\"], [0.2222222222222222, \"#7201a8\"], [0.3333333333333333, \"#9c179e\"], [0.4444444444444444, \"#bd3786\"], [0.5555555555555556, \"#d8576b\"], [0.6666666666666666, \"#ed7953\"], [0.7777777777777778, \"#fb9f3a\"], [0.8888888888888888, \"#fdca26\"], [1.0, \"#f0f921\"]], \"type\": \"surface\"}], \"table\": [{\"cells\": {\"fill\": {\"color\": \"#EBF0F8\"}, \"line\": {\"color\": \"white\"}}, \"header\": {\"fill\": {\"color\": \"#C8D4E3\"}, \"line\": {\"color\": \"white\"}}, \"type\": \"table\"}]}, \"layout\": {\"annotationdefaults\": {\"arrowcolor\": \"#2a3f5f\", \"arrowhead\": 0, \"arrowwidth\": 1}, \"coloraxis\": {\"colorbar\": {\"outlinewidth\": 0, \"ticks\": \"\"}}, \"colorscale\": {\"diverging\": [[0, \"#8e0152\"], [0.1, \"#c51b7d\"], [0.2, \"#de77ae\"], [0.3, \"#f1b6da\"], [0.4, \"#fde0ef\"], [0.5, \"#f7f7f7\"], [0.6, \"#e6f5d0\"], [0.7, \"#b8e186\"], [0.8, \"#7fbc41\"], [0.9, \"#4d9221\"], [1, \"#276419\"]], \"sequential\": [[0.0, \"#0d0887\"], [0.1111111111111111, \"#46039f\"], [0.2222222222222222, \"#7201a8\"], [0.3333333333333333, \"#9c179e\"], [0.4444444444444444, \"#bd3786\"], [0.5555555555555556, \"#d8576b\"], [0.6666666666666666, \"#ed7953\"], [0.7777777777777778, \"#fb9f3a\"], [0.8888888888888888, \"#fdca26\"], [1.0, \"#f0f921\"]], \"sequentialminus\": [[0.0, \"#0d0887\"], [0.1111111111111111, \"#46039f\"], [0.2222222222222222, \"#7201a8\"], [0.3333333333333333, \"#9c179e\"], [0.4444444444444444, \"#bd3786\"], [0.5555555555555556, \"#d8576b\"], [0.6666666666666666, \"#ed7953\"], [0.7777777777777778, \"#fb9f3a\"], [0.8888888888888888, \"#fdca26\"], [1.0, \"#f0f921\"]]}, \"colorway\": [\"#636efa\", \"#EF553B\", \"#00cc96\", \"#ab63fa\", \"#FFA15A\", \"#19d3f3\", \"#FF6692\", \"#B6E880\", \"#FF97FF\", \"#FECB52\"], \"font\": {\"color\": \"#2a3f5f\"}, \"geo\": {\"bgcolor\": \"white\", \"lakecolor\": \"white\", \"landcolor\": \"#E5ECF6\", \"showlakes\": true, \"showland\": true, \"subunitcolor\": \"white\"}, \"hoverlabel\": {\"align\": \"left\"}, \"hovermode\": \"closest\", \"mapbox\": {\"style\": \"light\"}, \"paper_bgcolor\": \"white\", \"plot_bgcolor\": \"#E5ECF6\", \"polar\": {\"angularaxis\": {\"gridcolor\": \"white\", \"linecolor\": \"white\", \"ticks\": \"\"}, \"bgcolor\": \"#E5ECF6\", \"radialaxis\": {\"gridcolor\": \"white\", \"linecolor\": \"white\", \"ticks\": \"\"}}, \"scene\": {\"xaxis\": {\"backgroundcolor\": \"#E5ECF6\", \"gridcolor\": \"white\", \"gridwidth\": 2, \"linecolor\": \"white\", \"showbackground\": true, \"ticks\": \"\", \"zerolinecolor\": \"white\"}, \"yaxis\": {\"backgroundcolor\": \"#E5ECF6\", \"gridcolor\": \"white\", \"gridwidth\": 2, \"linecolor\": \"white\", \"showbackground\": true, \"ticks\": \"\", \"zerolinecolor\": \"white\"}, \"zaxis\": {\"backgroundcolor\": \"#E5ECF6\", \"gridcolor\": \"white\", \"gridwidth\": 2, \"linecolor\": \"white\", \"showbackground\": true, \"ticks\": \"\", \"zerolinecolor\": \"white\"}}, \"shapedefaults\": {\"line\": {\"color\": \"#2a3f5f\"}}, \"ternary\": {\"aaxis\": {\"gridcolor\": \"white\", \"linecolor\": \"white\", \"ticks\": \"\"}, \"baxis\": {\"gridcolor\": \"white\", \"linecolor\": \"white\", \"ticks\": \"\"}, \"bgcolor\": \"#E5ECF6\", \"caxis\": {\"gridcolor\": \"white\", \"linecolor\": \"white\", \"ticks\": \"\"}}, \"title\": {\"x\": 0.05}, \"xaxis\": {\"automargin\": true, \"gridcolor\": \"white\", \"linecolor\": \"white\", \"ticks\": \"\", \"title\": {\"standoff\": 15}, \"zerolinecolor\": \"white\", \"zerolinewidth\": 2}, \"yaxis\": {\"automargin\": true, \"gridcolor\": \"white\", \"linecolor\": \"white\", \"ticks\": \"\", \"title\": {\"standoff\": 15}, \"zerolinecolor\": \"white\", \"zerolinewidth\": 2}}}, \"title\": {\"text\": \"Plot Customer Clustering\", \"x\": 0.5, \"xanchor\": \"center\", \"y\": 0.9, \"yanchor\": \"top\"}, \"xaxis\": {\"title\": {\"text\": \"1st principal component\"}}, \"yaxis\": {\"title\": {\"text\": \"2nd principal component\"}}},\n",
              "                        {\"responsive\": true}\n",
              "                    ).then(function(){\n",
              "                            \n",
              "var gd = document.getElementById('b62bce26-6f70-4101-ba95-cfde5addedcf');\n",
              "var x = new MutationObserver(function (mutations, observer) {{\n",
              "        var display = window.getComputedStyle(gd).display;\n",
              "        if (!display || display === 'none') {{\n",
              "            console.log([gd, 'removed!']);\n",
              "            Plotly.purge(gd);\n",
              "            observer.disconnect();\n",
              "        }}\n",
              "}});\n",
              "\n",
              "// Listen for the removal of the full notebook cells\n",
              "var notebookContainer = gd.closest('#notebook-container');\n",
              "if (notebookContainer) {{\n",
              "    x.observe(notebookContainer, {childList: true});\n",
              "}}\n",
              "\n",
              "// Listen for the clearing of the current output cell\n",
              "var outputEl = gd.closest('.output');\n",
              "if (outputEl) {{\n",
              "    x.observe(outputEl, {childList: true});\n",
              "}}\n",
              "\n",
              "                        })\n",
              "                };\n",
              "                \n",
              "            </script>\n",
              "        </div>\n",
              "</body>\n",
              "</html>"
            ]
          },
          "metadata": {}
        }
      ]
    },
    {
      "cell_type": "code",
      "metadata": {
        "id": "DUCsF-Rpb0-t"
      },
      "source": [
        "# n_components = 128\n",
        "\n",
        "# pca = PCA(n_components=n_components)\n",
        "# X_dynamic_pca = pca.fit_transform(standard_dynamic)\n",
        "\n",
        "# tsne = TSNE(n_components=n_components)\n",
        "# X_dynamic_tsne = tsne.fit_transform(standard_dynamic)\n",
        "\n",
        "# pca = PCA(n_components=n_components)\n",
        "# X_distance_matrix_pca = pca.fit_transform(standard_distance_matrix)\n",
        "\n",
        "# embedding = LocallyLinearEmbedding(n_components=n_components)\n",
        "# X_distance_matrix_pca = embedding.fit_transform(standard_distance_matrix)\n",
        "\n",
        "\n",
        "# svd = TruncatedSVD(n_components=n_components, algorithm='randomized')\n",
        "# X_distance_matrix_pca = svd.fit_transform(standard_distance_matrix)\n",
        "\n",
        "\n",
        "# tsne = TSNE(n_components=n_components)\n",
        "# X_distance_matrix_tsne = tsne.fit_transform(standard_distance_matrix)"
      ],
      "execution_count": 72,
      "outputs": []
    },
    {
      "cell_type": "code",
      "metadata": {
        "id": "dCEjse7EdZrH"
      },
      "source": [
        "# final_feature_set = np.concatenate((standard_dynamic, X_distance_matrix_pca,standard_dynamic), axis=1)"
      ],
      "execution_count": null,
      "outputs": []
    },
    {
      "cell_type": "code",
      "metadata": {
        "id": "gNdZwWuul8ly"
      },
      "source": [
        "# final_feature_set"
      ],
      "execution_count": null,
      "outputs": []
    },
    {
      "cell_type": "code",
      "metadata": {
        "id": "4ZDUW8EKPxVw"
      },
      "source": [
        "# print(final_feature_set.shape)\n",
        "X_scaled = standard_dynamic"
      ],
      "execution_count": null,
      "outputs": []
    },
    {
      "cell_type": "code",
      "metadata": {
        "id": "9MEJwos3dtdP"
      },
      "source": [
        "n_components = 2\n",
        "\n",
        "pca = PCA(n_components=n_components)\n",
        "X = pca.fit_transform(X_scaled)\n",
        "\n",
        "# svd = TruncatedSVD(n_components=n_components, algorithm='randomized')\n",
        "# X = svd.fit_transform(X_scaled)\n",
        "\n",
        "# kpca = KernelPCA(n_components=n_components, kernel='rbf', gamma=15)\n",
        "# X = kpca.fit_transform(X_scaled)\n",
        "\n",
        "# tsne = TSNE(n_components=n_components)\n",
        "# X = tsne.fit_transform(X_scaled)\n",
        "\n",
        "# mds = MDS(n_components=n_components, metric=True)\n",
        "# X = mds.fit_transform(X_scaled)\n",
        "\n",
        "# isomap = Isomap(n_neighbors=5, n_components=n_components, eigen_solver='auto')\n",
        "# X = isomap.fit_transform(X_scaled)\n",
        "\n",
        "# embedding = LocallyLinearEmbedding(n_components=n_components)\n",
        "# X = embedding.fit_transform(X_scaled)\n"
      ],
      "execution_count": null,
      "outputs": []
    },
    {
      "cell_type": "code",
      "metadata": {
        "id": "4KgHzrBG9q3M"
      },
      "source": [
        "X.shape"
      ],
      "execution_count": null,
      "outputs": []
    },
    {
      "cell_type": "code",
      "metadata": {
        "id": "aEq9W-HXfrZy"
      },
      "source": [
        "kmeans = KMeans(n_clusters = opt_cluster_numbers, **kmeans_kwargs)\n",
        "kmeans.fit(X)\n",
        "print(set(kmeans.labels_))\n",
        "\n",
        "silhouette_avg = silhouette_score(X, kmeans.labels_)\n",
        "print(\"Silhouette: \", silhouette_avg , \" The best value is 1 and the worst value is -1. \")\n",
        "\n",
        "print(\"Davies–Bouldin index: \", davies_bouldin_score(X, kmeans.labels_), \" lower values indicating better clustering.\")\n",
        "\n",
        "plot_clustering(X, kmeans.labels_, kmeans.cluster_centers_)"
      ],
      "execution_count": null,
      "outputs": []
    },
    {
      "cell_type": "code",
      "metadata": {
        "id": "52V4ToDifrXc"
      },
      "source": [
        "# lstm autoencoder to recreate a timeseries\n",
        "import numpy as np\n",
        "from keras.models import Sequential\n",
        "from keras.layers import LSTM\n",
        "from keras.layers import Dense\n",
        "from keras.layers import RepeatVector\n",
        "from keras.layers import TimeDistributed\n",
        "'''\n",
        "A UDF to convert input data into 3-D\n",
        "array as required for LSTM network.\n",
        "'''\n",
        "\n",
        "def temporalize(X, y, lookback):\n",
        "    output_X = []\n",
        "    output_y = []\n",
        "    for i in range(len(X)-lookback-1):\n",
        "        t = []\n",
        "        for j in range(1,lookback+1):\n",
        "            # Gather past records upto the lookback period\n",
        "            t.append(X[[(i+j+1)], :])\n",
        "        output_X.append(t)\n",
        "        output_y.append(y[i+lookback+1])\n",
        "    return output_X, output_y"
      ],
      "execution_count": null,
      "outputs": []
    },
    {
      "cell_type": "code",
      "metadata": {
        "id": "1O4k84yVfrVO"
      },
      "source": [
        "# define input timeseries\n",
        "timeseries = np.array([[0.1, 0.2, 0.3, 0.4, 0.5, 0.6, 0.7, 0.8, 0.9],\n",
        "                       [0.1**3, 0.2**3, 0.3**3, 0.4**3, 0.5**3, 0.6**3, 0.7**3, 0.8**3, 0.9**3]]).transpose()\n",
        "\n",
        "timesteps = timeseries.shape[0]\n",
        "n_features = timeseries.shape[1]\n",
        "timeseries"
      ],
      "execution_count": null,
      "outputs": []
    },
    {
      "cell_type": "code",
      "metadata": {
        "id": "mVvHPs3FfrSa"
      },
      "source": [
        "timesteps = 3\n",
        "X, y = temporalize(X = timeseries, y = np.zeros(len(timeseries)), lookback = timesteps)\n",
        "\n",
        "n_features = 2\n",
        "X = np.array(X)\n",
        "X = X.reshape(X.shape[0], timesteps, n_features)\n",
        "\n",
        "X"
      ],
      "execution_count": null,
      "outputs": []
    },
    {
      "cell_type": "code",
      "metadata": {
        "id": "p_5v-38LfrQG"
      },
      "source": [
        "n_features = 4\n",
        "\n",
        "# define model\n",
        "model = Sequential()\n",
        "model.add(LSTM(128, activation='relu', input_shape=(timesteps,n_features), return_sequences=True))\n",
        "model.add(LSTM(64, activation='relu', return_sequences=False))\n",
        "model.add(RepeatVector(timesteps))\n",
        "model.add(LSTM(64, activation='relu', return_sequences=True))\n",
        "model.add(LSTM(128, activation='relu', return_sequences=True))\n",
        "model.add(TimeDistributed(Dense(n_features)))\n",
        "model.compile(optimizer='adam', loss='mse')\n",
        "model.summary()"
      ],
      "execution_count": null,
      "outputs": []
    },
    {
      "cell_type": "code",
      "metadata": {
        "id": "narwdM3ylJAn"
      },
      "source": [
        "# fit model\n",
        "model.fit(X, X, epochs=300, batch_size=5, verbose=0)\n",
        "# demonstrate reconstruction\n",
        "yhat = model.predict(X, verbose=0)\n",
        "print('---Predicted---')\n",
        "print(np.round(yhat,3))\n",
        "print('---Actual---')\n",
        "print(np.round(X, 3))"
      ],
      "execution_count": null,
      "outputs": []
    },
    {
      "cell_type": "code",
      "metadata": {
        "id": "8rJsCUkZlM71"
      },
      "source": [
        "encoder = Model(model.input, model.get_layer(\"repeat_vector_3\").output)\n",
        "predictions = encoder.predict(X, batch_size = 5)"
      ],
      "execution_count": null,
      "outputs": []
    },
    {
      "cell_type": "code",
      "metadata": {
        "id": "DbpJZQOBlM5s"
      },
      "source": [
        "predictions.shape"
      ],
      "execution_count": null,
      "outputs": []
    },
    {
      "cell_type": "code",
      "metadata": {
        "id": "llo1ZlKmlM23"
      },
      "source": [
        ""
      ],
      "execution_count": null,
      "outputs": []
    },
    {
      "cell_type": "code",
      "metadata": {
        "id": "fqtAUK4nfrNP"
      },
      "source": [
        "# # rng = np.random.default_rng(seed=42)\n",
        "# # sequence = rng.random((50, 10,4))\n",
        "# sequence = np.array([\n",
        "#     [[0.334, 0.043],[0.423 ,0.065],[0.494 ,0.124]],\n",
        "#     [[0.39 , 0.072],[0.5,  0.126],[0.592,  0.218]],\n",
        "#     [[0.469 ,0.121],[0.597 ,0.213],[0.703, 0.345]],\n",
        "#     [[0.573, 0.201],[0.7 ,  0.339],[0.811, 0.514]],\n",
        "#     [[0.724, 0.352],[0.798 ,0.515],[0.898 ,0.729]],]\n",
        "#     )\n",
        "# n_in = len(sequence)\n",
        "# # sequence = sequence.reshape((1, n_in, 1))\n",
        "# sequence.shape"
      ],
      "execution_count": null,
      "outputs": []
    },
    {
      "cell_type": "code",
      "metadata": {
        "id": "__8Sh_1wfrKr"
      },
      "source": [
        "# lstm autoencoder recreate sequence\n",
        "from numpy import array\n",
        "from keras.models import Sequential\n",
        "from keras.models import Model\n",
        "from keras.layers import LSTM\n",
        "from keras.layers import Dense\n",
        "from keras.layers import RepeatVector\n",
        "from keras.layers import TimeDistributed\n",
        "from keras.utils.vis_utils import plot_model\n",
        "\n",
        "\n",
        "# define input sequence\n",
        "# rng = np.random.default_rng(seed=42)\n",
        "# sequence = rng.random((50, 10,4))\n",
        "# sequence = array([0.1, 0.2, 0.3, 0.4, 0.5, 0.6, 0.7, 0.8, 0.9])\n",
        "\n",
        "\n",
        "# reshape input into [samples, timesteps, features]\n",
        "# n_in = len(sequence)\n",
        "\n",
        "sequence = sequence_input_array\n",
        "n_in = 675\n",
        "dim_num=4\n",
        "def get_model_simple():\n",
        "  # define model\n",
        "  model = Sequential()\n",
        "  model.add(LSTM(1024, activation='relu', input_shape=(n_in,dim_num)))\n",
        "  model.add(RepeatVector(n_in))\n",
        "  model.add(LSTM(1024, activation='relu', return_sequences=True))\n",
        "  model.add(TimeDistributed(Dense(dim_num)))\n",
        "  model.compile(optimizer='adam', loss='mse')\n",
        "  # fit model\n",
        "  return model\n",
        "# model = get_model_simple()\n",
        "# model.fit(sequence, sequence, epochs=300)\n",
        "# # connect the encoder LSTM as the output layer\n",
        "# model = Model(inputs=model.inputs, outputs=model.layers[0].output)\n",
        "# plot_model(model, show_shapes=True)\n",
        "# # get the feature vector for the input sequence\n",
        "# yhat = model.predict(sequence)\n",
        "# print(yhat.shape)\n",
        "# print(yhat)"
      ],
      "execution_count": null,
      "outputs": []
    },
    {
      "cell_type": "code",
      "metadata": {
        "id": "2QsjvbQBfrIC"
      },
      "source": [
        "resolver = tf.distribute.cluster_resolver.TPUClusterResolver(tpu='')\n",
        "tf.config.experimental_connect_to_cluster(resolver)\n",
        "# This is the TPU initialization code that has to be at the beginning.\n",
        "tf.tpu.experimental.initialize_tpu_system(resolver)\n",
        "# print(\"All devices: \", tf.config.list_logical_devices('TPU'))\n",
        "strategy = tf.distribute.TPUStrategy(resolver)\n",
        "with strategy.scope():\n",
        "  model = get_model_simple()\n",
        "  # model.compile(optimizer=tf.keras.optimizers.Adam(),\n",
        "  #       loss=tf.keras.losses.MSE)\n",
        "  model.summary()"
      ],
      "execution_count": null,
      "outputs": []
    },
    {
      "cell_type": "code",
      "metadata": {
        "id": "P3UdY_WYfrFR"
      },
      "source": [
        "batch_size = 8\n",
        "training_history = model.fit(sequence, sequence,\n",
        "                             epochs=5,\n",
        "                             batch_size = batch_size,\n",
        "                             validation_split=0.1)"
      ],
      "execution_count": null,
      "outputs": []
    },
    {
      "cell_type": "code",
      "metadata": {
        "id": "2qQM-y_PPxTE"
      },
      "source": [
        "model = Model(inputs=model.inputs, outputs=model.layers[0].output)\n",
        "yhat = model.predict(sequence)\n",
        "print(yhat.shape)\n",
        "print(yhat)"
      ],
      "execution_count": null,
      "outputs": []
    },
    {
      "cell_type": "code",
      "metadata": {
        "id": "AD5ztjmj8GO4"
      },
      "source": [
        ""
      ],
      "execution_count": null,
      "outputs": []
    },
    {
      "cell_type": "code",
      "metadata": {
        "id": "0nJwGWh-8GMT"
      },
      "source": [
        ""
      ],
      "execution_count": null,
      "outputs": []
    },
    {
      "cell_type": "code",
      "metadata": {
        "id": "k6VbbmIA8GKZ"
      },
      "source": [
        ""
      ],
      "execution_count": null,
      "outputs": []
    },
    {
      "cell_type": "code",
      "metadata": {
        "id": "us-g4LxJ8GIL"
      },
      "source": [
        ""
      ],
      "execution_count": null,
      "outputs": []
    },
    {
      "cell_type": "code",
      "metadata": {
        "id": "AXk8iVb18GF4"
      },
      "source": [
        ""
      ],
      "execution_count": null,
      "outputs": []
    },
    {
      "cell_type": "code",
      "metadata": {
        "id": "2f9VAbdK8GDo"
      },
      "source": [
        ""
      ],
      "execution_count": null,
      "outputs": []
    },
    {
      "cell_type": "code",
      "metadata": {
        "id": "0A8ox-Yd8GBG"
      },
      "source": [
        ""
      ],
      "execution_count": null,
      "outputs": []
    },
    {
      "cell_type": "code",
      "metadata": {
        "id": "HJhLHNrtwCf3"
      },
      "source": [
        "from sklearn.datasets import make_blobs\n",
        "from sklearn.cluster import KMeans\n",
        "from sklearn.metrics import silhouette_samples, silhouette_score\n",
        "\n",
        "import matplotlib.pyplot as plt\n",
        "import matplotlib.cm as cm\n",
        "import numpy as np\n",
        "\n",
        "# Generating the sample data from make_blobs\n",
        "# This particular setting has one distinct cluster and 3 clusters placed close\n",
        "# together.\n",
        "\n",
        "range_n_clusters = [2, 3, 4, 5, 6]\n",
        "\n",
        "for n_clusters in range_n_clusters:\n",
        "    # Create a subplot with 1 row and 2 columns\n",
        "    fig, (ax1, ax2) = plt.subplots(1, 2)\n",
        "    fig.set_size_inches(18, 7)\n",
        "\n",
        "    # The 1st subplot is the silhouette plot\n",
        "    # The silhouette coefficient can range from -1, 1 but in this example all\n",
        "    # lie within [-0.1, 1]\n",
        "    ax1.set_xlim([-0.1, 1])\n",
        "    # The (n_clusters+1)*10 is for inserting blank space between silhouette\n",
        "    # plots of individual clusters, to demarcate them clearly.\n",
        "    ax1.set_ylim([0, len(X) + (n_clusters + 1) * 10])\n",
        "\n",
        "    # Initialize the clusterer with n_clusters value and a random generator\n",
        "    # seed of 10 for reproducibility.\n",
        "    clusterer = KMeans(n_clusters=n_clusters, random_state=10)\n",
        "    cluster_labels = clusterer.fit_predict(X)\n",
        "\n",
        "    # The silhouette_score gives the average value for all the samples.\n",
        "    # This gives a perspective into the density and separation of the formed\n",
        "    # clusters\n",
        "    silhouette_avg = silhouette_score(X, cluster_labels)\n",
        "    print(\"For n_clusters =\", n_clusters,\n",
        "          \"The average silhouette_score is :\", silhouette_avg)\n",
        "\n",
        "    # Compute the silhouette scores for each sample\n",
        "    sample_silhouette_values = silhouette_samples(X, cluster_labels)\n",
        "\n",
        "    y_lower = 10\n",
        "    for i in range(n_clusters):\n",
        "        # Aggregate the silhouette scores for samples belonging to\n",
        "        # cluster i, and sort them\n",
        "        ith_cluster_silhouette_values = \\\n",
        "            sample_silhouette_values[cluster_labels == i]\n",
        "\n",
        "        ith_cluster_silhouette_values.sort()\n",
        "\n",
        "        size_cluster_i = ith_cluster_silhouette_values.shape[0]\n",
        "        y_upper = y_lower + size_cluster_i\n",
        "\n",
        "        color = cm.nipy_spectral(float(i) / n_clusters)\n",
        "        ax1.fill_betweenx(np.arange(y_lower, y_upper),\n",
        "                          0, ith_cluster_silhouette_values,\n",
        "                          facecolor=color, edgecolor=color, alpha=0.7)\n",
        "\n",
        "        # Label the silhouette plots with their cluster numbers at the middle\n",
        "        ax1.text(-0.05, y_lower + 0.5 * size_cluster_i, str(i))\n",
        "\n",
        "        # Compute the new y_lower for next plot\n",
        "        y_lower = y_upper + 10  # 10 for the 0 samples\n",
        "\n",
        "    ax1.set_title(\"The silhouette plot for the various clusters.\")\n",
        "    ax1.set_xlabel(\"The silhouette coefficient values\")\n",
        "    ax1.set_ylabel(\"Cluster label\")\n",
        "\n",
        "    # The vertical line for average silhouette score of all the values\n",
        "    ax1.axvline(x=silhouette_avg, color=\"red\", linestyle=\"--\")\n",
        "\n",
        "    ax1.set_yticks([])  # Clear the yaxis labels / ticks\n",
        "    ax1.set_xticks([-0.1, 0, 0.2, 0.4, 0.6, 0.8, 1])\n",
        "\n",
        "    # 2nd Plot showing the actual clusters formed\n",
        "    colors = cm.nipy_spectral(cluster_labels.astype(float) / n_clusters)\n",
        "    ax2.scatter(X[:, 0], X[:, 1], marker='.', s=30, lw=0, alpha=0.7,\n",
        "                c=colors, edgecolor='k')\n",
        "\n",
        "    # Labeling the clusters\n",
        "    centers = clusterer.cluster_centers_\n",
        "    # Draw white circles at cluster centers\n",
        "    ax2.scatter(centers[:, 0], centers[:, 1], marker='o',\n",
        "                c=\"white\", alpha=1, s=200, edgecolor='k')\n",
        "\n",
        "    for i, c in enumerate(centers):\n",
        "        ax2.scatter(c[0], c[1], marker='$%d$' % i, alpha=1,\n",
        "                    s=50, edgecolor='k')\n",
        "\n",
        "    ax2.set_title(\"The visualization of the clustered data.\")\n",
        "    ax2.set_xlabel(\"Feature space for the 1st feature\")\n",
        "    ax2.set_ylabel(\"Feature space for the 2nd feature\")\n",
        "\n",
        "    plt.suptitle((\"Silhouette analysis for KMeans clustering on sample data \"\n",
        "                  \"with n_clusters = %d\" % n_clusters),\n",
        "                 fontsize=14, fontweight='bold')\n",
        "\n",
        "plt.show()"
      ],
      "execution_count": null,
      "outputs": []
    },
    {
      "cell_type": "code",
      "metadata": {
        "id": "CZySAQi_EKeQ"
      },
      "source": [
        "DIAMETER_METHODS = ['mean_cluster', 'farthest']\n",
        "CLUSTER_DISTANCE_METHODS = ['nearest', 'farthest']\n",
        "\n",
        "\n",
        "def inter_cluster_distances(labels, distances, method='nearest'):\n",
        "    \"\"\"Calculates the distances between the two nearest points of each cluster.\n",
        "    :param labels: a list containing cluster labels for each of the n elements\n",
        "    :param distances: an n x n numpy.array containing the pairwise distances between elements\n",
        "    :param method: `nearest` for the distances between the two nearest points in each cluster, or `farthest`\n",
        "    \"\"\"\n",
        "    if method not in CLUSTER_DISTANCE_METHODS:\n",
        "        raise ValueError(\n",
        "            'method must be one of {}'.format(CLUSTER_DISTANCE_METHODS))\n",
        "\n",
        "    if method == 'nearest':\n",
        "        return __cluster_distances_by_points(labels, distances)\n",
        "    elif method == 'farthest':\n",
        "        return __cluster_distances_by_points(labels, distances, farthest=True)\n",
        "\n",
        "\n",
        "def __cluster_distances_by_points(labels, distances, farthest=False):\n",
        "    n_unique_labels = len(np.unique(labels))\n",
        "    cluster_distances = np.full((n_unique_labels, n_unique_labels),\n",
        "                                float('inf') if not farthest else 0)\n",
        "\n",
        "    np.fill_diagonal(cluster_distances, 0)\n",
        "\n",
        "    for i in np.arange(0, len(labels) - 1):\n",
        "        for ii in np.arange(i, len(labels)):\n",
        "            if labels[i] != labels[ii] and (\n",
        "                (not farthest and\n",
        "                 distances[i, ii] < cluster_distances[labels[i], labels[ii]])\n",
        "                    or\n",
        "                (farthest and\n",
        "                 distances[i, ii] > cluster_distances[labels[i], labels[ii]])):\n",
        "                cluster_distances[labels[i], labels[ii]] = cluster_distances[\n",
        "                    labels[ii], labels[i]] = distances[i, ii]\n",
        "    return cluster_distances\n",
        "\n",
        "\n",
        "def diameter(labels, distances, method='farthest'):\n",
        "    \"\"\"Calculates cluster diameters\n",
        "    :param labels: a list containing cluster labels for each of the n elements\n",
        "    :param distances: an n x n numpy.array containing the pairwise distances between elements\n",
        "    :param method: either `mean_cluster` for the mean distance between all elements in each cluster,\n",
        "     or `farthest` for the distance between the two points furthest from each other\n",
        "    \"\"\"\n",
        "    if method not in DIAMETER_METHODS:\n",
        "        raise ValueError('method must be one of {}'.format(DIAMETER_METHODS))\n",
        "\n",
        "    n_clusters = len(np.unique(labels))\n",
        "    diameters = np.zeros(n_clusters)\n",
        "\n",
        "    if method == 'mean_cluster':\n",
        "        for i in range(0, len(labels) - 1):\n",
        "            for ii in range(i + 1, len(labels)):\n",
        "                if labels[i] == labels[ii]:\n",
        "                    diameters[labels[i]] += distances[i, ii]\n",
        "\n",
        "        for i in range(len(diameters)):\n",
        "            diameters[i] /= sum(labels == i)\n",
        "\n",
        "    elif method == 'farthest':\n",
        "        for i in range(0, len(labels) - 1):\n",
        "            for ii in range(i + 1, len(labels)):\n",
        "                if labels[i] == labels[ii] and distances[i, ii] > diameters[\n",
        "                        labels[i]]:\n",
        "                    diameters[labels[i]] = distances[i, ii]\n",
        "    return diameters\n",
        "\n",
        "\n",
        "def dunn(labels, distances, diameter_method='farthest',\n",
        "         cdist_method='nearest'):\n",
        "    \"\"\"\n",
        "    Dunn index for cluster validation (larger is better).\n",
        "    \n",
        "    .. math:: D = \\\\min_{i = 1 \\\\ldots n_c; j = i + 1\\ldots n_c} \\\\left\\\\lbrace \\\\frac{d \\\\left( c_i,c_j \\\\right)}{\\\\max_{k = 1 \\\\ldots n_c}\n",
        "     \\\\left(diam \\\\left(c_k \\\\right) \\\\right)} \\\\right\\\\rbrace\n",
        "    \n",
        "    where :math:`d(c_i,c_j)` represents the distance between\n",
        "    clusters :math:`c_i` and :math:`c_j`, and :math:`diam(c_k)` is the diameter of cluster :math:`c_k`.\n",
        "    Inter-cluster distance can be defined in many ways, such as the distance between cluster centroids or between their closest elements.\n",
        "     Cluster diameter can be defined as the mean distance between all elements in the cluster, between all elements to the cluster centroid,\n",
        "      or as the distance between the two furthest elements.\n",
        "    The higher the value of the resulting Dunn index, the better the clustering\n",
        "    result is considered, since higher values indicate that clusters are\n",
        "    compact (small :math:`diam(c_k)`) and far apart (large :math:`d \\\\left( c_i,c_j \\\\right)`).\n",
        "    :param labels: a list containing cluster labels for each of the n elements\n",
        "    :param distances: an n x n numpy.array containing the pairwise distances between elements\n",
        "    :param diameter_method: see :py:function:`diameter` `method` parameter\n",
        "    :param cdist_method: see :py:function:`diameter` `method` parameter\n",
        "    \n",
        "    .. [Kovacs2005] Kovács, F., Legány, C., & Babos, A. (2005). Cluster validity measurement techniques. 6th International Symposium of\n",
        "     Hungarian Researchers on Computational Intelligence.\n",
        "    \"\"\"\n",
        "\n",
        "    labels = LabelEncoder().fit(labels).transform(labels)\n",
        "\n",
        "    ic_distances = inter_cluster_distances(labels, distances, cdist_method)\n",
        "    min_distance = min(ic_distances[ic_distances.nonzero()])\n",
        "    max_diameter = max(diameter(labels, distances, diameter_method))\n",
        "\n",
        "    return min_distance / max_diameter\n"
      ],
      "execution_count": null,
      "outputs": []
    },
    {
      "cell_type": "code",
      "metadata": {
        "id": "c3Ou0DyBtCX4"
      },
      "source": [
        "print(\"Optimal number of clusters:\", opt_cluster_numbers)\n",
        "\n",
        "kmeans_kwargs = {\n",
        "  \"init\": \"random\",\n",
        "  \"n_init\": 10,\n",
        "  \"max_iter\": 300,\n",
        "  \"random_state\": 42,\n",
        "}\n",
        "kmeans = KMeans(n_clusters = opt_cluster_numbers, **kmeans_kwargs)\n",
        "kmeans.fit(X)\n",
        "labels = kmeans.labels_\n",
        "\n",
        "print(\"K-means\")\n",
        "print(\"Davies–Bouldin index: \", davies_bouldin_score(X, labels))\n",
        "distance_matrices = pairwise_distances(X)\n",
        "dunk = dunn(labels, distance_matrices)\n",
        "print(\"Dunn index: \", round(dunk, 6))\n",
        "silhouette_avg = silhouette_score(X, labels)\n",
        "print(\"Silhouette: \", silhouette_avg)\n",
        "\n",
        "print(\"##################################################\")\n",
        "\n",
        "kmedoids = KMedoids(n_clusters = opt_cluster_numbers, random_state=0)\n",
        "kmedoids.fit(X)\n",
        "labels = kmedoids.labels_\n",
        "\n",
        "print(\"K-medoids\")\n",
        "print(\"Davies–Bouldin index: \", davies_bouldin_score(X, labels))\n",
        "distance_matrices = pairwise_distances(X)\n",
        "dunk = dunn(labels, distance_matrices)\n",
        "print(\"Dunn index: \", round(dunk, 6))\n",
        "silhouette_avg = silhouette_score(X, labels)\n",
        "print(\"Silhouette: \", silhouette_avg)\n"
      ],
      "execution_count": null,
      "outputs": []
    },
    {
      "cell_type": "code",
      "metadata": {
        "id": "6pBesYcIYKSv"
      },
      "source": [
        "# non_outiler_x = []\n",
        "# non_outiler_labels = []\n",
        "# for i in range(len(dbscan_yhat)):\n",
        "#   c_label = dbscan_yhat[i]\n",
        "#   if c_label != -1:\n",
        "#     non_outiler_x.append(X[i])\n",
        "#     non_outiler_labels.append(c_label)\n",
        "# non_outiler_labels = np.array(non_outiler_labels)\n",
        "# non_outiler_x = np.array(non_outiler_x)"
      ],
      "execution_count": null,
      "outputs": []
    },
    {
      "cell_type": "code",
      "metadata": {
        "id": "IRScJDt5tCgW"
      },
      "source": [
        "# dbscan clustering\n",
        "# define the model\n",
        "dbscan_model = DBSCAN(eps=.19, min_samples=15)\n",
        "# fit model and predict clusters\n",
        "dbscan_yhat = dbscan_model.fit_predict(X)\n",
        "# retrieve unique clusters\n",
        "clusters = unique(dbscan_yhat)\n",
        "fig = plt.figure(figsize=(15,15))\n",
        "plt.xlabel('xlabel',fontdict=dict(weight='bold'))\n",
        "plt.xlabel('1th principal component',fontsize=18)\n",
        "plt.ylabel('xlabel',fontdict=dict(weight='bold'))\n",
        "plt.ylabel('2th principal component',fontsize=18)\n",
        "# create scatter plot for samples from each cluster\n",
        "for cluster in clusters:\n",
        "\t# get row indexes for samples with this cluster\n",
        "\trow_ix = where(dbscan_yhat == cluster)\n",
        "\t# create scatter of these samples\n",
        "\tplt.scatter(X[row_ix, 0], X[row_ix, 1])\n",
        "# show the plot\n",
        "plt.show()"
      ],
      "execution_count": null,
      "outputs": []
    },
    {
      "cell_type": "code",
      "metadata": {
        "id": "BD9rUSdDvPMX"
      },
      "source": [
        "len(set(dbscan_yhat))"
      ],
      "execution_count": null,
      "outputs": []
    },
    {
      "cell_type": "code",
      "metadata": {
        "id": "AlKBaJCptCjl"
      },
      "source": [
        "labels = dbscan_yhat\n",
        "print(\"DBSCAN\")\n",
        "print('eps: ', dbscan_model.eps)\n",
        "print('min_samples: ', dbscan_model.min_samples)\n",
        "\n",
        "print(\"Davies–Bouldin index: \", davies_bouldin_score(X, labels))\n",
        "# distance_matrices = pairwise_distances(X)\n",
        "# dunk = dunn(labels, distance_matrices)\n",
        "# print(\"Dunn index: \", round(dunk, 6))\n",
        "silhouette_avg = silhouette_score(X, labels)\n",
        "print(\"Silhouette: \", silhouette_avg)"
      ],
      "execution_count": null,
      "outputs": []
    },
    {
      "cell_type": "code",
      "metadata": {
        "id": "O-hcAnCvtCmd"
      },
      "source": [
        "# optics clustering\n",
        "# define the model\n",
        "optics_model = OPTICS(xi=.001,min_cluster_size=20)\n",
        "# fit model and predict clusters\n",
        "optics_yhat = optics_model.fit_predict(X)\n",
        "# retrieve unique clusters\n",
        "clusters = unique(optics_yhat)\n",
        "# create scatter plot for samples from each cluster\n",
        "fig = plt.figure(figsize=(15,15))\n",
        "for cluster in clusters:\n",
        "\t# get row indexes for samples with this cluster\n",
        "\trow_ix = where(optics_yhat == cluster)\n",
        "\t# create scatter of these samples\n",
        "  \n",
        "\tplt.scatter(X[row_ix, 0], X[row_ix, 1])\n",
        "# show the plot\n",
        "plt.show()"
      ],
      "execution_count": null,
      "outputs": []
    },
    {
      "cell_type": "code",
      "metadata": {
        "id": "b2Qxhmt0R4yw"
      },
      "source": [
        "len(set(optics_yhat))"
      ],
      "execution_count": null,
      "outputs": []
    },
    {
      "cell_type": "code",
      "metadata": {
        "id": "9CC6JVeB1A9T"
      },
      "source": [
        "labels = optics_yhat\n",
        "print(\"OPTICS\")\n",
        "print('eps: ', optics_model.xi)\n",
        "print('min_samples: ', optics_model.min_samples)\n",
        "\n",
        "print(\"Davies–Bouldin index: \", davies_bouldin_score(X, labels))\n",
        "# distance_matrices = pairwise_distances(X)\n",
        "# dunk = dunn(labels, distance_matrices)\n",
        "# print(\"Dunn index: \", round(dunk, 6))\n",
        "silhouette_avg = silhouette_score(X, labels)\n",
        "print(\"Silhouette: \", silhouette_avg)"
      ],
      "execution_count": null,
      "outputs": []
    },
    {
      "cell_type": "code",
      "metadata": {
        "id": "6hc9CM6ZFzvq"
      },
      "source": [
        "# affinity propagation clustering\n",
        "# define the model\n",
        "affinity_propagation_model = AffinityPropagation(damping = 0.92)\n",
        "# fit the model\n",
        "affinity_propagation_model.fit(X)\n",
        "# assign a cluster to each example\n",
        "affinity_yhat = affinity_propagation_model.predict(X)\n",
        "# retrieve unique clusters\n",
        "clusters = unique(affinity_yhat)\n",
        "# create scatter plot for samples from each cluster\n",
        "fig = plt.figure(figsize=(15,15))\n",
        "for cluster in clusters:\n",
        "\t# get row indexes for samples with this cluster\n",
        "  row_ix = where(affinity_yhat == cluster)\n",
        "  # create scatter of these samples\n",
        "  plt.scatter(X[row_ix, 0], X[row_ix, 1])\n",
        "  plt.xlabel('xlabel',fontdict=dict(weight='bold'))\n",
        "  plt.xlabel('1th principal component',fontsize=18)\n",
        "  plt.ylabel('xlabel',fontdict=dict(weight='bold'))\n",
        "  plt.ylabel('2th principal component',fontsize=18)\n",
        "# show the plot\n",
        "plt.show()"
      ],
      "execution_count": null,
      "outputs": []
    },
    {
      "cell_type": "code",
      "metadata": {
        "id": "B8j4K_1pgOi-"
      },
      "source": [
        "print(len(set(affinity_yhat)))"
      ],
      "execution_count": null,
      "outputs": []
    },
    {
      "cell_type": "code",
      "metadata": {
        "id": "Eei67YbgkADy"
      },
      "source": [
        "labels = affinity_yhat\n",
        "print(\"AffinityPropagation\")\n",
        "print('damping: ', affinity_propagation_model.damping)\n",
        "print(\"Davies–Bouldin index: \", davies_bouldin_score(X, labels))\n",
        "# distance_matrices = pairwise_distances(X)\n",
        "# dunk = dunn(labels, distance_matrices)\n",
        "# print(\"Dunn index: \", round(dunk, 6))\n",
        "silhouette_avg = silhouette_score(X, labels)\n",
        "print(\"Silhouette: \", silhouette_avg)"
      ],
      "execution_count": null,
      "outputs": []
    },
    {
      "cell_type": "code",
      "metadata": {
        "id": "xaCZXlaxqcrl"
      },
      "source": [
        "%matplotlib inline\n",
        "import numpy as np\n",
        "from fcmeans import FCM\n",
        "from matplotlib import pyplot as plt\n",
        "fcm = FCM(n_clusters = opt_cluster_numbers)\n",
        "fcm.fit(X)\n",
        "# outputs\n",
        "fcm_centers = fcm.centers\n",
        "fcm_labels = fcm.predict(X)\n",
        "\n",
        "# plot result\n",
        "f, axes = plt.subplots(1, 2, figsize=(11,5))\n",
        "plt.xlabel('xlabel',fontdict=dict(weight='bold'))\n",
        "plt.xlabel('1th principal component',fontsize=12)\n",
        "plt.ylabel('xlabel',fontdict=dict(weight='bold'))\n",
        "plt.ylabel('2th principal component',fontsize=12)\n",
        "axes[0].scatter(X[:,0], X[:,1], alpha=.1)\n",
        "axes[1].scatter(X[:,0], X[:,1], c=fcm_labels, alpha=.1)\n",
        "axes[1].scatter(fcm_centers[:,0], fcm_centers[:,1], marker=\"+\", s=500, c='w')\n",
        "plt.show()\n",
        "pc = fcm.partition_coefficient\n",
        "pec = fcm.partition_entropy_coefficient\n",
        "print('partition_coefficient: ',pc)\n",
        "print('partition_entropy_coefficient: ',pec)"
      ],
      "execution_count": null,
      "outputs": []
    },
    {
      "cell_type": "code",
      "metadata": {
        "id": "uH9_c-1UErNn"
      },
      "source": [
        "print(__doc__)\n",
        "\n",
        "import time\n",
        "\n",
        "import numpy as np\n",
        "import matplotlib.pyplot as plt\n",
        "\n",
        "from sklearn import cluster, datasets\n",
        "from sklearn.neighbors import kneighbors_graph\n",
        "from sklearn.preprocessing import StandardScaler\n",
        "\n",
        "np.random.seed(0)\n",
        "\n",
        "# Generate datasets. We choose the size big enough to see the scalability\n",
        "# of the algorithms, but not too big to avoid too long running times\n",
        "n_samples = 1500\n",
        "noisy_circles = datasets.make_circles(n_samples=n_samples, factor=.5,\n",
        "                                      noise=.05)\n",
        "noisy_moons = datasets.make_moons(n_samples=n_samples, noise=.05)\n",
        "blobs = datasets.make_blobs(n_samples=n_samples, random_state=8)\n",
        "no_structure = np.random.rand(n_samples, 2), None\n",
        "\n",
        "colors = np.array([x for x in 'bgrcmykbgrcmykbgrcmykbgrcmyk'])\n",
        "colors = np.hstack([colors] * 20)\n",
        "\n",
        "clustering_names = [\n",
        "    'MiniBatchKMeans', 'AffinityPropagation', 'MeanShift',\n",
        "    'SpectralClustering', 'Ward', 'AgglomerativeClustering',\n",
        "    'DBSCAN', 'Birch']\n",
        "\n",
        "plt.figure(figsize=(len(clustering_names) * 2 + 3, 9.5))\n",
        "plt.subplots_adjust(left=.02, right=.98, bottom=.001, top=.96, wspace=.05,\n",
        "                    hspace=.01)\n",
        "\n",
        "plot_num = 1\n",
        "\n",
        "datasets = [(principal_components, None)]\n",
        "for i_dataset, dataset in enumerate(datasets):\n",
        "    X, y = dataset\n",
        "    # normalize dataset for easier parameter selection\n",
        "    X = StandardScaler().fit_transform(X)\n",
        "\n",
        "    # estimate bandwidth for mean shift\n",
        "    bandwidth = cluster.estimate_bandwidth(X, quantile=0.3)\n",
        "\n",
        "    # connectivity matrix for structured Ward\n",
        "    connectivity = kneighbors_graph(X, n_neighbors=10, include_self=False)\n",
        "    # make connectivity symmetric\n",
        "    connectivity = 0.5 * (connectivity + connectivity.T)\n",
        "\n",
        "    # create clustering estimators\n",
        "    ms = cluster.MeanShift(bandwidth=bandwidth, bin_seeding=True)\n",
        "    two_means = cluster.MiniBatchKMeans(n_clusters = opt_cluster_numbers)\n",
        "    ward = cluster.AgglomerativeClustering(n_clusters = opt_cluster_numbers, linkage='ward',\n",
        "                                           connectivity=connectivity)\n",
        "    spectral = cluster.SpectralClustering(n_clusters = opt_cluster_numbers,\n",
        "                                          eigen_solver='arpack',\n",
        "                                          affinity=\"nearest_neighbors\")\n",
        "    dbscan = cluster.DBSCAN(eps=.1)\n",
        "    affinity_propagation = cluster.AffinityPropagation(damping=.9,\n",
        "                                                       preference=-200)\n",
        "\n",
        "    average_linkage = cluster.AgglomerativeClustering(\n",
        "        linkage=\"average\", affinity=\"cityblock\", n_clusters = opt_cluster_numbers,\n",
        "        connectivity=connectivity)\n",
        "\n",
        "    birch = cluster.Birch(n_clusters = opt_cluster_numbers)\n",
        "    clustering_algorithms = [\n",
        "        two_means, affinity_propagation, ms, spectral, ward, average_linkage,\n",
        "        dbscan, birch]\n",
        "\n",
        "    for name, algorithm in zip(clustering_names, clustering_algorithms):\n",
        "        # predict cluster memberships\n",
        "        t0 = time.time()\n",
        "        algorithm.fit(X)\n",
        "        t1 = time.time()\n",
        "        if hasattr(algorithm, 'labels_'):\n",
        "            y_pred = algorithm.labels_.astype(np.int)\n",
        "        else:\n",
        "            y_pred = algorithm.predict(X)\n",
        "\n",
        "        # plot\n",
        "        plt.subplot(4, len(clustering_algorithms), plot_num)\n",
        "        if i_dataset == 0:\n",
        "            plt.title(name, size=11)\n",
        "        plt.scatter(X[:, 0], X[:, 1], color=colors[y_pred].tolist(), s=10)\n",
        "\n",
        "        if hasattr(algorithm, 'cluster_centers_'):\n",
        "            centers = algorithm.cluster_centers_\n",
        "            center_colors = colors[:len(centers)]\n",
        "            plt.scatter(centers[:, 0], centers[:, 1], s=100, c=center_colors)\n",
        "        plt.xlim(-2, 2)\n",
        "        plt.ylim(-2, 2)\n",
        "        plt.xticks(())\n",
        "        plt.yticks(())\n",
        "        plt.text(.99, .01, ('%.2fs' % (t1 - t0)).lstrip('0'),\n",
        "                 transform=plt.gca().transAxes, size=15,\n",
        "                 horizontalalignment='right')\n",
        "        plot_num += 1\n",
        "\n",
        "plt.show()"
      ],
      "execution_count": null,
      "outputs": []
    },
    {
      "cell_type": "code",
      "metadata": {
        "id": "wgf8QVLkgrDQ"
      },
      "source": [
        "kmeans = KMeans(n_clusters = 5, **kmeans_kwargs)\n",
        "kmeans.fit(X)\n",
        "print(set(kmeans.labels_))\n",
        "print(kmeans.labels_)"
      ],
      "execution_count": null,
      "outputs": []
    },
    {
      "cell_type": "code",
      "metadata": {
        "id": "CHykise0ih77"
      },
      "source": [
        "cluster_dict_indx = {}\n",
        "for c in range(opt_cluster_numbers):\n",
        "  cluster_dict_indx [c] = [i for i, e in enumerate(kmeans.labels_) if e == c]"
      ],
      "execution_count": null,
      "outputs": []
    },
    {
      "cell_type": "code",
      "metadata": {
        "id": "1YzRX0otfqXk"
      },
      "source": [
        "selected_accounts_idx = []\n",
        "for i in  cluster_dict_indx.keys():\n",
        "  len_of_cluster = len(cluster_dict_indx[i])\n",
        "  random_acc_indx = randrange(len_of_cluster)\n",
        "  selected_accounts_idx.append(cluster_dict_indx[i][random_acc_indx])"
      ],
      "execution_count": null,
      "outputs": []
    },
    {
      "cell_type": "code",
      "metadata": {
        "id": "UAWzAurckbfq"
      },
      "source": [
        "account_ids_list = list(df_account_grouped.groups.keys())\n",
        "selected_accounts = []\n",
        "for idx in selected_accounts_idx:\n",
        "  selected_accounts.append(account_ids_list[idx])"
      ],
      "execution_count": null,
      "outputs": []
    },
    {
      "cell_type": "code",
      "metadata": {
        "id": "WmiFEYx1sH2i"
      },
      "source": [
        "selected_accounts"
      ],
      "execution_count": null,
      "outputs": []
    },
    {
      "cell_type": "code",
      "metadata": {
        "id": "wlWuOzbLb9PJ"
      },
      "source": [
        "df_selected_accounts = df_trans[df_trans['account_id'].isin(selected_accounts)&(df_trans.fulldate.between(\n",
        "    datetime.datetime(2017,8,10),datetime.datetime(2018,2,10)))]"
      ],
      "execution_count": null,
      "outputs": []
    },
    {
      "cell_type": "code",
      "metadata": {
        "id": "FZ7g3XOgdTh_"
      },
      "source": [
        "df_selected_full_date = df_selected_accounts.set_index('fulldate')\n",
        "\n",
        "grouped_selected_accounts = df_selected_full_date.groupby(['account_id'])\n",
        "\n",
        "fig, ax = plt.subplots(figsize=(15,15))\n",
        "for key, group in grouped_selected_accounts:\n",
        "    group['amount'].plot(label=key, ax=ax)\n",
        "\n",
        "plt.legend(loc='best')\n",
        "\n",
        "plt.show()"
      ],
      "execution_count": null,
      "outputs": []
    },
    {
      "cell_type": "code",
      "metadata": {
        "id": "wekVHj_NdY03"
      },
      "source": [
        ""
      ],
      "execution_count": null,
      "outputs": []
    }
  ]
}