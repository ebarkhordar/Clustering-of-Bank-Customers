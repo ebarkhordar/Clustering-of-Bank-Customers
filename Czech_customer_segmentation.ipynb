{
  "nbformat": 4,
  "nbformat_minor": 0,
  "metadata": {
    "accelerator": "GPU",
    "colab": {
      "name": "Czech customer segmentation.ipynb",
      "provenance": [],
      "collapsed_sections": [],
      "include_colab_link": true
    },
    "kernelspec": {
      "display_name": "Python 3",
      "name": "python3"
    },
    "widgets": {
      "application/vnd.jupyter.widget-state+json": {
        "9f7ab74da20e4bcf9f99ae552980ef86": {
          "model_module": "@jupyter-widgets/controls",
          "model_name": "HBoxModel",
          "state": {
            "_dom_classes": [],
            "_model_module": "@jupyter-widgets/controls",
            "_model_module_version": "1.5.0",
            "_model_name": "HBoxModel",
            "_view_count": null,
            "_view_module": "@jupyter-widgets/controls",
            "_view_module_version": "1.5.0",
            "_view_name": "HBoxView",
            "box_style": "",
            "children": [
              "IPY_MODEL_77eb4bd86c3447f3ad4e33a17e445cae",
              "IPY_MODEL_4d4075199ae4427bb72734a4555b40f9"
            ],
            "layout": "IPY_MODEL_a8db9b81340a4ad2b674dc3f019a886d"
          }
        },
        "77eb4bd86c3447f3ad4e33a17e445cae": {
          "model_module": "@jupyter-widgets/controls",
          "model_name": "FloatProgressModel",
          "state": {
            "_dom_classes": [],
            "_model_module": "@jupyter-widgets/controls",
            "_model_module_version": "1.5.0",
            "_model_name": "FloatProgressModel",
            "_view_count": null,
            "_view_module": "@jupyter-widgets/controls",
            "_view_module_version": "1.5.0",
            "_view_name": "ProgressView",
            "bar_style": "",
            "description": " 33%",
            "description_tooltip": null,
            "layout": "IPY_MODEL_1a0ad296fca84bf98b4c7456decd8bc0",
            "max": 4500,
            "min": 0,
            "orientation": "horizontal",
            "style": "IPY_MODEL_c9d37d5e5e38427097d7f87c20fad771",
            "value": 1484
          }
        },
        "4d4075199ae4427bb72734a4555b40f9": {
          "model_module": "@jupyter-widgets/controls",
          "model_name": "HTMLModel",
          "state": {
            "_dom_classes": [],
            "_model_module": "@jupyter-widgets/controls",
            "_model_module_version": "1.5.0",
            "_model_name": "HTMLModel",
            "_view_count": null,
            "_view_module": "@jupyter-widgets/controls",
            "_view_module_version": "1.5.0",
            "_view_name": "HTMLView",
            "description": "",
            "description_tooltip": null,
            "layout": "IPY_MODEL_2ab877f5bc41417fba9115bdd3ce9a54",
            "placeholder": "​",
            "style": "IPY_MODEL_0ca235748a9c4847a8b6314f48d0eeb4",
            "value": " 1484/4500 [05:21&lt;09:35,  5.24it/s]"
          }
        },
        "a8db9b81340a4ad2b674dc3f019a886d": {
          "model_module": "@jupyter-widgets/base",
          "model_name": "LayoutModel",
          "state": {
            "_model_module": "@jupyter-widgets/base",
            "_model_module_version": "1.2.0",
            "_model_name": "LayoutModel",
            "_view_count": null,
            "_view_module": "@jupyter-widgets/base",
            "_view_module_version": "1.2.0",
            "_view_name": "LayoutView",
            "align_content": null,
            "align_items": null,
            "align_self": null,
            "border": null,
            "bottom": null,
            "display": null,
            "flex": null,
            "flex_flow": null,
            "grid_area": null,
            "grid_auto_columns": null,
            "grid_auto_flow": null,
            "grid_auto_rows": null,
            "grid_column": null,
            "grid_gap": null,
            "grid_row": null,
            "grid_template_areas": null,
            "grid_template_columns": null,
            "grid_template_rows": null,
            "height": null,
            "justify_content": null,
            "justify_items": null,
            "left": null,
            "margin": null,
            "max_height": null,
            "max_width": null,
            "min_height": null,
            "min_width": null,
            "object_fit": null,
            "object_position": null,
            "order": null,
            "overflow": null,
            "overflow_x": null,
            "overflow_y": null,
            "padding": null,
            "right": null,
            "top": null,
            "visibility": null,
            "width": null
          }
        },
        "1a0ad296fca84bf98b4c7456decd8bc0": {
          "model_module": "@jupyter-widgets/base",
          "model_name": "LayoutModel",
          "state": {
            "_model_module": "@jupyter-widgets/base",
            "_model_module_version": "1.2.0",
            "_model_name": "LayoutModel",
            "_view_count": null,
            "_view_module": "@jupyter-widgets/base",
            "_view_module_version": "1.2.0",
            "_view_name": "LayoutView",
            "align_content": null,
            "align_items": null,
            "align_self": null,
            "border": null,
            "bottom": null,
            "display": null,
            "flex": null,
            "flex_flow": null,
            "grid_area": null,
            "grid_auto_columns": null,
            "grid_auto_flow": null,
            "grid_auto_rows": null,
            "grid_column": null,
            "grid_gap": null,
            "grid_row": null,
            "grid_template_areas": null,
            "grid_template_columns": null,
            "grid_template_rows": null,
            "height": null,
            "justify_content": null,
            "justify_items": null,
            "left": null,
            "margin": null,
            "max_height": null,
            "max_width": null,
            "min_height": null,
            "min_width": null,
            "object_fit": null,
            "object_position": null,
            "order": null,
            "overflow": null,
            "overflow_x": null,
            "overflow_y": null,
            "padding": null,
            "right": null,
            "top": null,
            "visibility": null,
            "width": null
          }
        },
        "c9d37d5e5e38427097d7f87c20fad771": {
          "model_module": "@jupyter-widgets/controls",
          "model_name": "ProgressStyleModel",
          "state": {
            "_model_module": "@jupyter-widgets/controls",
            "_model_module_version": "1.5.0",
            "_model_name": "ProgressStyleModel",
            "_view_count": null,
            "_view_module": "@jupyter-widgets/base",
            "_view_module_version": "1.2.0",
            "_view_name": "StyleView",
            "bar_color": null,
            "description_width": "initial"
          }
        },
        "2ab877f5bc41417fba9115bdd3ce9a54": {
          "model_module": "@jupyter-widgets/base",
          "model_name": "LayoutModel",
          "state": {
            "_model_module": "@jupyter-widgets/base",
            "_model_module_version": "1.2.0",
            "_model_name": "LayoutModel",
            "_view_count": null,
            "_view_module": "@jupyter-widgets/base",
            "_view_module_version": "1.2.0",
            "_view_name": "LayoutView",
            "align_content": null,
            "align_items": null,
            "align_self": null,
            "border": null,
            "bottom": null,
            "display": null,
            "flex": null,
            "flex_flow": null,
            "grid_area": null,
            "grid_auto_columns": null,
            "grid_auto_flow": null,
            "grid_auto_rows": null,
            "grid_column": null,
            "grid_gap": null,
            "grid_row": null,
            "grid_template_areas": null,
            "grid_template_columns": null,
            "grid_template_rows": null,
            "height": null,
            "justify_content": null,
            "justify_items": null,
            "left": null,
            "margin": null,
            "max_height": null,
            "max_width": null,
            "min_height": null,
            "min_width": null,
            "object_fit": null,
            "object_position": null,
            "order": null,
            "overflow": null,
            "overflow_x": null,
            "overflow_y": null,
            "padding": null,
            "right": null,
            "top": null,
            "visibility": null,
            "width": null
          }
        },
        "0ca235748a9c4847a8b6314f48d0eeb4": {
          "model_module": "@jupyter-widgets/controls",
          "model_name": "DescriptionStyleModel",
          "state": {
            "_model_module": "@jupyter-widgets/controls",
            "_model_module_version": "1.5.0",
            "_model_name": "DescriptionStyleModel",
            "_view_count": null,
            "_view_module": "@jupyter-widgets/base",
            "_view_module_version": "1.2.0",
            "_view_name": "StyleView",
            "description_width": ""
          }
        }
      }
    }
  },
  "cells": [
    {
      "cell_type": "markdown",
      "metadata": {
        "id": "view-in-github",
        "colab_type": "text"
      },
      "source": [
        "<a href=\"https://colab.research.google.com/github/ehsanbarkhordar/Bank-Customer-Clustering-By-Transactions/blob/main/Czech_customer_segmentation.ipynb\" target=\"_parent\"><img src=\"https://colab.research.google.com/assets/colab-badge.svg\" alt=\"Open In Colab\"/></a>"
      ]
    },
    {
      "cell_type": "code",
      "metadata": {
        "colab": {
          "base_uri": "https://localhost:8080/"
        },
        "id": "HhWqg8jzLY7P",
        "outputId": "b28b128b-0393-4f12-e352-022e10f08eca"
      },
      "source": [
        "from google.colab import drive\n",
        "drive.mount('/content/gdrive', force_remount=False)"
      ],
      "execution_count": null,
      "outputs": [
        {
          "output_type": "stream",
          "text": [
            "Drive already mounted at /content/gdrive; to attempt to forcibly remount, call drive.mount(\"/content/gdrive\", force_remount=True).\n"
          ],
          "name": "stdout"
        }
      ]
    },
    {
      "cell_type": "code",
      "metadata": {
        "id": "y4HcraYVIh7j"
      },
      "source": [
        "from numpy import array\n",
        "from sklearn.model_selection import train_test_split\n",
        "from keras.preprocessing.text import one_hot\n",
        "from keras.preprocessing.sequence import pad_sequences\n",
        "from keras.models import Sequential\n",
        "from keras.layers.core import Activation, Dropout, Dense\n",
        "from keras.layers import GlobalMaxPooling1D\n",
        "from keras.models import Model\n",
        "from keras.layers.embeddings import Embedding\n",
        "from keras.preprocessing.text import Tokenizer\n",
        "from keras.layers import Input\n",
        "from keras.layers.merge import Concatenate\n",
        "from keras.layers import Bidirectional\n",
        "from keras.models import Sequential, Model\n",
        "from keras.layers import Dense, GRU, Input, Embedding, TimeDistributed, Dropout, Bidirectional, Concatenate\n",
        "from keras.layers.advanced_activations import PReLU, LeakyReLU\n",
        "from keras.optimizers import SGD\n",
        "from tensorflow.keras.utils import plot_model\n",
        "from tensorflow import feature_column\n",
        "from tensorflow.keras import layers\n",
        "\n",
        "import pandas as pd\n",
        "import numpy as np\n",
        "import tensorflow as tf\n",
        "import matplotlib.pyplot as plt\n"
      ],
      "execution_count": null,
      "outputs": []
    },
    {
      "cell_type": "code",
      "metadata": {
        "colab": {
          "base_uri": "https://localhost:8080/"
        },
        "id": "BpBu0uxjL_kg",
        "outputId": "f8874f09-2140-4964-cf3b-1411a5ee51e1"
      },
      "source": [
        "from os import listdir\n",
        "from os.path import isfile, join\n",
        "dataset_path='/content/gdrive/MyDrive/lpetrocelli-retail-banking-demo-data/'\n",
        "onlyfiles = [f for f in listdir(dataset_path) if isfile(join(dataset_path, f))]\n",
        "onlyfiles"
      ],
      "execution_count": null,
      "outputs": [
        {
          "output_type": "execute_result",
          "data": {
            "text/plain": [
              "['CRM Call Center Logs.csv',\n",
              " 'CRM Events.csv',\n",
              " 'completedcard.csv',\n",
              " 'LuxuryLoanPortfolio.csv',\n",
              " 'completedorder.csv',\n",
              " 'completedloan.csv',\n",
              " 'completedclient.csv',\n",
              " 'completedacct.csv',\n",
              " 'completedtrans.csv',\n",
              " 'completeddistrict.csv',\n",
              " 'CRM Reviews.csv',\n",
              " 'completeddisposition.csv']"
            ]
          },
          "metadata": {
            "tags": []
          },
          "execution_count": 7
        }
      ]
    },
    {
      "cell_type": "code",
      "metadata": {
        "colab": {
          "base_uri": "https://localhost:8080/"
        },
        "id": "tNZMfeKELyuW",
        "outputId": "af88f2ab-4c54-408a-8c83-f3b579443505"
      },
      "source": [
        "# Import Clients\n",
        "df_clients = pd.read_csv(dataset_path+'completedclient.csv', index_col=[0], low_memory=False)\n",
        "# Import Transactions\n",
        "df_trans = pd.read_csv(dataset_path+'completedtrans.csv', index_col=[0], low_memory=False)\n",
        "# Import Positions\n",
        "df_positions = pd.read_csv(dataset_path+'completeddisposition.csv', index_col=[0], low_memory=False)"
      ],
      "execution_count": null,
      "outputs": [
        {
          "output_type": "stream",
          "text": [
            "/usr/local/lib/python3.6/dist-packages/numpy/lib/arraysetops.py:580: FutureWarning: elementwise comparison failed; returning scalar instead, but in the future will perform elementwise comparison\n",
            "  mask |= (ar1 == a)\n"
          ],
          "name": "stderr"
        }
      ]
    },
    {
      "cell_type": "code",
      "metadata": {
        "id": "qzilNdSENJ2n"
      },
      "source": [
        "df_clients = df_clients.join(df_positions.set_index('client_id'), on='client_id')"
      ],
      "execution_count": null,
      "outputs": []
    },
    {
      "cell_type": "code",
      "metadata": {
        "colab": {
          "base_uri": "https://localhost:8080/",
          "height": 736
        },
        "id": "WL0tSPASQ-6h",
        "outputId": "25dc34f2-38e1-455b-f1e2-5295da7d884c"
      },
      "source": [
        "df_clients"
      ],
      "execution_count": null,
      "outputs": [
        {
          "output_type": "execute_result",
          "data": {
            "text/html": [
              "<div>\n",
              "<style scoped>\n",
              "    .dataframe tbody tr th:only-of-type {\n",
              "        vertical-align: middle;\n",
              "    }\n",
              "\n",
              "    .dataframe tbody tr th {\n",
              "        vertical-align: top;\n",
              "    }\n",
              "\n",
              "    .dataframe thead th {\n",
              "        text-align: right;\n",
              "    }\n",
              "</style>\n",
              "<table border=\"1\" class=\"dataframe\">\n",
              "  <thead>\n",
              "    <tr style=\"text-align: right;\">\n",
              "      <th></th>\n",
              "      <th>sex</th>\n",
              "      <th>fulldate</th>\n",
              "      <th>day</th>\n",
              "      <th>month</th>\n",
              "      <th>year</th>\n",
              "      <th>age</th>\n",
              "      <th>social</th>\n",
              "      <th>first</th>\n",
              "      <th>middle</th>\n",
              "      <th>last</th>\n",
              "      <th>phone</th>\n",
              "      <th>email</th>\n",
              "      <th>address_1</th>\n",
              "      <th>address_2</th>\n",
              "      <th>city</th>\n",
              "      <th>state</th>\n",
              "      <th>zipcode</th>\n",
              "      <th>district_id</th>\n",
              "      <th>account_id</th>\n",
              "      <th>type</th>\n",
              "    </tr>\n",
              "    <tr>\n",
              "      <th>client_id</th>\n",
              "      <th></th>\n",
              "      <th></th>\n",
              "      <th></th>\n",
              "      <th></th>\n",
              "      <th></th>\n",
              "      <th></th>\n",
              "      <th></th>\n",
              "      <th></th>\n",
              "      <th></th>\n",
              "      <th></th>\n",
              "      <th></th>\n",
              "      <th></th>\n",
              "      <th></th>\n",
              "      <th></th>\n",
              "      <th></th>\n",
              "      <th></th>\n",
              "      <th></th>\n",
              "      <th></th>\n",
              "      <th></th>\n",
              "      <th></th>\n",
              "    </tr>\n",
              "  </thead>\n",
              "  <tbody>\n",
              "    <tr>\n",
              "      <th>C00000001</th>\n",
              "      <td>Female</td>\n",
              "      <td>1990-12-13</td>\n",
              "      <td>13</td>\n",
              "      <td>12</td>\n",
              "      <td>1990</td>\n",
              "      <td>29</td>\n",
              "      <td>926-93-2157</td>\n",
              "      <td>Emma</td>\n",
              "      <td>Avaya</td>\n",
              "      <td>Smith</td>\n",
              "      <td>367-171-6840</td>\n",
              "      <td>emma.smith@gmail.com</td>\n",
              "      <td>387 Wellington Ave.</td>\n",
              "      <td>Unit 1</td>\n",
              "      <td>Albuquerque</td>\n",
              "      <td>NM</td>\n",
              "      <td>47246</td>\n",
              "      <td>18</td>\n",
              "      <td>A00000001</td>\n",
              "      <td>Owner</td>\n",
              "    </tr>\n",
              "    <tr>\n",
              "      <th>C00000002</th>\n",
              "      <td>Male</td>\n",
              "      <td>1965-02-04</td>\n",
              "      <td>4</td>\n",
              "      <td>2</td>\n",
              "      <td>1965</td>\n",
              "      <td>54</td>\n",
              "      <td>806-94-5725</td>\n",
              "      <td>Noah</td>\n",
              "      <td>Everest</td>\n",
              "      <td>Thompson</td>\n",
              "      <td>212-423-7734</td>\n",
              "      <td>noah.thompson@gmail.com</td>\n",
              "      <td>75 W. Berkshire St.</td>\n",
              "      <td>NaN</td>\n",
              "      <td>New York City</td>\n",
              "      <td>NY</td>\n",
              "      <td>10040</td>\n",
              "      <td>1</td>\n",
              "      <td>A00000002</td>\n",
              "      <td>Owner</td>\n",
              "    </tr>\n",
              "    <tr>\n",
              "      <th>C00000003</th>\n",
              "      <td>Female</td>\n",
              "      <td>1960-10-09</td>\n",
              "      <td>9</td>\n",
              "      <td>10</td>\n",
              "      <td>1960</td>\n",
              "      <td>59</td>\n",
              "      <td>614-70-9100</td>\n",
              "      <td>Olivia</td>\n",
              "      <td>Brooklynne</td>\n",
              "      <td>Johnson</td>\n",
              "      <td>212-425-6932</td>\n",
              "      <td>olivia.johnson@outlook.com</td>\n",
              "      <td>36 Second St.</td>\n",
              "      <td>NaN</td>\n",
              "      <td>New York City</td>\n",
              "      <td>NY</td>\n",
              "      <td>10162</td>\n",
              "      <td>1</td>\n",
              "      <td>A00000002</td>\n",
              "      <td>User</td>\n",
              "    </tr>\n",
              "    <tr>\n",
              "      <th>C00000004</th>\n",
              "      <td>Male</td>\n",
              "      <td>1976-12-01</td>\n",
              "      <td>1</td>\n",
              "      <td>12</td>\n",
              "      <td>1976</td>\n",
              "      <td>43</td>\n",
              "      <td>580-20-3414</td>\n",
              "      <td>Liam</td>\n",
              "      <td>Irvin</td>\n",
              "      <td>White</td>\n",
              "      <td>951-567-8925</td>\n",
              "      <td>liam.white@gmail.com</td>\n",
              "      <td>7607 Sunnyslope Street</td>\n",
              "      <td>NaN</td>\n",
              "      <td>Indianapolis</td>\n",
              "      <td>IN</td>\n",
              "      <td>49047</td>\n",
              "      <td>5</td>\n",
              "      <td>A00000003</td>\n",
              "      <td>Owner</td>\n",
              "    </tr>\n",
              "    <tr>\n",
              "      <th>C00000005</th>\n",
              "      <td>Female</td>\n",
              "      <td>1980-07-03</td>\n",
              "      <td>3</td>\n",
              "      <td>7</td>\n",
              "      <td>1980</td>\n",
              "      <td>39</td>\n",
              "      <td>536-14-5809</td>\n",
              "      <td>Sophia</td>\n",
              "      <td>Danae</td>\n",
              "      <td>Williams</td>\n",
              "      <td>428-265-1568</td>\n",
              "      <td>sophia.williams@gmail.com</td>\n",
              "      <td>755 Galvin Street</td>\n",
              "      <td>NaN</td>\n",
              "      <td>Indianapolis</td>\n",
              "      <td>IN</td>\n",
              "      <td>40852</td>\n",
              "      <td>5</td>\n",
              "      <td>A00000003</td>\n",
              "      <td>User</td>\n",
              "    </tr>\n",
              "    <tr>\n",
              "      <th>...</th>\n",
              "      <td>...</td>\n",
              "      <td>...</td>\n",
              "      <td>...</td>\n",
              "      <td>...</td>\n",
              "      <td>...</td>\n",
              "      <td>...</td>\n",
              "      <td>...</td>\n",
              "      <td>...</td>\n",
              "      <td>...</td>\n",
              "      <td>...</td>\n",
              "      <td>...</td>\n",
              "      <td>...</td>\n",
              "      <td>...</td>\n",
              "      <td>...</td>\n",
              "      <td>...</td>\n",
              "      <td>...</td>\n",
              "      <td>...</td>\n",
              "      <td>...</td>\n",
              "      <td>...</td>\n",
              "      <td>...</td>\n",
              "    </tr>\n",
              "    <tr>\n",
              "      <th>C00013955</th>\n",
              "      <td>Female</td>\n",
              "      <td>1965-10-30</td>\n",
              "      <td>30</td>\n",
              "      <td>10</td>\n",
              "      <td>1965</td>\n",
              "      <td>54</td>\n",
              "      <td>830-38-3530</td>\n",
              "      <td>Adrianna</td>\n",
              "      <td>Jillian</td>\n",
              "      <td>Moore</td>\n",
              "      <td>212-205-7422</td>\n",
              "      <td>adrianna.moore@outlook.com</td>\n",
              "      <td>9405 SW. Leeton Ridge Drive</td>\n",
              "      <td>NaN</td>\n",
              "      <td>New York City</td>\n",
              "      <td>NY</td>\n",
              "      <td>10121</td>\n",
              "      <td>1</td>\n",
              "      <td>A00011349</td>\n",
              "      <td>Owner</td>\n",
              "    </tr>\n",
              "    <tr>\n",
              "      <th>C00013956</th>\n",
              "      <td>Male</td>\n",
              "      <td>1963-04-06</td>\n",
              "      <td>6</td>\n",
              "      <td>4</td>\n",
              "      <td>1963</td>\n",
              "      <td>56</td>\n",
              "      <td>773-25-4409</td>\n",
              "      <td>Aaron</td>\n",
              "      <td>Roman</td>\n",
              "      <td>Park</td>\n",
              "      <td>212-645-8820</td>\n",
              "      <td>aaron.park@gmail.com</td>\n",
              "      <td>7021 Chapel Ave.</td>\n",
              "      <td>NaN</td>\n",
              "      <td>New York City</td>\n",
              "      <td>NY</td>\n",
              "      <td>10118</td>\n",
              "      <td>1</td>\n",
              "      <td>A00011349</td>\n",
              "      <td>User</td>\n",
              "    </tr>\n",
              "    <tr>\n",
              "      <th>C00013968</th>\n",
              "      <td>Male</td>\n",
              "      <td>1988-04-13</td>\n",
              "      <td>13</td>\n",
              "      <td>4</td>\n",
              "      <td>1988</td>\n",
              "      <td>31</td>\n",
              "      <td>227-17-0778</td>\n",
              "      <td>Eli</td>\n",
              "      <td>Leonardo</td>\n",
              "      <td>Warner</td>\n",
              "      <td>508-465-5164</td>\n",
              "      <td>eli.warner@hotmail.com</td>\n",
              "      <td>43 Edgemont Dr.</td>\n",
              "      <td>NaN</td>\n",
              "      <td>Fall River</td>\n",
              "      <td>MA</td>\n",
              "      <td>2721</td>\n",
              "      <td>61</td>\n",
              "      <td>A00011359</td>\n",
              "      <td>Owner</td>\n",
              "    </tr>\n",
              "    <tr>\n",
              "      <th>C00013971</th>\n",
              "      <td>Female</td>\n",
              "      <td>1982-10-19</td>\n",
              "      <td>19</td>\n",
              "      <td>10</td>\n",
              "      <td>1982</td>\n",
              "      <td>37</td>\n",
              "      <td>278-77-3298</td>\n",
              "      <td>Ruth</td>\n",
              "      <td>Joy</td>\n",
              "      <td>Martin</td>\n",
              "      <td>856-636-3840</td>\n",
              "      <td>ruth.martin@gmail.com</td>\n",
              "      <td>7087 E. Pennsylvania Street</td>\n",
              "      <td>Unit 8</td>\n",
              "      <td>Danbury</td>\n",
              "      <td>CT</td>\n",
              "      <td>48475</td>\n",
              "      <td>67</td>\n",
              "      <td>A00011362</td>\n",
              "      <td>Owner</td>\n",
              "    </tr>\n",
              "    <tr>\n",
              "      <th>C00013998</th>\n",
              "      <td>Female</td>\n",
              "      <td>1973-08-12</td>\n",
              "      <td>12</td>\n",
              "      <td>8</td>\n",
              "      <td>1973</td>\n",
              "      <td>46</td>\n",
              "      <td>266-21-2541</td>\n",
              "      <td>Miriam</td>\n",
              "      <td>Abby</td>\n",
              "      <td>Jackson</td>\n",
              "      <td>431-633-5403</td>\n",
              "      <td>miriam.jackson@gmail.com</td>\n",
              "      <td>29 Buckingham Rd.</td>\n",
              "      <td>NaN</td>\n",
              "      <td>Chicago</td>\n",
              "      <td>IL</td>\n",
              "      <td>44244</td>\n",
              "      <td>74</td>\n",
              "      <td>A00011382</td>\n",
              "      <td>Owner</td>\n",
              "    </tr>\n",
              "  </tbody>\n",
              "</table>\n",
              "<p>5369 rows × 20 columns</p>\n",
              "</div>"
            ],
            "text/plain": [
              "              sex    fulldate  day  ...  district_id  account_id   type\n",
              "client_id                           ...                                \n",
              "C00000001  Female  1990-12-13   13  ...           18   A00000001  Owner\n",
              "C00000002    Male  1965-02-04    4  ...            1   A00000002  Owner\n",
              "C00000003  Female  1960-10-09    9  ...            1   A00000002   User\n",
              "C00000004    Male  1976-12-01    1  ...            5   A00000003  Owner\n",
              "C00000005  Female  1980-07-03    3  ...            5   A00000003   User\n",
              "...           ...         ...  ...  ...          ...         ...    ...\n",
              "C00013955  Female  1965-10-30   30  ...            1   A00011349  Owner\n",
              "C00013956    Male  1963-04-06    6  ...            1   A00011349   User\n",
              "C00013968    Male  1988-04-13   13  ...           61   A00011359  Owner\n",
              "C00013971  Female  1982-10-19   19  ...           67   A00011362  Owner\n",
              "C00013998  Female  1973-08-12   12  ...           74   A00011382  Owner\n",
              "\n",
              "[5369 rows x 20 columns]"
            ]
          },
          "metadata": {
            "tags": []
          },
          "execution_count": 10
        }
      ]
    },
    {
      "cell_type": "code",
      "metadata": {
        "colab": {
          "base_uri": "https://localhost:8080/",
          "height": 455
        },
        "id": "3-8u8oUzP3_c",
        "outputId": "3c35a9a6-f302-4cd4-ea35-eaa055b96553"
      },
      "source": [
        "df_clients[['account_id','sex','age','zipcode']]"
      ],
      "execution_count": null,
      "outputs": [
        {
          "output_type": "execute_result",
          "data": {
            "text/html": [
              "<div>\n",
              "<style scoped>\n",
              "    .dataframe tbody tr th:only-of-type {\n",
              "        vertical-align: middle;\n",
              "    }\n",
              "\n",
              "    .dataframe tbody tr th {\n",
              "        vertical-align: top;\n",
              "    }\n",
              "\n",
              "    .dataframe thead th {\n",
              "        text-align: right;\n",
              "    }\n",
              "</style>\n",
              "<table border=\"1\" class=\"dataframe\">\n",
              "  <thead>\n",
              "    <tr style=\"text-align: right;\">\n",
              "      <th></th>\n",
              "      <th>account_id</th>\n",
              "      <th>sex</th>\n",
              "      <th>age</th>\n",
              "      <th>zipcode</th>\n",
              "    </tr>\n",
              "    <tr>\n",
              "      <th>client_id</th>\n",
              "      <th></th>\n",
              "      <th></th>\n",
              "      <th></th>\n",
              "      <th></th>\n",
              "    </tr>\n",
              "  </thead>\n",
              "  <tbody>\n",
              "    <tr>\n",
              "      <th>C00000001</th>\n",
              "      <td>A00000001</td>\n",
              "      <td>Female</td>\n",
              "      <td>29</td>\n",
              "      <td>47246</td>\n",
              "    </tr>\n",
              "    <tr>\n",
              "      <th>C00000002</th>\n",
              "      <td>A00000002</td>\n",
              "      <td>Male</td>\n",
              "      <td>54</td>\n",
              "      <td>10040</td>\n",
              "    </tr>\n",
              "    <tr>\n",
              "      <th>C00000003</th>\n",
              "      <td>A00000002</td>\n",
              "      <td>Female</td>\n",
              "      <td>59</td>\n",
              "      <td>10162</td>\n",
              "    </tr>\n",
              "    <tr>\n",
              "      <th>C00000004</th>\n",
              "      <td>A00000003</td>\n",
              "      <td>Male</td>\n",
              "      <td>43</td>\n",
              "      <td>49047</td>\n",
              "    </tr>\n",
              "    <tr>\n",
              "      <th>C00000005</th>\n",
              "      <td>A00000003</td>\n",
              "      <td>Female</td>\n",
              "      <td>39</td>\n",
              "      <td>40852</td>\n",
              "    </tr>\n",
              "    <tr>\n",
              "      <th>...</th>\n",
              "      <td>...</td>\n",
              "      <td>...</td>\n",
              "      <td>...</td>\n",
              "      <td>...</td>\n",
              "    </tr>\n",
              "    <tr>\n",
              "      <th>C00013955</th>\n",
              "      <td>A00011349</td>\n",
              "      <td>Female</td>\n",
              "      <td>54</td>\n",
              "      <td>10121</td>\n",
              "    </tr>\n",
              "    <tr>\n",
              "      <th>C00013956</th>\n",
              "      <td>A00011349</td>\n",
              "      <td>Male</td>\n",
              "      <td>56</td>\n",
              "      <td>10118</td>\n",
              "    </tr>\n",
              "    <tr>\n",
              "      <th>C00013968</th>\n",
              "      <td>A00011359</td>\n",
              "      <td>Male</td>\n",
              "      <td>31</td>\n",
              "      <td>2721</td>\n",
              "    </tr>\n",
              "    <tr>\n",
              "      <th>C00013971</th>\n",
              "      <td>A00011362</td>\n",
              "      <td>Female</td>\n",
              "      <td>37</td>\n",
              "      <td>48475</td>\n",
              "    </tr>\n",
              "    <tr>\n",
              "      <th>C00013998</th>\n",
              "      <td>A00011382</td>\n",
              "      <td>Female</td>\n",
              "      <td>46</td>\n",
              "      <td>44244</td>\n",
              "    </tr>\n",
              "  </tbody>\n",
              "</table>\n",
              "<p>5369 rows × 4 columns</p>\n",
              "</div>"
            ],
            "text/plain": [
              "          account_id     sex  age  zipcode\n",
              "client_id                                 \n",
              "C00000001  A00000001  Female   29    47246\n",
              "C00000002  A00000002    Male   54    10040\n",
              "C00000003  A00000002  Female   59    10162\n",
              "C00000004  A00000003    Male   43    49047\n",
              "C00000005  A00000003  Female   39    40852\n",
              "...              ...     ...  ...      ...\n",
              "C00013955  A00011349  Female   54    10121\n",
              "C00013956  A00011349    Male   56    10118\n",
              "C00013968  A00011359    Male   31     2721\n",
              "C00013971  A00011362  Female   37    48475\n",
              "C00013998  A00011382  Female   46    44244\n",
              "\n",
              "[5369 rows x 4 columns]"
            ]
          },
          "metadata": {
            "tags": []
          },
          "execution_count": 81
        }
      ]
    },
    {
      "cell_type": "code",
      "metadata": {
        "colab": {
          "base_uri": "https://localhost:8080/"
        },
        "id": "B8OICLIhSkXh",
        "outputId": "c5e64cb0-3dfe-4b99-972b-ebae444a7365"
      },
      "source": [
        "zip_set=set(df_clients['zipcode'])\n",
        "zip_list=list(df_clients['zipcode'])\n",
        "print(\"all zip codes in dataset: \",len(zip_list))\n",
        "print(\"unique zip codes in dataset: \",len(zip_set))"
      ],
      "execution_count": null,
      "outputs": [
        {
          "output_type": "stream",
          "text": [
            "all zip codes in dataset:  5369\n",
            "unique zip codes in dataset:  3512\n"
          ],
          "name": "stdout"
        }
      ]
    },
    {
      "cell_type": "code",
      "metadata": {
        "id": "6HnrmkE5KmJj"
      },
      "source": [
        "df_clients_onehot = pd.DataFrame()"
      ],
      "execution_count": null,
      "outputs": []
    },
    {
      "cell_type": "code",
      "metadata": {
        "id": "EZt602FzLXqh"
      },
      "source": [
        "df_clients_onehot['account_id']=df_clients['account_id']"
      ],
      "execution_count": null,
      "outputs": []
    },
    {
      "cell_type": "code",
      "metadata": {
        "id": "092zrxcH8VWi"
      },
      "source": [
        "# # encode sex to binary\n",
        "# sex_dict={'Female': ,'Male':1}\n",
        "# df_clients_onehot = pd.DataFrame()\n",
        "# df_clients_onehot['sex'] = df_clients['sex'].apply(lambda x: [sex_dict.get(x)])"
      ],
      "execution_count": null,
      "outputs": []
    },
    {
      "cell_type": "code",
      "metadata": {
        "colab": {
          "base_uri": "https://localhost:8080/"
        },
        "id": "5VeevkB0Kubm",
        "outputId": "39ff3da7-2525-42a3-be37-a92944739890"
      },
      "source": [
        "data=list(df_clients['sex'])\n",
        "values = array(data)\n",
        "print(values)\n",
        "# integer encode\n",
        "label_encoder = LabelEncoder()\n",
        "integer_encoded = label_encoder.fit_transform(values)\n",
        "print(integer_encoded)\n",
        "# binary encode\n",
        "onehot_encoder = OneHotEncoder(sparse=False)\n",
        "integer_encoded = integer_encoded.reshape(len(integer_encoded), 1)\n",
        "onehot_encoded = onehot_encoder.fit_transform(integer_encoded)\n",
        "print(\"shape of sex onehot_encoded: \",onehot_encoded.shape)\n",
        "df_clients_onehot['sex'] = onehot_encoded.tolist()"
      ],
      "execution_count": null,
      "outputs": [
        {
          "output_type": "stream",
          "text": [
            "['Female' 'Male' 'Female' ... 'Male' 'Female' 'Female']\n",
            "[0 1 0 ... 1 0 0]\n",
            "shape of sex onehot_encoded:  (5369, 2)\n"
          ],
          "name": "stdout"
        }
      ]
    },
    {
      "cell_type": "code",
      "metadata": {
        "colab": {
          "base_uri": "https://localhost:8080/"
        },
        "id": "5xEpJSldE9S6",
        "outputId": "a4680151-8367-458c-d5ed-c7087a151204"
      },
      "source": [
        "data=list(df_clients['age'])\n",
        "values = array(data)\n",
        "print(values)\n",
        "# integer encode\n",
        "label_encoder = LabelEncoder()\n",
        "integer_encoded = label_encoder.fit_transform(values)\n",
        "print(integer_encoded)\n",
        "# binary encode\n",
        "onehot_encoder = OneHotEncoder(sparse=False)\n",
        "integer_encoded = integer_encoded.reshape(len(integer_encoded), 1)\n",
        "onehot_encoded = onehot_encoder.fit_transform(integer_encoded)\n",
        "print(\"shape of age onehot_encoded: \",onehot_encoded.shape)\n",
        "df_clients_onehot['age'] = onehot_encoded.tolist()"
      ],
      "execution_count": null,
      "outputs": [
        {
          "output_type": "stream",
          "text": [
            "[29 54 59 ... 31 37 46]\n",
            "[17 42 47 ... 19 25 34]\n",
            "shape of age onehot_encoded:  (5369, 77)\n"
          ],
          "name": "stdout"
        }
      ]
    },
    {
      "cell_type": "code",
      "metadata": {
        "colab": {
          "base_uri": "https://localhost:8080/"
        },
        "id": "C4qe3rZSKGbd",
        "outputId": "abe9689f-3181-4298-d30e-0441f32367f0"
      },
      "source": [
        "data=list(df_clients['zipcode'])\n",
        "values = array(data)\n",
        "print(values)\n",
        "# integer encode\n",
        "label_encoder = LabelEncoder()\n",
        "integer_encoded = label_encoder.fit_transform(values)\n",
        "print(integer_encoded)\n",
        "# binary encode\n",
        "onehot_encoder = OneHotEncoder(sparse=False)\n",
        "integer_encoded = integer_encoded.reshape(len(integer_encoded), 1)\n",
        "onehot_encoded = onehot_encoder.fit_transform(integer_encoded)\n",
        "print(\"shape of zipcode onehot_encoded: \",onehot_encoded.shape)\n",
        "df_clients_onehot['zipcode'] = onehot_encoded.tolist()"
      ],
      "execution_count": null,
      "outputs": [
        {
          "output_type": "stream",
          "text": [
            "[47246 10040 10162 ...  2721 48475 44244]\n",
            "[2625  167  211 ...  118 3049 1677]\n",
            "shape of zipcode onehot_encoded:  (5369, 3512)\n"
          ],
          "name": "stdout"
        }
      ]
    },
    {
      "cell_type": "code",
      "metadata": {
        "id": "ncu4o5yZGCar"
      },
      "source": [
        "df_clients_onehot['static_vecotr'] = df_clients_onehot.apply (lambda row: np.concatenate([row.sex, row.age, row.zipcode]), axis=1"
      ],
      "execution_count": null,
      "outputs": []
    },
    {
      "cell_type": "code",
      "metadata": {
        "colab": {
          "base_uri": "https://localhost:8080/"
        },
        "id": "pPbwlmN9NxMd",
        "outputId": "b2617a16-cfd8-4472-9e96-46757f66a7b7"
      },
      "source": [
        "print(\"static vector dimention: \",df_clients_onehot.iloc[0]['static_vecotr'].shape)"
      ],
      "execution_count": null,
      "outputs": [
        {
          "output_type": "stream",
          "text": [
            "static vector dimention:  (3591,)\n"
          ],
          "name": "stdout"
        }
      ]
    },
    {
      "cell_type": "code",
      "metadata": {
        "id": "b8-Ka2QtqI7c"
      },
      "source": [
        "# Convert date to python datetime\n",
        "df_trans['fulldate'] = pd.to_datetime(df_trans['fulldate'],format=\"%Y-%m-%d\")\n",
        "df_trans['timestamp'] = df_trans.fulldate.values.astype(np.int64) // 10 ** 9"
      ],
      "execution_count": null,
      "outputs": []
    },
    {
      "cell_type": "code",
      "metadata": {
        "colab": {
          "base_uri": "https://localhost:8080/",
          "height": 617
        },
        "id": "zyhgD9xYUeGs",
        "outputId": "19146cdf-872a-43df-8fb6-e41c9548f7d0"
      },
      "source": [
        "df_trans"
      ],
      "execution_count": null,
      "outputs": [
        {
          "output_type": "execute_result",
          "data": {
            "text/html": [
              "<div>\n",
              "<style scoped>\n",
              "    .dataframe tbody tr th:only-of-type {\n",
              "        vertical-align: middle;\n",
              "    }\n",
              "\n",
              "    .dataframe tbody tr th {\n",
              "        vertical-align: top;\n",
              "    }\n",
              "\n",
              "    .dataframe thead th {\n",
              "        text-align: right;\n",
              "    }\n",
              "</style>\n",
              "<table border=\"1\" class=\"dataframe\">\n",
              "  <thead>\n",
              "    <tr style=\"text-align: right;\">\n",
              "      <th></th>\n",
              "      <th>trans_id</th>\n",
              "      <th>account_id</th>\n",
              "      <th>type</th>\n",
              "      <th>operation</th>\n",
              "      <th>amount</th>\n",
              "      <th>balance</th>\n",
              "      <th>k_symbol</th>\n",
              "      <th>bank</th>\n",
              "      <th>account</th>\n",
              "      <th>year</th>\n",
              "      <th>month</th>\n",
              "      <th>day</th>\n",
              "      <th>fulldate</th>\n",
              "      <th>fulltime</th>\n",
              "      <th>fulldatewithtime</th>\n",
              "      <th>timestamp</th>\n",
              "    </tr>\n",
              "  </thead>\n",
              "  <tbody>\n",
              "    <tr>\n",
              "      <th>1</th>\n",
              "      <td>T00695247</td>\n",
              "      <td>A00002378</td>\n",
              "      <td>Credit</td>\n",
              "      <td>Credit in Cash</td>\n",
              "      <td>700.0</td>\n",
              "      <td>700.0</td>\n",
              "      <td>NaN</td>\n",
              "      <td>NaN</td>\n",
              "      <td>NaN</td>\n",
              "      <td>2013</td>\n",
              "      <td>1</td>\n",
              "      <td>1</td>\n",
              "      <td>2013-01-01</td>\n",
              "      <td>11:02:40</td>\n",
              "      <td>2013-01-01T11:02:40</td>\n",
              "      <td>1356998400</td>\n",
              "    </tr>\n",
              "    <tr>\n",
              "      <th>2</th>\n",
              "      <td>T00171812</td>\n",
              "      <td>A00000576</td>\n",
              "      <td>Credit</td>\n",
              "      <td>Credit in Cash</td>\n",
              "      <td>900.0</td>\n",
              "      <td>900.0</td>\n",
              "      <td>NaN</td>\n",
              "      <td>NaN</td>\n",
              "      <td>NaN</td>\n",
              "      <td>2013</td>\n",
              "      <td>1</td>\n",
              "      <td>1</td>\n",
              "      <td>2013-01-01</td>\n",
              "      <td>08:23:33</td>\n",
              "      <td>2013-01-01T08:23:33</td>\n",
              "      <td>1356998400</td>\n",
              "    </tr>\n",
              "    <tr>\n",
              "      <th>3</th>\n",
              "      <td>T00207264</td>\n",
              "      <td>A00000704</td>\n",
              "      <td>Credit</td>\n",
              "      <td>Credit in Cash</td>\n",
              "      <td>1000.0</td>\n",
              "      <td>1000.0</td>\n",
              "      <td>NaN</td>\n",
              "      <td>NaN</td>\n",
              "      <td>NaN</td>\n",
              "      <td>2013</td>\n",
              "      <td>1</td>\n",
              "      <td>1</td>\n",
              "      <td>2013-01-01</td>\n",
              "      <td>15:19:21</td>\n",
              "      <td>2013-01-01T15:19:21</td>\n",
              "      <td>1356998400</td>\n",
              "    </tr>\n",
              "    <tr>\n",
              "      <th>4</th>\n",
              "      <td>T01117247</td>\n",
              "      <td>A00003818</td>\n",
              "      <td>Credit</td>\n",
              "      <td>Credit in Cash</td>\n",
              "      <td>600.0</td>\n",
              "      <td>600.0</td>\n",
              "      <td>NaN</td>\n",
              "      <td>NaN</td>\n",
              "      <td>NaN</td>\n",
              "      <td>2013</td>\n",
              "      <td>1</td>\n",
              "      <td>1</td>\n",
              "      <td>2013-01-01</td>\n",
              "      <td>10:42:35</td>\n",
              "      <td>2013-01-01T10:42:35</td>\n",
              "      <td>1356998400</td>\n",
              "    </tr>\n",
              "    <tr>\n",
              "      <th>5</th>\n",
              "      <td>T00579373</td>\n",
              "      <td>A00001972</td>\n",
              "      <td>Credit</td>\n",
              "      <td>Credit in Cash</td>\n",
              "      <td>400.0</td>\n",
              "      <td>400.0</td>\n",
              "      <td>NaN</td>\n",
              "      <td>NaN</td>\n",
              "      <td>NaN</td>\n",
              "      <td>2013</td>\n",
              "      <td>1</td>\n",
              "      <td>2</td>\n",
              "      <td>2013-01-02</td>\n",
              "      <td>11:39:25</td>\n",
              "      <td>2013-01-02T11:39:25</td>\n",
              "      <td>1357084800</td>\n",
              "    </tr>\n",
              "    <tr>\n",
              "      <th>...</th>\n",
              "      <td>...</td>\n",
              "      <td>...</td>\n",
              "      <td>...</td>\n",
              "      <td>...</td>\n",
              "      <td>...</td>\n",
              "      <td>...</td>\n",
              "      <td>...</td>\n",
              "      <td>...</td>\n",
              "      <td>...</td>\n",
              "      <td>...</td>\n",
              "      <td>...</td>\n",
              "      <td>...</td>\n",
              "      <td>...</td>\n",
              "      <td>...</td>\n",
              "      <td>...</td>\n",
              "      <td>...</td>\n",
              "    </tr>\n",
              "    <tr>\n",
              "      <th>1056316</th>\n",
              "      <td>T03626622</td>\n",
              "      <td>A00002906</td>\n",
              "      <td>Credit</td>\n",
              "      <td>NaN</td>\n",
              "      <td>62.3</td>\n",
              "      <td>13729.4</td>\n",
              "      <td>Interest Credited</td>\n",
              "      <td>NaN</td>\n",
              "      <td>NaN</td>\n",
              "      <td>2018</td>\n",
              "      <td>12</td>\n",
              "      <td>31</td>\n",
              "      <td>2018-12-31</td>\n",
              "      <td>15:18:14</td>\n",
              "      <td>2018-12-31T15:18:14</td>\n",
              "      <td>1546214400</td>\n",
              "    </tr>\n",
              "    <tr>\n",
              "      <th>1056317</th>\n",
              "      <td>T03627616</td>\n",
              "      <td>A00002935</td>\n",
              "      <td>Credit</td>\n",
              "      <td>NaN</td>\n",
              "      <td>81.3</td>\n",
              "      <td>19544.9</td>\n",
              "      <td>Interest Credited</td>\n",
              "      <td>NaN</td>\n",
              "      <td>NaN</td>\n",
              "      <td>2018</td>\n",
              "      <td>12</td>\n",
              "      <td>31</td>\n",
              "      <td>2018-12-31</td>\n",
              "      <td>13:04:60</td>\n",
              "      <td>2018-12-31T13:04:60</td>\n",
              "      <td>1546214400</td>\n",
              "    </tr>\n",
              "    <tr>\n",
              "      <th>1056318</th>\n",
              "      <td>T03625403</td>\n",
              "      <td>A00002869</td>\n",
              "      <td>Credit</td>\n",
              "      <td>NaN</td>\n",
              "      <td>60.2</td>\n",
              "      <td>14638.2</td>\n",
              "      <td>Interest Credited</td>\n",
              "      <td>NaN</td>\n",
              "      <td>NaN</td>\n",
              "      <td>2018</td>\n",
              "      <td>12</td>\n",
              "      <td>31</td>\n",
              "      <td>2018-12-31</td>\n",
              "      <td>08:30:13</td>\n",
              "      <td>2018-12-31T08:30:13</td>\n",
              "      <td>1546214400</td>\n",
              "    </tr>\n",
              "    <tr>\n",
              "      <th>1056319</th>\n",
              "      <td>T03626683</td>\n",
              "      <td>A00002907</td>\n",
              "      <td>Credit</td>\n",
              "      <td>NaN</td>\n",
              "      <td>107.5</td>\n",
              "      <td>23453.0</td>\n",
              "      <td>Interest Credited</td>\n",
              "      <td>NaN</td>\n",
              "      <td>NaN</td>\n",
              "      <td>2018</td>\n",
              "      <td>12</td>\n",
              "      <td>31</td>\n",
              "      <td>2018-12-31</td>\n",
              "      <td>14:45:19</td>\n",
              "      <td>2018-12-31T14:45:19</td>\n",
              "      <td>1546214400</td>\n",
              "    </tr>\n",
              "    <tr>\n",
              "      <th>1056320</th>\n",
              "      <td>T03626540</td>\n",
              "      <td>A00002902</td>\n",
              "      <td>Credit</td>\n",
              "      <td>NaN</td>\n",
              "      <td>164.1</td>\n",
              "      <td>41642.9</td>\n",
              "      <td>Interest Credited</td>\n",
              "      <td>NaN</td>\n",
              "      <td>NaN</td>\n",
              "      <td>2018</td>\n",
              "      <td>12</td>\n",
              "      <td>31</td>\n",
              "      <td>2018-12-31</td>\n",
              "      <td>10:44:40</td>\n",
              "      <td>2018-12-31T10:44:40</td>\n",
              "      <td>1546214400</td>\n",
              "    </tr>\n",
              "  </tbody>\n",
              "</table>\n",
              "<p>1056320 rows × 16 columns</p>\n",
              "</div>"
            ],
            "text/plain": [
              "          trans_id account_id  ...     fulldatewithtime   timestamp\n",
              "1        T00695247  A00002378  ...  2013-01-01T11:02:40  1356998400\n",
              "2        T00171812  A00000576  ...  2013-01-01T08:23:33  1356998400\n",
              "3        T00207264  A00000704  ...  2013-01-01T15:19:21  1356998400\n",
              "4        T01117247  A00003818  ...  2013-01-01T10:42:35  1356998400\n",
              "5        T00579373  A00001972  ...  2013-01-02T11:39:25  1357084800\n",
              "...            ...        ...  ...                  ...         ...\n",
              "1056316  T03626622  A00002906  ...  2018-12-31T15:18:14  1546214400\n",
              "1056317  T03627616  A00002935  ...  2018-12-31T13:04:60  1546214400\n",
              "1056318  T03625403  A00002869  ...  2018-12-31T08:30:13  1546214400\n",
              "1056319  T03626683  A00002907  ...  2018-12-31T14:45:19  1546214400\n",
              "1056320  T03626540  A00002902  ...  2018-12-31T10:44:40  1546214400\n",
              "\n",
              "[1056320 rows x 16 columns]"
            ]
          },
          "metadata": {
            "tags": []
          },
          "execution_count": 113
        }
      ]
    },
    {
      "cell_type": "code",
      "metadata": {
        "id": "EOvptEUTqKVU"
      },
      "source": [
        "df_trans = df_trans.sort_values('fulldate')\n",
        "df_trans_groupby_account_id = df_trans.groupby(['account_id'])"
      ],
      "execution_count": null,
      "outputs": []
    },
    {
      "cell_type": "code",
      "metadata": {
        "colab": {
          "base_uri": "https://localhost:8080/"
        },
        "id": "EqnzWoVmVxon",
        "outputId": "a1da257a-33a9-41a4-8553-3daceca533b3"
      },
      "source": [
        "df = df_trans_groupby_account_id\n",
        "df_trans_groupby_account_id.size()"
      ],
      "execution_count": null,
      "outputs": [
        {
          "output_type": "execute_result",
          "data": {
            "text/plain": [
              "account_id\n",
              "A00000001    239\n",
              "A00000002    478\n",
              "A00000003    117\n",
              "A00000004    186\n",
              "A00000005     84\n",
              "            ... \n",
              "A00011333    368\n",
              "A00011349    304\n",
              "A00011359    378\n",
              "A00011362    344\n",
              "A00011382    253\n",
              "Length: 4500, dtype: int64"
            ]
          },
          "metadata": {
            "tags": []
          },
          "execution_count": 120
        }
      ]
    },
    {
      "cell_type": "code",
      "metadata": {
        "colab": {
          "base_uri": "https://localhost:8080/"
        },
        "id": "FlqfDMNDXlh0",
        "outputId": "ae54b984-b77d-4de8-b6aa-eb9d0fb30be9"
      },
      "source": [
        "df.groups.keys()"
      ],
      "execution_count": null,
      "outputs": [
        {
          "output_type": "execute_result",
          "data": {
            "text/plain": [
              "dict_keys(['A00000001', 'A00000002', 'A00000003', 'A00000004', 'A00000005', 'A00000006', 'A00000007', 'A00000008', 'A00000009', 'A00000010', 'A00000011', 'A00000012', 'A00000013', 'A00000014', 'A00000015', 'A00000016', 'A00000017', 'A00000018', 'A00000019', 'A00000020', 'A00000021', 'A00000022', 'A00000023', 'A00000024', 'A00000025', 'A00000026', 'A00000027', 'A00000029', 'A00000030', 'A00000031', 'A00000032', 'A00000033', 'A00000034', 'A00000035', 'A00000036', 'A00000037', 'A00000038', 'A00000039', 'A00000040', 'A00000041', 'A00000042', 'A00000043', 'A00000044', 'A00000045', 'A00000047', 'A00000048', 'A00000049', 'A00000050', 'A00000051', 'A00000052', 'A00000053', 'A00000054', 'A00000055', 'A00000056', 'A00000057', 'A00000058', 'A00000059', 'A00000061', 'A00000062', 'A00000063', 'A00000064', 'A00000065', 'A00000066', 'A00000067', 'A00000068', 'A00000069', 'A00000070', 'A00000071', 'A00000072', 'A00000073', 'A00000075', 'A00000076', 'A00000077', 'A00000078', 'A00000079', 'A00000080', 'A00000081', 'A00000082', 'A00000083', 'A00000084', 'A00000085', 'A00000086', 'A00000088', 'A00000089', 'A00000090', 'A00000091', 'A00000093', 'A00000095', 'A00000096', 'A00000097', 'A00000098', 'A00000099', 'A00000100', 'A00000101', 'A00000102', 'A00000103', 'A00000104', 'A00000105', 'A00000106', 'A00000107', 'A00000108', 'A00000109', 'A00000110', 'A00000112', 'A00000113', 'A00000114', 'A00000115', 'A00000116', 'A00000117', 'A00000118', 'A00000119', 'A00000120', 'A00000121', 'A00000122', 'A00000123', 'A00000124', 'A00000125', 'A00000126', 'A00000127', 'A00000128', 'A00000129', 'A00000130', 'A00000131', 'A00000132', 'A00000133', 'A00000134', 'A00000135', 'A00000136', 'A00000137', 'A00000138', 'A00000139', 'A00000140', 'A00000141', 'A00000142', 'A00000143', 'A00000144', 'A00000145', 'A00000146', 'A00000148', 'A00000149', 'A00000150', 'A00000151', 'A00000152', 'A00000153', 'A00000154', 'A00000155', 'A00000156', 'A00000157', 'A00000158', 'A00000159', 'A00000160', 'A00000161', 'A00000162', 'A00000163', 'A00000164', 'A00000165', 'A00000166', 'A00000167', 'A00000168', 'A00000169', 'A00000170', 'A00000171', 'A00000172', 'A00000173', 'A00000174', 'A00000176', 'A00000177', 'A00000178', 'A00000179', 'A00000180', 'A00000181', 'A00000182', 'A00000183', 'A00000184', 'A00000185', 'A00000186', 'A00000187', 'A00000188', 'A00000189', 'A00000190', 'A00000191', 'A00000192', 'A00000193', 'A00000194', 'A00000195', 'A00000196', 'A00000197', 'A00000198', 'A00000199', 'A00000200', 'A00000201', 'A00000204', 'A00000205', 'A00000206', 'A00000207', 'A00000208', 'A00000209', 'A00000210', 'A00000211', 'A00000212', 'A00000213', 'A00000214', 'A00000215', 'A00000216', 'A00000217', 'A00000218', 'A00000219', 'A00000220', 'A00000221', 'A00000222', 'A00000223', 'A00000224', 'A00000225', 'A00000226', 'A00000227', 'A00000228', 'A00000229', 'A00000230', 'A00000231', 'A00000232', 'A00000234', 'A00000235', 'A00000236', 'A00000237', 'A00000238', 'A00000239', 'A00000240', 'A00000241', 'A00000242', 'A00000243', 'A00000244', 'A00000245', 'A00000246', 'A00000248', 'A00000249', 'A00000250', 'A00000251', 'A00000252', 'A00000253', 'A00000255', 'A00000256', 'A00000257', 'A00000258', 'A00000259', 'A00000260', 'A00000261', 'A00000262', 'A00000263', 'A00000264', 'A00000265', 'A00000266', 'A00000267', 'A00000268', 'A00000269', 'A00000270', 'A00000271', 'A00000272', 'A00000273', 'A00000274', 'A00000275', 'A00000276', 'A00000277', 'A00000278', 'A00000279', 'A00000280', 'A00000281', 'A00000282', 'A00000283', 'A00000284', 'A00000285', 'A00000286', 'A00000287', 'A00000288', 'A00000289', 'A00000290', 'A00000291', 'A00000292', 'A00000293', 'A00000294', 'A00000295', 'A00000296', 'A00000297', 'A00000298', 'A00000299', 'A00000300', 'A00000301', 'A00000302', 'A00000303', 'A00000304', 'A00000305', 'A00000306', 'A00000307', 'A00000308', 'A00000309', 'A00000311', 'A00000312', 'A00000313', 'A00000314', 'A00000315', 'A00000316', 'A00000317', 'A00000318', 'A00000319', 'A00000320', 'A00000321', 'A00000322', 'A00000323', 'A00000324', 'A00000325', 'A00000326', 'A00000327', 'A00000328', 'A00000329', 'A00000330', 'A00000331', 'A00000332', 'A00000333', 'A00000334', 'A00000335', 'A00000336', 'A00000337', 'A00000338', 'A00000339', 'A00000340', 'A00000341', 'A00000342', 'A00000343', 'A00000344', 'A00000345', 'A00000346', 'A00000347', 'A00000348', 'A00000349', 'A00000350', 'A00000351', 'A00000352', 'A00000353', 'A00000354', 'A00000355', 'A00000356', 'A00000357', 'A00000358', 'A00000359', 'A00000360', 'A00000361', 'A00000362', 'A00000363', 'A00000364', 'A00000365', 'A00000366', 'A00000367', 'A00000368', 'A00000370', 'A00000371', 'A00000372', 'A00000373', 'A00000374', 'A00000375', 'A00000376', 'A00000377', 'A00000378', 'A00000379', 'A00000381', 'A00000382', 'A00000383', 'A00000384', 'A00000385', 'A00000386', 'A00000387', 'A00000388', 'A00000389', 'A00000390', 'A00000391', 'A00000392', 'A00000393', 'A00000395', 'A00000396', 'A00000397', 'A00000398', 'A00000399', 'A00000400', 'A00000401', 'A00000402', 'A00000403', 'A00000404', 'A00000405', 'A00000406', 'A00000407', 'A00000408', 'A00000409', 'A00000410', 'A00000411', 'A00000412', 'A00000413', 'A00000414', 'A00000415', 'A00000416', 'A00000417', 'A00000418', 'A00000419', 'A00000420', 'A00000421', 'A00000422', 'A00000423', 'A00000424', 'A00000425', 'A00000426', 'A00000427', 'A00000428', 'A00000429', 'A00000430', 'A00000431', 'A00000432', 'A00000433', 'A00000434', 'A00000435', 'A00000436', 'A00000437', 'A00000438', 'A00000439', 'A00000440', 'A00000441', 'A00000442', 'A00000443', 'A00000444', 'A00000445', 'A00000446', 'A00000447', 'A00000449', 'A00000450', 'A00000451', 'A00000452', 'A00000453', 'A00000454', 'A00000455', 'A00000456', 'A00000458', 'A00000459', 'A00000460', 'A00000461', 'A00000462', 'A00000463', 'A00000464', 'A00000465', 'A00000466', 'A00000467', 'A00000468', 'A00000469', 'A00000470', 'A00000471', 'A00000472', 'A00000473', 'A00000474', 'A00000475', 'A00000476', 'A00000477', 'A00000478', 'A00000479', 'A00000480', 'A00000481', 'A00000483', 'A00000484', 'A00000485', 'A00000486', 'A00000487', 'A00000488', 'A00000489', 'A00000490', 'A00000491', 'A00000492', 'A00000493', 'A00000494', 'A00000496', 'A00000497', 'A00000498', 'A00000500', 'A00000501', 'A00000502', 'A00000503', 'A00000504', 'A00000505', 'A00000506', 'A00000507', 'A00000508', 'A00000509', 'A00000510', 'A00000511', 'A00000512', 'A00000513', 'A00000514', 'A00000515', 'A00000516', 'A00000517', 'A00000518', 'A00000519', 'A00000520', 'A00000521', 'A00000522', 'A00000523', 'A00000524', 'A00000525', 'A00000526', 'A00000528', 'A00000529', 'A00000530', 'A00000531', 'A00000532', 'A00000533', 'A00000534', 'A00000535', 'A00000536', 'A00000537', 'A00000538', 'A00000539', 'A00000540', 'A00000541', 'A00000542', 'A00000543', 'A00000544', 'A00000545', 'A00000546', 'A00000547', 'A00000548', 'A00000549', 'A00000550', 'A00000551', 'A00000552', 'A00000553', 'A00000554', 'A00000555', 'A00000556', 'A00000557', 'A00000558', 'A00000559', 'A00000560', 'A00000561', 'A00000562', 'A00000563', 'A00000564', 'A00000565', 'A00000566', 'A00000567', 'A00000568', 'A00000569', 'A00000570', 'A00000571', 'A00000572', 'A00000573', 'A00000574', 'A00000575', 'A00000576', 'A00000577', 'A00000578', 'A00000579', 'A00000580', 'A00000581', 'A00000582', 'A00000584', 'A00000585', 'A00000586', 'A00000587', 'A00000588', 'A00000589', 'A00000590', 'A00000591', 'A00000592', 'A00000593', 'A00000594', 'A00000595', 'A00000596', 'A00000597', 'A00000598', 'A00000599', 'A00000600', 'A00000601', 'A00000602', 'A00000603', 'A00000604', 'A00000605', 'A00000606', 'A00000607', 'A00000608', 'A00000609', 'A00000610', 'A00000611', 'A00000612', 'A00000613', 'A00000614', 'A00000615', 'A00000616', 'A00000617', 'A00000618', 'A00000619', 'A00000620', 'A00000621', 'A00000622', 'A00000623', 'A00000624', 'A00000625', 'A00000626', 'A00000627', 'A00000628', 'A00000629', 'A00000630', 'A00000631', 'A00000632', 'A00000633', 'A00000635', 'A00000636', 'A00000637', 'A00000638', 'A00000639', 'A00000640', 'A00000641', 'A00000643', 'A00000644', 'A00000645', 'A00000646', 'A00000647', 'A00000648', 'A00000649', 'A00000650', 'A00000651', 'A00000652', 'A00000653', 'A00000654', 'A00000655', 'A00000656', 'A00000657', 'A00000658', 'A00000659', 'A00000660', 'A00000662', 'A00000664', 'A00000665', 'A00000666', 'A00000669', 'A00000671', 'A00000672', 'A00000673', 'A00000674', 'A00000675', 'A00000676', 'A00000677', 'A00000678', 'A00000679', 'A00000680', 'A00000682', 'A00000683', 'A00000684', 'A00000685', 'A00000686', 'A00000687', 'A00000688', 'A00000689', 'A00000690', 'A00000691', 'A00000692', 'A00000693', 'A00000694', 'A00000695', 'A00000696', 'A00000697', 'A00000698', 'A00000699', 'A00000700', 'A00000701', 'A00000702', 'A00000703', 'A00000704', 'A00000705', 'A00000706', 'A00000708', 'A00000709', 'A00000710', 'A00000711', 'A00000712', 'A00000713', 'A00000714', 'A00000715', 'A00000716', 'A00000717', 'A00000718', 'A00000719', 'A00000720', 'A00000721', 'A00000722', 'A00000725', 'A00000726', 'A00000727', 'A00000728', 'A00000729', 'A00000730', 'A00000731', 'A00000732', 'A00000733', 'A00000734', 'A00000735', 'A00000736', 'A00000737', 'A00000738', 'A00000739', 'A00000740', 'A00000741', 'A00000742', 'A00000743', 'A00000744', 'A00000745', 'A00000746', 'A00000747', 'A00000748', 'A00000749', 'A00000750', 'A00000751', 'A00000752', 'A00000753', 'A00000754', 'A00000755', 'A00000756', 'A00000757', 'A00000758', 'A00000759', 'A00000760', 'A00000761', 'A00000762', 'A00000763', 'A00000764', 'A00000765', 'A00000766', 'A00000767', 'A00000768', 'A00000770', 'A00000771', 'A00000772', 'A00000773', 'A00000774', 'A00000775', 'A00000776', 'A00000777', 'A00000778', 'A00000779', 'A00000780', 'A00000781', 'A00000782', 'A00000783', 'A00000784', 'A00000785', 'A00000786', 'A00000787', 'A00000788', 'A00000789', 'A00000790', 'A00000791', 'A00000792', 'A00000793', 'A00000794', 'A00000795', 'A00000796', 'A00000797', 'A00000798', 'A00000799', 'A00000800', 'A00000801', 'A00000802', 'A00000803', 'A00000804', 'A00000805', 'A00000806', 'A00000807', 'A00000808', 'A00000809', 'A00000810', 'A00000811', 'A00000812', 'A00000813', 'A00000814', 'A00000815', 'A00000816', 'A00000817', 'A00000819', 'A00000820', 'A00000821', 'A00000822', 'A00000823', 'A00000824', 'A00000825', 'A00000826', 'A00000827', 'A00000828', 'A00000829', 'A00000830', 'A00000831', 'A00000832', 'A00000833', 'A00000834', 'A00000836', 'A00000837', 'A00000838', 'A00000839', 'A00000840', 'A00000841', 'A00000842', 'A00000843', 'A00000844', 'A00000845', 'A00000846', 'A00000847', 'A00000848', 'A00000849', 'A00000850', 'A00000851', 'A00000852', 'A00000853', 'A00000854', 'A00000855', 'A00000856', 'A00000857', 'A00000858', 'A00000859', 'A00000860', 'A00000861', 'A00000862', 'A00000863', 'A00000864', 'A00000865', 'A00000866', 'A00000867', 'A00000868', 'A00000869', 'A00000870', 'A00000871', 'A00000872', 'A00000873', 'A00000874', 'A00000875', 'A00000876', 'A00000877', 'A00000878', 'A00000879', 'A00000880', 'A00000882', 'A00000883', 'A00000884', 'A00000885', 'A00000886', 'A00000887', 'A00000888', 'A00000889', 'A00000890', 'A00000891', 'A00000892', 'A00000893', 'A00000894', 'A00000895', 'A00000896', 'A00000897', 'A00000898', 'A00000899', 'A00000900', 'A00000901', 'A00000902', 'A00000903', 'A00000904', 'A00000905', 'A00000906', 'A00000907', 'A00000908', 'A00000909', 'A00000910', 'A00000911', 'A00000912', 'A00000913', 'A00000914', 'A00000915', 'A00000916', 'A00000917', 'A00000918', 'A00000919', 'A00000920', 'A00000921', 'A00000922', 'A00000923', 'A00000924', 'A00000925', 'A00000926', 'A00000927', 'A00000928', 'A00000929', 'A00000930', 'A00000931', 'A00000932', 'A00000933', 'A00000934', 'A00000935', 'A00000936', 'A00000937', 'A00000938', 'A00000939', 'A00000940', 'A00000941', 'A00000942', 'A00000943', 'A00000944', 'A00000945', 'A00000946', 'A00000947', 'A00000949', 'A00000950', 'A00000951', 'A00000952', 'A00000953', 'A00000954', 'A00000955', 'A00000956', 'A00000957', 'A00000958', 'A00000959', 'A00000960', 'A00000961', 'A00000962', 'A00000963', 'A00000964', 'A00000965', 'A00000966', 'A00000967', 'A00000968', 'A00000969', 'A00000970', 'A00000971', 'A00000972', 'A00000973', 'A00000974', 'A00000975', 'A00000976', 'A00000977', 'A00000978', 'A00000979', 'A00000980', 'A00000981', 'A00000982', 'A00000984', 'A00000985', 'A00000986', 'A00000987', 'A00000988', 'A00000989', 'A00000990', 'A00000991', 'A00000992', 'A00000993', 'A00000994', 'A00000995', 'A00000996', 'A00000997', 'A00000998', 'A00001000', 'A00001002', 'A00001003', 'A00001004', 'A00001005', 'A00001006', 'A00001007', 'A00001008', 'A00001009', 'A00001010', 'A00001011', 'A00001012', 'A00001013', 'A00001014', 'A00001015', 'A00001016', 'A00001017', 'A00001018', 'A00001019', 'A00001020', 'A00001021', 'A00001022', 'A00001023', 'A00001024', 'A00001026', 'A00001027', 'A00001028', 'A00001029', 'A00001030', 'A00001031', 'A00001032', 'A00001033', 'A00001034', 'A00001035', 'A00001036', 'A00001037', 'A00001038', 'A00001039', 'A00001040', 'A00001042', 'A00001043', 'A00001044', 'A00001045', 'A00001046', 'A00001047', 'A00001048', 'A00001049', 'A00001050', 'A00001051', 'A00001052', 'A00001053', 'A00001054', 'A00001055', 'A00001056', 'A00001057', 'A00001058', 'A00001059', 'A00001060', 'A00001061', 'A00001062', 'A00001063', 'A00001064', 'A00001065', 'A00001066', 'A00001067', 'A00001068', 'A00001069', 'A00001070', 'A00001071', 'A00001072', 'A00001073', 'A00001074', 'A00001075', 'A00001076', 'A00001077', 'A00001078', 'A00001079', 'A00001080', 'A00001081', 'A00001082', 'A00001083', 'A00001085', 'A00001086', 'A00001087', 'A00001088', 'A00001089', 'A00001090', 'A00001091', 'A00001092', 'A00001093', 'A00001094', 'A00001095', 'A00001096', 'A00001097', 'A00001098', 'A00001100', 'A00001101', 'A00001102', 'A00001103', 'A00001104', 'A00001105', 'A00001106', 'A00001107', 'A00001108', 'A00001109', 'A00001110', 'A00001111', 'A00001112', 'A00001113', 'A00001114', 'A00001115', 'A00001116', 'A00001117', 'A00001118', 'A00001120', 'A00001121', 'A00001122', 'A00001123', 'A00001124', 'A00001125', 'A00001126', 'A00001127', 'A00001128', 'A00001129', 'A00001130', 'A00001132', 'A00001133', 'A00001134', 'A00001135', 'A00001136', 'A00001137', 'A00001138', 'A00001139', 'A00001140', 'A00001141', 'A00001142', 'A00001144', 'A00001145', 'A00001146', 'A00001147', 'A00001149', 'A00001150', 'A00001151', 'A00001152', 'A00001153', 'A00001154', 'A00001155', 'A00001156', 'A00001157', 'A00001158', 'A00001159', 'A00001160', 'A00001161', 'A00001164', 'A00001165', 'A00001166', 'A00001168', 'A00001169', 'A00001170', 'A00001171', 'A00001172', 'A00001173', 'A00001174', 'A00001176', 'A00001177', 'A00001178', 'A00001179', 'A00001180', 'A00001181', 'A00001182', 'A00001183', 'A00001184', 'A00001185', 'A00001186', 'A00001187', 'A00001188', 'A00001189', 'A00001190', 'A00001192', 'A00001193', 'A00001194', 'A00001195', 'A00001196', 'A00001197', 'A00001198', 'A00001199', 'A00001200', 'A00001201', 'A00001203', 'A00001204', 'A00001205', 'A00001206', 'A00001207', 'A00001208', 'A00001209', 'A00001210', 'A00001211', 'A00001212', 'A00001213', 'A00001214', 'A00001215', 'A00001216', 'A00001217', 'A00001218', 'A00001219', 'A00001220', 'A00001221', 'A00001222', 'A00001223', 'A00001225', 'A00001226', 'A00001227', 'A00001228', 'A00001229', 'A00001230', 'A00001231', 'A00001232', 'A00001233', 'A00001234', 'A00001235', 'A00001236', 'A00001237', 'A00001238', 'A00001239', 'A00001240', 'A00001241', 'A00001242', 'A00001243', 'A00001244', 'A00001245', 'A00001246', 'A00001247', 'A00001248', 'A00001249', 'A00001250', 'A00001251', 'A00001252', 'A00001253', 'A00001254', 'A00001255', 'A00001256', 'A00001257', 'A00001258', 'A00001259', 'A00001260', 'A00001261', 'A00001262', 'A00001263', 'A00001264', 'A00001265', 'A00001266', 'A00001267', 'A00001268', 'A00001269', 'A00001270', 'A00001271', 'A00001272', 'A00001273', 'A00001274', 'A00001275', 'A00001276', 'A00001277', 'A00001279', 'A00001280', 'A00001281', 'A00001284', 'A00001285', 'A00001286', 'A00001287', 'A00001288', 'A00001289', 'A00001291', 'A00001292', 'A00001293', 'A00001294', 'A00001295', 'A00001296', 'A00001297', 'A00001298', 'A00001299', 'A00001301', 'A00001302', 'A00001303', 'A00001304', 'A00001305', 'A00001306', 'A00001307', 'A00001308', 'A00001309', 'A00001310', 'A00001311', 'A00001312', 'A00001313', 'A00001314', 'A00001315', 'A00001316', 'A00001317', 'A00001318', 'A00001319', 'A00001320', 'A00001321', 'A00001322', 'A00001323', 'A00001324', 'A00001325', 'A00001326', 'A00001327', 'A00001328', 'A00001329', 'A00001330', 'A00001331', 'A00001332', 'A00001333', 'A00001334', 'A00001335', 'A00001336', 'A00001337', 'A00001338', 'A00001339', 'A00001340', 'A00001341', 'A00001342', 'A00001344', 'A00001345', 'A00001346', 'A00001347', 'A00001348', 'A00001349', 'A00001350', 'A00001351', 'A00001352', 'A00001353', 'A00001354', 'A00001355', 'A00001356', 'A00001357', 'A00001358', 'A00001359', 'A00001360', 'A00001361', 'A00001362', 'A00001363', 'A00001365', 'A00001366', 'A00001367', 'A00001368', 'A00001369', 'A00001370', 'A00001371', 'A00001372', 'A00001373', 'A00001374', 'A00001375', 'A00001376', 'A00001377', 'A00001378', 'A00001379', 'A00001380', 'A00001381', 'A00001382', 'A00001383', 'A00001384', 'A00001385', 'A00001387', 'A00001388', 'A00001389', 'A00001390', 'A00001391', 'A00001392', 'A00001393', 'A00001394', 'A00001395', 'A00001396', 'A00001397', 'A00001398', 'A00001399', 'A00001401', 'A00001402', 'A00001403', 'A00001404', 'A00001405', 'A00001406', 'A00001407', 'A00001408', 'A00001410', 'A00001411', 'A00001412', 'A00001413', 'A00001414', 'A00001416', 'A00001417', 'A00001418', 'A00001419', 'A00001420', 'A00001421', 'A00001422', 'A00001423', 'A00001424', 'A00001425', 'A00001426', 'A00001427', 'A00001429', 'A00001430', 'A00001431', 'A00001432', 'A00001434', 'A00001435', 'A00001436', 'A00001437', 'A00001438', 'A00001439', 'A00001440', 'A00001441', 'A00001442', 'A00001443', 'A00001444', 'A00001445', 'A00001446', 'A00001447', 'A00001448', 'A00001449', 'A00001450', 'A00001451', 'A00001452', 'A00001453', 'A00001454', 'A00001455', 'A00001456', 'A00001458', 'A00001459', 'A00001460', 'A00001461', 'A00001463', 'A00001464', 'A00001465', 'A00001466', 'A00001467', 'A00001468', 'A00001469', 'A00001470', 'A00001471', 'A00001472', 'A00001473', 'A00001474', 'A00001475', 'A00001476', 'A00001477', 'A00001478', 'A00001479', 'A00001480', 'A00001481', 'A00001482', 'A00001483', 'A00001484', 'A00001485', 'A00001486', 'A00001487', 'A00001488', 'A00001490', 'A00001491', 'A00001492', 'A00001493', 'A00001494', 'A00001495', 'A00001496', 'A00001497', 'A00001498', 'A00001499', 'A00001500', 'A00001501', 'A00001502', 'A00001503', 'A00001504', 'A00001505', 'A00001506', 'A00001507', 'A00001508', 'A00001509', 'A00001510', 'A00001511', 'A00001512', 'A00001513', 'A00001514', 'A00001515', 'A00001516', 'A00001517', 'A00001518', 'A00001519', 'A00001520', 'A00001521', 'A00001522', 'A00001523', 'A00001524', 'A00001525', 'A00001526', 'A00001527', 'A00001528', 'A00001529', 'A00001530', 'A00001532', 'A00001534', 'A00001535', 'A00001536', 'A00001537', 'A00001538', 'A00001539', 'A00001540', 'A00001541', 'A00001542', 'A00001543', 'A00001544', 'A00001545', 'A00001546', 'A00001547', 'A00001548', 'A00001549', 'A00001550', 'A00001551', 'A00001552', 'A00001553', 'A00001554', 'A00001555', 'A00001556', 'A00001557', 'A00001558', 'A00001559', 'A00001560', 'A00001561', 'A00001562', 'A00001563', 'A00001564', 'A00001565', 'A00001566', 'A00001567', 'A00001568', 'A00001570', 'A00001571', 'A00001572', 'A00001573', 'A00001574', 'A00001575', 'A00001576', 'A00001577', 'A00001578', 'A00001579', 'A00001580', 'A00001581', 'A00001582', 'A00001583', 'A00001584', 'A00001585', 'A00001586', 'A00001587', 'A00001588', 'A00001589', 'A00001590', 'A00001591', 'A00001592', 'A00001593', 'A00001594', 'A00001596', 'A00001597', 'A00001598', 'A00001599', 'A00001600', 'A00001601', 'A00001602', 'A00001603', 'A00001604', 'A00001605', 'A00001606', 'A00001607', 'A00001608', 'A00001609', 'A00001610', 'A00001611', 'A00001612', 'A00001613', 'A00001614', 'A00001615', 'A00001616', 'A00001617', 'A00001618', 'A00001619', 'A00001620', 'A00001621', 'A00001622', 'A00001623', 'A00001624', 'A00001625', 'A00001626', 'A00001627', 'A00001628', 'A00001629', 'A00001630', 'A00001631', 'A00001632', 'A00001633', 'A00001634', 'A00001635', 'A00001636', 'A00001637', 'A00001638', 'A00001640', 'A00001641', 'A00001642', 'A00001644', 'A00001645', 'A00001646', 'A00001647', 'A00001648', 'A00001649', 'A00001650', 'A00001651', 'A00001652', 'A00001653', 'A00001654', 'A00001655', 'A00001656', 'A00001657', 'A00001658', 'A00001659', 'A00001660', 'A00001662', 'A00001663', 'A00001664', 'A00001665', 'A00001666', 'A00001667', 'A00001668', 'A00001669', 'A00001670', 'A00001671', 'A00001672', 'A00001673', 'A00001674', 'A00001675', 'A00001677', 'A00001678', 'A00001679', 'A00001680', 'A00001681', 'A00001682', 'A00001683', 'A00001684', 'A00001685', 'A00001686', 'A00001687', 'A00001688', 'A00001689', 'A00001690', 'A00001691', 'A00001692', 'A00001693', 'A00001694', 'A00001695', 'A00001696', 'A00001697', 'A00001698', 'A00001699', 'A00001700', 'A00001701', 'A00001702', 'A00001703', 'A00001704', 'A00001705', 'A00001706', 'A00001707', 'A00001708', 'A00001709', 'A00001710', 'A00001711', 'A00001712', 'A00001713', 'A00001714', 'A00001715', 'A00001716', 'A00001717', 'A00001718', 'A00001719', 'A00001720', 'A00001721', 'A00001722', 'A00001723', 'A00001724', 'A00001725', 'A00001726', 'A00001727', 'A00001728', 'A00001729', 'A00001730', 'A00001731', 'A00001732', 'A00001733', 'A00001734', 'A00001735', 'A00001736', 'A00001737', 'A00001738', 'A00001739', 'A00001740', 'A00001741', 'A00001742', 'A00001743', 'A00001744', 'A00001745', 'A00001746', 'A00001747', 'A00001749', 'A00001750', 'A00001751', 'A00001752', 'A00001753', 'A00001754', 'A00001756', 'A00001757', 'A00001758', 'A00001759', 'A00001760', 'A00001761', 'A00001762', 'A00001763', 'A00001764', 'A00001765', 'A00001766', 'A00001767', 'A00001768', 'A00001769', 'A00001770', 'A00001771', 'A00001772', 'A00001773', 'A00001774', 'A00001775', 'A00001776', 'A00001777', 'A00001778', 'A00001779', 'A00001780', 'A00001781', 'A00001782', 'A00001783', 'A00001784', 'A00001785', 'A00001786', 'A00001787', 'A00001788', 'A00001789', 'A00001790', 'A00001791', 'A00001792', 'A00001793', 'A00001794', 'A00001795', 'A00001796', 'A00001797', 'A00001798', 'A00001799', 'A00001800', 'A00001801', 'A00001802', 'A00001803', 'A00001804', 'A00001805', 'A00001806', 'A00001807', 'A00001808', 'A00001809', 'A00001810', 'A00001811', 'A00001812', 'A00001813', 'A00001814', 'A00001815', 'A00001816', 'A00001817', 'A00001818', 'A00001819', 'A00001820', 'A00001821', 'A00001822', 'A00001823', 'A00001824', 'A00001825', 'A00001826', 'A00001827', 'A00001828', 'A00001829', 'A00001830', 'A00001831', 'A00001832', 'A00001833', 'A00001834', 'A00001835', 'A00001836', 'A00001837', 'A00001838', 'A00001839', 'A00001840', 'A00001841', 'A00001843', 'A00001844', 'A00001845', 'A00001846', 'A00001847', 'A00001848', 'A00001851', 'A00001852', 'A00001853', 'A00001854', 'A00001855', 'A00001856', 'A00001857', 'A00001858', 'A00001859', 'A00001860', 'A00001861', 'A00001862', 'A00001863', 'A00001865', 'A00001866', 'A00001867', 'A00001868', 'A00001869', 'A00001870', 'A00001871', 'A00001872', 'A00001874', 'A00001875', 'A00001876', 'A00001877', 'A00001878', 'A00001879', 'A00001880', 'A00001881', 'A00001882', 'A00001884', 'A00001885', 'A00001886', 'A00001887', 'A00001888', 'A00001889', 'A00001890', 'A00001891', 'A00001892', 'A00001893', 'A00001894', 'A00001895', 'A00001896', 'A00001897', 'A00001898', 'A00001899', 'A00001900', 'A00001901', 'A00001902', 'A00001903', 'A00001904', 'A00001905', 'A00001906', 'A00001907', 'A00001908', 'A00001909', 'A00001910', 'A00001911', 'A00001912', 'A00001913', 'A00001914', 'A00001915', 'A00001916', 'A00001917', 'A00001918', 'A00001919', 'A00001920', 'A00001921', 'A00001922', 'A00001924', 'A00001925', 'A00001926', 'A00001927', 'A00001928', 'A00001929', 'A00001930', 'A00001931', 'A00001932', 'A00001933', 'A00001934', 'A00001935', 'A00001936', 'A00001937', 'A00001938', 'A00001939', 'A00001940', 'A00001941', 'A00001943', 'A00001944', 'A00001945', 'A00001946', 'A00001947', 'A00001948', 'A00001949', 'A00001950', 'A00001951', 'A00001952', 'A00001953', 'A00001954', 'A00001955', 'A00001956', 'A00001957', 'A00001958', 'A00001959', 'A00001960', 'A00001961', 'A00001962', 'A00001963', 'A00001964', 'A00001965', 'A00001966', 'A00001967', 'A00001968', 'A00001969', 'A00001970', 'A00001971', 'A00001972', 'A00001973', 'A00001974', 'A00001975', 'A00001976', 'A00001977', 'A00001978', 'A00001979', 'A00001980', 'A00001981', 'A00001982', 'A00001983', 'A00001984', 'A00001985', 'A00001986', 'A00001987', 'A00001988', 'A00001989', 'A00001990', 'A00001991', 'A00001992', 'A00001993', 'A00001994', 'A00001995', 'A00001996', 'A00001997', 'A00001998', 'A00001999', 'A00002000', 'A00002001', 'A00002002', 'A00002003', 'A00002004', 'A00002005', 'A00002006', 'A00002007', 'A00002008', 'A00002009', 'A00002010', 'A00002011', 'A00002012', 'A00002013', 'A00002015', 'A00002016', 'A00002017', 'A00002018', 'A00002019', 'A00002020', 'A00002021', 'A00002022', 'A00002023', 'A00002024', 'A00002025', 'A00002026', 'A00002027', 'A00002028', 'A00002029', 'A00002030', 'A00002032', 'A00002033', 'A00002034', 'A00002035', 'A00002036', 'A00002037', 'A00002038', 'A00002039', 'A00002040', 'A00002041', 'A00002042', 'A00002043', 'A00002044', 'A00002045', 'A00002046', 'A00002047', 'A00002048', 'A00002049', 'A00002050', 'A00002051', 'A00002052', 'A00002053', 'A00002054', 'A00002055', 'A00002056', 'A00002057', 'A00002058', 'A00002059', 'A00002060', 'A00002061', 'A00002062', 'A00002063', 'A00002064', 'A00002065', 'A00002066', 'A00002067', 'A00002068', 'A00002069', 'A00002070', 'A00002071', 'A00002072', 'A00002073', 'A00002074', 'A00002075', 'A00002076', 'A00002077', 'A00002078', 'A00002079', 'A00002080', 'A00002081', 'A00002082', 'A00002083', 'A00002084', 'A00002085', 'A00002086', 'A00002087', 'A00002088', 'A00002089', 'A00002090', 'A00002091', 'A00002092', 'A00002093', 'A00002094', 'A00002095', 'A00002096', 'A00002097', 'A00002099', 'A00002101', 'A00002102', 'A00002103', 'A00002104', 'A00002105', 'A00002106', 'A00002107', 'A00002108', 'A00002109', 'A00002110', 'A00002111', 'A00002112', 'A00002113', 'A00002114', 'A00002115', 'A00002116', 'A00002117', 'A00002118', 'A00002119', 'A00002121', 'A00002122', 'A00002123', 'A00002124', 'A00002125', 'A00002126', 'A00002127', 'A00002128', 'A00002130', 'A00002131', 'A00002132', 'A00002133', 'A00002134', 'A00002135', 'A00002136', 'A00002137', 'A00002138', 'A00002139', 'A00002140', 'A00002141', 'A00002142', 'A00002143', 'A00002144', 'A00002146', 'A00002147', 'A00002148', 'A00002149', 'A00002150', 'A00002151', 'A00002152', 'A00002153', 'A00002154', 'A00002155', 'A00002156', 'A00002157', 'A00002158', 'A00002159', 'A00002160', 'A00002161', 'A00002162', 'A00002163', 'A00002164', 'A00002165', 'A00002166', 'A00002167', 'A00002169', 'A00002170', 'A00002172', 'A00002173', 'A00002174', 'A00002175', 'A00002176', 'A00002177', 'A00002178', 'A00002179', 'A00002180', 'A00002182', 'A00002183', 'A00002184', 'A00002185', 'A00002186', 'A00002187', 'A00002189', 'A00002190', 'A00002191', 'A00002192', 'A00002193', 'A00002194', 'A00002195', 'A00002196', 'A00002197', 'A00002199', 'A00002200', 'A00002201', 'A00002203', 'A00002204', 'A00002205', 'A00002206', 'A00002207', 'A00002208', 'A00002209', 'A00002210', 'A00002211', 'A00002212', 'A00002213', 'A00002214', 'A00002215', 'A00002216', 'A00002217', 'A00002218', 'A00002219', 'A00002220', 'A00002221', 'A00002222', 'A00002223', 'A00002224', 'A00002225', 'A00002226', 'A00002227', 'A00002228', 'A00002229', 'A00002230', 'A00002231', 'A00002232', 'A00002233', 'A00002234', 'A00002235', 'A00002236', 'A00002237', 'A00002239', 'A00002240', 'A00002241', 'A00002242', 'A00002243', 'A00002244', 'A00002245', 'A00002246', 'A00002247', 'A00002250', 'A00002252', 'A00002253', 'A00002254', 'A00002255', 'A00002256', 'A00002257', 'A00002258', 'A00002259', 'A00002260', 'A00002261', 'A00002262', 'A00002263', 'A00002264', 'A00002265', 'A00002266', 'A00002267', 'A00002268', 'A00002269', 'A00002270', 'A00002271', 'A00002272', 'A00002274', 'A00002275', 'A00002276', 'A00002278', 'A00002279', 'A00002280', 'A00002281', 'A00002282', 'A00002285', 'A00002286', 'A00002287', 'A00002288', 'A00002289', 'A00002290', 'A00002291', 'A00002292', 'A00002293', 'A00002294', 'A00002295', 'A00002296', 'A00002297', 'A00002298', 'A00002299', 'A00002300', 'A00002301', 'A00002302', 'A00002303', 'A00002304', 'A00002305', 'A00002306', 'A00002307', 'A00002309', 'A00002310', 'A00002311', 'A00002312', 'A00002313', 'A00002314', 'A00002315', 'A00002316', 'A00002317', 'A00002318', 'A00002319', 'A00002321', 'A00002322', 'A00002323', 'A00002324', 'A00002325', 'A00002326', 'A00002327', 'A00002328', 'A00002329', 'A00002330', 'A00002331', 'A00002332', 'A00002333', 'A00002334', 'A00002335', 'A00002336', 'A00002337', 'A00002338', 'A00002339', 'A00002340', 'A00002341', 'A00002342', 'A00002343', 'A00002344', 'A00002345', 'A00002346', 'A00002347', 'A00002348', 'A00002349', 'A00002350', 'A00002351', 'A00002352', 'A00002353', 'A00002354', 'A00002355', 'A00002356', 'A00002357', 'A00002358', 'A00002359', 'A00002360', 'A00002361', 'A00002362', 'A00002363', 'A00002364', 'A00002365', 'A00002366', 'A00002367', 'A00002369', 'A00002370', 'A00002371', 'A00002372', 'A00002373', 'A00002374', 'A00002375', 'A00002376', 'A00002377', 'A00002378', 'A00002379', 'A00002380', 'A00002381', 'A00002382', 'A00002383', 'A00002384', 'A00002385', 'A00002386', 'A00002387', 'A00002388', 'A00002389', 'A00002390', 'A00002391', 'A00002392', 'A00002393', 'A00002394', 'A00002395', 'A00002396', 'A00002397', 'A00002398', 'A00002399', 'A00002400', 'A00002401', 'A00002402', 'A00002403', 'A00002404', 'A00002405', 'A00002406', 'A00002407', 'A00002408', 'A00002409', 'A00002410', 'A00002411', 'A00002413', 'A00002414', 'A00002415', 'A00002416', 'A00002417', 'A00002418', 'A00002419', 'A00002420', 'A00002421', 'A00002422', 'A00002423', 'A00002424', 'A00002425', 'A00002427', 'A00002428', 'A00002429', 'A00002430', 'A00002431', 'A00002432', 'A00002433', 'A00002434', 'A00002435', 'A00002436', 'A00002437', 'A00002438', 'A00002439', 'A00002440', 'A00002441', 'A00002442', 'A00002443', 'A00002444', 'A00002445', 'A00002446', 'A00002447', 'A00002448', 'A00002449', 'A00002450', 'A00002451', 'A00002452', 'A00002453', 'A00002454', 'A00002455', 'A00002456', 'A00002457', 'A00002458', 'A00002459', 'A00002460', 'A00002461', 'A00002463', 'A00002464', 'A00002465', 'A00002466', 'A00002467', 'A00002468', 'A00002469', 'A00002470', 'A00002471', 'A00002472', 'A00002473', 'A00002474', 'A00002475', 'A00002476', 'A00002477', 'A00002479', 'A00002480', 'A00002481', 'A00002482', 'A00002483', 'A00002484', 'A00002485', 'A00002486', 'A00002487', 'A00002488', 'A00002489', 'A00002490', 'A00002491', 'A00002492', 'A00002493', 'A00002494', 'A00002495', 'A00002496', 'A00002497', 'A00002498', 'A00002499', 'A00002500', 'A00002501', 'A00002502', 'A00002503', 'A00002504', 'A00002505', 'A00002506', 'A00002507', 'A00002508', 'A00002509', 'A00002510', 'A00002511', 'A00002513', 'A00002514', 'A00002515', 'A00002516', 'A00002517', 'A00002519', 'A00002520', 'A00002521', 'A00002522', 'A00002523', 'A00002524', 'A00002525', 'A00002526', 'A00002527', 'A00002528', 'A00002530', 'A00002531', 'A00002532', 'A00002533', 'A00002534', 'A00002535', 'A00002536', 'A00002537', 'A00002538', 'A00002539', 'A00002540', 'A00002541', 'A00002542', 'A00002543', 'A00002544', 'A00002545', 'A00002546', 'A00002547', 'A00002548', 'A00002549', 'A00002550', 'A00002551', 'A00002552', 'A00002553', 'A00002554', 'A00002555', 'A00002556', 'A00002557', 'A00002558', 'A00002559', 'A00002560', 'A00002561', 'A00002562', 'A00002563', 'A00002564', 'A00002565', 'A00002566', 'A00002567', 'A00002568', 'A00002569', 'A00002570', 'A00002571', 'A00002572', 'A00002573', 'A00002574', 'A00002575', 'A00002576', 'A00002577', 'A00002578', 'A00002579', 'A00002580', 'A00002581', 'A00002582', 'A00002583', 'A00002584', 'A00002585', 'A00002586', 'A00002587', 'A00002588', 'A00002589', 'A00002590', 'A00002591', 'A00002592', 'A00002593', 'A00002594', 'A00002595', 'A00002596', 'A00002597', 'A00002598', 'A00002599', 'A00002600', 'A00002601', 'A00002602', 'A00002603', 'A00002604', 'A00002605', 'A00002606', 'A00002607', 'A00002608', 'A00002609', 'A00002610', 'A00002611', 'A00002612', 'A00002613', 'A00002614', 'A00002615', 'A00002616', 'A00002617', 'A00002618', 'A00002619', 'A00002620', 'A00002621', 'A00002622', 'A00002623', 'A00002624', 'A00002625', 'A00002627', 'A00002628', 'A00002629', 'A00002630', 'A00002631', 'A00002632', 'A00002633', 'A00002634', 'A00002635', 'A00002636', 'A00002637', 'A00002638', 'A00002639', 'A00002640', 'A00002641', 'A00002642', 'A00002644', 'A00002645', 'A00002646', 'A00002647', 'A00002648', 'A00002649', 'A00002650', 'A00002651', 'A00002652', 'A00002653', 'A00002654', 'A00002655', 'A00002656', 'A00002657', 'A00002658', 'A00002659', 'A00002660', 'A00002661', 'A00002662', 'A00002663', 'A00002664', 'A00002665', 'A00002666', 'A00002667', 'A00002668', 'A00002670', 'A00002671', 'A00002672', 'A00002673', 'A00002674', 'A00002675', 'A00002676', 'A00002677', 'A00002678', 'A00002679', 'A00002680', 'A00002681', 'A00002684', 'A00002685', 'A00002686', 'A00002687', 'A00002688', 'A00002689', 'A00002690', 'A00002691', 'A00002692', 'A00002693', 'A00002694', 'A00002695', 'A00002696', 'A00002697', 'A00002698', 'A00002699', 'A00002700', 'A00002701', 'A00002702', 'A00002703', 'A00002705', 'A00002706', 'A00002707', 'A00002708', 'A00002709', 'A00002710', 'A00002711', 'A00002712', 'A00002713', 'A00002714', 'A00002715', 'A00002716', 'A00002717', 'A00002718', 'A00002719', 'A00002720', 'A00002721', 'A00002722', 'A00002723', 'A00002724', 'A00002725', 'A00002726', 'A00002727', 'A00002728', 'A00002729', 'A00002730', 'A00002731', 'A00002732', 'A00002733', 'A00002734', 'A00002736', 'A00002737', 'A00002738', 'A00002739', 'A00002740', 'A00002741', 'A00002742', 'A00002743', 'A00002744', 'A00002745', 'A00002746', 'A00002747', 'A00002749', 'A00002750', 'A00002751', 'A00002752', 'A00002753', 'A00002754', 'A00002755', 'A00002756', 'A00002757', 'A00002758', 'A00002759', 'A00002760', 'A00002761', 'A00002762', 'A00002763', 'A00002764', 'A00002765', 'A00002766', 'A00002767', 'A00002768', 'A00002770', 'A00002771', 'A00002772', 'A00002773', 'A00002774', 'A00002775', 'A00002776', 'A00002777', 'A00002778', 'A00002779', 'A00002780', 'A00002781', 'A00002782', 'A00002783', 'A00002784', 'A00002787', 'A00002788', 'A00002789', 'A00002790', 'A00002791', 'A00002792', 'A00002793', 'A00002794', 'A00002795', 'A00002796', 'A00002797', 'A00002798', 'A00002799', 'A00002800', 'A00002801', 'A00002802', 'A00002803', 'A00002804', 'A00002805', 'A00002806', 'A00002807', 'A00002808', 'A00002809', 'A00002810', 'A00002811', 'A00002812', 'A00002813', 'A00002814', 'A00002816', 'A00002817', 'A00002818', 'A00002819', 'A00002820', 'A00002821', 'A00002823', 'A00002824', 'A00002825', 'A00002826', 'A00002827', 'A00002829', 'A00002830', 'A00002831', 'A00002832', 'A00002833', 'A00002834', 'A00002835', 'A00002836', 'A00002837', 'A00002838', 'A00002839', 'A00002840', 'A00002841', 'A00002842', 'A00002843', 'A00002844', 'A00002845', 'A00002846', 'A00002847', 'A00002849', 'A00002850', 'A00002851', 'A00002852', 'A00002853', 'A00002854', 'A00002855', 'A00002856', 'A00002857', 'A00002858', 'A00002859', 'A00002860', 'A00002861', 'A00002862', 'A00002863', 'A00002864', 'A00002865', 'A00002866', 'A00002867', 'A00002868', 'A00002869', 'A00002870', 'A00002871', 'A00002872', 'A00002873', 'A00002874', 'A00002875', 'A00002876', 'A00002877', 'A00002878', 'A00002879', 'A00002880', 'A00002881', 'A00002882', 'A00002883', 'A00002884', 'A00002885', 'A00002886', 'A00002887', 'A00002888', 'A00002889', 'A00002890', 'A00002891', 'A00002892', 'A00002893', 'A00002894', 'A00002895', 'A00002896', 'A00002897', 'A00002898', 'A00002899', 'A00002900', 'A00002901', 'A00002902', 'A00002903', 'A00002904', 'A00002905', 'A00002906', 'A00002907', 'A00002908', 'A00002909', 'A00002910', 'A00002911', 'A00002912', 'A00002913', 'A00002914', 'A00002915', 'A00002916', 'A00002917', 'A00002918', 'A00002919', 'A00002920', 'A00002921', 'A00002922', 'A00002923', 'A00002924', 'A00002925', 'A00002926', 'A00002927', 'A00002928', 'A00002929', 'A00002930', 'A00002931', 'A00002932', 'A00002933', 'A00002934', 'A00002935', 'A00002936', 'A00002937', 'A00002938', 'A00002939', 'A00002940', 'A00002942', 'A00002944', 'A00002945', 'A00002946', 'A00002947', 'A00002949', 'A00002950', 'A00002951', 'A00002952', 'A00002953', 'A00002954', 'A00002955', 'A00002956', 'A00002957', 'A00002958', 'A00002959', 'A00002960', 'A00002961', 'A00002962', 'A00002963', 'A00002964', 'A00002965', 'A00002966', 'A00002967', 'A00002968', 'A00002969', 'A00002970', 'A00002971', 'A00002972', 'A00002973', 'A00002974', 'A00002976', 'A00002977', 'A00002978', 'A00002979', 'A00002980', 'A00002981', 'A00002982', 'A00002983', 'A00002985', 'A00002986', 'A00002987', 'A00002988', 'A00002989', 'A00002990', 'A00002991', 'A00002992', 'A00002993', 'A00002994', 'A00002995', 'A00002996', 'A00002997', 'A00002998', 'A00002999', 'A00003000', 'A00003001', 'A00003003', 'A00003004', 'A00003005', 'A00003006', 'A00003007', 'A00003008', 'A00003009', 'A00003010', 'A00003011', 'A00003012', 'A00003013', 'A00003014', 'A00003015', 'A00003016', 'A00003017', 'A00003018', 'A00003019', 'A00003020', 'A00003021', 'A00003022', 'A00003023', 'A00003024', 'A00003025', 'A00003026', 'A00003027', 'A00003028', 'A00003029', 'A00003030', 'A00003031', 'A00003032', 'A00003033', 'A00003035', 'A00003036', 'A00003037', 'A00003038', 'A00003039', 'A00003040', 'A00003041', 'A00003042', 'A00003043', 'A00003044', 'A00003045', 'A00003046', 'A00003047', 'A00003048', 'A00003049', 'A00003050', 'A00003051', 'A00003052', 'A00003053', 'A00003055', 'A00003056', 'A00003057', 'A00003058', 'A00003059', 'A00003060', 'A00003061', 'A00003062', 'A00003063', 'A00003064', 'A00003066', 'A00003067', 'A00003068', 'A00003069', 'A00003070', 'A00003071', 'A00003072', 'A00003074', 'A00003075', 'A00003076', 'A00003077', 'A00003078', 'A00003079', 'A00003080', 'A00003082', 'A00003083', 'A00003084', 'A00003085', 'A00003086', 'A00003087', 'A00003088', 'A00003089', 'A00003090', 'A00003091', 'A00003092', 'A00003093', 'A00003094', 'A00003096', 'A00003097', 'A00003098', 'A00003099', 'A00003100', 'A00003101', 'A00003102', 'A00003103', 'A00003104', 'A00003105', 'A00003106', 'A00003107', 'A00003108', 'A00003109', 'A00003110', 'A00003111', 'A00003112', 'A00003113', 'A00003114', 'A00003115', 'A00003116', 'A00003117', 'A00003118', 'A00003119', 'A00003120', 'A00003121', 'A00003122', 'A00003124', 'A00003125', 'A00003126', 'A00003127', 'A00003128', 'A00003129', 'A00003130', 'A00003131', 'A00003132', 'A00003133', 'A00003134', 'A00003135', 'A00003136', 'A00003137', 'A00003138', 'A00003139', 'A00003140', 'A00003141', 'A00003142', 'A00003143', 'A00003144', 'A00003145', 'A00003146', 'A00003147', 'A00003148', 'A00003149', 'A00003151', 'A00003152', 'A00003153', 'A00003154', 'A00003155', 'A00003156', 'A00003157', 'A00003158', 'A00003160', 'A00003161', 'A00003162', 'A00003163', 'A00003164', 'A00003166', 'A00003167', 'A00003168', 'A00003169', 'A00003170', 'A00003171', 'A00003172', 'A00003173', 'A00003174', 'A00003175', 'A00003176', 'A00003177', 'A00003178', 'A00003179', 'A00003180', 'A00003181', 'A00003182', 'A00003183', 'A00003184', 'A00003185', 'A00003186', 'A00003187', 'A00003188', 'A00003189', 'A00003190', 'A00003191', 'A00003192', 'A00003193', 'A00003194', 'A00003195', 'A00003196', 'A00003197', 'A00003199', 'A00003200', 'A00003201', 'A00003202', 'A00003203', 'A00003204', 'A00003205', 'A00003206', 'A00003208', 'A00003209', 'A00003210', 'A00003211', 'A00003212', 'A00003213', 'A00003214', 'A00003216', 'A00003217', 'A00003218', 'A00003219', 'A00003220', 'A00003221', 'A00003222', 'A00003223', 'A00003224', 'A00003225', 'A00003226', 'A00003227', 'A00003228', 'A00003229', 'A00003230', 'A00003231', 'A00003232', 'A00003233', 'A00003234', 'A00003235', 'A00003236', 'A00003237', 'A00003238', 'A00003239', 'A00003240', 'A00003241', 'A00003242', 'A00003243', 'A00003244', 'A00003245', 'A00003246', 'A00003247', 'A00003248', 'A00003249', 'A00003250', 'A00003251', 'A00003252', 'A00003253', 'A00003254', 'A00003255', 'A00003256', 'A00003258', 'A00003259', 'A00003260', 'A00003261', 'A00003262', 'A00003263', 'A00003264', 'A00003265', 'A00003266', 'A00003267', 'A00003268', 'A00003269', 'A00003270', 'A00003271', 'A00003272', 'A00003273', 'A00003274', 'A00003275', 'A00003276', 'A00003277', 'A00003278', 'A00003279', 'A00003280', 'A00003281', 'A00003282', 'A00003283', 'A00003284', 'A00003285', 'A00003286', 'A00003287', 'A00003288', 'A00003289', 'A00003290', 'A00003291', 'A00003292', 'A00003293', 'A00003294', 'A00003296', 'A00003297', 'A00003298', 'A00003299', 'A00003300', 'A00003301', 'A00003302', 'A00003303', 'A00003304', 'A00003305', 'A00003306', 'A00003307', 'A00003308', 'A00003309', 'A00003310', 'A00003311', 'A00003312', 'A00003314', 'A00003315', 'A00003316', 'A00003317', 'A00003318', 'A00003319', 'A00003320', 'A00003321', 'A00003322', 'A00003323', 'A00003324', 'A00003325', 'A00003326', 'A00003327', 'A00003328', 'A00003329', 'A00003330', 'A00003331', 'A00003332', 'A00003333', 'A00003334', 'A00003335', 'A00003336', 'A00003337', 'A00003338', 'A00003339', 'A00003342', 'A00003343', 'A00003344', 'A00003345', 'A00003346', 'A00003347', 'A00003348', 'A00003349', 'A00003350', 'A00003351', 'A00003352', 'A00003353', 'A00003354', 'A00003355', 'A00003357', 'A00003358', 'A00003359', 'A00003360', 'A00003361', 'A00003362', 'A00003363', 'A00003364', 'A00003365', 'A00003366', 'A00003367', 'A00003368', 'A00003369', 'A00003370', 'A00003371', 'A00003372', 'A00003373', 'A00003374', 'A00003375', 'A00003376', 'A00003377', 'A00003378', 'A00003379', 'A00003380', 'A00003381', 'A00003382', 'A00003383', 'A00003384', 'A00003385', 'A00003386', 'A00003387', 'A00003389', 'A00003390', 'A00003391', 'A00003392', 'A00003393', 'A00003394', 'A00003395', 'A00003396', 'A00003397', 'A00003398', 'A00003399', 'A00003401', 'A00003402', 'A00003403', 'A00003404', 'A00003405', 'A00003406', 'A00003407', 'A00003408', 'A00003409', 'A00003410', 'A00003411', 'A00003412', 'A00003413', 'A00003415', 'A00003417', 'A00003418', 'A00003419', 'A00003421', 'A00003422', 'A00003423', 'A00003424', 'A00003425', 'A00003426', 'A00003427', 'A00003428', 'A00003429', 'A00003430', 'A00003431', 'A00003432', 'A00003433', 'A00003434', 'A00003435', 'A00003436', 'A00003437', 'A00003438', 'A00003439', 'A00003440', 'A00003442', 'A00003443', 'A00003444', 'A00003445', 'A00003446', 'A00003448', 'A00003449', 'A00003450', 'A00003451', 'A00003452', 'A00003453', 'A00003454', 'A00003455', 'A00003456', 'A00003457', 'A00003458', 'A00003459', 'A00003460', 'A00003461', 'A00003462', 'A00003463', 'A00003464', 'A00003465', 'A00003466', 'A00003467', 'A00003468', 'A00003469', 'A00003470', 'A00003471', 'A00003472', 'A00003474', 'A00003476', 'A00003477', 'A00003478', 'A00003479', 'A00003480', 'A00003482', 'A00003483', 'A00003484', 'A00003485', 'A00003486', 'A00003487', 'A00003489', 'A00003490', 'A00003491', 'A00003492', 'A00003493', 'A00003494', 'A00003495', 'A00003496', 'A00003497', 'A00003498', 'A00003499', 'A00003501', 'A00003502', 'A00003503', 'A00003504', 'A00003505', 'A00003506', 'A00003507', 'A00003508', 'A00003509', 'A00003510', 'A00003511', 'A00003512', 'A00003513', 'A00003514', 'A00003515', 'A00003516', 'A00003517', 'A00003518', 'A00003519', 'A00003520', 'A00003521', 'A00003522', 'A00003523', 'A00003524', 'A00003525', 'A00003526', 'A00003527', 'A00003528', 'A00003529', 'A00003530', 'A00003531', 'A00003532', 'A00003533', 'A00003534', 'A00003535', 'A00003536', 'A00003537', 'A00003538', 'A00003539', 'A00003540', 'A00003541', 'A00003542', 'A00003543', 'A00003544', 'A00003545', 'A00003546', 'A00003547', 'A00003548', 'A00003549', 'A00003550', 'A00003551', 'A00003552', 'A00003553', 'A00003554', 'A00003555', 'A00003556', 'A00003557', 'A00003558', 'A00003559', 'A00003560', 'A00003561', 'A00003562', 'A00003563', 'A00003564', 'A00003565', 'A00003566', 'A00003567', 'A00003568', 'A00003569', 'A00003570', 'A00003571', 'A00003572', 'A00003573', 'A00003574', 'A00003575', 'A00003576', 'A00003577', 'A00003578', 'A00003579', 'A00003580', 'A00003581', 'A00003582', 'A00003583', 'A00003584', 'A00003585', 'A00003586', 'A00003587', 'A00003588', 'A00003589', 'A00003590', 'A00003591', 'A00003592', 'A00003593', 'A00003594', 'A00003595', 'A00003596', 'A00003597', 'A00003598', 'A00003599', 'A00003600', 'A00003601', 'A00003602', 'A00003603', 'A00003604', 'A00003605', 'A00003606', 'A00003608', 'A00003609', 'A00003610', 'A00003612', 'A00003613', 'A00003614', 'A00003615', 'A00003616', 'A00003617', 'A00003618', 'A00003620', 'A00003621', 'A00003622', 'A00003623', 'A00003624', 'A00003625', 'A00003626', 'A00003628', 'A00003629', 'A00003631', 'A00003632', 'A00003633', 'A00003634', 'A00003635', 'A00003636', 'A00003637', 'A00003638', 'A00003639', 'A00003640', 'A00003641', 'A00003643', 'A00003644', 'A00003645', 'A00003646', 'A00003647', 'A00003648', 'A00003649', 'A00003650', 'A00003651', 'A00003652', 'A00003653', 'A00003654', 'A00003655', 'A00003656', 'A00003657', 'A00003658', 'A00003659', 'A00003660', 'A00003661', 'A00003662', 'A00003663', 'A00003664', 'A00003665', 'A00003667', 'A00003668', 'A00003669', 'A00003670', 'A00003671', 'A00003672', 'A00003673', 'A00003674', 'A00003675', 'A00003676', 'A00003677', 'A00003678', 'A00003679', 'A00003680', 'A00003681', 'A00003682', 'A00003683', 'A00003684', 'A00003686', 'A00003687', 'A00003688', 'A00003689', 'A00003690', 'A00003691', 'A00003692', 'A00003693', 'A00003694', 'A00003695', 'A00003696', 'A00003697', 'A00003698', 'A00003699', 'A00003700', 'A00003701', 'A00003702', 'A00003703', 'A00003704', 'A00003705', 'A00003706', 'A00003708', 'A00003709', 'A00003710', 'A00003711', 'A00003712', 'A00003713', 'A00003714', 'A00003715', 'A00003716', 'A00003717', 'A00003718', 'A00003719', 'A00003720', 'A00003721', 'A00003722', 'A00003723', 'A00003724', 'A00003725', 'A00003726', 'A00003727', 'A00003728', 'A00003729', 'A00003730', 'A00003731', 'A00003732', 'A00003733', 'A00003734', 'A00003735', 'A00003736', 'A00003737', 'A00003738', 'A00003739', 'A00003741', 'A00003742', 'A00003743', 'A00003745', 'A00003746', 'A00003747', 'A00003748', 'A00003749', 'A00003750', 'A00003751', 'A00003752', 'A00003753', 'A00003754', 'A00003755', 'A00003756', 'A00003757', 'A00003758', 'A00003759', 'A00003760', 'A00003763', 'A00003764', 'A00003765', 'A00003766', 'A00003767', 'A00003768', 'A00003769', 'A00003770', 'A00003771', 'A00003772', 'A00003773', 'A00003774', 'A00003775', 'A00003776', 'A00003777', 'A00003778', 'A00003779', 'A00003780', 'A00003781', 'A00003782', 'A00003783', 'A00003784', 'A00003785', 'A00003786', 'A00003787', 'A00003788', 'A00003789', 'A00003790', 'A00003791', 'A00003792', 'A00003793', 'A00003794', 'A00003795', 'A00003796', 'A00003797', 'A00003798', 'A00003799', 'A00003800', 'A00003801', 'A00003802', 'A00003803', 'A00003804', 'A00003805', 'A00003806', 'A00003807', 'A00003808', 'A00003809', 'A00003810', 'A00003811', 'A00003812', 'A00003813', 'A00003814', 'A00003815', 'A00003816', 'A00003817', 'A00003818', 'A00003819', 'A00003820', 'A00003821', 'A00003822', 'A00003823', 'A00003824', 'A00003825', 'A00003826', 'A00003827', 'A00003828', 'A00003830', 'A00003832', 'A00003833', 'A00003834', 'A00003835', 'A00003836', 'A00003837', 'A00003838', 'A00003839', 'A00003840', 'A00003841', 'A00003842', 'A00003843', 'A00003844', 'A00003845', 'A00003846', 'A00003847', 'A00003848', 'A00003849', 'A00003850', 'A00003851', 'A00003852', 'A00003854', 'A00003855', 'A00003856', 'A00003857', 'A00003858', 'A00003859', 'A00003860', 'A00003861', 'A00003862', 'A00003863', 'A00003864', 'A00003865', 'A00003866', 'A00003867', 'A00003868', 'A00003869', 'A00003870', 'A00003871', 'A00003872', 'A00003874', 'A00003875', 'A00003876', 'A00003877', 'A00003878', 'A00003880', 'A00003881', 'A00003882', 'A00003883', 'A00003884', 'A00003885', 'A00003886', 'A00003887', 'A00003888', 'A00003889', 'A00003890', 'A00003891', 'A00003892', 'A00003893', 'A00003894', 'A00003895', 'A00003896', 'A00003897', 'A00003898', 'A00003899', 'A00003901', 'A00003902', 'A00003903', 'A00003904', 'A00003905', 'A00003906', 'A00003907', 'A00003908', 'A00003909', 'A00003910', 'A00003911', 'A00003912', 'A00003913', 'A00003914', 'A00003915', 'A00003916', 'A00003917', 'A00003918', 'A00003919', 'A00003920', 'A00003921', 'A00003922', 'A00003923', 'A00003924', 'A00003925', 'A00003926', 'A00003927', 'A00003928', 'A00003930', 'A00003931', 'A00003932', 'A00003933', 'A00003934', 'A00003935', 'A00003936', 'A00003937', 'A00003938', 'A00003939', 'A00003940', 'A00003941', 'A00003942', 'A00003943', 'A00003944', 'A00003945', 'A00003946', 'A00003947', 'A00003948', 'A00003949', 'A00003950', 'A00003951', 'A00003952', 'A00003953', 'A00003954', 'A00003955', 'A00003956', 'A00003957', 'A00003958', 'A00003959', 'A00003960', 'A00003961', 'A00003962', 'A00003963', 'A00003964', 'A00003965', 'A00003966', 'A00003967', 'A00003968', 'A00003969', 'A00003970', 'A00003971', 'A00003972', 'A00003973', 'A00003974', 'A00003975', 'A00003976', 'A00003977', 'A00003978', 'A00003979', 'A00003980', 'A00003981', 'A00003982', 'A00003983', 'A00003984', 'A00003985', 'A00003986', 'A00003987', 'A00003988', 'A00003989', 'A00003990', 'A00003991', 'A00003992', 'A00003993', 'A00003994', 'A00003995', 'A00003996', 'A00003997', 'A00003998', 'A00003999', 'A00004000', 'A00004001', 'A00004003', 'A00004008', 'A00004009', 'A00004010', 'A00004013', 'A00004014', 'A00004026', 'A00004033', 'A00004034', 'A00004035', 'A00004047', 'A00004052', 'A00004055', 'A00004059', 'A00004066', 'A00004069', 'A00004071', 'A00004078', 'A00004079', 'A00004081', 'A00004082', 'A00004086', 'A00004088', 'A00004090', 'A00004091', 'A00004092', 'A00004093', 'A00004099', 'A00004102', 'A00004103', 'A00004105', 'A00004109', 'A00004116', 'A00004119', 'A00004121', 'A00004127', 'A00004128', 'A00004130', 'A00004131', 'A00004132', 'A00004134', 'A00004140', 'A00004143', 'A00004144', 'A00004150', 'A00004156', 'A00004158', 'A00004159', 'A00004161', 'A00004171', 'A00004173', 'A00004186', 'A00004190', 'A00004195', 'A00004204', 'A00004208', 'A00004214', 'A00004225', 'A00004237', 'A00004240', 'A00004245', 'A00004253', 'A00004254', 'A00004255', 'A00004258', 'A00004259', 'A00004260', 'A00004263', 'A00004264', 'A00004266', 'A00004268', 'A00004269', 'A00004273', 'A00004276', 'A00004283', 'A00004286', 'A00004287', 'A00004293', 'A00004296', 'A00004301', 'A00004309', 'A00004318', 'A00004320', 'A00004321', 'A00004328', 'A00004329', 'A00004330', 'A00004332', 'A00004336', 'A00004337', 'A00004342', 'A00004343', 'A00004346', 'A00004347', 'A00004349', 'A00004350', 'A00004352', 'A00004354', 'A00004355', 'A00004356', 'A00004358', 'A00004361', 'A00004368', 'A00004375', 'A00004377', 'A00004379', 'A00004383', 'A00004385', 'A00004386', 'A00004389', 'A00004405', 'A00004408', 'A00004413', 'A00004414', 'A00004415', 'A00004416', 'A00004418', 'A00004423', 'A00004424', 'A00004427', 'A00004434', 'A00004437', 'A00004438', 'A00004439', 'A00004442', 'A00004445', 'A00004447', 'A00004448', 'A00004454', 'A00004456', 'A00004458', 'A00004462', 'A00004463', 'A00004467', 'A00004470', 'A00004471', 'A00004473', 'A00004475', 'A00004476', 'A00004478', 'A00004480', 'A00004484', 'A00004488', 'A00004493', 'A00004503', 'A00004511', 'A00004514', 'A00004519', 'A00004526', 'A00004527', 'A00004533', 'A00004534', 'A00004537', 'A00004538', 'A00004543', 'A00004550', 'A00004576', 'A00004580', 'A00004585', 'A00004588', 'A00004589', 'A00004596', 'A00004616', 'A00004618', 'A00004626', 'A00004631', 'A00004650', 'A00004659', 'A00004660', 'A00004681', 'A00004715', 'A00004725', 'A00004727', 'A00004729', 'A00004743', 'A00004746', 'A00004753', 'A00004768', 'A00004774', 'A00004784', 'A00004794', 'A00004803', 'A00004825', 'A00004851', 'A00004852', 'A00004858', 'A00004863', 'A00004894', 'A00004907', 'A00004937', 'A00004948', 'A00004949', 'A00004969', 'A00004981', 'A00004994', 'A00004995', 'A00004999', 'A00005001', 'A00005011', 'A00005024', 'A00005033', 'A00005063', 'A00005065', 'A00005066', 'A00005072', 'A00005092', 'A00005118', 'A00005120', 'A00005125', 'A00005126', 'A00005129', 'A00005133', 'A00005164', 'A00005180', 'A00005181', 'A00005194', 'A00005196', 'A00005213', 'A00005215', 'A00005228', 'A00005250', 'A00005256', 'A00005263', 'A00005267', 'A00005269', 'A00005270', 'A00005283', 'A00005290', 'A00005305', 'A00005313', 'A00005317', 'A00005343', 'A00005357', 'A00005358', 'A00005362', 'A00005366', 'A00005369', 'A00005372', 'A00005385', 'A00005387', 'A00005395', 'A00005422', 'A00005423', 'A00005428', 'A00005429', 'A00005442', 'A00005445', 'A00005472', 'A00005477', 'A00005481', 'A00005483', 'A00005505', 'A00005541', 'A00005546', 'A00005572', 'A00005574', 'A00005591', 'A00005593', 'A00005602', 'A00005622', 'A00005628', 'A00005632', 'A00005648', 'A00005650', 'A00005661', 'A00005692', 'A00005698', 'A00005700', 'A00005708', 'A00005724', 'A00005726', 'A00005735', 'A00005740', 'A00005742', 'A00005758', 'A00005767', 'A00005774', 'A00005794', 'A00005817', 'A00005837', 'A00005868', 'A00005870', 'A00005878', 'A00005891', 'A00005912', 'A00005927', 'A00005944', 'A00005952', 'A00005984', 'A00005991', 'A00006030', 'A00006034', 'A00006040', 'A00006051', 'A00006061', 'A00006062', 'A00006064', 'A00006075', 'A00006083', 'A00006097', 'A00006118', 'A00006138', 'A00006148', 'A00006157', 'A00006158', 'A00006226', 'A00006265', 'A00006273', 'A00006281', 'A00006289', 'A00006306', 'A00006321', 'A00006353', 'A00006358', 'A00006363', 'A00006397', 'A00006400', 'A00006425', 'A00006434', 'A00006440', 'A00006453', 'A00006461', 'A00006463', 'A00006472', 'A00006473', 'A00006495', 'A00006505', 'A00006510', 'A00006511', 'A00006512', 'A00006555', 'A00006592', 'A00006602', 'A00006609', 'A00006636', 'A00006649', 'A00006678', 'A00006686', 'A00006688', 'A00006699', 'A00006701', 'A00006706', 'A00006715', 'A00006738', 'A00006792', 'A00006806', 'A00006856', 'A00006866', 'A00006872', 'A00006897', 'A00006902', 'A00006910', 'A00006922', 'A00006924', 'A00006927', 'A00006930', 'A00006950', 'A00006985', 'A00007011', 'A00007033', 'A00007045', 'A00007049', 'A00007052', 'A00007082', 'A00007099', 'A00007101', 'A00007123', 'A00007133', 'A00007136', 'A00007156', 'A00007176', 'A00007180', 'A00007181', 'A00007184', 'A00007190', 'A00007203', 'A00007231', 'A00007240', 'A00007262', 'A00007274', 'A00007401', 'A00007418', 'A00007424', 'A00007437', 'A00007445', 'A00007449', 'A00007454', 'A00007465', 'A00007485', 'A00007487', 'A00007520', 'A00007523', 'A00007542', 'A00007546', 'A00007559', 'A00007562', 'A00007565', 'A00007594', 'A00007606', 'A00007607', 'A00007614', 'A00007618', 'A00007632', 'A00007636', 'A00007637', 'A00007674', 'A00007713', 'A00007721', 'A00007733', 'A00007745', 'A00007753', 'A00007765', 'A00007769', 'A00007774', 'A00007795', 'A00007815', 'A00007819', 'A00007824', 'A00007828', 'A00007844', 'A00007857', 'A00007859', 'A00007861', 'A00007890', 'A00007894', 'A00007907', 'A00007926', 'A00007944', 'A00007957', 'A00007965', 'A00007966', 'A00007990', 'A00007997', 'A00008026', 'A00008027', 'A00008038', 'A00008039', 'A00008041', 'A00008051', 'A00008073', 'A00008085', 'A00008092', 'A00008094', 'A00008114', 'A00008127', 'A00008129', 'A00008132', 'A00008149', 'A00008153', 'A00008158', 'A00008159', 'A00008169', 'A00008173', 'A00008212', 'A00008225', 'A00008260', 'A00008261', 'A00008268', 'A00008316', 'A00008320', 'A00008321', 'A00008327', 'A00008330', 'A00008341', 'A00008377', 'A00008381', 'A00008405', 'A00008411', 'A00008475', 'A00008489', 'A00008492', 'A00008505', 'A00008519', 'A00008523', 'A00008533', 'A00008547', 'A00008558', 'A00008564', 'A00008566', 'A00008625', 'A00008628', 'A00008639', 'A00008645', 'A00008680', 'A00008688', 'A00008713', 'A00008742', 'A00008759', 'A00008772', 'A00008776', 'A00008784', 'A00008856', 'A00008896', 'A00008899', 'A00008919', 'A00008926', 'A00008931', 'A00008934', 'A00008957', 'A00008972', 'A00008982', 'A00008998', 'A00009006', 'A00009017', 'A00009024', 'A00009030', 'A00009031', 'A00009034', 'A00009037', 'A00009041', 'A00009051', 'A00009052', 'A00009093', 'A00009104', 'A00009138', 'A00009140', 'A00009153', 'A00009156', 'A00009159', 'A00009167', 'A00009179', 'A00009188', 'A00009192', 'A00009199', 'A00009201', 'A00009203', 'A00009208', 'A00009225', 'A00009227', 'A00009235', 'A00009236', 'A00009241', 'A00009242', 'A00009263', 'A00009265', 'A00009307', 'A00009333', 'A00009337', 'A00009353', 'A00009377', 'A00009403', 'A00009422', 'A00009424', 'A00009433', 'A00009455', 'A00009472', 'A00009484', 'A00009491', 'A00009493', 'A00009494', 'A00009504', 'A00009510', 'A00009513', 'A00009528', 'A00009548', 'A00009549', 'A00009560', 'A00009583', 'A00009591', 'A00009627', 'A00009631', 'A00009633', 'A00009635', 'A00009640', 'A00009645', 'A00009646', 'A00009656', 'A00009673', 'A00009677', 'A00009703', 'A00009707', 'A00009730', 'A00009731', 'A00009750', 'A00009790', 'A00009814', 'A00009826', 'A00009828', 'A00009833', 'A00009859', 'A00009869', 'A00009883', 'A00009897', 'A00009928', 'A00010001', 'A00010005', 'A00010018', 'A00010019', 'A00010022', 'A00010036', 'A00010049', 'A00010063', 'A00010065', 'A00010068', 'A00010079', 'A00010093', 'A00010105', 'A00010131', 'A00010134', 'A00010148', 'A00010152', 'A00010202', 'A00010215', 'A00010220', 'A00010227', 'A00010233', 'A00010243', 'A00010257', 'A00010266', 'A00010280', 'A00010297', 'A00010320', 'A00010343', 'A00010345', 'A00010351', 'A00010361', 'A00010364', 'A00010365', 'A00010404', 'A00010411', 'A00010436', 'A00010439', 'A00010440', 'A00010445', 'A00010451', 'A00010478', 'A00010493', 'A00010520', 'A00010558', 'A00010562', 'A00010607', 'A00010613', 'A00010630', 'A00010644', 'A00010645', 'A00010650', 'A00010652', 'A00010656', 'A00010663', 'A00010670', 'A00010679', 'A00010694', 'A00010710', 'A00010711', 'A00010728', 'A00010738', 'A00010762', 'A00010774', 'A00010788', 'A00010789', 'A00010799', 'A00010807', 'A00010812', 'A00010857', 'A00010884', 'A00010904', 'A00010905', 'A00010906', 'A00010911', 'A00010915', 'A00010940', 'A00010942', 'A00010954', 'A00010963', 'A00010973', 'A00011013', 'A00011021', 'A00011027', 'A00011042', 'A00011053', 'A00011054', 'A00011065', 'A00011069', 'A00011079', 'A00011096', 'A00011111', 'A00011123', 'A00011135', 'A00011138', 'A00011141', 'A00011186', 'A00011231', 'A00011244', 'A00011265', 'A00011271', 'A00011295', 'A00011317', 'A00011320', 'A00011325', 'A00011327', 'A00011328', 'A00011333', 'A00011349', 'A00011359', 'A00011362', 'A00011382'])"
            ]
          },
          "metadata": {
            "tags": []
          },
          "execution_count": 157
        }
      ]
    },
    {
      "cell_type": "code",
      "metadata": {
        "colab": {
          "base_uri": "https://localhost:8080/"
        },
        "id": "vfGhl1DpX-9Y",
        "outputId": "d8e82b04-da68-4062-ee90-bc5747526128"
      },
      "source": [
        "print(\"max trans lenght is: \", df['amount'].count().max())\n",
        "maxlen = df['amount'].count().max()\n",
        "df['amount'].count()"
      ],
      "execution_count": null,
      "outputs": [
        {
          "output_type": "stream",
          "text": [
            "max trans lenght is:  675\n"
          ],
          "name": "stdout"
        },
        {
          "output_type": "execute_result",
          "data": {
            "text/plain": [
              "account_id\n",
              "A00000001    239\n",
              "A00000002    478\n",
              "A00000003    117\n",
              "A00000004    186\n",
              "A00000005     84\n",
              "            ... \n",
              "A00011333    368\n",
              "A00011349    304\n",
              "A00011359    378\n",
              "A00011362    344\n",
              "A00011382    253\n",
              "Name: amount, Length: 4500, dtype: int64"
            ]
          },
          "metadata": {
            "tags": []
          },
          "execution_count": 185
        }
      ]
    },
    {
      "cell_type": "code",
      "metadata": {
        "colab": {
          "base_uri": "https://localhost:8080/",
          "height": 739
        },
        "id": "LVvZpWlDQ_Au",
        "outputId": "5defa82b-b4fe-43a6-ad32-a18e4c395b9d"
      },
      "source": [
        "df.get_group('A00000001')"
      ],
      "execution_count": null,
      "outputs": [
        {
          "output_type": "execute_result",
          "data": {
            "text/html": [
              "<div>\n",
              "<style scoped>\n",
              "    .dataframe tbody tr th:only-of-type {\n",
              "        vertical-align: middle;\n",
              "    }\n",
              "\n",
              "    .dataframe tbody tr th {\n",
              "        vertical-align: top;\n",
              "    }\n",
              "\n",
              "    .dataframe thead th {\n",
              "        text-align: right;\n",
              "    }\n",
              "</style>\n",
              "<table border=\"1\" class=\"dataframe\">\n",
              "  <thead>\n",
              "    <tr style=\"text-align: right;\">\n",
              "      <th></th>\n",
              "      <th>trans_id</th>\n",
              "      <th>account_id</th>\n",
              "      <th>type</th>\n",
              "      <th>operation</th>\n",
              "      <th>amount</th>\n",
              "      <th>balance</th>\n",
              "      <th>k_symbol</th>\n",
              "      <th>bank</th>\n",
              "      <th>account</th>\n",
              "      <th>year</th>\n",
              "      <th>month</th>\n",
              "      <th>day</th>\n",
              "      <th>fulldate</th>\n",
              "      <th>fulltime</th>\n",
              "      <th>fulldatewithtime</th>\n",
              "      <th>timestamp</th>\n",
              "    </tr>\n",
              "  </thead>\n",
              "  <tbody>\n",
              "    <tr>\n",
              "      <th>149432</th>\n",
              "      <td>T00000001</td>\n",
              "      <td>A00000001</td>\n",
              "      <td>Credit</td>\n",
              "      <td>Credit in Cash</td>\n",
              "      <td>1000.0</td>\n",
              "      <td>1000.0</td>\n",
              "      <td>NaN</td>\n",
              "      <td>NaN</td>\n",
              "      <td>NaN</td>\n",
              "      <td>2015</td>\n",
              "      <td>3</td>\n",
              "      <td>24</td>\n",
              "      <td>2015-03-24</td>\n",
              "      <td>10:21:45</td>\n",
              "      <td>2015-03-24T10:21:45</td>\n",
              "      <td>1427155200</td>\n",
              "    </tr>\n",
              "    <tr>\n",
              "      <th>157404</th>\n",
              "      <td>T00000005</td>\n",
              "      <td>A00000001</td>\n",
              "      <td>Credit</td>\n",
              "      <td>Collection from Another Bank</td>\n",
              "      <td>3679.0</td>\n",
              "      <td>4679.0</td>\n",
              "      <td>NaN</td>\n",
              "      <td>JPMorgan Chase</td>\n",
              "      <td>41403269.0</td>\n",
              "      <td>2015</td>\n",
              "      <td>4</td>\n",
              "      <td>13</td>\n",
              "      <td>2015-04-13</td>\n",
              "      <td>08:54:57</td>\n",
              "      <td>2015-04-13T08:54:57</td>\n",
              "      <td>1428883200</td>\n",
              "    </tr>\n",
              "    <tr>\n",
              "      <th>158832</th>\n",
              "      <td>T00000199</td>\n",
              "      <td>A00000001</td>\n",
              "      <td>Credit</td>\n",
              "      <td>Credit in Cash</td>\n",
              "      <td>12600.0</td>\n",
              "      <td>17279.0</td>\n",
              "      <td>NaN</td>\n",
              "      <td>NaN</td>\n",
              "      <td>NaN</td>\n",
              "      <td>2015</td>\n",
              "      <td>4</td>\n",
              "      <td>23</td>\n",
              "      <td>2015-04-23</td>\n",
              "      <td>10:54:46</td>\n",
              "      <td>2015-04-23T10:54:46</td>\n",
              "      <td>1429747200</td>\n",
              "    </tr>\n",
              "    <tr>\n",
              "      <th>162681</th>\n",
              "      <td>T03530438</td>\n",
              "      <td>A00000001</td>\n",
              "      <td>Credit</td>\n",
              "      <td>NaN</td>\n",
              "      <td>19.2</td>\n",
              "      <td>17298.2</td>\n",
              "      <td>Interest Credited</td>\n",
              "      <td>NaN</td>\n",
              "      <td>NaN</td>\n",
              "      <td>2015</td>\n",
              "      <td>4</td>\n",
              "      <td>30</td>\n",
              "      <td>2015-04-30</td>\n",
              "      <td>11:01:59</td>\n",
              "      <td>2015-04-30T11:01:59</td>\n",
              "      <td>1430352000</td>\n",
              "    </tr>\n",
              "    <tr>\n",
              "      <th>167083</th>\n",
              "      <td>T00000006</td>\n",
              "      <td>A00000001</td>\n",
              "      <td>Credit</td>\n",
              "      <td>Collection from Another Bank</td>\n",
              "      <td>3679.0</td>\n",
              "      <td>20977.2</td>\n",
              "      <td>NaN</td>\n",
              "      <td>JPMorgan Chase</td>\n",
              "      <td>41403269.0</td>\n",
              "      <td>2015</td>\n",
              "      <td>5</td>\n",
              "      <td>13</td>\n",
              "      <td>2015-05-13</td>\n",
              "      <td>10:33:00</td>\n",
              "      <td>2015-05-13T10:33:00</td>\n",
              "      <td>1431475200</td>\n",
              "    </tr>\n",
              "    <tr>\n",
              "      <th>...</th>\n",
              "      <td>...</td>\n",
              "      <td>...</td>\n",
              "      <td>...</td>\n",
              "      <td>...</td>\n",
              "      <td>...</td>\n",
              "      <td>...</td>\n",
              "      <td>...</td>\n",
              "      <td>...</td>\n",
              "      <td>...</td>\n",
              "      <td>...</td>\n",
              "      <td>...</td>\n",
              "      <td>...</td>\n",
              "      <td>...</td>\n",
              "      <td>...</td>\n",
              "      <td>...</td>\n",
              "      <td>...</td>\n",
              "    </tr>\n",
              "    <tr>\n",
              "      <th>1032336</th>\n",
              "      <td>T03530481</td>\n",
              "      <td>A00000001</td>\n",
              "      <td>Credit</td>\n",
              "      <td>NaN</td>\n",
              "      <td>67.1</td>\n",
              "      <td>16701.5</td>\n",
              "      <td>Interest Credited</td>\n",
              "      <td>NaN</td>\n",
              "      <td>NaN</td>\n",
              "      <td>2018</td>\n",
              "      <td>11</td>\n",
              "      <td>30</td>\n",
              "      <td>2018-11-30</td>\n",
              "      <td>13:58:35</td>\n",
              "      <td>2018-11-30T13:58:35</td>\n",
              "      <td>1543536000</td>\n",
              "    </tr>\n",
              "    <tr>\n",
              "      <th>1033713</th>\n",
              "      <td>T00000230</td>\n",
              "      <td>A00000001</td>\n",
              "      <td>Debit</td>\n",
              "      <td>Cash Withdrawal</td>\n",
              "      <td>4500.0</td>\n",
              "      <td>12186.9</td>\n",
              "      <td>NaN</td>\n",
              "      <td>NaN</td>\n",
              "      <td>NaN</td>\n",
              "      <td>2018</td>\n",
              "      <td>12</td>\n",
              "      <td>3</td>\n",
              "      <td>2018-12-03</td>\n",
              "      <td>13:09:19</td>\n",
              "      <td>2018-12-03T13:09:19</td>\n",
              "      <td>1543795200</td>\n",
              "    </tr>\n",
              "    <tr>\n",
              "      <th>1035097</th>\n",
              "      <td>T00000097</td>\n",
              "      <td>A00000001</td>\n",
              "      <td>Debit</td>\n",
              "      <td>Remittance to Another Bank</td>\n",
              "      <td>2452.0</td>\n",
              "      <td>9734.9</td>\n",
              "      <td>Household</td>\n",
              "      <td>State Street Corp.</td>\n",
              "      <td>87144583.0</td>\n",
              "      <td>2018</td>\n",
              "      <td>12</td>\n",
              "      <td>5</td>\n",
              "      <td>2018-12-05</td>\n",
              "      <td>11:42:20</td>\n",
              "      <td>2018-12-05T11:42:20</td>\n",
              "      <td>1543968000</td>\n",
              "    </tr>\n",
              "    <tr>\n",
              "      <th>1045493</th>\n",
              "      <td>T00000049</td>\n",
              "      <td>A00000001</td>\n",
              "      <td>Credit</td>\n",
              "      <td>Collection from Another Bank</td>\n",
              "      <td>3679.0</td>\n",
              "      <td>13413.9</td>\n",
              "      <td>NaN</td>\n",
              "      <td>JPMorgan Chase</td>\n",
              "      <td>41403269.0</td>\n",
              "      <td>2018</td>\n",
              "      <td>12</td>\n",
              "      <td>13</td>\n",
              "      <td>2018-12-13</td>\n",
              "      <td>14:00:08</td>\n",
              "      <td>2018-12-13T14:00:08</td>\n",
              "      <td>1544659200</td>\n",
              "    </tr>\n",
              "    <tr>\n",
              "      <th>1056137</th>\n",
              "      <td>T03530482</td>\n",
              "      <td>A00000001</td>\n",
              "      <td>Credit</td>\n",
              "      <td>NaN</td>\n",
              "      <td>52.6</td>\n",
              "      <td>13466.5</td>\n",
              "      <td>Interest Credited</td>\n",
              "      <td>NaN</td>\n",
              "      <td>NaN</td>\n",
              "      <td>2018</td>\n",
              "      <td>12</td>\n",
              "      <td>31</td>\n",
              "      <td>2018-12-31</td>\n",
              "      <td>14:07:49</td>\n",
              "      <td>2018-12-31T14:07:49</td>\n",
              "      <td>1546214400</td>\n",
              "    </tr>\n",
              "  </tbody>\n",
              "</table>\n",
              "<p>239 rows × 16 columns</p>\n",
              "</div>"
            ],
            "text/plain": [
              "          trans_id account_id  ...     fulldatewithtime   timestamp\n",
              "149432   T00000001  A00000001  ...  2015-03-24T10:21:45  1427155200\n",
              "157404   T00000005  A00000001  ...  2015-04-13T08:54:57  1428883200\n",
              "158832   T00000199  A00000001  ...  2015-04-23T10:54:46  1429747200\n",
              "162681   T03530438  A00000001  ...  2015-04-30T11:01:59  1430352000\n",
              "167083   T00000006  A00000001  ...  2015-05-13T10:33:00  1431475200\n",
              "...            ...        ...  ...                  ...         ...\n",
              "1032336  T03530481  A00000001  ...  2018-11-30T13:58:35  1543536000\n",
              "1033713  T00000230  A00000001  ...  2018-12-03T13:09:19  1543795200\n",
              "1035097  T00000097  A00000001  ...  2018-12-05T11:42:20  1543968000\n",
              "1045493  T00000049  A00000001  ...  2018-12-13T14:00:08  1544659200\n",
              "1056137  T03530482  A00000001  ...  2018-12-31T14:07:49  1546214400\n",
              "\n",
              "[239 rows x 16 columns]"
            ]
          },
          "metadata": {
            "tags": []
          },
          "execution_count": 127
        }
      ]
    },
    {
      "cell_type": "code",
      "metadata": {
        "id": "XCmMLHpMTx0P"
      },
      "source": [
        "# my_list=[list(df_trans.loc[x][['amount','timestamp']])  for x in df.groups['A00000001']]"
      ],
      "execution_count": null,
      "outputs": []
    },
    {
      "cell_type": "code",
      "metadata": {
        "id": "3wHV4YGGRcxf"
      },
      "source": [
        "# series = [(pd.concat([v.amount, v.timestamp], axis=1).values)for k, v in df_trans.groupby('account_id')]\n",
        "series=[]\n",
        "for k, v in df_trans.groupby('account_id'):\n",
        "  user_trans_array = pd.concat([v.amount, v.timestamp], axis=1).values\n",
        "  array=user_trans_array.copy()\n",
        "  array.resize((maxlen,2),refcheck=False)\n",
        "  series.append(array)"
      ],
      "execution_count": null,
      "outputs": []
    },
    {
      "cell_type": "code",
      "metadata": {
        "colab": {
          "base_uri": "https://localhost:8080/"
        },
        "id": "_Ynxrg3AfR_r",
        "outputId": "b39578e6-0484-4ee8-cb93-966c7e104beb"
      },
      "source": [
        "x=np.array(series)\n",
        "x.shape"
      ],
      "execution_count": null,
      "outputs": [
        {
          "output_type": "execute_result",
          "data": {
            "text/plain": [
              "(4500, 675, 2)"
            ]
          },
          "metadata": {
            "tags": []
          },
          "execution_count": 204
        }
      ]
    },
    {
      "cell_type": "code",
      "metadata": {
        "id": "3EqdjIK_awUX"
      },
      "source": [
        "example=df.get_group('A00000001')\n",
        "example = example.append(pd.Series(0, index=example.columns), ignore_index=True)"
      ],
      "execution_count": null,
      "outputs": []
    },
    {
      "cell_type": "code",
      "metadata": {
        "colab": {
          "base_uri": "https://localhost:8080/",
          "height": 36
        },
        "id": "7Dni0YtFZ-o-",
        "outputId": "df948038-dda8-4b60-c903-aeed8d55fb6e"
      },
      "source": [
        "a=list(df.groups.keys())\n",
        "a[2761]"
      ],
      "execution_count": null,
      "outputs": [
        {
          "output_type": "execute_result",
          "data": {
            "application/vnd.google.colaboratory.intrinsic+json": {
              "type": "string"
            },
            "text/plain": [
              "'A00002902'"
            ]
          },
          "metadata": {
            "tags": []
          },
          "execution_count": 75
        }
      ]
    },
    {
      "cell_type": "code",
      "metadata": {
        "colab": {
          "base_uri": "https://localhost:8080/",
          "height": 310
        },
        "id": "goOSxs1vaVuf",
        "outputId": "b916f488-070b-4f90-d847-3dab432cb09a"
      },
      "source": [
        "[list(df_trans.iloc[x][['amount','timestamp']])  for x in df.groups['A00002902']]"
      ],
      "execution_count": null,
      "outputs": [
        {
          "output_type": "error",
          "ename": "IndexError",
          "evalue": "ignored",
          "traceback": [
            "\u001b[0;31m---------------------------------------------------------------------------\u001b[0m",
            "\u001b[0;31mIndexError\u001b[0m                                Traceback (most recent call last)",
            "\u001b[0;32m<ipython-input-76-02822d48817d>\u001b[0m in \u001b[0;36m<module>\u001b[0;34m()\u001b[0m\n\u001b[0;32m----> 1\u001b[0;31m \u001b[0;34m[\u001b[0m\u001b[0mlist\u001b[0m\u001b[0;34m(\u001b[0m\u001b[0mdf_trans\u001b[0m\u001b[0;34m.\u001b[0m\u001b[0miloc\u001b[0m\u001b[0;34m[\u001b[0m\u001b[0mx\u001b[0m\u001b[0;34m]\u001b[0m\u001b[0;34m[\u001b[0m\u001b[0;34m[\u001b[0m\u001b[0;34m'amount'\u001b[0m\u001b[0;34m,\u001b[0m\u001b[0;34m'timestamp'\u001b[0m\u001b[0;34m]\u001b[0m\u001b[0;34m]\u001b[0m\u001b[0;34m)\u001b[0m  \u001b[0;32mfor\u001b[0m \u001b[0mx\u001b[0m \u001b[0;32min\u001b[0m \u001b[0mdf\u001b[0m\u001b[0;34m.\u001b[0m\u001b[0mgroups\u001b[0m\u001b[0;34m[\u001b[0m\u001b[0;34m'A00002902'\u001b[0m\u001b[0;34m]\u001b[0m\u001b[0;34m]\u001b[0m\u001b[0;34m\u001b[0m\u001b[0;34m\u001b[0m\u001b[0m\n\u001b[0m",
            "\u001b[0;32m<ipython-input-76-02822d48817d>\u001b[0m in \u001b[0;36m<listcomp>\u001b[0;34m(.0)\u001b[0m\n\u001b[0;32m----> 1\u001b[0;31m \u001b[0;34m[\u001b[0m\u001b[0mlist\u001b[0m\u001b[0;34m(\u001b[0m\u001b[0mdf_trans\u001b[0m\u001b[0;34m.\u001b[0m\u001b[0miloc\u001b[0m\u001b[0;34m[\u001b[0m\u001b[0mx\u001b[0m\u001b[0;34m]\u001b[0m\u001b[0;34m[\u001b[0m\u001b[0;34m[\u001b[0m\u001b[0;34m'amount'\u001b[0m\u001b[0;34m,\u001b[0m\u001b[0;34m'timestamp'\u001b[0m\u001b[0;34m]\u001b[0m\u001b[0;34m]\u001b[0m\u001b[0;34m)\u001b[0m  \u001b[0;32mfor\u001b[0m \u001b[0mx\u001b[0m \u001b[0;32min\u001b[0m \u001b[0mdf\u001b[0m\u001b[0;34m.\u001b[0m\u001b[0mgroups\u001b[0m\u001b[0;34m[\u001b[0m\u001b[0;34m'A00002902'\u001b[0m\u001b[0;34m]\u001b[0m\u001b[0;34m]\u001b[0m\u001b[0;34m\u001b[0m\u001b[0;34m\u001b[0m\u001b[0m\n\u001b[0m",
            "\u001b[0;32m/usr/local/lib/python3.6/dist-packages/pandas/core/indexing.py\u001b[0m in \u001b[0;36m__getitem__\u001b[0;34m(self, key)\u001b[0m\n\u001b[1;32m    877\u001b[0m \u001b[0;34m\u001b[0m\u001b[0m\n\u001b[1;32m    878\u001b[0m             \u001b[0mmaybe_callable\u001b[0m \u001b[0;34m=\u001b[0m \u001b[0mcom\u001b[0m\u001b[0;34m.\u001b[0m\u001b[0mapply_if_callable\u001b[0m\u001b[0;34m(\u001b[0m\u001b[0mkey\u001b[0m\u001b[0;34m,\u001b[0m \u001b[0mself\u001b[0m\u001b[0;34m.\u001b[0m\u001b[0mobj\u001b[0m\u001b[0;34m)\u001b[0m\u001b[0;34m\u001b[0m\u001b[0;34m\u001b[0m\u001b[0m\n\u001b[0;32m--> 879\u001b[0;31m             \u001b[0;32mreturn\u001b[0m \u001b[0mself\u001b[0m\u001b[0;34m.\u001b[0m\u001b[0m_getitem_axis\u001b[0m\u001b[0;34m(\u001b[0m\u001b[0mmaybe_callable\u001b[0m\u001b[0;34m,\u001b[0m \u001b[0maxis\u001b[0m\u001b[0;34m=\u001b[0m\u001b[0maxis\u001b[0m\u001b[0;34m)\u001b[0m\u001b[0;34m\u001b[0m\u001b[0;34m\u001b[0m\u001b[0m\n\u001b[0m\u001b[1;32m    880\u001b[0m \u001b[0;34m\u001b[0m\u001b[0m\n\u001b[1;32m    881\u001b[0m     \u001b[0;32mdef\u001b[0m \u001b[0m_is_scalar_access\u001b[0m\u001b[0;34m(\u001b[0m\u001b[0mself\u001b[0m\u001b[0;34m,\u001b[0m \u001b[0mkey\u001b[0m\u001b[0;34m:\u001b[0m \u001b[0mTuple\u001b[0m\u001b[0;34m)\u001b[0m\u001b[0;34m:\u001b[0m\u001b[0;34m\u001b[0m\u001b[0;34m\u001b[0m\u001b[0m\n",
            "\u001b[0;32m/usr/local/lib/python3.6/dist-packages/pandas/core/indexing.py\u001b[0m in \u001b[0;36m_getitem_axis\u001b[0;34m(self, key, axis)\u001b[0m\n\u001b[1;32m   1494\u001b[0m \u001b[0;34m\u001b[0m\u001b[0m\n\u001b[1;32m   1495\u001b[0m             \u001b[0;31m# validate the location\u001b[0m\u001b[0;34m\u001b[0m\u001b[0;34m\u001b[0m\u001b[0;34m\u001b[0m\u001b[0m\n\u001b[0;32m-> 1496\u001b[0;31m             \u001b[0mself\u001b[0m\u001b[0;34m.\u001b[0m\u001b[0m_validate_integer\u001b[0m\u001b[0;34m(\u001b[0m\u001b[0mkey\u001b[0m\u001b[0;34m,\u001b[0m \u001b[0maxis\u001b[0m\u001b[0;34m)\u001b[0m\u001b[0;34m\u001b[0m\u001b[0;34m\u001b[0m\u001b[0m\n\u001b[0m\u001b[1;32m   1497\u001b[0m \u001b[0;34m\u001b[0m\u001b[0m\n\u001b[1;32m   1498\u001b[0m             \u001b[0;32mreturn\u001b[0m \u001b[0mself\u001b[0m\u001b[0;34m.\u001b[0m\u001b[0mobj\u001b[0m\u001b[0;34m.\u001b[0m\u001b[0m_ixs\u001b[0m\u001b[0;34m(\u001b[0m\u001b[0mkey\u001b[0m\u001b[0;34m,\u001b[0m \u001b[0maxis\u001b[0m\u001b[0;34m=\u001b[0m\u001b[0maxis\u001b[0m\u001b[0;34m)\u001b[0m\u001b[0;34m\u001b[0m\u001b[0;34m\u001b[0m\u001b[0m\n",
            "\u001b[0;32m/usr/local/lib/python3.6/dist-packages/pandas/core/indexing.py\u001b[0m in \u001b[0;36m_validate_integer\u001b[0;34m(self, key, axis)\u001b[0m\n\u001b[1;32m   1435\u001b[0m         \u001b[0mlen_axis\u001b[0m \u001b[0;34m=\u001b[0m \u001b[0mlen\u001b[0m\u001b[0;34m(\u001b[0m\u001b[0mself\u001b[0m\u001b[0;34m.\u001b[0m\u001b[0mobj\u001b[0m\u001b[0;34m.\u001b[0m\u001b[0m_get_axis\u001b[0m\u001b[0;34m(\u001b[0m\u001b[0maxis\u001b[0m\u001b[0;34m)\u001b[0m\u001b[0;34m)\u001b[0m\u001b[0;34m\u001b[0m\u001b[0;34m\u001b[0m\u001b[0m\n\u001b[1;32m   1436\u001b[0m         \u001b[0;32mif\u001b[0m \u001b[0mkey\u001b[0m \u001b[0;34m>=\u001b[0m \u001b[0mlen_axis\u001b[0m \u001b[0;32mor\u001b[0m \u001b[0mkey\u001b[0m \u001b[0;34m<\u001b[0m \u001b[0;34m-\u001b[0m\u001b[0mlen_axis\u001b[0m\u001b[0;34m:\u001b[0m\u001b[0;34m\u001b[0m\u001b[0;34m\u001b[0m\u001b[0m\n\u001b[0;32m-> 1437\u001b[0;31m             \u001b[0;32mraise\u001b[0m \u001b[0mIndexError\u001b[0m\u001b[0;34m(\u001b[0m\u001b[0;34m\"single positional indexer is out-of-bounds\"\u001b[0m\u001b[0;34m)\u001b[0m\u001b[0;34m\u001b[0m\u001b[0;34m\u001b[0m\u001b[0m\n\u001b[0m\u001b[1;32m   1438\u001b[0m \u001b[0;34m\u001b[0m\u001b[0m\n\u001b[1;32m   1439\u001b[0m     \u001b[0;31m# -------------------------------------------------------------------\u001b[0m\u001b[0;34m\u001b[0m\u001b[0;34m\u001b[0m\u001b[0;34m\u001b[0m\u001b[0m\n",
            "\u001b[0;31mIndexError\u001b[0m: single positional indexer is out-of-bounds"
          ]
        }
      ]
    },
    {
      "cell_type": "code",
      "metadata": {
        "colab": {
          "base_uri": "https://localhost:8080/",
          "height": 118
        },
        "id": "qmqS4Tfaav0t",
        "outputId": "7f02b25a-f477-46ae-8f6e-4709c4e1b2b0"
      },
      "source": [
        "x=df.groups['A00002902'][-1]\n",
        "\n",
        "df_trans.loc[[x]]\n",
        "# df_trans.iloc[x][['amount','timestamp']]"
      ],
      "execution_count": null,
      "outputs": [
        {
          "output_type": "execute_result",
          "data": {
            "text/html": [
              "<div>\n",
              "<style scoped>\n",
              "    .dataframe tbody tr th:only-of-type {\n",
              "        vertical-align: middle;\n",
              "    }\n",
              "\n",
              "    .dataframe tbody tr th {\n",
              "        vertical-align: top;\n",
              "    }\n",
              "\n",
              "    .dataframe thead th {\n",
              "        text-align: right;\n",
              "    }\n",
              "</style>\n",
              "<table border=\"1\" class=\"dataframe\">\n",
              "  <thead>\n",
              "    <tr style=\"text-align: right;\">\n",
              "      <th></th>\n",
              "      <th>trans_id</th>\n",
              "      <th>account_id</th>\n",
              "      <th>type</th>\n",
              "      <th>operation</th>\n",
              "      <th>amount</th>\n",
              "      <th>balance</th>\n",
              "      <th>k_symbol</th>\n",
              "      <th>bank</th>\n",
              "      <th>account</th>\n",
              "      <th>year</th>\n",
              "      <th>month</th>\n",
              "      <th>day</th>\n",
              "      <th>fulldate</th>\n",
              "      <th>fulltime</th>\n",
              "      <th>fulldatewithtime</th>\n",
              "      <th>timestamp</th>\n",
              "    </tr>\n",
              "  </thead>\n",
              "  <tbody>\n",
              "    <tr>\n",
              "      <th>1056320</th>\n",
              "      <td>T03626540</td>\n",
              "      <td>A00002902</td>\n",
              "      <td>Credit</td>\n",
              "      <td>NaN</td>\n",
              "      <td>164.1</td>\n",
              "      <td>41642.9</td>\n",
              "      <td>Interest Credited</td>\n",
              "      <td>NaN</td>\n",
              "      <td>NaN</td>\n",
              "      <td>2018</td>\n",
              "      <td>12</td>\n",
              "      <td>31</td>\n",
              "      <td>2018-12-31</td>\n",
              "      <td>10:44:40</td>\n",
              "      <td>2018-12-31T10:44:40</td>\n",
              "      <td>1546214400</td>\n",
              "    </tr>\n",
              "  </tbody>\n",
              "</table>\n",
              "</div>"
            ],
            "text/plain": [
              "          trans_id account_id  ...     fulldatewithtime   timestamp\n",
              "1056320  T03626540  A00002902  ...  2018-12-31T10:44:40  1546214400\n",
              "\n",
              "[1 rows x 16 columns]"
            ]
          },
          "metadata": {
            "tags": []
          },
          "execution_count": 90
        }
      ]
    },
    {
      "cell_type": "code",
      "metadata": {
        "colab": {
          "base_uri": "https://localhost:8080/"
        },
        "id": "z9U9e01BUsbc",
        "outputId": "18922ba5-f071-4fe4-e68e-dcfd1ceba95e"
      },
      "source": [
        "np.array(my_list)"
      ],
      "execution_count": null,
      "outputs": [
        {
          "output_type": "execute_result",
          "data": {
            "text/plain": [
              "(239, 2)"
            ]
          },
          "metadata": {
            "tags": []
          },
          "execution_count": 63
        }
      ]
    },
    {
      "cell_type": "code",
      "metadata": {
        "colab": {
          "background_save": true,
          "base_uri": "https://localhost:8080/",
          "height": 101,
          "referenced_widgets": [
            "9f7ab74da20e4bcf9f99ae552980ef86",
            "77eb4bd86c3447f3ad4e33a17e445cae",
            "4d4075199ae4427bb72734a4555b40f9",
            "a8db9b81340a4ad2b674dc3f019a886d",
            "1a0ad296fca84bf98b4c7456decd8bc0",
            "c9d37d5e5e38427097d7f87c20fad771",
            "2ab877f5bc41417fba9115bdd3ce9a54",
            "0ca235748a9c4847a8b6314f48d0eeb4"
          ]
        },
        "id": "2ezTjJnYV77Y",
        "outputId": "36d7295e-8a09-441f-a902-d14ee5317bd9"
      },
      "source": [
        "from tqdm import tqdm\n",
        "all_trans=[]\n",
        "for k in tqdm_notebook(df.groups.keys()):\n",
        "  my_list=[list(df_trans.loc[x][['amount','timestamp']])  for x in df.groups[k]]\n",
        "  all_trans.append(my_list)\n",
        "# all_trans= np.array(all_trans)"
      ],
      "execution_count": null,
      "outputs": [
        {
          "output_type": "stream",
          "text": [
            "/usr/local/lib/python3.6/dist-packages/ipykernel_launcher.py:3: TqdmDeprecationWarning: This function will be removed in tqdm==5.0.0\n",
            "Please use `tqdm.notebook.tqdm` instead of `tqdm.tqdm_notebook`\n",
            "  This is separate from the ipykernel package so we can avoid doing imports until\n"
          ],
          "name": "stderr"
        },
        {
          "output_type": "display_data",
          "data": {
            "application/vnd.jupyter.widget-view+json": {
              "model_id": "9f7ab74da20e4bcf9f99ae552980ef86",
              "version_major": 2,
              "version_minor": 0
            },
            "text/plain": [
              "HBox(children=(FloatProgress(value=0.0, max=4500.0), HTML(value='')))"
            ]
          },
          "metadata": {
            "tags": []
          }
        },
        {
          "output_type": "stream",
          "text": [
            "\n"
          ],
          "name": "stdout"
        }
      ]
    },
    {
      "cell_type": "code",
      "metadata": {
        "id": "g0dW6kucdqj0",
        "colab": {
          "base_uri": "https://localhost:8080/",
          "height": 165
        },
        "outputId": "fa0b5949-4690-488b-a80f-133bab8de98d"
      },
      "source": [
        "my_list.shape"
      ],
      "execution_count": null,
      "outputs": [
        {
          "output_type": "error",
          "ename": "AttributeError",
          "evalue": "ignored",
          "traceback": [
            "\u001b[0;31m---------------------------------------------------------------------------\u001b[0m",
            "\u001b[0;31mAttributeError\u001b[0m                            Traceback (most recent call last)",
            "\u001b[0;32m<ipython-input-97-f5a9514c5b7a>\u001b[0m in \u001b[0;36m<module>\u001b[0;34m()\u001b[0m\n\u001b[0;32m----> 1\u001b[0;31m \u001b[0mmy_list\u001b[0m\u001b[0;34m.\u001b[0m\u001b[0mshape\u001b[0m\u001b[0;34m\u001b[0m\u001b[0;34m\u001b[0m\u001b[0m\n\u001b[0m",
            "\u001b[0;31mAttributeError\u001b[0m: 'list' object has no attribute 'shape'"
          ]
        }
      ]
    },
    {
      "cell_type": "code",
      "metadata": {
        "colab": {
          "base_uri": "https://localhost:8080/"
        },
        "id": "egUw6GyuILE_",
        "outputId": "35336a64-207c-4b38-feed-7d95367d0322"
      },
      "source": [
        "print(\"mean of transactions count per user: \",df.size().mean())\n",
        "print(\"max of transactions count per user: \",df.size().max())"
      ],
      "execution_count": null,
      "outputs": [
        {
          "output_type": "stream",
          "text": [
            "mean of transactions count per user:  3.597122302158273\n",
            "max of transactions count per user:  18\n"
          ],
          "name": "stdout"
        }
      ]
    },
    {
      "cell_type": "code",
      "metadata": {
        "colab": {
          "base_uri": "https://localhost:8080/"
        },
        "id": "FM8Cr7XxVbOI",
        "outputId": "6d2b89f0-3315-4401-897f-9c2a35903b5a"
      },
      "source": [
        "X= [Sequence_input, Satatic_input, Sequence_output_input]"
      ],
      "execution_count": null,
      "outputs": [
        {
          "output_type": "execute_result",
          "data": {
            "text/plain": [
              "<pandas.core.groupby.generic.DataFrameGroupBy object at 0x7f28ad3ea1d0>"
            ]
          },
          "metadata": {
            "tags": []
          },
          "execution_count": 19
        }
      ]
    },
    {
      "cell_type": "code",
      "metadata": {
        "colab": {
          "base_uri": "https://localhost:8080/"
        },
        "id": "-xUcfPfi9GN0",
        "outputId": "fc2fcea0-4a1e-4d20-aca5-ad74ef9f7499"
      },
      "source": [
        "x = Input(shape=(None,2))\n",
        "x"
      ],
      "execution_count": null,
      "outputs": [
        {
          "output_type": "execute_result",
          "data": {
            "text/plain": [
              "<KerasTensor: shape=(None, None, 2) dtype=float32 (created by layer 'input_3')>"
            ]
          },
          "metadata": {
            "tags": []
          },
          "execution_count": 14
        }
      ]
    },
    {
      "cell_type": "code",
      "metadata": {
        "id": "fyguLBlJHKke"
      },
      "source": [
        "random_account_ids=df_completedtrans.sample(n=5)['account_id']"
      ],
      "execution_count": null,
      "outputs": []
    },
    {
      "cell_type": "code",
      "metadata": {
        "id": "Bru3Ew-aHKZE"
      },
      "source": [
        "df = df_completedtrans[df_completedtrans['account_id'].isin(random_account_ids)]"
      ],
      "execution_count": null,
      "outputs": []
    },
    {
      "cell_type": "code",
      "metadata": {
        "id": "_VIjDzP9I1TF"
      },
      "source": [
        "sample_inputs = [Sequence_input, Satatic_input, Sequence_output_input]"
      ],
      "execution_count": null,
      "outputs": []
    },
    {
      "cell_type": "code",
      "metadata": {
        "colab": {
          "base_uri": "https://localhost:8080/",
          "height": 704
        },
        "id": "N96g327WUURV",
        "outputId": "0389f653-7d20-4ebd-aeb9-3f8331ac4f0b"
      },
      "source": [
        "df_completedclient.sort_values('client_id')"
      ],
      "execution_count": null,
      "outputs": [
        {
          "output_type": "execute_result",
          "data": {
            "text/html": [
              "<div>\n",
              "<style scoped>\n",
              "    .dataframe tbody tr th:only-of-type {\n",
              "        vertical-align: middle;\n",
              "    }\n",
              "\n",
              "    .dataframe tbody tr th {\n",
              "        vertical-align: top;\n",
              "    }\n",
              "\n",
              "    .dataframe thead th {\n",
              "        text-align: right;\n",
              "    }\n",
              "</style>\n",
              "<table border=\"1\" class=\"dataframe\">\n",
              "  <thead>\n",
              "    <tr style=\"text-align: right;\">\n",
              "      <th></th>\n",
              "      <th>client_id</th>\n",
              "      <th>sex</th>\n",
              "      <th>fulldate</th>\n",
              "      <th>day</th>\n",
              "      <th>month</th>\n",
              "      <th>year</th>\n",
              "      <th>age</th>\n",
              "      <th>social</th>\n",
              "      <th>first</th>\n",
              "      <th>middle</th>\n",
              "      <th>last</th>\n",
              "      <th>phone</th>\n",
              "      <th>email</th>\n",
              "      <th>address_1</th>\n",
              "      <th>address_2</th>\n",
              "      <th>city</th>\n",
              "      <th>state</th>\n",
              "      <th>zipcode</th>\n",
              "      <th>district_id</th>\n",
              "    </tr>\n",
              "  </thead>\n",
              "  <tbody>\n",
              "    <tr>\n",
              "      <th>0</th>\n",
              "      <td>C00000001</td>\n",
              "      <td>Female</td>\n",
              "      <td>1990-12-13</td>\n",
              "      <td>13</td>\n",
              "      <td>12</td>\n",
              "      <td>1990</td>\n",
              "      <td>29</td>\n",
              "      <td>926-93-2157</td>\n",
              "      <td>Emma</td>\n",
              "      <td>Avaya</td>\n",
              "      <td>Smith</td>\n",
              "      <td>367-171-6840</td>\n",
              "      <td>emma.smith@gmail.com</td>\n",
              "      <td>387 Wellington Ave.</td>\n",
              "      <td>Unit 1</td>\n",
              "      <td>Albuquerque</td>\n",
              "      <td>NM</td>\n",
              "      <td>47246</td>\n",
              "      <td>18</td>\n",
              "    </tr>\n",
              "    <tr>\n",
              "      <th>1</th>\n",
              "      <td>C00000002</td>\n",
              "      <td>Male</td>\n",
              "      <td>1965-02-04</td>\n",
              "      <td>4</td>\n",
              "      <td>2</td>\n",
              "      <td>1965</td>\n",
              "      <td>54</td>\n",
              "      <td>806-94-5725</td>\n",
              "      <td>Noah</td>\n",
              "      <td>Everest</td>\n",
              "      <td>Thompson</td>\n",
              "      <td>212-423-7734</td>\n",
              "      <td>noah.thompson@gmail.com</td>\n",
              "      <td>75 W. Berkshire St.</td>\n",
              "      <td>NaN</td>\n",
              "      <td>New York City</td>\n",
              "      <td>NY</td>\n",
              "      <td>10040</td>\n",
              "      <td>1</td>\n",
              "    </tr>\n",
              "    <tr>\n",
              "      <th>2</th>\n",
              "      <td>C00000003</td>\n",
              "      <td>Female</td>\n",
              "      <td>1960-10-09</td>\n",
              "      <td>9</td>\n",
              "      <td>10</td>\n",
              "      <td>1960</td>\n",
              "      <td>59</td>\n",
              "      <td>614-70-9100</td>\n",
              "      <td>Olivia</td>\n",
              "      <td>Brooklynne</td>\n",
              "      <td>Johnson</td>\n",
              "      <td>212-425-6932</td>\n",
              "      <td>olivia.johnson@outlook.com</td>\n",
              "      <td>36 Second St.</td>\n",
              "      <td>NaN</td>\n",
              "      <td>New York City</td>\n",
              "      <td>NY</td>\n",
              "      <td>10162</td>\n",
              "      <td>1</td>\n",
              "    </tr>\n",
              "    <tr>\n",
              "      <th>3</th>\n",
              "      <td>C00000004</td>\n",
              "      <td>Male</td>\n",
              "      <td>1976-12-01</td>\n",
              "      <td>1</td>\n",
              "      <td>12</td>\n",
              "      <td>1976</td>\n",
              "      <td>43</td>\n",
              "      <td>580-20-3414</td>\n",
              "      <td>Liam</td>\n",
              "      <td>Irvin</td>\n",
              "      <td>White</td>\n",
              "      <td>951-567-8925</td>\n",
              "      <td>liam.white@gmail.com</td>\n",
              "      <td>7607 Sunnyslope Street</td>\n",
              "      <td>NaN</td>\n",
              "      <td>Indianapolis</td>\n",
              "      <td>IN</td>\n",
              "      <td>49047</td>\n",
              "      <td>5</td>\n",
              "    </tr>\n",
              "    <tr>\n",
              "      <th>4</th>\n",
              "      <td>C00000005</td>\n",
              "      <td>Female</td>\n",
              "      <td>1980-07-03</td>\n",
              "      <td>3</td>\n",
              "      <td>7</td>\n",
              "      <td>1980</td>\n",
              "      <td>39</td>\n",
              "      <td>536-14-5809</td>\n",
              "      <td>Sophia</td>\n",
              "      <td>Danae</td>\n",
              "      <td>Williams</td>\n",
              "      <td>428-265-1568</td>\n",
              "      <td>sophia.williams@gmail.com</td>\n",
              "      <td>755 Galvin Street</td>\n",
              "      <td>NaN</td>\n",
              "      <td>Indianapolis</td>\n",
              "      <td>IN</td>\n",
              "      <td>40852</td>\n",
              "      <td>5</td>\n",
              "    </tr>\n",
              "    <tr>\n",
              "      <th>...</th>\n",
              "      <td>...</td>\n",
              "      <td>...</td>\n",
              "      <td>...</td>\n",
              "      <td>...</td>\n",
              "      <td>...</td>\n",
              "      <td>...</td>\n",
              "      <td>...</td>\n",
              "      <td>...</td>\n",
              "      <td>...</td>\n",
              "      <td>...</td>\n",
              "      <td>...</td>\n",
              "      <td>...</td>\n",
              "      <td>...</td>\n",
              "      <td>...</td>\n",
              "      <td>...</td>\n",
              "      <td>...</td>\n",
              "      <td>...</td>\n",
              "      <td>...</td>\n",
              "      <td>...</td>\n",
              "    </tr>\n",
              "    <tr>\n",
              "      <th>5364</th>\n",
              "      <td>C00013955</td>\n",
              "      <td>Female</td>\n",
              "      <td>1965-10-30</td>\n",
              "      <td>30</td>\n",
              "      <td>10</td>\n",
              "      <td>1965</td>\n",
              "      <td>54</td>\n",
              "      <td>830-38-3530</td>\n",
              "      <td>Adrianna</td>\n",
              "      <td>Jillian</td>\n",
              "      <td>Moore</td>\n",
              "      <td>212-205-7422</td>\n",
              "      <td>adrianna.moore@outlook.com</td>\n",
              "      <td>9405 SW. Leeton Ridge Drive</td>\n",
              "      <td>NaN</td>\n",
              "      <td>New York City</td>\n",
              "      <td>NY</td>\n",
              "      <td>10121</td>\n",
              "      <td>1</td>\n",
              "    </tr>\n",
              "    <tr>\n",
              "      <th>5365</th>\n",
              "      <td>C00013956</td>\n",
              "      <td>Male</td>\n",
              "      <td>1963-04-06</td>\n",
              "      <td>6</td>\n",
              "      <td>4</td>\n",
              "      <td>1963</td>\n",
              "      <td>56</td>\n",
              "      <td>773-25-4409</td>\n",
              "      <td>Aaron</td>\n",
              "      <td>Roman</td>\n",
              "      <td>Park</td>\n",
              "      <td>212-645-8820</td>\n",
              "      <td>aaron.park@gmail.com</td>\n",
              "      <td>7021 Chapel Ave.</td>\n",
              "      <td>NaN</td>\n",
              "      <td>New York City</td>\n",
              "      <td>NY</td>\n",
              "      <td>10118</td>\n",
              "      <td>1</td>\n",
              "    </tr>\n",
              "    <tr>\n",
              "      <th>5366</th>\n",
              "      <td>C00013968</td>\n",
              "      <td>Male</td>\n",
              "      <td>1988-04-13</td>\n",
              "      <td>13</td>\n",
              "      <td>4</td>\n",
              "      <td>1988</td>\n",
              "      <td>31</td>\n",
              "      <td>227-17-0778</td>\n",
              "      <td>Eli</td>\n",
              "      <td>Leonardo</td>\n",
              "      <td>Warner</td>\n",
              "      <td>508-465-5164</td>\n",
              "      <td>eli.warner@hotmail.com</td>\n",
              "      <td>43 Edgemont Dr.</td>\n",
              "      <td>NaN</td>\n",
              "      <td>Fall River</td>\n",
              "      <td>MA</td>\n",
              "      <td>2721</td>\n",
              "      <td>61</td>\n",
              "    </tr>\n",
              "    <tr>\n",
              "      <th>5367</th>\n",
              "      <td>C00013971</td>\n",
              "      <td>Female</td>\n",
              "      <td>1982-10-19</td>\n",
              "      <td>19</td>\n",
              "      <td>10</td>\n",
              "      <td>1982</td>\n",
              "      <td>37</td>\n",
              "      <td>278-77-3298</td>\n",
              "      <td>Ruth</td>\n",
              "      <td>Joy</td>\n",
              "      <td>Martin</td>\n",
              "      <td>856-636-3840</td>\n",
              "      <td>ruth.martin@gmail.com</td>\n",
              "      <td>7087 E. Pennsylvania Street</td>\n",
              "      <td>Unit 8</td>\n",
              "      <td>Danbury</td>\n",
              "      <td>CT</td>\n",
              "      <td>48475</td>\n",
              "      <td>67</td>\n",
              "    </tr>\n",
              "    <tr>\n",
              "      <th>5368</th>\n",
              "      <td>C00013998</td>\n",
              "      <td>Female</td>\n",
              "      <td>1973-08-12</td>\n",
              "      <td>12</td>\n",
              "      <td>8</td>\n",
              "      <td>1973</td>\n",
              "      <td>46</td>\n",
              "      <td>266-21-2541</td>\n",
              "      <td>Miriam</td>\n",
              "      <td>Abby</td>\n",
              "      <td>Jackson</td>\n",
              "      <td>431-633-5403</td>\n",
              "      <td>miriam.jackson@gmail.com</td>\n",
              "      <td>29 Buckingham Rd.</td>\n",
              "      <td>NaN</td>\n",
              "      <td>Chicago</td>\n",
              "      <td>IL</td>\n",
              "      <td>44244</td>\n",
              "      <td>74</td>\n",
              "    </tr>\n",
              "  </tbody>\n",
              "</table>\n",
              "<p>5369 rows × 19 columns</p>\n",
              "</div>"
            ],
            "text/plain": [
              "      client_id     sex    fulldate  ...  state  zipcode  district_id\n",
              "0     C00000001  Female  1990-12-13  ...     NM    47246           18\n",
              "1     C00000002    Male  1965-02-04  ...     NY    10040            1\n",
              "2     C00000003  Female  1960-10-09  ...     NY    10162            1\n",
              "3     C00000004    Male  1976-12-01  ...     IN    49047            5\n",
              "4     C00000005  Female  1980-07-03  ...     IN    40852            5\n",
              "...         ...     ...         ...  ...    ...      ...          ...\n",
              "5364  C00013955  Female  1965-10-30  ...     NY    10121            1\n",
              "5365  C00013956    Male  1963-04-06  ...     NY    10118            1\n",
              "5366  C00013968    Male  1988-04-13  ...     MA     2721           61\n",
              "5367  C00013971  Female  1982-10-19  ...     CT    48475           67\n",
              "5368  C00013998  Female  1973-08-12  ...     IL    44244           74\n",
              "\n",
              "[5369 rows x 19 columns]"
            ]
          },
          "metadata": {
            "tags": []
          },
          "execution_count": 28
        }
      ]
    },
    {
      "cell_type": "code",
      "metadata": {
        "colab": {
          "base_uri": "https://localhost:8080/"
        },
        "id": "PN87EyuVT3ja",
        "outputId": "43d0f77c-f3cf-42ea-ddeb-b446f4e81695"
      },
      "source": [
        "df_completedclient[['sex','age','zipcode']].to_numpy()"
      ],
      "execution_count": null,
      "outputs": [
        {
          "output_type": "execute_result",
          "data": {
            "text/plain": [
              "array([['Female', 29, 47246],\n",
              "       ['Male', 54, 10040],\n",
              "       ['Female', 59, 10162],\n",
              "       ...,\n",
              "       ['Male', 31, 2721],\n",
              "       ['Female', 37, 48475],\n",
              "       ['Female', 46, 44244]], dtype=object)"
            ]
          },
          "metadata": {
            "tags": []
          },
          "execution_count": 27
        }
      ]
    },
    {
      "cell_type": "code",
      "metadata": {
        "id": "Agd1RMKUI1Qg"
      },
      "source": [
        "Sequence_input =\n",
        "[\n",
        "  [-1,-1],[1,2],[3,4],[-2,-2]\n",
        "],[\n",
        "  [-1,-1],[13,4],[23,5],[-2,-2]\n",
        "]"
      ],
      "execution_count": null,
      "outputs": []
    },
    {
      "cell_type": "code",
      "metadata": {
        "id": "rs-Gm4LEkQhv"
      },
      "source": [
        "Satatic_input = [\n",
        "                 [1,2,4],\n",
        "                 [2,4,6],\n",
        "]"
      ],
      "execution_count": null,
      "outputs": []
    },
    {
      "cell_type": "code",
      "metadata": {
        "id": "qCgij0tqkXjK"
      },
      "source": [
        "Sequence_output_input=\n",
        "[\n",
        "  [-1,-1],[1,2],[3,4],[-2,-2]\n",
        "],[\n",
        "  [-1,-1],[13,4],[23,5],[-2,-2]\n",
        "]"
      ],
      "execution_count": null,
      "outputs": []
    },
    {
      "cell_type": "code",
      "metadata": {
        "id": "JpejHeO2I1Jk"
      },
      "source": [
        "Sequence_output=\n",
        "[\n",
        "  [1,2],[3,4],[-2,-2],[0,0]\n",
        "],[\n",
        "  [13,4],[23,5],[-2,-2],[0,0]\n",
        "]"
      ],
      "execution_count": null,
      "outputs": []
    },
    {
      "cell_type": "code",
      "metadata": {
        "id": "pvBlWYgaHKLU"
      },
      "source": [
        "model = Model(inputs = [Sequence_input, Satatic_input, Sequence_output_input],\n",
        "              outputs = [Sequence_output, static_output])"
      ],
      "execution_count": null,
      "outputs": []
    },
    {
      "cell_type": "code",
      "metadata": {
        "colab": {
          "base_uri": "https://localhost:8080/"
        },
        "id": "P4RybTHtn-ro",
        "outputId": "fe491b37-10e4-4eb5-9f8a-007061d4098b"
      },
      "source": [
        "latent_dim = 128\n",
        "num_static_features = 3\n",
        "\n",
        "###########################################  encoder  ###########################################\n",
        "\n",
        "#Sequence input shape is N*2 which N is sequence length and 2 is price and time\n",
        "Sequence_input = Input(name='Sequence_input', shape=(None, 2))\n",
        "\n",
        "#Static input shape is M which here is 'num_static_features'\n",
        "Satatic_input = Input(name='Satatic_input', shape=(num_static_features,))\n",
        "\n",
        "#Applying a dense layer to static input\n",
        "Satatic_dense = Dense(512, activation = 'elu')(Satatic_input)\n",
        "\n",
        "#Many_to_one_lstm\n",
        "_ , hidden_state, cell_state = LSTM(512, return_state=True,return_sequences=True)(Sequence_input) \n",
        "\n",
        "\n",
        "latent_space = Concatenate()([hidden_state,cell_state,Satatic_dense])\n",
        "#Layer below output can be used for clustering purposes\n",
        "latent_space = Dense(latent_dim, activation = 'elu')(latent_space)\n",
        "\n",
        "###########################################  decoder  ###########################################\n",
        "\n",
        "#Temporary input with a time step delay for producing sequence output\n",
        "#This input is exacly similar to Sequence_input with only this diffrence that has a time step delay\n",
        "Sequence_output_input = Input(name='Sequence_output_input', shape=(None, 2))\n",
        "\n",
        "#One to many GRU (because of its simplicity, we used GRU instead of LSTM)\n",
        "Sequence_output = GRU(latent_dim, return_sequences=True)(Sequence_output_input,\n",
        "                                                         initial_state = latent_space)\n",
        "\n",
        "#Sequence output\n",
        "Sequence_output = TimeDistributed(Dense(2, activation='sigmoid'))(Sequence_output)\n",
        "\n",
        "#Static output\n",
        "static_output = Dense(num_static_features, activation = 'sigmoid')(latent_space)\n",
        "\n",
        "#Model has three inputs and 2 outputs (last input is temorary)\n",
        "model = Model(inputs = [Sequence_input, Satatic_input, Sequence_output_input],\n",
        "              outputs = [Sequence_output, static_output])\n",
        "\n",
        "model.compile(\n",
        "    optimizer=\"rmsprop\", loss=[\"mse\", \"mse\"],\n",
        ")\n",
        "model.summary()"
      ],
      "execution_count": null,
      "outputs": [
        {
          "output_type": "stream",
          "text": [
            "Model: \"model\"\n",
            "__________________________________________________________________________________________________\n",
            "Layer (type)                    Output Shape         Param #     Connected to                     \n",
            "==================================================================================================\n",
            "Sequence_input (InputLayer)     [(None, None, 2)]    0                                            \n",
            "__________________________________________________________________________________________________\n",
            "Satatic_input (InputLayer)      [(None, 3)]          0                                            \n",
            "__________________________________________________________________________________________________\n",
            "lstm (LSTM)                     [(None, None, 512),  1054720     Sequence_input[0][0]             \n",
            "__________________________________________________________________________________________________\n",
            "dense (Dense)                   (None, 512)          2048        Satatic_input[0][0]              \n",
            "__________________________________________________________________________________________________\n",
            "concatenate (Concatenate)       (None, 1536)         0           lstm[0][1]                       \n",
            "                                                                 lstm[0][2]                       \n",
            "                                                                 dense[0][0]                      \n",
            "__________________________________________________________________________________________________\n",
            "Sequence_output_input (InputLay [(None, None, 2)]    0                                            \n",
            "__________________________________________________________________________________________________\n",
            "dense_1 (Dense)                 (None, 128)          196736      concatenate[0][0]                \n",
            "__________________________________________________________________________________________________\n",
            "gru (GRU)                       (None, None, 128)    50688       Sequence_output_input[0][0]      \n",
            "                                                                 dense_1[0][0]                    \n",
            "__________________________________________________________________________________________________\n",
            "time_distributed (TimeDistribut (None, None, 2)      258         gru[0][0]                        \n",
            "__________________________________________________________________________________________________\n",
            "dense_3 (Dense)                 (None, 3)            387         dense_1[0][0]                    \n",
            "==================================================================================================\n",
            "Total params: 1,304,837\n",
            "Trainable params: 1,304,837\n",
            "Non-trainable params: 0\n",
            "__________________________________________________________________________________________________\n"
          ],
          "name": "stdout"
        }
      ]
    },
    {
      "cell_type": "code",
      "metadata": {
        "colab": {
          "base_uri": "https://localhost:8080/",
          "height": 644
        },
        "id": "AuOs3OWArKsa",
        "outputId": "89948879-5aa7-4cd5-f716-b4c3727d475a"
      },
      "source": [
        "plot_model(model, to_file='model_plot.png', show_shapes=True, show_layer_names=True)"
      ],
      "execution_count": null,
      "outputs": [
        {
          "output_type": "execute_result",
          "data": {
            "image/png": "[encoded data removed]",
            "text/plain": [
              "<IPython.core.display.Image object>"
            ]
          },
          "metadata": {
            "tags": []
          },
          "execution_count": 16
        }
      ]
    },
    {
      "cell_type": "code",
      "metadata": {
        "id": "q1n9milvGn3e"
      },
      "source": [
        "# fit the keras model on the dataset\n",
        "model.fit(X, y, epochs=150, batch_size=10)"
      ],
      "execution_count": null,
      "outputs": []
    }
  ]
}