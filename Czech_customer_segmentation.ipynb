{
  "nbformat": 4,
  "nbformat_minor": 0,
  "metadata": {
    "accelerator": "GPU",
    "colab": {
      "name": "Czech customer segmentation.ipynb",
      "provenance": [],
      "collapsed_sections": [],
      "include_colab_link": true
    },
    "kernelspec": {
      "display_name": "Python 3",
      "name": "python3"
    }
  },
  "cells": [
    {
      "cell_type": "markdown",
      "metadata": {
        "id": "view-in-github",
        "colab_type": "text"
      },
      "source": [
        "<a href=\"https://colab.research.google.com/github/ehsanbarkhordar/Bank-Customer-Clustering-By-Transactions/blob/main/Czech_customer_segmentation.ipynb\" target=\"_parent\"><img src=\"https://colab.research.google.com/assets/colab-badge.svg\" alt=\"Open In Colab\"/></a>"
      ]
    },
    {
      "cell_type": "code",
      "metadata": {
        "colab": {
          "base_uri": "https://localhost:8080/"
        },
        "id": "HhWqg8jzLY7P",
        "outputId": "0699e344-e28a-40b1-b4f5-7fb9f564f5e7"
      },
      "source": [
        "from google.colab import drive\n",
        "drive.mount('/content/gdrive', force_remount=False)"
      ],
      "execution_count": 1,
      "outputs": [
        {
          "output_type": "stream",
          "text": [
            "Drive already mounted at /content/gdrive; to attempt to forcibly remount, call drive.mount(\"/content/gdrive\", force_remount=True).\n"
          ],
          "name": "stdout"
        }
      ]
    },
    {
      "cell_type": "code",
      "metadata": {
        "id": "y4HcraYVIh7j"
      },
      "source": [
        "from numpy import array\n",
        "from sklearn.model_selection import train_test_split\n",
        "from sklearn import preprocessing\n",
        "from keras.preprocessing.text import one_hot\n",
        "from keras.preprocessing.sequence import pad_sequences\n",
        "from keras.models import Sequential\n",
        "from keras.layers.core import Activation, Dropout, Dense\n",
        "from keras.layers import GlobalMaxPooling1D\n",
        "from keras.models import Model\n",
        "from keras.layers.embeddings import Embedding\n",
        "from keras.preprocessing.text import Tokenizer\n",
        "from keras.layers import Input\n",
        "from keras.layers.merge import Concatenate\n",
        "from keras.layers import Bidirectional\n",
        "from keras.models import Sequential, Model\n",
        "from keras.layers import Dense, LSTM, GRU, Input, Embedding, TimeDistributed, Dropout, Bidirectional, Concatenate\n",
        "from keras.layers.advanced_activations import PReLU, LeakyReLU\n",
        "from keras.optimizers import SGD\n",
        "from tensorflow.keras.utils import plot_model\n",
        "from tensorflow import feature_column\n",
        "from tensorflow.keras import layers\n",
        "from tensorflow import keras\n",
        "from sklearn.decomposition import PCA\n",
        "from sklearn.cluster import KMeans\n",
        "from mpl_toolkits.mplot3d import Axes3D\n",
        "from sklearn.preprocessing import StandardScaler\n",
        "\n",
        "\n",
        "import pandas as pd\n",
        "import numpy as np\n",
        "import tensorflow as tf\n",
        "import matplotlib.pyplot as plt\n",
        "import pickle"
      ],
      "execution_count": 43,
      "outputs": []
    },
    {
      "cell_type": "code",
      "metadata": {
        "colab": {
          "base_uri": "https://localhost:8080/"
        },
        "id": "BpBu0uxjL_kg",
        "outputId": "5f06e1e5-e208-452c-eed9-72bab8d99718"
      },
      "source": [
        "from os import listdir\n",
        "from os.path import isfile, join\n",
        "my_drive_path = '/content/gdrive/MyDrive/'\n",
        "dataset_path = my_drive_path + '/lpetrocelli-retail-banking-demo-data/'\n",
        "onlyfiles = [f for f in listdir(dataset_path) if isfile(join(dataset_path, f))]\n",
        "onlyfiles"
      ],
      "execution_count": 3,
      "outputs": [
        {
          "output_type": "execute_result",
          "data": {
            "text/plain": [
              "['CRM Call Center Logs.csv',\n",
              " 'CRM Events.csv',\n",
              " 'completedcard.csv',\n",
              " 'LuxuryLoanPortfolio.csv',\n",
              " 'completedorder.csv',\n",
              " 'completedloan.csv',\n",
              " 'completedclient.csv',\n",
              " 'completedacct.csv',\n",
              " 'completedtrans.csv',\n",
              " 'completeddistrict.csv',\n",
              " 'CRM Reviews.csv',\n",
              " 'completeddisposition.csv']"
            ]
          },
          "metadata": {
            "tags": []
          },
          "execution_count": 3
        }
      ]
    },
    {
      "cell_type": "code",
      "metadata": {
        "colab": {
          "base_uri": "https://localhost:8080/"
        },
        "id": "tNZMfeKELyuW",
        "outputId": "d7be6819-abff-4858-fdb2-187da4e1c59f"
      },
      "source": [
        "# Import Clients\n",
        "df_clients = pd.read_csv(dataset_path+'completedclient.csv', index_col=[0], low_memory=False)\n",
        "# Import Transactions\n",
        "df_trans = pd.read_csv(dataset_path+'completedtrans.csv', index_col=[0], low_memory=False)\n",
        "# Import Positions\n",
        "df_positions = pd.read_csv(dataset_path+'completeddisposition.csv', index_col=[0], low_memory=False)"
      ],
      "execution_count": 4,
      "outputs": [
        {
          "output_type": "stream",
          "text": [
            "/usr/local/lib/python3.6/dist-packages/numpy/lib/arraysetops.py:580: FutureWarning: elementwise comparison failed; returning scalar instead, but in the future will perform elementwise comparison\n",
            "  mask |= (ar1 == a)\n"
          ],
          "name": "stderr"
        }
      ]
    },
    {
      "cell_type": "code",
      "metadata": {
        "id": "qzilNdSENJ2n"
      },
      "source": [
        "df_clients = df_clients.join(df_positions.set_index('client_id'), on='client_id')"
      ],
      "execution_count": 5,
      "outputs": []
    },
    {
      "cell_type": "code",
      "metadata": {
        "colab": {
          "base_uri": "https://localhost:8080/",
          "height": 736
        },
        "id": "WL0tSPASQ-6h",
        "outputId": "81f37006-02b8-4133-c257-9b559af4d115"
      },
      "source": [
        "df_clients"
      ],
      "execution_count": 6,
      "outputs": [
        {
          "output_type": "execute_result",
          "data": {
            "text/html": [
              "<div>\n",
              "<style scoped>\n",
              "    .dataframe tbody tr th:only-of-type {\n",
              "        vertical-align: middle;\n",
              "    }\n",
              "\n",
              "    .dataframe tbody tr th {\n",
              "        vertical-align: top;\n",
              "    }\n",
              "\n",
              "    .dataframe thead th {\n",
              "        text-align: right;\n",
              "    }\n",
              "</style>\n",
              "<table border=\"1\" class=\"dataframe\">\n",
              "  <thead>\n",
              "    <tr style=\"text-align: right;\">\n",
              "      <th></th>\n",
              "      <th>sex</th>\n",
              "      <th>fulldate</th>\n",
              "      <th>day</th>\n",
              "      <th>month</th>\n",
              "      <th>year</th>\n",
              "      <th>age</th>\n",
              "      <th>social</th>\n",
              "      <th>first</th>\n",
              "      <th>middle</th>\n",
              "      <th>last</th>\n",
              "      <th>phone</th>\n",
              "      <th>email</th>\n",
              "      <th>address_1</th>\n",
              "      <th>address_2</th>\n",
              "      <th>city</th>\n",
              "      <th>state</th>\n",
              "      <th>zipcode</th>\n",
              "      <th>district_id</th>\n",
              "      <th>account_id</th>\n",
              "      <th>type</th>\n",
              "    </tr>\n",
              "    <tr>\n",
              "      <th>client_id</th>\n",
              "      <th></th>\n",
              "      <th></th>\n",
              "      <th></th>\n",
              "      <th></th>\n",
              "      <th></th>\n",
              "      <th></th>\n",
              "      <th></th>\n",
              "      <th></th>\n",
              "      <th></th>\n",
              "      <th></th>\n",
              "      <th></th>\n",
              "      <th></th>\n",
              "      <th></th>\n",
              "      <th></th>\n",
              "      <th></th>\n",
              "      <th></th>\n",
              "      <th></th>\n",
              "      <th></th>\n",
              "      <th></th>\n",
              "      <th></th>\n",
              "    </tr>\n",
              "  </thead>\n",
              "  <tbody>\n",
              "    <tr>\n",
              "      <th>C00000001</th>\n",
              "      <td>Female</td>\n",
              "      <td>1990-12-13</td>\n",
              "      <td>13</td>\n",
              "      <td>12</td>\n",
              "      <td>1990</td>\n",
              "      <td>29</td>\n",
              "      <td>926-93-2157</td>\n",
              "      <td>Emma</td>\n",
              "      <td>Avaya</td>\n",
              "      <td>Smith</td>\n",
              "      <td>367-171-6840</td>\n",
              "      <td>emma.smith@gmail.com</td>\n",
              "      <td>387 Wellington Ave.</td>\n",
              "      <td>Unit 1</td>\n",
              "      <td>Albuquerque</td>\n",
              "      <td>NM</td>\n",
              "      <td>47246</td>\n",
              "      <td>18</td>\n",
              "      <td>A00000001</td>\n",
              "      <td>Owner</td>\n",
              "    </tr>\n",
              "    <tr>\n",
              "      <th>C00000002</th>\n",
              "      <td>Male</td>\n",
              "      <td>1965-02-04</td>\n",
              "      <td>4</td>\n",
              "      <td>2</td>\n",
              "      <td>1965</td>\n",
              "      <td>54</td>\n",
              "      <td>806-94-5725</td>\n",
              "      <td>Noah</td>\n",
              "      <td>Everest</td>\n",
              "      <td>Thompson</td>\n",
              "      <td>212-423-7734</td>\n",
              "      <td>noah.thompson@gmail.com</td>\n",
              "      <td>75 W. Berkshire St.</td>\n",
              "      <td>NaN</td>\n",
              "      <td>New York City</td>\n",
              "      <td>NY</td>\n",
              "      <td>10040</td>\n",
              "      <td>1</td>\n",
              "      <td>A00000002</td>\n",
              "      <td>Owner</td>\n",
              "    </tr>\n",
              "    <tr>\n",
              "      <th>C00000003</th>\n",
              "      <td>Female</td>\n",
              "      <td>1960-10-09</td>\n",
              "      <td>9</td>\n",
              "      <td>10</td>\n",
              "      <td>1960</td>\n",
              "      <td>59</td>\n",
              "      <td>614-70-9100</td>\n",
              "      <td>Olivia</td>\n",
              "      <td>Brooklynne</td>\n",
              "      <td>Johnson</td>\n",
              "      <td>212-425-6932</td>\n",
              "      <td>olivia.johnson@outlook.com</td>\n",
              "      <td>36 Second St.</td>\n",
              "      <td>NaN</td>\n",
              "      <td>New York City</td>\n",
              "      <td>NY</td>\n",
              "      <td>10162</td>\n",
              "      <td>1</td>\n",
              "      <td>A00000002</td>\n",
              "      <td>User</td>\n",
              "    </tr>\n",
              "    <tr>\n",
              "      <th>C00000004</th>\n",
              "      <td>Male</td>\n",
              "      <td>1976-12-01</td>\n",
              "      <td>1</td>\n",
              "      <td>12</td>\n",
              "      <td>1976</td>\n",
              "      <td>43</td>\n",
              "      <td>580-20-3414</td>\n",
              "      <td>Liam</td>\n",
              "      <td>Irvin</td>\n",
              "      <td>White</td>\n",
              "      <td>951-567-8925</td>\n",
              "      <td>liam.white@gmail.com</td>\n",
              "      <td>7607 Sunnyslope Street</td>\n",
              "      <td>NaN</td>\n",
              "      <td>Indianapolis</td>\n",
              "      <td>IN</td>\n",
              "      <td>49047</td>\n",
              "      <td>5</td>\n",
              "      <td>A00000003</td>\n",
              "      <td>Owner</td>\n",
              "    </tr>\n",
              "    <tr>\n",
              "      <th>C00000005</th>\n",
              "      <td>Female</td>\n",
              "      <td>1980-07-03</td>\n",
              "      <td>3</td>\n",
              "      <td>7</td>\n",
              "      <td>1980</td>\n",
              "      <td>39</td>\n",
              "      <td>536-14-5809</td>\n",
              "      <td>Sophia</td>\n",
              "      <td>Danae</td>\n",
              "      <td>Williams</td>\n",
              "      <td>428-265-1568</td>\n",
              "      <td>sophia.williams@gmail.com</td>\n",
              "      <td>755 Galvin Street</td>\n",
              "      <td>NaN</td>\n",
              "      <td>Indianapolis</td>\n",
              "      <td>IN</td>\n",
              "      <td>40852</td>\n",
              "      <td>5</td>\n",
              "      <td>A00000003</td>\n",
              "      <td>User</td>\n",
              "    </tr>\n",
              "    <tr>\n",
              "      <th>...</th>\n",
              "      <td>...</td>\n",
              "      <td>...</td>\n",
              "      <td>...</td>\n",
              "      <td>...</td>\n",
              "      <td>...</td>\n",
              "      <td>...</td>\n",
              "      <td>...</td>\n",
              "      <td>...</td>\n",
              "      <td>...</td>\n",
              "      <td>...</td>\n",
              "      <td>...</td>\n",
              "      <td>...</td>\n",
              "      <td>...</td>\n",
              "      <td>...</td>\n",
              "      <td>...</td>\n",
              "      <td>...</td>\n",
              "      <td>...</td>\n",
              "      <td>...</td>\n",
              "      <td>...</td>\n",
              "      <td>...</td>\n",
              "    </tr>\n",
              "    <tr>\n",
              "      <th>C00013955</th>\n",
              "      <td>Female</td>\n",
              "      <td>1965-10-30</td>\n",
              "      <td>30</td>\n",
              "      <td>10</td>\n",
              "      <td>1965</td>\n",
              "      <td>54</td>\n",
              "      <td>830-38-3530</td>\n",
              "      <td>Adrianna</td>\n",
              "      <td>Jillian</td>\n",
              "      <td>Moore</td>\n",
              "      <td>212-205-7422</td>\n",
              "      <td>adrianna.moore@outlook.com</td>\n",
              "      <td>9405 SW. Leeton Ridge Drive</td>\n",
              "      <td>NaN</td>\n",
              "      <td>New York City</td>\n",
              "      <td>NY</td>\n",
              "      <td>10121</td>\n",
              "      <td>1</td>\n",
              "      <td>A00011349</td>\n",
              "      <td>Owner</td>\n",
              "    </tr>\n",
              "    <tr>\n",
              "      <th>C00013956</th>\n",
              "      <td>Male</td>\n",
              "      <td>1963-04-06</td>\n",
              "      <td>6</td>\n",
              "      <td>4</td>\n",
              "      <td>1963</td>\n",
              "      <td>56</td>\n",
              "      <td>773-25-4409</td>\n",
              "      <td>Aaron</td>\n",
              "      <td>Roman</td>\n",
              "      <td>Park</td>\n",
              "      <td>212-645-8820</td>\n",
              "      <td>aaron.park@gmail.com</td>\n",
              "      <td>7021 Chapel Ave.</td>\n",
              "      <td>NaN</td>\n",
              "      <td>New York City</td>\n",
              "      <td>NY</td>\n",
              "      <td>10118</td>\n",
              "      <td>1</td>\n",
              "      <td>A00011349</td>\n",
              "      <td>User</td>\n",
              "    </tr>\n",
              "    <tr>\n",
              "      <th>C00013968</th>\n",
              "      <td>Male</td>\n",
              "      <td>1988-04-13</td>\n",
              "      <td>13</td>\n",
              "      <td>4</td>\n",
              "      <td>1988</td>\n",
              "      <td>31</td>\n",
              "      <td>227-17-0778</td>\n",
              "      <td>Eli</td>\n",
              "      <td>Leonardo</td>\n",
              "      <td>Warner</td>\n",
              "      <td>508-465-5164</td>\n",
              "      <td>eli.warner@hotmail.com</td>\n",
              "      <td>43 Edgemont Dr.</td>\n",
              "      <td>NaN</td>\n",
              "      <td>Fall River</td>\n",
              "      <td>MA</td>\n",
              "      <td>2721</td>\n",
              "      <td>61</td>\n",
              "      <td>A00011359</td>\n",
              "      <td>Owner</td>\n",
              "    </tr>\n",
              "    <tr>\n",
              "      <th>C00013971</th>\n",
              "      <td>Female</td>\n",
              "      <td>1982-10-19</td>\n",
              "      <td>19</td>\n",
              "      <td>10</td>\n",
              "      <td>1982</td>\n",
              "      <td>37</td>\n",
              "      <td>278-77-3298</td>\n",
              "      <td>Ruth</td>\n",
              "      <td>Joy</td>\n",
              "      <td>Martin</td>\n",
              "      <td>856-636-3840</td>\n",
              "      <td>ruth.martin@gmail.com</td>\n",
              "      <td>7087 E. Pennsylvania Street</td>\n",
              "      <td>Unit 8</td>\n",
              "      <td>Danbury</td>\n",
              "      <td>CT</td>\n",
              "      <td>48475</td>\n",
              "      <td>67</td>\n",
              "      <td>A00011362</td>\n",
              "      <td>Owner</td>\n",
              "    </tr>\n",
              "    <tr>\n",
              "      <th>C00013998</th>\n",
              "      <td>Female</td>\n",
              "      <td>1973-08-12</td>\n",
              "      <td>12</td>\n",
              "      <td>8</td>\n",
              "      <td>1973</td>\n",
              "      <td>46</td>\n",
              "      <td>266-21-2541</td>\n",
              "      <td>Miriam</td>\n",
              "      <td>Abby</td>\n",
              "      <td>Jackson</td>\n",
              "      <td>431-633-5403</td>\n",
              "      <td>miriam.jackson@gmail.com</td>\n",
              "      <td>29 Buckingham Rd.</td>\n",
              "      <td>NaN</td>\n",
              "      <td>Chicago</td>\n",
              "      <td>IL</td>\n",
              "      <td>44244</td>\n",
              "      <td>74</td>\n",
              "      <td>A00011382</td>\n",
              "      <td>Owner</td>\n",
              "    </tr>\n",
              "  </tbody>\n",
              "</table>\n",
              "<p>5369 rows × 20 columns</p>\n",
              "</div>"
            ],
            "text/plain": [
              "              sex    fulldate  day  ...  district_id  account_id   type\n",
              "client_id                           ...                                \n",
              "C00000001  Female  1990-12-13   13  ...           18   A00000001  Owner\n",
              "C00000002    Male  1965-02-04    4  ...            1   A00000002  Owner\n",
              "C00000003  Female  1960-10-09    9  ...            1   A00000002   User\n",
              "C00000004    Male  1976-12-01    1  ...            5   A00000003  Owner\n",
              "C00000005  Female  1980-07-03    3  ...            5   A00000003   User\n",
              "...           ...         ...  ...  ...          ...         ...    ...\n",
              "C00013955  Female  1965-10-30   30  ...            1   A00011349  Owner\n",
              "C00013956    Male  1963-04-06    6  ...            1   A00011349   User\n",
              "C00013968    Male  1988-04-13   13  ...           61   A00011359  Owner\n",
              "C00013971  Female  1982-10-19   19  ...           67   A00011362  Owner\n",
              "C00013998  Female  1973-08-12   12  ...           74   A00011382  Owner\n",
              "\n",
              "[5369 rows x 20 columns]"
            ]
          },
          "metadata": {
            "tags": []
          },
          "execution_count": 6
        }
      ]
    },
    {
      "cell_type": "code",
      "metadata": {
        "colab": {
          "base_uri": "https://localhost:8080/",
          "height": 455
        },
        "id": "3-8u8oUzP3_c",
        "outputId": "dc914c1e-d6b7-4546-9135-8b6b2acbf1d1"
      },
      "source": [
        "df_clients[['account_id','sex','age','zipcode']]"
      ],
      "execution_count": 7,
      "outputs": [
        {
          "output_type": "execute_result",
          "data": {
            "text/html": [
              "<div>\n",
              "<style scoped>\n",
              "    .dataframe tbody tr th:only-of-type {\n",
              "        vertical-align: middle;\n",
              "    }\n",
              "\n",
              "    .dataframe tbody tr th {\n",
              "        vertical-align: top;\n",
              "    }\n",
              "\n",
              "    .dataframe thead th {\n",
              "        text-align: right;\n",
              "    }\n",
              "</style>\n",
              "<table border=\"1\" class=\"dataframe\">\n",
              "  <thead>\n",
              "    <tr style=\"text-align: right;\">\n",
              "      <th></th>\n",
              "      <th>account_id</th>\n",
              "      <th>sex</th>\n",
              "      <th>age</th>\n",
              "      <th>zipcode</th>\n",
              "    </tr>\n",
              "    <tr>\n",
              "      <th>client_id</th>\n",
              "      <th></th>\n",
              "      <th></th>\n",
              "      <th></th>\n",
              "      <th></th>\n",
              "    </tr>\n",
              "  </thead>\n",
              "  <tbody>\n",
              "    <tr>\n",
              "      <th>C00000001</th>\n",
              "      <td>A00000001</td>\n",
              "      <td>Female</td>\n",
              "      <td>29</td>\n",
              "      <td>47246</td>\n",
              "    </tr>\n",
              "    <tr>\n",
              "      <th>C00000002</th>\n",
              "      <td>A00000002</td>\n",
              "      <td>Male</td>\n",
              "      <td>54</td>\n",
              "      <td>10040</td>\n",
              "    </tr>\n",
              "    <tr>\n",
              "      <th>C00000003</th>\n",
              "      <td>A00000002</td>\n",
              "      <td>Female</td>\n",
              "      <td>59</td>\n",
              "      <td>10162</td>\n",
              "    </tr>\n",
              "    <tr>\n",
              "      <th>C00000004</th>\n",
              "      <td>A00000003</td>\n",
              "      <td>Male</td>\n",
              "      <td>43</td>\n",
              "      <td>49047</td>\n",
              "    </tr>\n",
              "    <tr>\n",
              "      <th>C00000005</th>\n",
              "      <td>A00000003</td>\n",
              "      <td>Female</td>\n",
              "      <td>39</td>\n",
              "      <td>40852</td>\n",
              "    </tr>\n",
              "    <tr>\n",
              "      <th>...</th>\n",
              "      <td>...</td>\n",
              "      <td>...</td>\n",
              "      <td>...</td>\n",
              "      <td>...</td>\n",
              "    </tr>\n",
              "    <tr>\n",
              "      <th>C00013955</th>\n",
              "      <td>A00011349</td>\n",
              "      <td>Female</td>\n",
              "      <td>54</td>\n",
              "      <td>10121</td>\n",
              "    </tr>\n",
              "    <tr>\n",
              "      <th>C00013956</th>\n",
              "      <td>A00011349</td>\n",
              "      <td>Male</td>\n",
              "      <td>56</td>\n",
              "      <td>10118</td>\n",
              "    </tr>\n",
              "    <tr>\n",
              "      <th>C00013968</th>\n",
              "      <td>A00011359</td>\n",
              "      <td>Male</td>\n",
              "      <td>31</td>\n",
              "      <td>2721</td>\n",
              "    </tr>\n",
              "    <tr>\n",
              "      <th>C00013971</th>\n",
              "      <td>A00011362</td>\n",
              "      <td>Female</td>\n",
              "      <td>37</td>\n",
              "      <td>48475</td>\n",
              "    </tr>\n",
              "    <tr>\n",
              "      <th>C00013998</th>\n",
              "      <td>A00011382</td>\n",
              "      <td>Female</td>\n",
              "      <td>46</td>\n",
              "      <td>44244</td>\n",
              "    </tr>\n",
              "  </tbody>\n",
              "</table>\n",
              "<p>5369 rows × 4 columns</p>\n",
              "</div>"
            ],
            "text/plain": [
              "          account_id     sex  age  zipcode\n",
              "client_id                                 \n",
              "C00000001  A00000001  Female   29    47246\n",
              "C00000002  A00000002    Male   54    10040\n",
              "C00000003  A00000002  Female   59    10162\n",
              "C00000004  A00000003    Male   43    49047\n",
              "C00000005  A00000003  Female   39    40852\n",
              "...              ...     ...  ...      ...\n",
              "C00013955  A00011349  Female   54    10121\n",
              "C00013956  A00011349    Male   56    10118\n",
              "C00013968  A00011359    Male   31     2721\n",
              "C00013971  A00011362  Female   37    48475\n",
              "C00013998  A00011382  Female   46    44244\n",
              "\n",
              "[5369 rows x 4 columns]"
            ]
          },
          "metadata": {
            "tags": []
          },
          "execution_count": 7
        }
      ]
    },
    {
      "cell_type": "code",
      "metadata": {
        "colab": {
          "base_uri": "https://localhost:8080/"
        },
        "id": "B8OICLIhSkXh",
        "outputId": "066878db-1939-4361-ecb1-e60fd6118b54"
      },
      "source": [
        "zip_set=set(df_clients['zipcode'])\n",
        "zip_list=list(df_clients['zipcode'])\n",
        "print(\"all zip codes in dataset: \",len(zip_list))\n",
        "print(\"unique zip codes in dataset: \",len(zip_set))"
      ],
      "execution_count": 8,
      "outputs": [
        {
          "output_type": "stream",
          "text": [
            "all zip codes in dataset:  5369\n",
            "unique zip codes in dataset:  3512\n"
          ],
          "name": "stdout"
        }
      ]
    },
    {
      "cell_type": "code",
      "metadata": {
        "id": "6HnrmkE5KmJj"
      },
      "source": [
        "df_clients_onehot = pd.DataFrame()"
      ],
      "execution_count": 9,
      "outputs": []
    },
    {
      "cell_type": "code",
      "metadata": {
        "id": "EZt602FzLXqh"
      },
      "source": [
        "df_clients_onehot['account_id']=df_clients['account_id']"
      ],
      "execution_count": 10,
      "outputs": []
    },
    {
      "cell_type": "code",
      "metadata": {
        "colab": {
          "base_uri": "https://localhost:8080/"
        },
        "id": "5VeevkB0Kubm",
        "outputId": "0c8e14bf-eb51-4da2-f3f2-c521056cedcf"
      },
      "source": [
        "data=list(df_clients['sex'])\n",
        "values = array(data)\n",
        "print(values)\n",
        "# integer encode\n",
        "label_encoder = preprocessing.LabelEncoder()\n",
        "integer_encoded = label_encoder.fit_transform(values)\n",
        "print(integer_encoded)\n",
        "# binary encode\n",
        "onehot_encoder = preprocessing.OneHotEncoder(sparse=False)\n",
        "integer_encoded = integer_encoded.reshape(len(integer_encoded), 1)\n",
        "onehot_encoded = onehot_encoder.fit_transform(integer_encoded)\n",
        "print(\"shape of sex onehot_encoded: \",onehot_encoded.shape)\n",
        "df_clients_onehot['sex'] = onehot_encoded.tolist()"
      ],
      "execution_count": 11,
      "outputs": [
        {
          "output_type": "stream",
          "text": [
            "['Female' 'Male' 'Female' ... 'Male' 'Female' 'Female']\n",
            "[0 1 0 ... 1 0 0]\n",
            "shape of sex onehot_encoded:  (5369, 2)\n"
          ],
          "name": "stdout"
        }
      ]
    },
    {
      "cell_type": "code",
      "metadata": {
        "colab": {
          "base_uri": "https://localhost:8080/"
        },
        "id": "5xEpJSldE9S6",
        "outputId": "e97032a9-e18f-40d2-9bd9-72d5f7626e29"
      },
      "source": [
        "data=list(df_clients['age'])\n",
        "values = array(data)\n",
        "print(values)\n",
        "# integer encode\n",
        "label_encoder = preprocessing.LabelEncoder()\n",
        "integer_encoded = label_encoder.fit_transform(values)\n",
        "print(integer_encoded)\n",
        "# binary encode\n",
        "onehot_encoder = preprocessing.OneHotEncoder(sparse=False)\n",
        "integer_encoded = integer_encoded.reshape(len(integer_encoded), 1)\n",
        "onehot_encoded = onehot_encoder.fit_transform(integer_encoded)\n",
        "print(\"shape of age onehot_encoded: \",onehot_encoded.shape)\n",
        "df_clients_onehot['age'] = onehot_encoded.tolist()"
      ],
      "execution_count": 12,
      "outputs": [
        {
          "output_type": "stream",
          "text": [
            "[29 54 59 ... 31 37 46]\n",
            "[17 42 47 ... 19 25 34]\n",
            "shape of age onehot_encoded:  (5369, 77)\n"
          ],
          "name": "stdout"
        }
      ]
    },
    {
      "cell_type": "code",
      "metadata": {
        "colab": {
          "base_uri": "https://localhost:8080/"
        },
        "id": "C4qe3rZSKGbd",
        "outputId": "6946d499-73cc-48da-e1be-7175eabc90eb"
      },
      "source": [
        "data=list(df_clients['zipcode'])\n",
        "values = array(data)\n",
        "print(values)\n",
        "# integer encode\n",
        "label_encoder = preprocessing.LabelEncoder()\n",
        "integer_encoded = label_encoder.fit_transform(values)\n",
        "print(integer_encoded)\n",
        "# binary encode\n",
        "onehot_encoder = preprocessing.OneHotEncoder(sparse=False)\n",
        "integer_encoded = integer_encoded.reshape(len(integer_encoded), 1)\n",
        "onehot_encoded = onehot_encoder.fit_transform(integer_encoded)\n",
        "print(\"shape of zipcode onehot_encoded: \",onehot_encoded.shape)\n",
        "df_clients_onehot['zipcode'] = onehot_encoded.tolist()"
      ],
      "execution_count": 13,
      "outputs": [
        {
          "output_type": "stream",
          "text": [
            "[47246 10040 10162 ...  2721 48475 44244]\n",
            "[2625  167  211 ...  118 3049 1677]\n",
            "shape of zipcode onehot_encoded:  (5369, 3512)\n"
          ],
          "name": "stdout"
        }
      ]
    },
    {
      "cell_type": "code",
      "metadata": {
        "id": "ncu4o5yZGCar"
      },
      "source": [
        "df_clients_onehot['static_vector'] = df_clients_onehot.apply (lambda row: np.concatenate([row.sex, row.age, row.zipcode]), axis=1)"
      ],
      "execution_count": 14,
      "outputs": []
    },
    {
      "cell_type": "code",
      "metadata": {
        "colab": {
          "base_uri": "https://localhost:8080/",
          "height": 455
        },
        "id": "PLihpLQkcrfr",
        "outputId": "dbab52e9-a811-4a90-d496-2418e1f1ab36"
      },
      "source": [
        "df_clients_onehot"
      ],
      "execution_count": 15,
      "outputs": [
        {
          "output_type": "execute_result",
          "data": {
            "text/html": [
              "<div>\n",
              "<style scoped>\n",
              "    .dataframe tbody tr th:only-of-type {\n",
              "        vertical-align: middle;\n",
              "    }\n",
              "\n",
              "    .dataframe tbody tr th {\n",
              "        vertical-align: top;\n",
              "    }\n",
              "\n",
              "    .dataframe thead th {\n",
              "        text-align: right;\n",
              "    }\n",
              "</style>\n",
              "<table border=\"1\" class=\"dataframe\">\n",
              "  <thead>\n",
              "    <tr style=\"text-align: right;\">\n",
              "      <th></th>\n",
              "      <th>account_id</th>\n",
              "      <th>sex</th>\n",
              "      <th>age</th>\n",
              "      <th>zipcode</th>\n",
              "      <th>static_vector</th>\n",
              "    </tr>\n",
              "    <tr>\n",
              "      <th>client_id</th>\n",
              "      <th></th>\n",
              "      <th></th>\n",
              "      <th></th>\n",
              "      <th></th>\n",
              "      <th></th>\n",
              "    </tr>\n",
              "  </thead>\n",
              "  <tbody>\n",
              "    <tr>\n",
              "      <th>C00000001</th>\n",
              "      <td>A00000001</td>\n",
              "      <td>[1.0, 0.0]</td>\n",
              "      <td>[0.0, 0.0, 0.0, 0.0, 0.0, 0.0, 0.0, 0.0, 0.0, ...</td>\n",
              "      <td>[0.0, 0.0, 0.0, 0.0, 0.0, 0.0, 0.0, 0.0, 0.0, ...</td>\n",
              "      <td>[1.0, 0.0, 0.0, 0.0, 0.0, 0.0, 0.0, 0.0, 0.0, ...</td>\n",
              "    </tr>\n",
              "    <tr>\n",
              "      <th>C00000002</th>\n",
              "      <td>A00000002</td>\n",
              "      <td>[0.0, 1.0]</td>\n",
              "      <td>[0.0, 0.0, 0.0, 0.0, 0.0, 0.0, 0.0, 0.0, 0.0, ...</td>\n",
              "      <td>[0.0, 0.0, 0.0, 0.0, 0.0, 0.0, 0.0, 0.0, 0.0, ...</td>\n",
              "      <td>[0.0, 1.0, 0.0, 0.0, 0.0, 0.0, 0.0, 0.0, 0.0, ...</td>\n",
              "    </tr>\n",
              "    <tr>\n",
              "      <th>C00000003</th>\n",
              "      <td>A00000002</td>\n",
              "      <td>[1.0, 0.0]</td>\n",
              "      <td>[0.0, 0.0, 0.0, 0.0, 0.0, 0.0, 0.0, 0.0, 0.0, ...</td>\n",
              "      <td>[0.0, 0.0, 0.0, 0.0, 0.0, 0.0, 0.0, 0.0, 0.0, ...</td>\n",
              "      <td>[1.0, 0.0, 0.0, 0.0, 0.0, 0.0, 0.0, 0.0, 0.0, ...</td>\n",
              "    </tr>\n",
              "    <tr>\n",
              "      <th>C00000004</th>\n",
              "      <td>A00000003</td>\n",
              "      <td>[0.0, 1.0]</td>\n",
              "      <td>[0.0, 0.0, 0.0, 0.0, 0.0, 0.0, 0.0, 0.0, 0.0, ...</td>\n",
              "      <td>[0.0, 0.0, 0.0, 0.0, 0.0, 0.0, 0.0, 0.0, 0.0, ...</td>\n",
              "      <td>[0.0, 1.0, 0.0, 0.0, 0.0, 0.0, 0.0, 0.0, 0.0, ...</td>\n",
              "    </tr>\n",
              "    <tr>\n",
              "      <th>C00000005</th>\n",
              "      <td>A00000003</td>\n",
              "      <td>[1.0, 0.0]</td>\n",
              "      <td>[0.0, 0.0, 0.0, 0.0, 0.0, 0.0, 0.0, 0.0, 0.0, ...</td>\n",
              "      <td>[0.0, 0.0, 0.0, 0.0, 0.0, 0.0, 0.0, 0.0, 0.0, ...</td>\n",
              "      <td>[1.0, 0.0, 0.0, 0.0, 0.0, 0.0, 0.0, 0.0, 0.0, ...</td>\n",
              "    </tr>\n",
              "    <tr>\n",
              "      <th>...</th>\n",
              "      <td>...</td>\n",
              "      <td>...</td>\n",
              "      <td>...</td>\n",
              "      <td>...</td>\n",
              "      <td>...</td>\n",
              "    </tr>\n",
              "    <tr>\n",
              "      <th>C00013955</th>\n",
              "      <td>A00011349</td>\n",
              "      <td>[1.0, 0.0]</td>\n",
              "      <td>[0.0, 0.0, 0.0, 0.0, 0.0, 0.0, 0.0, 0.0, 0.0, ...</td>\n",
              "      <td>[0.0, 0.0, 0.0, 0.0, 0.0, 0.0, 0.0, 0.0, 0.0, ...</td>\n",
              "      <td>[1.0, 0.0, 0.0, 0.0, 0.0, 0.0, 0.0, 0.0, 0.0, ...</td>\n",
              "    </tr>\n",
              "    <tr>\n",
              "      <th>C00013956</th>\n",
              "      <td>A00011349</td>\n",
              "      <td>[0.0, 1.0]</td>\n",
              "      <td>[0.0, 0.0, 0.0, 0.0, 0.0, 0.0, 0.0, 0.0, 0.0, ...</td>\n",
              "      <td>[0.0, 0.0, 0.0, 0.0, 0.0, 0.0, 0.0, 0.0, 0.0, ...</td>\n",
              "      <td>[0.0, 1.0, 0.0, 0.0, 0.0, 0.0, 0.0, 0.0, 0.0, ...</td>\n",
              "    </tr>\n",
              "    <tr>\n",
              "      <th>C00013968</th>\n",
              "      <td>A00011359</td>\n",
              "      <td>[0.0, 1.0]</td>\n",
              "      <td>[0.0, 0.0, 0.0, 0.0, 0.0, 0.0, 0.0, 0.0, 0.0, ...</td>\n",
              "      <td>[0.0, 0.0, 0.0, 0.0, 0.0, 0.0, 0.0, 0.0, 0.0, ...</td>\n",
              "      <td>[0.0, 1.0, 0.0, 0.0, 0.0, 0.0, 0.0, 0.0, 0.0, ...</td>\n",
              "    </tr>\n",
              "    <tr>\n",
              "      <th>C00013971</th>\n",
              "      <td>A00011362</td>\n",
              "      <td>[1.0, 0.0]</td>\n",
              "      <td>[0.0, 0.0, 0.0, 0.0, 0.0, 0.0, 0.0, 0.0, 0.0, ...</td>\n",
              "      <td>[0.0, 0.0, 0.0, 0.0, 0.0, 0.0, 0.0, 0.0, 0.0, ...</td>\n",
              "      <td>[1.0, 0.0, 0.0, 0.0, 0.0, 0.0, 0.0, 0.0, 0.0, ...</td>\n",
              "    </tr>\n",
              "    <tr>\n",
              "      <th>C00013998</th>\n",
              "      <td>A00011382</td>\n",
              "      <td>[1.0, 0.0]</td>\n",
              "      <td>[0.0, 0.0, 0.0, 0.0, 0.0, 0.0, 0.0, 0.0, 0.0, ...</td>\n",
              "      <td>[0.0, 0.0, 0.0, 0.0, 0.0, 0.0, 0.0, 0.0, 0.0, ...</td>\n",
              "      <td>[1.0, 0.0, 0.0, 0.0, 0.0, 0.0, 0.0, 0.0, 0.0, ...</td>\n",
              "    </tr>\n",
              "  </tbody>\n",
              "</table>\n",
              "<p>5369 rows × 5 columns</p>\n",
              "</div>"
            ],
            "text/plain": [
              "          account_id  ...                                      static_vector\n",
              "client_id             ...                                                   \n",
              "C00000001  A00000001  ...  [1.0, 0.0, 0.0, 0.0, 0.0, 0.0, 0.0, 0.0, 0.0, ...\n",
              "C00000002  A00000002  ...  [0.0, 1.0, 0.0, 0.0, 0.0, 0.0, 0.0, 0.0, 0.0, ...\n",
              "C00000003  A00000002  ...  [1.0, 0.0, 0.0, 0.0, 0.0, 0.0, 0.0, 0.0, 0.0, ...\n",
              "C00000004  A00000003  ...  [0.0, 1.0, 0.0, 0.0, 0.0, 0.0, 0.0, 0.0, 0.0, ...\n",
              "C00000005  A00000003  ...  [1.0, 0.0, 0.0, 0.0, 0.0, 0.0, 0.0, 0.0, 0.0, ...\n",
              "...              ...  ...                                                ...\n",
              "C00013955  A00011349  ...  [1.0, 0.0, 0.0, 0.0, 0.0, 0.0, 0.0, 0.0, 0.0, ...\n",
              "C00013956  A00011349  ...  [0.0, 1.0, 0.0, 0.0, 0.0, 0.0, 0.0, 0.0, 0.0, ...\n",
              "C00013968  A00011359  ...  [0.0, 1.0, 0.0, 0.0, 0.0, 0.0, 0.0, 0.0, 0.0, ...\n",
              "C00013971  A00011362  ...  [1.0, 0.0, 0.0, 0.0, 0.0, 0.0, 0.0, 0.0, 0.0, ...\n",
              "C00013998  A00011382  ...  [1.0, 0.0, 0.0, 0.0, 0.0, 0.0, 0.0, 0.0, 0.0, ...\n",
              "\n",
              "[5369 rows x 5 columns]"
            ]
          },
          "metadata": {
            "tags": []
          },
          "execution_count": 15
        }
      ]
    },
    {
      "cell_type": "code",
      "metadata": {
        "colab": {
          "base_uri": "https://localhost:8080/"
        },
        "id": "pPbwlmN9NxMd",
        "outputId": "5957b3f4-cc20-4cfa-f3b7-00d7136bac95"
      },
      "source": [
        "print(\"static vector dimention: \",df_clients_onehot.iloc[0]['static_vector'].shape)"
      ],
      "execution_count": 16,
      "outputs": [
        {
          "output_type": "stream",
          "text": [
            "static vector dimention:  (3591,)\n"
          ],
          "name": "stdout"
        }
      ]
    },
    {
      "cell_type": "code",
      "metadata": {
        "id": "b8-Ka2QtqI7c"
      },
      "source": [
        "# Convert date to python datetime\n",
        "df_trans['fulldate'] = pd.to_datetime(df_trans['fulldate'],format=\"%Y-%m-%d\")\n",
        "df_trans['timestamp'] = df_trans.fulldate.values.astype(np.int64) // 10 ** 9"
      ],
      "execution_count": 17,
      "outputs": []
    },
    {
      "cell_type": "code",
      "metadata": {
        "colab": {
          "base_uri": "https://localhost:8080/",
          "height": 617
        },
        "id": "zyhgD9xYUeGs",
        "outputId": "e2897d95-515c-42d3-8b0f-4e6d30fdab8a"
      },
      "source": [
        "df_trans"
      ],
      "execution_count": 18,
      "outputs": [
        {
          "output_type": "execute_result",
          "data": {
            "text/html": [
              "<div>\n",
              "<style scoped>\n",
              "    .dataframe tbody tr th:only-of-type {\n",
              "        vertical-align: middle;\n",
              "    }\n",
              "\n",
              "    .dataframe tbody tr th {\n",
              "        vertical-align: top;\n",
              "    }\n",
              "\n",
              "    .dataframe thead th {\n",
              "        text-align: right;\n",
              "    }\n",
              "</style>\n",
              "<table border=\"1\" class=\"dataframe\">\n",
              "  <thead>\n",
              "    <tr style=\"text-align: right;\">\n",
              "      <th></th>\n",
              "      <th>trans_id</th>\n",
              "      <th>account_id</th>\n",
              "      <th>type</th>\n",
              "      <th>operation</th>\n",
              "      <th>amount</th>\n",
              "      <th>balance</th>\n",
              "      <th>k_symbol</th>\n",
              "      <th>bank</th>\n",
              "      <th>account</th>\n",
              "      <th>year</th>\n",
              "      <th>month</th>\n",
              "      <th>day</th>\n",
              "      <th>fulldate</th>\n",
              "      <th>fulltime</th>\n",
              "      <th>fulldatewithtime</th>\n",
              "      <th>timestamp</th>\n",
              "    </tr>\n",
              "  </thead>\n",
              "  <tbody>\n",
              "    <tr>\n",
              "      <th>1</th>\n",
              "      <td>T00695247</td>\n",
              "      <td>A00002378</td>\n",
              "      <td>Credit</td>\n",
              "      <td>Credit in Cash</td>\n",
              "      <td>700.0</td>\n",
              "      <td>700.0</td>\n",
              "      <td>NaN</td>\n",
              "      <td>NaN</td>\n",
              "      <td>NaN</td>\n",
              "      <td>2013</td>\n",
              "      <td>1</td>\n",
              "      <td>1</td>\n",
              "      <td>2013-01-01</td>\n",
              "      <td>11:02:40</td>\n",
              "      <td>2013-01-01T11:02:40</td>\n",
              "      <td>1356998400</td>\n",
              "    </tr>\n",
              "    <tr>\n",
              "      <th>2</th>\n",
              "      <td>T00171812</td>\n",
              "      <td>A00000576</td>\n",
              "      <td>Credit</td>\n",
              "      <td>Credit in Cash</td>\n",
              "      <td>900.0</td>\n",
              "      <td>900.0</td>\n",
              "      <td>NaN</td>\n",
              "      <td>NaN</td>\n",
              "      <td>NaN</td>\n",
              "      <td>2013</td>\n",
              "      <td>1</td>\n",
              "      <td>1</td>\n",
              "      <td>2013-01-01</td>\n",
              "      <td>08:23:33</td>\n",
              "      <td>2013-01-01T08:23:33</td>\n",
              "      <td>1356998400</td>\n",
              "    </tr>\n",
              "    <tr>\n",
              "      <th>3</th>\n",
              "      <td>T00207264</td>\n",
              "      <td>A00000704</td>\n",
              "      <td>Credit</td>\n",
              "      <td>Credit in Cash</td>\n",
              "      <td>1000.0</td>\n",
              "      <td>1000.0</td>\n",
              "      <td>NaN</td>\n",
              "      <td>NaN</td>\n",
              "      <td>NaN</td>\n",
              "      <td>2013</td>\n",
              "      <td>1</td>\n",
              "      <td>1</td>\n",
              "      <td>2013-01-01</td>\n",
              "      <td>15:19:21</td>\n",
              "      <td>2013-01-01T15:19:21</td>\n",
              "      <td>1356998400</td>\n",
              "    </tr>\n",
              "    <tr>\n",
              "      <th>4</th>\n",
              "      <td>T01117247</td>\n",
              "      <td>A00003818</td>\n",
              "      <td>Credit</td>\n",
              "      <td>Credit in Cash</td>\n",
              "      <td>600.0</td>\n",
              "      <td>600.0</td>\n",
              "      <td>NaN</td>\n",
              "      <td>NaN</td>\n",
              "      <td>NaN</td>\n",
              "      <td>2013</td>\n",
              "      <td>1</td>\n",
              "      <td>1</td>\n",
              "      <td>2013-01-01</td>\n",
              "      <td>10:42:35</td>\n",
              "      <td>2013-01-01T10:42:35</td>\n",
              "      <td>1356998400</td>\n",
              "    </tr>\n",
              "    <tr>\n",
              "      <th>5</th>\n",
              "      <td>T00579373</td>\n",
              "      <td>A00001972</td>\n",
              "      <td>Credit</td>\n",
              "      <td>Credit in Cash</td>\n",
              "      <td>400.0</td>\n",
              "      <td>400.0</td>\n",
              "      <td>NaN</td>\n",
              "      <td>NaN</td>\n",
              "      <td>NaN</td>\n",
              "      <td>2013</td>\n",
              "      <td>1</td>\n",
              "      <td>2</td>\n",
              "      <td>2013-01-02</td>\n",
              "      <td>11:39:25</td>\n",
              "      <td>2013-01-02T11:39:25</td>\n",
              "      <td>1357084800</td>\n",
              "    </tr>\n",
              "    <tr>\n",
              "      <th>...</th>\n",
              "      <td>...</td>\n",
              "      <td>...</td>\n",
              "      <td>...</td>\n",
              "      <td>...</td>\n",
              "      <td>...</td>\n",
              "      <td>...</td>\n",
              "      <td>...</td>\n",
              "      <td>...</td>\n",
              "      <td>...</td>\n",
              "      <td>...</td>\n",
              "      <td>...</td>\n",
              "      <td>...</td>\n",
              "      <td>...</td>\n",
              "      <td>...</td>\n",
              "      <td>...</td>\n",
              "      <td>...</td>\n",
              "    </tr>\n",
              "    <tr>\n",
              "      <th>1056316</th>\n",
              "      <td>T03626622</td>\n",
              "      <td>A00002906</td>\n",
              "      <td>Credit</td>\n",
              "      <td>NaN</td>\n",
              "      <td>62.3</td>\n",
              "      <td>13729.4</td>\n",
              "      <td>Interest Credited</td>\n",
              "      <td>NaN</td>\n",
              "      <td>NaN</td>\n",
              "      <td>2018</td>\n",
              "      <td>12</td>\n",
              "      <td>31</td>\n",
              "      <td>2018-12-31</td>\n",
              "      <td>15:18:14</td>\n",
              "      <td>2018-12-31T15:18:14</td>\n",
              "      <td>1546214400</td>\n",
              "    </tr>\n",
              "    <tr>\n",
              "      <th>1056317</th>\n",
              "      <td>T03627616</td>\n",
              "      <td>A00002935</td>\n",
              "      <td>Credit</td>\n",
              "      <td>NaN</td>\n",
              "      <td>81.3</td>\n",
              "      <td>19544.9</td>\n",
              "      <td>Interest Credited</td>\n",
              "      <td>NaN</td>\n",
              "      <td>NaN</td>\n",
              "      <td>2018</td>\n",
              "      <td>12</td>\n",
              "      <td>31</td>\n",
              "      <td>2018-12-31</td>\n",
              "      <td>13:04:60</td>\n",
              "      <td>2018-12-31T13:04:60</td>\n",
              "      <td>1546214400</td>\n",
              "    </tr>\n",
              "    <tr>\n",
              "      <th>1056318</th>\n",
              "      <td>T03625403</td>\n",
              "      <td>A00002869</td>\n",
              "      <td>Credit</td>\n",
              "      <td>NaN</td>\n",
              "      <td>60.2</td>\n",
              "      <td>14638.2</td>\n",
              "      <td>Interest Credited</td>\n",
              "      <td>NaN</td>\n",
              "      <td>NaN</td>\n",
              "      <td>2018</td>\n",
              "      <td>12</td>\n",
              "      <td>31</td>\n",
              "      <td>2018-12-31</td>\n",
              "      <td>08:30:13</td>\n",
              "      <td>2018-12-31T08:30:13</td>\n",
              "      <td>1546214400</td>\n",
              "    </tr>\n",
              "    <tr>\n",
              "      <th>1056319</th>\n",
              "      <td>T03626683</td>\n",
              "      <td>A00002907</td>\n",
              "      <td>Credit</td>\n",
              "      <td>NaN</td>\n",
              "      <td>107.5</td>\n",
              "      <td>23453.0</td>\n",
              "      <td>Interest Credited</td>\n",
              "      <td>NaN</td>\n",
              "      <td>NaN</td>\n",
              "      <td>2018</td>\n",
              "      <td>12</td>\n",
              "      <td>31</td>\n",
              "      <td>2018-12-31</td>\n",
              "      <td>14:45:19</td>\n",
              "      <td>2018-12-31T14:45:19</td>\n",
              "      <td>1546214400</td>\n",
              "    </tr>\n",
              "    <tr>\n",
              "      <th>1056320</th>\n",
              "      <td>T03626540</td>\n",
              "      <td>A00002902</td>\n",
              "      <td>Credit</td>\n",
              "      <td>NaN</td>\n",
              "      <td>164.1</td>\n",
              "      <td>41642.9</td>\n",
              "      <td>Interest Credited</td>\n",
              "      <td>NaN</td>\n",
              "      <td>NaN</td>\n",
              "      <td>2018</td>\n",
              "      <td>12</td>\n",
              "      <td>31</td>\n",
              "      <td>2018-12-31</td>\n",
              "      <td>10:44:40</td>\n",
              "      <td>2018-12-31T10:44:40</td>\n",
              "      <td>1546214400</td>\n",
              "    </tr>\n",
              "  </tbody>\n",
              "</table>\n",
              "<p>1056320 rows × 16 columns</p>\n",
              "</div>"
            ],
            "text/plain": [
              "          trans_id account_id  ...     fulldatewithtime   timestamp\n",
              "1        T00695247  A00002378  ...  2013-01-01T11:02:40  1356998400\n",
              "2        T00171812  A00000576  ...  2013-01-01T08:23:33  1356998400\n",
              "3        T00207264  A00000704  ...  2013-01-01T15:19:21  1356998400\n",
              "4        T01117247  A00003818  ...  2013-01-01T10:42:35  1356998400\n",
              "5        T00579373  A00001972  ...  2013-01-02T11:39:25  1357084800\n",
              "...            ...        ...  ...                  ...         ...\n",
              "1056316  T03626622  A00002906  ...  2018-12-31T15:18:14  1546214400\n",
              "1056317  T03627616  A00002935  ...  2018-12-31T13:04:60  1546214400\n",
              "1056318  T03625403  A00002869  ...  2018-12-31T08:30:13  1546214400\n",
              "1056319  T03626683  A00002907  ...  2018-12-31T14:45:19  1546214400\n",
              "1056320  T03626540  A00002902  ...  2018-12-31T10:44:40  1546214400\n",
              "\n",
              "[1056320 rows x 16 columns]"
            ]
          },
          "metadata": {
            "tags": []
          },
          "execution_count": 18
        }
      ]
    },
    {
      "cell_type": "code",
      "metadata": {
        "id": "EOvptEUTqKVU"
      },
      "source": [
        "df_trans = df_trans.sort_values('fulldate')\n",
        "\n",
        "df_z_scaled = df_trans\n",
        "df_z_scaled['amount'] = (df_z_scaled['amount'] - df_z_scaled['amount'].mean()) / df_z_scaled['amount'].std()\n",
        "df_z_scaled['timestamp'] = (df_z_scaled['timestamp'] - df_z_scaled['timestamp'].mean()) / df_z_scaled['timestamp'].std()\n",
        "\n",
        "df_trans_groupby_account_id = df_z_scaled.groupby(['account_id'])"
      ],
      "execution_count": 19,
      "outputs": []
    },
    {
      "cell_type": "code",
      "metadata": {
        "colab": {
          "base_uri": "https://localhost:8080/",
          "height": 617
        },
        "id": "kAW0sIW6NR3R",
        "outputId": "b42fcae2-a246-44d9-c59f-d19493a9e083"
      },
      "source": [
        "df_z_scaled"
      ],
      "execution_count": 20,
      "outputs": [
        {
          "output_type": "execute_result",
          "data": {
            "text/html": [
              "<div>\n",
              "<style scoped>\n",
              "    .dataframe tbody tr th:only-of-type {\n",
              "        vertical-align: middle;\n",
              "    }\n",
              "\n",
              "    .dataframe tbody tr th {\n",
              "        vertical-align: top;\n",
              "    }\n",
              "\n",
              "    .dataframe thead th {\n",
              "        text-align: right;\n",
              "    }\n",
              "</style>\n",
              "<table border=\"1\" class=\"dataframe\">\n",
              "  <thead>\n",
              "    <tr style=\"text-align: right;\">\n",
              "      <th></th>\n",
              "      <th>trans_id</th>\n",
              "      <th>account_id</th>\n",
              "      <th>type</th>\n",
              "      <th>operation</th>\n",
              "      <th>amount</th>\n",
              "      <th>balance</th>\n",
              "      <th>k_symbol</th>\n",
              "      <th>bank</th>\n",
              "      <th>account</th>\n",
              "      <th>year</th>\n",
              "      <th>month</th>\n",
              "      <th>day</th>\n",
              "      <th>fulldate</th>\n",
              "      <th>fulltime</th>\n",
              "      <th>fulldatewithtime</th>\n",
              "      <th>timestamp</th>\n",
              "    </tr>\n",
              "  </thead>\n",
              "  <tbody>\n",
              "    <tr>\n",
              "      <th>1</th>\n",
              "      <td>T00695247</td>\n",
              "      <td>A00002378</td>\n",
              "      <td>Credit</td>\n",
              "      <td>Credit in Cash</td>\n",
              "      <td>-0.548597</td>\n",
              "      <td>700.0</td>\n",
              "      <td>NaN</td>\n",
              "      <td>NaN</td>\n",
              "      <td>NaN</td>\n",
              "      <td>2013</td>\n",
              "      <td>1</td>\n",
              "      <td>1</td>\n",
              "      <td>2013-01-01</td>\n",
              "      <td>11:02:40</td>\n",
              "      <td>2013-01-01T11:02:40</td>\n",
              "      <td>-2.860870</td>\n",
              "    </tr>\n",
              "    <tr>\n",
              "      <th>2</th>\n",
              "      <td>T00171812</td>\n",
              "      <td>A00000576</td>\n",
              "      <td>Credit</td>\n",
              "      <td>Credit in Cash</td>\n",
              "      <td>-0.527595</td>\n",
              "      <td>900.0</td>\n",
              "      <td>NaN</td>\n",
              "      <td>NaN</td>\n",
              "      <td>NaN</td>\n",
              "      <td>2013</td>\n",
              "      <td>1</td>\n",
              "      <td>1</td>\n",
              "      <td>2013-01-01</td>\n",
              "      <td>08:23:33</td>\n",
              "      <td>2013-01-01T08:23:33</td>\n",
              "      <td>-2.860870</td>\n",
              "    </tr>\n",
              "    <tr>\n",
              "      <th>3</th>\n",
              "      <td>T00207264</td>\n",
              "      <td>A00000704</td>\n",
              "      <td>Credit</td>\n",
              "      <td>Credit in Cash</td>\n",
              "      <td>-0.517094</td>\n",
              "      <td>1000.0</td>\n",
              "      <td>NaN</td>\n",
              "      <td>NaN</td>\n",
              "      <td>NaN</td>\n",
              "      <td>2013</td>\n",
              "      <td>1</td>\n",
              "      <td>1</td>\n",
              "      <td>2013-01-01</td>\n",
              "      <td>15:19:21</td>\n",
              "      <td>2013-01-01T15:19:21</td>\n",
              "      <td>-2.860870</td>\n",
              "    </tr>\n",
              "    <tr>\n",
              "      <th>4</th>\n",
              "      <td>T01117247</td>\n",
              "      <td>A00003818</td>\n",
              "      <td>Credit</td>\n",
              "      <td>Credit in Cash</td>\n",
              "      <td>-0.559098</td>\n",
              "      <td>600.0</td>\n",
              "      <td>NaN</td>\n",
              "      <td>NaN</td>\n",
              "      <td>NaN</td>\n",
              "      <td>2013</td>\n",
              "      <td>1</td>\n",
              "      <td>1</td>\n",
              "      <td>2013-01-01</td>\n",
              "      <td>10:42:35</td>\n",
              "      <td>2013-01-01T10:42:35</td>\n",
              "      <td>-2.860870</td>\n",
              "    </tr>\n",
              "    <tr>\n",
              "      <th>5</th>\n",
              "      <td>T00579373</td>\n",
              "      <td>A00001972</td>\n",
              "      <td>Credit</td>\n",
              "      <td>Credit in Cash</td>\n",
              "      <td>-0.580101</td>\n",
              "      <td>400.0</td>\n",
              "      <td>NaN</td>\n",
              "      <td>NaN</td>\n",
              "      <td>NaN</td>\n",
              "      <td>2013</td>\n",
              "      <td>1</td>\n",
              "      <td>2</td>\n",
              "      <td>2013-01-02</td>\n",
              "      <td>11:39:25</td>\n",
              "      <td>2013-01-02T11:39:25</td>\n",
              "      <td>-2.858917</td>\n",
              "    </tr>\n",
              "    <tr>\n",
              "      <th>...</th>\n",
              "      <td>...</td>\n",
              "      <td>...</td>\n",
              "      <td>...</td>\n",
              "      <td>...</td>\n",
              "      <td>...</td>\n",
              "      <td>...</td>\n",
              "      <td>...</td>\n",
              "      <td>...</td>\n",
              "      <td>...</td>\n",
              "      <td>...</td>\n",
              "      <td>...</td>\n",
              "      <td>...</td>\n",
              "      <td>...</td>\n",
              "      <td>...</td>\n",
              "      <td>...</td>\n",
              "      <td>...</td>\n",
              "    </tr>\n",
              "    <tr>\n",
              "      <th>1053317</th>\n",
              "      <td>T03629556</td>\n",
              "      <td>A00002990</td>\n",
              "      <td>Credit</td>\n",
              "      <td>NaN</td>\n",
              "      <td>-0.603728</td>\n",
              "      <td>42712.1</td>\n",
              "      <td>Interest Credited</td>\n",
              "      <td>NaN</td>\n",
              "      <td>NaN</td>\n",
              "      <td>2018</td>\n",
              "      <td>12</td>\n",
              "      <td>31</td>\n",
              "      <td>2018-12-31</td>\n",
              "      <td>13:14:06</td>\n",
              "      <td>2018-12-31T13:14:06</td>\n",
              "      <td>1.417798</td>\n",
              "    </tr>\n",
              "    <tr>\n",
              "      <th>1053316</th>\n",
              "      <td>T03630422</td>\n",
              "      <td>A00003025</td>\n",
              "      <td>Credit</td>\n",
              "      <td>NaN</td>\n",
              "      <td>-0.614345</td>\n",
              "      <td>15933.6</td>\n",
              "      <td>Interest Credited</td>\n",
              "      <td>NaN</td>\n",
              "      <td>NaN</td>\n",
              "      <td>2018</td>\n",
              "      <td>12</td>\n",
              "      <td>31</td>\n",
              "      <td>2018-12-31</td>\n",
              "      <td>13:31:03</td>\n",
              "      <td>2018-12-31T13:31:03</td>\n",
              "      <td>1.417798</td>\n",
              "    </tr>\n",
              "    <tr>\n",
              "      <th>1053315</th>\n",
              "      <td>T03631495</td>\n",
              "      <td>A00003053</td>\n",
              "      <td>Credit</td>\n",
              "      <td>NaN</td>\n",
              "      <td>-0.585372</td>\n",
              "      <td>86982.1</td>\n",
              "      <td>Interest Credited</td>\n",
              "      <td>NaN</td>\n",
              "      <td>NaN</td>\n",
              "      <td>2018</td>\n",
              "      <td>12</td>\n",
              "      <td>31</td>\n",
              "      <td>2018-12-31</td>\n",
              "      <td>16:53:60</td>\n",
              "      <td>2018-12-31T16:53:60</td>\n",
              "      <td>1.417798</td>\n",
              "    </tr>\n",
              "    <tr>\n",
              "      <th>1053321</th>\n",
              "      <td>T03632209</td>\n",
              "      <td>A00003077</td>\n",
              "      <td>Credit</td>\n",
              "      <td>NaN</td>\n",
              "      <td>-0.593973</td>\n",
              "      <td>68530.7</td>\n",
              "      <td>Interest Credited</td>\n",
              "      <td>NaN</td>\n",
              "      <td>NaN</td>\n",
              "      <td>2018</td>\n",
              "      <td>12</td>\n",
              "      <td>31</td>\n",
              "      <td>2018-12-31</td>\n",
              "      <td>14:55:47</td>\n",
              "      <td>2018-12-31T14:55:47</td>\n",
              "      <td>1.417798</td>\n",
              "    </tr>\n",
              "    <tr>\n",
              "      <th>1056320</th>\n",
              "      <td>T03626540</td>\n",
              "      <td>A00002902</td>\n",
              "      <td>Credit</td>\n",
              "      <td>NaN</td>\n",
              "      <td>-0.604873</td>\n",
              "      <td>41642.9</td>\n",
              "      <td>Interest Credited</td>\n",
              "      <td>NaN</td>\n",
              "      <td>NaN</td>\n",
              "      <td>2018</td>\n",
              "      <td>12</td>\n",
              "      <td>31</td>\n",
              "      <td>2018-12-31</td>\n",
              "      <td>10:44:40</td>\n",
              "      <td>2018-12-31T10:44:40</td>\n",
              "      <td>1.417798</td>\n",
              "    </tr>\n",
              "  </tbody>\n",
              "</table>\n",
              "<p>1056320 rows × 16 columns</p>\n",
              "</div>"
            ],
            "text/plain": [
              "          trans_id account_id    type  ...  fulltime     fulldatewithtime  timestamp\n",
              "1        T00695247  A00002378  Credit  ...  11:02:40  2013-01-01T11:02:40  -2.860870\n",
              "2        T00171812  A00000576  Credit  ...  08:23:33  2013-01-01T08:23:33  -2.860870\n",
              "3        T00207264  A00000704  Credit  ...  15:19:21  2013-01-01T15:19:21  -2.860870\n",
              "4        T01117247  A00003818  Credit  ...  10:42:35  2013-01-01T10:42:35  -2.860870\n",
              "5        T00579373  A00001972  Credit  ...  11:39:25  2013-01-02T11:39:25  -2.858917\n",
              "...            ...        ...     ...  ...       ...                  ...        ...\n",
              "1053317  T03629556  A00002990  Credit  ...  13:14:06  2018-12-31T13:14:06   1.417798\n",
              "1053316  T03630422  A00003025  Credit  ...  13:31:03  2018-12-31T13:31:03   1.417798\n",
              "1053315  T03631495  A00003053  Credit  ...  16:53:60  2018-12-31T16:53:60   1.417798\n",
              "1053321  T03632209  A00003077  Credit  ...  14:55:47  2018-12-31T14:55:47   1.417798\n",
              "1056320  T03626540  A00002902  Credit  ...  10:44:40  2018-12-31T10:44:40   1.417798\n",
              "\n",
              "[1056320 rows x 16 columns]"
            ]
          },
          "metadata": {
            "tags": []
          },
          "execution_count": 20
        }
      ]
    },
    {
      "cell_type": "code",
      "metadata": {
        "colab": {
          "base_uri": "https://localhost:8080/"
        },
        "id": "EqnzWoVmVxon",
        "outputId": "ba33e729-d602-485c-ff85-2e344109fab6"
      },
      "source": [
        "df = df_trans_groupby_account_id\n",
        "df_trans_groupby_account_id.size()"
      ],
      "execution_count": 21,
      "outputs": [
        {
          "output_type": "execute_result",
          "data": {
            "text/plain": [
              "account_id\n",
              "A00000001    239\n",
              "A00000002    478\n",
              "A00000003    117\n",
              "A00000004    186\n",
              "A00000005     84\n",
              "            ... \n",
              "A00011333    368\n",
              "A00011349    304\n",
              "A00011359    378\n",
              "A00011362    344\n",
              "A00011382    253\n",
              "Length: 4500, dtype: int64"
            ]
          },
          "metadata": {
            "tags": []
          },
          "execution_count": 21
        }
      ]
    },
    {
      "cell_type": "code",
      "metadata": {
        "id": "FlqfDMNDXlh0"
      },
      "source": [
        "# df.groups.keys()"
      ],
      "execution_count": 22,
      "outputs": []
    },
    {
      "cell_type": "code",
      "metadata": {
        "colab": {
          "base_uri": "https://localhost:8080/"
        },
        "id": "vfGhl1DpX-9Y",
        "outputId": "5ca23ecc-9b6b-4919-fa2b-c38e7e7a51ec"
      },
      "source": [
        "max_length_of_transaction = df['amount'].count().max()\n",
        "print(\"max trans lenght is: \", max_length_of_transaction)\n",
        "df['amount'].count()"
      ],
      "execution_count": 23,
      "outputs": [
        {
          "output_type": "stream",
          "text": [
            "max trans lenght is:  675\n"
          ],
          "name": "stdout"
        },
        {
          "output_type": "execute_result",
          "data": {
            "text/plain": [
              "account_id\n",
              "A00000001    239\n",
              "A00000002    478\n",
              "A00000003    117\n",
              "A00000004    186\n",
              "A00000005     84\n",
              "            ... \n",
              "A00011333    368\n",
              "A00011349    304\n",
              "A00011359    378\n",
              "A00011362    344\n",
              "A00011382    253\n",
              "Name: amount, Length: 4500, dtype: int64"
            ]
          },
          "metadata": {
            "tags": []
          },
          "execution_count": 23
        }
      ]
    },
    {
      "cell_type": "code",
      "metadata": {
        "colab": {
          "base_uri": "https://localhost:8080/",
          "height": 739
        },
        "id": "LVvZpWlDQ_Au",
        "outputId": "3a5c7a07-2077-4380-8208-e9d4b6cd2710"
      },
      "source": [
        "df.get_group('A00000001')"
      ],
      "execution_count": 24,
      "outputs": [
        {
          "output_type": "execute_result",
          "data": {
            "text/html": [
              "<div>\n",
              "<style scoped>\n",
              "    .dataframe tbody tr th:only-of-type {\n",
              "        vertical-align: middle;\n",
              "    }\n",
              "\n",
              "    .dataframe tbody tr th {\n",
              "        vertical-align: top;\n",
              "    }\n",
              "\n",
              "    .dataframe thead th {\n",
              "        text-align: right;\n",
              "    }\n",
              "</style>\n",
              "<table border=\"1\" class=\"dataframe\">\n",
              "  <thead>\n",
              "    <tr style=\"text-align: right;\">\n",
              "      <th></th>\n",
              "      <th>trans_id</th>\n",
              "      <th>account_id</th>\n",
              "      <th>type</th>\n",
              "      <th>operation</th>\n",
              "      <th>amount</th>\n",
              "      <th>balance</th>\n",
              "      <th>k_symbol</th>\n",
              "      <th>bank</th>\n",
              "      <th>account</th>\n",
              "      <th>year</th>\n",
              "      <th>month</th>\n",
              "      <th>day</th>\n",
              "      <th>fulldate</th>\n",
              "      <th>fulltime</th>\n",
              "      <th>fulldatewithtime</th>\n",
              "      <th>timestamp</th>\n",
              "    </tr>\n",
              "  </thead>\n",
              "  <tbody>\n",
              "    <tr>\n",
              "      <th>149432</th>\n",
              "      <td>T00000001</td>\n",
              "      <td>A00000001</td>\n",
              "      <td>Credit</td>\n",
              "      <td>Credit in Cash</td>\n",
              "      <td>-0.517094</td>\n",
              "      <td>1000.0</td>\n",
              "      <td>NaN</td>\n",
              "      <td>NaN</td>\n",
              "      <td>NaN</td>\n",
              "      <td>2015</td>\n",
              "      <td>3</td>\n",
              "      <td>24</td>\n",
              "      <td>2015-03-24</td>\n",
              "      <td>10:21:45</td>\n",
              "      <td>2015-03-24T10:21:45</td>\n",
              "      <td>-1.274442</td>\n",
              "    </tr>\n",
              "    <tr>\n",
              "      <th>157404</th>\n",
              "      <td>T00000005</td>\n",
              "      <td>A00000001</td>\n",
              "      <td>Credit</td>\n",
              "      <td>Collection from Another Bank</td>\n",
              "      <td>-0.235767</td>\n",
              "      <td>4679.0</td>\n",
              "      <td>NaN</td>\n",
              "      <td>JPMorgan Chase</td>\n",
              "      <td>41403269.0</td>\n",
              "      <td>2015</td>\n",
              "      <td>4</td>\n",
              "      <td>13</td>\n",
              "      <td>2015-04-13</td>\n",
              "      <td>08:54:57</td>\n",
              "      <td>2015-04-13T08:54:57</td>\n",
              "      <td>-1.235367</td>\n",
              "    </tr>\n",
              "    <tr>\n",
              "      <th>158832</th>\n",
              "      <td>T00000199</td>\n",
              "      <td>A00000001</td>\n",
              "      <td>Credit</td>\n",
              "      <td>Credit in Cash</td>\n",
              "      <td>0.701044</td>\n",
              "      <td>17279.0</td>\n",
              "      <td>NaN</td>\n",
              "      <td>NaN</td>\n",
              "      <td>NaN</td>\n",
              "      <td>2015</td>\n",
              "      <td>4</td>\n",
              "      <td>23</td>\n",
              "      <td>2015-04-23</td>\n",
              "      <td>10:54:46</td>\n",
              "      <td>2015-04-23T10:54:46</td>\n",
              "      <td>-1.215830</td>\n",
              "    </tr>\n",
              "    <tr>\n",
              "      <th>162681</th>\n",
              "      <td>T03530438</td>\n",
              "      <td>A00000001</td>\n",
              "      <td>Credit</td>\n",
              "      <td>NaN</td>\n",
              "      <td>-0.620089</td>\n",
              "      <td>17298.2</td>\n",
              "      <td>Interest Credited</td>\n",
              "      <td>NaN</td>\n",
              "      <td>NaN</td>\n",
              "      <td>2015</td>\n",
              "      <td>4</td>\n",
              "      <td>30</td>\n",
              "      <td>2015-04-30</td>\n",
              "      <td>11:01:59</td>\n",
              "      <td>2015-04-30T11:01:59</td>\n",
              "      <td>-1.202154</td>\n",
              "    </tr>\n",
              "    <tr>\n",
              "      <th>167083</th>\n",
              "      <td>T00000006</td>\n",
              "      <td>A00000001</td>\n",
              "      <td>Credit</td>\n",
              "      <td>Collection from Another Bank</td>\n",
              "      <td>-0.235767</td>\n",
              "      <td>20977.2</td>\n",
              "      <td>NaN</td>\n",
              "      <td>JPMorgan Chase</td>\n",
              "      <td>41403269.0</td>\n",
              "      <td>2015</td>\n",
              "      <td>5</td>\n",
              "      <td>13</td>\n",
              "      <td>2015-05-13</td>\n",
              "      <td>10:33:00</td>\n",
              "      <td>2015-05-13T10:33:00</td>\n",
              "      <td>-1.176755</td>\n",
              "    </tr>\n",
              "    <tr>\n",
              "      <th>...</th>\n",
              "      <td>...</td>\n",
              "      <td>...</td>\n",
              "      <td>...</td>\n",
              "      <td>...</td>\n",
              "      <td>...</td>\n",
              "      <td>...</td>\n",
              "      <td>...</td>\n",
              "      <td>...</td>\n",
              "      <td>...</td>\n",
              "      <td>...</td>\n",
              "      <td>...</td>\n",
              "      <td>...</td>\n",
              "      <td>...</td>\n",
              "      <td>...</td>\n",
              "      <td>...</td>\n",
              "      <td>...</td>\n",
              "    </tr>\n",
              "    <tr>\n",
              "      <th>1032336</th>\n",
              "      <td>T03530481</td>\n",
              "      <td>A00000001</td>\n",
              "      <td>Credit</td>\n",
              "      <td>NaN</td>\n",
              "      <td>-0.615059</td>\n",
              "      <td>16701.5</td>\n",
              "      <td>Interest Credited</td>\n",
              "      <td>NaN</td>\n",
              "      <td>NaN</td>\n",
              "      <td>2018</td>\n",
              "      <td>11</td>\n",
              "      <td>30</td>\n",
              "      <td>2018-11-30</td>\n",
              "      <td>13:58:35</td>\n",
              "      <td>2018-11-30T13:58:35</td>\n",
              "      <td>1.357232</td>\n",
              "    </tr>\n",
              "    <tr>\n",
              "      <th>1033713</th>\n",
              "      <td>T00000230</td>\n",
              "      <td>A00000001</td>\n",
              "      <td>Debit</td>\n",
              "      <td>Cash Withdrawal</td>\n",
              "      <td>-0.149552</td>\n",
              "      <td>12186.9</td>\n",
              "      <td>NaN</td>\n",
              "      <td>NaN</td>\n",
              "      <td>NaN</td>\n",
              "      <td>2018</td>\n",
              "      <td>12</td>\n",
              "      <td>3</td>\n",
              "      <td>2018-12-03</td>\n",
              "      <td>13:09:19</td>\n",
              "      <td>2018-12-03T13:09:19</td>\n",
              "      <td>1.363094</td>\n",
              "    </tr>\n",
              "    <tr>\n",
              "      <th>1035097</th>\n",
              "      <td>T00000097</td>\n",
              "      <td>A00000001</td>\n",
              "      <td>Debit</td>\n",
              "      <td>Remittance to Another Bank</td>\n",
              "      <td>-0.364616</td>\n",
              "      <td>9734.9</td>\n",
              "      <td>Household</td>\n",
              "      <td>State Street Corp.</td>\n",
              "      <td>87144583.0</td>\n",
              "      <td>2018</td>\n",
              "      <td>12</td>\n",
              "      <td>5</td>\n",
              "      <td>2018-12-05</td>\n",
              "      <td>11:42:20</td>\n",
              "      <td>2018-12-05T11:42:20</td>\n",
              "      <td>1.367001</td>\n",
              "    </tr>\n",
              "    <tr>\n",
              "      <th>1045493</th>\n",
              "      <td>T00000049</td>\n",
              "      <td>A00000001</td>\n",
              "      <td>Credit</td>\n",
              "      <td>Collection from Another Bank</td>\n",
              "      <td>-0.235767</td>\n",
              "      <td>13413.9</td>\n",
              "      <td>NaN</td>\n",
              "      <td>JPMorgan Chase</td>\n",
              "      <td>41403269.0</td>\n",
              "      <td>2018</td>\n",
              "      <td>12</td>\n",
              "      <td>13</td>\n",
              "      <td>2018-12-13</td>\n",
              "      <td>14:00:08</td>\n",
              "      <td>2018-12-13T14:00:08</td>\n",
              "      <td>1.382631</td>\n",
              "    </tr>\n",
              "    <tr>\n",
              "      <th>1056137</th>\n",
              "      <td>T03530482</td>\n",
              "      <td>A00000001</td>\n",
              "      <td>Credit</td>\n",
              "      <td>NaN</td>\n",
              "      <td>-0.616582</td>\n",
              "      <td>13466.5</td>\n",
              "      <td>Interest Credited</td>\n",
              "      <td>NaN</td>\n",
              "      <td>NaN</td>\n",
              "      <td>2018</td>\n",
              "      <td>12</td>\n",
              "      <td>31</td>\n",
              "      <td>2018-12-31</td>\n",
              "      <td>14:07:49</td>\n",
              "      <td>2018-12-31T14:07:49</td>\n",
              "      <td>1.417798</td>\n",
              "    </tr>\n",
              "  </tbody>\n",
              "</table>\n",
              "<p>239 rows × 16 columns</p>\n",
              "</div>"
            ],
            "text/plain": [
              "          trans_id account_id    type  ...  fulltime     fulldatewithtime  timestamp\n",
              "149432   T00000001  A00000001  Credit  ...  10:21:45  2015-03-24T10:21:45  -1.274442\n",
              "157404   T00000005  A00000001  Credit  ...  08:54:57  2015-04-13T08:54:57  -1.235367\n",
              "158832   T00000199  A00000001  Credit  ...  10:54:46  2015-04-23T10:54:46  -1.215830\n",
              "162681   T03530438  A00000001  Credit  ...  11:01:59  2015-04-30T11:01:59  -1.202154\n",
              "167083   T00000006  A00000001  Credit  ...  10:33:00  2015-05-13T10:33:00  -1.176755\n",
              "...            ...        ...     ...  ...       ...                  ...        ...\n",
              "1032336  T03530481  A00000001  Credit  ...  13:58:35  2018-11-30T13:58:35   1.357232\n",
              "1033713  T00000230  A00000001   Debit  ...  13:09:19  2018-12-03T13:09:19   1.363094\n",
              "1035097  T00000097  A00000001   Debit  ...  11:42:20  2018-12-05T11:42:20   1.367001\n",
              "1045493  T00000049  A00000001  Credit  ...  14:00:08  2018-12-13T14:00:08   1.382631\n",
              "1056137  T03530482  A00000001  Credit  ...  14:07:49  2018-12-31T14:07:49   1.417798\n",
              "\n",
              "[239 rows x 16 columns]"
            ]
          },
          "metadata": {
            "tags": []
          },
          "execution_count": 24
        }
      ]
    },
    {
      "cell_type": "code",
      "metadata": {
        "id": "XCmMLHpMTx0P"
      },
      "source": [
        "# my_list=[list(df_trans.loc[x][['amount','timestamp']])  for x in df.groups['A00000001']]"
      ],
      "execution_count": 25,
      "outputs": []
    },
    {
      "cell_type": "code",
      "metadata": {
        "id": "3wHV4YGGRcxf"
      },
      "source": [
        "sequence_input_list = []\n",
        "sequence_output_list = []\n",
        "\n",
        "for k, v in df_trans.groupby('account_id'):\n",
        "  user_trans_array = pd.concat([v.amount, v.timestamp], axis=1).values\n",
        "  array = user_trans_array.copy()\n",
        "  # add start and end to sequence of transations\n",
        "  add_start_to_array = np.insert(array, 0, [-1, -1], axis=0)\n",
        "  input_array = np.append(add_start_to_array, [[-2, -2]], axis=0)\n",
        "  output_array = np.append(array, [[-2, -2]], axis=0)\n",
        "  # resize array to max_lenght\n",
        "  input_array.resize((max_length_of_transaction,2), refcheck=False)\n",
        "  output_array.resize((max_length_of_transaction,2), refcheck=False)\n",
        "  # append them to list\n",
        "  sequence_input_list.append(input_array)\n",
        "  sequence_output_list.append(output_array)"
      ],
      "execution_count": 26,
      "outputs": []
    },
    {
      "cell_type": "code",
      "metadata": {
        "colab": {
          "base_uri": "https://localhost:8080/"
        },
        "id": "_Ynxrg3AfR_r",
        "outputId": "3b8ea567-95cb-426a-92bb-38cdb533b97e"
      },
      "source": [
        "sequence_input_array = np.array(sequence_input_list)\n",
        "sequence_output_input_array = sequence_input_array\n",
        "sequence_output_array = np.array(sequence_output_list)\n",
        "sequence_output_array.shape"
      ],
      "execution_count": 27,
      "outputs": [
        {
          "output_type": "execute_result",
          "data": {
            "text/plain": [
              "(4500, 675, 2)"
            ]
          },
          "metadata": {
            "tags": []
          },
          "execution_count": 27
        }
      ]
    },
    {
      "cell_type": "code",
      "metadata": {
        "colab": {
          "base_uri": "https://localhost:8080/"
        },
        "id": "vEpx6CaS5JF9",
        "outputId": "d53d4f65-edc6-4c34-f9e3-17400b08d15b"
      },
      "source": [
        "(sequence_output_input_array==sequence_output_array).all()"
      ],
      "execution_count": 28,
      "outputs": [
        {
          "output_type": "execute_result",
          "data": {
            "text/plain": [
              "False"
            ]
          },
          "metadata": {
            "tags": []
          },
          "execution_count": 28
        }
      ]
    },
    {
      "cell_type": "code",
      "metadata": {
        "colab": {
          "base_uri": "https://localhost:8080/"
        },
        "id": "Paag6Nw1jq3T",
        "outputId": "17c36f3a-9779-42f0-957e-e44eeeb36ea4"
      },
      "source": [
        "sequence_output_array[0][239]"
      ],
      "execution_count": 29,
      "outputs": [
        {
          "output_type": "execute_result",
          "data": {
            "text/plain": [
              "array([-2., -2.])"
            ]
          },
          "metadata": {
            "tags": []
          },
          "execution_count": 29
        }
      ]
    },
    {
      "cell_type": "code",
      "metadata": {
        "colab": {
          "base_uri": "https://localhost:8080/"
        },
        "id": "aBusjYuLeQEF",
        "outputId": "0a1c40a3-e271-4bff-ba93-4b1c141eec63"
      },
      "source": [
        "# Build static input array\n",
        "list_of_account_ids = list(df.groups.keys())\n",
        "static_input_list = []\n",
        "for account_id in list_of_account_ids:\n",
        "  sub_df = df_clients_onehot.loc[df_clients_onehot['account_id'] == account_id]\n",
        "  account_static_vector = sub_df.iloc[0]['static_vector']\n",
        "  static_input_list.append(account_static_vector)\n",
        "static_input_array = np.array(static_input_list)\n",
        "print(static_input_array.shape)\n",
        "static_output_array = static_input_array\n",
        "static_input_array"
      ],
      "execution_count": 30,
      "outputs": [
        {
          "output_type": "stream",
          "text": [
            "(4500, 3591)\n"
          ],
          "name": "stdout"
        },
        {
          "output_type": "execute_result",
          "data": {
            "text/plain": [
              "array([[1., 0., 0., ..., 0., 0., 0.],\n",
              "       [0., 1., 0., ..., 0., 0., 0.],\n",
              "       [0., 1., 0., ..., 0., 0., 0.],\n",
              "       ...,\n",
              "       [0., 1., 0., ..., 0., 0., 0.],\n",
              "       [1., 0., 0., ..., 0., 0., 0.],\n",
              "       [1., 0., 0., ..., 0., 0., 0.]])"
            ]
          },
          "metadata": {
            "tags": []
          },
          "execution_count": 30
        }
      ]
    },
    {
      "cell_type": "code",
      "metadata": {
        "colab": {
          "base_uri": "https://localhost:8080/"
        },
        "id": "P4RybTHtn-ro",
        "outputId": "fd376832-75a6-4c56-dda0-0aca0c852272"
      },
      "source": [
        "latent_dim = 32\n",
        "transaction_dim = 2\n",
        "input = Input(shape=(None, transaction_dim), name=\"input\")\n",
        "inter = LSTM(2048, return_sequences = True)(input)\n",
        "inter = LSTM(latent_dim, return_sequences = True, name = 'latent_layer')(inter)\n",
        "inter = LSTM(2048, return_sequences = True)(inter)\n",
        "\n",
        "dense = TimeDistributed(Dense(transaction_dim, activation='softmax'),name='decoder_outputs')(inter)\n",
        "model = Model(input, dense)\n",
        "model.compile(optimizer=\"rmsprop\", loss='mse')\n",
        "model.summary()"
      ],
      "execution_count": 51,
      "outputs": [
        {
          "output_type": "stream",
          "text": [
            "Model: \"model_3\"\n",
            "_________________________________________________________________\n",
            "Layer (type)                 Output Shape              Param #   \n",
            "=================================================================\n",
            "input (InputLayer)           [(None, None, 2)]         0         \n",
            "_________________________________________________________________\n",
            "lstm_8 (LSTM)                (None, None, 2048)        16801792  \n",
            "_________________________________________________________________\n",
            "latent_layer (LSTM)          (None, None, 32)          266368    \n",
            "_________________________________________________________________\n",
            "lstm_9 (LSTM)                (None, None, 2048)        17047552  \n",
            "_________________________________________________________________\n",
            "decoder_outputs (TimeDistrib (None, None, 2)           4098      \n",
            "=================================================================\n",
            "Total params: 34,119,810\n",
            "Trainable params: 34,119,810\n",
            "Non-trainable params: 0\n",
            "_________________________________________________________________\n"
          ],
          "name": "stdout"
        }
      ]
    },
    {
      "cell_type": "code",
      "metadata": {
        "colab": {
          "base_uri": "https://localhost:8080/",
          "height": 533
        },
        "id": "AuOs3OWArKsa",
        "outputId": "a9463a66-bae3-4e83-c99e-ab918a1f264c"
      },
      "source": [
        "plot_model(model, show_shapes=True, show_layer_names=True)"
      ],
      "execution_count": 32,
      "outputs": [
        {
          "output_type": "execute_result",
          "data": {
            "image/png": "[encoded data removed]",
            "text/plain": [
              "<IPython.core.display.Image object>"
            ]
          },
          "metadata": {
            "tags": []
          },
          "execution_count": 32
        }
      ]
    },
    {
      "cell_type": "code",
      "metadata": {
        "colab": {
          "base_uri": "https://localhost:8080/"
        },
        "id": "q1n9milvGn3e",
        "outputId": "d2266397-1ee1-4fff-b2d7-602df65be784"
      },
      "source": [
        "# fit the keras model on the dataset\n",
        "inputs = [sequence_output_input_array]\n",
        "outputs = [sequence_output_array]\n",
        "model.fit(inputs, outputs, epochs=10, batch_size=128)"
      ],
      "execution_count": 33,
      "outputs": [
        {
          "output_type": "stream",
          "text": [
            "Epoch 1/10\n",
            "36/36 [==============================] - 226s 6s/step - loss: 0.6857\n",
            "Epoch 2/10\n",
            "36/36 [==============================] - 232s 6s/step - loss: 0.6123\n",
            "Epoch 3/10\n",
            "36/36 [==============================] - 230s 6s/step - loss: 0.6500\n",
            "Epoch 4/10\n",
            "36/36 [==============================] - 228s 6s/step - loss: 0.7440\n",
            "Epoch 5/10\n",
            "36/36 [==============================] - 227s 6s/step - loss: 0.6152\n",
            "Epoch 6/10\n",
            "36/36 [==============================] - 228s 6s/step - loss: 0.7319\n",
            "Epoch 7/10\n",
            "36/36 [==============================] - 227s 6s/step - loss: 0.7211\n",
            "Epoch 8/10\n",
            "36/36 [==============================] - 228s 6s/step - loss: 0.7126\n",
            "Epoch 9/10\n",
            "36/36 [==============================] - 230s 6s/step - loss: 0.6713\n",
            "Epoch 10/10\n",
            "36/36 [==============================] - 229s 6s/step - loss: 0.7296\n"
          ],
          "name": "stdout"
        },
        {
          "output_type": "execute_result",
          "data": {
            "text/plain": [
              "<tensorflow.python.keras.callbacks.History at 0x7fbf6022da58>"
            ]
          },
          "metadata": {
            "tags": []
          },
          "execution_count": 33
        }
      ]
    },
    {
      "cell_type": "code",
      "metadata": {
        "id": "qUN5eQigaC4b",
        "colab": {
          "base_uri": "https://localhost:8080/"
        },
        "outputId": "03bf419b-e07e-4561-e696-91808e4d9b34"
      },
      "source": [
        "# save the model to disk\n",
        "model.save(my_drive_path)"
      ],
      "execution_count": 34,
      "outputs": [
        {
          "output_type": "stream",
          "text": [
            "WARNING:absl:Found untraced functions such as lstm_cell_layer_call_fn, lstm_cell_layer_call_and_return_conditional_losses, lstm_cell_1_layer_call_fn, lstm_cell_1_layer_call_and_return_conditional_losses, lstm_cell_2_layer_call_fn while saving (showing 5 of 15). These functions will not be directly callable after loading.\n",
            "WARNING:absl:Found untraced functions such as lstm_cell_layer_call_fn, lstm_cell_layer_call_and_return_conditional_losses, lstm_cell_1_layer_call_fn, lstm_cell_1_layer_call_and_return_conditional_losses, lstm_cell_2_layer_call_fn while saving (showing 5 of 15). These functions will not be directly callable after loading.\n"
          ],
          "name": "stderr"
        },
        {
          "output_type": "stream",
          "text": [
            "INFO:tensorflow:Assets written to: /content/gdrive/MyDrive/assets\n"
          ],
          "name": "stdout"
        },
        {
          "output_type": "stream",
          "text": [
            "INFO:tensorflow:Assets written to: /content/gdrive/MyDrive/assets\n"
          ],
          "name": "stderr"
        }
      ]
    },
    {
      "cell_type": "code",
      "metadata": {
        "id": "3LQkQ1TUgbJ2"
      },
      "source": [
        "# load model\n",
        "# model = keras.models.load_model(my_drive_path)"
      ],
      "execution_count": 35,
      "outputs": []
    },
    {
      "cell_type": "code",
      "metadata": {
        "id": "szQAe4YZrHKh"
      },
      "source": [
        "encoder = Model( model.input , model.get_layer(\"latent_layer\").output)"
      ],
      "execution_count": 38,
      "outputs": []
    },
    {
      "cell_type": "code",
      "metadata": {
        "id": "PXR8PY4C1IR7",
        "colab": {
          "base_uri": "https://localhost:8080/",
          "height": 312
        },
        "outputId": "b0365ce7-7b5b-4a6c-efbd-d6f47c390ef6"
      },
      "source": [
        "plot_model(encoder, show_shapes=True, show_layer_names=True)"
      ],
      "execution_count": 39,
      "outputs": [
        {
          "output_type": "execute_result",
          "data": {
            "image/png": "[encoded data removed]",
            "text/plain": [
              "<IPython.core.display.Image object>"
            ]
          },
          "metadata": {
            "tags": []
          },
          "execution_count": 39
        }
      ]
    },
    {
      "cell_type": "code",
      "metadata": {
        "id": "LHkYB0m2Bd2b"
      },
      "source": [
        "x = [sequence_input_array]\n",
        "predictions = encoder.predict(x, batch_size=128)"
      ],
      "execution_count": 46,
      "outputs": []
    },
    {
      "cell_type": "code",
      "metadata": {
        "id": "hE4dTbMoB7cU",
        "colab": {
          "base_uri": "https://localhost:8080/"
        },
        "outputId": "82ded3c2-53e7-45b2-c4fe-f64c8e3a184a"
      },
      "source": [
        "predictions.shape"
      ],
      "execution_count": 47,
      "outputs": [
        {
          "output_type": "execute_result",
          "data": {
            "text/plain": [
              "(4500, 675, 32)"
            ]
          },
          "metadata": {
            "tags": []
          },
          "execution_count": 47
        }
      ]
    },
    {
      "cell_type": "code",
      "metadata": {
        "id": "M3UDfIDOkOHC",
        "colab": {
          "base_uri": "https://localhost:8080/",
          "height": 328
        },
        "outputId": "f6616759-2ffd-4d72-d603-24b30a44162f"
      },
      "source": [
        "standard_x = StandardScaler().fit_transform(predictions)"
      ],
      "execution_count": 44,
      "outputs": [
        {
          "output_type": "error",
          "ename": "ValueError",
          "evalue": "ignored",
          "traceback": [
            "\u001b[0;31m---------------------------------------------------------------------------\u001b[0m",
            "\u001b[0;31mValueError\u001b[0m                                Traceback (most recent call last)",
            "\u001b[0;32m<ipython-input-44-d9a4f1ec0ddc>\u001b[0m in \u001b[0;36m<module>\u001b[0;34m()\u001b[0m\n\u001b[0;32m----> 1\u001b[0;31m \u001b[0mstandard_x\u001b[0m \u001b[0;34m=\u001b[0m \u001b[0mStandardScaler\u001b[0m\u001b[0;34m(\u001b[0m\u001b[0;34m)\u001b[0m\u001b[0;34m.\u001b[0m\u001b[0mfit_transform\u001b[0m\u001b[0;34m(\u001b[0m\u001b[0mpredictions\u001b[0m\u001b[0;34m)\u001b[0m\u001b[0;34m\u001b[0m\u001b[0;34m\u001b[0m\u001b[0m\n\u001b[0m",
            "\u001b[0;32m/usr/local/lib/python3.6/dist-packages/sklearn/base.py\u001b[0m in \u001b[0;36mfit_transform\u001b[0;34m(self, X, y, **fit_params)\u001b[0m\n\u001b[1;32m    569\u001b[0m         \u001b[0;32mif\u001b[0m \u001b[0my\u001b[0m \u001b[0;32mis\u001b[0m \u001b[0;32mNone\u001b[0m\u001b[0;34m:\u001b[0m\u001b[0;34m\u001b[0m\u001b[0;34m\u001b[0m\u001b[0m\n\u001b[1;32m    570\u001b[0m             \u001b[0;31m# fit method of arity 1 (unsupervised transformation)\u001b[0m\u001b[0;34m\u001b[0m\u001b[0;34m\u001b[0m\u001b[0;34m\u001b[0m\u001b[0m\n\u001b[0;32m--> 571\u001b[0;31m             \u001b[0;32mreturn\u001b[0m \u001b[0mself\u001b[0m\u001b[0;34m.\u001b[0m\u001b[0mfit\u001b[0m\u001b[0;34m(\u001b[0m\u001b[0mX\u001b[0m\u001b[0;34m,\u001b[0m \u001b[0;34m**\u001b[0m\u001b[0mfit_params\u001b[0m\u001b[0;34m)\u001b[0m\u001b[0;34m.\u001b[0m\u001b[0mtransform\u001b[0m\u001b[0;34m(\u001b[0m\u001b[0mX\u001b[0m\u001b[0;34m)\u001b[0m\u001b[0;34m\u001b[0m\u001b[0;34m\u001b[0m\u001b[0m\n\u001b[0m\u001b[1;32m    572\u001b[0m         \u001b[0;32melse\u001b[0m\u001b[0;34m:\u001b[0m\u001b[0;34m\u001b[0m\u001b[0;34m\u001b[0m\u001b[0m\n\u001b[1;32m    573\u001b[0m             \u001b[0;31m# fit method of arity 2 (supervised transformation)\u001b[0m\u001b[0;34m\u001b[0m\u001b[0;34m\u001b[0m\u001b[0;34m\u001b[0m\u001b[0m\n",
            "\u001b[0;32m/usr/local/lib/python3.6/dist-packages/sklearn/preprocessing/_data.py\u001b[0m in \u001b[0;36mfit\u001b[0;34m(self, X, y)\u001b[0m\n\u001b[1;32m    667\u001b[0m         \u001b[0;31m# Reset internal state before fitting\u001b[0m\u001b[0;34m\u001b[0m\u001b[0;34m\u001b[0m\u001b[0;34m\u001b[0m\u001b[0m\n\u001b[1;32m    668\u001b[0m         \u001b[0mself\u001b[0m\u001b[0;34m.\u001b[0m\u001b[0m_reset\u001b[0m\u001b[0;34m(\u001b[0m\u001b[0;34m)\u001b[0m\u001b[0;34m\u001b[0m\u001b[0;34m\u001b[0m\u001b[0m\n\u001b[0;32m--> 669\u001b[0;31m         \u001b[0;32mreturn\u001b[0m \u001b[0mself\u001b[0m\u001b[0;34m.\u001b[0m\u001b[0mpartial_fit\u001b[0m\u001b[0;34m(\u001b[0m\u001b[0mX\u001b[0m\u001b[0;34m,\u001b[0m \u001b[0my\u001b[0m\u001b[0;34m)\u001b[0m\u001b[0;34m\u001b[0m\u001b[0;34m\u001b[0m\u001b[0m\n\u001b[0m\u001b[1;32m    670\u001b[0m \u001b[0;34m\u001b[0m\u001b[0m\n\u001b[1;32m    671\u001b[0m     \u001b[0;32mdef\u001b[0m \u001b[0mpartial_fit\u001b[0m\u001b[0;34m(\u001b[0m\u001b[0mself\u001b[0m\u001b[0;34m,\u001b[0m \u001b[0mX\u001b[0m\u001b[0;34m,\u001b[0m \u001b[0my\u001b[0m\u001b[0;34m=\u001b[0m\u001b[0;32mNone\u001b[0m\u001b[0;34m)\u001b[0m\u001b[0;34m:\u001b[0m\u001b[0;34m\u001b[0m\u001b[0;34m\u001b[0m\u001b[0m\n",
            "\u001b[0;32m/usr/local/lib/python3.6/dist-packages/sklearn/preprocessing/_data.py\u001b[0m in \u001b[0;36mpartial_fit\u001b[0;34m(self, X, y)\u001b[0m\n\u001b[1;32m    698\u001b[0m         X = check_array(X, accept_sparse=('csr', 'csc'),\n\u001b[1;32m    699\u001b[0m                         \u001b[0mestimator\u001b[0m\u001b[0;34m=\u001b[0m\u001b[0mself\u001b[0m\u001b[0;34m,\u001b[0m \u001b[0mdtype\u001b[0m\u001b[0;34m=\u001b[0m\u001b[0mFLOAT_DTYPES\u001b[0m\u001b[0;34m,\u001b[0m\u001b[0;34m\u001b[0m\u001b[0;34m\u001b[0m\u001b[0m\n\u001b[0;32m--> 700\u001b[0;31m                         force_all_finite='allow-nan')\n\u001b[0m\u001b[1;32m    701\u001b[0m \u001b[0;34m\u001b[0m\u001b[0m\n\u001b[1;32m    702\u001b[0m         \u001b[0;31m# Even in the case of `with_mean=False`, we update the mean anyway\u001b[0m\u001b[0;34m\u001b[0m\u001b[0;34m\u001b[0m\u001b[0;34m\u001b[0m\u001b[0m\n",
            "\u001b[0;32m/usr/local/lib/python3.6/dist-packages/sklearn/utils/validation.py\u001b[0m in \u001b[0;36mcheck_array\u001b[0;34m(array, accept_sparse, accept_large_sparse, dtype, order, copy, force_all_finite, ensure_2d, allow_nd, ensure_min_samples, ensure_min_features, warn_on_dtype, estimator)\u001b[0m\n\u001b[1;32m    572\u001b[0m         \u001b[0;32mif\u001b[0m \u001b[0;32mnot\u001b[0m \u001b[0mallow_nd\u001b[0m \u001b[0;32mand\u001b[0m \u001b[0marray\u001b[0m\u001b[0;34m.\u001b[0m\u001b[0mndim\u001b[0m \u001b[0;34m>=\u001b[0m \u001b[0;36m3\u001b[0m\u001b[0;34m:\u001b[0m\u001b[0;34m\u001b[0m\u001b[0;34m\u001b[0m\u001b[0m\n\u001b[1;32m    573\u001b[0m             raise ValueError(\"Found array with dim %d. %s expected <= 2.\"\n\u001b[0;32m--> 574\u001b[0;31m                              % (array.ndim, estimator_name))\n\u001b[0m\u001b[1;32m    575\u001b[0m \u001b[0;34m\u001b[0m\u001b[0m\n\u001b[1;32m    576\u001b[0m         \u001b[0;32mif\u001b[0m \u001b[0mforce_all_finite\u001b[0m\u001b[0;34m:\u001b[0m\u001b[0;34m\u001b[0m\u001b[0;34m\u001b[0m\u001b[0m\n",
            "\u001b[0;31mValueError\u001b[0m: Found array with dim 3. StandardScaler expected <= 2."
          ]
        }
      ]
    },
    {
      "cell_type": "code",
      "metadata": {
        "id": "giw1ALAJkWab"
      },
      "source": [
        "standard_x"
      ],
      "execution_count": null,
      "outputs": []
    },
    {
      "cell_type": "code",
      "metadata": {
        "id": "tZhTEqOFjPZs"
      },
      "source": [
        "pca = PCA(n_components=3)\n",
        "principal_components = pca.fit_transform(standard_x)"
      ],
      "execution_count": null,
      "outputs": []
    },
    {
      "cell_type": "code",
      "metadata": {
        "id": "4_7qIFvUlD1q"
      },
      "source": [
        "principal_components"
      ],
      "execution_count": null,
      "outputs": []
    },
    {
      "cell_type": "code",
      "metadata": {
        "id": "uvLClYjCIqMA"
      },
      "source": [
        "kmeans = KMeans(n_clusters=10)\n",
        "y_kmeans = kmeans.fit_predict(principal_components)"
      ],
      "execution_count": null,
      "outputs": []
    },
    {
      "cell_type": "code",
      "metadata": {
        "id": "VU77ktx4Jk_k"
      },
      "source": [
        "kmeans.labels_"
      ],
      "execution_count": null,
      "outputs": []
    },
    {
      "cell_type": "code",
      "metadata": {
        "id": "0aKWsQVXIqwg"
      },
      "source": [
        "fig = plt.figure(figsize=(20,10))\n",
        "plt.scatter(principal_components[:, 0], principal_components[:, 1], c=kmeans.labels_)\n",
        "centers = kmeans.cluster_centers_\n",
        "plt.scatter(centers[:, 0], centers[:, 1], c='black', s=200, alpha=0.5);"
      ],
      "execution_count": null,
      "outputs": []
    },
    {
      "cell_type": "code",
      "metadata": {
        "id": "q8M_GVXPJNld"
      },
      "source": [
        "fig = plt.figure(figsize=(20,10))\n",
        "ax = fig.add_subplot(111, projection='3d')\n",
        "ax.scatter(principal_components[:,0],principal_components[:,1],principal_components[:,2], \n",
        "            c=y_kmeans, cmap='viridis',\n",
        "            edgecolor='k', s=40, alpha = 0.5)\n",
        "\n",
        "\n",
        "ax.set_title(\"First three PCA directions\")\n",
        "ax.set_xlabel(\"Educational_Degree\")\n",
        "ax.set_ylabel(\"Gross_Monthly_Salary\")\n",
        "ax.set_zlabel(\"Claim_Rate\")\n",
        "ax.dist = 10"
      ],
      "execution_count": null,
      "outputs": []
    },
    {
      "cell_type": "code",
      "metadata": {
        "id": "Ki4zxaiejGut"
      },
      "source": [
        ""
      ],
      "execution_count": null,
      "outputs": []
    }
  ]
}