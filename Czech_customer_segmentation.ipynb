{
  "nbformat": 4,
  "nbformat_minor": 0,
  "metadata": {
    "accelerator": "GPU",
    "colab": {
      "name": "Czech customer segmentation.ipynb",
      "provenance": [],
      "collapsed_sections": [],
      "include_colab_link": true
    },
    "kernelspec": {
      "display_name": "Python 3",
      "name": "python3"
    }
  },
  "cells": [
    {
      "cell_type": "markdown",
      "metadata": {
        "id": "view-in-github",
        "colab_type": "text"
      },
      "source": [
        "<a href=\"https://colab.research.google.com/github/ehsanbarkhordar/Bank-Customer-Clustering-By-Transactions/blob/main/Czech_customer_segmentation.ipynb\" target=\"_parent\"><img src=\"https://colab.research.google.com/assets/colab-badge.svg\" alt=\"Open In Colab\"/></a>"
      ]
    },
    {
      "cell_type": "code",
      "metadata": {
        "colab": {
          "base_uri": "https://localhost:8080/"
        },
        "id": "HhWqg8jzLY7P",
        "outputId": "dd9ec6c3-3b12-4888-9d97-e6ad3ef45911"
      },
      "source": [
        "from google.colab import drive\n",
        "drive.mount('/content/gdrive', force_remount=False)"
      ],
      "execution_count": 1,
      "outputs": [
        {
          "output_type": "stream",
          "text": [
            "Drive already mounted at /content/gdrive; to attempt to forcibly remount, call drive.mount(\"/content/gdrive\", force_remount=True).\n"
          ],
          "name": "stdout"
        }
      ]
    },
    {
      "cell_type": "code",
      "metadata": {
        "colab": {
          "base_uri": "https://localhost:8080/"
        },
        "id": "3q9vPBDV7mtJ",
        "outputId": "71c876ee-fd69-46f6-8894-e59d4361ed74"
      },
      "source": [
        "!pip install scikit-learn-extra\n",
        "!pip install kneed"
      ],
      "execution_count": 2,
      "outputs": [
        {
          "output_type": "stream",
          "text": [
            "Requirement already satisfied: scikit-learn-extra in /usr/local/lib/python3.6/dist-packages (0.1.0b2)\n",
            "Requirement already satisfied: numpy>=1.13.3 in /usr/local/lib/python3.6/dist-packages (from scikit-learn-extra) (1.19.5)\n",
            "Requirement already satisfied: scipy>=0.19.1 in /usr/local/lib/python3.6/dist-packages (from scikit-learn-extra) (1.4.1)\n",
            "Requirement already satisfied: scikit-learn>=0.21.0 in /usr/local/lib/python3.6/dist-packages (from scikit-learn-extra) (0.22.2.post1)\n",
            "Requirement already satisfied: joblib>=0.11 in /usr/local/lib/python3.6/dist-packages (from scikit-learn>=0.21.0->scikit-learn-extra) (1.0.0)\n",
            "Requirement already satisfied: kneed in /usr/local/lib/python3.6/dist-packages (0.7.0)\n",
            "Requirement already satisfied: scipy in /usr/local/lib/python3.6/dist-packages (from kneed) (1.4.1)\n",
            "Requirement already satisfied: numpy>=1.14.2 in /usr/local/lib/python3.6/dist-packages (from kneed) (1.19.5)\n",
            "Requirement already satisfied: matplotlib in /usr/local/lib/python3.6/dist-packages (from kneed) (3.2.2)\n",
            "Requirement already satisfied: kiwisolver>=1.0.1 in /usr/local/lib/python3.6/dist-packages (from matplotlib->kneed) (1.3.1)\n",
            "Requirement already satisfied: cycler>=0.10 in /usr/local/lib/python3.6/dist-packages (from matplotlib->kneed) (0.10.0)\n",
            "Requirement already satisfied: pyparsing!=2.0.4,!=2.1.2,!=2.1.6,>=2.0.1 in /usr/local/lib/python3.6/dist-packages (from matplotlib->kneed) (2.4.7)\n",
            "Requirement already satisfied: python-dateutil>=2.1 in /usr/local/lib/python3.6/dist-packages (from matplotlib->kneed) (2.8.1)\n",
            "Requirement already satisfied: six in /usr/local/lib/python3.6/dist-packages (from cycler>=0.10->matplotlib->kneed) (1.15.0)\n"
          ],
          "name": "stdout"
        }
      ]
    },
    {
      "cell_type": "code",
      "metadata": {
        "id": "y4HcraYVIh7j"
      },
      "source": [
        "from keras.preprocessing.text import one_hot,Tokenizer\n",
        "from keras.preprocessing.sequence import pad_sequences\n",
        "from keras.models import Sequential\n",
        "from keras.layers.core import Activation, Dropout, Dense\n",
        "from keras.models import Model\n",
        "from keras.layers.embeddings import Embedding\n",
        "from keras.layers.merge import Concatenate\n",
        "from keras.models import Sequential, Model\n",
        "from keras.layers import Dense, LSTM, GRU, dot, Input, Embedding, \\\n",
        " TimeDistributed, Dropout, Bidirectional, Concatenate, GlobalMaxPooling1D\n",
        "from keras.layers.advanced_activations import PReLU, LeakyReLU\n",
        "from keras.optimizers import SGD\n",
        "from tensorflow.keras.utils import plot_model\n",
        "from tensorflow import feature_column\n",
        "from tensorflow.keras import layers\n",
        "from tensorflow import keras\n",
        "from sklearn.datasets import make_blobs\n",
        "from sklearn.cluster import KMeans\n",
        "from sklearn.metrics import silhouette_score\n",
        "from sklearn.decomposition import PCA\n",
        "from sklearn.cluster import KMeans\n",
        "from sklearn_extra.cluster import KMedoids\n",
        "from mpl_toolkits.mplot3d import Axes3D\n",
        "from kneed import KneeLocator\n",
        "from sklearn.model_selection import train_test_split\n",
        "from sklearn.preprocessing import LabelEncoder, OneHotEncoder, StandardScaler\n",
        "\n",
        "import pandas as pd\n",
        "import numpy as np\n",
        "import tensorflow as tf\n",
        "import matplotlib.pyplot as plt\n",
        "import pickle"
      ],
      "execution_count": 3,
      "outputs": []
    },
    {
      "cell_type": "code",
      "metadata": {
        "colab": {
          "base_uri": "https://localhost:8080/"
        },
        "id": "BpBu0uxjL_kg",
        "outputId": "760c2347-7c48-46f2-dde4-3234b0c8471a"
      },
      "source": [
        "from os import listdir\n",
        "from os.path import isfile, join\n",
        "my_drive_path = '/content/gdrive/MyDrive/'\n",
        "dataset_path = my_drive_path + '/lpetrocelli-retail-banking-demo-data/'\n",
        "onlyfiles = [f for f in listdir(dataset_path) if isfile(join(dataset_path, f))]\n",
        "onlyfiles"
      ],
      "execution_count": 4,
      "outputs": [
        {
          "output_type": "execute_result",
          "data": {
            "text/plain": [
              "['CRM Call Center Logs.csv',\n",
              " 'CRM Events.csv',\n",
              " 'completedcard.csv',\n",
              " 'LuxuryLoanPortfolio.csv',\n",
              " 'completedorder.csv',\n",
              " 'completedloan.csv',\n",
              " 'completedclient.csv',\n",
              " 'completedacct.csv',\n",
              " 'completedtrans.csv',\n",
              " 'completeddistrict.csv',\n",
              " 'CRM Reviews.csv',\n",
              " 'completeddisposition.csv']"
            ]
          },
          "metadata": {
            "tags": []
          },
          "execution_count": 4
        }
      ]
    },
    {
      "cell_type": "code",
      "metadata": {
        "colab": {
          "base_uri": "https://localhost:8080/"
        },
        "id": "tNZMfeKELyuW",
        "outputId": "7abade0b-dc0d-43ff-e229-29a5de1eade6"
      },
      "source": [
        "# Import Clients\n",
        "df_clients = pd.read_csv(dataset_path+'completedclient.csv', index_col=[0], low_memory=False)\n",
        "# Import Transactions\n",
        "df_trans = pd.read_csv(dataset_path+'completedtrans.csv', index_col=[0], low_memory=False)\n",
        "# Import Positions\n",
        "df_positions = pd.read_csv(dataset_path+'completeddisposition.csv', index_col=[0], low_memory=False)"
      ],
      "execution_count": 5,
      "outputs": [
        {
          "output_type": "stream",
          "text": [
            "/usr/local/lib/python3.6/dist-packages/numpy/lib/arraysetops.py:580: FutureWarning: elementwise comparison failed; returning scalar instead, but in the future will perform elementwise comparison\n",
            "  mask |= (ar1 == a)\n"
          ],
          "name": "stderr"
        }
      ]
    },
    {
      "cell_type": "code",
      "metadata": {
        "id": "qzilNdSENJ2n"
      },
      "source": [
        "df_clients = df_clients.join(df_positions.set_index('client_id'), on='client_id')"
      ],
      "execution_count": 6,
      "outputs": []
    },
    {
      "cell_type": "code",
      "metadata": {
        "colab": {
          "base_uri": "https://localhost:8080/",
          "height": 736
        },
        "id": "WL0tSPASQ-6h",
        "outputId": "0f774d3a-3178-44f8-a072-78f8f506373c"
      },
      "source": [
        "df_clients"
      ],
      "execution_count": 7,
      "outputs": [
        {
          "output_type": "execute_result",
          "data": {
            "text/html": [
              "<div>\n",
              "<style scoped>\n",
              "    .dataframe tbody tr th:only-of-type {\n",
              "        vertical-align: middle;\n",
              "    }\n",
              "\n",
              "    .dataframe tbody tr th {\n",
              "        vertical-align: top;\n",
              "    }\n",
              "\n",
              "    .dataframe thead th {\n",
              "        text-align: right;\n",
              "    }\n",
              "</style>\n",
              "<table border=\"1\" class=\"dataframe\">\n",
              "  <thead>\n",
              "    <tr style=\"text-align: right;\">\n",
              "      <th></th>\n",
              "      <th>sex</th>\n",
              "      <th>fulldate</th>\n",
              "      <th>day</th>\n",
              "      <th>month</th>\n",
              "      <th>year</th>\n",
              "      <th>age</th>\n",
              "      <th>social</th>\n",
              "      <th>first</th>\n",
              "      <th>middle</th>\n",
              "      <th>last</th>\n",
              "      <th>phone</th>\n",
              "      <th>email</th>\n",
              "      <th>address_1</th>\n",
              "      <th>address_2</th>\n",
              "      <th>city</th>\n",
              "      <th>state</th>\n",
              "      <th>zipcode</th>\n",
              "      <th>district_id</th>\n",
              "      <th>account_id</th>\n",
              "      <th>type</th>\n",
              "    </tr>\n",
              "    <tr>\n",
              "      <th>client_id</th>\n",
              "      <th></th>\n",
              "      <th></th>\n",
              "      <th></th>\n",
              "      <th></th>\n",
              "      <th></th>\n",
              "      <th></th>\n",
              "      <th></th>\n",
              "      <th></th>\n",
              "      <th></th>\n",
              "      <th></th>\n",
              "      <th></th>\n",
              "      <th></th>\n",
              "      <th></th>\n",
              "      <th></th>\n",
              "      <th></th>\n",
              "      <th></th>\n",
              "      <th></th>\n",
              "      <th></th>\n",
              "      <th></th>\n",
              "      <th></th>\n",
              "    </tr>\n",
              "  </thead>\n",
              "  <tbody>\n",
              "    <tr>\n",
              "      <th>C00000001</th>\n",
              "      <td>Female</td>\n",
              "      <td>1990-12-13</td>\n",
              "      <td>13</td>\n",
              "      <td>12</td>\n",
              "      <td>1990</td>\n",
              "      <td>29</td>\n",
              "      <td>926-93-2157</td>\n",
              "      <td>Emma</td>\n",
              "      <td>Avaya</td>\n",
              "      <td>Smith</td>\n",
              "      <td>367-171-6840</td>\n",
              "      <td>emma.smith@gmail.com</td>\n",
              "      <td>387 Wellington Ave.</td>\n",
              "      <td>Unit 1</td>\n",
              "      <td>Albuquerque</td>\n",
              "      <td>NM</td>\n",
              "      <td>47246</td>\n",
              "      <td>18</td>\n",
              "      <td>A00000001</td>\n",
              "      <td>Owner</td>\n",
              "    </tr>\n",
              "    <tr>\n",
              "      <th>C00000002</th>\n",
              "      <td>Male</td>\n",
              "      <td>1965-02-04</td>\n",
              "      <td>4</td>\n",
              "      <td>2</td>\n",
              "      <td>1965</td>\n",
              "      <td>54</td>\n",
              "      <td>806-94-5725</td>\n",
              "      <td>Noah</td>\n",
              "      <td>Everest</td>\n",
              "      <td>Thompson</td>\n",
              "      <td>212-423-7734</td>\n",
              "      <td>noah.thompson@gmail.com</td>\n",
              "      <td>75 W. Berkshire St.</td>\n",
              "      <td>NaN</td>\n",
              "      <td>New York City</td>\n",
              "      <td>NY</td>\n",
              "      <td>10040</td>\n",
              "      <td>1</td>\n",
              "      <td>A00000002</td>\n",
              "      <td>Owner</td>\n",
              "    </tr>\n",
              "    <tr>\n",
              "      <th>C00000003</th>\n",
              "      <td>Female</td>\n",
              "      <td>1960-10-09</td>\n",
              "      <td>9</td>\n",
              "      <td>10</td>\n",
              "      <td>1960</td>\n",
              "      <td>59</td>\n",
              "      <td>614-70-9100</td>\n",
              "      <td>Olivia</td>\n",
              "      <td>Brooklynne</td>\n",
              "      <td>Johnson</td>\n",
              "      <td>212-425-6932</td>\n",
              "      <td>olivia.johnson@outlook.com</td>\n",
              "      <td>36 Second St.</td>\n",
              "      <td>NaN</td>\n",
              "      <td>New York City</td>\n",
              "      <td>NY</td>\n",
              "      <td>10162</td>\n",
              "      <td>1</td>\n",
              "      <td>A00000002</td>\n",
              "      <td>User</td>\n",
              "    </tr>\n",
              "    <tr>\n",
              "      <th>C00000004</th>\n",
              "      <td>Male</td>\n",
              "      <td>1976-12-01</td>\n",
              "      <td>1</td>\n",
              "      <td>12</td>\n",
              "      <td>1976</td>\n",
              "      <td>43</td>\n",
              "      <td>580-20-3414</td>\n",
              "      <td>Liam</td>\n",
              "      <td>Irvin</td>\n",
              "      <td>White</td>\n",
              "      <td>951-567-8925</td>\n",
              "      <td>liam.white@gmail.com</td>\n",
              "      <td>7607 Sunnyslope Street</td>\n",
              "      <td>NaN</td>\n",
              "      <td>Indianapolis</td>\n",
              "      <td>IN</td>\n",
              "      <td>49047</td>\n",
              "      <td>5</td>\n",
              "      <td>A00000003</td>\n",
              "      <td>Owner</td>\n",
              "    </tr>\n",
              "    <tr>\n",
              "      <th>C00000005</th>\n",
              "      <td>Female</td>\n",
              "      <td>1980-07-03</td>\n",
              "      <td>3</td>\n",
              "      <td>7</td>\n",
              "      <td>1980</td>\n",
              "      <td>39</td>\n",
              "      <td>536-14-5809</td>\n",
              "      <td>Sophia</td>\n",
              "      <td>Danae</td>\n",
              "      <td>Williams</td>\n",
              "      <td>428-265-1568</td>\n",
              "      <td>sophia.williams@gmail.com</td>\n",
              "      <td>755 Galvin Street</td>\n",
              "      <td>NaN</td>\n",
              "      <td>Indianapolis</td>\n",
              "      <td>IN</td>\n",
              "      <td>40852</td>\n",
              "      <td>5</td>\n",
              "      <td>A00000003</td>\n",
              "      <td>User</td>\n",
              "    </tr>\n",
              "    <tr>\n",
              "      <th>...</th>\n",
              "      <td>...</td>\n",
              "      <td>...</td>\n",
              "      <td>...</td>\n",
              "      <td>...</td>\n",
              "      <td>...</td>\n",
              "      <td>...</td>\n",
              "      <td>...</td>\n",
              "      <td>...</td>\n",
              "      <td>...</td>\n",
              "      <td>...</td>\n",
              "      <td>...</td>\n",
              "      <td>...</td>\n",
              "      <td>...</td>\n",
              "      <td>...</td>\n",
              "      <td>...</td>\n",
              "      <td>...</td>\n",
              "      <td>...</td>\n",
              "      <td>...</td>\n",
              "      <td>...</td>\n",
              "      <td>...</td>\n",
              "    </tr>\n",
              "    <tr>\n",
              "      <th>C00013955</th>\n",
              "      <td>Female</td>\n",
              "      <td>1965-10-30</td>\n",
              "      <td>30</td>\n",
              "      <td>10</td>\n",
              "      <td>1965</td>\n",
              "      <td>54</td>\n",
              "      <td>830-38-3530</td>\n",
              "      <td>Adrianna</td>\n",
              "      <td>Jillian</td>\n",
              "      <td>Moore</td>\n",
              "      <td>212-205-7422</td>\n",
              "      <td>adrianna.moore@outlook.com</td>\n",
              "      <td>9405 SW. Leeton Ridge Drive</td>\n",
              "      <td>NaN</td>\n",
              "      <td>New York City</td>\n",
              "      <td>NY</td>\n",
              "      <td>10121</td>\n",
              "      <td>1</td>\n",
              "      <td>A00011349</td>\n",
              "      <td>Owner</td>\n",
              "    </tr>\n",
              "    <tr>\n",
              "      <th>C00013956</th>\n",
              "      <td>Male</td>\n",
              "      <td>1963-04-06</td>\n",
              "      <td>6</td>\n",
              "      <td>4</td>\n",
              "      <td>1963</td>\n",
              "      <td>56</td>\n",
              "      <td>773-25-4409</td>\n",
              "      <td>Aaron</td>\n",
              "      <td>Roman</td>\n",
              "      <td>Park</td>\n",
              "      <td>212-645-8820</td>\n",
              "      <td>aaron.park@gmail.com</td>\n",
              "      <td>7021 Chapel Ave.</td>\n",
              "      <td>NaN</td>\n",
              "      <td>New York City</td>\n",
              "      <td>NY</td>\n",
              "      <td>10118</td>\n",
              "      <td>1</td>\n",
              "      <td>A00011349</td>\n",
              "      <td>User</td>\n",
              "    </tr>\n",
              "    <tr>\n",
              "      <th>C00013968</th>\n",
              "      <td>Male</td>\n",
              "      <td>1988-04-13</td>\n",
              "      <td>13</td>\n",
              "      <td>4</td>\n",
              "      <td>1988</td>\n",
              "      <td>31</td>\n",
              "      <td>227-17-0778</td>\n",
              "      <td>Eli</td>\n",
              "      <td>Leonardo</td>\n",
              "      <td>Warner</td>\n",
              "      <td>508-465-5164</td>\n",
              "      <td>eli.warner@hotmail.com</td>\n",
              "      <td>43 Edgemont Dr.</td>\n",
              "      <td>NaN</td>\n",
              "      <td>Fall River</td>\n",
              "      <td>MA</td>\n",
              "      <td>2721</td>\n",
              "      <td>61</td>\n",
              "      <td>A00011359</td>\n",
              "      <td>Owner</td>\n",
              "    </tr>\n",
              "    <tr>\n",
              "      <th>C00013971</th>\n",
              "      <td>Female</td>\n",
              "      <td>1982-10-19</td>\n",
              "      <td>19</td>\n",
              "      <td>10</td>\n",
              "      <td>1982</td>\n",
              "      <td>37</td>\n",
              "      <td>278-77-3298</td>\n",
              "      <td>Ruth</td>\n",
              "      <td>Joy</td>\n",
              "      <td>Martin</td>\n",
              "      <td>856-636-3840</td>\n",
              "      <td>ruth.martin@gmail.com</td>\n",
              "      <td>7087 E. Pennsylvania Street</td>\n",
              "      <td>Unit 8</td>\n",
              "      <td>Danbury</td>\n",
              "      <td>CT</td>\n",
              "      <td>48475</td>\n",
              "      <td>67</td>\n",
              "      <td>A00011362</td>\n",
              "      <td>Owner</td>\n",
              "    </tr>\n",
              "    <tr>\n",
              "      <th>C00013998</th>\n",
              "      <td>Female</td>\n",
              "      <td>1973-08-12</td>\n",
              "      <td>12</td>\n",
              "      <td>8</td>\n",
              "      <td>1973</td>\n",
              "      <td>46</td>\n",
              "      <td>266-21-2541</td>\n",
              "      <td>Miriam</td>\n",
              "      <td>Abby</td>\n",
              "      <td>Jackson</td>\n",
              "      <td>431-633-5403</td>\n",
              "      <td>miriam.jackson@gmail.com</td>\n",
              "      <td>29 Buckingham Rd.</td>\n",
              "      <td>NaN</td>\n",
              "      <td>Chicago</td>\n",
              "      <td>IL</td>\n",
              "      <td>44244</td>\n",
              "      <td>74</td>\n",
              "      <td>A00011382</td>\n",
              "      <td>Owner</td>\n",
              "    </tr>\n",
              "  </tbody>\n",
              "</table>\n",
              "<p>5369 rows × 20 columns</p>\n",
              "</div>"
            ],
            "text/plain": [
              "              sex    fulldate  day  ...  district_id  account_id   type\n",
              "client_id                           ...                                \n",
              "C00000001  Female  1990-12-13   13  ...           18   A00000001  Owner\n",
              "C00000002    Male  1965-02-04    4  ...            1   A00000002  Owner\n",
              "C00000003  Female  1960-10-09    9  ...            1   A00000002   User\n",
              "C00000004    Male  1976-12-01    1  ...            5   A00000003  Owner\n",
              "C00000005  Female  1980-07-03    3  ...            5   A00000003   User\n",
              "...           ...         ...  ...  ...          ...         ...    ...\n",
              "C00013955  Female  1965-10-30   30  ...            1   A00011349  Owner\n",
              "C00013956    Male  1963-04-06    6  ...            1   A00011349   User\n",
              "C00013968    Male  1988-04-13   13  ...           61   A00011359  Owner\n",
              "C00013971  Female  1982-10-19   19  ...           67   A00011362  Owner\n",
              "C00013998  Female  1973-08-12   12  ...           74   A00011382  Owner\n",
              "\n",
              "[5369 rows x 20 columns]"
            ]
          },
          "metadata": {
            "tags": []
          },
          "execution_count": 7
        }
      ]
    },
    {
      "cell_type": "code",
      "metadata": {
        "colab": {
          "base_uri": "https://localhost:8080/",
          "height": 455
        },
        "id": "3-8u8oUzP3_c",
        "outputId": "c825dbb9-b426-4236-cd70-a9419bdf27dd"
      },
      "source": [
        "df_clients[['account_id','sex','age','zipcode']]"
      ],
      "execution_count": 8,
      "outputs": [
        {
          "output_type": "execute_result",
          "data": {
            "text/html": [
              "<div>\n",
              "<style scoped>\n",
              "    .dataframe tbody tr th:only-of-type {\n",
              "        vertical-align: middle;\n",
              "    }\n",
              "\n",
              "    .dataframe tbody tr th {\n",
              "        vertical-align: top;\n",
              "    }\n",
              "\n",
              "    .dataframe thead th {\n",
              "        text-align: right;\n",
              "    }\n",
              "</style>\n",
              "<table border=\"1\" class=\"dataframe\">\n",
              "  <thead>\n",
              "    <tr style=\"text-align: right;\">\n",
              "      <th></th>\n",
              "      <th>account_id</th>\n",
              "      <th>sex</th>\n",
              "      <th>age</th>\n",
              "      <th>zipcode</th>\n",
              "    </tr>\n",
              "    <tr>\n",
              "      <th>client_id</th>\n",
              "      <th></th>\n",
              "      <th></th>\n",
              "      <th></th>\n",
              "      <th></th>\n",
              "    </tr>\n",
              "  </thead>\n",
              "  <tbody>\n",
              "    <tr>\n",
              "      <th>C00000001</th>\n",
              "      <td>A00000001</td>\n",
              "      <td>Female</td>\n",
              "      <td>29</td>\n",
              "      <td>47246</td>\n",
              "    </tr>\n",
              "    <tr>\n",
              "      <th>C00000002</th>\n",
              "      <td>A00000002</td>\n",
              "      <td>Male</td>\n",
              "      <td>54</td>\n",
              "      <td>10040</td>\n",
              "    </tr>\n",
              "    <tr>\n",
              "      <th>C00000003</th>\n",
              "      <td>A00000002</td>\n",
              "      <td>Female</td>\n",
              "      <td>59</td>\n",
              "      <td>10162</td>\n",
              "    </tr>\n",
              "    <tr>\n",
              "      <th>C00000004</th>\n",
              "      <td>A00000003</td>\n",
              "      <td>Male</td>\n",
              "      <td>43</td>\n",
              "      <td>49047</td>\n",
              "    </tr>\n",
              "    <tr>\n",
              "      <th>C00000005</th>\n",
              "      <td>A00000003</td>\n",
              "      <td>Female</td>\n",
              "      <td>39</td>\n",
              "      <td>40852</td>\n",
              "    </tr>\n",
              "    <tr>\n",
              "      <th>...</th>\n",
              "      <td>...</td>\n",
              "      <td>...</td>\n",
              "      <td>...</td>\n",
              "      <td>...</td>\n",
              "    </tr>\n",
              "    <tr>\n",
              "      <th>C00013955</th>\n",
              "      <td>A00011349</td>\n",
              "      <td>Female</td>\n",
              "      <td>54</td>\n",
              "      <td>10121</td>\n",
              "    </tr>\n",
              "    <tr>\n",
              "      <th>C00013956</th>\n",
              "      <td>A00011349</td>\n",
              "      <td>Male</td>\n",
              "      <td>56</td>\n",
              "      <td>10118</td>\n",
              "    </tr>\n",
              "    <tr>\n",
              "      <th>C00013968</th>\n",
              "      <td>A00011359</td>\n",
              "      <td>Male</td>\n",
              "      <td>31</td>\n",
              "      <td>2721</td>\n",
              "    </tr>\n",
              "    <tr>\n",
              "      <th>C00013971</th>\n",
              "      <td>A00011362</td>\n",
              "      <td>Female</td>\n",
              "      <td>37</td>\n",
              "      <td>48475</td>\n",
              "    </tr>\n",
              "    <tr>\n",
              "      <th>C00013998</th>\n",
              "      <td>A00011382</td>\n",
              "      <td>Female</td>\n",
              "      <td>46</td>\n",
              "      <td>44244</td>\n",
              "    </tr>\n",
              "  </tbody>\n",
              "</table>\n",
              "<p>5369 rows × 4 columns</p>\n",
              "</div>"
            ],
            "text/plain": [
              "          account_id     sex  age  zipcode\n",
              "client_id                                 \n",
              "C00000001  A00000001  Female   29    47246\n",
              "C00000002  A00000002    Male   54    10040\n",
              "C00000003  A00000002  Female   59    10162\n",
              "C00000004  A00000003    Male   43    49047\n",
              "C00000005  A00000003  Female   39    40852\n",
              "...              ...     ...  ...      ...\n",
              "C00013955  A00011349  Female   54    10121\n",
              "C00013956  A00011349    Male   56    10118\n",
              "C00013968  A00011359    Male   31     2721\n",
              "C00013971  A00011362  Female   37    48475\n",
              "C00013998  A00011382  Female   46    44244\n",
              "\n",
              "[5369 rows x 4 columns]"
            ]
          },
          "metadata": {
            "tags": []
          },
          "execution_count": 8
        }
      ]
    },
    {
      "cell_type": "code",
      "metadata": {
        "colab": {
          "base_uri": "https://localhost:8080/"
        },
        "id": "B8OICLIhSkXh",
        "outputId": "ea0177e9-7c32-4ec2-83de-ae0e6239e59f"
      },
      "source": [
        "zip_set=set(df_clients['zipcode'])\n",
        "zip_list=list(df_clients['zipcode'])\n",
        "print(\"all zip codes in dataset: \",len(zip_list))\n",
        "print(\"unique zip codes in dataset: \",len(zip_set))"
      ],
      "execution_count": 9,
      "outputs": [
        {
          "output_type": "stream",
          "text": [
            "all zip codes in dataset:  5369\n",
            "unique zip codes in dataset:  3512\n"
          ],
          "name": "stdout"
        }
      ]
    },
    {
      "cell_type": "code",
      "metadata": {
        "id": "6HnrmkE5KmJj"
      },
      "source": [
        "df_clients_onehot = pd.DataFrame()"
      ],
      "execution_count": 10,
      "outputs": []
    },
    {
      "cell_type": "code",
      "metadata": {
        "id": "EZt602FzLXqh"
      },
      "source": [
        "df_clients_onehot['account_id']=df_clients['account_id']"
      ],
      "execution_count": 11,
      "outputs": []
    },
    {
      "cell_type": "code",
      "metadata": {
        "colab": {
          "base_uri": "https://localhost:8080/"
        },
        "id": "5VeevkB0Kubm",
        "outputId": "542f220d-8b57-415a-8b1b-79898679a22d"
      },
      "source": [
        "data=list(df_clients['sex'])\n",
        "values = np.array(data)\n",
        "print(values)\n",
        "# integer encode\n",
        "label_encoder = LabelEncoder()\n",
        "integer_encoded = label_encoder.fit_transform(values)\n",
        "print(integer_encoded)\n",
        "# binary encode\n",
        "onehot_encoder = OneHotEncoder(sparse=False)\n",
        "integer_encoded = integer_encoded.reshape(len(integer_encoded), 1)\n",
        "onehot_encoded = onehot_encoder.fit_transform(integer_encoded)\n",
        "print(\"shape of sex onehot_encoded: \",onehot_encoded.shape)\n",
        "df_clients_onehot['sex'] = onehot_encoded.tolist()"
      ],
      "execution_count": 12,
      "outputs": [
        {
          "output_type": "stream",
          "text": [
            "['Female' 'Male' 'Female' ... 'Male' 'Female' 'Female']\n",
            "[0 1 0 ... 1 0 0]\n",
            "shape of sex onehot_encoded:  (5369, 2)\n"
          ],
          "name": "stdout"
        }
      ]
    },
    {
      "cell_type": "code",
      "metadata": {
        "colab": {
          "base_uri": "https://localhost:8080/"
        },
        "id": "5xEpJSldE9S6",
        "outputId": "f354ebea-9a9d-496f-ec81-fed6323b0732"
      },
      "source": [
        "data=list(df_clients['age'])\n",
        "values = np.array(data)\n",
        "print(values)\n",
        "# integer encode\n",
        "label_encoder = LabelEncoder()\n",
        "integer_encoded = label_encoder.fit_transform(values)\n",
        "print(integer_encoded)\n",
        "# binary encode\n",
        "onehot_encoder = OneHotEncoder(sparse=False)\n",
        "integer_encoded = integer_encoded.reshape(len(integer_encoded), 1)\n",
        "onehot_encoded = onehot_encoder.fit_transform(integer_encoded)\n",
        "print(\"shape of age onehot_encoded: \",onehot_encoded.shape)\n",
        "df_clients_onehot['age'] = onehot_encoded.tolist()"
      ],
      "execution_count": 13,
      "outputs": [
        {
          "output_type": "stream",
          "text": [
            "[29 54 59 ... 31 37 46]\n",
            "[17 42 47 ... 19 25 34]\n",
            "shape of age onehot_encoded:  (5369, 77)\n"
          ],
          "name": "stdout"
        }
      ]
    },
    {
      "cell_type": "code",
      "metadata": {
        "colab": {
          "base_uri": "https://localhost:8080/"
        },
        "id": "C4qe3rZSKGbd",
        "outputId": "958a5a02-5cef-4e19-ff64-536cfa642572"
      },
      "source": [
        "data=list(df_clients['zipcode'])\n",
        "values = np.array(data)\n",
        "print(values)\n",
        "# integer encode\n",
        "label_encoder = LabelEncoder()\n",
        "integer_encoded = label_encoder.fit_transform(values)\n",
        "print(integer_encoded)\n",
        "# binary encode\n",
        "onehot_encoder = OneHotEncoder(sparse=False)\n",
        "integer_encoded = integer_encoded.reshape(len(integer_encoded), 1)\n",
        "onehot_encoded = onehot_encoder.fit_transform(integer_encoded)\n",
        "print(\"shape of zipcode onehot_encoded: \",onehot_encoded.shape)\n",
        "df_clients_onehot['zipcode'] = onehot_encoded.tolist()"
      ],
      "execution_count": 14,
      "outputs": [
        {
          "output_type": "stream",
          "text": [
            "[47246 10040 10162 ...  2721 48475 44244]\n",
            "[2625  167  211 ...  118 3049 1677]\n",
            "shape of zipcode onehot_encoded:  (5369, 3512)\n"
          ],
          "name": "stdout"
        }
      ]
    },
    {
      "cell_type": "code",
      "metadata": {
        "id": "ncu4o5yZGCar"
      },
      "source": [
        "df_clients_onehot['static_vector'] = df_clients_onehot.apply (lambda row: np.concatenate([row.sex, row.age, row.zipcode]), axis=1)"
      ],
      "execution_count": 15,
      "outputs": []
    },
    {
      "cell_type": "code",
      "metadata": {
        "colab": {
          "base_uri": "https://localhost:8080/",
          "height": 455
        },
        "id": "PLihpLQkcrfr",
        "outputId": "e6b17b64-f384-4840-e86d-25813d43026c"
      },
      "source": [
        "df_clients_onehot"
      ],
      "execution_count": 16,
      "outputs": [
        {
          "output_type": "execute_result",
          "data": {
            "text/html": [
              "<div>\n",
              "<style scoped>\n",
              "    .dataframe tbody tr th:only-of-type {\n",
              "        vertical-align: middle;\n",
              "    }\n",
              "\n",
              "    .dataframe tbody tr th {\n",
              "        vertical-align: top;\n",
              "    }\n",
              "\n",
              "    .dataframe thead th {\n",
              "        text-align: right;\n",
              "    }\n",
              "</style>\n",
              "<table border=\"1\" class=\"dataframe\">\n",
              "  <thead>\n",
              "    <tr style=\"text-align: right;\">\n",
              "      <th></th>\n",
              "      <th>account_id</th>\n",
              "      <th>sex</th>\n",
              "      <th>age</th>\n",
              "      <th>zipcode</th>\n",
              "      <th>static_vector</th>\n",
              "    </tr>\n",
              "    <tr>\n",
              "      <th>client_id</th>\n",
              "      <th></th>\n",
              "      <th></th>\n",
              "      <th></th>\n",
              "      <th></th>\n",
              "      <th></th>\n",
              "    </tr>\n",
              "  </thead>\n",
              "  <tbody>\n",
              "    <tr>\n",
              "      <th>C00000001</th>\n",
              "      <td>A00000001</td>\n",
              "      <td>[1.0, 0.0]</td>\n",
              "      <td>[0.0, 0.0, 0.0, 0.0, 0.0, 0.0, 0.0, 0.0, 0.0, ...</td>\n",
              "      <td>[0.0, 0.0, 0.0, 0.0, 0.0, 0.0, 0.0, 0.0, 0.0, ...</td>\n",
              "      <td>[1.0, 0.0, 0.0, 0.0, 0.0, 0.0, 0.0, 0.0, 0.0, ...</td>\n",
              "    </tr>\n",
              "    <tr>\n",
              "      <th>C00000002</th>\n",
              "      <td>A00000002</td>\n",
              "      <td>[0.0, 1.0]</td>\n",
              "      <td>[0.0, 0.0, 0.0, 0.0, 0.0, 0.0, 0.0, 0.0, 0.0, ...</td>\n",
              "      <td>[0.0, 0.0, 0.0, 0.0, 0.0, 0.0, 0.0, 0.0, 0.0, ...</td>\n",
              "      <td>[0.0, 1.0, 0.0, 0.0, 0.0, 0.0, 0.0, 0.0, 0.0, ...</td>\n",
              "    </tr>\n",
              "    <tr>\n",
              "      <th>C00000003</th>\n",
              "      <td>A00000002</td>\n",
              "      <td>[1.0, 0.0]</td>\n",
              "      <td>[0.0, 0.0, 0.0, 0.0, 0.0, 0.0, 0.0, 0.0, 0.0, ...</td>\n",
              "      <td>[0.0, 0.0, 0.0, 0.0, 0.0, 0.0, 0.0, 0.0, 0.0, ...</td>\n",
              "      <td>[1.0, 0.0, 0.0, 0.0, 0.0, 0.0, 0.0, 0.0, 0.0, ...</td>\n",
              "    </tr>\n",
              "    <tr>\n",
              "      <th>C00000004</th>\n",
              "      <td>A00000003</td>\n",
              "      <td>[0.0, 1.0]</td>\n",
              "      <td>[0.0, 0.0, 0.0, 0.0, 0.0, 0.0, 0.0, 0.0, 0.0, ...</td>\n",
              "      <td>[0.0, 0.0, 0.0, 0.0, 0.0, 0.0, 0.0, 0.0, 0.0, ...</td>\n",
              "      <td>[0.0, 1.0, 0.0, 0.0, 0.0, 0.0, 0.0, 0.0, 0.0, ...</td>\n",
              "    </tr>\n",
              "    <tr>\n",
              "      <th>C00000005</th>\n",
              "      <td>A00000003</td>\n",
              "      <td>[1.0, 0.0]</td>\n",
              "      <td>[0.0, 0.0, 0.0, 0.0, 0.0, 0.0, 0.0, 0.0, 0.0, ...</td>\n",
              "      <td>[0.0, 0.0, 0.0, 0.0, 0.0, 0.0, 0.0, 0.0, 0.0, ...</td>\n",
              "      <td>[1.0, 0.0, 0.0, 0.0, 0.0, 0.0, 0.0, 0.0, 0.0, ...</td>\n",
              "    </tr>\n",
              "    <tr>\n",
              "      <th>...</th>\n",
              "      <td>...</td>\n",
              "      <td>...</td>\n",
              "      <td>...</td>\n",
              "      <td>...</td>\n",
              "      <td>...</td>\n",
              "    </tr>\n",
              "    <tr>\n",
              "      <th>C00013955</th>\n",
              "      <td>A00011349</td>\n",
              "      <td>[1.0, 0.0]</td>\n",
              "      <td>[0.0, 0.0, 0.0, 0.0, 0.0, 0.0, 0.0, 0.0, 0.0, ...</td>\n",
              "      <td>[0.0, 0.0, 0.0, 0.0, 0.0, 0.0, 0.0, 0.0, 0.0, ...</td>\n",
              "      <td>[1.0, 0.0, 0.0, 0.0, 0.0, 0.0, 0.0, 0.0, 0.0, ...</td>\n",
              "    </tr>\n",
              "    <tr>\n",
              "      <th>C00013956</th>\n",
              "      <td>A00011349</td>\n",
              "      <td>[0.0, 1.0]</td>\n",
              "      <td>[0.0, 0.0, 0.0, 0.0, 0.0, 0.0, 0.0, 0.0, 0.0, ...</td>\n",
              "      <td>[0.0, 0.0, 0.0, 0.0, 0.0, 0.0, 0.0, 0.0, 0.0, ...</td>\n",
              "      <td>[0.0, 1.0, 0.0, 0.0, 0.0, 0.0, 0.0, 0.0, 0.0, ...</td>\n",
              "    </tr>\n",
              "    <tr>\n",
              "      <th>C00013968</th>\n",
              "      <td>A00011359</td>\n",
              "      <td>[0.0, 1.0]</td>\n",
              "      <td>[0.0, 0.0, 0.0, 0.0, 0.0, 0.0, 0.0, 0.0, 0.0, ...</td>\n",
              "      <td>[0.0, 0.0, 0.0, 0.0, 0.0, 0.0, 0.0, 0.0, 0.0, ...</td>\n",
              "      <td>[0.0, 1.0, 0.0, 0.0, 0.0, 0.0, 0.0, 0.0, 0.0, ...</td>\n",
              "    </tr>\n",
              "    <tr>\n",
              "      <th>C00013971</th>\n",
              "      <td>A00011362</td>\n",
              "      <td>[1.0, 0.0]</td>\n",
              "      <td>[0.0, 0.0, 0.0, 0.0, 0.0, 0.0, 0.0, 0.0, 0.0, ...</td>\n",
              "      <td>[0.0, 0.0, 0.0, 0.0, 0.0, 0.0, 0.0, 0.0, 0.0, ...</td>\n",
              "      <td>[1.0, 0.0, 0.0, 0.0, 0.0, 0.0, 0.0, 0.0, 0.0, ...</td>\n",
              "    </tr>\n",
              "    <tr>\n",
              "      <th>C00013998</th>\n",
              "      <td>A00011382</td>\n",
              "      <td>[1.0, 0.0]</td>\n",
              "      <td>[0.0, 0.0, 0.0, 0.0, 0.0, 0.0, 0.0, 0.0, 0.0, ...</td>\n",
              "      <td>[0.0, 0.0, 0.0, 0.0, 0.0, 0.0, 0.0, 0.0, 0.0, ...</td>\n",
              "      <td>[1.0, 0.0, 0.0, 0.0, 0.0, 0.0, 0.0, 0.0, 0.0, ...</td>\n",
              "    </tr>\n",
              "  </tbody>\n",
              "</table>\n",
              "<p>5369 rows × 5 columns</p>\n",
              "</div>"
            ],
            "text/plain": [
              "          account_id  ...                                      static_vector\n",
              "client_id             ...                                                   \n",
              "C00000001  A00000001  ...  [1.0, 0.0, 0.0, 0.0, 0.0, 0.0, 0.0, 0.0, 0.0, ...\n",
              "C00000002  A00000002  ...  [0.0, 1.0, 0.0, 0.0, 0.0, 0.0, 0.0, 0.0, 0.0, ...\n",
              "C00000003  A00000002  ...  [1.0, 0.0, 0.0, 0.0, 0.0, 0.0, 0.0, 0.0, 0.0, ...\n",
              "C00000004  A00000003  ...  [0.0, 1.0, 0.0, 0.0, 0.0, 0.0, 0.0, 0.0, 0.0, ...\n",
              "C00000005  A00000003  ...  [1.0, 0.0, 0.0, 0.0, 0.0, 0.0, 0.0, 0.0, 0.0, ...\n",
              "...              ...  ...                                                ...\n",
              "C00013955  A00011349  ...  [1.0, 0.0, 0.0, 0.0, 0.0, 0.0, 0.0, 0.0, 0.0, ...\n",
              "C00013956  A00011349  ...  [0.0, 1.0, 0.0, 0.0, 0.0, 0.0, 0.0, 0.0, 0.0, ...\n",
              "C00013968  A00011359  ...  [0.0, 1.0, 0.0, 0.0, 0.0, 0.0, 0.0, 0.0, 0.0, ...\n",
              "C00013971  A00011362  ...  [1.0, 0.0, 0.0, 0.0, 0.0, 0.0, 0.0, 0.0, 0.0, ...\n",
              "C00013998  A00011382  ...  [1.0, 0.0, 0.0, 0.0, 0.0, 0.0, 0.0, 0.0, 0.0, ...\n",
              "\n",
              "[5369 rows x 5 columns]"
            ]
          },
          "metadata": {
            "tags": []
          },
          "execution_count": 16
        }
      ]
    },
    {
      "cell_type": "code",
      "metadata": {
        "colab": {
          "base_uri": "https://localhost:8080/"
        },
        "id": "pPbwlmN9NxMd",
        "outputId": "8df3a9db-74c6-495a-9ded-b6e0847fc160"
      },
      "source": [
        "print(\"static vector dimention: \",df_clients_onehot.iloc[0]['static_vector'].shape)"
      ],
      "execution_count": 17,
      "outputs": [
        {
          "output_type": "stream",
          "text": [
            "static vector dimention:  (3591,)\n"
          ],
          "name": "stdout"
        }
      ]
    },
    {
      "cell_type": "code",
      "metadata": {
        "id": "b8-Ka2QtqI7c"
      },
      "source": [
        "# Convert date to python datetime\n",
        "df_trans['fulldate'] = pd.to_datetime(df_trans['fulldate'],format=\"%Y-%m-%d\")\n",
        "df_trans['timestamp'] = df_trans.fulldate.values.astype(np.int64) // 10 ** 9"
      ],
      "execution_count": 18,
      "outputs": []
    },
    {
      "cell_type": "code",
      "metadata": {
        "colab": {
          "base_uri": "https://localhost:8080/",
          "height": 617
        },
        "id": "zyhgD9xYUeGs",
        "outputId": "a0c9ca00-036e-4f62-adc7-12ab34649e7e"
      },
      "source": [
        "df_trans"
      ],
      "execution_count": 19,
      "outputs": [
        {
          "output_type": "execute_result",
          "data": {
            "text/html": [
              "<div>\n",
              "<style scoped>\n",
              "    .dataframe tbody tr th:only-of-type {\n",
              "        vertical-align: middle;\n",
              "    }\n",
              "\n",
              "    .dataframe tbody tr th {\n",
              "        vertical-align: top;\n",
              "    }\n",
              "\n",
              "    .dataframe thead th {\n",
              "        text-align: right;\n",
              "    }\n",
              "</style>\n",
              "<table border=\"1\" class=\"dataframe\">\n",
              "  <thead>\n",
              "    <tr style=\"text-align: right;\">\n",
              "      <th></th>\n",
              "      <th>trans_id</th>\n",
              "      <th>account_id</th>\n",
              "      <th>type</th>\n",
              "      <th>operation</th>\n",
              "      <th>amount</th>\n",
              "      <th>balance</th>\n",
              "      <th>k_symbol</th>\n",
              "      <th>bank</th>\n",
              "      <th>account</th>\n",
              "      <th>year</th>\n",
              "      <th>month</th>\n",
              "      <th>day</th>\n",
              "      <th>fulldate</th>\n",
              "      <th>fulltime</th>\n",
              "      <th>fulldatewithtime</th>\n",
              "      <th>timestamp</th>\n",
              "    </tr>\n",
              "  </thead>\n",
              "  <tbody>\n",
              "    <tr>\n",
              "      <th>1</th>\n",
              "      <td>T00695247</td>\n",
              "      <td>A00002378</td>\n",
              "      <td>Credit</td>\n",
              "      <td>Credit in Cash</td>\n",
              "      <td>700.0</td>\n",
              "      <td>700.0</td>\n",
              "      <td>NaN</td>\n",
              "      <td>NaN</td>\n",
              "      <td>NaN</td>\n",
              "      <td>2013</td>\n",
              "      <td>1</td>\n",
              "      <td>1</td>\n",
              "      <td>2013-01-01</td>\n",
              "      <td>11:02:40</td>\n",
              "      <td>2013-01-01T11:02:40</td>\n",
              "      <td>1356998400</td>\n",
              "    </tr>\n",
              "    <tr>\n",
              "      <th>2</th>\n",
              "      <td>T00171812</td>\n",
              "      <td>A00000576</td>\n",
              "      <td>Credit</td>\n",
              "      <td>Credit in Cash</td>\n",
              "      <td>900.0</td>\n",
              "      <td>900.0</td>\n",
              "      <td>NaN</td>\n",
              "      <td>NaN</td>\n",
              "      <td>NaN</td>\n",
              "      <td>2013</td>\n",
              "      <td>1</td>\n",
              "      <td>1</td>\n",
              "      <td>2013-01-01</td>\n",
              "      <td>08:23:33</td>\n",
              "      <td>2013-01-01T08:23:33</td>\n",
              "      <td>1356998400</td>\n",
              "    </tr>\n",
              "    <tr>\n",
              "      <th>3</th>\n",
              "      <td>T00207264</td>\n",
              "      <td>A00000704</td>\n",
              "      <td>Credit</td>\n",
              "      <td>Credit in Cash</td>\n",
              "      <td>1000.0</td>\n",
              "      <td>1000.0</td>\n",
              "      <td>NaN</td>\n",
              "      <td>NaN</td>\n",
              "      <td>NaN</td>\n",
              "      <td>2013</td>\n",
              "      <td>1</td>\n",
              "      <td>1</td>\n",
              "      <td>2013-01-01</td>\n",
              "      <td>15:19:21</td>\n",
              "      <td>2013-01-01T15:19:21</td>\n",
              "      <td>1356998400</td>\n",
              "    </tr>\n",
              "    <tr>\n",
              "      <th>4</th>\n",
              "      <td>T01117247</td>\n",
              "      <td>A00003818</td>\n",
              "      <td>Credit</td>\n",
              "      <td>Credit in Cash</td>\n",
              "      <td>600.0</td>\n",
              "      <td>600.0</td>\n",
              "      <td>NaN</td>\n",
              "      <td>NaN</td>\n",
              "      <td>NaN</td>\n",
              "      <td>2013</td>\n",
              "      <td>1</td>\n",
              "      <td>1</td>\n",
              "      <td>2013-01-01</td>\n",
              "      <td>10:42:35</td>\n",
              "      <td>2013-01-01T10:42:35</td>\n",
              "      <td>1356998400</td>\n",
              "    </tr>\n",
              "    <tr>\n",
              "      <th>5</th>\n",
              "      <td>T00579373</td>\n",
              "      <td>A00001972</td>\n",
              "      <td>Credit</td>\n",
              "      <td>Credit in Cash</td>\n",
              "      <td>400.0</td>\n",
              "      <td>400.0</td>\n",
              "      <td>NaN</td>\n",
              "      <td>NaN</td>\n",
              "      <td>NaN</td>\n",
              "      <td>2013</td>\n",
              "      <td>1</td>\n",
              "      <td>2</td>\n",
              "      <td>2013-01-02</td>\n",
              "      <td>11:39:25</td>\n",
              "      <td>2013-01-02T11:39:25</td>\n",
              "      <td>1357084800</td>\n",
              "    </tr>\n",
              "    <tr>\n",
              "      <th>...</th>\n",
              "      <td>...</td>\n",
              "      <td>...</td>\n",
              "      <td>...</td>\n",
              "      <td>...</td>\n",
              "      <td>...</td>\n",
              "      <td>...</td>\n",
              "      <td>...</td>\n",
              "      <td>...</td>\n",
              "      <td>...</td>\n",
              "      <td>...</td>\n",
              "      <td>...</td>\n",
              "      <td>...</td>\n",
              "      <td>...</td>\n",
              "      <td>...</td>\n",
              "      <td>...</td>\n",
              "      <td>...</td>\n",
              "    </tr>\n",
              "    <tr>\n",
              "      <th>1056316</th>\n",
              "      <td>T03626622</td>\n",
              "      <td>A00002906</td>\n",
              "      <td>Credit</td>\n",
              "      <td>NaN</td>\n",
              "      <td>62.3</td>\n",
              "      <td>13729.4</td>\n",
              "      <td>Interest Credited</td>\n",
              "      <td>NaN</td>\n",
              "      <td>NaN</td>\n",
              "      <td>2018</td>\n",
              "      <td>12</td>\n",
              "      <td>31</td>\n",
              "      <td>2018-12-31</td>\n",
              "      <td>15:18:14</td>\n",
              "      <td>2018-12-31T15:18:14</td>\n",
              "      <td>1546214400</td>\n",
              "    </tr>\n",
              "    <tr>\n",
              "      <th>1056317</th>\n",
              "      <td>T03627616</td>\n",
              "      <td>A00002935</td>\n",
              "      <td>Credit</td>\n",
              "      <td>NaN</td>\n",
              "      <td>81.3</td>\n",
              "      <td>19544.9</td>\n",
              "      <td>Interest Credited</td>\n",
              "      <td>NaN</td>\n",
              "      <td>NaN</td>\n",
              "      <td>2018</td>\n",
              "      <td>12</td>\n",
              "      <td>31</td>\n",
              "      <td>2018-12-31</td>\n",
              "      <td>13:04:60</td>\n",
              "      <td>2018-12-31T13:04:60</td>\n",
              "      <td>1546214400</td>\n",
              "    </tr>\n",
              "    <tr>\n",
              "      <th>1056318</th>\n",
              "      <td>T03625403</td>\n",
              "      <td>A00002869</td>\n",
              "      <td>Credit</td>\n",
              "      <td>NaN</td>\n",
              "      <td>60.2</td>\n",
              "      <td>14638.2</td>\n",
              "      <td>Interest Credited</td>\n",
              "      <td>NaN</td>\n",
              "      <td>NaN</td>\n",
              "      <td>2018</td>\n",
              "      <td>12</td>\n",
              "      <td>31</td>\n",
              "      <td>2018-12-31</td>\n",
              "      <td>08:30:13</td>\n",
              "      <td>2018-12-31T08:30:13</td>\n",
              "      <td>1546214400</td>\n",
              "    </tr>\n",
              "    <tr>\n",
              "      <th>1056319</th>\n",
              "      <td>T03626683</td>\n",
              "      <td>A00002907</td>\n",
              "      <td>Credit</td>\n",
              "      <td>NaN</td>\n",
              "      <td>107.5</td>\n",
              "      <td>23453.0</td>\n",
              "      <td>Interest Credited</td>\n",
              "      <td>NaN</td>\n",
              "      <td>NaN</td>\n",
              "      <td>2018</td>\n",
              "      <td>12</td>\n",
              "      <td>31</td>\n",
              "      <td>2018-12-31</td>\n",
              "      <td>14:45:19</td>\n",
              "      <td>2018-12-31T14:45:19</td>\n",
              "      <td>1546214400</td>\n",
              "    </tr>\n",
              "    <tr>\n",
              "      <th>1056320</th>\n",
              "      <td>T03626540</td>\n",
              "      <td>A00002902</td>\n",
              "      <td>Credit</td>\n",
              "      <td>NaN</td>\n",
              "      <td>164.1</td>\n",
              "      <td>41642.9</td>\n",
              "      <td>Interest Credited</td>\n",
              "      <td>NaN</td>\n",
              "      <td>NaN</td>\n",
              "      <td>2018</td>\n",
              "      <td>12</td>\n",
              "      <td>31</td>\n",
              "      <td>2018-12-31</td>\n",
              "      <td>10:44:40</td>\n",
              "      <td>2018-12-31T10:44:40</td>\n",
              "      <td>1546214400</td>\n",
              "    </tr>\n",
              "  </tbody>\n",
              "</table>\n",
              "<p>1056320 rows × 16 columns</p>\n",
              "</div>"
            ],
            "text/plain": [
              "          trans_id account_id  ...     fulldatewithtime   timestamp\n",
              "1        T00695247  A00002378  ...  2013-01-01T11:02:40  1356998400\n",
              "2        T00171812  A00000576  ...  2013-01-01T08:23:33  1356998400\n",
              "3        T00207264  A00000704  ...  2013-01-01T15:19:21  1356998400\n",
              "4        T01117247  A00003818  ...  2013-01-01T10:42:35  1356998400\n",
              "5        T00579373  A00001972  ...  2013-01-02T11:39:25  1357084800\n",
              "...            ...        ...  ...                  ...         ...\n",
              "1056316  T03626622  A00002906  ...  2018-12-31T15:18:14  1546214400\n",
              "1056317  T03627616  A00002935  ...  2018-12-31T13:04:60  1546214400\n",
              "1056318  T03625403  A00002869  ...  2018-12-31T08:30:13  1546214400\n",
              "1056319  T03626683  A00002907  ...  2018-12-31T14:45:19  1546214400\n",
              "1056320  T03626540  A00002902  ...  2018-12-31T10:44:40  1546214400\n",
              "\n",
              "[1056320 rows x 16 columns]"
            ]
          },
          "metadata": {
            "tags": []
          },
          "execution_count": 19
        }
      ]
    },
    {
      "cell_type": "code",
      "metadata": {
        "id": "EOvptEUTqKVU"
      },
      "source": [
        "df_trans = df_trans.sort_values('fulldate')\n",
        "\n",
        "df_z_scaled = df_trans\n",
        "df_z_scaled['amount'] = (df_z_scaled['amount'] - df_z_scaled['amount'].mean()) / df_z_scaled['amount'].std()\n",
        "df_z_scaled['timestamp'] = (df_z_scaled['timestamp'] - df_z_scaled['timestamp'].mean()) / df_z_scaled['timestamp'].std()\n",
        "\n",
        "df_trans_groupby_account_id = df_z_scaled.groupby(['account_id'])"
      ],
      "execution_count": 20,
      "outputs": []
    },
    {
      "cell_type": "code",
      "metadata": {
        "colab": {
          "base_uri": "https://localhost:8080/",
          "height": 617
        },
        "id": "kAW0sIW6NR3R",
        "outputId": "ced6e72f-ecec-4f2a-d9e9-3bbe909450c6"
      },
      "source": [
        "df_z_scaled"
      ],
      "execution_count": 21,
      "outputs": [
        {
          "output_type": "execute_result",
          "data": {
            "text/html": [
              "<div>\n",
              "<style scoped>\n",
              "    .dataframe tbody tr th:only-of-type {\n",
              "        vertical-align: middle;\n",
              "    }\n",
              "\n",
              "    .dataframe tbody tr th {\n",
              "        vertical-align: top;\n",
              "    }\n",
              "\n",
              "    .dataframe thead th {\n",
              "        text-align: right;\n",
              "    }\n",
              "</style>\n",
              "<table border=\"1\" class=\"dataframe\">\n",
              "  <thead>\n",
              "    <tr style=\"text-align: right;\">\n",
              "      <th></th>\n",
              "      <th>trans_id</th>\n",
              "      <th>account_id</th>\n",
              "      <th>type</th>\n",
              "      <th>operation</th>\n",
              "      <th>amount</th>\n",
              "      <th>balance</th>\n",
              "      <th>k_symbol</th>\n",
              "      <th>bank</th>\n",
              "      <th>account</th>\n",
              "      <th>year</th>\n",
              "      <th>month</th>\n",
              "      <th>day</th>\n",
              "      <th>fulldate</th>\n",
              "      <th>fulltime</th>\n",
              "      <th>fulldatewithtime</th>\n",
              "      <th>timestamp</th>\n",
              "    </tr>\n",
              "  </thead>\n",
              "  <tbody>\n",
              "    <tr>\n",
              "      <th>1</th>\n",
              "      <td>T00695247</td>\n",
              "      <td>A00002378</td>\n",
              "      <td>Credit</td>\n",
              "      <td>Credit in Cash</td>\n",
              "      <td>-0.548597</td>\n",
              "      <td>700.0</td>\n",
              "      <td>NaN</td>\n",
              "      <td>NaN</td>\n",
              "      <td>NaN</td>\n",
              "      <td>2013</td>\n",
              "      <td>1</td>\n",
              "      <td>1</td>\n",
              "      <td>2013-01-01</td>\n",
              "      <td>11:02:40</td>\n",
              "      <td>2013-01-01T11:02:40</td>\n",
              "      <td>-2.860870</td>\n",
              "    </tr>\n",
              "    <tr>\n",
              "      <th>2</th>\n",
              "      <td>T00171812</td>\n",
              "      <td>A00000576</td>\n",
              "      <td>Credit</td>\n",
              "      <td>Credit in Cash</td>\n",
              "      <td>-0.527595</td>\n",
              "      <td>900.0</td>\n",
              "      <td>NaN</td>\n",
              "      <td>NaN</td>\n",
              "      <td>NaN</td>\n",
              "      <td>2013</td>\n",
              "      <td>1</td>\n",
              "      <td>1</td>\n",
              "      <td>2013-01-01</td>\n",
              "      <td>08:23:33</td>\n",
              "      <td>2013-01-01T08:23:33</td>\n",
              "      <td>-2.860870</td>\n",
              "    </tr>\n",
              "    <tr>\n",
              "      <th>3</th>\n",
              "      <td>T00207264</td>\n",
              "      <td>A00000704</td>\n",
              "      <td>Credit</td>\n",
              "      <td>Credit in Cash</td>\n",
              "      <td>-0.517094</td>\n",
              "      <td>1000.0</td>\n",
              "      <td>NaN</td>\n",
              "      <td>NaN</td>\n",
              "      <td>NaN</td>\n",
              "      <td>2013</td>\n",
              "      <td>1</td>\n",
              "      <td>1</td>\n",
              "      <td>2013-01-01</td>\n",
              "      <td>15:19:21</td>\n",
              "      <td>2013-01-01T15:19:21</td>\n",
              "      <td>-2.860870</td>\n",
              "    </tr>\n",
              "    <tr>\n",
              "      <th>4</th>\n",
              "      <td>T01117247</td>\n",
              "      <td>A00003818</td>\n",
              "      <td>Credit</td>\n",
              "      <td>Credit in Cash</td>\n",
              "      <td>-0.559098</td>\n",
              "      <td>600.0</td>\n",
              "      <td>NaN</td>\n",
              "      <td>NaN</td>\n",
              "      <td>NaN</td>\n",
              "      <td>2013</td>\n",
              "      <td>1</td>\n",
              "      <td>1</td>\n",
              "      <td>2013-01-01</td>\n",
              "      <td>10:42:35</td>\n",
              "      <td>2013-01-01T10:42:35</td>\n",
              "      <td>-2.860870</td>\n",
              "    </tr>\n",
              "    <tr>\n",
              "      <th>5</th>\n",
              "      <td>T00579373</td>\n",
              "      <td>A00001972</td>\n",
              "      <td>Credit</td>\n",
              "      <td>Credit in Cash</td>\n",
              "      <td>-0.580101</td>\n",
              "      <td>400.0</td>\n",
              "      <td>NaN</td>\n",
              "      <td>NaN</td>\n",
              "      <td>NaN</td>\n",
              "      <td>2013</td>\n",
              "      <td>1</td>\n",
              "      <td>2</td>\n",
              "      <td>2013-01-02</td>\n",
              "      <td>11:39:25</td>\n",
              "      <td>2013-01-02T11:39:25</td>\n",
              "      <td>-2.858917</td>\n",
              "    </tr>\n",
              "    <tr>\n",
              "      <th>...</th>\n",
              "      <td>...</td>\n",
              "      <td>...</td>\n",
              "      <td>...</td>\n",
              "      <td>...</td>\n",
              "      <td>...</td>\n",
              "      <td>...</td>\n",
              "      <td>...</td>\n",
              "      <td>...</td>\n",
              "      <td>...</td>\n",
              "      <td>...</td>\n",
              "      <td>...</td>\n",
              "      <td>...</td>\n",
              "      <td>...</td>\n",
              "      <td>...</td>\n",
              "      <td>...</td>\n",
              "      <td>...</td>\n",
              "    </tr>\n",
              "    <tr>\n",
              "      <th>1053317</th>\n",
              "      <td>T03629556</td>\n",
              "      <td>A00002990</td>\n",
              "      <td>Credit</td>\n",
              "      <td>NaN</td>\n",
              "      <td>-0.603728</td>\n",
              "      <td>42712.1</td>\n",
              "      <td>Interest Credited</td>\n",
              "      <td>NaN</td>\n",
              "      <td>NaN</td>\n",
              "      <td>2018</td>\n",
              "      <td>12</td>\n",
              "      <td>31</td>\n",
              "      <td>2018-12-31</td>\n",
              "      <td>13:14:06</td>\n",
              "      <td>2018-12-31T13:14:06</td>\n",
              "      <td>1.417798</td>\n",
              "    </tr>\n",
              "    <tr>\n",
              "      <th>1053316</th>\n",
              "      <td>T03630422</td>\n",
              "      <td>A00003025</td>\n",
              "      <td>Credit</td>\n",
              "      <td>NaN</td>\n",
              "      <td>-0.614345</td>\n",
              "      <td>15933.6</td>\n",
              "      <td>Interest Credited</td>\n",
              "      <td>NaN</td>\n",
              "      <td>NaN</td>\n",
              "      <td>2018</td>\n",
              "      <td>12</td>\n",
              "      <td>31</td>\n",
              "      <td>2018-12-31</td>\n",
              "      <td>13:31:03</td>\n",
              "      <td>2018-12-31T13:31:03</td>\n",
              "      <td>1.417798</td>\n",
              "    </tr>\n",
              "    <tr>\n",
              "      <th>1053315</th>\n",
              "      <td>T03631495</td>\n",
              "      <td>A00003053</td>\n",
              "      <td>Credit</td>\n",
              "      <td>NaN</td>\n",
              "      <td>-0.585372</td>\n",
              "      <td>86982.1</td>\n",
              "      <td>Interest Credited</td>\n",
              "      <td>NaN</td>\n",
              "      <td>NaN</td>\n",
              "      <td>2018</td>\n",
              "      <td>12</td>\n",
              "      <td>31</td>\n",
              "      <td>2018-12-31</td>\n",
              "      <td>16:53:60</td>\n",
              "      <td>2018-12-31T16:53:60</td>\n",
              "      <td>1.417798</td>\n",
              "    </tr>\n",
              "    <tr>\n",
              "      <th>1053321</th>\n",
              "      <td>T03632209</td>\n",
              "      <td>A00003077</td>\n",
              "      <td>Credit</td>\n",
              "      <td>NaN</td>\n",
              "      <td>-0.593973</td>\n",
              "      <td>68530.7</td>\n",
              "      <td>Interest Credited</td>\n",
              "      <td>NaN</td>\n",
              "      <td>NaN</td>\n",
              "      <td>2018</td>\n",
              "      <td>12</td>\n",
              "      <td>31</td>\n",
              "      <td>2018-12-31</td>\n",
              "      <td>14:55:47</td>\n",
              "      <td>2018-12-31T14:55:47</td>\n",
              "      <td>1.417798</td>\n",
              "    </tr>\n",
              "    <tr>\n",
              "      <th>1056320</th>\n",
              "      <td>T03626540</td>\n",
              "      <td>A00002902</td>\n",
              "      <td>Credit</td>\n",
              "      <td>NaN</td>\n",
              "      <td>-0.604873</td>\n",
              "      <td>41642.9</td>\n",
              "      <td>Interest Credited</td>\n",
              "      <td>NaN</td>\n",
              "      <td>NaN</td>\n",
              "      <td>2018</td>\n",
              "      <td>12</td>\n",
              "      <td>31</td>\n",
              "      <td>2018-12-31</td>\n",
              "      <td>10:44:40</td>\n",
              "      <td>2018-12-31T10:44:40</td>\n",
              "      <td>1.417798</td>\n",
              "    </tr>\n",
              "  </tbody>\n",
              "</table>\n",
              "<p>1056320 rows × 16 columns</p>\n",
              "</div>"
            ],
            "text/plain": [
              "          trans_id account_id    type  ...  fulltime     fulldatewithtime  timestamp\n",
              "1        T00695247  A00002378  Credit  ...  11:02:40  2013-01-01T11:02:40  -2.860870\n",
              "2        T00171812  A00000576  Credit  ...  08:23:33  2013-01-01T08:23:33  -2.860870\n",
              "3        T00207264  A00000704  Credit  ...  15:19:21  2013-01-01T15:19:21  -2.860870\n",
              "4        T01117247  A00003818  Credit  ...  10:42:35  2013-01-01T10:42:35  -2.860870\n",
              "5        T00579373  A00001972  Credit  ...  11:39:25  2013-01-02T11:39:25  -2.858917\n",
              "...            ...        ...     ...  ...       ...                  ...        ...\n",
              "1053317  T03629556  A00002990  Credit  ...  13:14:06  2018-12-31T13:14:06   1.417798\n",
              "1053316  T03630422  A00003025  Credit  ...  13:31:03  2018-12-31T13:31:03   1.417798\n",
              "1053315  T03631495  A00003053  Credit  ...  16:53:60  2018-12-31T16:53:60   1.417798\n",
              "1053321  T03632209  A00003077  Credit  ...  14:55:47  2018-12-31T14:55:47   1.417798\n",
              "1056320  T03626540  A00002902  Credit  ...  10:44:40  2018-12-31T10:44:40   1.417798\n",
              "\n",
              "[1056320 rows x 16 columns]"
            ]
          },
          "metadata": {
            "tags": []
          },
          "execution_count": 21
        }
      ]
    },
    {
      "cell_type": "code",
      "metadata": {
        "colab": {
          "base_uri": "https://localhost:8080/"
        },
        "id": "EqnzWoVmVxon",
        "outputId": "02cabc16-c173-443f-a9f5-a1352777cb1f"
      },
      "source": [
        "df = df_trans_groupby_account_id\n",
        "df_trans_groupby_account_id.size()"
      ],
      "execution_count": 22,
      "outputs": [
        {
          "output_type": "execute_result",
          "data": {
            "text/plain": [
              "account_id\n",
              "A00000001    239\n",
              "A00000002    478\n",
              "A00000003    117\n",
              "A00000004    186\n",
              "A00000005     84\n",
              "            ... \n",
              "A00011333    368\n",
              "A00011349    304\n",
              "A00011359    378\n",
              "A00011362    344\n",
              "A00011382    253\n",
              "Length: 4500, dtype: int64"
            ]
          },
          "metadata": {
            "tags": []
          },
          "execution_count": 22
        }
      ]
    },
    {
      "cell_type": "code",
      "metadata": {
        "id": "FlqfDMNDXlh0"
      },
      "source": [
        "# df.groups.keys()"
      ],
      "execution_count": 23,
      "outputs": []
    },
    {
      "cell_type": "code",
      "metadata": {
        "colab": {
          "base_uri": "https://localhost:8080/"
        },
        "id": "vfGhl1DpX-9Y",
        "outputId": "77871bd0-ca9b-4bbb-f1e1-257bac601f41"
      },
      "source": [
        "max_length_of_transaction = df['amount'].count().max()\n",
        "print(\"max trans lenght is: \", max_length_of_transaction)\n",
        "df['amount'].count()"
      ],
      "execution_count": 24,
      "outputs": [
        {
          "output_type": "stream",
          "text": [
            "max trans lenght is:  675\n"
          ],
          "name": "stdout"
        },
        {
          "output_type": "execute_result",
          "data": {
            "text/plain": [
              "account_id\n",
              "A00000001    239\n",
              "A00000002    478\n",
              "A00000003    117\n",
              "A00000004    186\n",
              "A00000005     84\n",
              "            ... \n",
              "A00011333    368\n",
              "A00011349    304\n",
              "A00011359    378\n",
              "A00011362    344\n",
              "A00011382    253\n",
              "Name: amount, Length: 4500, dtype: int64"
            ]
          },
          "metadata": {
            "tags": []
          },
          "execution_count": 24
        }
      ]
    },
    {
      "cell_type": "code",
      "metadata": {
        "colab": {
          "base_uri": "https://localhost:8080/",
          "height": 739
        },
        "id": "LVvZpWlDQ_Au",
        "outputId": "3e8585e1-e1f1-41d2-a60b-32d3118d2a3a"
      },
      "source": [
        "df.get_group('A00000001')"
      ],
      "execution_count": 25,
      "outputs": [
        {
          "output_type": "execute_result",
          "data": {
            "text/html": [
              "<div>\n",
              "<style scoped>\n",
              "    .dataframe tbody tr th:only-of-type {\n",
              "        vertical-align: middle;\n",
              "    }\n",
              "\n",
              "    .dataframe tbody tr th {\n",
              "        vertical-align: top;\n",
              "    }\n",
              "\n",
              "    .dataframe thead th {\n",
              "        text-align: right;\n",
              "    }\n",
              "</style>\n",
              "<table border=\"1\" class=\"dataframe\">\n",
              "  <thead>\n",
              "    <tr style=\"text-align: right;\">\n",
              "      <th></th>\n",
              "      <th>trans_id</th>\n",
              "      <th>account_id</th>\n",
              "      <th>type</th>\n",
              "      <th>operation</th>\n",
              "      <th>amount</th>\n",
              "      <th>balance</th>\n",
              "      <th>k_symbol</th>\n",
              "      <th>bank</th>\n",
              "      <th>account</th>\n",
              "      <th>year</th>\n",
              "      <th>month</th>\n",
              "      <th>day</th>\n",
              "      <th>fulldate</th>\n",
              "      <th>fulltime</th>\n",
              "      <th>fulldatewithtime</th>\n",
              "      <th>timestamp</th>\n",
              "    </tr>\n",
              "  </thead>\n",
              "  <tbody>\n",
              "    <tr>\n",
              "      <th>149432</th>\n",
              "      <td>T00000001</td>\n",
              "      <td>A00000001</td>\n",
              "      <td>Credit</td>\n",
              "      <td>Credit in Cash</td>\n",
              "      <td>-0.517094</td>\n",
              "      <td>1000.0</td>\n",
              "      <td>NaN</td>\n",
              "      <td>NaN</td>\n",
              "      <td>NaN</td>\n",
              "      <td>2015</td>\n",
              "      <td>3</td>\n",
              "      <td>24</td>\n",
              "      <td>2015-03-24</td>\n",
              "      <td>10:21:45</td>\n",
              "      <td>2015-03-24T10:21:45</td>\n",
              "      <td>-1.274442</td>\n",
              "    </tr>\n",
              "    <tr>\n",
              "      <th>157404</th>\n",
              "      <td>T00000005</td>\n",
              "      <td>A00000001</td>\n",
              "      <td>Credit</td>\n",
              "      <td>Collection from Another Bank</td>\n",
              "      <td>-0.235767</td>\n",
              "      <td>4679.0</td>\n",
              "      <td>NaN</td>\n",
              "      <td>JPMorgan Chase</td>\n",
              "      <td>41403269.0</td>\n",
              "      <td>2015</td>\n",
              "      <td>4</td>\n",
              "      <td>13</td>\n",
              "      <td>2015-04-13</td>\n",
              "      <td>08:54:57</td>\n",
              "      <td>2015-04-13T08:54:57</td>\n",
              "      <td>-1.235367</td>\n",
              "    </tr>\n",
              "    <tr>\n",
              "      <th>158832</th>\n",
              "      <td>T00000199</td>\n",
              "      <td>A00000001</td>\n",
              "      <td>Credit</td>\n",
              "      <td>Credit in Cash</td>\n",
              "      <td>0.701044</td>\n",
              "      <td>17279.0</td>\n",
              "      <td>NaN</td>\n",
              "      <td>NaN</td>\n",
              "      <td>NaN</td>\n",
              "      <td>2015</td>\n",
              "      <td>4</td>\n",
              "      <td>23</td>\n",
              "      <td>2015-04-23</td>\n",
              "      <td>10:54:46</td>\n",
              "      <td>2015-04-23T10:54:46</td>\n",
              "      <td>-1.215830</td>\n",
              "    </tr>\n",
              "    <tr>\n",
              "      <th>162681</th>\n",
              "      <td>T03530438</td>\n",
              "      <td>A00000001</td>\n",
              "      <td>Credit</td>\n",
              "      <td>NaN</td>\n",
              "      <td>-0.620089</td>\n",
              "      <td>17298.2</td>\n",
              "      <td>Interest Credited</td>\n",
              "      <td>NaN</td>\n",
              "      <td>NaN</td>\n",
              "      <td>2015</td>\n",
              "      <td>4</td>\n",
              "      <td>30</td>\n",
              "      <td>2015-04-30</td>\n",
              "      <td>11:01:59</td>\n",
              "      <td>2015-04-30T11:01:59</td>\n",
              "      <td>-1.202154</td>\n",
              "    </tr>\n",
              "    <tr>\n",
              "      <th>167083</th>\n",
              "      <td>T00000006</td>\n",
              "      <td>A00000001</td>\n",
              "      <td>Credit</td>\n",
              "      <td>Collection from Another Bank</td>\n",
              "      <td>-0.235767</td>\n",
              "      <td>20977.2</td>\n",
              "      <td>NaN</td>\n",
              "      <td>JPMorgan Chase</td>\n",
              "      <td>41403269.0</td>\n",
              "      <td>2015</td>\n",
              "      <td>5</td>\n",
              "      <td>13</td>\n",
              "      <td>2015-05-13</td>\n",
              "      <td>10:33:00</td>\n",
              "      <td>2015-05-13T10:33:00</td>\n",
              "      <td>-1.176755</td>\n",
              "    </tr>\n",
              "    <tr>\n",
              "      <th>...</th>\n",
              "      <td>...</td>\n",
              "      <td>...</td>\n",
              "      <td>...</td>\n",
              "      <td>...</td>\n",
              "      <td>...</td>\n",
              "      <td>...</td>\n",
              "      <td>...</td>\n",
              "      <td>...</td>\n",
              "      <td>...</td>\n",
              "      <td>...</td>\n",
              "      <td>...</td>\n",
              "      <td>...</td>\n",
              "      <td>...</td>\n",
              "      <td>...</td>\n",
              "      <td>...</td>\n",
              "      <td>...</td>\n",
              "    </tr>\n",
              "    <tr>\n",
              "      <th>1032336</th>\n",
              "      <td>T03530481</td>\n",
              "      <td>A00000001</td>\n",
              "      <td>Credit</td>\n",
              "      <td>NaN</td>\n",
              "      <td>-0.615059</td>\n",
              "      <td>16701.5</td>\n",
              "      <td>Interest Credited</td>\n",
              "      <td>NaN</td>\n",
              "      <td>NaN</td>\n",
              "      <td>2018</td>\n",
              "      <td>11</td>\n",
              "      <td>30</td>\n",
              "      <td>2018-11-30</td>\n",
              "      <td>13:58:35</td>\n",
              "      <td>2018-11-30T13:58:35</td>\n",
              "      <td>1.357232</td>\n",
              "    </tr>\n",
              "    <tr>\n",
              "      <th>1033713</th>\n",
              "      <td>T00000230</td>\n",
              "      <td>A00000001</td>\n",
              "      <td>Debit</td>\n",
              "      <td>Cash Withdrawal</td>\n",
              "      <td>-0.149552</td>\n",
              "      <td>12186.9</td>\n",
              "      <td>NaN</td>\n",
              "      <td>NaN</td>\n",
              "      <td>NaN</td>\n",
              "      <td>2018</td>\n",
              "      <td>12</td>\n",
              "      <td>3</td>\n",
              "      <td>2018-12-03</td>\n",
              "      <td>13:09:19</td>\n",
              "      <td>2018-12-03T13:09:19</td>\n",
              "      <td>1.363094</td>\n",
              "    </tr>\n",
              "    <tr>\n",
              "      <th>1035097</th>\n",
              "      <td>T00000097</td>\n",
              "      <td>A00000001</td>\n",
              "      <td>Debit</td>\n",
              "      <td>Remittance to Another Bank</td>\n",
              "      <td>-0.364616</td>\n",
              "      <td>9734.9</td>\n",
              "      <td>Household</td>\n",
              "      <td>State Street Corp.</td>\n",
              "      <td>87144583.0</td>\n",
              "      <td>2018</td>\n",
              "      <td>12</td>\n",
              "      <td>5</td>\n",
              "      <td>2018-12-05</td>\n",
              "      <td>11:42:20</td>\n",
              "      <td>2018-12-05T11:42:20</td>\n",
              "      <td>1.367001</td>\n",
              "    </tr>\n",
              "    <tr>\n",
              "      <th>1045493</th>\n",
              "      <td>T00000049</td>\n",
              "      <td>A00000001</td>\n",
              "      <td>Credit</td>\n",
              "      <td>Collection from Another Bank</td>\n",
              "      <td>-0.235767</td>\n",
              "      <td>13413.9</td>\n",
              "      <td>NaN</td>\n",
              "      <td>JPMorgan Chase</td>\n",
              "      <td>41403269.0</td>\n",
              "      <td>2018</td>\n",
              "      <td>12</td>\n",
              "      <td>13</td>\n",
              "      <td>2018-12-13</td>\n",
              "      <td>14:00:08</td>\n",
              "      <td>2018-12-13T14:00:08</td>\n",
              "      <td>1.382631</td>\n",
              "    </tr>\n",
              "    <tr>\n",
              "      <th>1056137</th>\n",
              "      <td>T03530482</td>\n",
              "      <td>A00000001</td>\n",
              "      <td>Credit</td>\n",
              "      <td>NaN</td>\n",
              "      <td>-0.616582</td>\n",
              "      <td>13466.5</td>\n",
              "      <td>Interest Credited</td>\n",
              "      <td>NaN</td>\n",
              "      <td>NaN</td>\n",
              "      <td>2018</td>\n",
              "      <td>12</td>\n",
              "      <td>31</td>\n",
              "      <td>2018-12-31</td>\n",
              "      <td>14:07:49</td>\n",
              "      <td>2018-12-31T14:07:49</td>\n",
              "      <td>1.417798</td>\n",
              "    </tr>\n",
              "  </tbody>\n",
              "</table>\n",
              "<p>239 rows × 16 columns</p>\n",
              "</div>"
            ],
            "text/plain": [
              "          trans_id account_id    type  ...  fulltime     fulldatewithtime  timestamp\n",
              "149432   T00000001  A00000001  Credit  ...  10:21:45  2015-03-24T10:21:45  -1.274442\n",
              "157404   T00000005  A00000001  Credit  ...  08:54:57  2015-04-13T08:54:57  -1.235367\n",
              "158832   T00000199  A00000001  Credit  ...  10:54:46  2015-04-23T10:54:46  -1.215830\n",
              "162681   T03530438  A00000001  Credit  ...  11:01:59  2015-04-30T11:01:59  -1.202154\n",
              "167083   T00000006  A00000001  Credit  ...  10:33:00  2015-05-13T10:33:00  -1.176755\n",
              "...            ...        ...     ...  ...       ...                  ...        ...\n",
              "1032336  T03530481  A00000001  Credit  ...  13:58:35  2018-11-30T13:58:35   1.357232\n",
              "1033713  T00000230  A00000001   Debit  ...  13:09:19  2018-12-03T13:09:19   1.363094\n",
              "1035097  T00000097  A00000001   Debit  ...  11:42:20  2018-12-05T11:42:20   1.367001\n",
              "1045493  T00000049  A00000001  Credit  ...  14:00:08  2018-12-13T14:00:08   1.382631\n",
              "1056137  T03530482  A00000001  Credit  ...  14:07:49  2018-12-31T14:07:49   1.417798\n",
              "\n",
              "[239 rows x 16 columns]"
            ]
          },
          "metadata": {
            "tags": []
          },
          "execution_count": 25
        }
      ]
    },
    {
      "cell_type": "code",
      "metadata": {
        "id": "3wHV4YGGRcxf"
      },
      "source": [
        "sequence_input_list = []\n",
        "sequence_output_list = []\n",
        "\n",
        "for k, v in df_trans.groupby('account_id'):\n",
        "  user_trans_array = pd.concat([v.amount, v.timestamp], axis=1).values\n",
        "  array = user_trans_array.copy()\n",
        "  # add start and end to sequence of transations\n",
        "  add_start_to_array = np.insert(array, 0, [-1, -1], axis=0)\n",
        "  input_array = np.append(add_start_to_array, [[-2, -2]], axis=0)\n",
        "  output_array = np.append(array, [[-2, -2]], axis=0)\n",
        "  # resize array to max_lenght\n",
        "  input_array.resize((max_length_of_transaction,2), refcheck=False)\n",
        "  output_array.resize((max_length_of_transaction,2), refcheck=False)\n",
        "  # append them to list\n",
        "  sequence_input_list.append(input_array)\n",
        "  sequence_output_list.append(output_array)"
      ],
      "execution_count": 26,
      "outputs": []
    },
    {
      "cell_type": "code",
      "metadata": {
        "colab": {
          "base_uri": "https://localhost:8080/"
        },
        "id": "_Ynxrg3AfR_r",
        "outputId": "4b07f487-bdf5-4e1f-cfc2-3f4be99c85b9"
      },
      "source": [
        "sequence_input_array = np.array(sequence_input_list)\n",
        "sequence_output_input_array = sequence_input_array\n",
        "sequence_output_array = np.array(sequence_output_list)\n",
        "sequence_output_array.shape"
      ],
      "execution_count": 27,
      "outputs": [
        {
          "output_type": "execute_result",
          "data": {
            "text/plain": [
              "(4500, 675, 2)"
            ]
          },
          "metadata": {
            "tags": []
          },
          "execution_count": 27
        }
      ]
    },
    {
      "cell_type": "code",
      "metadata": {
        "colab": {
          "base_uri": "https://localhost:8080/"
        },
        "id": "vEpx6CaS5JF9",
        "outputId": "8e79adff-a5a2-4dcd-c497-5cf987d72375"
      },
      "source": [
        "(sequence_output_input_array==sequence_output_array).all()"
      ],
      "execution_count": 28,
      "outputs": [
        {
          "output_type": "execute_result",
          "data": {
            "text/plain": [
              "False"
            ]
          },
          "metadata": {
            "tags": []
          },
          "execution_count": 28
        }
      ]
    },
    {
      "cell_type": "code",
      "metadata": {
        "colab": {
          "base_uri": "https://localhost:8080/"
        },
        "id": "aBusjYuLeQEF",
        "outputId": "c0a7c89b-6c0b-4d41-e9e4-173c24e365f7"
      },
      "source": [
        "# Build static input array\n",
        "list_of_account_ids = list(df.groups.keys())\n",
        "static_input_list = []\n",
        "for account_id in list_of_account_ids:\n",
        "  sub_df = df_clients_onehot.loc[df_clients_onehot['account_id'] == account_id]\n",
        "  account_static_vector = sub_df.iloc[0]['static_vector']\n",
        "  static_input_list.append(account_static_vector)\n",
        "static_input_array = np.array(static_input_list)\n",
        "print(static_input_array.shape)\n",
        "static_output_array = static_input_array\n",
        "static_input_array"
      ],
      "execution_count": 29,
      "outputs": [
        {
          "output_type": "stream",
          "text": [
            "(4500, 3591)\n"
          ],
          "name": "stdout"
        },
        {
          "output_type": "execute_result",
          "data": {
            "text/plain": [
              "array([[1., 0., 0., ..., 0., 0., 0.],\n",
              "       [0., 1., 0., ..., 0., 0., 0.],\n",
              "       [0., 1., 0., ..., 0., 0., 0.],\n",
              "       ...,\n",
              "       [0., 1., 0., ..., 0., 0., 0.],\n",
              "       [1., 0., 0., ..., 0., 0., 0.],\n",
              "       [1., 0., 0., ..., 0., 0., 0.]])"
            ]
          },
          "metadata": {
            "tags": []
          },
          "execution_count": 29
        }
      ]
    },
    {
      "cell_type": "code",
      "metadata": {
        "id": "J56P11U9cE_d"
      },
      "source": [
        "latent_dim = 512\n",
        "decoder_dim = 2\n",
        "###########################################  encoder  ###########################################\n",
        "\n",
        "# Sequence input shape is N*2 which N is sequence length and 2 is price and time\n",
        "sequence_input = Input(name='sequence_input', shape=(None, 2))\n",
        "\n",
        "# Many_to_one_lstm\n",
        "outputs  = LSTM(2048, return_sequences=True)(sequence_input)\n",
        "outputs = GRU(1024, return_sequences=True)(outputs)\n",
        "outputs = Dropout(0.2, input_shape=(2,))(outputs)\n",
        "encoder_out , hidden_state, cell_state = LSTM(latent_dim, return_state=True, return_sequences=True)(outputs)\n",
        "\n",
        "latent_space = Concatenate()([hidden_state, cell_state])\n",
        "#Layer below output can be used for clustering purposes\n",
        "latent_space = Dense(latent_dim, activation = 'elu', name='latent_space')(latent_space)"
      ],
      "execution_count": 34,
      "outputs": []
    },
    {
      "cell_type": "code",
      "metadata": {
        "colab": {
          "base_uri": "https://localhost:8080/"
        },
        "id": "P4RybTHtn-ro",
        "outputId": "9d542f86-528f-44d4-ff7c-6a02d3984bb0"
      },
      "source": [
        "###########################################  decoder  ###########################################\n",
        "\n",
        "# Temporary input with a time step delay for producing sequence output\n",
        "# This input is exacly similar to sequence_input with only this diffrence that has a time step delay\n",
        "sequence_output_input = Input(name='sequence_output_input', shape=(None, 2))\n",
        "\n",
        "# One to many GRU (because of its simplicity, we used GRU instead of LSTM)\n",
        "decoder_out = GRU(latent_dim, return_sequences=True)(sequence_output_input,\n",
        "                                                         initial_state = latent_space)\n",
        "###########################################  attention  ###########################################\n",
        "attention = dot([decoder_out, encoder_out], axes=[2, 2])\n",
        "attention = Activation('softmax')(attention)\n",
        "context = dot([attention, encoder_out], axes=[2,1])\n",
        "decoder_combined_context = Concatenate()([context, decoder_out])\n",
        "###########################################  /attention  ###########################################\n",
        "\n",
        "decoder_outputs = TimeDistributed(Dense(decoder_dim, activation='softmax'),name='decoder_outputs')(decoder_combined_context)\n",
        "\n",
        "###########################################  /decoder  ###########################################\n",
        "\n",
        "# Model has three inputs and 2 outputs (last input is temorary)\n",
        "model = Model(inputs = [sequence_input, sequence_output_input],\n",
        "              outputs = [decoder_outputs])\n",
        "\n",
        "model.compile(\n",
        "    optimizer=\"adam\", loss=[\"mse\", \"mse\"],\n",
        ")\n",
        "model.summary()"
      ],
      "execution_count": 35,
      "outputs": [
        {
          "output_type": "stream",
          "text": [
            "Model: \"model_1\"\n",
            "__________________________________________________________________________________________________\n",
            "Layer (type)                    Output Shape         Param #     Connected to                     \n",
            "==================================================================================================\n",
            "sequence_input (InputLayer)     [(None, None, 2)]    0                                            \n",
            "__________________________________________________________________________________________________\n",
            "lstm_2 (LSTM)                   (None, None, 2048)   16801792    sequence_input[0][0]             \n",
            "__________________________________________________________________________________________________\n",
            "gru_2 (GRU)                     (None, None, 1024)   9443328     lstm_2[0][0]                     \n",
            "__________________________________________________________________________________________________\n",
            "dropout_1 (Dropout)             (None, None, 1024)   0           gru_2[0][0]                      \n",
            "__________________________________________________________________________________________________\n",
            "lstm_3 (LSTM)                   [(None, None, 512),  3147776     dropout_1[0][0]                  \n",
            "__________________________________________________________________________________________________\n",
            "concatenate_2 (Concatenate)     (None, 1024)         0           lstm_3[0][1]                     \n",
            "                                                                 lstm_3[0][2]                     \n",
            "__________________________________________________________________________________________________\n",
            "sequence_output_input (InputLay [(None, None, 2)]    0                                            \n",
            "__________________________________________________________________________________________________\n",
            "latent_space (Dense)            (None, 512)          524800      concatenate_2[0][0]              \n",
            "__________________________________________________________________________________________________\n",
            "gru_3 (GRU)                     (None, None, 512)    792576      sequence_output_input[0][0]      \n",
            "                                                                 latent_space[0][0]               \n",
            "__________________________________________________________________________________________________\n",
            "dot_2 (Dot)                     (None, None, None)   0           gru_3[0][0]                      \n",
            "                                                                 lstm_3[0][0]                     \n",
            "__________________________________________________________________________________________________\n",
            "activation_1 (Activation)       (None, None, None)   0           dot_2[0][0]                      \n",
            "__________________________________________________________________________________________________\n",
            "dot_3 (Dot)                     (None, None, 512)    0           activation_1[0][0]               \n",
            "                                                                 lstm_3[0][0]                     \n",
            "__________________________________________________________________________________________________\n",
            "concatenate_3 (Concatenate)     (None, None, 1024)   0           dot_3[0][0]                      \n",
            "                                                                 gru_3[0][0]                      \n",
            "__________________________________________________________________________________________________\n",
            "decoder_outputs (TimeDistribute (None, None, 2)      2050        concatenate_3[0][0]              \n",
            "==================================================================================================\n",
            "Total params: 30,712,322\n",
            "Trainable params: 30,712,322\n",
            "Non-trainable params: 0\n",
            "__________________________________________________________________________________________________\n"
          ],
          "name": "stdout"
        }
      ]
    },
    {
      "cell_type": "code",
      "metadata": {
        "colab": {
          "base_uri": "https://localhost:8080/",
          "height": 1000
        },
        "id": "AuOs3OWArKsa",
        "outputId": "5e8966f6-cdd9-4aeb-9a24-4c5683361f60"
      },
      "source": [
        "plot_model(model, show_shapes=True, show_layer_names=True)"
      ],
      "execution_count": 36,
      "outputs": [
        {
          "output_type": "execute_result",
          "data": {
            "image/png": "[encoded data removed]",
            "text/plain": [
              "<IPython.core.display.Image object>"
            ]
          },
          "metadata": {
            "tags": []
          },
          "execution_count": 36
        }
      ]
    },
    {
      "cell_type": "code",
      "metadata": {
        "colab": {
          "base_uri": "https://localhost:8080/",
          "height": 449
        },
        "id": "q1n9milvGn3e",
        "outputId": "5186e218-4266-478e-b4a5-dd04dbba68fb"
      },
      "source": [
        "# fit the keras model on the dataset\n",
        "batch_size = 128\n",
        "inputs = [sequence_input_array, sequence_output_input_array]\n",
        "outputs = [sequence_output_array]\n",
        "model.fit(inputs, outputs, epochs=20, batch_size = batch_size)"
      ],
      "execution_count": 37,
      "outputs": [
        {
          "output_type": "stream",
          "text": [
            "Epoch 1/20\n",
            "36/36 [==============================] - 202s 5s/step - loss: 0.5430\n",
            "Epoch 2/20\n",
            "36/36 [==============================] - 197s 5s/step - loss: 0.5230\n",
            "Epoch 3/20\n",
            "15/36 [===========>..................] - ETA: 1:57 - loss: 0.5232"
          ],
          "name": "stdout"
        },
        {
          "output_type": "error",
          "ename": "KeyboardInterrupt",
          "evalue": "ignored",
          "traceback": [
            "\u001b[0;31m---------------------------------------------------------------------------\u001b[0m",
            "\u001b[0;31mKeyboardInterrupt\u001b[0m                         Traceback (most recent call last)",
            "\u001b[0;32m<ipython-input-37-6bf2f97ba23e>\u001b[0m in \u001b[0;36m<module>\u001b[0;34m()\u001b[0m\n\u001b[1;32m      3\u001b[0m \u001b[0minputs\u001b[0m \u001b[0;34m=\u001b[0m \u001b[0;34m[\u001b[0m\u001b[0msequence_input_array\u001b[0m\u001b[0;34m,\u001b[0m \u001b[0msequence_output_input_array\u001b[0m\u001b[0;34m]\u001b[0m\u001b[0;34m\u001b[0m\u001b[0;34m\u001b[0m\u001b[0m\n\u001b[1;32m      4\u001b[0m \u001b[0moutputs\u001b[0m \u001b[0;34m=\u001b[0m \u001b[0;34m[\u001b[0m\u001b[0msequence_output_array\u001b[0m\u001b[0;34m]\u001b[0m\u001b[0;34m\u001b[0m\u001b[0;34m\u001b[0m\u001b[0m\n\u001b[0;32m----> 5\u001b[0;31m \u001b[0mmodel\u001b[0m\u001b[0;34m.\u001b[0m\u001b[0mfit\u001b[0m\u001b[0;34m(\u001b[0m\u001b[0minputs\u001b[0m\u001b[0;34m,\u001b[0m \u001b[0moutputs\u001b[0m\u001b[0;34m,\u001b[0m \u001b[0mepochs\u001b[0m\u001b[0;34m=\u001b[0m\u001b[0;36m20\u001b[0m\u001b[0;34m,\u001b[0m \u001b[0mbatch_size\u001b[0m \u001b[0;34m=\u001b[0m \u001b[0mbatch_size\u001b[0m\u001b[0;34m)\u001b[0m\u001b[0;34m\u001b[0m\u001b[0;34m\u001b[0m\u001b[0m\n\u001b[0m",
            "\u001b[0;32m/usr/local/lib/python3.6/dist-packages/tensorflow/python/keras/engine/training.py\u001b[0m in \u001b[0;36mfit\u001b[0;34m(self, x, y, batch_size, epochs, verbose, callbacks, validation_split, validation_data, shuffle, class_weight, sample_weight, initial_epoch, steps_per_epoch, validation_steps, validation_batch_size, validation_freq, max_queue_size, workers, use_multiprocessing)\u001b[0m\n\u001b[1;32m   1098\u001b[0m                 _r=1):\n\u001b[1;32m   1099\u001b[0m               \u001b[0mcallbacks\u001b[0m\u001b[0;34m.\u001b[0m\u001b[0mon_train_batch_begin\u001b[0m\u001b[0;34m(\u001b[0m\u001b[0mstep\u001b[0m\u001b[0;34m)\u001b[0m\u001b[0;34m\u001b[0m\u001b[0;34m\u001b[0m\u001b[0m\n\u001b[0;32m-> 1100\u001b[0;31m               \u001b[0mtmp_logs\u001b[0m \u001b[0;34m=\u001b[0m \u001b[0mself\u001b[0m\u001b[0;34m.\u001b[0m\u001b[0mtrain_function\u001b[0m\u001b[0;34m(\u001b[0m\u001b[0miterator\u001b[0m\u001b[0;34m)\u001b[0m\u001b[0;34m\u001b[0m\u001b[0;34m\u001b[0m\u001b[0m\n\u001b[0m\u001b[1;32m   1101\u001b[0m               \u001b[0;32mif\u001b[0m \u001b[0mdata_handler\u001b[0m\u001b[0;34m.\u001b[0m\u001b[0mshould_sync\u001b[0m\u001b[0;34m:\u001b[0m\u001b[0;34m\u001b[0m\u001b[0;34m\u001b[0m\u001b[0m\n\u001b[1;32m   1102\u001b[0m                 \u001b[0mcontext\u001b[0m\u001b[0;34m.\u001b[0m\u001b[0masync_wait\u001b[0m\u001b[0;34m(\u001b[0m\u001b[0;34m)\u001b[0m\u001b[0;34m\u001b[0m\u001b[0;34m\u001b[0m\u001b[0m\n",
            "\u001b[0;32m/usr/local/lib/python3.6/dist-packages/tensorflow/python/eager/def_function.py\u001b[0m in \u001b[0;36m__call__\u001b[0;34m(self, *args, **kwds)\u001b[0m\n\u001b[1;32m    826\u001b[0m     \u001b[0mtracing_count\u001b[0m \u001b[0;34m=\u001b[0m \u001b[0mself\u001b[0m\u001b[0;34m.\u001b[0m\u001b[0mexperimental_get_tracing_count\u001b[0m\u001b[0;34m(\u001b[0m\u001b[0;34m)\u001b[0m\u001b[0;34m\u001b[0m\u001b[0;34m\u001b[0m\u001b[0m\n\u001b[1;32m    827\u001b[0m     \u001b[0;32mwith\u001b[0m \u001b[0mtrace\u001b[0m\u001b[0;34m.\u001b[0m\u001b[0mTrace\u001b[0m\u001b[0;34m(\u001b[0m\u001b[0mself\u001b[0m\u001b[0;34m.\u001b[0m\u001b[0m_name\u001b[0m\u001b[0;34m)\u001b[0m \u001b[0;32mas\u001b[0m \u001b[0mtm\u001b[0m\u001b[0;34m:\u001b[0m\u001b[0;34m\u001b[0m\u001b[0;34m\u001b[0m\u001b[0m\n\u001b[0;32m--> 828\u001b[0;31m       \u001b[0mresult\u001b[0m \u001b[0;34m=\u001b[0m \u001b[0mself\u001b[0m\u001b[0;34m.\u001b[0m\u001b[0m_call\u001b[0m\u001b[0;34m(\u001b[0m\u001b[0;34m*\u001b[0m\u001b[0margs\u001b[0m\u001b[0;34m,\u001b[0m \u001b[0;34m**\u001b[0m\u001b[0mkwds\u001b[0m\u001b[0;34m)\u001b[0m\u001b[0;34m\u001b[0m\u001b[0;34m\u001b[0m\u001b[0m\n\u001b[0m\u001b[1;32m    829\u001b[0m       \u001b[0mcompiler\u001b[0m \u001b[0;34m=\u001b[0m \u001b[0;34m\"xla\"\u001b[0m \u001b[0;32mif\u001b[0m \u001b[0mself\u001b[0m\u001b[0;34m.\u001b[0m\u001b[0m_experimental_compile\u001b[0m \u001b[0;32melse\u001b[0m \u001b[0;34m\"nonXla\"\u001b[0m\u001b[0;34m\u001b[0m\u001b[0;34m\u001b[0m\u001b[0m\n\u001b[1;32m    830\u001b[0m       \u001b[0mnew_tracing_count\u001b[0m \u001b[0;34m=\u001b[0m \u001b[0mself\u001b[0m\u001b[0;34m.\u001b[0m\u001b[0mexperimental_get_tracing_count\u001b[0m\u001b[0;34m(\u001b[0m\u001b[0;34m)\u001b[0m\u001b[0;34m\u001b[0m\u001b[0;34m\u001b[0m\u001b[0m\n",
            "\u001b[0;32m/usr/local/lib/python3.6/dist-packages/tensorflow/python/eager/def_function.py\u001b[0m in \u001b[0;36m_call\u001b[0;34m(self, *args, **kwds)\u001b[0m\n\u001b[1;32m    853\u001b[0m       \u001b[0;31m# In this case we have created variables on the first call, so we run the\u001b[0m\u001b[0;34m\u001b[0m\u001b[0;34m\u001b[0m\u001b[0;34m\u001b[0m\u001b[0m\n\u001b[1;32m    854\u001b[0m       \u001b[0;31m# defunned version which is guaranteed to never create variables.\u001b[0m\u001b[0;34m\u001b[0m\u001b[0;34m\u001b[0m\u001b[0;34m\u001b[0m\u001b[0m\n\u001b[0;32m--> 855\u001b[0;31m       \u001b[0;32mreturn\u001b[0m \u001b[0mself\u001b[0m\u001b[0;34m.\u001b[0m\u001b[0m_stateless_fn\u001b[0m\u001b[0;34m(\u001b[0m\u001b[0;34m*\u001b[0m\u001b[0margs\u001b[0m\u001b[0;34m,\u001b[0m \u001b[0;34m**\u001b[0m\u001b[0mkwds\u001b[0m\u001b[0;34m)\u001b[0m  \u001b[0;31m# pylint: disable=not-callable\u001b[0m\u001b[0;34m\u001b[0m\u001b[0;34m\u001b[0m\u001b[0m\n\u001b[0m\u001b[1;32m    856\u001b[0m     \u001b[0;32melif\u001b[0m \u001b[0mself\u001b[0m\u001b[0;34m.\u001b[0m\u001b[0m_stateful_fn\u001b[0m \u001b[0;32mis\u001b[0m \u001b[0;32mnot\u001b[0m \u001b[0;32mNone\u001b[0m\u001b[0;34m:\u001b[0m\u001b[0;34m\u001b[0m\u001b[0;34m\u001b[0m\u001b[0m\n\u001b[1;32m    857\u001b[0m       \u001b[0;31m# Release the lock early so that multiple threads can perform the call\u001b[0m\u001b[0;34m\u001b[0m\u001b[0;34m\u001b[0m\u001b[0;34m\u001b[0m\u001b[0m\n",
            "\u001b[0;32m/usr/local/lib/python3.6/dist-packages/tensorflow/python/eager/function.py\u001b[0m in \u001b[0;36m__call__\u001b[0;34m(self, *args, **kwargs)\u001b[0m\n\u001b[1;32m   2941\u001b[0m        filtered_flat_args) = self._maybe_define_function(args, kwargs)\n\u001b[1;32m   2942\u001b[0m     return graph_function._call_flat(\n\u001b[0;32m-> 2943\u001b[0;31m         filtered_flat_args, captured_inputs=graph_function.captured_inputs)  # pylint: disable=protected-access\n\u001b[0m\u001b[1;32m   2944\u001b[0m \u001b[0;34m\u001b[0m\u001b[0m\n\u001b[1;32m   2945\u001b[0m   \u001b[0;34m@\u001b[0m\u001b[0mproperty\u001b[0m\u001b[0;34m\u001b[0m\u001b[0;34m\u001b[0m\u001b[0m\n",
            "\u001b[0;32m/usr/local/lib/python3.6/dist-packages/tensorflow/python/eager/function.py\u001b[0m in \u001b[0;36m_call_flat\u001b[0;34m(self, args, captured_inputs, cancellation_manager)\u001b[0m\n\u001b[1;32m   1917\u001b[0m       \u001b[0;31m# No tape is watching; skip to running the function.\u001b[0m\u001b[0;34m\u001b[0m\u001b[0;34m\u001b[0m\u001b[0;34m\u001b[0m\u001b[0m\n\u001b[1;32m   1918\u001b[0m       return self._build_call_outputs(self._inference_function.call(\n\u001b[0;32m-> 1919\u001b[0;31m           ctx, args, cancellation_manager=cancellation_manager))\n\u001b[0m\u001b[1;32m   1920\u001b[0m     forward_backward = self._select_forward_and_backward_functions(\n\u001b[1;32m   1921\u001b[0m         \u001b[0margs\u001b[0m\u001b[0;34m,\u001b[0m\u001b[0;34m\u001b[0m\u001b[0;34m\u001b[0m\u001b[0m\n",
            "\u001b[0;32m/usr/local/lib/python3.6/dist-packages/tensorflow/python/eager/function.py\u001b[0m in \u001b[0;36mcall\u001b[0;34m(self, ctx, args, cancellation_manager)\u001b[0m\n\u001b[1;32m    558\u001b[0m               \u001b[0minputs\u001b[0m\u001b[0;34m=\u001b[0m\u001b[0margs\u001b[0m\u001b[0;34m,\u001b[0m\u001b[0;34m\u001b[0m\u001b[0;34m\u001b[0m\u001b[0m\n\u001b[1;32m    559\u001b[0m               \u001b[0mattrs\u001b[0m\u001b[0;34m=\u001b[0m\u001b[0mattrs\u001b[0m\u001b[0;34m,\u001b[0m\u001b[0;34m\u001b[0m\u001b[0;34m\u001b[0m\u001b[0m\n\u001b[0;32m--> 560\u001b[0;31m               ctx=ctx)\n\u001b[0m\u001b[1;32m    561\u001b[0m         \u001b[0;32melse\u001b[0m\u001b[0;34m:\u001b[0m\u001b[0;34m\u001b[0m\u001b[0;34m\u001b[0m\u001b[0m\n\u001b[1;32m    562\u001b[0m           outputs = execute.execute_with_cancellation(\n",
            "\u001b[0;32m/usr/local/lib/python3.6/dist-packages/tensorflow/python/eager/execute.py\u001b[0m in \u001b[0;36mquick_execute\u001b[0;34m(op_name, num_outputs, inputs, attrs, ctx, name)\u001b[0m\n\u001b[1;32m     58\u001b[0m     \u001b[0mctx\u001b[0m\u001b[0;34m.\u001b[0m\u001b[0mensure_initialized\u001b[0m\u001b[0;34m(\u001b[0m\u001b[0;34m)\u001b[0m\u001b[0;34m\u001b[0m\u001b[0;34m\u001b[0m\u001b[0m\n\u001b[1;32m     59\u001b[0m     tensors = pywrap_tfe.TFE_Py_Execute(ctx._handle, device_name, op_name,\n\u001b[0;32m---> 60\u001b[0;31m                                         inputs, attrs, num_outputs)\n\u001b[0m\u001b[1;32m     61\u001b[0m   \u001b[0;32mexcept\u001b[0m \u001b[0mcore\u001b[0m\u001b[0;34m.\u001b[0m\u001b[0m_NotOkStatusException\u001b[0m \u001b[0;32mas\u001b[0m \u001b[0me\u001b[0m\u001b[0;34m:\u001b[0m\u001b[0;34m\u001b[0m\u001b[0;34m\u001b[0m\u001b[0m\n\u001b[1;32m     62\u001b[0m     \u001b[0;32mif\u001b[0m \u001b[0mname\u001b[0m \u001b[0;32mis\u001b[0m \u001b[0;32mnot\u001b[0m \u001b[0;32mNone\u001b[0m\u001b[0;34m:\u001b[0m\u001b[0;34m\u001b[0m\u001b[0;34m\u001b[0m\u001b[0m\n",
            "\u001b[0;31mKeyboardInterrupt\u001b[0m: "
          ]
        }
      ]
    },
    {
      "cell_type": "code",
      "metadata": {
        "id": "qUN5eQigaC4b"
      },
      "source": [
        "# save the model to disk\n",
        "# model.save(my_drive_path)"
      ],
      "execution_count": null,
      "outputs": []
    },
    {
      "cell_type": "code",
      "metadata": {
        "id": "3LQkQ1TUgbJ2"
      },
      "source": [
        "# load model\n",
        "# model = keras.models.load_model(my_drive_path)"
      ],
      "execution_count": null,
      "outputs": []
    },
    {
      "cell_type": "code",
      "metadata": {
        "id": "szQAe4YZrHKh"
      },
      "source": [
        "encoder = Model( model.input , model.get_layer(\"latent_space\").output)\n",
        "plot_model(encoder, show_shapes=True, show_layer_names=True)"
      ],
      "execution_count": null,
      "outputs": []
    },
    {
      "cell_type": "code",
      "metadata": {
        "id": "LHkYB0m2Bd2b"
      },
      "source": [
        "x = [sequence_input_array, sequence_output_input_array]\n",
        "predictions = encoder.predict(x, batch_size = batch_size)"
      ],
      "execution_count": null,
      "outputs": []
    },
    {
      "cell_type": "code",
      "metadata": {
        "id": "hE4dTbMoB7cU"
      },
      "source": [
        "print(predictions.shape)\n",
        "predictions"
      ],
      "execution_count": null,
      "outputs": []
    },
    {
      "cell_type": "code",
      "metadata": {
        "id": "M3UDfIDOkOHC"
      },
      "source": [
        "standard_x = StandardScaler().fit_transform(predictions)\n",
        "standard_x"
      ],
      "execution_count": null,
      "outputs": []
    },
    {
      "cell_type": "code",
      "metadata": {
        "id": "tZhTEqOFjPZs"
      },
      "source": [
        "pca = PCA(n_components=3)\n",
        "principal_components = pca.fit_transform(standard_x)"
      ],
      "execution_count": null,
      "outputs": []
    },
    {
      "cell_type": "code",
      "metadata": {
        "id": "4_7qIFvUlD1q"
      },
      "source": [
        "principal_components"
      ],
      "execution_count": null,
      "outputs": []
    },
    {
      "cell_type": "code",
      "metadata": {
        "id": "mf-bUrmU1Nbw"
      },
      "source": [
        "kmeans_kwargs = {\n",
        "    \"init\": \"random\",\n",
        "    \"n_init\": 10,\n",
        "    \"max_iter\": 300,\n",
        "    \"random_state\": 42,\n",
        "}\n",
        "# A list holds the SSE values for each k\n",
        "sse = []\n",
        "for k in range(1, 11):\n",
        "    kmeans = KMeans(n_clusters=k, **kmeans_kwargs)\n",
        "    kmeans.fit(principal_components)\n",
        "    sse.append(kmeans.inertia_)\n",
        "plt.style.use(\"fivethirtyeight\")\n",
        "plt.plot(range(1, 11), sse)\n",
        "plt.xticks(range(1, 11))\n",
        "plt.xlabel(\"Number of Clusters\")\n",
        "plt.ylabel(\"SSE\")\n",
        "plt.show()"
      ],
      "execution_count": null,
      "outputs": []
    },
    {
      "cell_type": "code",
      "metadata": {
        "id": "xKqpY-0C1NZm"
      },
      "source": [
        "kl = KneeLocator(range(1, 11), sse, curve=\"convex\", direction=\"decreasing\")\n",
        "n_clusters = kl.elbow"
      ],
      "execution_count": null,
      "outputs": []
    },
    {
      "cell_type": "code",
      "metadata": {
        "id": "U9X2s3JI1NWy"
      },
      "source": [
        "kmeans = KMeans(n_clusters=n_clusters, **kmeans_kwargs)\n",
        "kmeans.fit(principal_components)\n",
        "kmeans.labels_"
      ],
      "execution_count": null,
      "outputs": []
    },
    {
      "cell_type": "code",
      "metadata": {
        "id": "UPVBv_Zu5ggb"
      },
      "source": [
        "set(kmeans.labels_)"
      ],
      "execution_count": null,
      "outputs": []
    },
    {
      "cell_type": "code",
      "metadata": {
        "id": "t686yWjJ1NUe"
      },
      "source": [
        "fig = plt.figure(figsize=(20,10))\n",
        "plt.scatter(principal_components[:, 0], principal_components[:, 1], c=kmeans.labels_)\n",
        "centers = kmeans.cluster_centers_\n",
        "plt.scatter(centers[:, 0], centers[:, 1], c='black', s=200, alpha=0.5);"
      ],
      "execution_count": null,
      "outputs": []
    },
    {
      "cell_type": "code",
      "metadata": {
        "id": "moeXM3d91NSG"
      },
      "source": [
        "fig = plt.figure(figsize=(20,10))\n",
        "ax = fig.add_subplot(111, projection='3d')\n",
        "ax.scatter(principal_components[:,0],principal_components[:,1],principal_components[:,2], \n",
        "            c=kmeans.labels_, cmap='viridis',\n",
        "            edgecolor='k', s=40, alpha = 0.5)\n",
        "ax.set_title(\"First three PCA directions\")\n",
        "ax.dist = 10"
      ],
      "execution_count": null,
      "outputs": []
    },
    {
      "cell_type": "code",
      "metadata": {
        "id": "U_Q_ZYPD1NPz"
      },
      "source": [
        ""
      ],
      "execution_count": null,
      "outputs": []
    },
    {
      "cell_type": "code",
      "metadata": {
        "id": "0rAbso4C1NNc"
      },
      "source": [
        ""
      ],
      "execution_count": null,
      "outputs": []
    },
    {
      "cell_type": "code",
      "metadata": {
        "id": "Ki4zxaiejGut"
      },
      "source": [
        "kmedoids = KMedoids(n_clusters=3, random_state=0).fit(principal_components)\n",
        "kmedoids.labels_"
      ],
      "execution_count": null,
      "outputs": []
    },
    {
      "cell_type": "code",
      "metadata": {
        "id": "lRbH95V_8LGy"
      },
      "source": [
        "fig = plt.figure(figsize=(20,10))\n",
        "plt.scatter(principal_components[:, 0], principal_components[:, 1], c=kmedoids.labels_)\n",
        "centers = kmedoids.cluster_centers_\n",
        "plt.scatter(centers[:, 0], centers[:, 1], c='black', s=200, alpha=0.5);"
      ],
      "execution_count": null,
      "outputs": []
    },
    {
      "cell_type": "code",
      "metadata": {
        "id": "kT7tLhke8aE9"
      },
      "source": [
        "fig = plt.figure(figsize=(20,10))\n",
        "ax = fig.add_subplot(111, projection='3d')\n",
        "ax.scatter(principal_components[:,0],principal_components[:,1],principal_components[:,2], \n",
        "            c=kmedoids.labels_, cmap='viridis',\n",
        "            edgecolor='k', s=40, alpha = 0.5)\n",
        "\n",
        "\n",
        "ax.set_title(\"First three PCA directions\")\n",
        "ax.set_xlabel(\"Educational_Degree\")\n",
        "ax.set_ylabel(\"Gross_Monthly_Salary\")\n",
        "ax.set_zlabel(\"Claim_Rate\")\n",
        "ax.dist = 10"
      ],
      "execution_count": null,
      "outputs": []
    },
    {
      "cell_type": "code",
      "metadata": {
        "id": "HpxLeaKY8rOw"
      },
      "source": [
        "import pandas as pd\n",
        "from sklearn.datasets import load_iris\n",
        "from sklearn.cluster import KMeans\n",
        "import matplotlib.pyplot as plt\n",
        "\n",
        "# iris = load_iris()\n",
        "# X = pd.DataFrame(iris.data, columns=iris['feature_names'])\n",
        "# print(X)\n",
        "# data = X[['sepal length (cm)', 'sepal width (cm)', 'petal length (cm)']]\n",
        "\n",
        "sse = {}\n",
        "for k in range(1, 10):\n",
        "    kmeans = KMeans(n_clusters=k, max_iter=1000).fit(principal_components)\n",
        "    # data[\"clusters\"] = kmeans.labels_\n",
        "    # print(data[\"clusters\"])\n",
        "    sse[k] = kmeans.inertia_ # Inertia: Sum of distances of samples to their closest cluster center\n",
        "plt.figure()\n",
        "plt.plot(list(sse.keys()), list(sse.values()))\n",
        "plt.xlabel(\"Number of cluster\")\n",
        "plt.ylabel(\"SSE\")\n",
        "plt.show()\n"
      ],
      "execution_count": null,
      "outputs": []
    },
    {
      "cell_type": "code",
      "metadata": {
        "id": "8rm1xwLOmWXu"
      },
      "source": [
        "kmeans_kwargs = {\n",
        "    \"init\": \"random\",\n",
        "    \"n_init\": 10,\n",
        "    \"max_iter\": 300,\n",
        "    \"random_state\": 42,\n",
        "}\n",
        "\n",
        "# A list holds the SSE values for each k\n",
        "sse = []\n",
        "for k in range(1, 11):\n",
        "    kmeans = KMeans(n_clusters=k, **kmeans_kwargs)\n",
        "    kmeans.fit(principal_components)\n",
        "    sse.append(kmeans.inertia_)\n",
        "plt.style.use(\"fivethirtyeight\")\n",
        "plt.plot(range(1, 11), sse)\n",
        "plt.xticks(range(1, 11))\n",
        "plt.xlabel(\"Number of Clusters\")\n",
        "plt.ylabel(\"SSE\")\n",
        "plt.show()"
      ],
      "execution_count": null,
      "outputs": []
    },
    {
      "cell_type": "code",
      "metadata": {
        "id": "u7aHgfBduw-G"
      },
      "source": [
        "kl = KneeLocator(\n",
        "    range(1, 11), sse, curve=\"convex\", direction=\"decreasing\"\n",
        ")\n",
        "\n",
        "kl.elbow\n"
      ],
      "execution_count": null,
      "outputs": []
    },
    {
      "cell_type": "code",
      "metadata": {
        "id": "htAhkjXBvF8Q"
      },
      "source": [
        "# A list holds the silhouette coefficients for each k\n",
        "silhouette_coefficients = []\n",
        "\n",
        "# Notice you start at 2 clusters for silhouette coefficient\n",
        "for k in range(2, 11):\n",
        "    kmeans = KMeans(n_clusters=k, **kmeans_kwargs)\n",
        "    kmeans.fit(principal_components)\n",
        "    score = silhouette_score(principal_components, kmeans.labels_)\n",
        "    silhouette_coefficients.append(score)\n",
        "plt.style.use(\"fivethirtyeight\")\n",
        "plt.plot(range(2, 11), silhouette_coefficients)\n",
        "plt.xticks(range(2, 11))\n",
        "plt.xlabel(\"Number of Clusters\")\n",
        "plt.ylabel(\"Silhouette Coefficient\")\n",
        "plt.show()"
      ],
      "execution_count": null,
      "outputs": []
    },
    {
      "cell_type": "code",
      "metadata": {
        "id": "HJhLHNrtwCf3"
      },
      "source": [
        "from sklearn.datasets import make_blobs\n",
        "from sklearn.cluster import KMeans\n",
        "from sklearn.metrics import silhouette_samples, silhouette_score\n",
        "\n",
        "import matplotlib.pyplot as plt\n",
        "import matplotlib.cm as cm\n",
        "import numpy as np\n",
        "\n",
        "print(__doc__)\n",
        "\n",
        "# Generating the sample data from make_blobs\n",
        "# This particular setting has one distinct cluster and 3 clusters placed close\n",
        "# together.\n",
        "# X, y = make_blobs(n_samples=500,\n",
        "#                   n_features=2,\n",
        "#                   centers=4,\n",
        "#                   cluster_std=1,\n",
        "#                   center_box=(-10.0, 10.0),\n",
        "#                   shuffle=True,\n",
        "#                   random_state=1)  # For reproducibility\n",
        "X = principal_components\n",
        "range_n_clusters = [2, 3, 4, 5, 6]\n",
        "\n",
        "for n_clusters in range_n_clusters:\n",
        "    # Create a subplot with 1 row and 2 columns\n",
        "    fig, (ax1, ax2) = plt.subplots(1, 2)\n",
        "    fig.set_size_inches(18, 7)\n",
        "\n",
        "    # The 1st subplot is the silhouette plot\n",
        "    # The silhouette coefficient can range from -1, 1 but in this example all\n",
        "    # lie within [-0.1, 1]\n",
        "    ax1.set_xlim([-0.1, 1])\n",
        "    # The (n_clusters+1)*10 is for inserting blank space between silhouette\n",
        "    # plots of individual clusters, to demarcate them clearly.\n",
        "    ax1.set_ylim([0, len(X) + (n_clusters + 1) * 10])\n",
        "\n",
        "    # Initialize the clusterer with n_clusters value and a random generator\n",
        "    # seed of 10 for reproducibility.\n",
        "    clusterer = KMeans(n_clusters=n_clusters, random_state=10)\n",
        "    cluster_labels = clusterer.fit_predict(X)\n",
        "\n",
        "    # The silhouette_score gives the average value for all the samples.\n",
        "    # This gives a perspective into the density and separation of the formed\n",
        "    # clusters\n",
        "    silhouette_avg = silhouette_score(X, cluster_labels)\n",
        "    print(\"For n_clusters =\", n_clusters,\n",
        "          \"The average silhouette_score is :\", silhouette_avg)\n",
        "\n",
        "    # Compute the silhouette scores for each sample\n",
        "    sample_silhouette_values = silhouette_samples(X, cluster_labels)\n",
        "\n",
        "    y_lower = 10\n",
        "    for i in range(n_clusters):\n",
        "        # Aggregate the silhouette scores for samples belonging to\n",
        "        # cluster i, and sort them\n",
        "        ith_cluster_silhouette_values = \\\n",
        "            sample_silhouette_values[cluster_labels == i]\n",
        "\n",
        "        ith_cluster_silhouette_values.sort()\n",
        "\n",
        "        size_cluster_i = ith_cluster_silhouette_values.shape[0]\n",
        "        y_upper = y_lower + size_cluster_i\n",
        "\n",
        "        color = cm.nipy_spectral(float(i) / n_clusters)\n",
        "        ax1.fill_betweenx(np.arange(y_lower, y_upper),\n",
        "                          0, ith_cluster_silhouette_values,\n",
        "                          facecolor=color, edgecolor=color, alpha=0.7)\n",
        "\n",
        "        # Label the silhouette plots with their cluster numbers at the middle\n",
        "        ax1.text(-0.05, y_lower + 0.5 * size_cluster_i, str(i))\n",
        "\n",
        "        # Compute the new y_lower for next plot\n",
        "        y_lower = y_upper + 10  # 10 for the 0 samples\n",
        "\n",
        "    ax1.set_title(\"The silhouette plot for the various clusters.\")\n",
        "    ax1.set_xlabel(\"The silhouette coefficient values\")\n",
        "    ax1.set_ylabel(\"Cluster label\")\n",
        "\n",
        "    # The vertical line for average silhouette score of all the values\n",
        "    ax1.axvline(x=silhouette_avg, color=\"red\", linestyle=\"--\")\n",
        "\n",
        "    ax1.set_yticks([])  # Clear the yaxis labels / ticks\n",
        "    ax1.set_xticks([-0.1, 0, 0.2, 0.4, 0.6, 0.8, 1])\n",
        "\n",
        "    # 2nd Plot showing the actual clusters formed\n",
        "    colors = cm.nipy_spectral(cluster_labels.astype(float) / n_clusters)\n",
        "    ax2.scatter(X[:, 0], X[:, 1], marker='.', s=30, lw=0, alpha=0.7,\n",
        "                c=colors, edgecolor='k')\n",
        "\n",
        "    # Labeling the clusters\n",
        "    centers = clusterer.cluster_centers_\n",
        "    # Draw white circles at cluster centers\n",
        "    ax2.scatter(centers[:, 0], centers[:, 1], marker='o',\n",
        "                c=\"white\", alpha=1, s=200, edgecolor='k')\n",
        "\n",
        "    for i, c in enumerate(centers):\n",
        "        ax2.scatter(c[0], c[1], marker='$%d$' % i, alpha=1,\n",
        "                    s=50, edgecolor='k')\n",
        "\n",
        "    ax2.set_title(\"The visualization of the clustered data.\")\n",
        "    ax2.set_xlabel(\"Feature space for the 1st feature\")\n",
        "    ax2.set_ylabel(\"Feature space for the 2nd feature\")\n",
        "\n",
        "    plt.suptitle((\"Silhouette analysis for KMeans clustering on sample data \"\n",
        "                  \"with n_clusters = %d\" % n_clusters),\n",
        "                 fontsize=14, fontweight='bold')\n",
        "\n",
        "plt.show()\n"
      ],
      "execution_count": null,
      "outputs": []
    },
    {
      "cell_type": "code",
      "metadata": {
        "id": "Vy1K2tTpxIHZ"
      },
      "source": [
        ""
      ],
      "execution_count": null,
      "outputs": []
    }
  ]
}