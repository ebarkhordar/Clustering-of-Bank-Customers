{
  "nbformat": 4,
  "nbformat_minor": 0,
  "metadata": {
    "accelerator": "GPU",
    "colab": {
      "name": "Czech customer segmentation.ipynb",
      "provenance": [],
      "collapsed_sections": [],
      "include_colab_link": true
    },
    "kernelspec": {
      "display_name": "Python 3",
      "name": "python3"
    },
    "widgets": {
      "application/vnd.jupyter.widget-state+json": {
        "9f7ab74da20e4bcf9f99ae552980ef86": {
          "model_module": "@jupyter-widgets/controls",
          "model_name": "HBoxModel",
          "state": {
            "_dom_classes": [],
            "_model_module": "@jupyter-widgets/controls",
            "_model_module_version": "1.5.0",
            "_model_name": "HBoxModel",
            "_view_count": null,
            "_view_module": "@jupyter-widgets/controls",
            "_view_module_version": "1.5.0",
            "_view_name": "HBoxView",
            "box_style": "",
            "children": [
              "IPY_MODEL_77eb4bd86c3447f3ad4e33a17e445cae",
              "IPY_MODEL_4d4075199ae4427bb72734a4555b40f9"
            ],
            "layout": "IPY_MODEL_a8db9b81340a4ad2b674dc3f019a886d"
          }
        },
        "77eb4bd86c3447f3ad4e33a17e445cae": {
          "model_module": "@jupyter-widgets/controls",
          "model_name": "FloatProgressModel",
          "state": {
            "_dom_classes": [],
            "_model_module": "@jupyter-widgets/controls",
            "_model_module_version": "1.5.0",
            "_model_name": "FloatProgressModel",
            "_view_count": null,
            "_view_module": "@jupyter-widgets/controls",
            "_view_module_version": "1.5.0",
            "_view_name": "ProgressView",
            "bar_style": "",
            "description": " 33%",
            "description_tooltip": null,
            "layout": "IPY_MODEL_1a0ad296fca84bf98b4c7456decd8bc0",
            "max": 4500,
            "min": 0,
            "orientation": "horizontal",
            "style": "IPY_MODEL_c9d37d5e5e38427097d7f87c20fad771",
            "value": 1484
          }
        },
        "4d4075199ae4427bb72734a4555b40f9": {
          "model_module": "@jupyter-widgets/controls",
          "model_name": "HTMLModel",
          "state": {
            "_dom_classes": [],
            "_model_module": "@jupyter-widgets/controls",
            "_model_module_version": "1.5.0",
            "_model_name": "HTMLModel",
            "_view_count": null,
            "_view_module": "@jupyter-widgets/controls",
            "_view_module_version": "1.5.0",
            "_view_name": "HTMLView",
            "description": "",
            "description_tooltip": null,
            "layout": "IPY_MODEL_2ab877f5bc41417fba9115bdd3ce9a54",
            "placeholder": "​",
            "style": "IPY_MODEL_0ca235748a9c4847a8b6314f48d0eeb4",
            "value": " 1484/4500 [05:21&lt;09:35,  5.24it/s]"
          }
        },
        "a8db9b81340a4ad2b674dc3f019a886d": {
          "model_module": "@jupyter-widgets/base",
          "model_name": "LayoutModel",
          "state": {
            "_model_module": "@jupyter-widgets/base",
            "_model_module_version": "1.2.0",
            "_model_name": "LayoutModel",
            "_view_count": null,
            "_view_module": "@jupyter-widgets/base",
            "_view_module_version": "1.2.0",
            "_view_name": "LayoutView",
            "align_content": null,
            "align_items": null,
            "align_self": null,
            "border": null,
            "bottom": null,
            "display": null,
            "flex": null,
            "flex_flow": null,
            "grid_area": null,
            "grid_auto_columns": null,
            "grid_auto_flow": null,
            "grid_auto_rows": null,
            "grid_column": null,
            "grid_gap": null,
            "grid_row": null,
            "grid_template_areas": null,
            "grid_template_columns": null,
            "grid_template_rows": null,
            "height": null,
            "justify_content": null,
            "justify_items": null,
            "left": null,
            "margin": null,
            "max_height": null,
            "max_width": null,
            "min_height": null,
            "min_width": null,
            "object_fit": null,
            "object_position": null,
            "order": null,
            "overflow": null,
            "overflow_x": null,
            "overflow_y": null,
            "padding": null,
            "right": null,
            "top": null,
            "visibility": null,
            "width": null
          }
        },
        "1a0ad296fca84bf98b4c7456decd8bc0": {
          "model_module": "@jupyter-widgets/base",
          "model_name": "LayoutModel",
          "state": {
            "_model_module": "@jupyter-widgets/base",
            "_model_module_version": "1.2.0",
            "_model_name": "LayoutModel",
            "_view_count": null,
            "_view_module": "@jupyter-widgets/base",
            "_view_module_version": "1.2.0",
            "_view_name": "LayoutView",
            "align_content": null,
            "align_items": null,
            "align_self": null,
            "border": null,
            "bottom": null,
            "display": null,
            "flex": null,
            "flex_flow": null,
            "grid_area": null,
            "grid_auto_columns": null,
            "grid_auto_flow": null,
            "grid_auto_rows": null,
            "grid_column": null,
            "grid_gap": null,
            "grid_row": null,
            "grid_template_areas": null,
            "grid_template_columns": null,
            "grid_template_rows": null,
            "height": null,
            "justify_content": null,
            "justify_items": null,
            "left": null,
            "margin": null,
            "max_height": null,
            "max_width": null,
            "min_height": null,
            "min_width": null,
            "object_fit": null,
            "object_position": null,
            "order": null,
            "overflow": null,
            "overflow_x": null,
            "overflow_y": null,
            "padding": null,
            "right": null,
            "top": null,
            "visibility": null,
            "width": null
          }
        },
        "c9d37d5e5e38427097d7f87c20fad771": {
          "model_module": "@jupyter-widgets/controls",
          "model_name": "ProgressStyleModel",
          "state": {
            "_model_module": "@jupyter-widgets/controls",
            "_model_module_version": "1.5.0",
            "_model_name": "ProgressStyleModel",
            "_view_count": null,
            "_view_module": "@jupyter-widgets/base",
            "_view_module_version": "1.2.0",
            "_view_name": "StyleView",
            "bar_color": null,
            "description_width": "initial"
          }
        },
        "2ab877f5bc41417fba9115bdd3ce9a54": {
          "model_module": "@jupyter-widgets/base",
          "model_name": "LayoutModel",
          "state": {
            "_model_module": "@jupyter-widgets/base",
            "_model_module_version": "1.2.0",
            "_model_name": "LayoutModel",
            "_view_count": null,
            "_view_module": "@jupyter-widgets/base",
            "_view_module_version": "1.2.0",
            "_view_name": "LayoutView",
            "align_content": null,
            "align_items": null,
            "align_self": null,
            "border": null,
            "bottom": null,
            "display": null,
            "flex": null,
            "flex_flow": null,
            "grid_area": null,
            "grid_auto_columns": null,
            "grid_auto_flow": null,
            "grid_auto_rows": null,
            "grid_column": null,
            "grid_gap": null,
            "grid_row": null,
            "grid_template_areas": null,
            "grid_template_columns": null,
            "grid_template_rows": null,
            "height": null,
            "justify_content": null,
            "justify_items": null,
            "left": null,
            "margin": null,
            "max_height": null,
            "max_width": null,
            "min_height": null,
            "min_width": null,
            "object_fit": null,
            "object_position": null,
            "order": null,
            "overflow": null,
            "overflow_x": null,
            "overflow_y": null,
            "padding": null,
            "right": null,
            "top": null,
            "visibility": null,
            "width": null
          }
        },
        "0ca235748a9c4847a8b6314f48d0eeb4": {
          "model_module": "@jupyter-widgets/controls",
          "model_name": "DescriptionStyleModel",
          "state": {
            "_model_module": "@jupyter-widgets/controls",
            "_model_module_version": "1.5.0",
            "_model_name": "DescriptionStyleModel",
            "_view_count": null,
            "_view_module": "@jupyter-widgets/base",
            "_view_module_version": "1.2.0",
            "_view_name": "StyleView",
            "description_width": ""
          }
        }
      }
    }
  },
  "cells": [
    {
      "cell_type": "markdown",
      "metadata": {
        "id": "view-in-github",
        "colab_type": "text"
      },
      "source": [
        "<a href=\"https://colab.research.google.com/github/ehsanbarkhordar/Bank-Customer-Clustering-By-Transactions/blob/main/Czech_customer_segmentation.ipynb\" target=\"_parent\"><img src=\"https://colab.research.google.com/assets/colab-badge.svg\" alt=\"Open In Colab\"/></a>"
      ]
    },
    {
      "cell_type": "code",
      "metadata": {
        "colab": {
          "base_uri": "https://localhost:8080/"
        },
        "id": "HhWqg8jzLY7P",
        "outputId": "b28b128b-0393-4f12-e352-022e10f08eca"
      },
      "source": [
        "from google.colab import drive\n",
        "drive.mount('/content/gdrive', force_remount=False)"
      ],
      "execution_count": 5,
      "outputs": [
        {
          "output_type": "stream",
          "text": [
            "Drive already mounted at /content/gdrive; to attempt to forcibly remount, call drive.mount(\"/content/gdrive\", force_remount=True).\n"
          ],
          "name": "stdout"
        }
      ]
    },
    {
      "cell_type": "code",
      "metadata": {
        "id": "y4HcraYVIh7j"
      },
      "source": [
        "from numpy import array\n",
        "from sklearn.model_selection import train_test_split\n",
        "from keras.preprocessing.text import one_hot\n",
        "from keras.preprocessing.sequence import pad_sequences\n",
        "from keras.models import Sequential\n",
        "from keras.layers.core import Activation, Dropout, Dense\n",
        "from keras.layers import GlobalMaxPooling1D\n",
        "from keras.models import Model\n",
        "from keras.layers.embeddings import Embedding\n",
        "from keras.preprocessing.text import Tokenizer\n",
        "from keras.layers import Input\n",
        "from keras.layers.merge import Concatenate\n",
        "from keras.layers import Bidirectional\n",
        "from keras.models import Sequential, Model\n",
        "from keras.layers import Dense, GRU, Input, Embedding, TimeDistributed, Dropout, Bidirectional, Concatenate\n",
        "from keras.layers.advanced_activations import PReLU, LeakyReLU\n",
        "from keras.optimizers import SGD\n",
        "from tensorflow.keras.utils import plot_model\n",
        "from tensorflow import feature_column\n",
        "from tensorflow.keras import layers\n",
        "\n",
        "import pandas as pd\n",
        "import numpy as np\n",
        "import tensorflow as tf\n",
        "import matplotlib.pyplot as plt\n"
      ],
      "execution_count": 6,
      "outputs": []
    },
    {
      "cell_type": "code",
      "metadata": {
        "colab": {
          "base_uri": "https://localhost:8080/"
        },
        "id": "BpBu0uxjL_kg",
        "outputId": "f8874f09-2140-4964-cf3b-1411a5ee51e1"
      },
      "source": [
        "from os import listdir\n",
        "from os.path import isfile, join\n",
        "dataset_path='/content/gdrive/MyDrive/lpetrocelli-retail-banking-demo-data/'\n",
        "onlyfiles = [f for f in listdir(dataset_path) if isfile(join(dataset_path, f))]\n",
        "onlyfiles"
      ],
      "execution_count": 7,
      "outputs": [
        {
          "output_type": "execute_result",
          "data": {
            "text/plain": [
              "['CRM Call Center Logs.csv',\n",
              " 'CRM Events.csv',\n",
              " 'completedcard.csv',\n",
              " 'LuxuryLoanPortfolio.csv',\n",
              " 'completedorder.csv',\n",
              " 'completedloan.csv',\n",
              " 'completedclient.csv',\n",
              " 'completedacct.csv',\n",
              " 'completedtrans.csv',\n",
              " 'completeddistrict.csv',\n",
              " 'CRM Reviews.csv',\n",
              " 'completeddisposition.csv']"
            ]
          },
          "metadata": {
            "tags": []
          },
          "execution_count": 7
        }
      ]
    },
    {
      "cell_type": "code",
      "metadata": {
        "colab": {
          "base_uri": "https://localhost:8080/"
        },
        "id": "tNZMfeKELyuW",
        "outputId": "af88f2ab-4c54-408a-8c83-f3b579443505"
      },
      "source": [
        "# Import Clients\n",
        "df_clients = pd.read_csv(dataset_path+'completedclient.csv', index_col=[0], low_memory=False)\n",
        "# Import Transactions\n",
        "df_trans = pd.read_csv(dataset_path+'completedtrans.csv', index_col=[0], low_memory=False)\n",
        "# Import Positions\n",
        "df_positions = pd.read_csv(dataset_path+'completeddisposition.csv', index_col=[0], low_memory=False)"
      ],
      "execution_count": 8,
      "outputs": [
        {
          "output_type": "stream",
          "text": [
            "/usr/local/lib/python3.6/dist-packages/numpy/lib/arraysetops.py:580: FutureWarning: elementwise comparison failed; returning scalar instead, but in the future will perform elementwise comparison\n",
            "  mask |= (ar1 == a)\n"
          ],
          "name": "stderr"
        }
      ]
    },
    {
      "cell_type": "code",
      "metadata": {
        "id": "qzilNdSENJ2n"
      },
      "source": [
        "df_clients = df_clients.join(df_positions.set_index('client_id'), on='client_id')"
      ],
      "execution_count": 9,
      "outputs": []
    },
    {
      "cell_type": "code",
      "metadata": {
        "colab": {
          "base_uri": "https://localhost:8080/",
          "height": 736
        },
        "id": "WL0tSPASQ-6h",
        "outputId": "25dc34f2-38e1-455b-f1e2-5295da7d884c"
      },
      "source": [
        "df_clients"
      ],
      "execution_count": 10,
      "outputs": [
        {
          "output_type": "execute_result",
          "data": {
            "text/html": [
              "<div>\n",
              "<style scoped>\n",
              "    .dataframe tbody tr th:only-of-type {\n",
              "        vertical-align: middle;\n",
              "    }\n",
              "\n",
              "    .dataframe tbody tr th {\n",
              "        vertical-align: top;\n",
              "    }\n",
              "\n",
              "    .dataframe thead th {\n",
              "        text-align: right;\n",
              "    }\n",
              "</style>\n",
              "<table border=\"1\" class=\"dataframe\">\n",
              "  <thead>\n",
              "    <tr style=\"text-align: right;\">\n",
              "      <th></th>\n",
              "      <th>sex</th>\n",
              "      <th>fulldate</th>\n",
              "      <th>day</th>\n",
              "      <th>month</th>\n",
              "      <th>year</th>\n",
              "      <th>age</th>\n",
              "      <th>social</th>\n",
              "      <th>first</th>\n",
              "      <th>middle</th>\n",
              "      <th>last</th>\n",
              "      <th>phone</th>\n",
              "      <th>email</th>\n",
              "      <th>address_1</th>\n",
              "      <th>address_2</th>\n",
              "      <th>city</th>\n",
              "      <th>state</th>\n",
              "      <th>zipcode</th>\n",
              "      <th>district_id</th>\n",
              "      <th>account_id</th>\n",
              "      <th>type</th>\n",
              "    </tr>\n",
              "    <tr>\n",
              "      <th>client_id</th>\n",
              "      <th></th>\n",
              "      <th></th>\n",
              "      <th></th>\n",
              "      <th></th>\n",
              "      <th></th>\n",
              "      <th></th>\n",
              "      <th></th>\n",
              "      <th></th>\n",
              "      <th></th>\n",
              "      <th></th>\n",
              "      <th></th>\n",
              "      <th></th>\n",
              "      <th></th>\n",
              "      <th></th>\n",
              "      <th></th>\n",
              "      <th></th>\n",
              "      <th></th>\n",
              "      <th></th>\n",
              "      <th></th>\n",
              "      <th></th>\n",
              "    </tr>\n",
              "  </thead>\n",
              "  <tbody>\n",
              "    <tr>\n",
              "      <th>C00000001</th>\n",
              "      <td>Female</td>\n",
              "      <td>1990-12-13</td>\n",
              "      <td>13</td>\n",
              "      <td>12</td>\n",
              "      <td>1990</td>\n",
              "      <td>29</td>\n",
              "      <td>926-93-2157</td>\n",
              "      <td>Emma</td>\n",
              "      <td>Avaya</td>\n",
              "      <td>Smith</td>\n",
              "      <td>367-171-6840</td>\n",
              "      <td>emma.smith@gmail.com</td>\n",
              "      <td>387 Wellington Ave.</td>\n",
              "      <td>Unit 1</td>\n",
              "      <td>Albuquerque</td>\n",
              "      <td>NM</td>\n",
              "      <td>47246</td>\n",
              "      <td>18</td>\n",
              "      <td>A00000001</td>\n",
              "      <td>Owner</td>\n",
              "    </tr>\n",
              "    <tr>\n",
              "      <th>C00000002</th>\n",
              "      <td>Male</td>\n",
              "      <td>1965-02-04</td>\n",
              "      <td>4</td>\n",
              "      <td>2</td>\n",
              "      <td>1965</td>\n",
              "      <td>54</td>\n",
              "      <td>806-94-5725</td>\n",
              "      <td>Noah</td>\n",
              "      <td>Everest</td>\n",
              "      <td>Thompson</td>\n",
              "      <td>212-423-7734</td>\n",
              "      <td>noah.thompson@gmail.com</td>\n",
              "      <td>75 W. Berkshire St.</td>\n",
              "      <td>NaN</td>\n",
              "      <td>New York City</td>\n",
              "      <td>NY</td>\n",
              "      <td>10040</td>\n",
              "      <td>1</td>\n",
              "      <td>A00000002</td>\n",
              "      <td>Owner</td>\n",
              "    </tr>\n",
              "    <tr>\n",
              "      <th>C00000003</th>\n",
              "      <td>Female</td>\n",
              "      <td>1960-10-09</td>\n",
              "      <td>9</td>\n",
              "      <td>10</td>\n",
              "      <td>1960</td>\n",
              "      <td>59</td>\n",
              "      <td>614-70-9100</td>\n",
              "      <td>Olivia</td>\n",
              "      <td>Brooklynne</td>\n",
              "      <td>Johnson</td>\n",
              "      <td>212-425-6932</td>\n",
              "      <td>olivia.johnson@outlook.com</td>\n",
              "      <td>36 Second St.</td>\n",
              "      <td>NaN</td>\n",
              "      <td>New York City</td>\n",
              "      <td>NY</td>\n",
              "      <td>10162</td>\n",
              "      <td>1</td>\n",
              "      <td>A00000002</td>\n",
              "      <td>User</td>\n",
              "    </tr>\n",
              "    <tr>\n",
              "      <th>C00000004</th>\n",
              "      <td>Male</td>\n",
              "      <td>1976-12-01</td>\n",
              "      <td>1</td>\n",
              "      <td>12</td>\n",
              "      <td>1976</td>\n",
              "      <td>43</td>\n",
              "      <td>580-20-3414</td>\n",
              "      <td>Liam</td>\n",
              "      <td>Irvin</td>\n",
              "      <td>White</td>\n",
              "      <td>951-567-8925</td>\n",
              "      <td>liam.white@gmail.com</td>\n",
              "      <td>7607 Sunnyslope Street</td>\n",
              "      <td>NaN</td>\n",
              "      <td>Indianapolis</td>\n",
              "      <td>IN</td>\n",
              "      <td>49047</td>\n",
              "      <td>5</td>\n",
              "      <td>A00000003</td>\n",
              "      <td>Owner</td>\n",
              "    </tr>\n",
              "    <tr>\n",
              "      <th>C00000005</th>\n",
              "      <td>Female</td>\n",
              "      <td>1980-07-03</td>\n",
              "      <td>3</td>\n",
              "      <td>7</td>\n",
              "      <td>1980</td>\n",
              "      <td>39</td>\n",
              "      <td>536-14-5809</td>\n",
              "      <td>Sophia</td>\n",
              "      <td>Danae</td>\n",
              "      <td>Williams</td>\n",
              "      <td>428-265-1568</td>\n",
              "      <td>sophia.williams@gmail.com</td>\n",
              "      <td>755 Galvin Street</td>\n",
              "      <td>NaN</td>\n",
              "      <td>Indianapolis</td>\n",
              "      <td>IN</td>\n",
              "      <td>40852</td>\n",
              "      <td>5</td>\n",
              "      <td>A00000003</td>\n",
              "      <td>User</td>\n",
              "    </tr>\n",
              "    <tr>\n",
              "      <th>...</th>\n",
              "      <td>...</td>\n",
              "      <td>...</td>\n",
              "      <td>...</td>\n",
              "      <td>...</td>\n",
              "      <td>...</td>\n",
              "      <td>...</td>\n",
              "      <td>...</td>\n",
              "      <td>...</td>\n",
              "      <td>...</td>\n",
              "      <td>...</td>\n",
              "      <td>...</td>\n",
              "      <td>...</td>\n",
              "      <td>...</td>\n",
              "      <td>...</td>\n",
              "      <td>...</td>\n",
              "      <td>...</td>\n",
              "      <td>...</td>\n",
              "      <td>...</td>\n",
              "      <td>...</td>\n",
              "      <td>...</td>\n",
              "    </tr>\n",
              "    <tr>\n",
              "      <th>C00013955</th>\n",
              "      <td>Female</td>\n",
              "      <td>1965-10-30</td>\n",
              "      <td>30</td>\n",
              "      <td>10</td>\n",
              "      <td>1965</td>\n",
              "      <td>54</td>\n",
              "      <td>830-38-3530</td>\n",
              "      <td>Adrianna</td>\n",
              "      <td>Jillian</td>\n",
              "      <td>Moore</td>\n",
              "      <td>212-205-7422</td>\n",
              "      <td>adrianna.moore@outlook.com</td>\n",
              "      <td>9405 SW. Leeton Ridge Drive</td>\n",
              "      <td>NaN</td>\n",
              "      <td>New York City</td>\n",
              "      <td>NY</td>\n",
              "      <td>10121</td>\n",
              "      <td>1</td>\n",
              "      <td>A00011349</td>\n",
              "      <td>Owner</td>\n",
              "    </tr>\n",
              "    <tr>\n",
              "      <th>C00013956</th>\n",
              "      <td>Male</td>\n",
              "      <td>1963-04-06</td>\n",
              "      <td>6</td>\n",
              "      <td>4</td>\n",
              "      <td>1963</td>\n",
              "      <td>56</td>\n",
              "      <td>773-25-4409</td>\n",
              "      <td>Aaron</td>\n",
              "      <td>Roman</td>\n",
              "      <td>Park</td>\n",
              "      <td>212-645-8820</td>\n",
              "      <td>aaron.park@gmail.com</td>\n",
              "      <td>7021 Chapel Ave.</td>\n",
              "      <td>NaN</td>\n",
              "      <td>New York City</td>\n",
              "      <td>NY</td>\n",
              "      <td>10118</td>\n",
              "      <td>1</td>\n",
              "      <td>A00011349</td>\n",
              "      <td>User</td>\n",
              "    </tr>\n",
              "    <tr>\n",
              "      <th>C00013968</th>\n",
              "      <td>Male</td>\n",
              "      <td>1988-04-13</td>\n",
              "      <td>13</td>\n",
              "      <td>4</td>\n",
              "      <td>1988</td>\n",
              "      <td>31</td>\n",
              "      <td>227-17-0778</td>\n",
              "      <td>Eli</td>\n",
              "      <td>Leonardo</td>\n",
              "      <td>Warner</td>\n",
              "      <td>508-465-5164</td>\n",
              "      <td>eli.warner@hotmail.com</td>\n",
              "      <td>43 Edgemont Dr.</td>\n",
              "      <td>NaN</td>\n",
              "      <td>Fall River</td>\n",
              "      <td>MA</td>\n",
              "      <td>2721</td>\n",
              "      <td>61</td>\n",
              "      <td>A00011359</td>\n",
              "      <td>Owner</td>\n",
              "    </tr>\n",
              "    <tr>\n",
              "      <th>C00013971</th>\n",
              "      <td>Female</td>\n",
              "      <td>1982-10-19</td>\n",
              "      <td>19</td>\n",
              "      <td>10</td>\n",
              "      <td>1982</td>\n",
              "      <td>37</td>\n",
              "      <td>278-77-3298</td>\n",
              "      <td>Ruth</td>\n",
              "      <td>Joy</td>\n",
              "      <td>Martin</td>\n",
              "      <td>856-636-3840</td>\n",
              "      <td>ruth.martin@gmail.com</td>\n",
              "      <td>7087 E. Pennsylvania Street</td>\n",
              "      <td>Unit 8</td>\n",
              "      <td>Danbury</td>\n",
              "      <td>CT</td>\n",
              "      <td>48475</td>\n",
              "      <td>67</td>\n",
              "      <td>A00011362</td>\n",
              "      <td>Owner</td>\n",
              "    </tr>\n",
              "    <tr>\n",
              "      <th>C00013998</th>\n",
              "      <td>Female</td>\n",
              "      <td>1973-08-12</td>\n",
              "      <td>12</td>\n",
              "      <td>8</td>\n",
              "      <td>1973</td>\n",
              "      <td>46</td>\n",
              "      <td>266-21-2541</td>\n",
              "      <td>Miriam</td>\n",
              "      <td>Abby</td>\n",
              "      <td>Jackson</td>\n",
              "      <td>431-633-5403</td>\n",
              "      <td>miriam.jackson@gmail.com</td>\n",
              "      <td>29 Buckingham Rd.</td>\n",
              "      <td>NaN</td>\n",
              "      <td>Chicago</td>\n",
              "      <td>IL</td>\n",
              "      <td>44244</td>\n",
              "      <td>74</td>\n",
              "      <td>A00011382</td>\n",
              "      <td>Owner</td>\n",
              "    </tr>\n",
              "  </tbody>\n",
              "</table>\n",
              "<p>5369 rows × 20 columns</p>\n",
              "</div>"
            ],
            "text/plain": [
              "              sex    fulldate  day  ...  district_id  account_id   type\n",
              "client_id                           ...                                \n",
              "C00000001  Female  1990-12-13   13  ...           18   A00000001  Owner\n",
              "C00000002    Male  1965-02-04    4  ...            1   A00000002  Owner\n",
              "C00000003  Female  1960-10-09    9  ...            1   A00000002   User\n",
              "C00000004    Male  1976-12-01    1  ...            5   A00000003  Owner\n",
              "C00000005  Female  1980-07-03    3  ...            5   A00000003   User\n",
              "...           ...         ...  ...  ...          ...         ...    ...\n",
              "C00013955  Female  1965-10-30   30  ...            1   A00011349  Owner\n",
              "C00013956    Male  1963-04-06    6  ...            1   A00011349   User\n",
              "C00013968    Male  1988-04-13   13  ...           61   A00011359  Owner\n",
              "C00013971  Female  1982-10-19   19  ...           67   A00011362  Owner\n",
              "C00013998  Female  1973-08-12   12  ...           74   A00011382  Owner\n",
              "\n",
              "[5369 rows x 20 columns]"
            ]
          },
          "metadata": {
            "tags": []
          },
          "execution_count": 10
        }
      ]
    },
    {
      "cell_type": "code",
      "metadata": {
        "colab": {
          "base_uri": "https://localhost:8080/",
          "height": 455
        },
        "id": "3-8u8oUzP3_c",
        "outputId": "3c35a9a6-f302-4cd4-ea35-eaa055b96553"
      },
      "source": [
        "df_clients[['account_id','sex','age','zipcode']]"
      ],
      "execution_count": 81,
      "outputs": [
        {
          "output_type": "execute_result",
          "data": {
            "text/html": [
              "<div>\n",
              "<style scoped>\n",
              "    .dataframe tbody tr th:only-of-type {\n",
              "        vertical-align: middle;\n",
              "    }\n",
              "\n",
              "    .dataframe tbody tr th {\n",
              "        vertical-align: top;\n",
              "    }\n",
              "\n",
              "    .dataframe thead th {\n",
              "        text-align: right;\n",
              "    }\n",
              "</style>\n",
              "<table border=\"1\" class=\"dataframe\">\n",
              "  <thead>\n",
              "    <tr style=\"text-align: right;\">\n",
              "      <th></th>\n",
              "      <th>account_id</th>\n",
              "      <th>sex</th>\n",
              "      <th>age</th>\n",
              "      <th>zipcode</th>\n",
              "    </tr>\n",
              "    <tr>\n",
              "      <th>client_id</th>\n",
              "      <th></th>\n",
              "      <th></th>\n",
              "      <th></th>\n",
              "      <th></th>\n",
              "    </tr>\n",
              "  </thead>\n",
              "  <tbody>\n",
              "    <tr>\n",
              "      <th>C00000001</th>\n",
              "      <td>A00000001</td>\n",
              "      <td>Female</td>\n",
              "      <td>29</td>\n",
              "      <td>47246</td>\n",
              "    </tr>\n",
              "    <tr>\n",
              "      <th>C00000002</th>\n",
              "      <td>A00000002</td>\n",
              "      <td>Male</td>\n",
              "      <td>54</td>\n",
              "      <td>10040</td>\n",
              "    </tr>\n",
              "    <tr>\n",
              "      <th>C00000003</th>\n",
              "      <td>A00000002</td>\n",
              "      <td>Female</td>\n",
              "      <td>59</td>\n",
              "      <td>10162</td>\n",
              "    </tr>\n",
              "    <tr>\n",
              "      <th>C00000004</th>\n",
              "      <td>A00000003</td>\n",
              "      <td>Male</td>\n",
              "      <td>43</td>\n",
              "      <td>49047</td>\n",
              "    </tr>\n",
              "    <tr>\n",
              "      <th>C00000005</th>\n",
              "      <td>A00000003</td>\n",
              "      <td>Female</td>\n",
              "      <td>39</td>\n",
              "      <td>40852</td>\n",
              "    </tr>\n",
              "    <tr>\n",
              "      <th>...</th>\n",
              "      <td>...</td>\n",
              "      <td>...</td>\n",
              "      <td>...</td>\n",
              "      <td>...</td>\n",
              "    </tr>\n",
              "    <tr>\n",
              "      <th>C00013955</th>\n",
              "      <td>A00011349</td>\n",
              "      <td>Female</td>\n",
              "      <td>54</td>\n",
              "      <td>10121</td>\n",
              "    </tr>\n",
              "    <tr>\n",
              "      <th>C00013956</th>\n",
              "      <td>A00011349</td>\n",
              "      <td>Male</td>\n",
              "      <td>56</td>\n",
              "      <td>10118</td>\n",
              "    </tr>\n",
              "    <tr>\n",
              "      <th>C00013968</th>\n",
              "      <td>A00011359</td>\n",
              "      <td>Male</td>\n",
              "      <td>31</td>\n",
              "      <td>2721</td>\n",
              "    </tr>\n",
              "    <tr>\n",
              "      <th>C00013971</th>\n",
              "      <td>A00011362</td>\n",
              "      <td>Female</td>\n",
              "      <td>37</td>\n",
              "      <td>48475</td>\n",
              "    </tr>\n",
              "    <tr>\n",
              "      <th>C00013998</th>\n",
              "      <td>A00011382</td>\n",
              "      <td>Female</td>\n",
              "      <td>46</td>\n",
              "      <td>44244</td>\n",
              "    </tr>\n",
              "  </tbody>\n",
              "</table>\n",
              "<p>5369 rows × 4 columns</p>\n",
              "</div>"
            ],
            "text/plain": [
              "          account_id     sex  age  zipcode\n",
              "client_id                                 \n",
              "C00000001  A00000001  Female   29    47246\n",
              "C00000002  A00000002    Male   54    10040\n",
              "C00000003  A00000002  Female   59    10162\n",
              "C00000004  A00000003    Male   43    49047\n",
              "C00000005  A00000003  Female   39    40852\n",
              "...              ...     ...  ...      ...\n",
              "C00013955  A00011349  Female   54    10121\n",
              "C00013956  A00011349    Male   56    10118\n",
              "C00013968  A00011359    Male   31     2721\n",
              "C00013971  A00011362  Female   37    48475\n",
              "C00013998  A00011382  Female   46    44244\n",
              "\n",
              "[5369 rows x 4 columns]"
            ]
          },
          "metadata": {
            "tags": []
          },
          "execution_count": 81
        }
      ]
    },
    {
      "cell_type": "code",
      "metadata": {
        "colab": {
          "base_uri": "https://localhost:8080/"
        },
        "id": "B8OICLIhSkXh",
        "outputId": "c5e64cb0-3dfe-4b99-972b-ebae444a7365"
      },
      "source": [
        "zip_set=set(df_clients['zipcode'])\n",
        "zip_list=list(df_clients['zipcode'])\n",
        "print(\"all zip codes in dataset: \",len(zip_list))\n",
        "print(\"unique zip codes in dataset: \",len(zip_set))"
      ],
      "execution_count": 82,
      "outputs": [
        {
          "output_type": "stream",
          "text": [
            "all zip codes in dataset:  5369\n",
            "unique zip codes in dataset:  3512\n"
          ],
          "name": "stdout"
        }
      ]
    },
    {
      "cell_type": "code",
      "metadata": {
        "id": "6HnrmkE5KmJj"
      },
      "source": [
        "df_clients_onehot = pd.DataFrame()"
      ],
      "execution_count": 91,
      "outputs": []
    },
    {
      "cell_type": "code",
      "metadata": {
        "id": "EZt602FzLXqh"
      },
      "source": [
        "df_clients_onehot['account_id']=df_clients['account_id']"
      ],
      "execution_count": 92,
      "outputs": []
    },
    {
      "cell_type": "code",
      "metadata": {
        "id": "092zrxcH8VWi"
      },
      "source": [
        "# # encode sex to binary\n",
        "# sex_dict={'Female': ,'Male':1}\n",
        "# df_clients_onehot = pd.DataFrame()\n",
        "# df_clients_onehot['sex'] = df_clients['sex'].apply(lambda x: [sex_dict.get(x)])"
      ],
      "execution_count": 93,
      "outputs": []
    },
    {
      "cell_type": "code",
      "metadata": {
        "colab": {
          "base_uri": "https://localhost:8080/"
        },
        "id": "5VeevkB0Kubm",
        "outputId": "39ff3da7-2525-42a3-be37-a92944739890"
      },
      "source": [
        "data=list(df_clients['sex'])\n",
        "values = array(data)\n",
        "print(values)\n",
        "# integer encode\n",
        "label_encoder = LabelEncoder()\n",
        "integer_encoded = label_encoder.fit_transform(values)\n",
        "print(integer_encoded)\n",
        "# binary encode\n",
        "onehot_encoder = OneHotEncoder(sparse=False)\n",
        "integer_encoded = integer_encoded.reshape(len(integer_encoded), 1)\n",
        "onehot_encoded = onehot_encoder.fit_transform(integer_encoded)\n",
        "print(\"shape of sex onehot_encoded: \",onehot_encoded.shape)\n",
        "df_clients_onehot['sex'] = onehot_encoded.tolist()"
      ],
      "execution_count": 94,
      "outputs": [
        {
          "output_type": "stream",
          "text": [
            "['Female' 'Male' 'Female' ... 'Male' 'Female' 'Female']\n",
            "[0 1 0 ... 1 0 0]\n",
            "shape of sex onehot_encoded:  (5369, 2)\n"
          ],
          "name": "stdout"
        }
      ]
    },
    {
      "cell_type": "code",
      "metadata": {
        "colab": {
          "base_uri": "https://localhost:8080/"
        },
        "id": "5xEpJSldE9S6",
        "outputId": "a4680151-8367-458c-d5ed-c7087a151204"
      },
      "source": [
        "data=list(df_clients['age'])\n",
        "values = array(data)\n",
        "print(values)\n",
        "# integer encode\n",
        "label_encoder = LabelEncoder()\n",
        "integer_encoded = label_encoder.fit_transform(values)\n",
        "print(integer_encoded)\n",
        "# binary encode\n",
        "onehot_encoder = OneHotEncoder(sparse=False)\n",
        "integer_encoded = integer_encoded.reshape(len(integer_encoded), 1)\n",
        "onehot_encoded = onehot_encoder.fit_transform(integer_encoded)\n",
        "print(\"shape of age onehot_encoded: \",onehot_encoded.shape)\n",
        "df_clients_onehot['age'] = onehot_encoded.tolist()"
      ],
      "execution_count": 95,
      "outputs": [
        {
          "output_type": "stream",
          "text": [
            "[29 54 59 ... 31 37 46]\n",
            "[17 42 47 ... 19 25 34]\n",
            "shape of age onehot_encoded:  (5369, 77)\n"
          ],
          "name": "stdout"
        }
      ]
    },
    {
      "cell_type": "code",
      "metadata": {
        "colab": {
          "base_uri": "https://localhost:8080/"
        },
        "id": "C4qe3rZSKGbd",
        "outputId": "abe9689f-3181-4298-d30e-0441f32367f0"
      },
      "source": [
        "data=list(df_clients['zipcode'])\n",
        "values = array(data)\n",
        "print(values)\n",
        "# integer encode\n",
        "label_encoder = LabelEncoder()\n",
        "integer_encoded = label_encoder.fit_transform(values)\n",
        "print(integer_encoded)\n",
        "# binary encode\n",
        "onehot_encoder = OneHotEncoder(sparse=False)\n",
        "integer_encoded = integer_encoded.reshape(len(integer_encoded), 1)\n",
        "onehot_encoded = onehot_encoder.fit_transform(integer_encoded)\n",
        "print(\"shape of zipcode onehot_encoded: \",onehot_encoded.shape)\n",
        "df_clients_onehot['zipcode'] = onehot_encoded.tolist()"
      ],
      "execution_count": 96,
      "outputs": [
        {
          "output_type": "stream",
          "text": [
            "[47246 10040 10162 ...  2721 48475 44244]\n",
            "[2625  167  211 ...  118 3049 1677]\n",
            "shape of zipcode onehot_encoded:  (5369, 3512)\n"
          ],
          "name": "stdout"
        }
      ]
    },
    {
      "cell_type": "code",
      "metadata": {
        "id": "ncu4o5yZGCar"
      },
      "source": [
        "df_clients_onehot['static_vecotr'] = df_clients_onehot.apply (lambda row: np.concatenate([row.sex, row.age, row.zipcode]), axis=1"
      ],
      "execution_count": 103,
      "outputs": []
    },
    {
      "cell_type": "code",
      "metadata": {
        "colab": {
          "base_uri": "https://localhost:8080/"
        },
        "id": "pPbwlmN9NxMd",
        "outputId": "b2617a16-cfd8-4472-9e96-46757f66a7b7"
      },
      "source": [
        "print(\"static vector dimention: \",df_clients_onehot.iloc[0]['static_vecotr'].shape)"
      ],
      "execution_count": 111,
      "outputs": [
        {
          "output_type": "stream",
          "text": [
            "static vector dimention:  (3591,)\n"
          ],
          "name": "stdout"
        }
      ]
    },
    {
      "cell_type": "code",
      "metadata": {
        "id": "-Y00Ed6IWbEX"
      },
      "source": [
        ""
      ],
      "execution_count": 111,
      "outputs": []
    },
    {
      "cell_type": "code",
      "metadata": {
        "id": "T_M61lVMD9QF"
      },
      "source": [
        ""
      ],
      "execution_count": 111,
      "outputs": []
    },
    {
      "cell_type": "code",
      "metadata": {
        "id": "s4BnMWylXogF"
      },
      "source": [
        ""
      ],
      "execution_count": 111,
      "outputs": []
    },
    {
      "cell_type": "code",
      "metadata": {
        "id": "LrRHqwczYaSV"
      },
      "source": [
        ""
      ],
      "execution_count": 111,
      "outputs": []
    },
    {
      "cell_type": "code",
      "metadata": {
        "id": "oobmSQ_KTnvc"
      },
      "source": [
        ""
      ],
      "execution_count": 111,
      "outputs": []
    },
    {
      "cell_type": "code",
      "metadata": {
        "id": "0LlJcPrlMw9Y"
      },
      "source": [
        "zip_count=len(list(df_full_client['zipcode']))\n",
        "zip_unique_count=len(set(df_full_client['zipcode']))"
      ],
      "execution_count": null,
      "outputs": []
    },
    {
      "cell_type": "code",
      "metadata": {
        "id": "ZiZr9zbPN4A5",
        "colab": {
          "base_uri": "https://localhost:8080/"
        },
        "outputId": "e75a79f8-2d88-4cb8-9202-266a6918563c"
      },
      "source": [
        ""
      ],
      "execution_count": 18,
      "outputs": [
        {
          "output_type": "stream",
          "text": [
            "zip_set:  3512\n",
            "zip_list:  5369\n"
          ],
          "name": "stdout"
        }
      ]
    },
    {
      "cell_type": "code",
      "metadata": {
        "id": "mxvmQZytNwju"
      },
      "source": [
        "dic_zip={}\n",
        "reveres_dic_zip={}\n",
        "for i,j in enumerate(zip_set):\n",
        "  dic_zip[i]=j\n",
        "  reveres_dic_zip[j]=i\n"
      ],
      "execution_count": null,
      "outputs": []
    },
    {
      "cell_type": "code",
      "metadata": {
        "id": "rx8_Dx0ZR2oP"
      },
      "source": [
        "l = []\n",
        "for i in range(len(df_full_client['zipcode'])):\n",
        "   l.append([reveres_dic_zip[df_full_client['zipcode'][i]]])"
      ],
      "execution_count": null,
      "outputs": []
    },
    {
      "cell_type": "code",
      "metadata": {
        "colab": {
          "base_uri": "https://localhost:8080/"
        },
        "id": "JpidW2veSPaQ",
        "outputId": "24b79448-be31-4ab4-e7e4-8673e876d55e"
      },
      "source": [
        "np.array(l).shape\n",
        "# input for embeding"
      ],
      "execution_count": null,
      "outputs": [
        {
          "output_type": "execute_result",
          "data": {
            "text/plain": [
              "(5369, 1)"
            ]
          },
          "metadata": {
            "tags": []
          },
          "execution_count": 39
        }
      ]
    },
    {
      "cell_type": "code",
      "metadata": {
        "id": "iSNFmMPDOoQU"
      },
      "source": [
        "one_hot_zip=np.zeros((zip_count,len(dic_zip)))\n",
        "for i in range(len(one_hot_zip)):\n",
        "  one_hot_zip [i,reveres_dic_zip[df_full_client['zipcode'][i]]] = 1"
      ],
      "execution_count": null,
      "outputs": []
    },
    {
      "cell_type": "code",
      "metadata": {
        "colab": {
          "base_uri": "https://localhost:8080/"
        },
        "id": "KhUCq8d3QXKb",
        "outputId": "5859152b-e7db-443b-b7fc-e705cd829def"
      },
      "source": [
        "np.argmax(one_hot_zip[0])"
      ],
      "execution_count": null,
      "outputs": [
        {
          "output_type": "execute_result",
          "data": {
            "text/plain": [
              "2527"
            ]
          },
          "metadata": {
            "tags": []
          },
          "execution_count": 28
        }
      ]
    },
    {
      "cell_type": "code",
      "metadata": {
        "colab": {
          "base_uri": "https://localhost:8080/"
        },
        "id": "P2ua5kRXQlUZ",
        "outputId": "595b13ce-4560-4b0a-9565-29506ce26d0c"
      },
      "source": [
        "one_hot_zip.shape"
      ],
      "execution_count": null,
      "outputs": [
        {
          "output_type": "execute_result",
          "data": {
            "text/plain": [
              "(5369, 3512)"
            ]
          },
          "metadata": {
            "tags": []
          },
          "execution_count": 32
        }
      ]
    },
    {
      "cell_type": "code",
      "metadata": {
        "id": "rHpvEpQdhVwN"
      },
      "source": [
        "df_client_normalized=(df_full_client-df_full_client.mean())/df_full_client.std()"
      ],
      "execution_count": null,
      "outputs": []
    },
    {
      "cell_type": "code",
      "metadata": {
        "colab": {
          "base_uri": "https://localhost:8080/"
        },
        "id": "sHUvy6zPPeGm",
        "outputId": "7c5a720a-1b1c-4302-b5f7-6e51dc03b193"
      },
      "source": [
        "df_client_normalized[['sex','age','zipcode']].to_numpy()"
      ],
      "execution_count": null,
      "outputs": [
        {
          "output_type": "execute_result",
          "data": {
            "text/plain": [
              "array([[-1.01472945, -0.9771898 ,  0.77112767],\n",
              "       [ 0.98530081,  0.46898042, -1.3170255 ],\n",
              "       [-1.01472945,  0.75821447, -1.31017836],\n",
              "       ...,\n",
              "       [ 0.98530081, -0.86149618, -1.72779776],\n",
              "       [-1.01472945, -0.51441533,  0.84010419],\n",
              "       [-1.01472945,  0.00620595,  0.60264313]])"
            ]
          },
          "metadata": {
            "tags": []
          },
          "execution_count": 8
        }
      ]
    },
    {
      "cell_type": "code",
      "metadata": {
        "id": "b8-Ka2QtqI7c"
      },
      "source": [
        "# Convert date to python datetime\n",
        "df_trans['fulldate'] = pd.to_datetime(df_trans['fulldate'],format=\"%Y-%m-%d\")\n",
        "df_trans['timestamp'] = df_trans.fulldate.values.astype(np.int64) // 10 ** 9"
      ],
      "execution_count": null,
      "outputs": []
    },
    {
      "cell_type": "code",
      "metadata": {
        "id": "1X7Wm9D9CDwu"
      },
      "source": [
        "def get_dynamic_and_static_vector():\n",
        "  pass"
      ],
      "execution_count": null,
      "outputs": []
    },
    {
      "cell_type": "code",
      "metadata": {
        "colab": {
          "base_uri": "https://localhost:8080/",
          "height": 617
        },
        "id": "zyhgD9xYUeGs",
        "outputId": "a61848a4-64d8-4ce0-9c91-771e65c6827a"
      },
      "source": [
        "df_trans"
      ],
      "execution_count": null,
      "outputs": [
        {
          "output_type": "execute_result",
          "data": {
            "text/html": [
              "<div>\n",
              "<style scoped>\n",
              "    .dataframe tbody tr th:only-of-type {\n",
              "        vertical-align: middle;\n",
              "    }\n",
              "\n",
              "    .dataframe tbody tr th {\n",
              "        vertical-align: top;\n",
              "    }\n",
              "\n",
              "    .dataframe thead th {\n",
              "        text-align: right;\n",
              "    }\n",
              "</style>\n",
              "<table border=\"1\" class=\"dataframe\">\n",
              "  <thead>\n",
              "    <tr style=\"text-align: right;\">\n",
              "      <th></th>\n",
              "      <th>trans_id</th>\n",
              "      <th>account_id</th>\n",
              "      <th>type</th>\n",
              "      <th>operation</th>\n",
              "      <th>amount</th>\n",
              "      <th>balance</th>\n",
              "      <th>k_symbol</th>\n",
              "      <th>bank</th>\n",
              "      <th>account</th>\n",
              "      <th>year</th>\n",
              "      <th>month</th>\n",
              "      <th>day</th>\n",
              "      <th>fulldate</th>\n",
              "      <th>fulltime</th>\n",
              "      <th>fulldatewithtime</th>\n",
              "      <th>timestamp</th>\n",
              "    </tr>\n",
              "  </thead>\n",
              "  <tbody>\n",
              "    <tr>\n",
              "      <th>1</th>\n",
              "      <td>T00695247</td>\n",
              "      <td>A00002378</td>\n",
              "      <td>Credit</td>\n",
              "      <td>Credit in Cash</td>\n",
              "      <td>700.0</td>\n",
              "      <td>700.0</td>\n",
              "      <td>NaN</td>\n",
              "      <td>NaN</td>\n",
              "      <td>NaN</td>\n",
              "      <td>2013</td>\n",
              "      <td>1</td>\n",
              "      <td>1</td>\n",
              "      <td>2013-01-01</td>\n",
              "      <td>11:02:40</td>\n",
              "      <td>2013-01-01T11:02:40</td>\n",
              "      <td>1356998400</td>\n",
              "    </tr>\n",
              "    <tr>\n",
              "      <th>2</th>\n",
              "      <td>T00171812</td>\n",
              "      <td>A00000576</td>\n",
              "      <td>Credit</td>\n",
              "      <td>Credit in Cash</td>\n",
              "      <td>900.0</td>\n",
              "      <td>900.0</td>\n",
              "      <td>NaN</td>\n",
              "      <td>NaN</td>\n",
              "      <td>NaN</td>\n",
              "      <td>2013</td>\n",
              "      <td>1</td>\n",
              "      <td>1</td>\n",
              "      <td>2013-01-01</td>\n",
              "      <td>08:23:33</td>\n",
              "      <td>2013-01-01T08:23:33</td>\n",
              "      <td>1356998400</td>\n",
              "    </tr>\n",
              "    <tr>\n",
              "      <th>3</th>\n",
              "      <td>T00207264</td>\n",
              "      <td>A00000704</td>\n",
              "      <td>Credit</td>\n",
              "      <td>Credit in Cash</td>\n",
              "      <td>1000.0</td>\n",
              "      <td>1000.0</td>\n",
              "      <td>NaN</td>\n",
              "      <td>NaN</td>\n",
              "      <td>NaN</td>\n",
              "      <td>2013</td>\n",
              "      <td>1</td>\n",
              "      <td>1</td>\n",
              "      <td>2013-01-01</td>\n",
              "      <td>15:19:21</td>\n",
              "      <td>2013-01-01T15:19:21</td>\n",
              "      <td>1356998400</td>\n",
              "    </tr>\n",
              "    <tr>\n",
              "      <th>4</th>\n",
              "      <td>T01117247</td>\n",
              "      <td>A00003818</td>\n",
              "      <td>Credit</td>\n",
              "      <td>Credit in Cash</td>\n",
              "      <td>600.0</td>\n",
              "      <td>600.0</td>\n",
              "      <td>NaN</td>\n",
              "      <td>NaN</td>\n",
              "      <td>NaN</td>\n",
              "      <td>2013</td>\n",
              "      <td>1</td>\n",
              "      <td>1</td>\n",
              "      <td>2013-01-01</td>\n",
              "      <td>10:42:35</td>\n",
              "      <td>2013-01-01T10:42:35</td>\n",
              "      <td>1356998400</td>\n",
              "    </tr>\n",
              "    <tr>\n",
              "      <th>5</th>\n",
              "      <td>T00579373</td>\n",
              "      <td>A00001972</td>\n",
              "      <td>Credit</td>\n",
              "      <td>Credit in Cash</td>\n",
              "      <td>400.0</td>\n",
              "      <td>400.0</td>\n",
              "      <td>NaN</td>\n",
              "      <td>NaN</td>\n",
              "      <td>NaN</td>\n",
              "      <td>2013</td>\n",
              "      <td>1</td>\n",
              "      <td>2</td>\n",
              "      <td>2013-01-02</td>\n",
              "      <td>11:39:25</td>\n",
              "      <td>2013-01-02T11:39:25</td>\n",
              "      <td>1357084800</td>\n",
              "    </tr>\n",
              "    <tr>\n",
              "      <th>...</th>\n",
              "      <td>...</td>\n",
              "      <td>...</td>\n",
              "      <td>...</td>\n",
              "      <td>...</td>\n",
              "      <td>...</td>\n",
              "      <td>...</td>\n",
              "      <td>...</td>\n",
              "      <td>...</td>\n",
              "      <td>...</td>\n",
              "      <td>...</td>\n",
              "      <td>...</td>\n",
              "      <td>...</td>\n",
              "      <td>...</td>\n",
              "      <td>...</td>\n",
              "      <td>...</td>\n",
              "      <td>...</td>\n",
              "    </tr>\n",
              "    <tr>\n",
              "      <th>1056316</th>\n",
              "      <td>T03626622</td>\n",
              "      <td>A00002906</td>\n",
              "      <td>Credit</td>\n",
              "      <td>NaN</td>\n",
              "      <td>62.3</td>\n",
              "      <td>13729.4</td>\n",
              "      <td>Interest Credited</td>\n",
              "      <td>NaN</td>\n",
              "      <td>NaN</td>\n",
              "      <td>2018</td>\n",
              "      <td>12</td>\n",
              "      <td>31</td>\n",
              "      <td>2018-12-31</td>\n",
              "      <td>15:18:14</td>\n",
              "      <td>2018-12-31T15:18:14</td>\n",
              "      <td>1546214400</td>\n",
              "    </tr>\n",
              "    <tr>\n",
              "      <th>1056317</th>\n",
              "      <td>T03627616</td>\n",
              "      <td>A00002935</td>\n",
              "      <td>Credit</td>\n",
              "      <td>NaN</td>\n",
              "      <td>81.3</td>\n",
              "      <td>19544.9</td>\n",
              "      <td>Interest Credited</td>\n",
              "      <td>NaN</td>\n",
              "      <td>NaN</td>\n",
              "      <td>2018</td>\n",
              "      <td>12</td>\n",
              "      <td>31</td>\n",
              "      <td>2018-12-31</td>\n",
              "      <td>13:04:60</td>\n",
              "      <td>2018-12-31T13:04:60</td>\n",
              "      <td>1546214400</td>\n",
              "    </tr>\n",
              "    <tr>\n",
              "      <th>1056318</th>\n",
              "      <td>T03625403</td>\n",
              "      <td>A00002869</td>\n",
              "      <td>Credit</td>\n",
              "      <td>NaN</td>\n",
              "      <td>60.2</td>\n",
              "      <td>14638.2</td>\n",
              "      <td>Interest Credited</td>\n",
              "      <td>NaN</td>\n",
              "      <td>NaN</td>\n",
              "      <td>2018</td>\n",
              "      <td>12</td>\n",
              "      <td>31</td>\n",
              "      <td>2018-12-31</td>\n",
              "      <td>08:30:13</td>\n",
              "      <td>2018-12-31T08:30:13</td>\n",
              "      <td>1546214400</td>\n",
              "    </tr>\n",
              "    <tr>\n",
              "      <th>1056319</th>\n",
              "      <td>T03626683</td>\n",
              "      <td>A00002907</td>\n",
              "      <td>Credit</td>\n",
              "      <td>NaN</td>\n",
              "      <td>107.5</td>\n",
              "      <td>23453.0</td>\n",
              "      <td>Interest Credited</td>\n",
              "      <td>NaN</td>\n",
              "      <td>NaN</td>\n",
              "      <td>2018</td>\n",
              "      <td>12</td>\n",
              "      <td>31</td>\n",
              "      <td>2018-12-31</td>\n",
              "      <td>14:45:19</td>\n",
              "      <td>2018-12-31T14:45:19</td>\n",
              "      <td>1546214400</td>\n",
              "    </tr>\n",
              "    <tr>\n",
              "      <th>1056320</th>\n",
              "      <td>T03626540</td>\n",
              "      <td>A00002902</td>\n",
              "      <td>Credit</td>\n",
              "      <td>NaN</td>\n",
              "      <td>164.1</td>\n",
              "      <td>41642.9</td>\n",
              "      <td>Interest Credited</td>\n",
              "      <td>NaN</td>\n",
              "      <td>NaN</td>\n",
              "      <td>2018</td>\n",
              "      <td>12</td>\n",
              "      <td>31</td>\n",
              "      <td>2018-12-31</td>\n",
              "      <td>10:44:40</td>\n",
              "      <td>2018-12-31T10:44:40</td>\n",
              "      <td>1546214400</td>\n",
              "    </tr>\n",
              "  </tbody>\n",
              "</table>\n",
              "<p>1056320 rows × 16 columns</p>\n",
              "</div>"
            ],
            "text/plain": [
              "          trans_id account_id  ...     fulldatewithtime   timestamp\n",
              "1        T00695247  A00002378  ...  2013-01-01T11:02:40  1356998400\n",
              "2        T00171812  A00000576  ...  2013-01-01T08:23:33  1356998400\n",
              "3        T00207264  A00000704  ...  2013-01-01T15:19:21  1356998400\n",
              "4        T01117247  A00003818  ...  2013-01-01T10:42:35  1356998400\n",
              "5        T00579373  A00001972  ...  2013-01-02T11:39:25  1357084800\n",
              "...            ...        ...  ...                  ...         ...\n",
              "1056316  T03626622  A00002906  ...  2018-12-31T15:18:14  1546214400\n",
              "1056317  T03627616  A00002935  ...  2018-12-31T13:04:60  1546214400\n",
              "1056318  T03625403  A00002869  ...  2018-12-31T08:30:13  1546214400\n",
              "1056319  T03626683  A00002907  ...  2018-12-31T14:45:19  1546214400\n",
              "1056320  T03626540  A00002902  ...  2018-12-31T10:44:40  1546214400\n",
              "\n",
              "[1056320 rows x 16 columns]"
            ]
          },
          "metadata": {
            "tags": []
          },
          "execution_count": 56
        }
      ]
    },
    {
      "cell_type": "code",
      "metadata": {
        "id": "EOvptEUTqKVU"
      },
      "source": [
        "df_sorted = df_trans.sort_values('fulldate')\n",
        "df = df_sorted.groupby(['account_id'])"
      ],
      "execution_count": null,
      "outputs": []
    },
    {
      "cell_type": "code",
      "metadata": {
        "colab": {
          "base_uri": "https://localhost:8080/"
        },
        "id": "EqnzWoVmVxon",
        "outputId": "c9b65469-2287-4039-8b23-28ab0b9a2024"
      },
      "source": [
        "len(df.groups)"
      ],
      "execution_count": null,
      "outputs": [
        {
          "output_type": "execute_result",
          "data": {
            "text/plain": [
              "4500"
            ]
          },
          "metadata": {
            "tags": []
          },
          "execution_count": 66
        }
      ]
    },
    {
      "cell_type": "code",
      "metadata": {
        "id": "XCmMLHpMTx0P"
      },
      "source": [
        "my_list=[list(df_trans.iloc[x][['amount','timestamp']])  for x in df.groups['A00000001']]"
      ],
      "execution_count": null,
      "outputs": []
    },
    {
      "cell_type": "code",
      "metadata": {
        "colab": {
          "base_uri": "https://localhost:8080/",
          "height": 36
        },
        "id": "7Dni0YtFZ-o-",
        "outputId": "df948038-dda8-4b60-c903-aeed8d55fb6e"
      },
      "source": [
        "a=list(df.groups.keys())\n",
        "a[2761]"
      ],
      "execution_count": null,
      "outputs": [
        {
          "output_type": "execute_result",
          "data": {
            "application/vnd.google.colaboratory.intrinsic+json": {
              "type": "string"
            },
            "text/plain": [
              "'A00002902'"
            ]
          },
          "metadata": {
            "tags": []
          },
          "execution_count": 75
        }
      ]
    },
    {
      "cell_type": "code",
      "metadata": {
        "colab": {
          "base_uri": "https://localhost:8080/",
          "height": 310
        },
        "id": "goOSxs1vaVuf",
        "outputId": "b916f488-070b-4f90-d847-3dab432cb09a"
      },
      "source": [
        "[list(df_trans.iloc[x][['amount','timestamp']])  for x in df.groups['A00002902']]"
      ],
      "execution_count": null,
      "outputs": [
        {
          "output_type": "error",
          "ename": "IndexError",
          "evalue": "ignored",
          "traceback": [
            "\u001b[0;31m---------------------------------------------------------------------------\u001b[0m",
            "\u001b[0;31mIndexError\u001b[0m                                Traceback (most recent call last)",
            "\u001b[0;32m<ipython-input-76-02822d48817d>\u001b[0m in \u001b[0;36m<module>\u001b[0;34m()\u001b[0m\n\u001b[0;32m----> 1\u001b[0;31m \u001b[0;34m[\u001b[0m\u001b[0mlist\u001b[0m\u001b[0;34m(\u001b[0m\u001b[0mdf_trans\u001b[0m\u001b[0;34m.\u001b[0m\u001b[0miloc\u001b[0m\u001b[0;34m[\u001b[0m\u001b[0mx\u001b[0m\u001b[0;34m]\u001b[0m\u001b[0;34m[\u001b[0m\u001b[0;34m[\u001b[0m\u001b[0;34m'amount'\u001b[0m\u001b[0;34m,\u001b[0m\u001b[0;34m'timestamp'\u001b[0m\u001b[0;34m]\u001b[0m\u001b[0;34m]\u001b[0m\u001b[0;34m)\u001b[0m  \u001b[0;32mfor\u001b[0m \u001b[0mx\u001b[0m \u001b[0;32min\u001b[0m \u001b[0mdf\u001b[0m\u001b[0;34m.\u001b[0m\u001b[0mgroups\u001b[0m\u001b[0;34m[\u001b[0m\u001b[0;34m'A00002902'\u001b[0m\u001b[0;34m]\u001b[0m\u001b[0;34m]\u001b[0m\u001b[0;34m\u001b[0m\u001b[0;34m\u001b[0m\u001b[0m\n\u001b[0m",
            "\u001b[0;32m<ipython-input-76-02822d48817d>\u001b[0m in \u001b[0;36m<listcomp>\u001b[0;34m(.0)\u001b[0m\n\u001b[0;32m----> 1\u001b[0;31m \u001b[0;34m[\u001b[0m\u001b[0mlist\u001b[0m\u001b[0;34m(\u001b[0m\u001b[0mdf_trans\u001b[0m\u001b[0;34m.\u001b[0m\u001b[0miloc\u001b[0m\u001b[0;34m[\u001b[0m\u001b[0mx\u001b[0m\u001b[0;34m]\u001b[0m\u001b[0;34m[\u001b[0m\u001b[0;34m[\u001b[0m\u001b[0;34m'amount'\u001b[0m\u001b[0;34m,\u001b[0m\u001b[0;34m'timestamp'\u001b[0m\u001b[0;34m]\u001b[0m\u001b[0;34m]\u001b[0m\u001b[0;34m)\u001b[0m  \u001b[0;32mfor\u001b[0m \u001b[0mx\u001b[0m \u001b[0;32min\u001b[0m \u001b[0mdf\u001b[0m\u001b[0;34m.\u001b[0m\u001b[0mgroups\u001b[0m\u001b[0;34m[\u001b[0m\u001b[0;34m'A00002902'\u001b[0m\u001b[0;34m]\u001b[0m\u001b[0;34m]\u001b[0m\u001b[0;34m\u001b[0m\u001b[0;34m\u001b[0m\u001b[0m\n\u001b[0m",
            "\u001b[0;32m/usr/local/lib/python3.6/dist-packages/pandas/core/indexing.py\u001b[0m in \u001b[0;36m__getitem__\u001b[0;34m(self, key)\u001b[0m\n\u001b[1;32m    877\u001b[0m \u001b[0;34m\u001b[0m\u001b[0m\n\u001b[1;32m    878\u001b[0m             \u001b[0mmaybe_callable\u001b[0m \u001b[0;34m=\u001b[0m \u001b[0mcom\u001b[0m\u001b[0;34m.\u001b[0m\u001b[0mapply_if_callable\u001b[0m\u001b[0;34m(\u001b[0m\u001b[0mkey\u001b[0m\u001b[0;34m,\u001b[0m \u001b[0mself\u001b[0m\u001b[0;34m.\u001b[0m\u001b[0mobj\u001b[0m\u001b[0;34m)\u001b[0m\u001b[0;34m\u001b[0m\u001b[0;34m\u001b[0m\u001b[0m\n\u001b[0;32m--> 879\u001b[0;31m             \u001b[0;32mreturn\u001b[0m \u001b[0mself\u001b[0m\u001b[0;34m.\u001b[0m\u001b[0m_getitem_axis\u001b[0m\u001b[0;34m(\u001b[0m\u001b[0mmaybe_callable\u001b[0m\u001b[0;34m,\u001b[0m \u001b[0maxis\u001b[0m\u001b[0;34m=\u001b[0m\u001b[0maxis\u001b[0m\u001b[0;34m)\u001b[0m\u001b[0;34m\u001b[0m\u001b[0;34m\u001b[0m\u001b[0m\n\u001b[0m\u001b[1;32m    880\u001b[0m \u001b[0;34m\u001b[0m\u001b[0m\n\u001b[1;32m    881\u001b[0m     \u001b[0;32mdef\u001b[0m \u001b[0m_is_scalar_access\u001b[0m\u001b[0;34m(\u001b[0m\u001b[0mself\u001b[0m\u001b[0;34m,\u001b[0m \u001b[0mkey\u001b[0m\u001b[0;34m:\u001b[0m \u001b[0mTuple\u001b[0m\u001b[0;34m)\u001b[0m\u001b[0;34m:\u001b[0m\u001b[0;34m\u001b[0m\u001b[0;34m\u001b[0m\u001b[0m\n",
            "\u001b[0;32m/usr/local/lib/python3.6/dist-packages/pandas/core/indexing.py\u001b[0m in \u001b[0;36m_getitem_axis\u001b[0;34m(self, key, axis)\u001b[0m\n\u001b[1;32m   1494\u001b[0m \u001b[0;34m\u001b[0m\u001b[0m\n\u001b[1;32m   1495\u001b[0m             \u001b[0;31m# validate the location\u001b[0m\u001b[0;34m\u001b[0m\u001b[0;34m\u001b[0m\u001b[0;34m\u001b[0m\u001b[0m\n\u001b[0;32m-> 1496\u001b[0;31m             \u001b[0mself\u001b[0m\u001b[0;34m.\u001b[0m\u001b[0m_validate_integer\u001b[0m\u001b[0;34m(\u001b[0m\u001b[0mkey\u001b[0m\u001b[0;34m,\u001b[0m \u001b[0maxis\u001b[0m\u001b[0;34m)\u001b[0m\u001b[0;34m\u001b[0m\u001b[0;34m\u001b[0m\u001b[0m\n\u001b[0m\u001b[1;32m   1497\u001b[0m \u001b[0;34m\u001b[0m\u001b[0m\n\u001b[1;32m   1498\u001b[0m             \u001b[0;32mreturn\u001b[0m \u001b[0mself\u001b[0m\u001b[0;34m.\u001b[0m\u001b[0mobj\u001b[0m\u001b[0;34m.\u001b[0m\u001b[0m_ixs\u001b[0m\u001b[0;34m(\u001b[0m\u001b[0mkey\u001b[0m\u001b[0;34m,\u001b[0m \u001b[0maxis\u001b[0m\u001b[0;34m=\u001b[0m\u001b[0maxis\u001b[0m\u001b[0;34m)\u001b[0m\u001b[0;34m\u001b[0m\u001b[0;34m\u001b[0m\u001b[0m\n",
            "\u001b[0;32m/usr/local/lib/python3.6/dist-packages/pandas/core/indexing.py\u001b[0m in \u001b[0;36m_validate_integer\u001b[0;34m(self, key, axis)\u001b[0m\n\u001b[1;32m   1435\u001b[0m         \u001b[0mlen_axis\u001b[0m \u001b[0;34m=\u001b[0m \u001b[0mlen\u001b[0m\u001b[0;34m(\u001b[0m\u001b[0mself\u001b[0m\u001b[0;34m.\u001b[0m\u001b[0mobj\u001b[0m\u001b[0;34m.\u001b[0m\u001b[0m_get_axis\u001b[0m\u001b[0;34m(\u001b[0m\u001b[0maxis\u001b[0m\u001b[0;34m)\u001b[0m\u001b[0;34m)\u001b[0m\u001b[0;34m\u001b[0m\u001b[0;34m\u001b[0m\u001b[0m\n\u001b[1;32m   1436\u001b[0m         \u001b[0;32mif\u001b[0m \u001b[0mkey\u001b[0m \u001b[0;34m>=\u001b[0m \u001b[0mlen_axis\u001b[0m \u001b[0;32mor\u001b[0m \u001b[0mkey\u001b[0m \u001b[0;34m<\u001b[0m \u001b[0;34m-\u001b[0m\u001b[0mlen_axis\u001b[0m\u001b[0;34m:\u001b[0m\u001b[0;34m\u001b[0m\u001b[0;34m\u001b[0m\u001b[0m\n\u001b[0;32m-> 1437\u001b[0;31m             \u001b[0;32mraise\u001b[0m \u001b[0mIndexError\u001b[0m\u001b[0;34m(\u001b[0m\u001b[0;34m\"single positional indexer is out-of-bounds\"\u001b[0m\u001b[0;34m)\u001b[0m\u001b[0;34m\u001b[0m\u001b[0;34m\u001b[0m\u001b[0m\n\u001b[0m\u001b[1;32m   1438\u001b[0m \u001b[0;34m\u001b[0m\u001b[0m\n\u001b[1;32m   1439\u001b[0m     \u001b[0;31m# -------------------------------------------------------------------\u001b[0m\u001b[0;34m\u001b[0m\u001b[0;34m\u001b[0m\u001b[0;34m\u001b[0m\u001b[0m\n",
            "\u001b[0;31mIndexError\u001b[0m: single positional indexer is out-of-bounds"
          ]
        }
      ]
    },
    {
      "cell_type": "code",
      "metadata": {
        "colab": {
          "base_uri": "https://localhost:8080/",
          "height": 118
        },
        "id": "qmqS4Tfaav0t",
        "outputId": "7f02b25a-f477-46ae-8f6e-4709c4e1b2b0"
      },
      "source": [
        "x=df.groups['A00002902'][-1]\n",
        "\n",
        "df_trans.loc[[x]]\n",
        "# df_trans.iloc[x][['amount','timestamp']]"
      ],
      "execution_count": null,
      "outputs": [
        {
          "output_type": "execute_result",
          "data": {
            "text/html": [
              "<div>\n",
              "<style scoped>\n",
              "    .dataframe tbody tr th:only-of-type {\n",
              "        vertical-align: middle;\n",
              "    }\n",
              "\n",
              "    .dataframe tbody tr th {\n",
              "        vertical-align: top;\n",
              "    }\n",
              "\n",
              "    .dataframe thead th {\n",
              "        text-align: right;\n",
              "    }\n",
              "</style>\n",
              "<table border=\"1\" class=\"dataframe\">\n",
              "  <thead>\n",
              "    <tr style=\"text-align: right;\">\n",
              "      <th></th>\n",
              "      <th>trans_id</th>\n",
              "      <th>account_id</th>\n",
              "      <th>type</th>\n",
              "      <th>operation</th>\n",
              "      <th>amount</th>\n",
              "      <th>balance</th>\n",
              "      <th>k_symbol</th>\n",
              "      <th>bank</th>\n",
              "      <th>account</th>\n",
              "      <th>year</th>\n",
              "      <th>month</th>\n",
              "      <th>day</th>\n",
              "      <th>fulldate</th>\n",
              "      <th>fulltime</th>\n",
              "      <th>fulldatewithtime</th>\n",
              "      <th>timestamp</th>\n",
              "    </tr>\n",
              "  </thead>\n",
              "  <tbody>\n",
              "    <tr>\n",
              "      <th>1056320</th>\n",
              "      <td>T03626540</td>\n",
              "      <td>A00002902</td>\n",
              "      <td>Credit</td>\n",
              "      <td>NaN</td>\n",
              "      <td>164.1</td>\n",
              "      <td>41642.9</td>\n",
              "      <td>Interest Credited</td>\n",
              "      <td>NaN</td>\n",
              "      <td>NaN</td>\n",
              "      <td>2018</td>\n",
              "      <td>12</td>\n",
              "      <td>31</td>\n",
              "      <td>2018-12-31</td>\n",
              "      <td>10:44:40</td>\n",
              "      <td>2018-12-31T10:44:40</td>\n",
              "      <td>1546214400</td>\n",
              "    </tr>\n",
              "  </tbody>\n",
              "</table>\n",
              "</div>"
            ],
            "text/plain": [
              "          trans_id account_id  ...     fulldatewithtime   timestamp\n",
              "1056320  T03626540  A00002902  ...  2018-12-31T10:44:40  1546214400\n",
              "\n",
              "[1 rows x 16 columns]"
            ]
          },
          "metadata": {
            "tags": []
          },
          "execution_count": 90
        }
      ]
    },
    {
      "cell_type": "code",
      "metadata": {
        "colab": {
          "base_uri": "https://localhost:8080/"
        },
        "id": "z9U9e01BUsbc",
        "outputId": "18922ba5-f071-4fe4-e68e-dcfd1ceba95e"
      },
      "source": [
        "np.array(my_list)"
      ],
      "execution_count": null,
      "outputs": [
        {
          "output_type": "execute_result",
          "data": {
            "text/plain": [
              "(239, 2)"
            ]
          },
          "metadata": {
            "tags": []
          },
          "execution_count": 63
        }
      ]
    },
    {
      "cell_type": "code",
      "metadata": {
        "colab": {
          "background_save": true,
          "base_uri": "https://localhost:8080/",
          "height": 101,
          "referenced_widgets": [
            "9f7ab74da20e4bcf9f99ae552980ef86",
            "77eb4bd86c3447f3ad4e33a17e445cae",
            "4d4075199ae4427bb72734a4555b40f9",
            "a8db9b81340a4ad2b674dc3f019a886d",
            "1a0ad296fca84bf98b4c7456decd8bc0",
            "c9d37d5e5e38427097d7f87c20fad771",
            "2ab877f5bc41417fba9115bdd3ce9a54",
            "0ca235748a9c4847a8b6314f48d0eeb4"
          ]
        },
        "id": "2ezTjJnYV77Y",
        "outputId": "36d7295e-8a09-441f-a902-d14ee5317bd9"
      },
      "source": [
        "from tqdm import tqdm_notebook\n",
        "all_trans=[]\n",
        "for k in tqdm_notebook(df.groups.keys()):\n",
        "  my_list=[list(df_trans.loc[x][['amount','timestamp']])  for x in df.groups[k]]\n",
        "  all_trans.append(my_list)\n",
        "# all_trans= np.array(all_trans)"
      ],
      "execution_count": null,
      "outputs": [
        {
          "output_type": "stream",
          "text": [
            "/usr/local/lib/python3.6/dist-packages/ipykernel_launcher.py:3: TqdmDeprecationWarning: This function will be removed in tqdm==5.0.0\n",
            "Please use `tqdm.notebook.tqdm` instead of `tqdm.tqdm_notebook`\n",
            "  This is separate from the ipykernel package so we can avoid doing imports until\n"
          ],
          "name": "stderr"
        },
        {
          "output_type": "display_data",
          "data": {
            "application/vnd.jupyter.widget-view+json": {
              "model_id": "9f7ab74da20e4bcf9f99ae552980ef86",
              "version_major": 2,
              "version_minor": 0
            },
            "text/plain": [
              "HBox(children=(FloatProgress(value=0.0, max=4500.0), HTML(value='')))"
            ]
          },
          "metadata": {
            "tags": []
          }
        },
        {
          "output_type": "stream",
          "text": [
            "\n"
          ],
          "name": "stdout"
        }
      ]
    },
    {
      "cell_type": "code",
      "metadata": {
        "id": "g0dW6kucdqj0",
        "colab": {
          "base_uri": "https://localhost:8080/",
          "height": 165
        },
        "outputId": "fa0b5949-4690-488b-a80f-133bab8de98d"
      },
      "source": [
        "my_list.shape"
      ],
      "execution_count": 97,
      "outputs": [
        {
          "output_type": "error",
          "ename": "AttributeError",
          "evalue": "ignored",
          "traceback": [
            "\u001b[0;31m---------------------------------------------------------------------------\u001b[0m",
            "\u001b[0;31mAttributeError\u001b[0m                            Traceback (most recent call last)",
            "\u001b[0;32m<ipython-input-97-f5a9514c5b7a>\u001b[0m in \u001b[0;36m<module>\u001b[0;34m()\u001b[0m\n\u001b[0;32m----> 1\u001b[0;31m \u001b[0mmy_list\u001b[0m\u001b[0;34m.\u001b[0m\u001b[0mshape\u001b[0m\u001b[0;34m\u001b[0m\u001b[0;34m\u001b[0m\u001b[0m\n\u001b[0m",
            "\u001b[0;31mAttributeError\u001b[0m: 'list' object has no attribute 'shape'"
          ]
        }
      ]
    },
    {
      "cell_type": "code",
      "metadata": {
        "colab": {
          "base_uri": "https://localhost:8080/"
        },
        "id": "egUw6GyuILE_",
        "outputId": "35336a64-207c-4b38-feed-7d95367d0322"
      },
      "source": [
        "print(\"mean of transactions count per user: \",df.size().mean())\n",
        "print(\"max of transactions count per user: \",df.size().max())"
      ],
      "execution_count": null,
      "outputs": [
        {
          "output_type": "stream",
          "text": [
            "mean of transactions count per user:  3.597122302158273\n",
            "max of transactions count per user:  18\n"
          ],
          "name": "stdout"
        }
      ]
    },
    {
      "cell_type": "code",
      "metadata": {
        "id": "nC4tNUwpFUEO"
      },
      "source": [
        "series=[(v.amount,v.timestamp) for k, v in df]"
      ],
      "execution_count": null,
      "outputs": []
    },
    {
      "cell_type": "code",
      "metadata": {
        "colab": {
          "base_uri": "https://localhost:8080/",
          "height": 165
        },
        "id": "5aWHaQ9pTpAU",
        "outputId": "34d10978-7be4-4087-953f-4a7e278f222a"
      },
      "source": [
        "series"
      ],
      "execution_count": null,
      "outputs": [
        {
          "output_type": "error",
          "ename": "NameError",
          "evalue": "ignored",
          "traceback": [
            "\u001b[0;31m---------------------------------------------------------------------------\u001b[0m",
            "\u001b[0;31mNameError\u001b[0m                                 Traceback (most recent call last)",
            "\u001b[0;32m<ipython-input-43-2859777d6f2b>\u001b[0m in \u001b[0;36m<module>\u001b[0;34m()\u001b[0m\n\u001b[0;32m----> 1\u001b[0;31m \u001b[0mseries\u001b[0m\u001b[0;34m\u001b[0m\u001b[0;34m\u001b[0m\u001b[0m\n\u001b[0m",
            "\u001b[0;31mNameError\u001b[0m: name 'series' is not defined"
          ]
        }
      ]
    },
    {
      "cell_type": "code",
      "metadata": {
        "colab": {
          "base_uri": "https://localhost:8080/"
        },
        "id": "FM8Cr7XxVbOI",
        "outputId": "6d2b89f0-3315-4401-897f-9c2a35903b5a"
      },
      "source": [
        "X= [Sequence_input, Satatic_input, Sequence_output_input]"
      ],
      "execution_count": null,
      "outputs": [
        {
          "output_type": "execute_result",
          "data": {
            "text/plain": [
              "<pandas.core.groupby.generic.DataFrameGroupBy object at 0x7f28ad3ea1d0>"
            ]
          },
          "metadata": {
            "tags": []
          },
          "execution_count": 19
        }
      ]
    },
    {
      "cell_type": "code",
      "metadata": {
        "colab": {
          "base_uri": "https://localhost:8080/"
        },
        "id": "-xUcfPfi9GN0",
        "outputId": "fc2fcea0-4a1e-4d20-aca5-ad74ef9f7499"
      },
      "source": [
        "x = Input(shape=(None,2))\n",
        "x"
      ],
      "execution_count": null,
      "outputs": [
        {
          "output_type": "execute_result",
          "data": {
            "text/plain": [
              "<KerasTensor: shape=(None, None, 2) dtype=float32 (created by layer 'input_3')>"
            ]
          },
          "metadata": {
            "tags": []
          },
          "execution_count": 14
        }
      ]
    },
    {
      "cell_type": "code",
      "metadata": {
        "id": "fyguLBlJHKke"
      },
      "source": [
        "random_account_ids=df_completedtrans.sample(n=5)['account_id']"
      ],
      "execution_count": null,
      "outputs": []
    },
    {
      "cell_type": "code",
      "metadata": {
        "id": "Bru3Ew-aHKZE"
      },
      "source": [
        "df = df_completedtrans[df_completedtrans['account_id'].isin(random_account_ids)]"
      ],
      "execution_count": null,
      "outputs": []
    },
    {
      "cell_type": "code",
      "metadata": {
        "id": "_VIjDzP9I1TF"
      },
      "source": [
        "sample_inputs = [Sequence_input, Satatic_input, Sequence_output_input]"
      ],
      "execution_count": null,
      "outputs": []
    },
    {
      "cell_type": "code",
      "metadata": {
        "colab": {
          "base_uri": "https://localhost:8080/",
          "height": 704
        },
        "id": "N96g327WUURV",
        "outputId": "0389f653-7d20-4ebd-aeb9-3f8331ac4f0b"
      },
      "source": [
        "df_completedclient.sort_values('client_id')"
      ],
      "execution_count": null,
      "outputs": [
        {
          "output_type": "execute_result",
          "data": {
            "text/html": [
              "<div>\n",
              "<style scoped>\n",
              "    .dataframe tbody tr th:only-of-type {\n",
              "        vertical-align: middle;\n",
              "    }\n",
              "\n",
              "    .dataframe tbody tr th {\n",
              "        vertical-align: top;\n",
              "    }\n",
              "\n",
              "    .dataframe thead th {\n",
              "        text-align: right;\n",
              "    }\n",
              "</style>\n",
              "<table border=\"1\" class=\"dataframe\">\n",
              "  <thead>\n",
              "    <tr style=\"text-align: right;\">\n",
              "      <th></th>\n",
              "      <th>client_id</th>\n",
              "      <th>sex</th>\n",
              "      <th>fulldate</th>\n",
              "      <th>day</th>\n",
              "      <th>month</th>\n",
              "      <th>year</th>\n",
              "      <th>age</th>\n",
              "      <th>social</th>\n",
              "      <th>first</th>\n",
              "      <th>middle</th>\n",
              "      <th>last</th>\n",
              "      <th>phone</th>\n",
              "      <th>email</th>\n",
              "      <th>address_1</th>\n",
              "      <th>address_2</th>\n",
              "      <th>city</th>\n",
              "      <th>state</th>\n",
              "      <th>zipcode</th>\n",
              "      <th>district_id</th>\n",
              "    </tr>\n",
              "  </thead>\n",
              "  <tbody>\n",
              "    <tr>\n",
              "      <th>0</th>\n",
              "      <td>C00000001</td>\n",
              "      <td>Female</td>\n",
              "      <td>1990-12-13</td>\n",
              "      <td>13</td>\n",
              "      <td>12</td>\n",
              "      <td>1990</td>\n",
              "      <td>29</td>\n",
              "      <td>926-93-2157</td>\n",
              "      <td>Emma</td>\n",
              "      <td>Avaya</td>\n",
              "      <td>Smith</td>\n",
              "      <td>367-171-6840</td>\n",
              "      <td>emma.smith@gmail.com</td>\n",
              "      <td>387 Wellington Ave.</td>\n",
              "      <td>Unit 1</td>\n",
              "      <td>Albuquerque</td>\n",
              "      <td>NM</td>\n",
              "      <td>47246</td>\n",
              "      <td>18</td>\n",
              "    </tr>\n",
              "    <tr>\n",
              "      <th>1</th>\n",
              "      <td>C00000002</td>\n",
              "      <td>Male</td>\n",
              "      <td>1965-02-04</td>\n",
              "      <td>4</td>\n",
              "      <td>2</td>\n",
              "      <td>1965</td>\n",
              "      <td>54</td>\n",
              "      <td>806-94-5725</td>\n",
              "      <td>Noah</td>\n",
              "      <td>Everest</td>\n",
              "      <td>Thompson</td>\n",
              "      <td>212-423-7734</td>\n",
              "      <td>noah.thompson@gmail.com</td>\n",
              "      <td>75 W. Berkshire St.</td>\n",
              "      <td>NaN</td>\n",
              "      <td>New York City</td>\n",
              "      <td>NY</td>\n",
              "      <td>10040</td>\n",
              "      <td>1</td>\n",
              "    </tr>\n",
              "    <tr>\n",
              "      <th>2</th>\n",
              "      <td>C00000003</td>\n",
              "      <td>Female</td>\n",
              "      <td>1960-10-09</td>\n",
              "      <td>9</td>\n",
              "      <td>10</td>\n",
              "      <td>1960</td>\n",
              "      <td>59</td>\n",
              "      <td>614-70-9100</td>\n",
              "      <td>Olivia</td>\n",
              "      <td>Brooklynne</td>\n",
              "      <td>Johnson</td>\n",
              "      <td>212-425-6932</td>\n",
              "      <td>olivia.johnson@outlook.com</td>\n",
              "      <td>36 Second St.</td>\n",
              "      <td>NaN</td>\n",
              "      <td>New York City</td>\n",
              "      <td>NY</td>\n",
              "      <td>10162</td>\n",
              "      <td>1</td>\n",
              "    </tr>\n",
              "    <tr>\n",
              "      <th>3</th>\n",
              "      <td>C00000004</td>\n",
              "      <td>Male</td>\n",
              "      <td>1976-12-01</td>\n",
              "      <td>1</td>\n",
              "      <td>12</td>\n",
              "      <td>1976</td>\n",
              "      <td>43</td>\n",
              "      <td>580-20-3414</td>\n",
              "      <td>Liam</td>\n",
              "      <td>Irvin</td>\n",
              "      <td>White</td>\n",
              "      <td>951-567-8925</td>\n",
              "      <td>liam.white@gmail.com</td>\n",
              "      <td>7607 Sunnyslope Street</td>\n",
              "      <td>NaN</td>\n",
              "      <td>Indianapolis</td>\n",
              "      <td>IN</td>\n",
              "      <td>49047</td>\n",
              "      <td>5</td>\n",
              "    </tr>\n",
              "    <tr>\n",
              "      <th>4</th>\n",
              "      <td>C00000005</td>\n",
              "      <td>Female</td>\n",
              "      <td>1980-07-03</td>\n",
              "      <td>3</td>\n",
              "      <td>7</td>\n",
              "      <td>1980</td>\n",
              "      <td>39</td>\n",
              "      <td>536-14-5809</td>\n",
              "      <td>Sophia</td>\n",
              "      <td>Danae</td>\n",
              "      <td>Williams</td>\n",
              "      <td>428-265-1568</td>\n",
              "      <td>sophia.williams@gmail.com</td>\n",
              "      <td>755 Galvin Street</td>\n",
              "      <td>NaN</td>\n",
              "      <td>Indianapolis</td>\n",
              "      <td>IN</td>\n",
              "      <td>40852</td>\n",
              "      <td>5</td>\n",
              "    </tr>\n",
              "    <tr>\n",
              "      <th>...</th>\n",
              "      <td>...</td>\n",
              "      <td>...</td>\n",
              "      <td>...</td>\n",
              "      <td>...</td>\n",
              "      <td>...</td>\n",
              "      <td>...</td>\n",
              "      <td>...</td>\n",
              "      <td>...</td>\n",
              "      <td>...</td>\n",
              "      <td>...</td>\n",
              "      <td>...</td>\n",
              "      <td>...</td>\n",
              "      <td>...</td>\n",
              "      <td>...</td>\n",
              "      <td>...</td>\n",
              "      <td>...</td>\n",
              "      <td>...</td>\n",
              "      <td>...</td>\n",
              "      <td>...</td>\n",
              "    </tr>\n",
              "    <tr>\n",
              "      <th>5364</th>\n",
              "      <td>C00013955</td>\n",
              "      <td>Female</td>\n",
              "      <td>1965-10-30</td>\n",
              "      <td>30</td>\n",
              "      <td>10</td>\n",
              "      <td>1965</td>\n",
              "      <td>54</td>\n",
              "      <td>830-38-3530</td>\n",
              "      <td>Adrianna</td>\n",
              "      <td>Jillian</td>\n",
              "      <td>Moore</td>\n",
              "      <td>212-205-7422</td>\n",
              "      <td>adrianna.moore@outlook.com</td>\n",
              "      <td>9405 SW. Leeton Ridge Drive</td>\n",
              "      <td>NaN</td>\n",
              "      <td>New York City</td>\n",
              "      <td>NY</td>\n",
              "      <td>10121</td>\n",
              "      <td>1</td>\n",
              "    </tr>\n",
              "    <tr>\n",
              "      <th>5365</th>\n",
              "      <td>C00013956</td>\n",
              "      <td>Male</td>\n",
              "      <td>1963-04-06</td>\n",
              "      <td>6</td>\n",
              "      <td>4</td>\n",
              "      <td>1963</td>\n",
              "      <td>56</td>\n",
              "      <td>773-25-4409</td>\n",
              "      <td>Aaron</td>\n",
              "      <td>Roman</td>\n",
              "      <td>Park</td>\n",
              "      <td>212-645-8820</td>\n",
              "      <td>aaron.park@gmail.com</td>\n",
              "      <td>7021 Chapel Ave.</td>\n",
              "      <td>NaN</td>\n",
              "      <td>New York City</td>\n",
              "      <td>NY</td>\n",
              "      <td>10118</td>\n",
              "      <td>1</td>\n",
              "    </tr>\n",
              "    <tr>\n",
              "      <th>5366</th>\n",
              "      <td>C00013968</td>\n",
              "      <td>Male</td>\n",
              "      <td>1988-04-13</td>\n",
              "      <td>13</td>\n",
              "      <td>4</td>\n",
              "      <td>1988</td>\n",
              "      <td>31</td>\n",
              "      <td>227-17-0778</td>\n",
              "      <td>Eli</td>\n",
              "      <td>Leonardo</td>\n",
              "      <td>Warner</td>\n",
              "      <td>508-465-5164</td>\n",
              "      <td>eli.warner@hotmail.com</td>\n",
              "      <td>43 Edgemont Dr.</td>\n",
              "      <td>NaN</td>\n",
              "      <td>Fall River</td>\n",
              "      <td>MA</td>\n",
              "      <td>2721</td>\n",
              "      <td>61</td>\n",
              "    </tr>\n",
              "    <tr>\n",
              "      <th>5367</th>\n",
              "      <td>C00013971</td>\n",
              "      <td>Female</td>\n",
              "      <td>1982-10-19</td>\n",
              "      <td>19</td>\n",
              "      <td>10</td>\n",
              "      <td>1982</td>\n",
              "      <td>37</td>\n",
              "      <td>278-77-3298</td>\n",
              "      <td>Ruth</td>\n",
              "      <td>Joy</td>\n",
              "      <td>Martin</td>\n",
              "      <td>856-636-3840</td>\n",
              "      <td>ruth.martin@gmail.com</td>\n",
              "      <td>7087 E. Pennsylvania Street</td>\n",
              "      <td>Unit 8</td>\n",
              "      <td>Danbury</td>\n",
              "      <td>CT</td>\n",
              "      <td>48475</td>\n",
              "      <td>67</td>\n",
              "    </tr>\n",
              "    <tr>\n",
              "      <th>5368</th>\n",
              "      <td>C00013998</td>\n",
              "      <td>Female</td>\n",
              "      <td>1973-08-12</td>\n",
              "      <td>12</td>\n",
              "      <td>8</td>\n",
              "      <td>1973</td>\n",
              "      <td>46</td>\n",
              "      <td>266-21-2541</td>\n",
              "      <td>Miriam</td>\n",
              "      <td>Abby</td>\n",
              "      <td>Jackson</td>\n",
              "      <td>431-633-5403</td>\n",
              "      <td>miriam.jackson@gmail.com</td>\n",
              "      <td>29 Buckingham Rd.</td>\n",
              "      <td>NaN</td>\n",
              "      <td>Chicago</td>\n",
              "      <td>IL</td>\n",
              "      <td>44244</td>\n",
              "      <td>74</td>\n",
              "    </tr>\n",
              "  </tbody>\n",
              "</table>\n",
              "<p>5369 rows × 19 columns</p>\n",
              "</div>"
            ],
            "text/plain": [
              "      client_id     sex    fulldate  ...  state  zipcode  district_id\n",
              "0     C00000001  Female  1990-12-13  ...     NM    47246           18\n",
              "1     C00000002    Male  1965-02-04  ...     NY    10040            1\n",
              "2     C00000003  Female  1960-10-09  ...     NY    10162            1\n",
              "3     C00000004    Male  1976-12-01  ...     IN    49047            5\n",
              "4     C00000005  Female  1980-07-03  ...     IN    40852            5\n",
              "...         ...     ...         ...  ...    ...      ...          ...\n",
              "5364  C00013955  Female  1965-10-30  ...     NY    10121            1\n",
              "5365  C00013956    Male  1963-04-06  ...     NY    10118            1\n",
              "5366  C00013968    Male  1988-04-13  ...     MA     2721           61\n",
              "5367  C00013971  Female  1982-10-19  ...     CT    48475           67\n",
              "5368  C00013998  Female  1973-08-12  ...     IL    44244           74\n",
              "\n",
              "[5369 rows x 19 columns]"
            ]
          },
          "metadata": {
            "tags": []
          },
          "execution_count": 28
        }
      ]
    },
    {
      "cell_type": "code",
      "metadata": {
        "colab": {
          "base_uri": "https://localhost:8080/"
        },
        "id": "PN87EyuVT3ja",
        "outputId": "43d0f77c-f3cf-42ea-ddeb-b446f4e81695"
      },
      "source": [
        "df_completedclient[['sex','age','zipcode']].to_numpy()"
      ],
      "execution_count": null,
      "outputs": [
        {
          "output_type": "execute_result",
          "data": {
            "text/plain": [
              "array([['Female', 29, 47246],\n",
              "       ['Male', 54, 10040],\n",
              "       ['Female', 59, 10162],\n",
              "       ...,\n",
              "       ['Male', 31, 2721],\n",
              "       ['Female', 37, 48475],\n",
              "       ['Female', 46, 44244]], dtype=object)"
            ]
          },
          "metadata": {
            "tags": []
          },
          "execution_count": 27
        }
      ]
    },
    {
      "cell_type": "code",
      "metadata": {
        "id": "Agd1RMKUI1Qg"
      },
      "source": [
        "Sequence_input =\n",
        "[\n",
        "  [-1,-1],[1,2],[3,4],[-2,-2]\n",
        "],[\n",
        "  [-1,-1],[13,4],[23,5],[-2,-2]\n",
        "]"
      ],
      "execution_count": null,
      "outputs": []
    },
    {
      "cell_type": "code",
      "metadata": {
        "id": "rs-Gm4LEkQhv"
      },
      "source": [
        "Satatic_input = [\n",
        "                 [1,2,4],\n",
        "                 [2,4,6],\n",
        "]"
      ],
      "execution_count": null,
      "outputs": []
    },
    {
      "cell_type": "code",
      "metadata": {
        "id": "qCgij0tqkXjK"
      },
      "source": [
        "Sequence_output_input=\n",
        "[\n",
        "  [-1,-1],[1,2],[3,4],[-2,-2]\n",
        "],[\n",
        "  [-1,-1],[13,4],[23,5],[-2,-2]\n",
        "]"
      ],
      "execution_count": null,
      "outputs": []
    },
    {
      "cell_type": "code",
      "metadata": {
        "id": "JpejHeO2I1Jk"
      },
      "source": [
        "Sequence_output=\n",
        "[\n",
        "  [1,2],[3,4],[-2,-2],[0,0]\n",
        "],[\n",
        "  [13,4],[23,5],[-2,-2],[0,0]\n",
        "]"
      ],
      "execution_count": null,
      "outputs": []
    },
    {
      "cell_type": "code",
      "metadata": {
        "id": "pvBlWYgaHKLU"
      },
      "source": [
        "model = Model(inputs = [Sequence_input, Satatic_input, Sequence_output_input],\n",
        "              outputs = [Sequence_output, static_output])"
      ],
      "execution_count": null,
      "outputs": []
    },
    {
      "cell_type": "code",
      "metadata": {
        "colab": {
          "base_uri": "https://localhost:8080/"
        },
        "id": "P4RybTHtn-ro",
        "outputId": "fe491b37-10e4-4eb5-9f8a-007061d4098b"
      },
      "source": [
        "latent_dim = 128\n",
        "num_static_features = 3\n",
        "\n",
        "###########################################  encoder  ###########################################\n",
        "\n",
        "#Sequence input shape is N*2 which N is sequence length and 2 is price and time\n",
        "Sequence_input = Input(name='Sequence_input', shape=(None, 2))\n",
        "\n",
        "#Static input shape is M which here is 'num_static_features'\n",
        "Satatic_input = Input(name='Satatic_input', shape=(num_static_features,))\n",
        "\n",
        "#Applying a dense layer to static input\n",
        "Satatic_dense = Dense(512, activation = 'elu')(Satatic_input)\n",
        "\n",
        "#Many_to_one_lstm\n",
        "_ , hidden_state, cell_state = LSTM(512, return_state=True,return_sequences=True)(Sequence_input) \n",
        "\n",
        "\n",
        "latent_space = Concatenate()([hidden_state,cell_state,Satatic_dense])\n",
        "#Layer below output can be used for clustering purposes\n",
        "latent_space = Dense(latent_dim, activation = 'elu')(latent_space)\n",
        "\n",
        "###########################################  decoder  ###########################################\n",
        "\n",
        "#Temporary input with a time step delay for producing sequence output\n",
        "#This input is exacly similar to Sequence_input with only this diffrence that has a time step delay\n",
        "Sequence_output_input = Input(name='Sequence_output_input', shape=(None, 2))\n",
        "\n",
        "#One to many GRU (because of its simplicity, we used GRU instead of LSTM)\n",
        "Sequence_output = GRU(latent_dim, return_sequences=True)(Sequence_output_input,\n",
        "                                                         initial_state = latent_space)\n",
        "\n",
        "#Sequence output\n",
        "Sequence_output = TimeDistributed(Dense(2, activation='sigmoid'))(Sequence_output)\n",
        "\n",
        "#Static output\n",
        "static_output = Dense(num_static_features, activation = 'sigmoid')(latent_space)\n",
        "\n",
        "#Model has three inputs and 2 outputs (last input is temorary)\n",
        "model = Model(inputs = [Sequence_input, Satatic_input, Sequence_output_input],\n",
        "              outputs = [Sequence_output, static_output])\n",
        "\n",
        "model.compile(\n",
        "    optimizer=\"rmsprop\", loss=[\"mse\", \"mse\"],\n",
        ")\n",
        "model.summary()"
      ],
      "execution_count": null,
      "outputs": [
        {
          "output_type": "stream",
          "text": [
            "Model: \"model\"\n",
            "__________________________________________________________________________________________________\n",
            "Layer (type)                    Output Shape         Param #     Connected to                     \n",
            "==================================================================================================\n",
            "Sequence_input (InputLayer)     [(None, None, 2)]    0                                            \n",
            "__________________________________________________________________________________________________\n",
            "Satatic_input (InputLayer)      [(None, 3)]          0                                            \n",
            "__________________________________________________________________________________________________\n",
            "lstm (LSTM)                     [(None, None, 512),  1054720     Sequence_input[0][0]             \n",
            "__________________________________________________________________________________________________\n",
            "dense (Dense)                   (None, 512)          2048        Satatic_input[0][0]              \n",
            "__________________________________________________________________________________________________\n",
            "concatenate (Concatenate)       (None, 1536)         0           lstm[0][1]                       \n",
            "                                                                 lstm[0][2]                       \n",
            "                                                                 dense[0][0]                      \n",
            "__________________________________________________________________________________________________\n",
            "Sequence_output_input (InputLay [(None, None, 2)]    0                                            \n",
            "__________________________________________________________________________________________________\n",
            "dense_1 (Dense)                 (None, 128)          196736      concatenate[0][0]                \n",
            "__________________________________________________________________________________________________\n",
            "gru (GRU)                       (None, None, 128)    50688       Sequence_output_input[0][0]      \n",
            "                                                                 dense_1[0][0]                    \n",
            "__________________________________________________________________________________________________\n",
            "time_distributed (TimeDistribut (None, None, 2)      258         gru[0][0]                        \n",
            "__________________________________________________________________________________________________\n",
            "dense_3 (Dense)                 (None, 3)            387         dense_1[0][0]                    \n",
            "==================================================================================================\n",
            "Total params: 1,304,837\n",
            "Trainable params: 1,304,837\n",
            "Non-trainable params: 0\n",
            "__________________________________________________________________________________________________\n"
          ],
          "name": "stdout"
        }
      ]
    },
    {
      "cell_type": "code",
      "metadata": {
        "colab": {
          "base_uri": "https://localhost:8080/",
          "height": 644
        },
        "id": "AuOs3OWArKsa",
        "outputId": "89948879-5aa7-4cd5-f716-b4c3727d475a"
      },
      "source": [
        "plot_model(model, to_file='model_plot.png', show_shapes=True, show_layer_names=True)"
      ],
      "execution_count": null,
      "outputs": [
        {
          "output_type": "execute_result",
          "data": {
            "image/png": "[encoded data removed]",
            "text/plain": [
              "<IPython.core.display.Image object>"
            ]
          },
          "metadata": {
            "tags": []
          },
          "execution_count": 16
        }
      ]
    },
    {
      "cell_type": "code",
      "metadata": {
        "id": "q1n9milvGn3e"
      },
      "source": [
        "# fit the keras model on the dataset\n",
        "model.fit(X, y, epochs=150, batch_size=10)"
      ],
      "execution_count": null,
      "outputs": []
    }
  ]
}